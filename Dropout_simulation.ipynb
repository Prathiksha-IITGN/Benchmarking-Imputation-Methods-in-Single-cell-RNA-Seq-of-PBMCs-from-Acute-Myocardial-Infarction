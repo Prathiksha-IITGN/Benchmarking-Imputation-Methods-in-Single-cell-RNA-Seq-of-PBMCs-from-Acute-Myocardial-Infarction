{
 "cells": [
  {
   "cell_type": "code",
   "execution_count": 1,
   "id": "cff8794d",
   "metadata": {},
   "outputs": [],
   "source": [
    "# Notebook 02: Dropout Simulation\n",
    "\n",
    "import scanpy as sc\n",
    "import numpy as np\n",
    "import pandas as pd\n",
    "import os\n",
    "\n"
   ]
  },
  {
   "cell_type": "code",
   "execution_count": 2,
   "id": "a33d5b62",
   "metadata": {},
   "outputs": [
    {
     "name": "stderr",
     "output_type": "stream",
     "text": [
      "c:\\Users\\prath\\anaconda-new\\Lib\\site-packages\\anndata\\_core\\anndata.py:1791: UserWarning: Observation names are not unique. To make them unique, call `.obs_names_make_unique`.\n",
      "  utils.warn_names_duplicates(\"obs\")\n",
      "c:\\Users\\prath\\anaconda-new\\Lib\\site-packages\\anndata\\_core\\anndata.py:1793: UserWarning: Variable names are not unique. To make them unique, call `.var_names_make_unique`.\n",
      "  utils.warn_names_duplicates(\"var\")\n"
     ]
    }
   ],
   "source": [
    "# -----------------------------\n",
    "# Load Ground Truth\n",
    "# -----------------------------\n",
    "adata = sc.read_h5ad('Data/adata_raw_qc.h5ad')"
   ]
  },
  {
   "cell_type": "code",
   "execution_count": 4,
   "id": "8f756297",
   "metadata": {},
   "outputs": [],
   "source": [
    "# -----------------------------\n",
    "# Function to Simulate Dropout\n",
    "# -----------------------------\n",
    "def simulate_dropout_sparse(X, missing_fraction):\n",
    "    X = X.astype(np.float32).copy()\n",
    "    mask = np.random.rand(*X.shape) < missing_fraction\n",
    "    X[mask] = 0\n",
    "    return sparse.csr_matrix(X)\n",
    "\n",
    "# -----------------------------\n",
    "# Dropout Fractions & Runs\n",
    "# -----------------------------\n",
    "missing_fractions = [0.1, 0.2, 0.3]\n",
    "n_runs = 10\n",
    "\n"
   ]
  },
  {
   "cell_type": "code",
   "execution_count": 4,
   "id": "189610e4",
   "metadata": {},
   "outputs": [
    {
     "name": "stderr",
     "output_type": "stream",
     "text": [
      "c:\\Users\\prath\\anaconda-new\\Lib\\site-packages\\anndata\\_core\\anndata.py:1791: UserWarning: Observation names are not unique. To make them unique, call `.obs_names_make_unique`.\n",
      "  utils.warn_names_duplicates(\"obs\")\n",
      "c:\\Users\\prath\\anaconda-new\\Lib\\site-packages\\anndata\\_core\\anndata.py:1793: UserWarning: Variable names are not unique. To make them unique, call `.var_names_make_unique`.\n",
      "  utils.warn_names_duplicates(\"var\")\n"
     ]
    },
    {
     "name": "stdout",
     "output_type": "stream",
     "text": [
      "\n",
      "Processing missing fraction: 0.1\n",
      "Saved: dropout_h5ad/adata_dropout_mf10_run1.h5ad\n",
      "Run 1 → True missing fraction applied: 0.1000\n"
     ]
    },
    {
     "name": "stderr",
     "output_type": "stream",
     "text": [
      "c:\\Users\\prath\\anaconda-new\\Lib\\site-packages\\anndata\\_core\\anndata.py:1791: UserWarning: Observation names are not unique. To make them unique, call `.obs_names_make_unique`.\n",
      "  utils.warn_names_duplicates(\"obs\")\n",
      "c:\\Users\\prath\\anaconda-new\\Lib\\site-packages\\anndata\\_core\\anndata.py:1793: UserWarning: Variable names are not unique. To make them unique, call `.var_names_make_unique`.\n",
      "  utils.warn_names_duplicates(\"var\")\n"
     ]
    },
    {
     "name": "stdout",
     "output_type": "stream",
     "text": [
      "Saved: dropout_h5ad/adata_dropout_mf10_run2.h5ad\n",
      "Run 2 → True missing fraction applied: 0.0997\n"
     ]
    },
    {
     "name": "stderr",
     "output_type": "stream",
     "text": [
      "c:\\Users\\prath\\anaconda-new\\Lib\\site-packages\\anndata\\_core\\anndata.py:1791: UserWarning: Observation names are not unique. To make them unique, call `.obs_names_make_unique`.\n",
      "  utils.warn_names_duplicates(\"obs\")\n",
      "c:\\Users\\prath\\anaconda-new\\Lib\\site-packages\\anndata\\_core\\anndata.py:1793: UserWarning: Variable names are not unique. To make them unique, call `.var_names_make_unique`.\n",
      "  utils.warn_names_duplicates(\"var\")\n"
     ]
    },
    {
     "name": "stdout",
     "output_type": "stream",
     "text": [
      "Saved: dropout_h5ad/adata_dropout_mf10_run3.h5ad\n",
      "Run 3 → True missing fraction applied: 0.1001\n"
     ]
    },
    {
     "name": "stderr",
     "output_type": "stream",
     "text": [
      "c:\\Users\\prath\\anaconda-new\\Lib\\site-packages\\anndata\\_core\\anndata.py:1791: UserWarning: Observation names are not unique. To make them unique, call `.obs_names_make_unique`.\n",
      "  utils.warn_names_duplicates(\"obs\")\n",
      "c:\\Users\\prath\\anaconda-new\\Lib\\site-packages\\anndata\\_core\\anndata.py:1793: UserWarning: Variable names are not unique. To make them unique, call `.var_names_make_unique`.\n",
      "  utils.warn_names_duplicates(\"var\")\n"
     ]
    },
    {
     "name": "stdout",
     "output_type": "stream",
     "text": [
      "Saved: dropout_h5ad/adata_dropout_mf10_run4.h5ad\n",
      "Run 4 → True missing fraction applied: 0.1001\n"
     ]
    },
    {
     "name": "stderr",
     "output_type": "stream",
     "text": [
      "c:\\Users\\prath\\anaconda-new\\Lib\\site-packages\\anndata\\_core\\anndata.py:1791: UserWarning: Observation names are not unique. To make them unique, call `.obs_names_make_unique`.\n",
      "  utils.warn_names_duplicates(\"obs\")\n",
      "c:\\Users\\prath\\anaconda-new\\Lib\\site-packages\\anndata\\_core\\anndata.py:1793: UserWarning: Variable names are not unique. To make them unique, call `.var_names_make_unique`.\n",
      "  utils.warn_names_duplicates(\"var\")\n"
     ]
    },
    {
     "name": "stdout",
     "output_type": "stream",
     "text": [
      "Saved: dropout_h5ad/adata_dropout_mf10_run5.h5ad\n",
      "Run 5 → True missing fraction applied: 0.0998\n"
     ]
    },
    {
     "name": "stderr",
     "output_type": "stream",
     "text": [
      "c:\\Users\\prath\\anaconda-new\\Lib\\site-packages\\anndata\\_core\\anndata.py:1791: UserWarning: Observation names are not unique. To make them unique, call `.obs_names_make_unique`.\n",
      "  utils.warn_names_duplicates(\"obs\")\n",
      "c:\\Users\\prath\\anaconda-new\\Lib\\site-packages\\anndata\\_core\\anndata.py:1793: UserWarning: Variable names are not unique. To make them unique, call `.var_names_make_unique`.\n",
      "  utils.warn_names_duplicates(\"var\")\n"
     ]
    },
    {
     "name": "stdout",
     "output_type": "stream",
     "text": [
      "Saved: dropout_h5ad/adata_dropout_mf10_run6.h5ad\n",
      "Run 6 → True missing fraction applied: 0.0995\n"
     ]
    },
    {
     "name": "stderr",
     "output_type": "stream",
     "text": [
      "c:\\Users\\prath\\anaconda-new\\Lib\\site-packages\\anndata\\_core\\anndata.py:1791: UserWarning: Observation names are not unique. To make them unique, call `.obs_names_make_unique`.\n",
      "  utils.warn_names_duplicates(\"obs\")\n",
      "c:\\Users\\prath\\anaconda-new\\Lib\\site-packages\\anndata\\_core\\anndata.py:1793: UserWarning: Variable names are not unique. To make them unique, call `.var_names_make_unique`.\n",
      "  utils.warn_names_duplicates(\"var\")\n"
     ]
    },
    {
     "name": "stdout",
     "output_type": "stream",
     "text": [
      "Saved: dropout_h5ad/adata_dropout_mf10_run7.h5ad\n",
      "Run 7 → True missing fraction applied: 0.1002\n"
     ]
    },
    {
     "name": "stderr",
     "output_type": "stream",
     "text": [
      "c:\\Users\\prath\\anaconda-new\\Lib\\site-packages\\anndata\\_core\\anndata.py:1791: UserWarning: Observation names are not unique. To make them unique, call `.obs_names_make_unique`.\n",
      "  utils.warn_names_duplicates(\"obs\")\n",
      "c:\\Users\\prath\\anaconda-new\\Lib\\site-packages\\anndata\\_core\\anndata.py:1793: UserWarning: Variable names are not unique. To make them unique, call `.var_names_make_unique`.\n",
      "  utils.warn_names_duplicates(\"var\")\n"
     ]
    },
    {
     "name": "stdout",
     "output_type": "stream",
     "text": [
      "Saved: dropout_h5ad/adata_dropout_mf10_run8.h5ad\n",
      "Run 8 → True missing fraction applied: 0.1004\n"
     ]
    },
    {
     "name": "stderr",
     "output_type": "stream",
     "text": [
      "c:\\Users\\prath\\anaconda-new\\Lib\\site-packages\\anndata\\_core\\anndata.py:1791: UserWarning: Observation names are not unique. To make them unique, call `.obs_names_make_unique`.\n",
      "  utils.warn_names_duplicates(\"obs\")\n",
      "c:\\Users\\prath\\anaconda-new\\Lib\\site-packages\\anndata\\_core\\anndata.py:1793: UserWarning: Variable names are not unique. To make them unique, call `.var_names_make_unique`.\n",
      "  utils.warn_names_duplicates(\"var\")\n"
     ]
    },
    {
     "name": "stdout",
     "output_type": "stream",
     "text": [
      "Saved: dropout_h5ad/adata_dropout_mf10_run9.h5ad\n",
      "Run 9 → True missing fraction applied: 0.0996\n"
     ]
    },
    {
     "name": "stderr",
     "output_type": "stream",
     "text": [
      "c:\\Users\\prath\\anaconda-new\\Lib\\site-packages\\anndata\\_core\\anndata.py:1791: UserWarning: Observation names are not unique. To make them unique, call `.obs_names_make_unique`.\n",
      "  utils.warn_names_duplicates(\"obs\")\n",
      "c:\\Users\\prath\\anaconda-new\\Lib\\site-packages\\anndata\\_core\\anndata.py:1793: UserWarning: Variable names are not unique. To make them unique, call `.var_names_make_unique`.\n",
      "  utils.warn_names_duplicates(\"var\")\n"
     ]
    },
    {
     "name": "stdout",
     "output_type": "stream",
     "text": [
      "Saved: dropout_h5ad/adata_dropout_mf10_run10.h5ad\n",
      "Run 10 → True missing fraction applied: 0.0997\n",
      "\n",
      "Processing missing fraction: 0.2\n"
     ]
    },
    {
     "name": "stderr",
     "output_type": "stream",
     "text": [
      "c:\\Users\\prath\\anaconda-new\\Lib\\site-packages\\anndata\\_core\\anndata.py:1791: UserWarning: Observation names are not unique. To make them unique, call `.obs_names_make_unique`.\n",
      "  utils.warn_names_duplicates(\"obs\")\n",
      "c:\\Users\\prath\\anaconda-new\\Lib\\site-packages\\anndata\\_core\\anndata.py:1793: UserWarning: Variable names are not unique. To make them unique, call `.var_names_make_unique`.\n",
      "  utils.warn_names_duplicates(\"var\")\n"
     ]
    },
    {
     "name": "stdout",
     "output_type": "stream",
     "text": [
      "Saved: dropout_h5ad/adata_dropout_mf20_run1.h5ad\n",
      "Run 1 → True missing fraction applied: 0.1998\n"
     ]
    },
    {
     "name": "stderr",
     "output_type": "stream",
     "text": [
      "c:\\Users\\prath\\anaconda-new\\Lib\\site-packages\\anndata\\_core\\anndata.py:1791: UserWarning: Observation names are not unique. To make them unique, call `.obs_names_make_unique`.\n",
      "  utils.warn_names_duplicates(\"obs\")\n",
      "c:\\Users\\prath\\anaconda-new\\Lib\\site-packages\\anndata\\_core\\anndata.py:1793: UserWarning: Variable names are not unique. To make them unique, call `.var_names_make_unique`.\n",
      "  utils.warn_names_duplicates(\"var\")\n"
     ]
    },
    {
     "name": "stdout",
     "output_type": "stream",
     "text": [
      "Saved: dropout_h5ad/adata_dropout_mf20_run2.h5ad\n",
      "Run 2 → True missing fraction applied: 0.1996\n"
     ]
    },
    {
     "name": "stderr",
     "output_type": "stream",
     "text": [
      "c:\\Users\\prath\\anaconda-new\\Lib\\site-packages\\anndata\\_core\\anndata.py:1791: UserWarning: Observation names are not unique. To make them unique, call `.obs_names_make_unique`.\n",
      "  utils.warn_names_duplicates(\"obs\")\n",
      "c:\\Users\\prath\\anaconda-new\\Lib\\site-packages\\anndata\\_core\\anndata.py:1793: UserWarning: Variable names are not unique. To make them unique, call `.var_names_make_unique`.\n",
      "  utils.warn_names_duplicates(\"var\")\n"
     ]
    },
    {
     "name": "stdout",
     "output_type": "stream",
     "text": [
      "Saved: dropout_h5ad/adata_dropout_mf20_run3.h5ad\n",
      "Run 3 → True missing fraction applied: 0.1995\n"
     ]
    },
    {
     "name": "stderr",
     "output_type": "stream",
     "text": [
      "c:\\Users\\prath\\anaconda-new\\Lib\\site-packages\\anndata\\_core\\anndata.py:1791: UserWarning: Observation names are not unique. To make them unique, call `.obs_names_make_unique`.\n",
      "  utils.warn_names_duplicates(\"obs\")\n",
      "c:\\Users\\prath\\anaconda-new\\Lib\\site-packages\\anndata\\_core\\anndata.py:1793: UserWarning: Variable names are not unique. To make them unique, call `.var_names_make_unique`.\n",
      "  utils.warn_names_duplicates(\"var\")\n"
     ]
    },
    {
     "name": "stdout",
     "output_type": "stream",
     "text": [
      "Saved: dropout_h5ad/adata_dropout_mf20_run4.h5ad\n",
      "Run 4 → True missing fraction applied: 0.2006\n"
     ]
    },
    {
     "name": "stderr",
     "output_type": "stream",
     "text": [
      "c:\\Users\\prath\\anaconda-new\\Lib\\site-packages\\anndata\\_core\\anndata.py:1791: UserWarning: Observation names are not unique. To make them unique, call `.obs_names_make_unique`.\n",
      "  utils.warn_names_duplicates(\"obs\")\n",
      "c:\\Users\\prath\\anaconda-new\\Lib\\site-packages\\anndata\\_core\\anndata.py:1793: UserWarning: Variable names are not unique. To make them unique, call `.var_names_make_unique`.\n",
      "  utils.warn_names_duplicates(\"var\")\n"
     ]
    },
    {
     "name": "stdout",
     "output_type": "stream",
     "text": [
      "Saved: dropout_h5ad/adata_dropout_mf20_run5.h5ad\n",
      "Run 5 → True missing fraction applied: 0.2003\n"
     ]
    },
    {
     "name": "stderr",
     "output_type": "stream",
     "text": [
      "c:\\Users\\prath\\anaconda-new\\Lib\\site-packages\\anndata\\_core\\anndata.py:1791: UserWarning: Observation names are not unique. To make them unique, call `.obs_names_make_unique`.\n",
      "  utils.warn_names_duplicates(\"obs\")\n",
      "c:\\Users\\prath\\anaconda-new\\Lib\\site-packages\\anndata\\_core\\anndata.py:1793: UserWarning: Variable names are not unique. To make them unique, call `.var_names_make_unique`.\n",
      "  utils.warn_names_duplicates(\"var\")\n"
     ]
    },
    {
     "name": "stdout",
     "output_type": "stream",
     "text": [
      "Saved: dropout_h5ad/adata_dropout_mf20_run6.h5ad\n",
      "Run 6 → True missing fraction applied: 0.1998\n"
     ]
    },
    {
     "name": "stderr",
     "output_type": "stream",
     "text": [
      "c:\\Users\\prath\\anaconda-new\\Lib\\site-packages\\anndata\\_core\\anndata.py:1791: UserWarning: Observation names are not unique. To make them unique, call `.obs_names_make_unique`.\n",
      "  utils.warn_names_duplicates(\"obs\")\n",
      "c:\\Users\\prath\\anaconda-new\\Lib\\site-packages\\anndata\\_core\\anndata.py:1793: UserWarning: Variable names are not unique. To make them unique, call `.var_names_make_unique`.\n",
      "  utils.warn_names_duplicates(\"var\")\n"
     ]
    },
    {
     "name": "stdout",
     "output_type": "stream",
     "text": [
      "Saved: dropout_h5ad/adata_dropout_mf20_run7.h5ad\n",
      "Run 7 → True missing fraction applied: 0.2002\n"
     ]
    },
    {
     "name": "stderr",
     "output_type": "stream",
     "text": [
      "c:\\Users\\prath\\anaconda-new\\Lib\\site-packages\\anndata\\_core\\anndata.py:1791: UserWarning: Observation names are not unique. To make them unique, call `.obs_names_make_unique`.\n",
      "  utils.warn_names_duplicates(\"obs\")\n",
      "c:\\Users\\prath\\anaconda-new\\Lib\\site-packages\\anndata\\_core\\anndata.py:1793: UserWarning: Variable names are not unique. To make them unique, call `.var_names_make_unique`.\n",
      "  utils.warn_names_duplicates(\"var\")\n"
     ]
    },
    {
     "name": "stdout",
     "output_type": "stream",
     "text": [
      "Saved: dropout_h5ad/adata_dropout_mf20_run8.h5ad\n",
      "Run 8 → True missing fraction applied: 0.1999\n"
     ]
    },
    {
     "name": "stderr",
     "output_type": "stream",
     "text": [
      "c:\\Users\\prath\\anaconda-new\\Lib\\site-packages\\anndata\\_core\\anndata.py:1791: UserWarning: Observation names are not unique. To make them unique, call `.obs_names_make_unique`.\n",
      "  utils.warn_names_duplicates(\"obs\")\n",
      "c:\\Users\\prath\\anaconda-new\\Lib\\site-packages\\anndata\\_core\\anndata.py:1793: UserWarning: Variable names are not unique. To make them unique, call `.var_names_make_unique`.\n",
      "  utils.warn_names_duplicates(\"var\")\n"
     ]
    },
    {
     "name": "stdout",
     "output_type": "stream",
     "text": [
      "Saved: dropout_h5ad/adata_dropout_mf20_run9.h5ad\n",
      "Run 9 → True missing fraction applied: 0.1993\n"
     ]
    },
    {
     "name": "stderr",
     "output_type": "stream",
     "text": [
      "c:\\Users\\prath\\anaconda-new\\Lib\\site-packages\\anndata\\_core\\anndata.py:1791: UserWarning: Observation names are not unique. To make them unique, call `.obs_names_make_unique`.\n",
      "  utils.warn_names_duplicates(\"obs\")\n",
      "c:\\Users\\prath\\anaconda-new\\Lib\\site-packages\\anndata\\_core\\anndata.py:1793: UserWarning: Variable names are not unique. To make them unique, call `.var_names_make_unique`.\n",
      "  utils.warn_names_duplicates(\"var\")\n"
     ]
    },
    {
     "name": "stdout",
     "output_type": "stream",
     "text": [
      "Saved: dropout_h5ad/adata_dropout_mf20_run10.h5ad\n",
      "Run 10 → True missing fraction applied: 0.2000\n",
      "\n",
      "Processing missing fraction: 0.3\n"
     ]
    },
    {
     "name": "stderr",
     "output_type": "stream",
     "text": [
      "c:\\Users\\prath\\anaconda-new\\Lib\\site-packages\\anndata\\_core\\anndata.py:1791: UserWarning: Observation names are not unique. To make them unique, call `.obs_names_make_unique`.\n",
      "  utils.warn_names_duplicates(\"obs\")\n",
      "c:\\Users\\prath\\anaconda-new\\Lib\\site-packages\\anndata\\_core\\anndata.py:1793: UserWarning: Variable names are not unique. To make them unique, call `.var_names_make_unique`.\n",
      "  utils.warn_names_duplicates(\"var\")\n"
     ]
    },
    {
     "name": "stdout",
     "output_type": "stream",
     "text": [
      "Saved: dropout_h5ad/adata_dropout_mf30_run1.h5ad\n",
      "Run 1 → True missing fraction applied: 0.2998\n"
     ]
    },
    {
     "name": "stderr",
     "output_type": "stream",
     "text": [
      "c:\\Users\\prath\\anaconda-new\\Lib\\site-packages\\anndata\\_core\\anndata.py:1791: UserWarning: Observation names are not unique. To make them unique, call `.obs_names_make_unique`.\n",
      "  utils.warn_names_duplicates(\"obs\")\n",
      "c:\\Users\\prath\\anaconda-new\\Lib\\site-packages\\anndata\\_core\\anndata.py:1793: UserWarning: Variable names are not unique. To make them unique, call `.var_names_make_unique`.\n",
      "  utils.warn_names_duplicates(\"var\")\n"
     ]
    },
    {
     "name": "stdout",
     "output_type": "stream",
     "text": [
      "Saved: dropout_h5ad/adata_dropout_mf30_run2.h5ad\n",
      "Run 2 → True missing fraction applied: 0.2997\n"
     ]
    },
    {
     "name": "stderr",
     "output_type": "stream",
     "text": [
      "c:\\Users\\prath\\anaconda-new\\Lib\\site-packages\\anndata\\_core\\anndata.py:1791: UserWarning: Observation names are not unique. To make them unique, call `.obs_names_make_unique`.\n",
      "  utils.warn_names_duplicates(\"obs\")\n",
      "c:\\Users\\prath\\anaconda-new\\Lib\\site-packages\\anndata\\_core\\anndata.py:1793: UserWarning: Variable names are not unique. To make them unique, call `.var_names_make_unique`.\n",
      "  utils.warn_names_duplicates(\"var\")\n"
     ]
    },
    {
     "name": "stdout",
     "output_type": "stream",
     "text": [
      "Saved: dropout_h5ad/adata_dropout_mf30_run3.h5ad\n",
      "Run 3 → True missing fraction applied: 0.2993\n"
     ]
    },
    {
     "name": "stderr",
     "output_type": "stream",
     "text": [
      "c:\\Users\\prath\\anaconda-new\\Lib\\site-packages\\anndata\\_core\\anndata.py:1791: UserWarning: Observation names are not unique. To make them unique, call `.obs_names_make_unique`.\n",
      "  utils.warn_names_duplicates(\"obs\")\n",
      "c:\\Users\\prath\\anaconda-new\\Lib\\site-packages\\anndata\\_core\\anndata.py:1793: UserWarning: Variable names are not unique. To make them unique, call `.var_names_make_unique`.\n",
      "  utils.warn_names_duplicates(\"var\")\n"
     ]
    },
    {
     "name": "stdout",
     "output_type": "stream",
     "text": [
      "Saved: dropout_h5ad/adata_dropout_mf30_run4.h5ad\n",
      "Run 4 → True missing fraction applied: 0.2993\n"
     ]
    },
    {
     "name": "stderr",
     "output_type": "stream",
     "text": [
      "c:\\Users\\prath\\anaconda-new\\Lib\\site-packages\\anndata\\_core\\anndata.py:1791: UserWarning: Observation names are not unique. To make them unique, call `.obs_names_make_unique`.\n",
      "  utils.warn_names_duplicates(\"obs\")\n",
      "c:\\Users\\prath\\anaconda-new\\Lib\\site-packages\\anndata\\_core\\anndata.py:1793: UserWarning: Variable names are not unique. To make them unique, call `.var_names_make_unique`.\n",
      "  utils.warn_names_duplicates(\"var\")\n"
     ]
    },
    {
     "name": "stdout",
     "output_type": "stream",
     "text": [
      "Saved: dropout_h5ad/adata_dropout_mf30_run5.h5ad\n",
      "Run 5 → True missing fraction applied: 0.2999\n"
     ]
    },
    {
     "name": "stderr",
     "output_type": "stream",
     "text": [
      "c:\\Users\\prath\\anaconda-new\\Lib\\site-packages\\anndata\\_core\\anndata.py:1791: UserWarning: Observation names are not unique. To make them unique, call `.obs_names_make_unique`.\n",
      "  utils.warn_names_duplicates(\"obs\")\n",
      "c:\\Users\\prath\\anaconda-new\\Lib\\site-packages\\anndata\\_core\\anndata.py:1793: UserWarning: Variable names are not unique. To make them unique, call `.var_names_make_unique`.\n",
      "  utils.warn_names_duplicates(\"var\")\n"
     ]
    },
    {
     "name": "stdout",
     "output_type": "stream",
     "text": [
      "Saved: dropout_h5ad/adata_dropout_mf30_run6.h5ad\n",
      "Run 6 → True missing fraction applied: 0.2990\n"
     ]
    },
    {
     "name": "stderr",
     "output_type": "stream",
     "text": [
      "c:\\Users\\prath\\anaconda-new\\Lib\\site-packages\\anndata\\_core\\anndata.py:1791: UserWarning: Observation names are not unique. To make them unique, call `.obs_names_make_unique`.\n",
      "  utils.warn_names_duplicates(\"obs\")\n",
      "c:\\Users\\prath\\anaconda-new\\Lib\\site-packages\\anndata\\_core\\anndata.py:1793: UserWarning: Variable names are not unique. To make them unique, call `.var_names_make_unique`.\n",
      "  utils.warn_names_duplicates(\"var\")\n"
     ]
    },
    {
     "name": "stdout",
     "output_type": "stream",
     "text": [
      "Saved: dropout_h5ad/adata_dropout_mf30_run7.h5ad\n",
      "Run 7 → True missing fraction applied: 0.2999\n"
     ]
    },
    {
     "name": "stderr",
     "output_type": "stream",
     "text": [
      "c:\\Users\\prath\\anaconda-new\\Lib\\site-packages\\anndata\\_core\\anndata.py:1791: UserWarning: Observation names are not unique. To make them unique, call `.obs_names_make_unique`.\n",
      "  utils.warn_names_duplicates(\"obs\")\n",
      "c:\\Users\\prath\\anaconda-new\\Lib\\site-packages\\anndata\\_core\\anndata.py:1793: UserWarning: Variable names are not unique. To make them unique, call `.var_names_make_unique`.\n",
      "  utils.warn_names_duplicates(\"var\")\n"
     ]
    },
    {
     "name": "stdout",
     "output_type": "stream",
     "text": [
      "Saved: dropout_h5ad/adata_dropout_mf30_run8.h5ad\n",
      "Run 8 → True missing fraction applied: 0.3000\n"
     ]
    },
    {
     "name": "stderr",
     "output_type": "stream",
     "text": [
      "c:\\Users\\prath\\anaconda-new\\Lib\\site-packages\\anndata\\_core\\anndata.py:1791: UserWarning: Observation names are not unique. To make them unique, call `.obs_names_make_unique`.\n",
      "  utils.warn_names_duplicates(\"obs\")\n",
      "c:\\Users\\prath\\anaconda-new\\Lib\\site-packages\\anndata\\_core\\anndata.py:1793: UserWarning: Variable names are not unique. To make them unique, call `.var_names_make_unique`.\n",
      "  utils.warn_names_duplicates(\"var\")\n"
     ]
    },
    {
     "name": "stdout",
     "output_type": "stream",
     "text": [
      "Saved: dropout_h5ad/adata_dropout_mf30_run9.h5ad\n",
      "Run 9 → True missing fraction applied: 0.3004\n"
     ]
    },
    {
     "name": "stderr",
     "output_type": "stream",
     "text": [
      "c:\\Users\\prath\\anaconda-new\\Lib\\site-packages\\anndata\\_core\\anndata.py:1791: UserWarning: Observation names are not unique. To make them unique, call `.obs_names_make_unique`.\n",
      "  utils.warn_names_duplicates(\"obs\")\n",
      "c:\\Users\\prath\\anaconda-new\\Lib\\site-packages\\anndata\\_core\\anndata.py:1793: UserWarning: Variable names are not unique. To make them unique, call `.var_names_make_unique`.\n",
      "  utils.warn_names_duplicates(\"var\")\n"
     ]
    },
    {
     "name": "stdout",
     "output_type": "stream",
     "text": [
      "Saved: dropout_h5ad/adata_dropout_mf30_run10.h5ad\n",
      "Run 10 → True missing fraction applied: 0.2990\n"
     ]
    }
   ],
   "source": [
    "import scanpy as sc\n",
    "import numpy as np\n",
    "import os\n",
    "from scipy import sparse\n",
    "\n",
    "# ------------------------\n",
    "# Read original AnnData\n",
    "# ------------------------\n",
    "adata = sc.read_h5ad('Data/adata_raw_qc.h5ad')\n",
    "\n",
    "# Create folder to save dropout h5ads\n",
    "os.makedirs('dropout_h5ad', exist_ok=True)\n",
    "\n",
    "# Parameters\n",
    "missing_fractions = [0.1, 0.2, 0.3]\n",
    "n_runs = 10\n",
    "chunk_size = 10000  # number of cells per chunk\n",
    "\n",
    "\n",
    "# ------------------------\n",
    "# Dropout simulation (only on nonzeros)\n",
    "# ------------------------\n",
    "def simulate_dropout_chunked_sparse_nonzero(X, missing_fraction, chunk_size=10000):\n",
    "    \"\"\"Simulate dropout by masking only nonzero entries in sparse chunks.\"\"\"\n",
    "    rows, cols = X.shape\n",
    "    data_chunks = []\n",
    "    for start in range(0, rows, chunk_size):\n",
    "        end = min(start + chunk_size, rows)\n",
    "        # always work with dense copy for masking\n",
    "        chunk = X[start:end].toarray().astype(np.float32) if sparse.issparse(X) else X[start:end].astype(np.float32).copy()\n",
    "        \n",
    "        # Mask only nonzeros\n",
    "        nonzero_mask = (chunk > 0).astype(bool)\n",
    "        random_mask = np.random.rand(*chunk.shape) < missing_fraction\n",
    "        dropout_mask = nonzero_mask & random_mask\n",
    "        chunk[dropout_mask] = 0\n",
    "        \n",
    "        data_chunks.append(sparse.csr_matrix(chunk))\n",
    "        del chunk\n",
    "    return sparse.vstack(data_chunks, format='csr')\n",
    "\n",
    "\n",
    "\n",
    "# ------------------------\n",
    "# Compute true missing fraction introduced\n",
    "# ------------------------\n",
    "def compute_true_missing_fraction(X_dropout, X_original):\n",
    "    \"\"\"Compute fraction of originally nonzero values that were zeroed out.\"\"\"\n",
    "    if sparse.issparse(X_dropout):\n",
    "        Xd = X_dropout.toarray()\n",
    "    else:\n",
    "        Xd = X_dropout.copy()\n",
    "\n",
    "    if sparse.issparse(X_original):\n",
    "        Xo = X_original.toarray()\n",
    "    else:\n",
    "        Xo = X_original.copy()\n",
    "\n",
    "    nonzero_original = Xo > 0\n",
    "    newly_zeroed = ((Xd == 0) & nonzero_original).sum()\n",
    "    true_fraction = newly_zeroed / nonzero_original.sum()\n",
    "    return true_fraction\n",
    "\n",
    "\n",
    "# ------------------------\n",
    "# Generate dropout datasets\n",
    "# ------------------------\n",
    "for mf in missing_fractions:\n",
    "    print(f\"\\nProcessing missing fraction: {mf}\")\n",
    "    for run in range(n_runs):\n",
    "        # Simulate dropout\n",
    "        X_dropout = simulate_dropout_chunked_sparse_nonzero(\n",
    "            adata.X, missing_fraction=mf, chunk_size=chunk_size\n",
    "        )\n",
    "        \n",
    "        # Create new AnnData with sparse X\n",
    "        adata_dropout = sc.AnnData(\n",
    "            X_dropout, obs=adata.obs.copy(), var=adata.var.copy()\n",
    "        )\n",
    "        \n",
    "        # Save to disk\n",
    "        filename = f'dropout_h5ad/adata_dropout_mf{int(mf*100)}_run{run+1}.h5ad'\n",
    "        adata_dropout.write(filename)\n",
    "        print(f\"Saved: {filename}\")\n",
    "        \n",
    "        # Compute true missing fraction\n",
    "        true_mf = compute_true_missing_fraction(X_dropout, adata.X)\n",
    "        print(f\"Run {run+1} → True missing fraction applied: {true_mf:.4f}\")\n",
    "        \n",
    "        # Cleanup\n",
    "        del X_dropout, adata_dropout\n"
   ]
  },
  {
   "cell_type": "code",
   "execution_count": null,
   "id": "16ff677b",
   "metadata": {},
   "outputs": [],
   "source": []
  }
 ],
 "metadata": {
  "kernelspec": {
   "display_name": "base",
   "language": "python",
   "name": "python3"
  },
  "language_info": {
   "codemirror_mode": {
    "name": "ipython",
    "version": 3
   },
   "file_extension": ".py",
   "mimetype": "text/x-python",
   "name": "python",
   "nbconvert_exporter": "python",
   "pygments_lexer": "ipython3",
   "version": "3.12.4"
  }
 },
 "nbformat": 4,
 "nbformat_minor": 5
}
