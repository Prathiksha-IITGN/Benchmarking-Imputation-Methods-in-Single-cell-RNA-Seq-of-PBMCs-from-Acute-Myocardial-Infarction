{
 "cells": [
  {
   "cell_type": "code",
   "execution_count": 1,
   "id": "f0f2b334",
   "metadata": {},
   "outputs": [
    {
     "name": "stdout",
     "output_type": "stream",
     "text": [
      "Processing dropout_h5ad\\adata_dropout_mf10_run1.h5ad ...\n"
     ]
    },
    {
     "name": "stderr",
     "output_type": "stream",
     "text": [
      "c:\\Users\\prath\\anaconda-new\\Lib\\site-packages\\anndata\\_core\\anndata.py:1791: UserWarning: Observation names are not unique. To make them unique, call `.obs_names_make_unique`.\n",
      "  utils.warn_names_duplicates(\"obs\")\n",
      "c:\\Users\\prath\\anaconda-new\\Lib\\site-packages\\anndata\\_core\\anndata.py:1793: UserWarning: Variable names are not unique. To make them unique, call `.var_names_make_unique`.\n",
      "  utils.warn_names_duplicates(\"var\")\n"
     ]
    },
    {
     "name": "stdout",
     "output_type": "stream",
     "text": [
      "Saved imputed file to: imputed_mean\\adata_mean_imputed_mf10_run1.h5ad\n",
      "Processing dropout_h5ad\\adata_dropout_mf10_run10.h5ad ...\n"
     ]
    },
    {
     "name": "stderr",
     "output_type": "stream",
     "text": [
      "c:\\Users\\prath\\anaconda-new\\Lib\\site-packages\\anndata\\_core\\anndata.py:1791: UserWarning: Observation names are not unique. To make them unique, call `.obs_names_make_unique`.\n",
      "  utils.warn_names_duplicates(\"obs\")\n",
      "c:\\Users\\prath\\anaconda-new\\Lib\\site-packages\\anndata\\_core\\anndata.py:1793: UserWarning: Variable names are not unique. To make them unique, call `.var_names_make_unique`.\n",
      "  utils.warn_names_duplicates(\"var\")\n"
     ]
    },
    {
     "name": "stdout",
     "output_type": "stream",
     "text": [
      "Saved imputed file to: imputed_mean\\adata_mean_imputed_mf10_run10.h5ad\n",
      "Processing dropout_h5ad\\adata_dropout_mf10_run2.h5ad ...\n"
     ]
    },
    {
     "name": "stderr",
     "output_type": "stream",
     "text": [
      "c:\\Users\\prath\\anaconda-new\\Lib\\site-packages\\anndata\\_core\\anndata.py:1791: UserWarning: Observation names are not unique. To make them unique, call `.obs_names_make_unique`.\n",
      "  utils.warn_names_duplicates(\"obs\")\n",
      "c:\\Users\\prath\\anaconda-new\\Lib\\site-packages\\anndata\\_core\\anndata.py:1793: UserWarning: Variable names are not unique. To make them unique, call `.var_names_make_unique`.\n",
      "  utils.warn_names_duplicates(\"var\")\n"
     ]
    },
    {
     "name": "stdout",
     "output_type": "stream",
     "text": [
      "Saved imputed file to: imputed_mean\\adata_mean_imputed_mf10_run2.h5ad\n",
      "Processing dropout_h5ad\\adata_dropout_mf10_run3.h5ad ...\n"
     ]
    },
    {
     "name": "stderr",
     "output_type": "stream",
     "text": [
      "c:\\Users\\prath\\anaconda-new\\Lib\\site-packages\\anndata\\_core\\anndata.py:1791: UserWarning: Observation names are not unique. To make them unique, call `.obs_names_make_unique`.\n",
      "  utils.warn_names_duplicates(\"obs\")\n",
      "c:\\Users\\prath\\anaconda-new\\Lib\\site-packages\\anndata\\_core\\anndata.py:1793: UserWarning: Variable names are not unique. To make them unique, call `.var_names_make_unique`.\n",
      "  utils.warn_names_duplicates(\"var\")\n"
     ]
    },
    {
     "name": "stdout",
     "output_type": "stream",
     "text": [
      "Saved imputed file to: imputed_mean\\adata_mean_imputed_mf10_run3.h5ad\n",
      "Processing dropout_h5ad\\adata_dropout_mf10_run4.h5ad ...\n"
     ]
    },
    {
     "name": "stderr",
     "output_type": "stream",
     "text": [
      "c:\\Users\\prath\\anaconda-new\\Lib\\site-packages\\anndata\\_core\\anndata.py:1791: UserWarning: Observation names are not unique. To make them unique, call `.obs_names_make_unique`.\n",
      "  utils.warn_names_duplicates(\"obs\")\n",
      "c:\\Users\\prath\\anaconda-new\\Lib\\site-packages\\anndata\\_core\\anndata.py:1793: UserWarning: Variable names are not unique. To make them unique, call `.var_names_make_unique`.\n",
      "  utils.warn_names_duplicates(\"var\")\n"
     ]
    },
    {
     "name": "stdout",
     "output_type": "stream",
     "text": [
      "Saved imputed file to: imputed_mean\\adata_mean_imputed_mf10_run4.h5ad\n",
      "Processing dropout_h5ad\\adata_dropout_mf10_run5.h5ad ...\n"
     ]
    },
    {
     "name": "stderr",
     "output_type": "stream",
     "text": [
      "c:\\Users\\prath\\anaconda-new\\Lib\\site-packages\\anndata\\_core\\anndata.py:1791: UserWarning: Observation names are not unique. To make them unique, call `.obs_names_make_unique`.\n",
      "  utils.warn_names_duplicates(\"obs\")\n",
      "c:\\Users\\prath\\anaconda-new\\Lib\\site-packages\\anndata\\_core\\anndata.py:1793: UserWarning: Variable names are not unique. To make them unique, call `.var_names_make_unique`.\n",
      "  utils.warn_names_duplicates(\"var\")\n"
     ]
    },
    {
     "name": "stdout",
     "output_type": "stream",
     "text": [
      "Saved imputed file to: imputed_mean\\adata_mean_imputed_mf10_run5.h5ad\n",
      "Processing dropout_h5ad\\adata_dropout_mf10_run6.h5ad ...\n"
     ]
    },
    {
     "name": "stderr",
     "output_type": "stream",
     "text": [
      "c:\\Users\\prath\\anaconda-new\\Lib\\site-packages\\anndata\\_core\\anndata.py:1791: UserWarning: Observation names are not unique. To make them unique, call `.obs_names_make_unique`.\n",
      "  utils.warn_names_duplicates(\"obs\")\n",
      "c:\\Users\\prath\\anaconda-new\\Lib\\site-packages\\anndata\\_core\\anndata.py:1793: UserWarning: Variable names are not unique. To make them unique, call `.var_names_make_unique`.\n",
      "  utils.warn_names_duplicates(\"var\")\n"
     ]
    },
    {
     "name": "stdout",
     "output_type": "stream",
     "text": [
      "Saved imputed file to: imputed_mean\\adata_mean_imputed_mf10_run6.h5ad\n",
      "Processing dropout_h5ad\\adata_dropout_mf10_run7.h5ad ...\n"
     ]
    },
    {
     "name": "stderr",
     "output_type": "stream",
     "text": [
      "c:\\Users\\prath\\anaconda-new\\Lib\\site-packages\\anndata\\_core\\anndata.py:1791: UserWarning: Observation names are not unique. To make them unique, call `.obs_names_make_unique`.\n",
      "  utils.warn_names_duplicates(\"obs\")\n",
      "c:\\Users\\prath\\anaconda-new\\Lib\\site-packages\\anndata\\_core\\anndata.py:1793: UserWarning: Variable names are not unique. To make them unique, call `.var_names_make_unique`.\n",
      "  utils.warn_names_duplicates(\"var\")\n"
     ]
    },
    {
     "name": "stdout",
     "output_type": "stream",
     "text": [
      "Saved imputed file to: imputed_mean\\adata_mean_imputed_mf10_run7.h5ad\n",
      "Processing dropout_h5ad\\adata_dropout_mf10_run8.h5ad ...\n"
     ]
    },
    {
     "name": "stderr",
     "output_type": "stream",
     "text": [
      "c:\\Users\\prath\\anaconda-new\\Lib\\site-packages\\anndata\\_core\\anndata.py:1791: UserWarning: Observation names are not unique. To make them unique, call `.obs_names_make_unique`.\n",
      "  utils.warn_names_duplicates(\"obs\")\n",
      "c:\\Users\\prath\\anaconda-new\\Lib\\site-packages\\anndata\\_core\\anndata.py:1793: UserWarning: Variable names are not unique. To make them unique, call `.var_names_make_unique`.\n",
      "  utils.warn_names_duplicates(\"var\")\n"
     ]
    },
    {
     "name": "stdout",
     "output_type": "stream",
     "text": [
      "Saved imputed file to: imputed_mean\\adata_mean_imputed_mf10_run8.h5ad\n",
      "Processing dropout_h5ad\\adata_dropout_mf10_run9.h5ad ...\n"
     ]
    },
    {
     "name": "stderr",
     "output_type": "stream",
     "text": [
      "c:\\Users\\prath\\anaconda-new\\Lib\\site-packages\\anndata\\_core\\anndata.py:1791: UserWarning: Observation names are not unique. To make them unique, call `.obs_names_make_unique`.\n",
      "  utils.warn_names_duplicates(\"obs\")\n",
      "c:\\Users\\prath\\anaconda-new\\Lib\\site-packages\\anndata\\_core\\anndata.py:1793: UserWarning: Variable names are not unique. To make them unique, call `.var_names_make_unique`.\n",
      "  utils.warn_names_duplicates(\"var\")\n"
     ]
    },
    {
     "name": "stdout",
     "output_type": "stream",
     "text": [
      "Saved imputed file to: imputed_mean\\adata_mean_imputed_mf10_run9.h5ad\n",
      "Processing dropout_h5ad\\adata_dropout_mf20_run1.h5ad ...\n"
     ]
    },
    {
     "name": "stderr",
     "output_type": "stream",
     "text": [
      "c:\\Users\\prath\\anaconda-new\\Lib\\site-packages\\anndata\\_core\\anndata.py:1791: UserWarning: Observation names are not unique. To make them unique, call `.obs_names_make_unique`.\n",
      "  utils.warn_names_duplicates(\"obs\")\n",
      "c:\\Users\\prath\\anaconda-new\\Lib\\site-packages\\anndata\\_core\\anndata.py:1793: UserWarning: Variable names are not unique. To make them unique, call `.var_names_make_unique`.\n",
      "  utils.warn_names_duplicates(\"var\")\n"
     ]
    },
    {
     "name": "stdout",
     "output_type": "stream",
     "text": [
      "Saved imputed file to: imputed_mean\\adata_mean_imputed_mf20_run1.h5ad\n",
      "Processing dropout_h5ad\\adata_dropout_mf20_run10.h5ad ...\n"
     ]
    },
    {
     "name": "stderr",
     "output_type": "stream",
     "text": [
      "c:\\Users\\prath\\anaconda-new\\Lib\\site-packages\\anndata\\_core\\anndata.py:1791: UserWarning: Observation names are not unique. To make them unique, call `.obs_names_make_unique`.\n",
      "  utils.warn_names_duplicates(\"obs\")\n",
      "c:\\Users\\prath\\anaconda-new\\Lib\\site-packages\\anndata\\_core\\anndata.py:1793: UserWarning: Variable names are not unique. To make them unique, call `.var_names_make_unique`.\n",
      "  utils.warn_names_duplicates(\"var\")\n"
     ]
    },
    {
     "name": "stdout",
     "output_type": "stream",
     "text": [
      "Saved imputed file to: imputed_mean\\adata_mean_imputed_mf20_run10.h5ad\n",
      "Processing dropout_h5ad\\adata_dropout_mf20_run2.h5ad ...\n"
     ]
    },
    {
     "name": "stderr",
     "output_type": "stream",
     "text": [
      "c:\\Users\\prath\\anaconda-new\\Lib\\site-packages\\anndata\\_core\\anndata.py:1791: UserWarning: Observation names are not unique. To make them unique, call `.obs_names_make_unique`.\n",
      "  utils.warn_names_duplicates(\"obs\")\n",
      "c:\\Users\\prath\\anaconda-new\\Lib\\site-packages\\anndata\\_core\\anndata.py:1793: UserWarning: Variable names are not unique. To make them unique, call `.var_names_make_unique`.\n",
      "  utils.warn_names_duplicates(\"var\")\n"
     ]
    },
    {
     "name": "stdout",
     "output_type": "stream",
     "text": [
      "Saved imputed file to: imputed_mean\\adata_mean_imputed_mf20_run2.h5ad\n",
      "Processing dropout_h5ad\\adata_dropout_mf20_run3.h5ad ...\n"
     ]
    },
    {
     "name": "stderr",
     "output_type": "stream",
     "text": [
      "c:\\Users\\prath\\anaconda-new\\Lib\\site-packages\\anndata\\_core\\anndata.py:1791: UserWarning: Observation names are not unique. To make them unique, call `.obs_names_make_unique`.\n",
      "  utils.warn_names_duplicates(\"obs\")\n",
      "c:\\Users\\prath\\anaconda-new\\Lib\\site-packages\\anndata\\_core\\anndata.py:1793: UserWarning: Variable names are not unique. To make them unique, call `.var_names_make_unique`.\n",
      "  utils.warn_names_duplicates(\"var\")\n"
     ]
    },
    {
     "name": "stdout",
     "output_type": "stream",
     "text": [
      "Saved imputed file to: imputed_mean\\adata_mean_imputed_mf20_run3.h5ad\n",
      "Processing dropout_h5ad\\adata_dropout_mf20_run4.h5ad ...\n"
     ]
    },
    {
     "name": "stderr",
     "output_type": "stream",
     "text": [
      "c:\\Users\\prath\\anaconda-new\\Lib\\site-packages\\anndata\\_core\\anndata.py:1791: UserWarning: Observation names are not unique. To make them unique, call `.obs_names_make_unique`.\n",
      "  utils.warn_names_duplicates(\"obs\")\n",
      "c:\\Users\\prath\\anaconda-new\\Lib\\site-packages\\anndata\\_core\\anndata.py:1793: UserWarning: Variable names are not unique. To make them unique, call `.var_names_make_unique`.\n",
      "  utils.warn_names_duplicates(\"var\")\n"
     ]
    },
    {
     "name": "stdout",
     "output_type": "stream",
     "text": [
      "Saved imputed file to: imputed_mean\\adata_mean_imputed_mf20_run4.h5ad\n",
      "Processing dropout_h5ad\\adata_dropout_mf20_run5.h5ad ...\n"
     ]
    },
    {
     "name": "stderr",
     "output_type": "stream",
     "text": [
      "c:\\Users\\prath\\anaconda-new\\Lib\\site-packages\\anndata\\_core\\anndata.py:1791: UserWarning: Observation names are not unique. To make them unique, call `.obs_names_make_unique`.\n",
      "  utils.warn_names_duplicates(\"obs\")\n",
      "c:\\Users\\prath\\anaconda-new\\Lib\\site-packages\\anndata\\_core\\anndata.py:1793: UserWarning: Variable names are not unique. To make them unique, call `.var_names_make_unique`.\n",
      "  utils.warn_names_duplicates(\"var\")\n"
     ]
    },
    {
     "name": "stdout",
     "output_type": "stream",
     "text": [
      "Saved imputed file to: imputed_mean\\adata_mean_imputed_mf20_run5.h5ad\n",
      "Processing dropout_h5ad\\adata_dropout_mf20_run6.h5ad ...\n"
     ]
    },
    {
     "name": "stderr",
     "output_type": "stream",
     "text": [
      "c:\\Users\\prath\\anaconda-new\\Lib\\site-packages\\anndata\\_core\\anndata.py:1791: UserWarning: Observation names are not unique. To make them unique, call `.obs_names_make_unique`.\n",
      "  utils.warn_names_duplicates(\"obs\")\n",
      "c:\\Users\\prath\\anaconda-new\\Lib\\site-packages\\anndata\\_core\\anndata.py:1793: UserWarning: Variable names are not unique. To make them unique, call `.var_names_make_unique`.\n",
      "  utils.warn_names_duplicates(\"var\")\n"
     ]
    },
    {
     "name": "stdout",
     "output_type": "stream",
     "text": [
      "Saved imputed file to: imputed_mean\\adata_mean_imputed_mf20_run6.h5ad\n",
      "Processing dropout_h5ad\\adata_dropout_mf20_run7.h5ad ...\n"
     ]
    },
    {
     "name": "stderr",
     "output_type": "stream",
     "text": [
      "c:\\Users\\prath\\anaconda-new\\Lib\\site-packages\\anndata\\_core\\anndata.py:1791: UserWarning: Observation names are not unique. To make them unique, call `.obs_names_make_unique`.\n",
      "  utils.warn_names_duplicates(\"obs\")\n",
      "c:\\Users\\prath\\anaconda-new\\Lib\\site-packages\\anndata\\_core\\anndata.py:1793: UserWarning: Variable names are not unique. To make them unique, call `.var_names_make_unique`.\n",
      "  utils.warn_names_duplicates(\"var\")\n"
     ]
    },
    {
     "name": "stdout",
     "output_type": "stream",
     "text": [
      "Saved imputed file to: imputed_mean\\adata_mean_imputed_mf20_run7.h5ad\n",
      "Processing dropout_h5ad\\adata_dropout_mf20_run8.h5ad ...\n"
     ]
    },
    {
     "name": "stderr",
     "output_type": "stream",
     "text": [
      "c:\\Users\\prath\\anaconda-new\\Lib\\site-packages\\anndata\\_core\\anndata.py:1791: UserWarning: Observation names are not unique. To make them unique, call `.obs_names_make_unique`.\n",
      "  utils.warn_names_duplicates(\"obs\")\n",
      "c:\\Users\\prath\\anaconda-new\\Lib\\site-packages\\anndata\\_core\\anndata.py:1793: UserWarning: Variable names are not unique. To make them unique, call `.var_names_make_unique`.\n",
      "  utils.warn_names_duplicates(\"var\")\n"
     ]
    },
    {
     "name": "stdout",
     "output_type": "stream",
     "text": [
      "Saved imputed file to: imputed_mean\\adata_mean_imputed_mf20_run8.h5ad\n",
      "Processing dropout_h5ad\\adata_dropout_mf20_run9.h5ad ...\n"
     ]
    },
    {
     "name": "stderr",
     "output_type": "stream",
     "text": [
      "c:\\Users\\prath\\anaconda-new\\Lib\\site-packages\\anndata\\_core\\anndata.py:1791: UserWarning: Observation names are not unique. To make them unique, call `.obs_names_make_unique`.\n",
      "  utils.warn_names_duplicates(\"obs\")\n",
      "c:\\Users\\prath\\anaconda-new\\Lib\\site-packages\\anndata\\_core\\anndata.py:1793: UserWarning: Variable names are not unique. To make them unique, call `.var_names_make_unique`.\n",
      "  utils.warn_names_duplicates(\"var\")\n",
      "C:\\Users\\prath\\AppData\\Local\\Temp\\ipykernel_1732\\1914276146.py:41: RuntimeWarning: overflow encountered in cast\n",
      "  X[zero_inds] = np.take(gene_means, zero_inds[1])\n"
     ]
    },
    {
     "name": "stdout",
     "output_type": "stream",
     "text": [
      "Saved imputed file to: imputed_mean\\adata_mean_imputed_mf20_run9.h5ad\n",
      "Processing dropout_h5ad\\adata_dropout_mf30_run1.h5ad ...\n"
     ]
    },
    {
     "name": "stderr",
     "output_type": "stream",
     "text": [
      "c:\\Users\\prath\\anaconda-new\\Lib\\site-packages\\anndata\\_core\\anndata.py:1791: UserWarning: Observation names are not unique. To make them unique, call `.obs_names_make_unique`.\n",
      "  utils.warn_names_duplicates(\"obs\")\n",
      "c:\\Users\\prath\\anaconda-new\\Lib\\site-packages\\anndata\\_core\\anndata.py:1793: UserWarning: Variable names are not unique. To make them unique, call `.var_names_make_unique`.\n",
      "  utils.warn_names_duplicates(\"var\")\n"
     ]
    },
    {
     "name": "stdout",
     "output_type": "stream",
     "text": [
      "Saved imputed file to: imputed_mean\\adata_mean_imputed_mf30_run1.h5ad\n",
      "Processing dropout_h5ad\\adata_dropout_mf30_run10.h5ad ...\n"
     ]
    },
    {
     "name": "stderr",
     "output_type": "stream",
     "text": [
      "c:\\Users\\prath\\anaconda-new\\Lib\\site-packages\\anndata\\_core\\anndata.py:1791: UserWarning: Observation names are not unique. To make them unique, call `.obs_names_make_unique`.\n",
      "  utils.warn_names_duplicates(\"obs\")\n",
      "c:\\Users\\prath\\anaconda-new\\Lib\\site-packages\\anndata\\_core\\anndata.py:1793: UserWarning: Variable names are not unique. To make them unique, call `.var_names_make_unique`.\n",
      "  utils.warn_names_duplicates(\"var\")\n"
     ]
    },
    {
     "name": "stdout",
     "output_type": "stream",
     "text": [
      "Saved imputed file to: imputed_mean\\adata_mean_imputed_mf30_run10.h5ad\n",
      "Processing dropout_h5ad\\adata_dropout_mf30_run2.h5ad ...\n"
     ]
    },
    {
     "name": "stderr",
     "output_type": "stream",
     "text": [
      "c:\\Users\\prath\\anaconda-new\\Lib\\site-packages\\anndata\\_core\\anndata.py:1791: UserWarning: Observation names are not unique. To make them unique, call `.obs_names_make_unique`.\n",
      "  utils.warn_names_duplicates(\"obs\")\n",
      "c:\\Users\\prath\\anaconda-new\\Lib\\site-packages\\anndata\\_core\\anndata.py:1793: UserWarning: Variable names are not unique. To make them unique, call `.var_names_make_unique`.\n",
      "  utils.warn_names_duplicates(\"var\")\n"
     ]
    },
    {
     "name": "stdout",
     "output_type": "stream",
     "text": [
      "Saved imputed file to: imputed_mean\\adata_mean_imputed_mf30_run2.h5ad\n",
      "Processing dropout_h5ad\\adata_dropout_mf30_run3.h5ad ...\n"
     ]
    },
    {
     "name": "stderr",
     "output_type": "stream",
     "text": [
      "c:\\Users\\prath\\anaconda-new\\Lib\\site-packages\\anndata\\_core\\anndata.py:1791: UserWarning: Observation names are not unique. To make them unique, call `.obs_names_make_unique`.\n",
      "  utils.warn_names_duplicates(\"obs\")\n",
      "c:\\Users\\prath\\anaconda-new\\Lib\\site-packages\\anndata\\_core\\anndata.py:1793: UserWarning: Variable names are not unique. To make them unique, call `.var_names_make_unique`.\n",
      "  utils.warn_names_duplicates(\"var\")\n"
     ]
    },
    {
     "name": "stdout",
     "output_type": "stream",
     "text": [
      "Saved imputed file to: imputed_mean\\adata_mean_imputed_mf30_run3.h5ad\n",
      "Processing dropout_h5ad\\adata_dropout_mf30_run4.h5ad ...\n"
     ]
    },
    {
     "name": "stderr",
     "output_type": "stream",
     "text": [
      "c:\\Users\\prath\\anaconda-new\\Lib\\site-packages\\anndata\\_core\\anndata.py:1791: UserWarning: Observation names are not unique. To make them unique, call `.obs_names_make_unique`.\n",
      "  utils.warn_names_duplicates(\"obs\")\n",
      "c:\\Users\\prath\\anaconda-new\\Lib\\site-packages\\anndata\\_core\\anndata.py:1793: UserWarning: Variable names are not unique. To make them unique, call `.var_names_make_unique`.\n",
      "  utils.warn_names_duplicates(\"var\")\n"
     ]
    },
    {
     "name": "stdout",
     "output_type": "stream",
     "text": [
      "Saved imputed file to: imputed_mean\\adata_mean_imputed_mf30_run4.h5ad\n",
      "Processing dropout_h5ad\\adata_dropout_mf30_run5.h5ad ...\n"
     ]
    },
    {
     "name": "stderr",
     "output_type": "stream",
     "text": [
      "c:\\Users\\prath\\anaconda-new\\Lib\\site-packages\\anndata\\_core\\anndata.py:1791: UserWarning: Observation names are not unique. To make them unique, call `.obs_names_make_unique`.\n",
      "  utils.warn_names_duplicates(\"obs\")\n",
      "c:\\Users\\prath\\anaconda-new\\Lib\\site-packages\\anndata\\_core\\anndata.py:1793: UserWarning: Variable names are not unique. To make them unique, call `.var_names_make_unique`.\n",
      "  utils.warn_names_duplicates(\"var\")\n",
      "C:\\Users\\prath\\AppData\\Local\\Temp\\ipykernel_1732\\1914276146.py:41: RuntimeWarning: overflow encountered in cast\n",
      "  X[zero_inds] = np.take(gene_means, zero_inds[1])\n"
     ]
    },
    {
     "name": "stdout",
     "output_type": "stream",
     "text": [
      "Saved imputed file to: imputed_mean\\adata_mean_imputed_mf30_run5.h5ad\n",
      "Processing dropout_h5ad\\adata_dropout_mf30_run6.h5ad ...\n"
     ]
    },
    {
     "name": "stderr",
     "output_type": "stream",
     "text": [
      "c:\\Users\\prath\\anaconda-new\\Lib\\site-packages\\anndata\\_core\\anndata.py:1791: UserWarning: Observation names are not unique. To make them unique, call `.obs_names_make_unique`.\n",
      "  utils.warn_names_duplicates(\"obs\")\n",
      "c:\\Users\\prath\\anaconda-new\\Lib\\site-packages\\anndata\\_core\\anndata.py:1793: UserWarning: Variable names are not unique. To make them unique, call `.var_names_make_unique`.\n",
      "  utils.warn_names_duplicates(\"var\")\n"
     ]
    },
    {
     "name": "stdout",
     "output_type": "stream",
     "text": [
      "Saved imputed file to: imputed_mean\\adata_mean_imputed_mf30_run6.h5ad\n",
      "Processing dropout_h5ad\\adata_dropout_mf30_run7.h5ad ...\n"
     ]
    },
    {
     "name": "stderr",
     "output_type": "stream",
     "text": [
      "c:\\Users\\prath\\anaconda-new\\Lib\\site-packages\\anndata\\_core\\anndata.py:1791: UserWarning: Observation names are not unique. To make them unique, call `.obs_names_make_unique`.\n",
      "  utils.warn_names_duplicates(\"obs\")\n",
      "c:\\Users\\prath\\anaconda-new\\Lib\\site-packages\\anndata\\_core\\anndata.py:1793: UserWarning: Variable names are not unique. To make them unique, call `.var_names_make_unique`.\n",
      "  utils.warn_names_duplicates(\"var\")\n"
     ]
    },
    {
     "name": "stdout",
     "output_type": "stream",
     "text": [
      "Saved imputed file to: imputed_mean\\adata_mean_imputed_mf30_run7.h5ad\n",
      "Processing dropout_h5ad\\adata_dropout_mf30_run8.h5ad ...\n"
     ]
    },
    {
     "name": "stderr",
     "output_type": "stream",
     "text": [
      "c:\\Users\\prath\\anaconda-new\\Lib\\site-packages\\anndata\\_core\\anndata.py:1791: UserWarning: Observation names are not unique. To make them unique, call `.obs_names_make_unique`.\n",
      "  utils.warn_names_duplicates(\"obs\")\n",
      "c:\\Users\\prath\\anaconda-new\\Lib\\site-packages\\anndata\\_core\\anndata.py:1793: UserWarning: Variable names are not unique. To make them unique, call `.var_names_make_unique`.\n",
      "  utils.warn_names_duplicates(\"var\")\n"
     ]
    },
    {
     "name": "stdout",
     "output_type": "stream",
     "text": [
      "Saved imputed file to: imputed_mean\\adata_mean_imputed_mf30_run8.h5ad\n",
      "Processing dropout_h5ad\\adata_dropout_mf30_run9.h5ad ...\n"
     ]
    },
    {
     "name": "stderr",
     "output_type": "stream",
     "text": [
      "c:\\Users\\prath\\anaconda-new\\Lib\\site-packages\\anndata\\_core\\anndata.py:1791: UserWarning: Observation names are not unique. To make them unique, call `.obs_names_make_unique`.\n",
      "  utils.warn_names_duplicates(\"obs\")\n",
      "c:\\Users\\prath\\anaconda-new\\Lib\\site-packages\\anndata\\_core\\anndata.py:1793: UserWarning: Variable names are not unique. To make them unique, call `.var_names_make_unique`.\n",
      "  utils.warn_names_duplicates(\"var\")\n",
      "C:\\Users\\prath\\AppData\\Local\\Temp\\ipykernel_1732\\1914276146.py:41: RuntimeWarning: overflow encountered in cast\n",
      "  X[zero_inds] = np.take(gene_means, zero_inds[1])\n"
     ]
    },
    {
     "name": "stdout",
     "output_type": "stream",
     "text": [
      "Saved imputed file to: imputed_mean\\adata_mean_imputed_mf30_run9.h5ad\n",
      "All files processed with Mean Imputation (zeros → mean)\n"
     ]
    }
   ],
   "source": [
    "import scanpy as sc\n",
    "import numpy as np\n",
    "import os\n",
    "from glob import glob\n",
    "\n",
    "# -----------------------------\n",
    "# Input & Output directories\n",
    "# -----------------------------\n",
    "input_dir = \"dropout_h5ad\"\n",
    "output_dir = \"imputed_mean\"\n",
    "os.makedirs(output_dir, exist_ok=True)\n",
    "\n",
    "# -----------------------------\n",
    "# Find all .h5ad files\n",
    "# -----------------------------\n",
    "files = glob(os.path.join(input_dir, \"*.h5ad\"))\n",
    "\n",
    "# -----------------------------\n",
    "# Mean Imputation for each file (zeros → mean)\n",
    "# -----------------------------\n",
    "for f in files:\n",
    "    print(f\"Processing {f} ...\")\n",
    "    # Load dropout dataset\n",
    "    adata_missing = sc.read_h5ad(f)\n",
    "    \n",
    "    # Copy\n",
    "    adata_mean = adata_missing.copy()\n",
    "    \n",
    "    # Convert sparse to dense (if needed)\n",
    "    X = adata_mean.X.toarray() if not isinstance(adata_mean.X, np.ndarray) else adata_mean.X.copy()\n",
    "    \n",
    "    # Compute mean per gene (ignoring zeros)\n",
    "    gene_means = np.true_divide(\n",
    "        X.sum(axis=0),\n",
    "        (X != 0).sum(axis=0),\n",
    "        where=(X != 0).sum(axis=0) != 0  # avoid div/0\n",
    "    )\n",
    "    \n",
    "    # Replace zeros with corresponding gene mean\n",
    "    zero_inds = np.where(X == 0)\n",
    "    X[zero_inds] = np.take(gene_means, zero_inds[1])\n",
    "    \n",
    "    # Assign back\n",
    "    adata_mean.X = X\n",
    "    \n",
    "    # Save with matching name\n",
    "    fname = os.path.basename(f).replace(\"adata_dropout\", \"adata_mean_imputed\")\n",
    "    outpath = os.path.join(output_dir, fname)\n",
    "    adata_mean.write(outpath)\n",
    "    \n",
    "    print(f\"Saved imputed file to: {outpath}\")\n",
    "\n",
    "print(\"All files processed with Mean Imputation (zeros → mean)\")\n"
   ]
  },
  {
   "cell_type": "code",
   "execution_count": null,
   "id": "733d9baf",
   "metadata": {},
   "outputs": [
    {
     "ename": "ValueError",
     "evalue": "Unable to compare versions for packaging>=20.0: need=20.0 found=None. This is unusual. Consider reinstalling packaging.",
     "output_type": "error",
     "traceback": [
      "\u001b[1;31m---------------------------------------------------------------------------\u001b[0m",
      "\u001b[1;31mValueError\u001b[0m                                Traceback (most recent call last)",
      "Cell \u001b[1;32mIn[16], line 2\u001b[0m\n\u001b[0;32m      1\u001b[0m \u001b[38;5;28;01mimport\u001b[39;00m \u001b[38;5;21;01mscanpy\u001b[39;00m \u001b[38;5;28;01mas\u001b[39;00m \u001b[38;5;21;01msc\u001b[39;00m\n\u001b[1;32m----> 2\u001b[0m \u001b[38;5;28;01mimport\u001b[39;00m \u001b[38;5;21;01mscvi\u001b[39;00m\n\u001b[0;32m      3\u001b[0m \u001b[38;5;28;01mimport\u001b[39;00m \u001b[38;5;21;01mos\u001b[39;00m\n\u001b[0;32m      4\u001b[0m \u001b[38;5;28;01mfrom\u001b[39;00m \u001b[38;5;21;01mglob\u001b[39;00m \u001b[38;5;28;01mimport\u001b[39;00m glob\n",
      "File \u001b[1;32mc:\\Users\\prath\\anaconda-new\\Lib\\site-packages\\scvi\\__init__.py:8\u001b[0m\n\u001b[0;32m      5\u001b[0m \u001b[38;5;28;01mimport\u001b[39;00m \u001b[38;5;21;01mwarnings\u001b[39;00m\n\u001b[0;32m      7\u001b[0m \u001b[38;5;28;01mfrom\u001b[39;00m \u001b[38;5;21;01m.\u001b[39;00m\u001b[38;5;21;01m_constants\u001b[39;00m \u001b[38;5;28;01mimport\u001b[39;00m REGISTRY_KEYS\n\u001b[1;32m----> 8\u001b[0m \u001b[38;5;28;01mfrom\u001b[39;00m \u001b[38;5;21;01m.\u001b[39;00m\u001b[38;5;21;01m_settings\u001b[39;00m \u001b[38;5;28;01mimport\u001b[39;00m settings\n\u001b[0;32m     10\u001b[0m \u001b[38;5;66;03m# this import needs to come after prior imports to prevent circular import\u001b[39;00m\n\u001b[0;32m     11\u001b[0m \u001b[38;5;28;01mfrom\u001b[39;00m \u001b[38;5;21;01m.\u001b[39;00m \u001b[38;5;28;01mimport\u001b[39;00m data, model, external, utils\n",
      "File \u001b[1;32mc:\\Users\\prath\\anaconda-new\\Lib\\site-packages\\scvi\\_settings.py:9\u001b[0m\n\u001b[0;32m      6\u001b[0m \u001b[38;5;28;01mfrom\u001b[39;00m \u001b[38;5;21;01mtyping\u001b[39;00m \u001b[38;5;28;01mimport\u001b[39;00m TYPE_CHECKING\n\u001b[0;32m      8\u001b[0m \u001b[38;5;28;01mimport\u001b[39;00m \u001b[38;5;21;01mtorch\u001b[39;00m\n\u001b[1;32m----> 9\u001b[0m \u001b[38;5;28;01mfrom\u001b[39;00m \u001b[38;5;21;01mlightning\u001b[39;00m\u001b[38;5;21;01m.\u001b[39;00m\u001b[38;5;21;01mpytorch\u001b[39;00m \u001b[38;5;28;01mimport\u001b[39;00m seed_everything\n\u001b[0;32m     10\u001b[0m \u001b[38;5;28;01mfrom\u001b[39;00m \u001b[38;5;21;01mrich\u001b[39;00m\u001b[38;5;21;01m.\u001b[39;00m\u001b[38;5;21;01mconsole\u001b[39;00m \u001b[38;5;28;01mimport\u001b[39;00m Console\n\u001b[0;32m     11\u001b[0m \u001b[38;5;28;01mfrom\u001b[39;00m \u001b[38;5;21;01mrich\u001b[39;00m\u001b[38;5;21;01m.\u001b[39;00m\u001b[38;5;21;01mlogging\u001b[39;00m \u001b[38;5;28;01mimport\u001b[39;00m RichHandler\n",
      "File \u001b[1;32mc:\\Users\\prath\\anaconda-new\\Lib\\site-packages\\lightning\\__init__.py:18\u001b[0m\n\u001b[0;32m     16\u001b[0m \u001b[38;5;28;01mfrom\u001b[39;00m \u001b[38;5;21;01mlightning\u001b[39;00m\u001b[38;5;21;01m.\u001b[39;00m\u001b[38;5;21;01m__about__\u001b[39;00m \u001b[38;5;28;01mimport\u001b[39;00m \u001b[38;5;241m*\u001b[39m  \u001b[38;5;66;03m# noqa: E402, F403\u001b[39;00m\n\u001b[0;32m     17\u001b[0m \u001b[38;5;28;01mfrom\u001b[39;00m \u001b[38;5;21;01mlightning\u001b[39;00m\u001b[38;5;21;01m.\u001b[39;00m\u001b[38;5;21;01m__version__\u001b[39;00m \u001b[38;5;28;01mimport\u001b[39;00m version \u001b[38;5;28;01mas\u001b[39;00m __version__  \u001b[38;5;66;03m# noqa: E402\u001b[39;00m\n\u001b[1;32m---> 18\u001b[0m \u001b[38;5;28;01mfrom\u001b[39;00m \u001b[38;5;21;01mlightning\u001b[39;00m\u001b[38;5;21;01m.\u001b[39;00m\u001b[38;5;21;01mfabric\u001b[39;00m\u001b[38;5;21;01m.\u001b[39;00m\u001b[38;5;21;01mfabric\u001b[39;00m \u001b[38;5;28;01mimport\u001b[39;00m Fabric  \u001b[38;5;66;03m# noqa: E402\u001b[39;00m\n\u001b[0;32m     19\u001b[0m \u001b[38;5;28;01mfrom\u001b[39;00m \u001b[38;5;21;01mlightning\u001b[39;00m\u001b[38;5;21;01m.\u001b[39;00m\u001b[38;5;21;01mfabric\u001b[39;00m\u001b[38;5;21;01m.\u001b[39;00m\u001b[38;5;21;01mutilities\u001b[39;00m\u001b[38;5;21;01m.\u001b[39;00m\u001b[38;5;21;01mseed\u001b[39;00m \u001b[38;5;28;01mimport\u001b[39;00m seed_everything  \u001b[38;5;66;03m# noqa: E402\u001b[39;00m\n\u001b[0;32m     20\u001b[0m \u001b[38;5;28;01mfrom\u001b[39;00m \u001b[38;5;21;01mlightning\u001b[39;00m\u001b[38;5;21;01m.\u001b[39;00m\u001b[38;5;21;01mpytorch\u001b[39;00m\u001b[38;5;21;01m.\u001b[39;00m\u001b[38;5;21;01mcallbacks\u001b[39;00m \u001b[38;5;28;01mimport\u001b[39;00m Callback  \u001b[38;5;66;03m# noqa: E402\u001b[39;00m\n",
      "File \u001b[1;32mc:\\Users\\prath\\anaconda-new\\Lib\\site-packages\\lightning\\fabric\\__init__.py:35\u001b[0m\n\u001b[0;32m     31\u001b[0m \u001b[38;5;28;01mif\u001b[39;00m sys\u001b[38;5;241m.\u001b[39mplatform \u001b[38;5;241m==\u001b[39m \u001b[38;5;124m\"\u001b[39m\u001b[38;5;124mwin32\u001b[39m\u001b[38;5;124m\"\u001b[39m:\n\u001b[0;32m     32\u001b[0m     os\u001b[38;5;241m.\u001b[39menviron[\u001b[38;5;124m\"\u001b[39m\u001b[38;5;124mUSE_LIBUV\u001b[39m\u001b[38;5;124m\"\u001b[39m] \u001b[38;5;241m=\u001b[39m \u001b[38;5;124m\"\u001b[39m\u001b[38;5;124m0\u001b[39m\u001b[38;5;124m\"\u001b[39m\n\u001b[1;32m---> 35\u001b[0m \u001b[38;5;28;01mfrom\u001b[39;00m \u001b[38;5;21;01mlightning\u001b[39;00m\u001b[38;5;21;01m.\u001b[39;00m\u001b[38;5;21;01mfabric\u001b[39;00m\u001b[38;5;21;01m.\u001b[39;00m\u001b[38;5;21;01mfabric\u001b[39;00m \u001b[38;5;28;01mimport\u001b[39;00m Fabric  \u001b[38;5;66;03m# noqa: E402\u001b[39;00m\n\u001b[0;32m     36\u001b[0m \u001b[38;5;28;01mfrom\u001b[39;00m \u001b[38;5;21;01mlightning\u001b[39;00m\u001b[38;5;21;01m.\u001b[39;00m\u001b[38;5;21;01mfabric\u001b[39;00m\u001b[38;5;21;01m.\u001b[39;00m\u001b[38;5;21;01mutilities\u001b[39;00m\u001b[38;5;21;01m.\u001b[39;00m\u001b[38;5;21;01mseed\u001b[39;00m \u001b[38;5;28;01mimport\u001b[39;00m seed_everything  \u001b[38;5;66;03m# noqa: E402\u001b[39;00m\n\u001b[0;32m     37\u001b[0m \u001b[38;5;28;01mfrom\u001b[39;00m \u001b[38;5;21;01mlightning\u001b[39;00m\u001b[38;5;21;01m.\u001b[39;00m\u001b[38;5;21;01mfabric\u001b[39;00m\u001b[38;5;21;01m.\u001b[39;00m\u001b[38;5;21;01mutilities\u001b[39;00m\u001b[38;5;21;01m.\u001b[39;00m\u001b[38;5;21;01mwarnings\u001b[39;00m \u001b[38;5;28;01mimport\u001b[39;00m disable_possible_user_warnings  \u001b[38;5;66;03m# noqa: E402\u001b[39;00m\n",
      "File \u001b[1;32mc:\\Users\\prath\\anaconda-new\\Lib\\site-packages\\lightning\\fabric\\fabric.py:38\u001b[0m\n\u001b[0;32m     35\u001b[0m \u001b[38;5;28;01mfrom\u001b[39;00m \u001b[38;5;21;01mtorch\u001b[39;00m\u001b[38;5;21;01m.\u001b[39;00m\u001b[38;5;21;01mutils\u001b[39;00m\u001b[38;5;21;01m.\u001b[39;00m\u001b[38;5;21;01mdata\u001b[39;00m \u001b[38;5;28;01mimport\u001b[39;00m BatchSampler, DataLoader, DistributedSampler, RandomSampler, SequentialSampler\n\u001b[0;32m     37\u001b[0m \u001b[38;5;28;01mimport\u001b[39;00m \u001b[38;5;21;01mlightning\u001b[39;00m\u001b[38;5;21;01m.\u001b[39;00m\u001b[38;5;21;01mfabric\u001b[39;00m\n\u001b[1;32m---> 38\u001b[0m \u001b[38;5;28;01mfrom\u001b[39;00m \u001b[38;5;21;01mlightning\u001b[39;00m\u001b[38;5;21;01m.\u001b[39;00m\u001b[38;5;21;01mfabric\u001b[39;00m\u001b[38;5;21;01m.\u001b[39;00m\u001b[38;5;21;01maccelerators\u001b[39;00m\u001b[38;5;21;01m.\u001b[39;00m\u001b[38;5;21;01maccelerator\u001b[39;00m \u001b[38;5;28;01mimport\u001b[39;00m Accelerator\n\u001b[0;32m     39\u001b[0m \u001b[38;5;28;01mfrom\u001b[39;00m \u001b[38;5;21;01mlightning\u001b[39;00m\u001b[38;5;21;01m.\u001b[39;00m\u001b[38;5;21;01mfabric\u001b[39;00m\u001b[38;5;21;01m.\u001b[39;00m\u001b[38;5;21;01mconnector\u001b[39;00m \u001b[38;5;28;01mimport\u001b[39;00m _PLUGIN_INPUT, _PRECISION_INPUT, _Connector, _is_using_cli\n\u001b[0;32m     40\u001b[0m \u001b[38;5;28;01mfrom\u001b[39;00m \u001b[38;5;21;01mlightning\u001b[39;00m\u001b[38;5;21;01m.\u001b[39;00m\u001b[38;5;21;01mfabric\u001b[39;00m\u001b[38;5;21;01m.\u001b[39;00m\u001b[38;5;21;01mloggers\u001b[39;00m \u001b[38;5;28;01mimport\u001b[39;00m Logger\n",
      "File \u001b[1;32mc:\\Users\\prath\\anaconda-new\\Lib\\site-packages\\lightning\\fabric\\accelerators\\__init__.py:15\u001b[0m\n\u001b[0;32m      1\u001b[0m \u001b[38;5;66;03m# Copyright The Lightning AI team.\u001b[39;00m\n\u001b[0;32m      2\u001b[0m \u001b[38;5;66;03m# Licensed under the Apache License, Version 2.0 (the \"License\");\u001b[39;00m\n\u001b[0;32m      3\u001b[0m \u001b[38;5;66;03m# you may not use this file except in compliance with the License.\u001b[39;00m\n\u001b[1;32m   (...)\u001b[0m\n\u001b[0;32m     11\u001b[0m \u001b[38;5;66;03m# See the License for the specific language governing permissions and\u001b[39;00m\n\u001b[0;32m     12\u001b[0m \u001b[38;5;66;03m# limitations under the License.\u001b[39;00m\n\u001b[0;32m     13\u001b[0m \u001b[38;5;28;01mimport\u001b[39;00m \u001b[38;5;21;01msys\u001b[39;00m\n\u001b[1;32m---> 15\u001b[0m \u001b[38;5;28;01mfrom\u001b[39;00m \u001b[38;5;21;01mlightning\u001b[39;00m\u001b[38;5;21;01m.\u001b[39;00m\u001b[38;5;21;01mfabric\u001b[39;00m\u001b[38;5;21;01m.\u001b[39;00m\u001b[38;5;21;01maccelerators\u001b[39;00m\u001b[38;5;21;01m.\u001b[39;00m\u001b[38;5;21;01maccelerator\u001b[39;00m \u001b[38;5;28;01mimport\u001b[39;00m Accelerator\n\u001b[0;32m     16\u001b[0m \u001b[38;5;28;01mfrom\u001b[39;00m \u001b[38;5;21;01mlightning\u001b[39;00m\u001b[38;5;21;01m.\u001b[39;00m\u001b[38;5;21;01mfabric\u001b[39;00m\u001b[38;5;21;01m.\u001b[39;00m\u001b[38;5;21;01maccelerators\u001b[39;00m\u001b[38;5;21;01m.\u001b[39;00m\u001b[38;5;21;01mcpu\u001b[39;00m \u001b[38;5;28;01mimport\u001b[39;00m CPUAccelerator  \u001b[38;5;66;03m# noqa: F401\u001b[39;00m\n\u001b[0;32m     17\u001b[0m \u001b[38;5;28;01mfrom\u001b[39;00m \u001b[38;5;21;01mlightning\u001b[39;00m\u001b[38;5;21;01m.\u001b[39;00m\u001b[38;5;21;01mfabric\u001b[39;00m\u001b[38;5;21;01m.\u001b[39;00m\u001b[38;5;21;01maccelerators\u001b[39;00m\u001b[38;5;21;01m.\u001b[39;00m\u001b[38;5;21;01mcuda\u001b[39;00m \u001b[38;5;28;01mimport\u001b[39;00m CUDAAccelerator, find_usable_cuda_devices  \u001b[38;5;66;03m# noqa: F401\u001b[39;00m\n",
      "File \u001b[1;32mc:\\Users\\prath\\anaconda-new\\Lib\\site-packages\\lightning\\fabric\\accelerators\\accelerator.py:19\u001b[0m\n\u001b[0;32m     15\u001b[0m \u001b[38;5;28;01mfrom\u001b[39;00m \u001b[38;5;21;01mtyping\u001b[39;00m \u001b[38;5;28;01mimport\u001b[39;00m Any\n\u001b[0;32m     17\u001b[0m \u001b[38;5;28;01mimport\u001b[39;00m \u001b[38;5;21;01mtorch\u001b[39;00m\n\u001b[1;32m---> 19\u001b[0m \u001b[38;5;28;01mfrom\u001b[39;00m \u001b[38;5;21;01mlightning\u001b[39;00m\u001b[38;5;21;01m.\u001b[39;00m\u001b[38;5;21;01mfabric\u001b[39;00m\u001b[38;5;21;01m.\u001b[39;00m\u001b[38;5;21;01maccelerators\u001b[39;00m\u001b[38;5;21;01m.\u001b[39;00m\u001b[38;5;21;01mregistry\u001b[39;00m \u001b[38;5;28;01mimport\u001b[39;00m _AcceleratorRegistry\n\u001b[0;32m     22\u001b[0m \u001b[38;5;28;01mclass\u001b[39;00m \u001b[38;5;21;01mAccelerator\u001b[39;00m(ABC):\n\u001b[0;32m     23\u001b[0m \u001b[38;5;250m    \u001b[39m\u001b[38;5;124;03m\"\"\"The Accelerator base class.\u001b[39;00m\n\u001b[0;32m     24\u001b[0m \n\u001b[0;32m     25\u001b[0m \u001b[38;5;124;03m    An Accelerator is meant to deal with one type of hardware.\u001b[39;00m\n\u001b[1;32m   (...)\u001b[0m\n\u001b[0;32m     28\u001b[0m \n\u001b[0;32m     29\u001b[0m \u001b[38;5;124;03m    \"\"\"\u001b[39;00m\n",
      "File \u001b[1;32mc:\\Users\\prath\\anaconda-new\\Lib\\site-packages\\lightning\\fabric\\accelerators\\registry.py:18\u001b[0m\n\u001b[0;32m     14\u001b[0m \u001b[38;5;28;01mfrom\u001b[39;00m \u001b[38;5;21;01mtyping\u001b[39;00m \u001b[38;5;28;01mimport\u001b[39;00m Any, Callable, Optional\n\u001b[0;32m     16\u001b[0m \u001b[38;5;28;01mfrom\u001b[39;00m \u001b[38;5;21;01mtyping_extensions\u001b[39;00m \u001b[38;5;28;01mimport\u001b[39;00m override\n\u001b[1;32m---> 18\u001b[0m \u001b[38;5;28;01mfrom\u001b[39;00m \u001b[38;5;21;01mlightning\u001b[39;00m\u001b[38;5;21;01m.\u001b[39;00m\u001b[38;5;21;01mfabric\u001b[39;00m\u001b[38;5;21;01m.\u001b[39;00m\u001b[38;5;21;01mutilities\u001b[39;00m\u001b[38;5;21;01m.\u001b[39;00m\u001b[38;5;21;01mexceptions\u001b[39;00m \u001b[38;5;28;01mimport\u001b[39;00m MisconfigurationException\n\u001b[0;32m     19\u001b[0m \u001b[38;5;28;01mfrom\u001b[39;00m \u001b[38;5;21;01mlightning\u001b[39;00m\u001b[38;5;21;01m.\u001b[39;00m\u001b[38;5;21;01mfabric\u001b[39;00m\u001b[38;5;21;01m.\u001b[39;00m\u001b[38;5;21;01mutilities\u001b[39;00m\u001b[38;5;21;01m.\u001b[39;00m\u001b[38;5;21;01mregistry\u001b[39;00m \u001b[38;5;28;01mimport\u001b[39;00m _register_classes\n\u001b[0;32m     22\u001b[0m \u001b[38;5;28;01mclass\u001b[39;00m \u001b[38;5;21;01m_AcceleratorRegistry\u001b[39;00m(\u001b[38;5;28mdict\u001b[39m):\n",
      "File \u001b[1;32mc:\\Users\\prath\\anaconda-new\\Lib\\site-packages\\lightning\\fabric\\utilities\\__init__.py:16\u001b[0m\n\u001b[0;32m      1\u001b[0m \u001b[38;5;66;03m# Copyright The Lightning AI team.\u001b[39;00m\n\u001b[0;32m      2\u001b[0m \u001b[38;5;66;03m#\u001b[39;00m\n\u001b[0;32m      3\u001b[0m \u001b[38;5;66;03m# Licensed under the Apache License, Version 2.0 (the \"License\");\u001b[39;00m\n\u001b[1;32m   (...)\u001b[0m\n\u001b[0;32m     12\u001b[0m \u001b[38;5;66;03m# See the License for the specific language governing permissions and\u001b[39;00m\n\u001b[0;32m     13\u001b[0m \u001b[38;5;66;03m# limitations under the License.\u001b[39;00m\n\u001b[0;32m     14\u001b[0m \u001b[38;5;124;03m\"\"\"General utilities.\"\"\"\u001b[39;00m\n\u001b[1;32m---> 16\u001b[0m \u001b[38;5;28;01mfrom\u001b[39;00m \u001b[38;5;21;01mlightning\u001b[39;00m\u001b[38;5;21;01m.\u001b[39;00m\u001b[38;5;21;01mfabric\u001b[39;00m\u001b[38;5;21;01m.\u001b[39;00m\u001b[38;5;21;01mutilities\u001b[39;00m\u001b[38;5;21;01m.\u001b[39;00m\u001b[38;5;21;01mapply_func\u001b[39;00m \u001b[38;5;28;01mimport\u001b[39;00m move_data_to_device\n\u001b[0;32m     17\u001b[0m \u001b[38;5;28;01mfrom\u001b[39;00m \u001b[38;5;21;01mlightning\u001b[39;00m\u001b[38;5;21;01m.\u001b[39;00m\u001b[38;5;21;01mfabric\u001b[39;00m\u001b[38;5;21;01m.\u001b[39;00m\u001b[38;5;21;01mutilities\u001b[39;00m\u001b[38;5;21;01m.\u001b[39;00m\u001b[38;5;21;01mdata\u001b[39;00m \u001b[38;5;28;01mimport\u001b[39;00m AttributeDict, suggested_max_num_workers\n\u001b[0;32m     18\u001b[0m \u001b[38;5;28;01mfrom\u001b[39;00m \u001b[38;5;21;01mlightning\u001b[39;00m\u001b[38;5;21;01m.\u001b[39;00m\u001b[38;5;21;01mfabric\u001b[39;00m\u001b[38;5;21;01m.\u001b[39;00m\u001b[38;5;21;01mutilities\u001b[39;00m\u001b[38;5;21;01m.\u001b[39;00m\u001b[38;5;21;01mdistributed\u001b[39;00m \u001b[38;5;28;01mimport\u001b[39;00m is_shared_filesystem\n",
      "File \u001b[1;32mc:\\Users\\prath\\anaconda-new\\Lib\\site-packages\\lightning\\fabric\\utilities\\apply_func.py:24\u001b[0m\n\u001b[0;32m     21\u001b[0m \u001b[38;5;28;01mfrom\u001b[39;00m \u001b[38;5;21;01mlightning_utilities\u001b[39;00m\u001b[38;5;21;01m.\u001b[39;00m\u001b[38;5;21;01mcore\u001b[39;00m\u001b[38;5;21;01m.\u001b[39;00m\u001b[38;5;21;01mapply_func\u001b[39;00m \u001b[38;5;28;01mimport\u001b[39;00m apply_to_collection\n\u001b[0;32m     22\u001b[0m \u001b[38;5;28;01mfrom\u001b[39;00m \u001b[38;5;21;01mtorch\u001b[39;00m \u001b[38;5;28;01mimport\u001b[39;00m Tensor\n\u001b[1;32m---> 24\u001b[0m \u001b[38;5;28;01mfrom\u001b[39;00m \u001b[38;5;21;01mlightning\u001b[39;00m\u001b[38;5;21;01m.\u001b[39;00m\u001b[38;5;21;01mfabric\u001b[39;00m\u001b[38;5;21;01m.\u001b[39;00m\u001b[38;5;21;01mutilities\u001b[39;00m\u001b[38;5;21;01m.\u001b[39;00m\u001b[38;5;21;01mimports\u001b[39;00m \u001b[38;5;28;01mimport\u001b[39;00m _NUMPY_AVAILABLE\n\u001b[0;32m     25\u001b[0m \u001b[38;5;28;01mfrom\u001b[39;00m \u001b[38;5;21;01mlightning\u001b[39;00m\u001b[38;5;21;01m.\u001b[39;00m\u001b[38;5;21;01mfabric\u001b[39;00m\u001b[38;5;21;01m.\u001b[39;00m\u001b[38;5;21;01mutilities\u001b[39;00m\u001b[38;5;21;01m.\u001b[39;00m\u001b[38;5;21;01mtypes\u001b[39;00m \u001b[38;5;28;01mimport\u001b[39;00m _DEVICE\n\u001b[0;32m     27\u001b[0m \u001b[38;5;28;01mif\u001b[39;00m TYPE_CHECKING:\n",
      "File \u001b[1;32mc:\\Users\\prath\\anaconda-new\\Lib\\site-packages\\lightning\\fabric\\utilities\\imports.py:39\u001b[0m\n\u001b[0;32m     37\u001b[0m _TORCH_GREATER_EQUAL_2_5 \u001b[38;5;241m=\u001b[39m compare_version(\u001b[38;5;124m\"\u001b[39m\u001b[38;5;124mtorch\u001b[39m\u001b[38;5;124m\"\u001b[39m, operator\u001b[38;5;241m.\u001b[39mge, \u001b[38;5;124m\"\u001b[39m\u001b[38;5;124m2.5.0\u001b[39m\u001b[38;5;124m\"\u001b[39m)\n\u001b[0;32m     38\u001b[0m _TORCH_LESS_EQUAL_2_6 \u001b[38;5;241m=\u001b[39m compare_version(\u001b[38;5;124m\"\u001b[39m\u001b[38;5;124mtorch\u001b[39m\u001b[38;5;124m\"\u001b[39m, operator\u001b[38;5;241m.\u001b[39mle, \u001b[38;5;124m\"\u001b[39m\u001b[38;5;124m2.6.0\u001b[39m\u001b[38;5;124m\"\u001b[39m)\n\u001b[1;32m---> 39\u001b[0m _TORCHMETRICS_GREATER_EQUAL_1_0_0 \u001b[38;5;241m=\u001b[39m \u001b[43mcompare_version\u001b[49m\u001b[43m(\u001b[49m\u001b[38;5;124;43m\"\u001b[39;49m\u001b[38;5;124;43mtorchmetrics\u001b[39;49m\u001b[38;5;124;43m\"\u001b[39;49m\u001b[43m,\u001b[49m\u001b[43m \u001b[49m\u001b[43moperator\u001b[49m\u001b[38;5;241;43m.\u001b[39;49m\u001b[43mge\u001b[49m\u001b[43m,\u001b[49m\u001b[43m \u001b[49m\u001b[38;5;124;43m\"\u001b[39;49m\u001b[38;5;124;43m1.0.0\u001b[39;49m\u001b[38;5;124;43m\"\u001b[39;49m\u001b[43m)\u001b[49m\n\u001b[0;32m     40\u001b[0m _PYTHON_GREATER_EQUAL_3_10_0 \u001b[38;5;241m=\u001b[39m (sys\u001b[38;5;241m.\u001b[39mversion_info\u001b[38;5;241m.\u001b[39mmajor, sys\u001b[38;5;241m.\u001b[39mversion_info\u001b[38;5;241m.\u001b[39mminor) \u001b[38;5;241m>\u001b[39m\u001b[38;5;241m=\u001b[39m (\u001b[38;5;241m3\u001b[39m, \u001b[38;5;241m10\u001b[39m)\n",
      "File \u001b[1;32mc:\\Users\\prath\\anaconda-new\\Lib\\site-packages\\lightning_utilities\\core\\imports.py:78\u001b[0m, in \u001b[0;36mcompare_version\u001b[1;34m(package, op, version, use_base_version)\u001b[0m\n\u001b[0;32m     69\u001b[0m \u001b[38;5;250m\u001b[39m\u001b[38;5;124;03m\"\"\"Compare package version with some requirements.\u001b[39;00m\n\u001b[0;32m     70\u001b[0m \n\u001b[0;32m     71\u001b[0m \u001b[38;5;124;03m>>> compare_version(\"torch\", operator.ge, \"0.1\")\u001b[39;00m\n\u001b[1;32m   (...)\u001b[0m\n\u001b[0;32m     75\u001b[0m \n\u001b[0;32m     76\u001b[0m \u001b[38;5;124;03m\"\"\"\u001b[39;00m\n\u001b[0;32m     77\u001b[0m \u001b[38;5;28;01mtry\u001b[39;00m:\n\u001b[1;32m---> 78\u001b[0m     pkg \u001b[38;5;241m=\u001b[39m \u001b[43mimportlib\u001b[49m\u001b[38;5;241;43m.\u001b[39;49m\u001b[43mimport_module\u001b[49m\u001b[43m(\u001b[49m\u001b[43mpackage\u001b[49m\u001b[43m)\u001b[49m\n\u001b[0;32m     79\u001b[0m \u001b[38;5;28;01mexcept\u001b[39;00m \u001b[38;5;167;01mImportError\u001b[39;00m:\n\u001b[0;32m     80\u001b[0m     \u001b[38;5;28;01mreturn\u001b[39;00m \u001b[38;5;28;01mFalse\u001b[39;00m\n",
      "File \u001b[1;32mc:\\Users\\prath\\anaconda-new\\Lib\\importlib\\__init__.py:90\u001b[0m, in \u001b[0;36mimport_module\u001b[1;34m(name, package)\u001b[0m\n\u001b[0;32m     88\u001b[0m             \u001b[38;5;28;01mbreak\u001b[39;00m\n\u001b[0;32m     89\u001b[0m         level \u001b[38;5;241m+\u001b[39m\u001b[38;5;241m=\u001b[39m \u001b[38;5;241m1\u001b[39m\n\u001b[1;32m---> 90\u001b[0m \u001b[38;5;28;01mreturn\u001b[39;00m \u001b[43m_bootstrap\u001b[49m\u001b[38;5;241;43m.\u001b[39;49m\u001b[43m_gcd_import\u001b[49m\u001b[43m(\u001b[49m\u001b[43mname\u001b[49m\u001b[43m[\u001b[49m\u001b[43mlevel\u001b[49m\u001b[43m:\u001b[49m\u001b[43m]\u001b[49m\u001b[43m,\u001b[49m\u001b[43m \u001b[49m\u001b[43mpackage\u001b[49m\u001b[43m,\u001b[49m\u001b[43m \u001b[49m\u001b[43mlevel\u001b[49m\u001b[43m)\u001b[49m\n",
      "File \u001b[1;32mc:\\Users\\prath\\anaconda-new\\Lib\\site-packages\\torchmetrics\\__init__.py:37\u001b[0m\n\u001b[0;32m     34\u001b[0m     \u001b[38;5;28;01mif\u001b[39;00m \u001b[38;5;129;01mnot\u001b[39;00m \u001b[38;5;28mhasattr\u001b[39m(scipy\u001b[38;5;241m.\u001b[39msignal, \u001b[38;5;124m\"\u001b[39m\u001b[38;5;124mhamming\u001b[39m\u001b[38;5;124m\"\u001b[39m):\n\u001b[0;32m     35\u001b[0m         scipy\u001b[38;5;241m.\u001b[39msignal\u001b[38;5;241m.\u001b[39mhamming \u001b[38;5;241m=\u001b[39m scipy\u001b[38;5;241m.\u001b[39msignal\u001b[38;5;241m.\u001b[39mwindows\u001b[38;5;241m.\u001b[39mhamming\n\u001b[1;32m---> 37\u001b[0m \u001b[38;5;28;01mfrom\u001b[39;00m \u001b[38;5;21;01mtorchmetrics\u001b[39;00m \u001b[38;5;28;01mimport\u001b[39;00m functional  \u001b[38;5;66;03m# noqa: E402\u001b[39;00m\n\u001b[0;32m     38\u001b[0m \u001b[38;5;28;01mfrom\u001b[39;00m \u001b[38;5;21;01mtorchmetrics\u001b[39;00m\u001b[38;5;21;01m.\u001b[39;00m\u001b[38;5;21;01maggregation\u001b[39;00m \u001b[38;5;28;01mimport\u001b[39;00m (  \u001b[38;5;66;03m# noqa: E402\u001b[39;00m\n\u001b[0;32m     39\u001b[0m     CatMetric,\n\u001b[0;32m     40\u001b[0m     MaxMetric,\n\u001b[1;32m   (...)\u001b[0m\n\u001b[0;32m     45\u001b[0m     SumMetric,\n\u001b[0;32m     46\u001b[0m )\n\u001b[0;32m     47\u001b[0m \u001b[38;5;28;01mfrom\u001b[39;00m \u001b[38;5;21;01mtorchmetrics\u001b[39;00m\u001b[38;5;21;01m.\u001b[39;00m\u001b[38;5;21;01maudio\u001b[39;00m\u001b[38;5;21;01m.\u001b[39;00m\u001b[38;5;21;01m_deprecated\u001b[39;00m \u001b[38;5;28;01mimport\u001b[39;00m _PermutationInvariantTraining \u001b[38;5;28;01mas\u001b[39;00m PermutationInvariantTraining  \u001b[38;5;66;03m# noqa: E402\u001b[39;00m\n",
      "File \u001b[1;32mc:\\Users\\prath\\anaconda-new\\Lib\\site-packages\\torchmetrics\\functional\\__init__.py:129\u001b[0m\n\u001b[0;32m    127\u001b[0m \u001b[38;5;28;01mfrom\u001b[39;00m \u001b[38;5;21;01mtorchmetrics\u001b[39;00m\u001b[38;5;21;01m.\u001b[39;00m\u001b[38;5;21;01mfunctional\u001b[39;00m\u001b[38;5;21;01m.\u001b[39;00m\u001b[38;5;21;01mretrieval\u001b[39;00m\u001b[38;5;21;01m.\u001b[39;00m\u001b[38;5;21;01m_deprecated\u001b[39;00m \u001b[38;5;28;01mimport\u001b[39;00m _retrieval_recall \u001b[38;5;28;01mas\u001b[39;00m retrieval_recall\n\u001b[0;32m    128\u001b[0m \u001b[38;5;28;01mfrom\u001b[39;00m \u001b[38;5;21;01mtorchmetrics\u001b[39;00m\u001b[38;5;21;01m.\u001b[39;00m\u001b[38;5;21;01mfunctional\u001b[39;00m\u001b[38;5;21;01m.\u001b[39;00m\u001b[38;5;21;01mretrieval\u001b[39;00m\u001b[38;5;21;01m.\u001b[39;00m\u001b[38;5;21;01m_deprecated\u001b[39;00m \u001b[38;5;28;01mimport\u001b[39;00m _retrieval_reciprocal_rank \u001b[38;5;28;01mas\u001b[39;00m retrieval_reciprocal_rank\n\u001b[1;32m--> 129\u001b[0m \u001b[38;5;28;01mfrom\u001b[39;00m \u001b[38;5;21;01mtorchmetrics\u001b[39;00m\u001b[38;5;21;01m.\u001b[39;00m\u001b[38;5;21;01mfunctional\u001b[39;00m\u001b[38;5;21;01m.\u001b[39;00m\u001b[38;5;21;01mtext\u001b[39;00m\u001b[38;5;21;01m.\u001b[39;00m\u001b[38;5;21;01m_deprecated\u001b[39;00m \u001b[38;5;28;01mimport\u001b[39;00m _bleu_score \u001b[38;5;28;01mas\u001b[39;00m bleu_score\n\u001b[0;32m    130\u001b[0m \u001b[38;5;28;01mfrom\u001b[39;00m \u001b[38;5;21;01mtorchmetrics\u001b[39;00m\u001b[38;5;21;01m.\u001b[39;00m\u001b[38;5;21;01mfunctional\u001b[39;00m\u001b[38;5;21;01m.\u001b[39;00m\u001b[38;5;21;01mtext\u001b[39;00m\u001b[38;5;21;01m.\u001b[39;00m\u001b[38;5;21;01m_deprecated\u001b[39;00m \u001b[38;5;28;01mimport\u001b[39;00m _char_error_rate \u001b[38;5;28;01mas\u001b[39;00m char_error_rate\n\u001b[0;32m    131\u001b[0m \u001b[38;5;28;01mfrom\u001b[39;00m \u001b[38;5;21;01mtorchmetrics\u001b[39;00m\u001b[38;5;21;01m.\u001b[39;00m\u001b[38;5;21;01mfunctional\u001b[39;00m\u001b[38;5;21;01m.\u001b[39;00m\u001b[38;5;21;01mtext\u001b[39;00m\u001b[38;5;21;01m.\u001b[39;00m\u001b[38;5;21;01m_deprecated\u001b[39;00m \u001b[38;5;28;01mimport\u001b[39;00m _chrf_score \u001b[38;5;28;01mas\u001b[39;00m chrf_score\n",
      "File \u001b[1;32mc:\\Users\\prath\\anaconda-new\\Lib\\site-packages\\torchmetrics\\functional\\text\\__init__.py:50\u001b[0m\n\u001b[0;32m     31\u001b[0m __all__ \u001b[38;5;241m=\u001b[39m [\n\u001b[0;32m     32\u001b[0m     \u001b[38;5;124m\"\u001b[39m\u001b[38;5;124mbleu_score\u001b[39m\u001b[38;5;124m\"\u001b[39m,\n\u001b[0;32m     33\u001b[0m     \u001b[38;5;124m\"\u001b[39m\u001b[38;5;124mchar_error_rate\u001b[39m\u001b[38;5;124m\"\u001b[39m,\n\u001b[1;32m   (...)\u001b[0m\n\u001b[0;32m     45\u001b[0m     \u001b[38;5;124m\"\u001b[39m\u001b[38;5;124mword_information_preserved\u001b[39m\u001b[38;5;124m\"\u001b[39m,\n\u001b[0;32m     46\u001b[0m ]\n\u001b[0;32m     49\u001b[0m \u001b[38;5;28;01mif\u001b[39;00m _TRANSFORMERS_GREATER_EQUAL_4_4:\n\u001b[1;32m---> 50\u001b[0m     \u001b[38;5;28;01mfrom\u001b[39;00m \u001b[38;5;21;01mtorchmetrics\u001b[39;00m\u001b[38;5;21;01m.\u001b[39;00m\u001b[38;5;21;01mfunctional\u001b[39;00m\u001b[38;5;21;01m.\u001b[39;00m\u001b[38;5;21;01mtext\u001b[39;00m\u001b[38;5;21;01m.\u001b[39;00m\u001b[38;5;21;01mbert\u001b[39;00m \u001b[38;5;28;01mimport\u001b[39;00m bert_score\n\u001b[0;32m     51\u001b[0m     \u001b[38;5;28;01mfrom\u001b[39;00m \u001b[38;5;21;01mtorchmetrics\u001b[39;00m\u001b[38;5;21;01m.\u001b[39;00m\u001b[38;5;21;01mfunctional\u001b[39;00m\u001b[38;5;21;01m.\u001b[39;00m\u001b[38;5;21;01mtext\u001b[39;00m\u001b[38;5;21;01m.\u001b[39;00m\u001b[38;5;21;01minfolm\u001b[39;00m \u001b[38;5;28;01mimport\u001b[39;00m infolm\n\u001b[0;32m     53\u001b[0m     __all__ \u001b[38;5;241m+\u001b[39m\u001b[38;5;241m=\u001b[39m [\u001b[38;5;124m\"\u001b[39m\u001b[38;5;124mbert_score\u001b[39m\u001b[38;5;124m\"\u001b[39m, \u001b[38;5;124m\"\u001b[39m\u001b[38;5;124minfolm\u001b[39m\u001b[38;5;124m\"\u001b[39m]\n",
      "File \u001b[1;32mc:\\Users\\prath\\anaconda-new\\Lib\\site-packages\\torchmetrics\\functional\\text\\bert.py:56\u001b[0m\n\u001b[0;32m     53\u001b[0m _DEFAULT_MODEL \u001b[38;5;241m=\u001b[39m \u001b[38;5;124m\"\u001b[39m\u001b[38;5;124mroberta-large\u001b[39m\u001b[38;5;124m\"\u001b[39m\n\u001b[0;32m     55\u001b[0m \u001b[38;5;28;01mif\u001b[39;00m _TRANSFORMERS_GREATER_EQUAL_4_4:\n\u001b[1;32m---> 56\u001b[0m     \u001b[38;5;28;01mfrom\u001b[39;00m \u001b[38;5;21;01mtransformers\u001b[39;00m \u001b[38;5;28;01mimport\u001b[39;00m AutoModel, AutoTokenizer\n\u001b[0;32m     58\u001b[0m     \u001b[38;5;28;01mdef\u001b[39;00m \u001b[38;5;21m_download_model_for_bert_score\u001b[39m() \u001b[38;5;241m-\u001b[39m\u001b[38;5;241m>\u001b[39m \u001b[38;5;28;01mNone\u001b[39;00m:\n\u001b[0;32m     59\u001b[0m \u001b[38;5;250m        \u001b[39m\u001b[38;5;124;03m\"\"\"Download intensive operations.\"\"\"\u001b[39;00m\n",
      "File \u001b[1;32mc:\\Users\\prath\\anaconda-new\\Lib\\site-packages\\transformers\\__init__.py:26\u001b[0m\n\u001b[0;32m     23\u001b[0m \u001b[38;5;28;01mfrom\u001b[39;00m \u001b[38;5;21;01mtyping\u001b[39;00m \u001b[38;5;28;01mimport\u001b[39;00m TYPE_CHECKING\n\u001b[0;32m     25\u001b[0m \u001b[38;5;66;03m# Check the dependencies satisfy the minimal versions required.\u001b[39;00m\n\u001b[1;32m---> 26\u001b[0m \u001b[38;5;28;01mfrom\u001b[39;00m \u001b[38;5;21;01m.\u001b[39;00m \u001b[38;5;28;01mimport\u001b[39;00m dependency_versions_check\n\u001b[0;32m     27\u001b[0m \u001b[38;5;28;01mfrom\u001b[39;00m \u001b[38;5;21;01m.\u001b[39;00m\u001b[38;5;21;01mutils\u001b[39;00m \u001b[38;5;28;01mimport\u001b[39;00m (\n\u001b[0;32m     28\u001b[0m     OptionalDependencyNotAvailable,\n\u001b[0;32m     29\u001b[0m     _LazyModule,\n\u001b[1;32m   (...)\u001b[0m\n\u001b[0;32m     48\u001b[0m     logging,\n\u001b[0;32m     49\u001b[0m )\n\u001b[0;32m     52\u001b[0m logger \u001b[38;5;241m=\u001b[39m logging\u001b[38;5;241m.\u001b[39mget_logger(\u001b[38;5;18m__name__\u001b[39m)  \u001b[38;5;66;03m# pylint: disable=invalid-name\u001b[39;00m\n",
      "File \u001b[1;32mc:\\Users\\prath\\anaconda-new\\Lib\\site-packages\\transformers\\dependency_versions_check.py:57\u001b[0m\n\u001b[0;32m     54\u001b[0m         \u001b[38;5;28;01mif\u001b[39;00m \u001b[38;5;129;01mnot\u001b[39;00m is_accelerate_available():\n\u001b[0;32m     55\u001b[0m             \u001b[38;5;28;01mcontinue\u001b[39;00m  \u001b[38;5;66;03m# not required, check version only if installed\u001b[39;00m\n\u001b[1;32m---> 57\u001b[0m     \u001b[43mrequire_version_core\u001b[49m\u001b[43m(\u001b[49m\u001b[43mdeps\u001b[49m\u001b[43m[\u001b[49m\u001b[43mpkg\u001b[49m\u001b[43m]\u001b[49m\u001b[43m)\u001b[49m\n\u001b[0;32m     58\u001b[0m \u001b[38;5;28;01melse\u001b[39;00m:\n\u001b[0;32m     59\u001b[0m     \u001b[38;5;28;01mraise\u001b[39;00m \u001b[38;5;167;01mValueError\u001b[39;00m(\u001b[38;5;124mf\u001b[39m\u001b[38;5;124m\"\u001b[39m\u001b[38;5;124mcan\u001b[39m\u001b[38;5;124m'\u001b[39m\u001b[38;5;124mt find \u001b[39m\u001b[38;5;132;01m{\u001b[39;00mpkg\u001b[38;5;132;01m}\u001b[39;00m\u001b[38;5;124m in \u001b[39m\u001b[38;5;132;01m{\u001b[39;00mdeps\u001b[38;5;241m.\u001b[39mkeys()\u001b[38;5;132;01m}\u001b[39;00m\u001b[38;5;124m, check dependency_versions_table.py\u001b[39m\u001b[38;5;124m\"\u001b[39m)\n",
      "File \u001b[1;32mc:\\Users\\prath\\anaconda-new\\Lib\\site-packages\\transformers\\utils\\versions.py:117\u001b[0m, in \u001b[0;36mrequire_version_core\u001b[1;34m(requirement)\u001b[0m\n\u001b[0;32m    115\u001b[0m \u001b[38;5;250m\u001b[39m\u001b[38;5;124;03m\"\"\"require_version wrapper which emits a core-specific hint on failure\"\"\"\u001b[39;00m\n\u001b[0;32m    116\u001b[0m hint \u001b[38;5;241m=\u001b[39m \u001b[38;5;124m\"\u001b[39m\u001b[38;5;124mTry: `pip install transformers -U` or `pip install -e \u001b[39m\u001b[38;5;124m'\u001b[39m\u001b[38;5;124m.[dev]\u001b[39m\u001b[38;5;124m'\u001b[39m\u001b[38;5;124m` if you\u001b[39m\u001b[38;5;124m'\u001b[39m\u001b[38;5;124mre working with git main\u001b[39m\u001b[38;5;124m\"\u001b[39m\n\u001b[1;32m--> 117\u001b[0m \u001b[38;5;28;01mreturn\u001b[39;00m \u001b[43mrequire_version\u001b[49m\u001b[43m(\u001b[49m\u001b[43mrequirement\u001b[49m\u001b[43m,\u001b[49m\u001b[43m \u001b[49m\u001b[43mhint\u001b[49m\u001b[43m)\u001b[49m\n",
      "File \u001b[1;32mc:\\Users\\prath\\anaconda-new\\Lib\\site-packages\\transformers\\utils\\versions.py:111\u001b[0m, in \u001b[0;36mrequire_version\u001b[1;34m(requirement, hint)\u001b[0m\n\u001b[0;32m    109\u001b[0m \u001b[38;5;28;01mif\u001b[39;00m want_ver \u001b[38;5;129;01mis\u001b[39;00m \u001b[38;5;129;01mnot\u001b[39;00m \u001b[38;5;28;01mNone\u001b[39;00m:\n\u001b[0;32m    110\u001b[0m     \u001b[38;5;28;01mfor\u001b[39;00m op, want_ver \u001b[38;5;129;01min\u001b[39;00m wanted\u001b[38;5;241m.\u001b[39mitems():\n\u001b[1;32m--> 111\u001b[0m         \u001b[43m_compare_versions\u001b[49m\u001b[43m(\u001b[49m\u001b[43mop\u001b[49m\u001b[43m,\u001b[49m\u001b[43m \u001b[49m\u001b[43mgot_ver\u001b[49m\u001b[43m,\u001b[49m\u001b[43m \u001b[49m\u001b[43mwant_ver\u001b[49m\u001b[43m,\u001b[49m\u001b[43m \u001b[49m\u001b[43mrequirement\u001b[49m\u001b[43m,\u001b[49m\u001b[43m \u001b[49m\u001b[43mpkg\u001b[49m\u001b[43m,\u001b[49m\u001b[43m \u001b[49m\u001b[43mhint\u001b[49m\u001b[43m)\u001b[49m\n",
      "File \u001b[1;32mc:\\Users\\prath\\anaconda-new\\Lib\\site-packages\\transformers\\utils\\versions.py:39\u001b[0m, in \u001b[0;36m_compare_versions\u001b[1;34m(op, got_ver, want_ver, requirement, pkg, hint)\u001b[0m\n\u001b[0;32m     37\u001b[0m \u001b[38;5;28;01mdef\u001b[39;00m \u001b[38;5;21m_compare_versions\u001b[39m(op, got_ver, want_ver, requirement, pkg, hint):\n\u001b[0;32m     38\u001b[0m     \u001b[38;5;28;01mif\u001b[39;00m got_ver \u001b[38;5;129;01mis\u001b[39;00m \u001b[38;5;28;01mNone\u001b[39;00m \u001b[38;5;129;01mor\u001b[39;00m want_ver \u001b[38;5;129;01mis\u001b[39;00m \u001b[38;5;28;01mNone\u001b[39;00m:\n\u001b[1;32m---> 39\u001b[0m         \u001b[38;5;28;01mraise\u001b[39;00m \u001b[38;5;167;01mValueError\u001b[39;00m(\n\u001b[0;32m     40\u001b[0m             \u001b[38;5;124mf\u001b[39m\u001b[38;5;124m\"\u001b[39m\u001b[38;5;124mUnable to compare versions for \u001b[39m\u001b[38;5;132;01m{\u001b[39;00mrequirement\u001b[38;5;132;01m}\u001b[39;00m\u001b[38;5;124m: need=\u001b[39m\u001b[38;5;132;01m{\u001b[39;00mwant_ver\u001b[38;5;132;01m}\u001b[39;00m\u001b[38;5;124m found=\u001b[39m\u001b[38;5;132;01m{\u001b[39;00mgot_ver\u001b[38;5;132;01m}\u001b[39;00m\u001b[38;5;124m. This is unusual. Consider\u001b[39m\u001b[38;5;124m\"\u001b[39m\n\u001b[0;32m     41\u001b[0m             \u001b[38;5;124mf\u001b[39m\u001b[38;5;124m\"\u001b[39m\u001b[38;5;124m reinstalling \u001b[39m\u001b[38;5;132;01m{\u001b[39;00mpkg\u001b[38;5;132;01m}\u001b[39;00m\u001b[38;5;124m.\u001b[39m\u001b[38;5;124m\"\u001b[39m\n\u001b[0;32m     42\u001b[0m         )\n\u001b[0;32m     43\u001b[0m     \u001b[38;5;28;01mif\u001b[39;00m \u001b[38;5;129;01mnot\u001b[39;00m ops[op](version\u001b[38;5;241m.\u001b[39mparse(got_ver), version\u001b[38;5;241m.\u001b[39mparse(want_ver)):\n\u001b[0;32m     44\u001b[0m         \u001b[38;5;28;01mraise\u001b[39;00m \u001b[38;5;167;01mImportError\u001b[39;00m(\n\u001b[0;32m     45\u001b[0m             \u001b[38;5;124mf\u001b[39m\u001b[38;5;124m\"\u001b[39m\u001b[38;5;132;01m{\u001b[39;00mrequirement\u001b[38;5;132;01m}\u001b[39;00m\u001b[38;5;124m is required for a normal functioning of this module, but found \u001b[39m\u001b[38;5;132;01m{\u001b[39;00mpkg\u001b[38;5;132;01m}\u001b[39;00m\u001b[38;5;124m==\u001b[39m\u001b[38;5;132;01m{\u001b[39;00mgot_ver\u001b[38;5;132;01m}\u001b[39;00m\u001b[38;5;124m.\u001b[39m\u001b[38;5;132;01m{\u001b[39;00mhint\u001b[38;5;132;01m}\u001b[39;00m\u001b[38;5;124m\"\u001b[39m\n\u001b[0;32m     46\u001b[0m         )\n",
      "\u001b[1;31mValueError\u001b[0m: Unable to compare versions for packaging>=20.0: need=20.0 found=None. This is unusual. Consider reinstalling packaging."
     ]
    }
   ],
   "source": [
    "import scanpy as sc\n",
    "import scvi\n",
    "import os\n",
    "from glob import glob\n",
    "\n",
    "# -----------------------------\n",
    "# Input & Output directories\n",
    "# -----------------------------\n",
    "input_dir = \"dropout_h5ad\"\n",
    "output_dir = \"imputed_scvi\"\n",
    "os.makedirs(output_dir, exist_ok=True)\n",
    "\n",
    "# -----------------------------\n",
    "# Find all .h5ad files\n",
    "# -----------------------------\n",
    "files = glob(os.path.join(input_dir, \"*.h5ad\"))\n",
    "\n",
    "# -----------------------------\n",
    "# scVI Imputation for each file\n",
    "# -----------------------------\n",
    "for f in files:\n",
    "    print(f\"Processing {f} ...\")\n",
    "    # Load dropout dataset\n",
    "    adata_missing = sc.read_h5ad(f)\n",
    "    \n",
    "    # Copy\n",
    "    adata_scvi = adata_missing.copy()\n",
    "    \n",
    "    # Setup for scVI\n",
    "    scvi.model.SCVI.setup_anndata(adata_scvi)\n",
    "    \n",
    "    # Train model\n",
    "    model = scvi.model.SCVI(adata_scvi)\n",
    "    model.train(max_epochs=200)  # you can adjust based on dataset size\n",
    "    \n",
    "    # Get imputed / denoised expression\n",
    "    adata_scvi.layers[\"scvi_imputed\"] = model.get_normalized_expression(adata_scvi)\n",
    "    \n",
    "    # Save with matching name\n",
    "    fname = os.path.basename(f).replace(\"adata_dropout\", \"adata_scvi_imputed\")\n",
    "    outpath = os.path.join(output_dir, fname)\n",
    "    adata_scvi.write(outpath)\n",
    "    \n",
    "    print(f\"Saved imputed file to: {outpath}\")\n",
    "\n",
    "print(\"All files processed with scVI Imputation\")\n"
   ]
  },
  {
   "cell_type": "code",
   "execution_count": 15,
   "id": "a2fa7c3b",
   "metadata": {},
   "outputs": [
    {
     "name": "stdout",
     "output_type": "stream",
     "text": [
      "Requirement already satisfied: packaging==23.2 in c:\\users\\prath\\anaconda-new\\lib\\site-packages (23.2)\n"
     ]
    }
   ],
   "source": [
    "!\n",
    "!pip install packaging==23.2\n",
    "\n",
    "\n",
    "\n"
   ]
  },
  {
   "cell_type": "code",
   "execution_count": 2,
   "id": "3cf0c2cf",
   "metadata": {},
   "outputs": [
    {
     "name": "stdout",
     "output_type": "stream",
     "text": [
      "\n",
      "Processing dropout_h5ad\\adata_dropout_mf10_run1.h5ad ...\n"
     ]
    },
    {
     "name": "stderr",
     "output_type": "stream",
     "text": [
      "c:\\Users\\prath\\anaconda-new\\Lib\\site-packages\\anndata\\_core\\anndata.py:1791: UserWarning: Observation names are not unique. To make them unique, call `.obs_names_make_unique`.\n",
      "  utils.warn_names_duplicates(\"obs\")\n",
      "c:\\Users\\prath\\anaconda-new\\Lib\\site-packages\\anndata\\_core\\anndata.py:1793: UserWarning: Variable names are not unique. To make them unique, call `.var_names_make_unique`.\n",
      "  utils.warn_names_duplicates(\"var\")\n"
     ]
    },
    {
     "name": "stdout",
     "output_type": "stream",
     "text": [
      "⚠️ Dropping 6 all-zero genes\n"
     ]
    },
    {
     "ename": "KeyboardInterrupt",
     "evalue": "",
     "output_type": "error",
     "traceback": [
      "\u001b[1;31m---------------------------------------------------------------------------\u001b[0m",
      "\u001b[1;31mKeyboardInterrupt\u001b[0m                         Traceback (most recent call last)",
      "Cell \u001b[1;32mIn[2], line 48\u001b[0m\n\u001b[0;32m     45\u001b[0m X_valid \u001b[38;5;241m=\u001b[39m X[:, valid_genes]\n\u001b[0;32m     47\u001b[0m \u001b[38;5;66;03m# Iterative imputation\u001b[39;00m\n\u001b[1;32m---> 48\u001b[0m X_imp_valid \u001b[38;5;241m=\u001b[39m \u001b[43mimputer\u001b[49m\u001b[38;5;241;43m.\u001b[39;49m\u001b[43mfit_transform\u001b[49m\u001b[43m(\u001b[49m\u001b[43mX_valid\u001b[49m\u001b[43m)\u001b[49m\n\u001b[0;32m     50\u001b[0m \u001b[38;5;66;03m# Reconstruct full matrix\u001b[39;00m\n\u001b[0;32m     51\u001b[0m X_imp \u001b[38;5;241m=\u001b[39m np\u001b[38;5;241m.\u001b[39mzeros_like(X)\n",
      "File \u001b[1;32mc:\\Users\\prath\\anaconda-new\\Lib\\site-packages\\sklearn\\utils\\_set_output.py:316\u001b[0m, in \u001b[0;36m_wrap_method_output.<locals>.wrapped\u001b[1;34m(self, X, *args, **kwargs)\u001b[0m\n\u001b[0;32m    314\u001b[0m \u001b[38;5;129m@wraps\u001b[39m(f)\n\u001b[0;32m    315\u001b[0m \u001b[38;5;28;01mdef\u001b[39;00m \u001b[38;5;21mwrapped\u001b[39m(\u001b[38;5;28mself\u001b[39m, X, \u001b[38;5;241m*\u001b[39margs, \u001b[38;5;241m*\u001b[39m\u001b[38;5;241m*\u001b[39mkwargs):\n\u001b[1;32m--> 316\u001b[0m     data_to_wrap \u001b[38;5;241m=\u001b[39m \u001b[43mf\u001b[49m\u001b[43m(\u001b[49m\u001b[38;5;28;43mself\u001b[39;49m\u001b[43m,\u001b[49m\u001b[43m \u001b[49m\u001b[43mX\u001b[49m\u001b[43m,\u001b[49m\u001b[43m \u001b[49m\u001b[38;5;241;43m*\u001b[39;49m\u001b[43margs\u001b[49m\u001b[43m,\u001b[49m\u001b[43m \u001b[49m\u001b[38;5;241;43m*\u001b[39;49m\u001b[38;5;241;43m*\u001b[39;49m\u001b[43mkwargs\u001b[49m\u001b[43m)\u001b[49m\n\u001b[0;32m    317\u001b[0m     \u001b[38;5;28;01mif\u001b[39;00m \u001b[38;5;28misinstance\u001b[39m(data_to_wrap, \u001b[38;5;28mtuple\u001b[39m):\n\u001b[0;32m    318\u001b[0m         \u001b[38;5;66;03m# only wrap the first output for cross decomposition\u001b[39;00m\n\u001b[0;32m    319\u001b[0m         return_tuple \u001b[38;5;241m=\u001b[39m (\n\u001b[0;32m    320\u001b[0m             _wrap_data_with_container(method, data_to_wrap[\u001b[38;5;241m0\u001b[39m], X, \u001b[38;5;28mself\u001b[39m),\n\u001b[0;32m    321\u001b[0m             \u001b[38;5;241m*\u001b[39mdata_to_wrap[\u001b[38;5;241m1\u001b[39m:],\n\u001b[0;32m    322\u001b[0m         )\n",
      "File \u001b[1;32mc:\\Users\\prath\\anaconda-new\\Lib\\site-packages\\sklearn\\base.py:1365\u001b[0m, in \u001b[0;36m_fit_context.<locals>.decorator.<locals>.wrapper\u001b[1;34m(estimator, *args, **kwargs)\u001b[0m\n\u001b[0;32m   1358\u001b[0m     estimator\u001b[38;5;241m.\u001b[39m_validate_params()\n\u001b[0;32m   1360\u001b[0m \u001b[38;5;28;01mwith\u001b[39;00m config_context(\n\u001b[0;32m   1361\u001b[0m     skip_parameter_validation\u001b[38;5;241m=\u001b[39m(\n\u001b[0;32m   1362\u001b[0m         prefer_skip_nested_validation \u001b[38;5;129;01mor\u001b[39;00m global_skip_validation\n\u001b[0;32m   1363\u001b[0m     )\n\u001b[0;32m   1364\u001b[0m ):\n\u001b[1;32m-> 1365\u001b[0m     \u001b[38;5;28;01mreturn\u001b[39;00m \u001b[43mfit_method\u001b[49m\u001b[43m(\u001b[49m\u001b[43mestimator\u001b[49m\u001b[43m,\u001b[49m\u001b[43m \u001b[49m\u001b[38;5;241;43m*\u001b[39;49m\u001b[43margs\u001b[49m\u001b[43m,\u001b[49m\u001b[43m \u001b[49m\u001b[38;5;241;43m*\u001b[39;49m\u001b[38;5;241;43m*\u001b[39;49m\u001b[43mkwargs\u001b[49m\u001b[43m)\u001b[49m\n",
      "File \u001b[1;32mc:\\Users\\prath\\anaconda-new\\Lib\\site-packages\\sklearn\\impute\\_iterative.py:859\u001b[0m, in \u001b[0;36mIterativeImputer.fit_transform\u001b[1;34m(self, X, y, **params)\u001b[0m\n\u001b[0;32m    855\u001b[0m \u001b[38;5;28;01mfor\u001b[39;00m feat_idx \u001b[38;5;129;01min\u001b[39;00m ordered_idx:\n\u001b[0;32m    856\u001b[0m     neighbor_feat_idx \u001b[38;5;241m=\u001b[39m \u001b[38;5;28mself\u001b[39m\u001b[38;5;241m.\u001b[39m_get_neighbor_feat_idx(\n\u001b[0;32m    857\u001b[0m         n_features, feat_idx, abs_corr_mat\n\u001b[0;32m    858\u001b[0m     )\n\u001b[1;32m--> 859\u001b[0m     Xt, estimator \u001b[38;5;241m=\u001b[39m \u001b[38;5;28;43mself\u001b[39;49m\u001b[38;5;241;43m.\u001b[39;49m\u001b[43m_impute_one_feature\u001b[49m\u001b[43m(\u001b[49m\n\u001b[0;32m    860\u001b[0m \u001b[43m        \u001b[49m\u001b[43mXt\u001b[49m\u001b[43m,\u001b[49m\n\u001b[0;32m    861\u001b[0m \u001b[43m        \u001b[49m\u001b[43mmask_missing_values\u001b[49m\u001b[43m,\u001b[49m\n\u001b[0;32m    862\u001b[0m \u001b[43m        \u001b[49m\u001b[43mfeat_idx\u001b[49m\u001b[43m,\u001b[49m\n\u001b[0;32m    863\u001b[0m \u001b[43m        \u001b[49m\u001b[43mneighbor_feat_idx\u001b[49m\u001b[43m,\u001b[49m\n\u001b[0;32m    864\u001b[0m \u001b[43m        \u001b[49m\u001b[43mestimator\u001b[49m\u001b[38;5;241;43m=\u001b[39;49m\u001b[38;5;28;43;01mNone\u001b[39;49;00m\u001b[43m,\u001b[49m\n\u001b[0;32m    865\u001b[0m \u001b[43m        \u001b[49m\u001b[43mfit_mode\u001b[49m\u001b[38;5;241;43m=\u001b[39;49m\u001b[38;5;28;43;01mTrue\u001b[39;49;00m\u001b[43m,\u001b[49m\n\u001b[0;32m    866\u001b[0m \u001b[43m        \u001b[49m\u001b[43mparams\u001b[49m\u001b[38;5;241;43m=\u001b[39;49m\u001b[43mrouted_params\u001b[49m\u001b[38;5;241;43m.\u001b[39;49m\u001b[43mestimator\u001b[49m\u001b[38;5;241;43m.\u001b[39;49m\u001b[43mfit\u001b[49m\u001b[43m,\u001b[49m\n\u001b[0;32m    867\u001b[0m \u001b[43m    \u001b[49m\u001b[43m)\u001b[49m\n\u001b[0;32m    868\u001b[0m     estimator_triplet \u001b[38;5;241m=\u001b[39m _ImputerTriplet(\n\u001b[0;32m    869\u001b[0m         feat_idx, neighbor_feat_idx, estimator\n\u001b[0;32m    870\u001b[0m     )\n\u001b[0;32m    871\u001b[0m     \u001b[38;5;28mself\u001b[39m\u001b[38;5;241m.\u001b[39mimputation_sequence_\u001b[38;5;241m.\u001b[39mappend(estimator_triplet)\n",
      "File \u001b[1;32mc:\\Users\\prath\\anaconda-new\\Lib\\site-packages\\sklearn\\impute\\_iterative.py:463\u001b[0m, in \u001b[0;36mIterativeImputer._impute_one_feature\u001b[1;34m(self, X_filled, mask_missing_values, feat_idx, neighbor_feat_idx, estimator, fit_mode, params)\u001b[0m\n\u001b[0;32m    459\u001b[0m     imputed_values[inrange_mask] \u001b[38;5;241m=\u001b[39m truncated_normal\u001b[38;5;241m.\u001b[39mrvs(\n\u001b[0;32m    460\u001b[0m         random_state\u001b[38;5;241m=\u001b[39m\u001b[38;5;28mself\u001b[39m\u001b[38;5;241m.\u001b[39mrandom_state_\n\u001b[0;32m    461\u001b[0m     )\n\u001b[0;32m    462\u001b[0m \u001b[38;5;28;01melse\u001b[39;00m:\n\u001b[1;32m--> 463\u001b[0m     imputed_values \u001b[38;5;241m=\u001b[39m \u001b[43mestimator\u001b[49m\u001b[38;5;241;43m.\u001b[39;49m\u001b[43mpredict\u001b[49m\u001b[43m(\u001b[49m\u001b[43mX_test\u001b[49m\u001b[43m)\u001b[49m\n\u001b[0;32m    464\u001b[0m     imputed_values \u001b[38;5;241m=\u001b[39m np\u001b[38;5;241m.\u001b[39mclip(\n\u001b[0;32m    465\u001b[0m         imputed_values, \u001b[38;5;28mself\u001b[39m\u001b[38;5;241m.\u001b[39m_min_value[feat_idx], \u001b[38;5;28mself\u001b[39m\u001b[38;5;241m.\u001b[39m_max_value[feat_idx]\n\u001b[0;32m    466\u001b[0m     )\n\u001b[0;32m    468\u001b[0m \u001b[38;5;66;03m# update the feature\u001b[39;00m\n",
      "File \u001b[1;32mc:\\Users\\prath\\anaconda-new\\Lib\\site-packages\\sklearn\\linear_model\\_bayes.py:376\u001b[0m, in \u001b[0;36mBayesianRidge.predict\u001b[1;34m(self, X, return_std)\u001b[0m\n\u001b[0;32m    372\u001b[0m     \u001b[38;5;28mself\u001b[39m\u001b[38;5;241m.\u001b[39m_set_intercept(X_offset_, y_offset_, X_scale_)\n\u001b[0;32m    374\u001b[0m     \u001b[38;5;28;01mreturn\u001b[39;00m \u001b[38;5;28mself\u001b[39m\n\u001b[1;32m--> 376\u001b[0m \u001b[38;5;28;01mdef\u001b[39;00m \u001b[38;5;21mpredict\u001b[39m(\u001b[38;5;28mself\u001b[39m, X, return_std\u001b[38;5;241m=\u001b[39m\u001b[38;5;28;01mFalse\u001b[39;00m):\n\u001b[0;32m    377\u001b[0m \u001b[38;5;250m    \u001b[39m\u001b[38;5;124;03m\"\"\"Predict using the linear model.\u001b[39;00m\n\u001b[0;32m    378\u001b[0m \n\u001b[0;32m    379\u001b[0m \u001b[38;5;124;03m    In addition to the mean of the predictive distribution, also its\u001b[39;00m\n\u001b[1;32m   (...)\u001b[0m\n\u001b[0;32m    396\u001b[0m \u001b[38;5;124;03m        Standard deviation of predictive distribution of query points.\u001b[39;00m\n\u001b[0;32m    397\u001b[0m \u001b[38;5;124;03m    \"\"\"\u001b[39;00m\n\u001b[0;32m    398\u001b[0m     y_mean \u001b[38;5;241m=\u001b[39m \u001b[38;5;28mself\u001b[39m\u001b[38;5;241m.\u001b[39m_decision_function(X)\n",
      "\u001b[1;31mKeyboardInterrupt\u001b[0m: "
     ]
    }
   ],
   "source": [
    "import scanpy as sc\n",
    "import numpy as np\n",
    "import os\n",
    "from glob import glob\n",
    "from sklearn.experimental import enable_iterative_imputer  # noqa\n",
    "from sklearn.impute import IterativeImputer\n",
    "\n",
    "# -----------------------------\n",
    "# Input & Output directories\n",
    "# -----------------------------\n",
    "input_dir = \"dropout_h5ad\"\n",
    "output_dir = \"imputed_iterative\"\n",
    "os.makedirs(output_dir, exist_ok=True)\n",
    "\n",
    "files = glob(os.path.join(input_dir, \"*.h5ad\"))\n",
    "\n",
    "# Configure imputer\n",
    "imputer = IterativeImputer(\n",
    "    max_iter=10,\n",
    "    random_state=0,\n",
    "    sample_posterior=False\n",
    ")\n",
    "\n",
    "for f in files:\n",
    "    print(f\"\\nProcessing {f} ...\")\n",
    "\n",
    "    adata_missing = sc.read_h5ad(f)\n",
    "    adata_missing.obs_names_make_unique()\n",
    "    adata_missing.var_names_make_unique()\n",
    "\n",
    "    adata_imp = adata_missing.copy()\n",
    "\n",
    "    # Convert to dense\n",
    "    X = adata_imp.X.toarray() if not isinstance(adata_imp.X, np.ndarray) else adata_imp.X.copy()\n",
    "\n",
    "    # Replace ALL zeros with NaN (since in practice we don’t know which are dropout)\n",
    "    X[X == 0] = np.nan\n",
    "\n",
    "    # Drop genes with all NaN (cannot impute)\n",
    "    valid_genes = ~(np.all(np.isnan(X), axis=0))\n",
    "    dropped = np.where(~valid_genes)[0]\n",
    "    if len(dropped) > 0:\n",
    "        print(f\"⚠️ Dropping {len(dropped)} all-zero genes\")\n",
    "\n",
    "    X_valid = X[:, valid_genes]\n",
    "\n",
    "    # Iterative imputation\n",
    "    X_imp_valid = imputer.fit_transform(X_valid)\n",
    "\n",
    "    # Reconstruct full matrix\n",
    "    X_imp = np.zeros_like(X)\n",
    "    X_imp[:, valid_genes] = X_imp_valid\n",
    "    # genes dropped remain zero\n",
    "\n",
    "    # Save\n",
    "    adata_imp.X = X_imp\n",
    "    fname = os.path.basename(f).replace(\"adata_dropout\", \"adata_iterative_imputed\")\n",
    "    outpath = os.path.join(output_dir, fname)\n",
    "    adata_imp.write(outpath)\n",
    "\n",
    "    print(f\"✅ Saved imputed file to: {outpath}\")\n",
    "\n",
    "print(\"\\nAll files processed with Iterative Imputation (zeros → NaN → imputed)\")\n"
   ]
  },
  {
   "cell_type": "code",
   "execution_count": 7,
   "id": "4cc84341",
   "metadata": {},
   "outputs": [
    {
     "name": "stdout",
     "output_type": "stream",
     "text": [
      "\n",
      "Processing dropout_h5ad\\adata_dropout_mf10_run1.h5ad ...\n"
     ]
    },
    {
     "name": "stderr",
     "output_type": "stream",
     "text": [
      "c:\\Users\\prath\\anaconda-new\\Lib\\site-packages\\anndata\\_core\\anndata.py:1791: UserWarning: Observation names are not unique. To make them unique, call `.obs_names_make_unique`.\n",
      "  utils.warn_names_duplicates(\"obs\")\n",
      "c:\\Users\\prath\\anaconda-new\\Lib\\site-packages\\anndata\\_core\\anndata.py:1793: UserWarning: Variable names are not unique. To make them unique, call `.var_names_make_unique`.\n",
      "  utils.warn_names_duplicates(\"var\")\n"
     ]
    },
    {
     "name": "stdout",
     "output_type": "stream",
     "text": [
      "Selected 200 HVGs out of 2000 genes\n",
      "Running imputation on HVGs matrix (14746, 200) ...\n"
     ]
    },
    {
     "name": "stderr",
     "output_type": "stream",
     "text": [
      "c:\\Users\\prath\\anaconda-new\\Lib\\site-packages\\sklearn\\impute\\_iterative.py:895: ConvergenceWarning: [IterativeImputer] Early stopping criterion not reached.\n",
      "  warnings.warn(\n"
     ]
    },
    {
     "name": "stdout",
     "output_type": "stream",
     "text": [
      "✅ Saved imputed file to: imputed_iterative\\adata_iterative_imputed_mf10_run1.h5ad\n",
      "\n",
      "Processing dropout_h5ad\\adata_dropout_mf10_run10.h5ad ...\n"
     ]
    },
    {
     "name": "stderr",
     "output_type": "stream",
     "text": [
      "c:\\Users\\prath\\anaconda-new\\Lib\\site-packages\\anndata\\_core\\anndata.py:1791: UserWarning: Observation names are not unique. To make them unique, call `.obs_names_make_unique`.\n",
      "  utils.warn_names_duplicates(\"obs\")\n",
      "c:\\Users\\prath\\anaconda-new\\Lib\\site-packages\\anndata\\_core\\anndata.py:1793: UserWarning: Variable names are not unique. To make them unique, call `.var_names_make_unique`.\n",
      "  utils.warn_names_duplicates(\"var\")\n"
     ]
    },
    {
     "name": "stdout",
     "output_type": "stream",
     "text": [
      "Selected 200 HVGs out of 2000 genes\n",
      "Running imputation on HVGs matrix (14746, 200) ...\n"
     ]
    },
    {
     "name": "stderr",
     "output_type": "stream",
     "text": [
      "c:\\Users\\prath\\anaconda-new\\Lib\\site-packages\\sklearn\\impute\\_iterative.py:895: ConvergenceWarning: [IterativeImputer] Early stopping criterion not reached.\n",
      "  warnings.warn(\n"
     ]
    },
    {
     "name": "stdout",
     "output_type": "stream",
     "text": [
      "✅ Saved imputed file to: imputed_iterative\\adata_iterative_imputed_mf10_run10.h5ad\n",
      "\n",
      "Processing dropout_h5ad\\adata_dropout_mf10_run2.h5ad ...\n"
     ]
    },
    {
     "name": "stderr",
     "output_type": "stream",
     "text": [
      "c:\\Users\\prath\\anaconda-new\\Lib\\site-packages\\anndata\\_core\\anndata.py:1791: UserWarning: Observation names are not unique. To make them unique, call `.obs_names_make_unique`.\n",
      "  utils.warn_names_duplicates(\"obs\")\n",
      "c:\\Users\\prath\\anaconda-new\\Lib\\site-packages\\anndata\\_core\\anndata.py:1793: UserWarning: Variable names are not unique. To make them unique, call `.var_names_make_unique`.\n",
      "  utils.warn_names_duplicates(\"var\")\n"
     ]
    },
    {
     "name": "stdout",
     "output_type": "stream",
     "text": [
      "Selected 200 HVGs out of 2000 genes\n",
      "Running imputation on HVGs matrix (14746, 200) ...\n"
     ]
    },
    {
     "name": "stderr",
     "output_type": "stream",
     "text": [
      "c:\\Users\\prath\\anaconda-new\\Lib\\site-packages\\sklearn\\impute\\_iterative.py:895: ConvergenceWarning: [IterativeImputer] Early stopping criterion not reached.\n",
      "  warnings.warn(\n"
     ]
    },
    {
     "name": "stdout",
     "output_type": "stream",
     "text": [
      "✅ Saved imputed file to: imputed_iterative\\adata_iterative_imputed_mf10_run2.h5ad\n",
      "\n",
      "Processing dropout_h5ad\\adata_dropout_mf10_run3.h5ad ...\n"
     ]
    },
    {
     "name": "stderr",
     "output_type": "stream",
     "text": [
      "c:\\Users\\prath\\anaconda-new\\Lib\\site-packages\\anndata\\_core\\anndata.py:1791: UserWarning: Observation names are not unique. To make them unique, call `.obs_names_make_unique`.\n",
      "  utils.warn_names_duplicates(\"obs\")\n",
      "c:\\Users\\prath\\anaconda-new\\Lib\\site-packages\\anndata\\_core\\anndata.py:1793: UserWarning: Variable names are not unique. To make them unique, call `.var_names_make_unique`.\n",
      "  utils.warn_names_duplicates(\"var\")\n"
     ]
    },
    {
     "name": "stdout",
     "output_type": "stream",
     "text": [
      "Selected 200 HVGs out of 2000 genes\n",
      "Running imputation on HVGs matrix (14746, 200) ...\n"
     ]
    },
    {
     "name": "stderr",
     "output_type": "stream",
     "text": [
      "c:\\Users\\prath\\anaconda-new\\Lib\\site-packages\\sklearn\\impute\\_iterative.py:895: ConvergenceWarning: [IterativeImputer] Early stopping criterion not reached.\n",
      "  warnings.warn(\n"
     ]
    },
    {
     "name": "stdout",
     "output_type": "stream",
     "text": [
      "✅ Saved imputed file to: imputed_iterative\\adata_iterative_imputed_mf10_run3.h5ad\n",
      "\n",
      "Processing dropout_h5ad\\adata_dropout_mf10_run4.h5ad ...\n"
     ]
    },
    {
     "name": "stderr",
     "output_type": "stream",
     "text": [
      "c:\\Users\\prath\\anaconda-new\\Lib\\site-packages\\anndata\\_core\\anndata.py:1791: UserWarning: Observation names are not unique. To make them unique, call `.obs_names_make_unique`.\n",
      "  utils.warn_names_duplicates(\"obs\")\n",
      "c:\\Users\\prath\\anaconda-new\\Lib\\site-packages\\anndata\\_core\\anndata.py:1793: UserWarning: Variable names are not unique. To make them unique, call `.var_names_make_unique`.\n",
      "  utils.warn_names_duplicates(\"var\")\n"
     ]
    },
    {
     "name": "stdout",
     "output_type": "stream",
     "text": [
      "Selected 200 HVGs out of 2000 genes\n",
      "Running imputation on HVGs matrix (14746, 200) ...\n"
     ]
    },
    {
     "name": "stderr",
     "output_type": "stream",
     "text": [
      "c:\\Users\\prath\\anaconda-new\\Lib\\site-packages\\sklearn\\impute\\_iterative.py:895: ConvergenceWarning: [IterativeImputer] Early stopping criterion not reached.\n",
      "  warnings.warn(\n"
     ]
    },
    {
     "name": "stdout",
     "output_type": "stream",
     "text": [
      "✅ Saved imputed file to: imputed_iterative\\adata_iterative_imputed_mf10_run4.h5ad\n",
      "\n",
      "Processing dropout_h5ad\\adata_dropout_mf10_run5.h5ad ...\n",
      "Selected 200 HVGs out of 2000 genes\n"
     ]
    },
    {
     "name": "stderr",
     "output_type": "stream",
     "text": [
      "c:\\Users\\prath\\anaconda-new\\Lib\\site-packages\\anndata\\_core\\anndata.py:1791: UserWarning: Observation names are not unique. To make them unique, call `.obs_names_make_unique`.\n",
      "  utils.warn_names_duplicates(\"obs\")\n",
      "c:\\Users\\prath\\anaconda-new\\Lib\\site-packages\\anndata\\_core\\anndata.py:1793: UserWarning: Variable names are not unique. To make them unique, call `.var_names_make_unique`.\n",
      "  utils.warn_names_duplicates(\"var\")\n"
     ]
    },
    {
     "name": "stdout",
     "output_type": "stream",
     "text": [
      "Running imputation on HVGs matrix (14746, 200) ...\n"
     ]
    },
    {
     "name": "stderr",
     "output_type": "stream",
     "text": [
      "c:\\Users\\prath\\anaconda-new\\Lib\\site-packages\\sklearn\\impute\\_iterative.py:895: ConvergenceWarning: [IterativeImputer] Early stopping criterion not reached.\n",
      "  warnings.warn(\n"
     ]
    },
    {
     "name": "stdout",
     "output_type": "stream",
     "text": [
      "✅ Saved imputed file to: imputed_iterative\\adata_iterative_imputed_mf10_run5.h5ad\n",
      "\n",
      "Processing dropout_h5ad\\adata_dropout_mf10_run6.h5ad ...\n"
     ]
    },
    {
     "name": "stderr",
     "output_type": "stream",
     "text": [
      "c:\\Users\\prath\\anaconda-new\\Lib\\site-packages\\anndata\\_core\\anndata.py:1791: UserWarning: Observation names are not unique. To make them unique, call `.obs_names_make_unique`.\n",
      "  utils.warn_names_duplicates(\"obs\")\n",
      "c:\\Users\\prath\\anaconda-new\\Lib\\site-packages\\anndata\\_core\\anndata.py:1793: UserWarning: Variable names are not unique. To make them unique, call `.var_names_make_unique`.\n",
      "  utils.warn_names_duplicates(\"var\")\n"
     ]
    },
    {
     "name": "stdout",
     "output_type": "stream",
     "text": [
      "Selected 200 HVGs out of 2000 genes\n",
      "Running imputation on HVGs matrix (14746, 200) ...\n"
     ]
    },
    {
     "name": "stderr",
     "output_type": "stream",
     "text": [
      "c:\\Users\\prath\\anaconda-new\\Lib\\site-packages\\sklearn\\impute\\_iterative.py:895: ConvergenceWarning: [IterativeImputer] Early stopping criterion not reached.\n",
      "  warnings.warn(\n"
     ]
    },
    {
     "name": "stdout",
     "output_type": "stream",
     "text": [
      "✅ Saved imputed file to: imputed_iterative\\adata_iterative_imputed_mf10_run6.h5ad\n",
      "\n",
      "Processing dropout_h5ad\\adata_dropout_mf10_run7.h5ad ...\n"
     ]
    },
    {
     "name": "stderr",
     "output_type": "stream",
     "text": [
      "c:\\Users\\prath\\anaconda-new\\Lib\\site-packages\\anndata\\_core\\anndata.py:1791: UserWarning: Observation names are not unique. To make them unique, call `.obs_names_make_unique`.\n",
      "  utils.warn_names_duplicates(\"obs\")\n",
      "c:\\Users\\prath\\anaconda-new\\Lib\\site-packages\\anndata\\_core\\anndata.py:1793: UserWarning: Variable names are not unique. To make them unique, call `.var_names_make_unique`.\n",
      "  utils.warn_names_duplicates(\"var\")\n"
     ]
    },
    {
     "name": "stdout",
     "output_type": "stream",
     "text": [
      "Selected 200 HVGs out of 2000 genes\n",
      "Running imputation on HVGs matrix (14746, 200) ...\n"
     ]
    },
    {
     "name": "stderr",
     "output_type": "stream",
     "text": [
      "c:\\Users\\prath\\anaconda-new\\Lib\\site-packages\\sklearn\\impute\\_iterative.py:895: ConvergenceWarning: [IterativeImputer] Early stopping criterion not reached.\n",
      "  warnings.warn(\n"
     ]
    },
    {
     "name": "stdout",
     "output_type": "stream",
     "text": [
      "✅ Saved imputed file to: imputed_iterative\\adata_iterative_imputed_mf10_run7.h5ad\n",
      "\n",
      "Processing dropout_h5ad\\adata_dropout_mf10_run8.h5ad ...\n",
      "Selected 200 HVGs out of 2000 genes\n"
     ]
    },
    {
     "name": "stderr",
     "output_type": "stream",
     "text": [
      "c:\\Users\\prath\\anaconda-new\\Lib\\site-packages\\anndata\\_core\\anndata.py:1791: UserWarning: Observation names are not unique. To make them unique, call `.obs_names_make_unique`.\n",
      "  utils.warn_names_duplicates(\"obs\")\n",
      "c:\\Users\\prath\\anaconda-new\\Lib\\site-packages\\anndata\\_core\\anndata.py:1793: UserWarning: Variable names are not unique. To make them unique, call `.var_names_make_unique`.\n",
      "  utils.warn_names_duplicates(\"var\")\n"
     ]
    },
    {
     "name": "stdout",
     "output_type": "stream",
     "text": [
      "Running imputation on HVGs matrix (14746, 200) ...\n"
     ]
    },
    {
     "name": "stderr",
     "output_type": "stream",
     "text": [
      "c:\\Users\\prath\\anaconda-new\\Lib\\site-packages\\sklearn\\impute\\_iterative.py:895: ConvergenceWarning: [IterativeImputer] Early stopping criterion not reached.\n",
      "  warnings.warn(\n"
     ]
    },
    {
     "name": "stdout",
     "output_type": "stream",
     "text": [
      "✅ Saved imputed file to: imputed_iterative\\adata_iterative_imputed_mf10_run8.h5ad\n",
      "\n",
      "Processing dropout_h5ad\\adata_dropout_mf10_run9.h5ad ...\n",
      "Selected 200 HVGs out of 2000 genes\n"
     ]
    },
    {
     "name": "stderr",
     "output_type": "stream",
     "text": [
      "c:\\Users\\prath\\anaconda-new\\Lib\\site-packages\\anndata\\_core\\anndata.py:1791: UserWarning: Observation names are not unique. To make them unique, call `.obs_names_make_unique`.\n",
      "  utils.warn_names_duplicates(\"obs\")\n",
      "c:\\Users\\prath\\anaconda-new\\Lib\\site-packages\\anndata\\_core\\anndata.py:1793: UserWarning: Variable names are not unique. To make them unique, call `.var_names_make_unique`.\n",
      "  utils.warn_names_duplicates(\"var\")\n"
     ]
    },
    {
     "name": "stdout",
     "output_type": "stream",
     "text": [
      "Running imputation on HVGs matrix (14746, 200) ...\n"
     ]
    },
    {
     "name": "stderr",
     "output_type": "stream",
     "text": [
      "c:\\Users\\prath\\anaconda-new\\Lib\\site-packages\\sklearn\\impute\\_iterative.py:895: ConvergenceWarning: [IterativeImputer] Early stopping criterion not reached.\n",
      "  warnings.warn(\n"
     ]
    },
    {
     "name": "stdout",
     "output_type": "stream",
     "text": [
      "✅ Saved imputed file to: imputed_iterative\\adata_iterative_imputed_mf10_run9.h5ad\n",
      "\n",
      "Processing dropout_h5ad\\adata_dropout_mf20_run1.h5ad ...\n",
      "Selected 200 HVGs out of 2000 genes\n"
     ]
    },
    {
     "name": "stderr",
     "output_type": "stream",
     "text": [
      "c:\\Users\\prath\\anaconda-new\\Lib\\site-packages\\anndata\\_core\\anndata.py:1791: UserWarning: Observation names are not unique. To make them unique, call `.obs_names_make_unique`.\n",
      "  utils.warn_names_duplicates(\"obs\")\n",
      "c:\\Users\\prath\\anaconda-new\\Lib\\site-packages\\anndata\\_core\\anndata.py:1793: UserWarning: Variable names are not unique. To make them unique, call `.var_names_make_unique`.\n",
      "  utils.warn_names_duplicates(\"var\")\n"
     ]
    },
    {
     "name": "stdout",
     "output_type": "stream",
     "text": [
      "Running imputation on HVGs matrix (14746, 200) ...\n"
     ]
    },
    {
     "name": "stderr",
     "output_type": "stream",
     "text": [
      "c:\\Users\\prath\\anaconda-new\\Lib\\site-packages\\sklearn\\impute\\_iterative.py:895: ConvergenceWarning: [IterativeImputer] Early stopping criterion not reached.\n",
      "  warnings.warn(\n"
     ]
    },
    {
     "name": "stdout",
     "output_type": "stream",
     "text": [
      "✅ Saved imputed file to: imputed_iterative\\adata_iterative_imputed_mf20_run1.h5ad\n",
      "\n",
      "Processing dropout_h5ad\\adata_dropout_mf20_run10.h5ad ...\n"
     ]
    },
    {
     "name": "stderr",
     "output_type": "stream",
     "text": [
      "c:\\Users\\prath\\anaconda-new\\Lib\\site-packages\\anndata\\_core\\anndata.py:1791: UserWarning: Observation names are not unique. To make them unique, call `.obs_names_make_unique`.\n",
      "  utils.warn_names_duplicates(\"obs\")\n",
      "c:\\Users\\prath\\anaconda-new\\Lib\\site-packages\\anndata\\_core\\anndata.py:1793: UserWarning: Variable names are not unique. To make them unique, call `.var_names_make_unique`.\n",
      "  utils.warn_names_duplicates(\"var\")\n"
     ]
    },
    {
     "name": "stdout",
     "output_type": "stream",
     "text": [
      "Selected 200 HVGs out of 2000 genes\n",
      "Running imputation on HVGs matrix (14746, 200) ...\n"
     ]
    },
    {
     "name": "stderr",
     "output_type": "stream",
     "text": [
      "c:\\Users\\prath\\anaconda-new\\Lib\\site-packages\\sklearn\\impute\\_iterative.py:895: ConvergenceWarning: [IterativeImputer] Early stopping criterion not reached.\n",
      "  warnings.warn(\n"
     ]
    },
    {
     "name": "stdout",
     "output_type": "stream",
     "text": [
      "✅ Saved imputed file to: imputed_iterative\\adata_iterative_imputed_mf20_run10.h5ad\n",
      "\n",
      "Processing dropout_h5ad\\adata_dropout_mf20_run2.h5ad ...\n",
      "Selected 200 HVGs out of 2000 genes\n"
     ]
    },
    {
     "name": "stderr",
     "output_type": "stream",
     "text": [
      "c:\\Users\\prath\\anaconda-new\\Lib\\site-packages\\anndata\\_core\\anndata.py:1791: UserWarning: Observation names are not unique. To make them unique, call `.obs_names_make_unique`.\n",
      "  utils.warn_names_duplicates(\"obs\")\n",
      "c:\\Users\\prath\\anaconda-new\\Lib\\site-packages\\anndata\\_core\\anndata.py:1793: UserWarning: Variable names are not unique. To make them unique, call `.var_names_make_unique`.\n",
      "  utils.warn_names_duplicates(\"var\")\n"
     ]
    },
    {
     "name": "stdout",
     "output_type": "stream",
     "text": [
      "Running imputation on HVGs matrix (14746, 200) ...\n"
     ]
    },
    {
     "name": "stderr",
     "output_type": "stream",
     "text": [
      "c:\\Users\\prath\\anaconda-new\\Lib\\site-packages\\sklearn\\impute\\_iterative.py:895: ConvergenceWarning: [IterativeImputer] Early stopping criterion not reached.\n",
      "  warnings.warn(\n"
     ]
    },
    {
     "name": "stdout",
     "output_type": "stream",
     "text": [
      "✅ Saved imputed file to: imputed_iterative\\adata_iterative_imputed_mf20_run2.h5ad\n",
      "\n",
      "Processing dropout_h5ad\\adata_dropout_mf20_run3.h5ad ...\n"
     ]
    },
    {
     "name": "stderr",
     "output_type": "stream",
     "text": [
      "c:\\Users\\prath\\anaconda-new\\Lib\\site-packages\\anndata\\_core\\anndata.py:1791: UserWarning: Observation names are not unique. To make them unique, call `.obs_names_make_unique`.\n",
      "  utils.warn_names_duplicates(\"obs\")\n",
      "c:\\Users\\prath\\anaconda-new\\Lib\\site-packages\\anndata\\_core\\anndata.py:1793: UserWarning: Variable names are not unique. To make them unique, call `.var_names_make_unique`.\n",
      "  utils.warn_names_duplicates(\"var\")\n"
     ]
    },
    {
     "name": "stdout",
     "output_type": "stream",
     "text": [
      "Selected 200 HVGs out of 2000 genes\n",
      "Running imputation on HVGs matrix (14746, 200) ...\n"
     ]
    },
    {
     "name": "stderr",
     "output_type": "stream",
     "text": [
      "c:\\Users\\prath\\anaconda-new\\Lib\\site-packages\\sklearn\\impute\\_iterative.py:895: ConvergenceWarning: [IterativeImputer] Early stopping criterion not reached.\n",
      "  warnings.warn(\n"
     ]
    },
    {
     "name": "stdout",
     "output_type": "stream",
     "text": [
      "✅ Saved imputed file to: imputed_iterative\\adata_iterative_imputed_mf20_run3.h5ad\n",
      "\n",
      "Processing dropout_h5ad\\adata_dropout_mf20_run4.h5ad ...\n"
     ]
    },
    {
     "name": "stderr",
     "output_type": "stream",
     "text": [
      "c:\\Users\\prath\\anaconda-new\\Lib\\site-packages\\anndata\\_core\\anndata.py:1791: UserWarning: Observation names are not unique. To make them unique, call `.obs_names_make_unique`.\n",
      "  utils.warn_names_duplicates(\"obs\")\n",
      "c:\\Users\\prath\\anaconda-new\\Lib\\site-packages\\anndata\\_core\\anndata.py:1793: UserWarning: Variable names are not unique. To make them unique, call `.var_names_make_unique`.\n",
      "  utils.warn_names_duplicates(\"var\")\n"
     ]
    },
    {
     "name": "stdout",
     "output_type": "stream",
     "text": [
      "Selected 200 HVGs out of 2000 genes\n",
      "Running imputation on HVGs matrix (14746, 200) ...\n"
     ]
    },
    {
     "name": "stderr",
     "output_type": "stream",
     "text": [
      "c:\\Users\\prath\\anaconda-new\\Lib\\site-packages\\sklearn\\impute\\_iterative.py:895: ConvergenceWarning: [IterativeImputer] Early stopping criterion not reached.\n",
      "  warnings.warn(\n"
     ]
    },
    {
     "name": "stdout",
     "output_type": "stream",
     "text": [
      "✅ Saved imputed file to: imputed_iterative\\adata_iterative_imputed_mf20_run4.h5ad\n",
      "\n",
      "Processing dropout_h5ad\\adata_dropout_mf20_run5.h5ad ...\n"
     ]
    },
    {
     "name": "stderr",
     "output_type": "stream",
     "text": [
      "c:\\Users\\prath\\anaconda-new\\Lib\\site-packages\\anndata\\_core\\anndata.py:1791: UserWarning: Observation names are not unique. To make them unique, call `.obs_names_make_unique`.\n",
      "  utils.warn_names_duplicates(\"obs\")\n",
      "c:\\Users\\prath\\anaconda-new\\Lib\\site-packages\\anndata\\_core\\anndata.py:1793: UserWarning: Variable names are not unique. To make them unique, call `.var_names_make_unique`.\n",
      "  utils.warn_names_duplicates(\"var\")\n"
     ]
    },
    {
     "name": "stdout",
     "output_type": "stream",
     "text": [
      "Selected 200 HVGs out of 2000 genes\n",
      "Running imputation on HVGs matrix (14746, 200) ...\n"
     ]
    },
    {
     "name": "stderr",
     "output_type": "stream",
     "text": [
      "c:\\Users\\prath\\anaconda-new\\Lib\\site-packages\\sklearn\\impute\\_iterative.py:895: ConvergenceWarning: [IterativeImputer] Early stopping criterion not reached.\n",
      "  warnings.warn(\n"
     ]
    },
    {
     "name": "stdout",
     "output_type": "stream",
     "text": [
      "✅ Saved imputed file to: imputed_iterative\\adata_iterative_imputed_mf20_run5.h5ad\n",
      "\n",
      "Processing dropout_h5ad\\adata_dropout_mf20_run6.h5ad ...\n"
     ]
    },
    {
     "name": "stderr",
     "output_type": "stream",
     "text": [
      "c:\\Users\\prath\\anaconda-new\\Lib\\site-packages\\anndata\\_core\\anndata.py:1791: UserWarning: Observation names are not unique. To make them unique, call `.obs_names_make_unique`.\n",
      "  utils.warn_names_duplicates(\"obs\")\n",
      "c:\\Users\\prath\\anaconda-new\\Lib\\site-packages\\anndata\\_core\\anndata.py:1793: UserWarning: Variable names are not unique. To make them unique, call `.var_names_make_unique`.\n",
      "  utils.warn_names_duplicates(\"var\")\n"
     ]
    },
    {
     "name": "stdout",
     "output_type": "stream",
     "text": [
      "Selected 200 HVGs out of 2000 genes\n",
      "Running imputation on HVGs matrix (14746, 200) ...\n"
     ]
    },
    {
     "name": "stderr",
     "output_type": "stream",
     "text": [
      "c:\\Users\\prath\\anaconda-new\\Lib\\site-packages\\sklearn\\impute\\_iterative.py:895: ConvergenceWarning: [IterativeImputer] Early stopping criterion not reached.\n",
      "  warnings.warn(\n"
     ]
    },
    {
     "name": "stdout",
     "output_type": "stream",
     "text": [
      "✅ Saved imputed file to: imputed_iterative\\adata_iterative_imputed_mf20_run6.h5ad\n",
      "\n",
      "Processing dropout_h5ad\\adata_dropout_mf20_run7.h5ad ...\n",
      "Selected 200 HVGs out of 2000 genes\n"
     ]
    },
    {
     "name": "stderr",
     "output_type": "stream",
     "text": [
      "c:\\Users\\prath\\anaconda-new\\Lib\\site-packages\\anndata\\_core\\anndata.py:1791: UserWarning: Observation names are not unique. To make them unique, call `.obs_names_make_unique`.\n",
      "  utils.warn_names_duplicates(\"obs\")\n",
      "c:\\Users\\prath\\anaconda-new\\Lib\\site-packages\\anndata\\_core\\anndata.py:1793: UserWarning: Variable names are not unique. To make them unique, call `.var_names_make_unique`.\n",
      "  utils.warn_names_duplicates(\"var\")\n"
     ]
    },
    {
     "name": "stdout",
     "output_type": "stream",
     "text": [
      "Running imputation on HVGs matrix (14746, 200) ...\n"
     ]
    },
    {
     "name": "stderr",
     "output_type": "stream",
     "text": [
      "c:\\Users\\prath\\anaconda-new\\Lib\\site-packages\\sklearn\\impute\\_iterative.py:895: ConvergenceWarning: [IterativeImputer] Early stopping criterion not reached.\n",
      "  warnings.warn(\n"
     ]
    },
    {
     "name": "stdout",
     "output_type": "stream",
     "text": [
      "✅ Saved imputed file to: imputed_iterative\\adata_iterative_imputed_mf20_run7.h5ad\n",
      "\n",
      "Processing dropout_h5ad\\adata_dropout_mf20_run8.h5ad ...\n",
      "Selected 200 HVGs out of 2000 genes\n"
     ]
    },
    {
     "name": "stderr",
     "output_type": "stream",
     "text": [
      "c:\\Users\\prath\\anaconda-new\\Lib\\site-packages\\anndata\\_core\\anndata.py:1791: UserWarning: Observation names are not unique. To make them unique, call `.obs_names_make_unique`.\n",
      "  utils.warn_names_duplicates(\"obs\")\n",
      "c:\\Users\\prath\\anaconda-new\\Lib\\site-packages\\anndata\\_core\\anndata.py:1793: UserWarning: Variable names are not unique. To make them unique, call `.var_names_make_unique`.\n",
      "  utils.warn_names_duplicates(\"var\")\n"
     ]
    },
    {
     "name": "stdout",
     "output_type": "stream",
     "text": [
      "Running imputation on HVGs matrix (14746, 200) ...\n"
     ]
    },
    {
     "name": "stderr",
     "output_type": "stream",
     "text": [
      "c:\\Users\\prath\\anaconda-new\\Lib\\site-packages\\sklearn\\impute\\_iterative.py:895: ConvergenceWarning: [IterativeImputer] Early stopping criterion not reached.\n",
      "  warnings.warn(\n"
     ]
    },
    {
     "name": "stdout",
     "output_type": "stream",
     "text": [
      "✅ Saved imputed file to: imputed_iterative\\adata_iterative_imputed_mf20_run8.h5ad\n",
      "\n",
      "Processing dropout_h5ad\\adata_dropout_mf20_run9.h5ad ...\n",
      "Selected 200 HVGs out of 2000 genes\n"
     ]
    },
    {
     "name": "stderr",
     "output_type": "stream",
     "text": [
      "c:\\Users\\prath\\anaconda-new\\Lib\\site-packages\\anndata\\_core\\anndata.py:1791: UserWarning: Observation names are not unique. To make them unique, call `.obs_names_make_unique`.\n",
      "  utils.warn_names_duplicates(\"obs\")\n",
      "c:\\Users\\prath\\anaconda-new\\Lib\\site-packages\\anndata\\_core\\anndata.py:1793: UserWarning: Variable names are not unique. To make them unique, call `.var_names_make_unique`.\n",
      "  utils.warn_names_duplicates(\"var\")\n"
     ]
    },
    {
     "name": "stdout",
     "output_type": "stream",
     "text": [
      "Running imputation on HVGs matrix (14746, 200) ...\n"
     ]
    },
    {
     "name": "stderr",
     "output_type": "stream",
     "text": [
      "c:\\Users\\prath\\anaconda-new\\Lib\\site-packages\\sklearn\\impute\\_iterative.py:895: ConvergenceWarning: [IterativeImputer] Early stopping criterion not reached.\n",
      "  warnings.warn(\n"
     ]
    },
    {
     "name": "stdout",
     "output_type": "stream",
     "text": [
      "✅ Saved imputed file to: imputed_iterative\\adata_iterative_imputed_mf20_run9.h5ad\n",
      "\n",
      "Processing dropout_h5ad\\adata_dropout_mf30_run1.h5ad ...\n"
     ]
    },
    {
     "name": "stderr",
     "output_type": "stream",
     "text": [
      "c:\\Users\\prath\\anaconda-new\\Lib\\site-packages\\anndata\\_core\\anndata.py:1791: UserWarning: Observation names are not unique. To make them unique, call `.obs_names_make_unique`.\n",
      "  utils.warn_names_duplicates(\"obs\")\n",
      "c:\\Users\\prath\\anaconda-new\\Lib\\site-packages\\anndata\\_core\\anndata.py:1793: UserWarning: Variable names are not unique. To make them unique, call `.var_names_make_unique`.\n",
      "  utils.warn_names_duplicates(\"var\")\n"
     ]
    },
    {
     "name": "stdout",
     "output_type": "stream",
     "text": [
      "Selected 200 HVGs out of 2000 genes\n",
      "Running imputation on HVGs matrix (14746, 200) ...\n"
     ]
    },
    {
     "name": "stderr",
     "output_type": "stream",
     "text": [
      "c:\\Users\\prath\\anaconda-new\\Lib\\site-packages\\sklearn\\impute\\_iterative.py:895: ConvergenceWarning: [IterativeImputer] Early stopping criterion not reached.\n",
      "  warnings.warn(\n"
     ]
    },
    {
     "name": "stdout",
     "output_type": "stream",
     "text": [
      "✅ Saved imputed file to: imputed_iterative\\adata_iterative_imputed_mf30_run1.h5ad\n",
      "\n",
      "Processing dropout_h5ad\\adata_dropout_mf30_run10.h5ad ...\n"
     ]
    },
    {
     "name": "stderr",
     "output_type": "stream",
     "text": [
      "c:\\Users\\prath\\anaconda-new\\Lib\\site-packages\\anndata\\_core\\anndata.py:1791: UserWarning: Observation names are not unique. To make them unique, call `.obs_names_make_unique`.\n",
      "  utils.warn_names_duplicates(\"obs\")\n",
      "c:\\Users\\prath\\anaconda-new\\Lib\\site-packages\\anndata\\_core\\anndata.py:1793: UserWarning: Variable names are not unique. To make them unique, call `.var_names_make_unique`.\n",
      "  utils.warn_names_duplicates(\"var\")\n"
     ]
    },
    {
     "name": "stdout",
     "output_type": "stream",
     "text": [
      "Selected 200 HVGs out of 2000 genes\n",
      "Running imputation on HVGs matrix (14746, 200) ...\n"
     ]
    },
    {
     "name": "stderr",
     "output_type": "stream",
     "text": [
      "c:\\Users\\prath\\anaconda-new\\Lib\\site-packages\\sklearn\\impute\\_iterative.py:895: ConvergenceWarning: [IterativeImputer] Early stopping criterion not reached.\n",
      "  warnings.warn(\n"
     ]
    },
    {
     "name": "stdout",
     "output_type": "stream",
     "text": [
      "✅ Saved imputed file to: imputed_iterative\\adata_iterative_imputed_mf30_run10.h5ad\n",
      "\n",
      "Processing dropout_h5ad\\adata_dropout_mf30_run2.h5ad ...\n"
     ]
    },
    {
     "name": "stderr",
     "output_type": "stream",
     "text": [
      "c:\\Users\\prath\\anaconda-new\\Lib\\site-packages\\anndata\\_core\\anndata.py:1791: UserWarning: Observation names are not unique. To make them unique, call `.obs_names_make_unique`.\n",
      "  utils.warn_names_duplicates(\"obs\")\n",
      "c:\\Users\\prath\\anaconda-new\\Lib\\site-packages\\anndata\\_core\\anndata.py:1793: UserWarning: Variable names are not unique. To make them unique, call `.var_names_make_unique`.\n",
      "  utils.warn_names_duplicates(\"var\")\n"
     ]
    },
    {
     "name": "stdout",
     "output_type": "stream",
     "text": [
      "Selected 200 HVGs out of 2000 genes\n",
      "Running imputation on HVGs matrix (14746, 200) ...\n"
     ]
    },
    {
     "name": "stderr",
     "output_type": "stream",
     "text": [
      "c:\\Users\\prath\\anaconda-new\\Lib\\site-packages\\sklearn\\impute\\_iterative.py:895: ConvergenceWarning: [IterativeImputer] Early stopping criterion not reached.\n",
      "  warnings.warn(\n"
     ]
    },
    {
     "name": "stdout",
     "output_type": "stream",
     "text": [
      "✅ Saved imputed file to: imputed_iterative\\adata_iterative_imputed_mf30_run2.h5ad\n",
      "\n",
      "Processing dropout_h5ad\\adata_dropout_mf30_run3.h5ad ...\n"
     ]
    },
    {
     "name": "stderr",
     "output_type": "stream",
     "text": [
      "c:\\Users\\prath\\anaconda-new\\Lib\\site-packages\\anndata\\_core\\anndata.py:1791: UserWarning: Observation names are not unique. To make them unique, call `.obs_names_make_unique`.\n",
      "  utils.warn_names_duplicates(\"obs\")\n",
      "c:\\Users\\prath\\anaconda-new\\Lib\\site-packages\\anndata\\_core\\anndata.py:1793: UserWarning: Variable names are not unique. To make them unique, call `.var_names_make_unique`.\n",
      "  utils.warn_names_duplicates(\"var\")\n"
     ]
    },
    {
     "name": "stdout",
     "output_type": "stream",
     "text": [
      "Selected 200 HVGs out of 2000 genes\n",
      "Running imputation on HVGs matrix (14746, 200) ...\n"
     ]
    },
    {
     "name": "stderr",
     "output_type": "stream",
     "text": [
      "c:\\Users\\prath\\anaconda-new\\Lib\\site-packages\\sklearn\\impute\\_iterative.py:895: ConvergenceWarning: [IterativeImputer] Early stopping criterion not reached.\n",
      "  warnings.warn(\n"
     ]
    },
    {
     "name": "stdout",
     "output_type": "stream",
     "text": [
      "✅ Saved imputed file to: imputed_iterative\\adata_iterative_imputed_mf30_run3.h5ad\n",
      "\n",
      "Processing dropout_h5ad\\adata_dropout_mf30_run4.h5ad ...\n"
     ]
    },
    {
     "name": "stderr",
     "output_type": "stream",
     "text": [
      "c:\\Users\\prath\\anaconda-new\\Lib\\site-packages\\anndata\\_core\\anndata.py:1791: UserWarning: Observation names are not unique. To make them unique, call `.obs_names_make_unique`.\n",
      "  utils.warn_names_duplicates(\"obs\")\n",
      "c:\\Users\\prath\\anaconda-new\\Lib\\site-packages\\anndata\\_core\\anndata.py:1793: UserWarning: Variable names are not unique. To make them unique, call `.var_names_make_unique`.\n",
      "  utils.warn_names_duplicates(\"var\")\n"
     ]
    },
    {
     "name": "stdout",
     "output_type": "stream",
     "text": [
      "Selected 200 HVGs out of 2000 genes\n",
      "Running imputation on HVGs matrix (14746, 200) ...\n"
     ]
    },
    {
     "name": "stderr",
     "output_type": "stream",
     "text": [
      "c:\\Users\\prath\\anaconda-new\\Lib\\site-packages\\sklearn\\impute\\_iterative.py:895: ConvergenceWarning: [IterativeImputer] Early stopping criterion not reached.\n",
      "  warnings.warn(\n"
     ]
    },
    {
     "name": "stdout",
     "output_type": "stream",
     "text": [
      "✅ Saved imputed file to: imputed_iterative\\adata_iterative_imputed_mf30_run4.h5ad\n",
      "\n",
      "Processing dropout_h5ad\\adata_dropout_mf30_run5.h5ad ...\n"
     ]
    },
    {
     "name": "stderr",
     "output_type": "stream",
     "text": [
      "c:\\Users\\prath\\anaconda-new\\Lib\\site-packages\\anndata\\_core\\anndata.py:1791: UserWarning: Observation names are not unique. To make them unique, call `.obs_names_make_unique`.\n",
      "  utils.warn_names_duplicates(\"obs\")\n",
      "c:\\Users\\prath\\anaconda-new\\Lib\\site-packages\\anndata\\_core\\anndata.py:1793: UserWarning: Variable names are not unique. To make them unique, call `.var_names_make_unique`.\n",
      "  utils.warn_names_duplicates(\"var\")\n"
     ]
    },
    {
     "name": "stdout",
     "output_type": "stream",
     "text": [
      "Selected 200 HVGs out of 2000 genes\n",
      "Running imputation on HVGs matrix (14746, 200) ...\n"
     ]
    },
    {
     "name": "stderr",
     "output_type": "stream",
     "text": [
      "c:\\Users\\prath\\anaconda-new\\Lib\\site-packages\\sklearn\\impute\\_iterative.py:895: ConvergenceWarning: [IterativeImputer] Early stopping criterion not reached.\n",
      "  warnings.warn(\n"
     ]
    },
    {
     "name": "stdout",
     "output_type": "stream",
     "text": [
      "✅ Saved imputed file to: imputed_iterative\\adata_iterative_imputed_mf30_run5.h5ad\n",
      "\n",
      "Processing dropout_h5ad\\adata_dropout_mf30_run6.h5ad ...\n"
     ]
    },
    {
     "name": "stderr",
     "output_type": "stream",
     "text": [
      "c:\\Users\\prath\\anaconda-new\\Lib\\site-packages\\anndata\\_core\\anndata.py:1791: UserWarning: Observation names are not unique. To make them unique, call `.obs_names_make_unique`.\n",
      "  utils.warn_names_duplicates(\"obs\")\n",
      "c:\\Users\\prath\\anaconda-new\\Lib\\site-packages\\anndata\\_core\\anndata.py:1793: UserWarning: Variable names are not unique. To make them unique, call `.var_names_make_unique`.\n",
      "  utils.warn_names_duplicates(\"var\")\n"
     ]
    },
    {
     "name": "stdout",
     "output_type": "stream",
     "text": [
      "Selected 200 HVGs out of 2000 genes\n",
      "Running imputation on HVGs matrix (14746, 200) ...\n"
     ]
    },
    {
     "name": "stderr",
     "output_type": "stream",
     "text": [
      "c:\\Users\\prath\\anaconda-new\\Lib\\site-packages\\sklearn\\impute\\_iterative.py:895: ConvergenceWarning: [IterativeImputer] Early stopping criterion not reached.\n",
      "  warnings.warn(\n"
     ]
    },
    {
     "name": "stdout",
     "output_type": "stream",
     "text": [
      "✅ Saved imputed file to: imputed_iterative\\adata_iterative_imputed_mf30_run6.h5ad\n",
      "\n",
      "Processing dropout_h5ad\\adata_dropout_mf30_run7.h5ad ...\n"
     ]
    },
    {
     "name": "stderr",
     "output_type": "stream",
     "text": [
      "c:\\Users\\prath\\anaconda-new\\Lib\\site-packages\\anndata\\_core\\anndata.py:1791: UserWarning: Observation names are not unique. To make them unique, call `.obs_names_make_unique`.\n",
      "  utils.warn_names_duplicates(\"obs\")\n",
      "c:\\Users\\prath\\anaconda-new\\Lib\\site-packages\\anndata\\_core\\anndata.py:1793: UserWarning: Variable names are not unique. To make them unique, call `.var_names_make_unique`.\n",
      "  utils.warn_names_duplicates(\"var\")\n"
     ]
    },
    {
     "name": "stdout",
     "output_type": "stream",
     "text": [
      "Selected 200 HVGs out of 2000 genes\n",
      "Running imputation on HVGs matrix (14746, 200) ...\n"
     ]
    },
    {
     "name": "stderr",
     "output_type": "stream",
     "text": [
      "c:\\Users\\prath\\anaconda-new\\Lib\\site-packages\\sklearn\\impute\\_iterative.py:895: ConvergenceWarning: [IterativeImputer] Early stopping criterion not reached.\n",
      "  warnings.warn(\n"
     ]
    },
    {
     "name": "stdout",
     "output_type": "stream",
     "text": [
      "✅ Saved imputed file to: imputed_iterative\\adata_iterative_imputed_mf30_run7.h5ad\n",
      "\n",
      "Processing dropout_h5ad\\adata_dropout_mf30_run8.h5ad ...\n"
     ]
    },
    {
     "name": "stderr",
     "output_type": "stream",
     "text": [
      "c:\\Users\\prath\\anaconda-new\\Lib\\site-packages\\anndata\\_core\\anndata.py:1791: UserWarning: Observation names are not unique. To make them unique, call `.obs_names_make_unique`.\n",
      "  utils.warn_names_duplicates(\"obs\")\n",
      "c:\\Users\\prath\\anaconda-new\\Lib\\site-packages\\anndata\\_core\\anndata.py:1793: UserWarning: Variable names are not unique. To make them unique, call `.var_names_make_unique`.\n",
      "  utils.warn_names_duplicates(\"var\")\n"
     ]
    },
    {
     "name": "stdout",
     "output_type": "stream",
     "text": [
      "Selected 200 HVGs out of 2000 genes\n",
      "Running imputation on HVGs matrix (14746, 200) ...\n"
     ]
    },
    {
     "name": "stderr",
     "output_type": "stream",
     "text": [
      "c:\\Users\\prath\\anaconda-new\\Lib\\site-packages\\sklearn\\impute\\_iterative.py:895: ConvergenceWarning: [IterativeImputer] Early stopping criterion not reached.\n",
      "  warnings.warn(\n"
     ]
    },
    {
     "name": "stdout",
     "output_type": "stream",
     "text": [
      "✅ Saved imputed file to: imputed_iterative\\adata_iterative_imputed_mf30_run8.h5ad\n",
      "\n",
      "Processing dropout_h5ad\\adata_dropout_mf30_run9.h5ad ...\n"
     ]
    },
    {
     "name": "stderr",
     "output_type": "stream",
     "text": [
      "c:\\Users\\prath\\anaconda-new\\Lib\\site-packages\\anndata\\_core\\anndata.py:1791: UserWarning: Observation names are not unique. To make them unique, call `.obs_names_make_unique`.\n",
      "  utils.warn_names_duplicates(\"obs\")\n",
      "c:\\Users\\prath\\anaconda-new\\Lib\\site-packages\\anndata\\_core\\anndata.py:1793: UserWarning: Variable names are not unique. To make them unique, call `.var_names_make_unique`.\n",
      "  utils.warn_names_duplicates(\"var\")\n"
     ]
    },
    {
     "name": "stdout",
     "output_type": "stream",
     "text": [
      "Selected 200 HVGs out of 2000 genes\n",
      "Running imputation on HVGs matrix (14746, 200) ...\n"
     ]
    },
    {
     "name": "stderr",
     "output_type": "stream",
     "text": [
      "c:\\Users\\prath\\anaconda-new\\Lib\\site-packages\\sklearn\\impute\\_iterative.py:895: ConvergenceWarning: [IterativeImputer] Early stopping criterion not reached.\n",
      "  warnings.warn(\n"
     ]
    },
    {
     "name": "stdout",
     "output_type": "stream",
     "text": [
      "✅ Saved imputed file to: imputed_iterative\\adata_iterative_imputed_mf30_run9.h5ad\n",
      "\n",
      "All files processed with Iterative Imputation (HVGs only)\n"
     ]
    }
   ],
   "source": [
    "import scanpy as sc\n",
    "import numpy as np\n",
    "import os\n",
    "from glob import glob\n",
    "from sklearn.experimental import enable_iterative_imputer  # noqa\n",
    "from sklearn.impute import IterativeImputer\n",
    "from sklearn.ensemble import ExtraTreesRegressor\n",
    "\n",
    "# -----------------------------\n",
    "# Input & Output directories\n",
    "# -----------------------------\n",
    "input_dir = \"dropout_h5ad\"\n",
    "output_dir = \"imputed_iterative\"\n",
    "os.makedirs(output_dir, exist_ok=True)\n",
    "\n",
    "files = glob(os.path.join(input_dir, \"*.h5ad\"))\n",
    "\n",
    "# Iterative Imputer with faster estimator\n",
    "imputer = IterativeImputer(\n",
    "    estimator=ExtraTreesRegressor(n_estimators=10, random_state=0, n_jobs=-1),\n",
    "    max_iter=2,\n",
    "    random_state=0\n",
    ")\n",
    "\n",
    "for f in files:\n",
    "    print(f\"\\nProcessing {f} ...\")\n",
    "\n",
    "    adata_missing = sc.read_h5ad(f)\n",
    "    adata_missing.obs_names_make_unique()\n",
    "    adata_missing.var_names_make_unique()\n",
    "\n",
    "    # Copy for imputation\n",
    "    adata_imp = adata_missing.copy()\n",
    "\n",
    "    # Step 1: Identify HVGs\n",
    "    sc.pp.highly_variable_genes(adata_imp, n_top_genes=200, flavor=\"cell_ranger\")\n",
    "    hvg_mask = adata_imp.var[\"highly_variable\"].values\n",
    "    print(f\"Selected {hvg_mask.sum()} HVGs out of {adata_imp.n_vars} genes\")\n",
    "\n",
    "    # Step 2: Convert to dense\n",
    "    X = adata_imp.X.toarray() if not isinstance(adata_imp.X, np.ndarray) else adata_imp.X.copy()\n",
    "\n",
    "    # Step 3: Replace zeros with NaN (treat as missing)\n",
    "    X[X == 0] = np.nan\n",
    "\n",
    "    # Step 4: Impute only HVGs\n",
    "    X_hvg = X[:, hvg_mask]\n",
    "    valid_genes = ~(np.all(np.isnan(X_hvg), axis=0))\n",
    "    X_hvg_valid = X_hvg[:, valid_genes]\n",
    "\n",
    "    print(f\"Running imputation on HVGs matrix {X_hvg_valid.shape} ...\")\n",
    "    X_hvg_imp_valid = imputer.fit_transform(X_hvg_valid)\n",
    "\n",
    "    # Step 5: Reconstruct HVG matrix\n",
    "    X_hvg_imp = np.zeros_like(X_hvg)\n",
    "    X_hvg_imp[:, valid_genes] = X_hvg_imp_valid\n",
    "    # dropped HVGs stay zero\n",
    "\n",
    "    # Step 6: Insert HVGs back into full matrix\n",
    "    X_final = X.copy()\n",
    "    X_final[:, hvg_mask] = X_hvg_imp\n",
    "\n",
    "    # Step 7: Assign back\n",
    "    adata_imp.X = X_final\n",
    "\n",
    "    # Save\n",
    "    fname = os.path.basename(f).replace(\"adata_dropout\", \"adata_iterative_imputed\")\n",
    "    outpath = os.path.join(output_dir, fname)\n",
    "    adata_imp.write(outpath)\n",
    "\n",
    "    print(f\"✅ Saved imputed file to: {outpath}\")\n",
    "\n",
    "print(\"\\nAll files processed with Iterative Imputation (HVGs only)\")\n"
   ]
  },
  {
   "cell_type": "code",
   "execution_count": 4,
   "id": "c56d998f",
   "metadata": {},
   "outputs": [
    {
     "name": "stdout",
     "output_type": "stream",
     "text": [
      "Collecting scikit-miscNote: you may need to restart the kernel to use updated packages.\n",
      "\n",
      "  Downloading scikit_misc-0.5.1-cp312-cp312-win_amd64.whl.metadata (5.0 kB)\n",
      "Requirement already satisfied: numpy>=1.23.5 in c:\\users\\prath\\anaconda-new\\lib\\site-packages (from scikit-misc) (1.26.4)\n",
      "Downloading scikit_misc-0.5.1-cp312-cp312-win_amd64.whl (157 kB)\n",
      "Installing collected packages: scikit-misc\n",
      "Successfully installed scikit-misc-0.5.1\n"
     ]
    }
   ],
   "source": [
    "pip install --user scikit-misc"
   ]
  },
  {
   "cell_type": "code",
   "execution_count": 8,
   "id": "bf73132a",
   "metadata": {},
   "outputs": [
    {
     "name": "stdout",
     "output_type": "stream",
     "text": [
      "\n",
      "Processing dropout_h5ad\\adata_dropout_mf10_run1.h5ad ...\n"
     ]
    },
    {
     "name": "stderr",
     "output_type": "stream",
     "text": [
      "c:\\Users\\prath\\anaconda-new\\Lib\\site-packages\\anndata\\_core\\anndata.py:1791: UserWarning: Observation names are not unique. To make them unique, call `.obs_names_make_unique`.\n",
      "  utils.warn_names_duplicates(\"obs\")\n",
      "c:\\Users\\prath\\anaconda-new\\Lib\\site-packages\\anndata\\_core\\anndata.py:1793: UserWarning: Variable names are not unique. To make them unique, call `.var_names_make_unique`.\n",
      "  utils.warn_names_duplicates(\"var\")\n"
     ]
    },
    {
     "name": "stdout",
     "output_type": "stream",
     "text": [
      "Selected 200 HVGs out of 2000 genes\n",
      "Running KNNImputer on HVGs matrix (14746, 200) ...\n",
      "✅ Saved imputed file to: imputed_knn\\adata_knn_imputed_mf10_run1.h5ad\n",
      "\n",
      "Processing dropout_h5ad\\adata_dropout_mf10_run10.h5ad ...\n"
     ]
    },
    {
     "name": "stderr",
     "output_type": "stream",
     "text": [
      "c:\\Users\\prath\\anaconda-new\\Lib\\site-packages\\anndata\\_core\\anndata.py:1791: UserWarning: Observation names are not unique. To make them unique, call `.obs_names_make_unique`.\n",
      "  utils.warn_names_duplicates(\"obs\")\n",
      "c:\\Users\\prath\\anaconda-new\\Lib\\site-packages\\anndata\\_core\\anndata.py:1793: UserWarning: Variable names are not unique. To make them unique, call `.var_names_make_unique`.\n",
      "  utils.warn_names_duplicates(\"var\")\n"
     ]
    },
    {
     "name": "stdout",
     "output_type": "stream",
     "text": [
      "Selected 200 HVGs out of 2000 genes\n",
      "Running KNNImputer on HVGs matrix (14746, 200) ...\n",
      "✅ Saved imputed file to: imputed_knn\\adata_knn_imputed_mf10_run10.h5ad\n",
      "\n",
      "Processing dropout_h5ad\\adata_dropout_mf10_run2.h5ad ...\n"
     ]
    },
    {
     "name": "stderr",
     "output_type": "stream",
     "text": [
      "c:\\Users\\prath\\anaconda-new\\Lib\\site-packages\\anndata\\_core\\anndata.py:1791: UserWarning: Observation names are not unique. To make them unique, call `.obs_names_make_unique`.\n",
      "  utils.warn_names_duplicates(\"obs\")\n",
      "c:\\Users\\prath\\anaconda-new\\Lib\\site-packages\\anndata\\_core\\anndata.py:1793: UserWarning: Variable names are not unique. To make them unique, call `.var_names_make_unique`.\n",
      "  utils.warn_names_duplicates(\"var\")\n"
     ]
    },
    {
     "name": "stdout",
     "output_type": "stream",
     "text": [
      "Selected 200 HVGs out of 2000 genes\n",
      "Running KNNImputer on HVGs matrix (14746, 200) ...\n",
      "✅ Saved imputed file to: imputed_knn\\adata_knn_imputed_mf10_run2.h5ad\n",
      "\n",
      "Processing dropout_h5ad\\adata_dropout_mf10_run3.h5ad ...\n"
     ]
    },
    {
     "name": "stderr",
     "output_type": "stream",
     "text": [
      "c:\\Users\\prath\\anaconda-new\\Lib\\site-packages\\anndata\\_core\\anndata.py:1791: UserWarning: Observation names are not unique. To make them unique, call `.obs_names_make_unique`.\n",
      "  utils.warn_names_duplicates(\"obs\")\n",
      "c:\\Users\\prath\\anaconda-new\\Lib\\site-packages\\anndata\\_core\\anndata.py:1793: UserWarning: Variable names are not unique. To make them unique, call `.var_names_make_unique`.\n",
      "  utils.warn_names_duplicates(\"var\")\n"
     ]
    },
    {
     "name": "stdout",
     "output_type": "stream",
     "text": [
      "Selected 200 HVGs out of 2000 genes\n",
      "Running KNNImputer on HVGs matrix (14746, 200) ...\n",
      "✅ Saved imputed file to: imputed_knn\\adata_knn_imputed_mf10_run3.h5ad\n",
      "\n",
      "Processing dropout_h5ad\\adata_dropout_mf10_run4.h5ad ...\n"
     ]
    },
    {
     "name": "stderr",
     "output_type": "stream",
     "text": [
      "c:\\Users\\prath\\anaconda-new\\Lib\\site-packages\\anndata\\_core\\anndata.py:1791: UserWarning: Observation names are not unique. To make them unique, call `.obs_names_make_unique`.\n",
      "  utils.warn_names_duplicates(\"obs\")\n",
      "c:\\Users\\prath\\anaconda-new\\Lib\\site-packages\\anndata\\_core\\anndata.py:1793: UserWarning: Variable names are not unique. To make them unique, call `.var_names_make_unique`.\n",
      "  utils.warn_names_duplicates(\"var\")\n"
     ]
    },
    {
     "name": "stdout",
     "output_type": "stream",
     "text": [
      "Selected 200 HVGs out of 2000 genes\n",
      "Running KNNImputer on HVGs matrix (14746, 200) ...\n",
      "✅ Saved imputed file to: imputed_knn\\adata_knn_imputed_mf10_run4.h5ad\n",
      "\n",
      "Processing dropout_h5ad\\adata_dropout_mf10_run5.h5ad ...\n"
     ]
    },
    {
     "name": "stderr",
     "output_type": "stream",
     "text": [
      "c:\\Users\\prath\\anaconda-new\\Lib\\site-packages\\anndata\\_core\\anndata.py:1791: UserWarning: Observation names are not unique. To make them unique, call `.obs_names_make_unique`.\n",
      "  utils.warn_names_duplicates(\"obs\")\n",
      "c:\\Users\\prath\\anaconda-new\\Lib\\site-packages\\anndata\\_core\\anndata.py:1793: UserWarning: Variable names are not unique. To make them unique, call `.var_names_make_unique`.\n",
      "  utils.warn_names_duplicates(\"var\")\n"
     ]
    },
    {
     "name": "stdout",
     "output_type": "stream",
     "text": [
      "Selected 200 HVGs out of 2000 genes\n",
      "Running KNNImputer on HVGs matrix (14746, 200) ...\n",
      "✅ Saved imputed file to: imputed_knn\\adata_knn_imputed_mf10_run5.h5ad\n",
      "\n",
      "Processing dropout_h5ad\\adata_dropout_mf10_run6.h5ad ...\n"
     ]
    },
    {
     "name": "stderr",
     "output_type": "stream",
     "text": [
      "c:\\Users\\prath\\anaconda-new\\Lib\\site-packages\\anndata\\_core\\anndata.py:1791: UserWarning: Observation names are not unique. To make them unique, call `.obs_names_make_unique`.\n",
      "  utils.warn_names_duplicates(\"obs\")\n",
      "c:\\Users\\prath\\anaconda-new\\Lib\\site-packages\\anndata\\_core\\anndata.py:1793: UserWarning: Variable names are not unique. To make them unique, call `.var_names_make_unique`.\n",
      "  utils.warn_names_duplicates(\"var\")\n"
     ]
    },
    {
     "name": "stdout",
     "output_type": "stream",
     "text": [
      "Selected 200 HVGs out of 2000 genes\n",
      "Running KNNImputer on HVGs matrix (14746, 200) ...\n",
      "✅ Saved imputed file to: imputed_knn\\adata_knn_imputed_mf10_run6.h5ad\n",
      "\n",
      "Processing dropout_h5ad\\adata_dropout_mf10_run7.h5ad ...\n"
     ]
    },
    {
     "name": "stderr",
     "output_type": "stream",
     "text": [
      "c:\\Users\\prath\\anaconda-new\\Lib\\site-packages\\anndata\\_core\\anndata.py:1791: UserWarning: Observation names are not unique. To make them unique, call `.obs_names_make_unique`.\n",
      "  utils.warn_names_duplicates(\"obs\")\n",
      "c:\\Users\\prath\\anaconda-new\\Lib\\site-packages\\anndata\\_core\\anndata.py:1793: UserWarning: Variable names are not unique. To make them unique, call `.var_names_make_unique`.\n",
      "  utils.warn_names_duplicates(\"var\")\n"
     ]
    },
    {
     "name": "stdout",
     "output_type": "stream",
     "text": [
      "Selected 200 HVGs out of 2000 genes\n",
      "Running KNNImputer on HVGs matrix (14746, 200) ...\n",
      "✅ Saved imputed file to: imputed_knn\\adata_knn_imputed_mf10_run7.h5ad\n",
      "\n",
      "Processing dropout_h5ad\\adata_dropout_mf10_run8.h5ad ...\n"
     ]
    },
    {
     "name": "stderr",
     "output_type": "stream",
     "text": [
      "c:\\Users\\prath\\anaconda-new\\Lib\\site-packages\\anndata\\_core\\anndata.py:1791: UserWarning: Observation names are not unique. To make them unique, call `.obs_names_make_unique`.\n",
      "  utils.warn_names_duplicates(\"obs\")\n",
      "c:\\Users\\prath\\anaconda-new\\Lib\\site-packages\\anndata\\_core\\anndata.py:1793: UserWarning: Variable names are not unique. To make them unique, call `.var_names_make_unique`.\n",
      "  utils.warn_names_duplicates(\"var\")\n"
     ]
    },
    {
     "name": "stdout",
     "output_type": "stream",
     "text": [
      "Selected 200 HVGs out of 2000 genes\n",
      "Running KNNImputer on HVGs matrix (14746, 200) ...\n",
      "✅ Saved imputed file to: imputed_knn\\adata_knn_imputed_mf10_run8.h5ad\n",
      "\n",
      "Processing dropout_h5ad\\adata_dropout_mf10_run9.h5ad ...\n"
     ]
    },
    {
     "name": "stderr",
     "output_type": "stream",
     "text": [
      "c:\\Users\\prath\\anaconda-new\\Lib\\site-packages\\anndata\\_core\\anndata.py:1791: UserWarning: Observation names are not unique. To make them unique, call `.obs_names_make_unique`.\n",
      "  utils.warn_names_duplicates(\"obs\")\n",
      "c:\\Users\\prath\\anaconda-new\\Lib\\site-packages\\anndata\\_core\\anndata.py:1793: UserWarning: Variable names are not unique. To make them unique, call `.var_names_make_unique`.\n",
      "  utils.warn_names_duplicates(\"var\")\n"
     ]
    },
    {
     "name": "stdout",
     "output_type": "stream",
     "text": [
      "Selected 200 HVGs out of 2000 genes\n",
      "Running KNNImputer on HVGs matrix (14746, 200) ...\n",
      "✅ Saved imputed file to: imputed_knn\\adata_knn_imputed_mf10_run9.h5ad\n",
      "\n",
      "Processing dropout_h5ad\\adata_dropout_mf20_run1.h5ad ...\n"
     ]
    },
    {
     "name": "stderr",
     "output_type": "stream",
     "text": [
      "c:\\Users\\prath\\anaconda-new\\Lib\\site-packages\\anndata\\_core\\anndata.py:1791: UserWarning: Observation names are not unique. To make them unique, call `.obs_names_make_unique`.\n",
      "  utils.warn_names_duplicates(\"obs\")\n",
      "c:\\Users\\prath\\anaconda-new\\Lib\\site-packages\\anndata\\_core\\anndata.py:1793: UserWarning: Variable names are not unique. To make them unique, call `.var_names_make_unique`.\n",
      "  utils.warn_names_duplicates(\"var\")\n"
     ]
    },
    {
     "name": "stdout",
     "output_type": "stream",
     "text": [
      "Selected 200 HVGs out of 2000 genes\n",
      "Running KNNImputer on HVGs matrix (14746, 200) ...\n",
      "✅ Saved imputed file to: imputed_knn\\adata_knn_imputed_mf20_run1.h5ad\n",
      "\n",
      "Processing dropout_h5ad\\adata_dropout_mf20_run10.h5ad ...\n"
     ]
    },
    {
     "name": "stderr",
     "output_type": "stream",
     "text": [
      "c:\\Users\\prath\\anaconda-new\\Lib\\site-packages\\anndata\\_core\\anndata.py:1791: UserWarning: Observation names are not unique. To make them unique, call `.obs_names_make_unique`.\n",
      "  utils.warn_names_duplicates(\"obs\")\n",
      "c:\\Users\\prath\\anaconda-new\\Lib\\site-packages\\anndata\\_core\\anndata.py:1793: UserWarning: Variable names are not unique. To make them unique, call `.var_names_make_unique`.\n",
      "  utils.warn_names_duplicates(\"var\")\n"
     ]
    },
    {
     "name": "stdout",
     "output_type": "stream",
     "text": [
      "Selected 200 HVGs out of 2000 genes\n",
      "Running KNNImputer on HVGs matrix (14746, 200) ...\n",
      "✅ Saved imputed file to: imputed_knn\\adata_knn_imputed_mf20_run10.h5ad\n",
      "\n",
      "Processing dropout_h5ad\\adata_dropout_mf20_run2.h5ad ...\n"
     ]
    },
    {
     "name": "stderr",
     "output_type": "stream",
     "text": [
      "c:\\Users\\prath\\anaconda-new\\Lib\\site-packages\\anndata\\_core\\anndata.py:1791: UserWarning: Observation names are not unique. To make them unique, call `.obs_names_make_unique`.\n",
      "  utils.warn_names_duplicates(\"obs\")\n",
      "c:\\Users\\prath\\anaconda-new\\Lib\\site-packages\\anndata\\_core\\anndata.py:1793: UserWarning: Variable names are not unique. To make them unique, call `.var_names_make_unique`.\n",
      "  utils.warn_names_duplicates(\"var\")\n"
     ]
    },
    {
     "name": "stdout",
     "output_type": "stream",
     "text": [
      "Selected 200 HVGs out of 2000 genes\n",
      "Running KNNImputer on HVGs matrix (14746, 200) ...\n",
      "✅ Saved imputed file to: imputed_knn\\adata_knn_imputed_mf20_run2.h5ad\n",
      "\n",
      "Processing dropout_h5ad\\adata_dropout_mf20_run3.h5ad ...\n"
     ]
    },
    {
     "name": "stderr",
     "output_type": "stream",
     "text": [
      "c:\\Users\\prath\\anaconda-new\\Lib\\site-packages\\anndata\\_core\\anndata.py:1791: UserWarning: Observation names are not unique. To make them unique, call `.obs_names_make_unique`.\n",
      "  utils.warn_names_duplicates(\"obs\")\n",
      "c:\\Users\\prath\\anaconda-new\\Lib\\site-packages\\anndata\\_core\\anndata.py:1793: UserWarning: Variable names are not unique. To make them unique, call `.var_names_make_unique`.\n",
      "  utils.warn_names_duplicates(\"var\")\n"
     ]
    },
    {
     "name": "stdout",
     "output_type": "stream",
     "text": [
      "Selected 200 HVGs out of 2000 genes\n",
      "Running KNNImputer on HVGs matrix (14746, 200) ...\n",
      "✅ Saved imputed file to: imputed_knn\\adata_knn_imputed_mf20_run3.h5ad\n",
      "\n",
      "Processing dropout_h5ad\\adata_dropout_mf20_run4.h5ad ...\n"
     ]
    },
    {
     "name": "stderr",
     "output_type": "stream",
     "text": [
      "c:\\Users\\prath\\anaconda-new\\Lib\\site-packages\\anndata\\_core\\anndata.py:1791: UserWarning: Observation names are not unique. To make them unique, call `.obs_names_make_unique`.\n",
      "  utils.warn_names_duplicates(\"obs\")\n",
      "c:\\Users\\prath\\anaconda-new\\Lib\\site-packages\\anndata\\_core\\anndata.py:1793: UserWarning: Variable names are not unique. To make them unique, call `.var_names_make_unique`.\n",
      "  utils.warn_names_duplicates(\"var\")\n"
     ]
    },
    {
     "name": "stdout",
     "output_type": "stream",
     "text": [
      "Selected 200 HVGs out of 2000 genes\n",
      "Running KNNImputer on HVGs matrix (14746, 200) ...\n",
      "✅ Saved imputed file to: imputed_knn\\adata_knn_imputed_mf20_run4.h5ad\n",
      "\n",
      "Processing dropout_h5ad\\adata_dropout_mf20_run5.h5ad ...\n"
     ]
    },
    {
     "name": "stderr",
     "output_type": "stream",
     "text": [
      "c:\\Users\\prath\\anaconda-new\\Lib\\site-packages\\anndata\\_core\\anndata.py:1791: UserWarning: Observation names are not unique. To make them unique, call `.obs_names_make_unique`.\n",
      "  utils.warn_names_duplicates(\"obs\")\n",
      "c:\\Users\\prath\\anaconda-new\\Lib\\site-packages\\anndata\\_core\\anndata.py:1793: UserWarning: Variable names are not unique. To make them unique, call `.var_names_make_unique`.\n",
      "  utils.warn_names_duplicates(\"var\")\n"
     ]
    },
    {
     "name": "stdout",
     "output_type": "stream",
     "text": [
      "Selected 200 HVGs out of 2000 genes\n",
      "Running KNNImputer on HVGs matrix (14746, 200) ...\n",
      "✅ Saved imputed file to: imputed_knn\\adata_knn_imputed_mf20_run5.h5ad\n",
      "\n",
      "Processing dropout_h5ad\\adata_dropout_mf20_run6.h5ad ...\n"
     ]
    },
    {
     "name": "stderr",
     "output_type": "stream",
     "text": [
      "c:\\Users\\prath\\anaconda-new\\Lib\\site-packages\\anndata\\_core\\anndata.py:1791: UserWarning: Observation names are not unique. To make them unique, call `.obs_names_make_unique`.\n",
      "  utils.warn_names_duplicates(\"obs\")\n",
      "c:\\Users\\prath\\anaconda-new\\Lib\\site-packages\\anndata\\_core\\anndata.py:1793: UserWarning: Variable names are not unique. To make them unique, call `.var_names_make_unique`.\n",
      "  utils.warn_names_duplicates(\"var\")\n"
     ]
    },
    {
     "name": "stdout",
     "output_type": "stream",
     "text": [
      "Selected 200 HVGs out of 2000 genes\n",
      "Running KNNImputer on HVGs matrix (14746, 200) ...\n",
      "✅ Saved imputed file to: imputed_knn\\adata_knn_imputed_mf20_run6.h5ad\n",
      "\n",
      "Processing dropout_h5ad\\adata_dropout_mf20_run7.h5ad ...\n"
     ]
    },
    {
     "name": "stderr",
     "output_type": "stream",
     "text": [
      "c:\\Users\\prath\\anaconda-new\\Lib\\site-packages\\anndata\\_core\\anndata.py:1791: UserWarning: Observation names are not unique. To make them unique, call `.obs_names_make_unique`.\n",
      "  utils.warn_names_duplicates(\"obs\")\n",
      "c:\\Users\\prath\\anaconda-new\\Lib\\site-packages\\anndata\\_core\\anndata.py:1793: UserWarning: Variable names are not unique. To make them unique, call `.var_names_make_unique`.\n",
      "  utils.warn_names_duplicates(\"var\")\n"
     ]
    },
    {
     "name": "stdout",
     "output_type": "stream",
     "text": [
      "Selected 200 HVGs out of 2000 genes\n",
      "Running KNNImputer on HVGs matrix (14746, 200) ...\n",
      "✅ Saved imputed file to: imputed_knn\\adata_knn_imputed_mf20_run7.h5ad\n",
      "\n",
      "Processing dropout_h5ad\\adata_dropout_mf20_run8.h5ad ...\n"
     ]
    },
    {
     "name": "stderr",
     "output_type": "stream",
     "text": [
      "c:\\Users\\prath\\anaconda-new\\Lib\\site-packages\\anndata\\_core\\anndata.py:1791: UserWarning: Observation names are not unique. To make them unique, call `.obs_names_make_unique`.\n",
      "  utils.warn_names_duplicates(\"obs\")\n",
      "c:\\Users\\prath\\anaconda-new\\Lib\\site-packages\\anndata\\_core\\anndata.py:1793: UserWarning: Variable names are not unique. To make them unique, call `.var_names_make_unique`.\n",
      "  utils.warn_names_duplicates(\"var\")\n"
     ]
    },
    {
     "name": "stdout",
     "output_type": "stream",
     "text": [
      "Selected 200 HVGs out of 2000 genes\n",
      "Running KNNImputer on HVGs matrix (14746, 200) ...\n",
      "✅ Saved imputed file to: imputed_knn\\adata_knn_imputed_mf20_run8.h5ad\n",
      "\n",
      "Processing dropout_h5ad\\adata_dropout_mf20_run9.h5ad ...\n",
      "Selected 200 HVGs out of 2000 genes\n"
     ]
    },
    {
     "name": "stderr",
     "output_type": "stream",
     "text": [
      "c:\\Users\\prath\\anaconda-new\\Lib\\site-packages\\anndata\\_core\\anndata.py:1791: UserWarning: Observation names are not unique. To make them unique, call `.obs_names_make_unique`.\n",
      "  utils.warn_names_duplicates(\"obs\")\n",
      "c:\\Users\\prath\\anaconda-new\\Lib\\site-packages\\anndata\\_core\\anndata.py:1793: UserWarning: Variable names are not unique. To make them unique, call `.var_names_make_unique`.\n",
      "  utils.warn_names_duplicates(\"var\")\n"
     ]
    },
    {
     "name": "stdout",
     "output_type": "stream",
     "text": [
      "Running KNNImputer on HVGs matrix (14746, 200) ...\n",
      "✅ Saved imputed file to: imputed_knn\\adata_knn_imputed_mf20_run9.h5ad\n",
      "\n",
      "Processing dropout_h5ad\\adata_dropout_mf30_run1.h5ad ...\n"
     ]
    },
    {
     "name": "stderr",
     "output_type": "stream",
     "text": [
      "c:\\Users\\prath\\anaconda-new\\Lib\\site-packages\\anndata\\_core\\anndata.py:1791: UserWarning: Observation names are not unique. To make them unique, call `.obs_names_make_unique`.\n",
      "  utils.warn_names_duplicates(\"obs\")\n",
      "c:\\Users\\prath\\anaconda-new\\Lib\\site-packages\\anndata\\_core\\anndata.py:1793: UserWarning: Variable names are not unique. To make them unique, call `.var_names_make_unique`.\n",
      "  utils.warn_names_duplicates(\"var\")\n"
     ]
    },
    {
     "name": "stdout",
     "output_type": "stream",
     "text": [
      "Selected 200 HVGs out of 2000 genes\n",
      "Running KNNImputer on HVGs matrix (14746, 200) ...\n",
      "✅ Saved imputed file to: imputed_knn\\adata_knn_imputed_mf30_run1.h5ad\n",
      "\n",
      "Processing dropout_h5ad\\adata_dropout_mf30_run10.h5ad ...\n"
     ]
    },
    {
     "name": "stderr",
     "output_type": "stream",
     "text": [
      "c:\\Users\\prath\\anaconda-new\\Lib\\site-packages\\anndata\\_core\\anndata.py:1791: UserWarning: Observation names are not unique. To make them unique, call `.obs_names_make_unique`.\n",
      "  utils.warn_names_duplicates(\"obs\")\n",
      "c:\\Users\\prath\\anaconda-new\\Lib\\site-packages\\anndata\\_core\\anndata.py:1793: UserWarning: Variable names are not unique. To make them unique, call `.var_names_make_unique`.\n",
      "  utils.warn_names_duplicates(\"var\")\n"
     ]
    },
    {
     "name": "stdout",
     "output_type": "stream",
     "text": [
      "Selected 200 HVGs out of 2000 genes\n",
      "Running KNNImputer on HVGs matrix (14746, 200) ...\n",
      "✅ Saved imputed file to: imputed_knn\\adata_knn_imputed_mf30_run10.h5ad\n",
      "\n",
      "Processing dropout_h5ad\\adata_dropout_mf30_run2.h5ad ...\n",
      "Selected 200 HVGs out of 2000 genes\n"
     ]
    },
    {
     "name": "stderr",
     "output_type": "stream",
     "text": [
      "c:\\Users\\prath\\anaconda-new\\Lib\\site-packages\\anndata\\_core\\anndata.py:1791: UserWarning: Observation names are not unique. To make them unique, call `.obs_names_make_unique`.\n",
      "  utils.warn_names_duplicates(\"obs\")\n",
      "c:\\Users\\prath\\anaconda-new\\Lib\\site-packages\\anndata\\_core\\anndata.py:1793: UserWarning: Variable names are not unique. To make them unique, call `.var_names_make_unique`.\n",
      "  utils.warn_names_duplicates(\"var\")\n"
     ]
    },
    {
     "name": "stdout",
     "output_type": "stream",
     "text": [
      "Running KNNImputer on HVGs matrix (14746, 200) ...\n",
      "✅ Saved imputed file to: imputed_knn\\adata_knn_imputed_mf30_run2.h5ad\n",
      "\n",
      "Processing dropout_h5ad\\adata_dropout_mf30_run3.h5ad ...\n",
      "Selected 200 HVGs out of 2000 genes\n"
     ]
    },
    {
     "name": "stderr",
     "output_type": "stream",
     "text": [
      "c:\\Users\\prath\\anaconda-new\\Lib\\site-packages\\anndata\\_core\\anndata.py:1791: UserWarning: Observation names are not unique. To make them unique, call `.obs_names_make_unique`.\n",
      "  utils.warn_names_duplicates(\"obs\")\n",
      "c:\\Users\\prath\\anaconda-new\\Lib\\site-packages\\anndata\\_core\\anndata.py:1793: UserWarning: Variable names are not unique. To make them unique, call `.var_names_make_unique`.\n",
      "  utils.warn_names_duplicates(\"var\")\n"
     ]
    },
    {
     "name": "stdout",
     "output_type": "stream",
     "text": [
      "Running KNNImputer on HVGs matrix (14746, 200) ...\n",
      "✅ Saved imputed file to: imputed_knn\\adata_knn_imputed_mf30_run3.h5ad\n",
      "\n",
      "Processing dropout_h5ad\\adata_dropout_mf30_run4.h5ad ...\n",
      "Selected 200 HVGs out of 2000 genes\n"
     ]
    },
    {
     "name": "stderr",
     "output_type": "stream",
     "text": [
      "c:\\Users\\prath\\anaconda-new\\Lib\\site-packages\\anndata\\_core\\anndata.py:1791: UserWarning: Observation names are not unique. To make them unique, call `.obs_names_make_unique`.\n",
      "  utils.warn_names_duplicates(\"obs\")\n",
      "c:\\Users\\prath\\anaconda-new\\Lib\\site-packages\\anndata\\_core\\anndata.py:1793: UserWarning: Variable names are not unique. To make them unique, call `.var_names_make_unique`.\n",
      "  utils.warn_names_duplicates(\"var\")\n"
     ]
    },
    {
     "name": "stdout",
     "output_type": "stream",
     "text": [
      "Running KNNImputer on HVGs matrix (14746, 200) ...\n",
      "✅ Saved imputed file to: imputed_knn\\adata_knn_imputed_mf30_run4.h5ad\n",
      "\n",
      "Processing dropout_h5ad\\adata_dropout_mf30_run5.h5ad ...\n",
      "Selected 200 HVGs out of 2000 genes\n"
     ]
    },
    {
     "name": "stderr",
     "output_type": "stream",
     "text": [
      "c:\\Users\\prath\\anaconda-new\\Lib\\site-packages\\anndata\\_core\\anndata.py:1791: UserWarning: Observation names are not unique. To make them unique, call `.obs_names_make_unique`.\n",
      "  utils.warn_names_duplicates(\"obs\")\n",
      "c:\\Users\\prath\\anaconda-new\\Lib\\site-packages\\anndata\\_core\\anndata.py:1793: UserWarning: Variable names are not unique. To make them unique, call `.var_names_make_unique`.\n",
      "  utils.warn_names_duplicates(\"var\")\n"
     ]
    },
    {
     "name": "stdout",
     "output_type": "stream",
     "text": [
      "Running KNNImputer on HVGs matrix (14746, 200) ...\n",
      "✅ Saved imputed file to: imputed_knn\\adata_knn_imputed_mf30_run5.h5ad\n",
      "\n",
      "Processing dropout_h5ad\\adata_dropout_mf30_run6.h5ad ...\n",
      "Selected 200 HVGs out of 2000 genes\n"
     ]
    },
    {
     "name": "stderr",
     "output_type": "stream",
     "text": [
      "c:\\Users\\prath\\anaconda-new\\Lib\\site-packages\\anndata\\_core\\anndata.py:1791: UserWarning: Observation names are not unique. To make them unique, call `.obs_names_make_unique`.\n",
      "  utils.warn_names_duplicates(\"obs\")\n",
      "c:\\Users\\prath\\anaconda-new\\Lib\\site-packages\\anndata\\_core\\anndata.py:1793: UserWarning: Variable names are not unique. To make them unique, call `.var_names_make_unique`.\n",
      "  utils.warn_names_duplicates(\"var\")\n"
     ]
    },
    {
     "name": "stdout",
     "output_type": "stream",
     "text": [
      "Running KNNImputer on HVGs matrix (14746, 200) ...\n",
      "✅ Saved imputed file to: imputed_knn\\adata_knn_imputed_mf30_run6.h5ad\n",
      "\n",
      "Processing dropout_h5ad\\adata_dropout_mf30_run7.h5ad ...\n"
     ]
    },
    {
     "name": "stderr",
     "output_type": "stream",
     "text": [
      "c:\\Users\\prath\\anaconda-new\\Lib\\site-packages\\anndata\\_core\\anndata.py:1791: UserWarning: Observation names are not unique. To make them unique, call `.obs_names_make_unique`.\n",
      "  utils.warn_names_duplicates(\"obs\")\n",
      "c:\\Users\\prath\\anaconda-new\\Lib\\site-packages\\anndata\\_core\\anndata.py:1793: UserWarning: Variable names are not unique. To make them unique, call `.var_names_make_unique`.\n",
      "  utils.warn_names_duplicates(\"var\")\n"
     ]
    },
    {
     "name": "stdout",
     "output_type": "stream",
     "text": [
      "Selected 200 HVGs out of 2000 genes\n",
      "Running KNNImputer on HVGs matrix (14746, 200) ...\n",
      "✅ Saved imputed file to: imputed_knn\\adata_knn_imputed_mf30_run7.h5ad\n",
      "\n",
      "Processing dropout_h5ad\\adata_dropout_mf30_run8.h5ad ...\n",
      "Selected 200 HVGs out of 2000 genes\n"
     ]
    },
    {
     "name": "stderr",
     "output_type": "stream",
     "text": [
      "c:\\Users\\prath\\anaconda-new\\Lib\\site-packages\\anndata\\_core\\anndata.py:1791: UserWarning: Observation names are not unique. To make them unique, call `.obs_names_make_unique`.\n",
      "  utils.warn_names_duplicates(\"obs\")\n",
      "c:\\Users\\prath\\anaconda-new\\Lib\\site-packages\\anndata\\_core\\anndata.py:1793: UserWarning: Variable names are not unique. To make them unique, call `.var_names_make_unique`.\n",
      "  utils.warn_names_duplicates(\"var\")\n"
     ]
    },
    {
     "name": "stdout",
     "output_type": "stream",
     "text": [
      "Running KNNImputer on HVGs matrix (14746, 200) ...\n",
      "✅ Saved imputed file to: imputed_knn\\adata_knn_imputed_mf30_run8.h5ad\n",
      "\n",
      "Processing dropout_h5ad\\adata_dropout_mf30_run9.h5ad ...\n"
     ]
    },
    {
     "name": "stderr",
     "output_type": "stream",
     "text": [
      "c:\\Users\\prath\\anaconda-new\\Lib\\site-packages\\anndata\\_core\\anndata.py:1791: UserWarning: Observation names are not unique. To make them unique, call `.obs_names_make_unique`.\n",
      "  utils.warn_names_duplicates(\"obs\")\n",
      "c:\\Users\\prath\\anaconda-new\\Lib\\site-packages\\anndata\\_core\\anndata.py:1793: UserWarning: Variable names are not unique. To make them unique, call `.var_names_make_unique`.\n",
      "  utils.warn_names_duplicates(\"var\")\n"
     ]
    },
    {
     "name": "stdout",
     "output_type": "stream",
     "text": [
      "Selected 200 HVGs out of 2000 genes\n",
      "Running KNNImputer on HVGs matrix (14746, 200) ...\n",
      "✅ Saved imputed file to: imputed_knn\\adata_knn_imputed_mf30_run9.h5ad\n",
      "\n",
      "All files processed with KNN Imputation (HVGs only)\n"
     ]
    }
   ],
   "source": [
    "import scanpy as sc\n",
    "import numpy as np\n",
    "import os\n",
    "from glob import glob\n",
    "from sklearn.impute import KNNImputer\n",
    "\n",
    "# -----------------------------\n",
    "# Input & Output directories\n",
    "# -----------------------------\n",
    "input_dir = \"dropout_h5ad\"\n",
    "output_dir = \"imputed_knn\"\n",
    "os.makedirs(output_dir, exist_ok=True)\n",
    "\n",
    "files = glob(os.path.join(input_dir, \"*.h5ad\"))\n",
    "\n",
    "# Define KNNImputer\n",
    "imputer = KNNImputer(\n",
    "    n_neighbors=10,      # number of neighbors to use\n",
    "    weights=\"uniform\",   # could also try \"distance\"\n",
    "    metric=\"nan_euclidean\"\n",
    ")\n",
    "\n",
    "for f in files:\n",
    "    print(f\"\\nProcessing {f} ...\")\n",
    "\n",
    "    adata_missing = sc.read_h5ad(f)\n",
    "    adata_missing.obs_names_make_unique()\n",
    "    adata_missing.var_names_make_unique()\n",
    "\n",
    "    # Copy for imputation\n",
    "    adata_imp = adata_missing.copy()\n",
    "\n",
    "    # Step 1: Identify HVGs\n",
    "    sc.pp.highly_variable_genes(adata_imp, n_top_genes=200, flavor=\"cell_ranger\")\n",
    "    hvg_mask = adata_imp.var[\"highly_variable\"].values\n",
    "    print(f\"Selected {hvg_mask.sum()} HVGs out of {adata_imp.n_vars} genes\")\n",
    "\n",
    "    # Step 2: Convert to dense\n",
    "    X = adata_imp.X.toarray() if not isinstance(adata_imp.X, np.ndarray) else adata_imp.X.copy()\n",
    "\n",
    "    # Step 3: Replace zeros with NaN (treat as missing)\n",
    "    X[X == 0] = np.nan\n",
    "\n",
    "    # Step 4: Impute only HVGs\n",
    "    X_hvg = X[:, hvg_mask]\n",
    "    valid_genes = ~(np.all(np.isnan(X_hvg), axis=0))  # drop all-NaN genes\n",
    "    X_hvg_valid = X_hvg[:, valid_genes]\n",
    "\n",
    "    print(f\"Running KNNImputer on HVGs matrix {X_hvg_valid.shape} ...\")\n",
    "    X_hvg_imp_valid = imputer.fit_transform(X_hvg_valid)\n",
    "\n",
    "    # Step 5: Reconstruct HVG matrix\n",
    "    X_hvg_imp = np.zeros_like(X_hvg)\n",
    "    X_hvg_imp[:, valid_genes] = X_hvg_imp_valid\n",
    "    # dropped HVGs stay zero\n",
    "\n",
    "    # Step 6: Insert HVGs back into full matrix\n",
    "    X_final = X.copy()\n",
    "    X_final[:, hvg_mask] = X_hvg_imp\n",
    "\n",
    "    # Step 7: Assign back\n",
    "    adata_imp.X = X_final\n",
    "\n",
    "    # Save\n",
    "    fname = os.path.basename(f).replace(\"adata_dropout\", \"adata_knn_imputed\")\n",
    "    outpath = os.path.join(output_dir, fname)\n",
    "    adata_imp.write(outpath)\n",
    "\n",
    "    print(f\"✅ Saved imputed file to: {outpath}\")\n",
    "\n",
    "print(\"\\nAll files processed with KNN Imputation (HVGs only)\")\n"
   ]
  },
  {
   "cell_type": "code",
   "execution_count": 10,
   "id": "d4e89561",
   "metadata": {},
   "outputs": [
    {
     "name": "stderr",
     "output_type": "stream",
     "text": [
      "(CVXPY) Aug 26 09:44:31 AM: Encountered unexpected exception importing solver MPAX:\n",
      "ImportError('DLL load failed while importing utils: A dynamic link library (DLL) initialization routine failed.')\n"
     ]
    },
    {
     "name": "stdout",
     "output_type": "stream",
     "text": [
      "\n",
      "Processing dropout_h5ad\\adata_dropout_mf10_run1.h5ad ...\n"
     ]
    },
    {
     "name": "stderr",
     "output_type": "stream",
     "text": [
      "c:\\Users\\prath\\anaconda-new\\Lib\\site-packages\\anndata\\_core\\anndata.py:1791: UserWarning: Observation names are not unique. To make them unique, call `.obs_names_make_unique`.\n",
      "  utils.warn_names_duplicates(\"obs\")\n",
      "c:\\Users\\prath\\anaconda-new\\Lib\\site-packages\\anndata\\_core\\anndata.py:1793: UserWarning: Variable names are not unique. To make them unique, call `.var_names_make_unique`.\n",
      "  utils.warn_names_duplicates(\"var\")\n"
     ]
    },
    {
     "name": "stdout",
     "output_type": "stream",
     "text": [
      "Selected 200 HVGs out of 2000 genes\n",
      "Running SoftImpute on HVGs matrix (14746, 200) ...\n",
      "[SoftImpute] Max Singular Value of X_init = 365.181335\n"
     ]
    },
    {
     "name": "stderr",
     "output_type": "stream",
     "text": [
      "c:\\Users\\prath\\anaconda-new\\Lib\\site-packages\\sklearn\\utils\\deprecation.py:132: FutureWarning: 'force_all_finite' was renamed to 'ensure_all_finite' in 1.6 and will be removed in 1.8.\n",
      "  warnings.warn(\n",
      "c:\\Users\\prath\\anaconda-new\\Lib\\site-packages\\sklearn\\utils\\deprecation.py:132: FutureWarning: 'force_all_finite' was renamed to 'ensure_all_finite' in 1.6 and will be removed in 1.8.\n",
      "  warnings.warn(\n",
      "c:\\Users\\prath\\anaconda-new\\Lib\\site-packages\\sklearn\\utils\\deprecation.py:132: FutureWarning: 'force_all_finite' was renamed to 'ensure_all_finite' in 1.6 and will be removed in 1.8.\n",
      "  warnings.warn(\n"
     ]
    },
    {
     "name": "stdout",
     "output_type": "stream",
     "text": [
      "[SoftImpute] Iter 1: observed MAE=0.269784 rank=159\n",
      "[SoftImpute] Iter 2: observed MAE=0.270434 rank=157\n",
      "[SoftImpute] Iter 3: observed MAE=0.270995 rank=155\n",
      "[SoftImpute] Iter 4: observed MAE=0.271501 rank=151\n",
      "[SoftImpute] Iter 5: observed MAE=0.271868 rank=147\n",
      "[SoftImpute] Iter 6: observed MAE=0.272086 rank=144\n",
      "[SoftImpute] Iter 7: observed MAE=0.272367 rank=142\n",
      "[SoftImpute] Iter 8: observed MAE=0.272634 rank=139\n",
      "[SoftImpute] Iter 9: observed MAE=0.272904 rank=137\n",
      "[SoftImpute] Iter 10: observed MAE=0.273160 rank=136\n",
      "[SoftImpute] Iter 11: observed MAE=0.273366 rank=135\n",
      "[SoftImpute] Iter 12: observed MAE=0.273494 rank=134\n",
      "[SoftImpute] Iter 13: observed MAE=0.273401 rank=130\n",
      "[SoftImpute] Iter 14: observed MAE=0.273212 rank=128\n",
      "[SoftImpute] Iter 15: observed MAE=0.272972 rank=126\n",
      "[SoftImpute] Iter 16: observed MAE=0.272765 rank=124\n",
      "[SoftImpute] Iter 17: observed MAE=0.272442 rank=122\n",
      "[SoftImpute] Iter 18: observed MAE=0.272164 rank=121\n",
      "[SoftImpute] Iter 19: observed MAE=0.271856 rank=119\n",
      "[SoftImpute] Iter 20: observed MAE=0.271540 rank=118\n",
      "[SoftImpute] Iter 21: observed MAE=0.271225 rank=116\n",
      "[SoftImpute] Iter 22: observed MAE=0.270848 rank=114\n",
      "[SoftImpute] Iter 23: observed MAE=0.270449 rank=112\n",
      "[SoftImpute] Iter 24: observed MAE=0.270146 rank=111\n",
      "[SoftImpute] Iter 25: observed MAE=0.269826 rank=110\n",
      "[SoftImpute] Iter 26: observed MAE=0.269529 rank=108\n",
      "[SoftImpute] Iter 27: observed MAE=0.269255 rank=107\n",
      "[SoftImpute] Iter 28: observed MAE=0.268937 rank=106\n",
      "[SoftImpute] Iter 29: observed MAE=0.268666 rank=104\n",
      "[SoftImpute] Iter 30: observed MAE=0.268322 rank=102\n",
      "[SoftImpute] Iter 31: observed MAE=0.268025 rank=102\n",
      "[SoftImpute] Iter 32: observed MAE=0.267787 rank=101\n",
      "[SoftImpute] Iter 33: observed MAE=0.267527 rank=99\n",
      "[SoftImpute] Iter 34: observed MAE=0.267197 rank=98\n",
      "[SoftImpute] Iter 35: observed MAE=0.266954 rank=97\n",
      "[SoftImpute] Iter 36: observed MAE=0.266738 rank=97\n",
      "[SoftImpute] Iter 37: observed MAE=0.266478 rank=95\n",
      "[SoftImpute] Iter 38: observed MAE=0.266236 rank=95\n",
      "[SoftImpute] Iter 39: observed MAE=0.266018 rank=94\n",
      "[SoftImpute] Iter 40: observed MAE=0.265836 rank=94\n",
      "[SoftImpute] Iter 41: observed MAE=0.265611 rank=92\n",
      "[SoftImpute] Iter 42: observed MAE=0.265404 rank=92\n",
      "[SoftImpute] Iter 43: observed MAE=0.265227 rank=91\n",
      "[SoftImpute] Iter 44: observed MAE=0.265031 rank=91\n",
      "[SoftImpute] Iter 45: observed MAE=0.264776 rank=89\n",
      "[SoftImpute] Iter 46: observed MAE=0.264540 rank=88\n",
      "[SoftImpute] Iter 47: observed MAE=0.264345 rank=88\n",
      "[SoftImpute] Iter 48: observed MAE=0.264179 rank=87\n",
      "[SoftImpute] Iter 49: observed MAE=0.263924 rank=86\n",
      "[SoftImpute] Iter 50: observed MAE=0.263698 rank=85\n",
      "[SoftImpute] Iter 51: observed MAE=0.263494 rank=84\n",
      "[SoftImpute] Iter 52: observed MAE=0.263287 rank=83\n",
      "[SoftImpute] Iter 53: observed MAE=0.263088 rank=83\n",
      "[SoftImpute] Iter 54: observed MAE=0.262939 rank=83\n",
      "[SoftImpute] Iter 55: observed MAE=0.262808 rank=83\n",
      "[SoftImpute] Iter 56: observed MAE=0.262645 rank=81\n",
      "[SoftImpute] Iter 57: observed MAE=0.262436 rank=81\n",
      "[SoftImpute] Iter 58: observed MAE=0.262286 rank=81\n",
      "[SoftImpute] Iter 59: observed MAE=0.262159 rank=81\n",
      "[SoftImpute] Iter 60: observed MAE=0.262035 rank=80\n",
      "[SoftImpute] Iter 61: observed MAE=0.261878 rank=80\n",
      "[SoftImpute] Iter 62: observed MAE=0.261699 rank=79\n",
      "[SoftImpute] Iter 63: observed MAE=0.261540 rank=78\n",
      "[SoftImpute] Iter 64: observed MAE=0.261397 rank=78\n",
      "[SoftImpute] Iter 65: observed MAE=0.261276 rank=78\n",
      "[SoftImpute] Iter 66: observed MAE=0.261114 rank=77\n",
      "[SoftImpute] Iter 67: observed MAE=0.260986 rank=76\n",
      "[SoftImpute] Iter 68: observed MAE=0.260828 rank=76\n",
      "[SoftImpute] Iter 69: observed MAE=0.260692 rank=75\n",
      "[SoftImpute] Iter 70: observed MAE=0.260555 rank=75\n",
      "[SoftImpute] Iter 71: observed MAE=0.260439 rank=75\n",
      "[SoftImpute] Iter 72: observed MAE=0.260331 rank=75\n",
      "[SoftImpute] Iter 73: observed MAE=0.260186 rank=74\n",
      "[SoftImpute] Iter 74: observed MAE=0.260031 rank=73\n",
      "[SoftImpute] Iter 75: observed MAE=0.259893 rank=73\n",
      "[SoftImpute] Iter 76: observed MAE=0.259735 rank=72\n",
      "[SoftImpute] Iter 77: observed MAE=0.259600 rank=71\n",
      "[SoftImpute] Iter 78: observed MAE=0.259455 rank=71\n",
      "[SoftImpute] Iter 79: observed MAE=0.259333 rank=71\n",
      "[SoftImpute] Iter 80: observed MAE=0.259223 rank=71\n",
      "[SoftImpute] Iter 81: observed MAE=0.259120 rank=71\n",
      "[SoftImpute] Iter 82: observed MAE=0.258985 rank=70\n",
      "[SoftImpute] Iter 83: observed MAE=0.258866 rank=70\n",
      "[SoftImpute] Iter 84: observed MAE=0.258761 rank=70\n",
      "[SoftImpute] Iter 85: observed MAE=0.258662 rank=70\n",
      "[SoftImpute] Iter 86: observed MAE=0.258534 rank=68\n",
      "[SoftImpute] Iter 87: observed MAE=0.258382 rank=68\n",
      "[SoftImpute] Iter 88: observed MAE=0.258263 rank=68\n",
      "[SoftImpute] Iter 89: observed MAE=0.258157 rank=68\n",
      "[SoftImpute] Iter 90: observed MAE=0.258058 rank=68\n",
      "[SoftImpute] Iter 91: observed MAE=0.257939 rank=67\n",
      "[SoftImpute] Iter 92: observed MAE=0.257826 rank=67\n",
      "[SoftImpute] Iter 93: observed MAE=0.257711 rank=66\n",
      "[SoftImpute] Iter 94: observed MAE=0.257591 rank=66\n",
      "[SoftImpute] Iter 95: observed MAE=0.257488 rank=66\n",
      "[SoftImpute] Iter 96: observed MAE=0.257391 rank=66\n",
      "[SoftImpute] Iter 97: observed MAE=0.257281 rank=65\n",
      "[SoftImpute] Iter 98: observed MAE=0.257129 rank=64\n",
      "[SoftImpute] Iter 99: observed MAE=0.257011 rank=64\n",
      "[SoftImpute] Iter 100: observed MAE=0.256912 rank=64\n",
      "[SoftImpute] Stopped after iteration 100 for lambda=7.303627\n",
      "✅ Saved imputed file to: imputed_softimpute\\adata_softimpute_imputed_mf10_run1.h5ad\n",
      "\n",
      "Processing dropout_h5ad\\adata_dropout_mf10_run10.h5ad ...\n",
      "Selected 200 HVGs out of 2000 genes\n"
     ]
    },
    {
     "name": "stderr",
     "output_type": "stream",
     "text": [
      "c:\\Users\\prath\\anaconda-new\\Lib\\site-packages\\anndata\\_core\\anndata.py:1791: UserWarning: Observation names are not unique. To make them unique, call `.obs_names_make_unique`.\n",
      "  utils.warn_names_duplicates(\"obs\")\n",
      "c:\\Users\\prath\\anaconda-new\\Lib\\site-packages\\anndata\\_core\\anndata.py:1793: UserWarning: Variable names are not unique. To make them unique, call `.var_names_make_unique`.\n",
      "  utils.warn_names_duplicates(\"var\")\n",
      "c:\\Users\\prath\\anaconda-new\\Lib\\site-packages\\sklearn\\utils\\deprecation.py:132: FutureWarning: 'force_all_finite' was renamed to 'ensure_all_finite' in 1.6 and will be removed in 1.8.\n",
      "  warnings.warn(\n"
     ]
    },
    {
     "name": "stdout",
     "output_type": "stream",
     "text": [
      "Running SoftImpute on HVGs matrix (14746, 200) ...\n",
      "[SoftImpute] Max Singular Value of X_init = 361.773712\n"
     ]
    },
    {
     "name": "stderr",
     "output_type": "stream",
     "text": [
      "c:\\Users\\prath\\anaconda-new\\Lib\\site-packages\\sklearn\\utils\\deprecation.py:132: FutureWarning: 'force_all_finite' was renamed to 'ensure_all_finite' in 1.6 and will be removed in 1.8.\n",
      "  warnings.warn(\n",
      "c:\\Users\\prath\\anaconda-new\\Lib\\site-packages\\sklearn\\utils\\deprecation.py:132: FutureWarning: 'force_all_finite' was renamed to 'ensure_all_finite' in 1.6 and will be removed in 1.8.\n",
      "  warnings.warn(\n"
     ]
    },
    {
     "name": "stdout",
     "output_type": "stream",
     "text": [
      "[SoftImpute] Iter 1: observed MAE=0.266905 rank=154\n",
      "[SoftImpute] Iter 2: observed MAE=0.267436 rank=151\n",
      "[SoftImpute] Iter 3: observed MAE=0.267797 rank=147\n",
      "[SoftImpute] Iter 4: observed MAE=0.268189 rank=146\n",
      "[SoftImpute] Iter 5: observed MAE=0.268548 rank=143\n",
      "[SoftImpute] Iter 6: observed MAE=0.268852 rank=140\n",
      "[SoftImpute] Iter 7: observed MAE=0.269191 rank=137\n",
      "[SoftImpute] Iter 8: observed MAE=0.269403 rank=134\n",
      "[SoftImpute] Iter 9: observed MAE=0.269553 rank=131\n",
      "[SoftImpute] Iter 10: observed MAE=0.269671 rank=129\n",
      "[SoftImpute] Iter 11: observed MAE=0.269804 rank=129\n",
      "[SoftImpute] Iter 12: observed MAE=0.269907 rank=128\n",
      "[SoftImpute] Iter 13: observed MAE=0.269947 rank=127\n",
      "[SoftImpute] Iter 14: observed MAE=0.269826 rank=124\n",
      "[SoftImpute] Iter 15: observed MAE=0.269675 rank=122\n",
      "[SoftImpute] Iter 16: observed MAE=0.269460 rank=120\n",
      "[SoftImpute] Iter 17: observed MAE=0.269285 rank=119\n",
      "[SoftImpute] Iter 18: observed MAE=0.269085 rank=117\n",
      "[SoftImpute] Iter 19: observed MAE=0.268838 rank=115\n",
      "[SoftImpute] Iter 20: observed MAE=0.268538 rank=114\n",
      "[SoftImpute] Iter 21: observed MAE=0.268180 rank=112\n",
      "[SoftImpute] Iter 22: observed MAE=0.267843 rank=109\n",
      "[SoftImpute] Iter 23: observed MAE=0.267476 rank=108\n",
      "[SoftImpute] Iter 24: observed MAE=0.267187 rank=108\n",
      "[SoftImpute] Iter 25: observed MAE=0.266909 rank=106\n",
      "[SoftImpute] Iter 26: observed MAE=0.266626 rank=105\n",
      "[SoftImpute] Iter 27: observed MAE=0.266336 rank=102\n",
      "[SoftImpute] Iter 28: observed MAE=0.266013 rank=102\n",
      "[SoftImpute] Iter 29: observed MAE=0.265781 rank=101\n",
      "[SoftImpute] Iter 30: observed MAE=0.265515 rank=100\n",
      "[SoftImpute] Iter 31: observed MAE=0.265252 rank=99\n",
      "[SoftImpute] Iter 32: observed MAE=0.264976 rank=97\n",
      "[SoftImpute] Iter 33: observed MAE=0.264698 rank=97\n",
      "[SoftImpute] Iter 34: observed MAE=0.264503 rank=97\n",
      "[SoftImpute] Iter 35: observed MAE=0.264285 rank=95\n",
      "[SoftImpute] Iter 36: observed MAE=0.264052 rank=94\n",
      "[SoftImpute] Iter 37: observed MAE=0.263809 rank=93\n",
      "[SoftImpute] Iter 38: observed MAE=0.263593 rank=93\n",
      "[SoftImpute] Iter 39: observed MAE=0.263424 rank=93\n",
      "[SoftImpute] Iter 40: observed MAE=0.263266 rank=92\n",
      "[SoftImpute] Iter 41: observed MAE=0.263072 rank=92\n",
      "[SoftImpute] Iter 42: observed MAE=0.262855 rank=90\n",
      "[SoftImpute] Iter 43: observed MAE=0.262623 rank=89\n",
      "[SoftImpute] Iter 44: observed MAE=0.262410 rank=88\n",
      "[SoftImpute] Iter 45: observed MAE=0.262198 rank=88\n",
      "[SoftImpute] Iter 46: observed MAE=0.262037 rank=88\n",
      "[SoftImpute] Iter 47: observed MAE=0.261896 rank=87\n",
      "[SoftImpute] Iter 48: observed MAE=0.261723 rank=86\n",
      "[SoftImpute] Iter 49: observed MAE=0.261545 rank=86\n",
      "[SoftImpute] Iter 50: observed MAE=0.261398 rank=85\n",
      "[SoftImpute] Iter 51: observed MAE=0.261224 rank=85\n",
      "[SoftImpute] Iter 52: observed MAE=0.261054 rank=84\n",
      "[SoftImpute] Iter 53: observed MAE=0.260891 rank=84\n",
      "[SoftImpute] Iter 54: observed MAE=0.260715 rank=83\n",
      "[SoftImpute] Iter 55: observed MAE=0.260506 rank=82\n",
      "[SoftImpute] Iter 56: observed MAE=0.260298 rank=81\n",
      "[SoftImpute] Iter 57: observed MAE=0.260135 rank=80\n",
      "[SoftImpute] Iter 58: observed MAE=0.259955 rank=80\n",
      "[SoftImpute] Iter 59: observed MAE=0.259772 rank=79\n",
      "[SoftImpute] Iter 60: observed MAE=0.259610 rank=79\n",
      "[SoftImpute] Iter 61: observed MAE=0.259473 rank=79\n",
      "[SoftImpute] Iter 62: observed MAE=0.259329 rank=78\n",
      "[SoftImpute] Iter 63: observed MAE=0.259166 rank=78\n",
      "[SoftImpute] Iter 64: observed MAE=0.259011 rank=77\n",
      "[SoftImpute] Iter 65: observed MAE=0.258837 rank=76\n",
      "[SoftImpute] Iter 66: observed MAE=0.258674 rank=76\n",
      "[SoftImpute] Iter 67: observed MAE=0.258504 rank=75\n",
      "[SoftImpute] Iter 68: observed MAE=0.258353 rank=75\n",
      "[SoftImpute] Iter 69: observed MAE=0.258199 rank=73\n",
      "[SoftImpute] Iter 70: observed MAE=0.258019 rank=73\n",
      "[SoftImpute] Iter 71: observed MAE=0.257884 rank=73\n",
      "[SoftImpute] Iter 72: observed MAE=0.257766 rank=73\n",
      "[SoftImpute] Iter 73: observed MAE=0.257657 rank=73\n",
      "[SoftImpute] Iter 74: observed MAE=0.257532 rank=72\n",
      "[SoftImpute] Iter 75: observed MAE=0.257403 rank=72\n",
      "[SoftImpute] Iter 76: observed MAE=0.257288 rank=72\n",
      "[SoftImpute] Iter 77: observed MAE=0.257164 rank=71\n",
      "[SoftImpute] Iter 78: observed MAE=0.257031 rank=71\n",
      "[SoftImpute] Iter 79: observed MAE=0.256874 rank=70\n",
      "[SoftImpute] Iter 80: observed MAE=0.256747 rank=70\n",
      "[SoftImpute] Iter 81: observed MAE=0.256633 rank=70\n",
      "[SoftImpute] Iter 82: observed MAE=0.256526 rank=70\n",
      "[SoftImpute] Iter 83: observed MAE=0.256424 rank=70\n",
      "[SoftImpute] Iter 84: observed MAE=0.256293 rank=69\n",
      "[SoftImpute] Iter 85: observed MAE=0.256161 rank=68\n",
      "[SoftImpute] Iter 86: observed MAE=0.256024 rank=68\n",
      "[SoftImpute] Iter 87: observed MAE=0.255909 rank=68\n",
      "[SoftImpute] Iter 88: observed MAE=0.255739 rank=66\n",
      "[SoftImpute] Iter 89: observed MAE=0.255597 rank=66\n",
      "[SoftImpute] Iter 90: observed MAE=0.255481 rank=66\n",
      "[SoftImpute] Iter 91: observed MAE=0.255376 rank=66\n",
      "[SoftImpute] Iter 92: observed MAE=0.255277 rank=66\n",
      "[SoftImpute] Iter 93: observed MAE=0.255183 rank=66\n",
      "[SoftImpute] Iter 94: observed MAE=0.255075 rank=65\n",
      "[SoftImpute] Iter 95: observed MAE=0.254959 rank=65\n",
      "[SoftImpute] Iter 96: observed MAE=0.254855 rank=65\n",
      "[SoftImpute] Iter 97: observed MAE=0.254725 rank=64\n",
      "[SoftImpute] Iter 98: observed MAE=0.254614 rank=64\n",
      "[SoftImpute] Iter 99: observed MAE=0.254514 rank=64\n",
      "[SoftImpute] Iter 100: observed MAE=0.254419 rank=64\n",
      "[SoftImpute] Stopped after iteration 100 for lambda=7.235474\n",
      "✅ Saved imputed file to: imputed_softimpute\\adata_softimpute_imputed_mf10_run10.h5ad\n",
      "\n",
      "Processing dropout_h5ad\\adata_dropout_mf10_run2.h5ad ...\n"
     ]
    },
    {
     "name": "stderr",
     "output_type": "stream",
     "text": [
      "c:\\Users\\prath\\anaconda-new\\Lib\\site-packages\\anndata\\_core\\anndata.py:1791: UserWarning: Observation names are not unique. To make them unique, call `.obs_names_make_unique`.\n",
      "  utils.warn_names_duplicates(\"obs\")\n",
      "c:\\Users\\prath\\anaconda-new\\Lib\\site-packages\\anndata\\_core\\anndata.py:1793: UserWarning: Variable names are not unique. To make them unique, call `.var_names_make_unique`.\n",
      "  utils.warn_names_duplicates(\"var\")\n"
     ]
    },
    {
     "name": "stdout",
     "output_type": "stream",
     "text": [
      "Selected 200 HVGs out of 2000 genes\n",
      "Running SoftImpute on HVGs matrix (14746, 200) ...\n",
      "[SoftImpute] Max Singular Value of X_init = 364.962158\n"
     ]
    },
    {
     "name": "stderr",
     "output_type": "stream",
     "text": [
      "c:\\Users\\prath\\anaconda-new\\Lib\\site-packages\\sklearn\\utils\\deprecation.py:132: FutureWarning: 'force_all_finite' was renamed to 'ensure_all_finite' in 1.6 and will be removed in 1.8.\n",
      "  warnings.warn(\n",
      "c:\\Users\\prath\\anaconda-new\\Lib\\site-packages\\sklearn\\utils\\deprecation.py:132: FutureWarning: 'force_all_finite' was renamed to 'ensure_all_finite' in 1.6 and will be removed in 1.8.\n",
      "  warnings.warn(\n",
      "c:\\Users\\prath\\anaconda-new\\Lib\\site-packages\\sklearn\\utils\\deprecation.py:132: FutureWarning: 'force_all_finite' was renamed to 'ensure_all_finite' in 1.6 and will be removed in 1.8.\n",
      "  warnings.warn(\n"
     ]
    },
    {
     "name": "stdout",
     "output_type": "stream",
     "text": [
      "[SoftImpute] Iter 1: observed MAE=0.273817 rank=165\n",
      "[SoftImpute] Iter 2: observed MAE=0.274503 rank=163\n",
      "[SoftImpute] Iter 3: observed MAE=0.274990 rank=160\n",
      "[SoftImpute] Iter 4: observed MAE=0.275406 rank=155\n",
      "[SoftImpute] Iter 5: observed MAE=0.275734 rank=154\n",
      "[SoftImpute] Iter 6: observed MAE=0.276040 rank=151\n",
      "[SoftImpute] Iter 7: observed MAE=0.276343 rank=149\n",
      "[SoftImpute] Iter 8: observed MAE=0.276693 rank=146\n",
      "[SoftImpute] Iter 9: observed MAE=0.276975 rank=144\n",
      "[SoftImpute] Iter 10: observed MAE=0.277206 rank=141\n",
      "[SoftImpute] Iter 11: observed MAE=0.277338 rank=140\n",
      "[SoftImpute] Iter 12: observed MAE=0.277391 rank=138\n",
      "[SoftImpute] Iter 13: observed MAE=0.277375 rank=135\n",
      "[SoftImpute] Iter 14: observed MAE=0.277157 rank=133\n",
      "[SoftImpute] Iter 15: observed MAE=0.276979 rank=131\n",
      "[SoftImpute] Iter 16: observed MAE=0.276728 rank=129\n",
      "[SoftImpute] Iter 17: observed MAE=0.276441 rank=126\n",
      "[SoftImpute] Iter 18: observed MAE=0.276124 rank=125\n",
      "[SoftImpute] Iter 19: observed MAE=0.275908 rank=124\n",
      "[SoftImpute] Iter 20: observed MAE=0.275651 rank=122\n",
      "[SoftImpute] Iter 21: observed MAE=0.275323 rank=120\n",
      "[SoftImpute] Iter 22: observed MAE=0.275046 rank=119\n",
      "[SoftImpute] Iter 23: observed MAE=0.274689 rank=118\n",
      "[SoftImpute] Iter 24: observed MAE=0.274283 rank=115\n",
      "[SoftImpute] Iter 25: observed MAE=0.273936 rank=114\n",
      "[SoftImpute] Iter 26: observed MAE=0.273616 rank=112\n",
      "[SoftImpute] Iter 27: observed MAE=0.273305 rank=110\n",
      "[SoftImpute] Iter 28: observed MAE=0.272982 rank=109\n",
      "[SoftImpute] Iter 29: observed MAE=0.272708 rank=107\n",
      "[SoftImpute] Iter 30: observed MAE=0.272402 rank=106\n",
      "[SoftImpute] Iter 31: observed MAE=0.272156 rank=106\n",
      "[SoftImpute] Iter 32: observed MAE=0.271903 rank=104\n",
      "[SoftImpute] Iter 33: observed MAE=0.271621 rank=103\n",
      "[SoftImpute] Iter 34: observed MAE=0.271373 rank=102\n",
      "[SoftImpute] Iter 35: observed MAE=0.271141 rank=102\n",
      "[SoftImpute] Iter 36: observed MAE=0.270891 rank=101\n",
      "[SoftImpute] Iter 37: observed MAE=0.270645 rank=99\n",
      "[SoftImpute] Iter 38: observed MAE=0.270421 rank=99\n",
      "[SoftImpute] Iter 39: observed MAE=0.270209 rank=97\n",
      "[SoftImpute] Iter 40: observed MAE=0.269934 rank=96\n",
      "[SoftImpute] Iter 41: observed MAE=0.269733 rank=96\n",
      "[SoftImpute] Iter 42: observed MAE=0.269516 rank=94\n",
      "[SoftImpute] Iter 43: observed MAE=0.269277 rank=94\n",
      "[SoftImpute] Iter 44: observed MAE=0.269070 rank=93\n",
      "[SoftImpute] Iter 45: observed MAE=0.268860 rank=92\n",
      "[SoftImpute] Iter 46: observed MAE=0.268640 rank=91\n",
      "[SoftImpute] Iter 47: observed MAE=0.268406 rank=90\n",
      "[SoftImpute] Iter 48: observed MAE=0.268159 rank=89\n",
      "[SoftImpute] Iter 49: observed MAE=0.267967 rank=88\n",
      "[SoftImpute] Iter 50: observed MAE=0.267774 rank=88\n",
      "[SoftImpute] Iter 51: observed MAE=0.267572 rank=86\n",
      "[SoftImpute] Iter 52: observed MAE=0.267350 rank=86\n",
      "[SoftImpute] Iter 53: observed MAE=0.267187 rank=86\n",
      "[SoftImpute] Iter 54: observed MAE=0.267049 rank=86\n",
      "[SoftImpute] Iter 55: observed MAE=0.266890 rank=85\n",
      "[SoftImpute] Iter 56: observed MAE=0.266667 rank=83\n",
      "[SoftImpute] Iter 57: observed MAE=0.266468 rank=83\n",
      "[SoftImpute] Iter 58: observed MAE=0.266294 rank=82\n",
      "[SoftImpute] Iter 59: observed MAE=0.266103 rank=81\n",
      "[SoftImpute] Iter 60: observed MAE=0.265914 rank=81\n",
      "[SoftImpute] Iter 61: observed MAE=0.265770 rank=81\n",
      "[SoftImpute] Iter 62: observed MAE=0.265644 rank=81\n",
      "[SoftImpute] Iter 63: observed MAE=0.265502 rank=80\n",
      "[SoftImpute] Iter 64: observed MAE=0.265305 rank=79\n",
      "[SoftImpute] Iter 65: observed MAE=0.265157 rank=79\n",
      "[SoftImpute] Iter 66: observed MAE=0.265032 rank=79\n",
      "[SoftImpute] Iter 67: observed MAE=0.264913 rank=78\n",
      "[SoftImpute] Iter 68: observed MAE=0.264776 rank=77\n",
      "[SoftImpute] Iter 69: observed MAE=0.264607 rank=77\n",
      "[SoftImpute] Iter 70: observed MAE=0.264473 rank=77\n",
      "[SoftImpute] Iter 71: observed MAE=0.264320 rank=76\n",
      "[SoftImpute] Iter 72: observed MAE=0.264179 rank=76\n",
      "[SoftImpute] Iter 73: observed MAE=0.264057 rank=76\n",
      "[SoftImpute] Iter 74: observed MAE=0.263907 rank=75\n",
      "[SoftImpute] Iter 75: observed MAE=0.263775 rank=75\n",
      "[SoftImpute] Iter 76: observed MAE=0.263661 rank=75\n",
      "[SoftImpute] Iter 77: observed MAE=0.263517 rank=74\n",
      "[SoftImpute] Iter 78: observed MAE=0.263383 rank=73\n",
      "[SoftImpute] Iter 79: observed MAE=0.263245 rank=73\n",
      "[SoftImpute] Iter 80: observed MAE=0.263128 rank=73\n",
      "[SoftImpute] Iter 81: observed MAE=0.262995 rank=72\n",
      "[SoftImpute] Iter 82: observed MAE=0.262863 rank=72\n",
      "[SoftImpute] Iter 83: observed MAE=0.262713 rank=71\n",
      "[SoftImpute] Iter 84: observed MAE=0.262589 rank=71\n",
      "[SoftImpute] Iter 85: observed MAE=0.262478 rank=71\n",
      "[SoftImpute] Iter 86: observed MAE=0.262373 rank=71\n",
      "[SoftImpute] Iter 87: observed MAE=0.262255 rank=70\n",
      "[SoftImpute] Iter 88: observed MAE=0.262126 rank=70\n",
      "[SoftImpute] Iter 89: observed MAE=0.261971 rank=69\n",
      "[SoftImpute] Iter 90: observed MAE=0.261841 rank=69\n",
      "[SoftImpute] Iter 91: observed MAE=0.261728 rank=69\n",
      "[SoftImpute] Iter 92: observed MAE=0.261623 rank=69\n",
      "[SoftImpute] Iter 93: observed MAE=0.261493 rank=68\n",
      "[SoftImpute] Iter 94: observed MAE=0.261366 rank=68\n",
      "[SoftImpute] Iter 95: observed MAE=0.261259 rank=68\n",
      "[SoftImpute] Iter 96: observed MAE=0.261143 rank=67\n",
      "[SoftImpute] Iter 97: observed MAE=0.261028 rank=67\n",
      "[SoftImpute] Iter 98: observed MAE=0.260924 rank=67\n",
      "[SoftImpute] Iter 99: observed MAE=0.260826 rank=67\n",
      "[SoftImpute] Iter 100: observed MAE=0.260712 rank=66\n",
      "[SoftImpute] Stopped after iteration 100 for lambda=7.299243\n",
      "✅ Saved imputed file to: imputed_softimpute\\adata_softimpute_imputed_mf10_run2.h5ad\n",
      "\n",
      "Processing dropout_h5ad\\adata_dropout_mf10_run3.h5ad ...\n",
      "Selected 200 HVGs out of 2000 genes\n"
     ]
    },
    {
     "name": "stderr",
     "output_type": "stream",
     "text": [
      "c:\\Users\\prath\\anaconda-new\\Lib\\site-packages\\anndata\\_core\\anndata.py:1791: UserWarning: Observation names are not unique. To make them unique, call `.obs_names_make_unique`.\n",
      "  utils.warn_names_duplicates(\"obs\")\n",
      "c:\\Users\\prath\\anaconda-new\\Lib\\site-packages\\anndata\\_core\\anndata.py:1793: UserWarning: Variable names are not unique. To make them unique, call `.var_names_make_unique`.\n",
      "  utils.warn_names_duplicates(\"var\")\n",
      "c:\\Users\\prath\\anaconda-new\\Lib\\site-packages\\sklearn\\utils\\deprecation.py:132: FutureWarning: 'force_all_finite' was renamed to 'ensure_all_finite' in 1.6 and will be removed in 1.8.\n",
      "  warnings.warn(\n"
     ]
    },
    {
     "name": "stdout",
     "output_type": "stream",
     "text": [
      "Running SoftImpute on HVGs matrix (14746, 200) ...\n",
      "[SoftImpute] Max Singular Value of X_init = 361.787933\n"
     ]
    },
    {
     "name": "stderr",
     "output_type": "stream",
     "text": [
      "c:\\Users\\prath\\anaconda-new\\Lib\\site-packages\\sklearn\\utils\\deprecation.py:132: FutureWarning: 'force_all_finite' was renamed to 'ensure_all_finite' in 1.6 and will be removed in 1.8.\n",
      "  warnings.warn(\n",
      "c:\\Users\\prath\\anaconda-new\\Lib\\site-packages\\sklearn\\utils\\deprecation.py:132: FutureWarning: 'force_all_finite' was renamed to 'ensure_all_finite' in 1.6 and will be removed in 1.8.\n",
      "  warnings.warn(\n"
     ]
    },
    {
     "name": "stdout",
     "output_type": "stream",
     "text": [
      "[SoftImpute] Iter 1: observed MAE=0.290959 rank=160\n",
      "[SoftImpute] Iter 2: observed MAE=0.291668 rank=159\n",
      "[SoftImpute] Iter 3: observed MAE=0.292212 rank=154\n",
      "[SoftImpute] Iter 4: observed MAE=0.292626 rank=152\n",
      "[SoftImpute] Iter 5: observed MAE=0.293033 rank=149\n",
      "[SoftImpute] Iter 6: observed MAE=0.293342 rank=145\n",
      "[SoftImpute] Iter 7: observed MAE=0.293620 rank=142\n",
      "[SoftImpute] Iter 8: observed MAE=0.293980 rank=141\n",
      "[SoftImpute] Iter 9: observed MAE=0.294345 rank=140\n",
      "[SoftImpute] Iter 10: observed MAE=0.294680 rank=139\n",
      "[SoftImpute] Iter 11: observed MAE=0.294892 rank=137\n",
      "[SoftImpute] Iter 12: observed MAE=0.294975 rank=134\n",
      "[SoftImpute] Iter 13: observed MAE=0.294878 rank=131\n",
      "[SoftImpute] Iter 14: observed MAE=0.294721 rank=129\n",
      "[SoftImpute] Iter 15: observed MAE=0.294585 rank=127\n",
      "[SoftImpute] Iter 16: observed MAE=0.294410 rank=126\n",
      "[SoftImpute] Iter 17: observed MAE=0.294246 rank=124\n",
      "[SoftImpute] Iter 18: observed MAE=0.293964 rank=121\n",
      "[SoftImpute] Iter 19: observed MAE=0.293665 rank=119\n",
      "[SoftImpute] Iter 20: observed MAE=0.293386 rank=118\n",
      "[SoftImpute] Iter 21: observed MAE=0.293094 rank=116\n",
      "[SoftImpute] Iter 22: observed MAE=0.292663 rank=113\n",
      "[SoftImpute] Iter 23: observed MAE=0.292225 rank=111\n",
      "[SoftImpute] Iter 24: observed MAE=0.291827 rank=111\n",
      "[SoftImpute] Iter 25: observed MAE=0.291525 rank=109\n",
      "[SoftImpute] Iter 26: observed MAE=0.291207 rank=108\n",
      "[SoftImpute] Iter 27: observed MAE=0.290919 rank=107\n",
      "[SoftImpute] Iter 28: observed MAE=0.290676 rank=106\n",
      "[SoftImpute] Iter 29: observed MAE=0.290406 rank=105\n",
      "[SoftImpute] Iter 30: observed MAE=0.290161 rank=105\n",
      "[SoftImpute] Iter 31: observed MAE=0.289887 rank=103\n",
      "[SoftImpute] Iter 32: observed MAE=0.289615 rank=102\n",
      "[SoftImpute] Iter 33: observed MAE=0.289407 rank=102\n",
      "[SoftImpute] Iter 34: observed MAE=0.289201 rank=101\n",
      "[SoftImpute] Iter 35: observed MAE=0.288927 rank=99\n",
      "[SoftImpute] Iter 36: observed MAE=0.288652 rank=97\n",
      "[SoftImpute] Iter 37: observed MAE=0.288363 rank=97\n",
      "[SoftImpute] Iter 38: observed MAE=0.288144 rank=95\n",
      "[SoftImpute] Iter 39: observed MAE=0.287868 rank=94\n",
      "[SoftImpute] Iter 40: observed MAE=0.287596 rank=93\n",
      "[SoftImpute] Iter 41: observed MAE=0.287360 rank=93\n",
      "[SoftImpute] Iter 42: observed MAE=0.287146 rank=92\n",
      "[SoftImpute] Iter 43: observed MAE=0.286918 rank=91\n",
      "[SoftImpute] Iter 44: observed MAE=0.286666 rank=90\n",
      "[SoftImpute] Iter 45: observed MAE=0.286434 rank=89\n",
      "[SoftImpute] Iter 46: observed MAE=0.286244 rank=89\n",
      "[SoftImpute] Iter 47: observed MAE=0.286092 rank=89\n",
      "[SoftImpute] Iter 48: observed MAE=0.285957 rank=89\n",
      "[SoftImpute] Iter 49: observed MAE=0.285778 rank=88\n",
      "[SoftImpute] Iter 50: observed MAE=0.285573 rank=87\n",
      "[SoftImpute] Iter 51: observed MAE=0.285412 rank=87\n",
      "[SoftImpute] Iter 52: observed MAE=0.285274 rank=87\n",
      "[SoftImpute] Iter 53: observed MAE=0.285104 rank=86\n",
      "[SoftImpute] Iter 54: observed MAE=0.284945 rank=85\n",
      "[SoftImpute] Iter 55: observed MAE=0.284739 rank=84\n",
      "[SoftImpute] Iter 56: observed MAE=0.284516 rank=83\n",
      "[SoftImpute] Iter 57: observed MAE=0.284337 rank=83\n",
      "[SoftImpute] Iter 58: observed MAE=0.284172 rank=82\n",
      "[SoftImpute] Iter 59: observed MAE=0.283986 rank=81\n",
      "[SoftImpute] Iter 60: observed MAE=0.283796 rank=81\n",
      "[SoftImpute] Iter 61: observed MAE=0.283647 rank=81\n",
      "[SoftImpute] Iter 62: observed MAE=0.283515 rank=81\n",
      "[SoftImpute] Iter 63: observed MAE=0.283374 rank=80\n",
      "[SoftImpute] Iter 64: observed MAE=0.283209 rank=80\n",
      "[SoftImpute] Iter 65: observed MAE=0.283078 rank=80\n",
      "[SoftImpute] Iter 66: observed MAE=0.282914 rank=79\n",
      "[SoftImpute] Iter 67: observed MAE=0.282780 rank=79\n",
      "[SoftImpute] Iter 68: observed MAE=0.282624 rank=78\n",
      "[SoftImpute] Iter 69: observed MAE=0.282488 rank=78\n",
      "[SoftImpute] Iter 70: observed MAE=0.282338 rank=77\n",
      "[SoftImpute] Iter 71: observed MAE=0.282193 rank=77\n",
      "[SoftImpute] Iter 72: observed MAE=0.282058 rank=76\n",
      "[SoftImpute] Iter 73: observed MAE=0.281895 rank=76\n",
      "[SoftImpute] Iter 74: observed MAE=0.281721 rank=74\n",
      "[SoftImpute] Iter 75: observed MAE=0.281505 rank=73\n",
      "[SoftImpute] Iter 76: observed MAE=0.281321 rank=73\n",
      "[SoftImpute] Iter 77: observed MAE=0.281175 rank=73\n",
      "[SoftImpute] Iter 78: observed MAE=0.281046 rank=73\n",
      "[SoftImpute] Iter 79: observed MAE=0.280896 rank=72\n",
      "[SoftImpute] Iter 80: observed MAE=0.280741 rank=71\n",
      "[SoftImpute] Iter 81: observed MAE=0.280582 rank=71\n",
      "[SoftImpute] Iter 82: observed MAE=0.280452 rank=71\n",
      "[SoftImpute] Iter 83: observed MAE=0.280334 rank=71\n",
      "[SoftImpute] Iter 84: observed MAE=0.280193 rank=70\n",
      "[SoftImpute] Iter 85: observed MAE=0.280070 rank=70\n",
      "[SoftImpute] Iter 86: observed MAE=0.279962 rank=70\n",
      "[SoftImpute] Iter 87: observed MAE=0.279859 rank=70\n",
      "[SoftImpute] Iter 88: observed MAE=0.279741 rank=69\n",
      "[SoftImpute] Iter 89: observed MAE=0.279607 rank=69\n",
      "[SoftImpute] Iter 90: observed MAE=0.279495 rank=69\n",
      "[SoftImpute] Iter 91: observed MAE=0.279392 rank=69\n",
      "[SoftImpute] Iter 92: observed MAE=0.279281 rank=68\n",
      "[SoftImpute] Iter 93: observed MAE=0.279156 rank=68\n",
      "[SoftImpute] Iter 94: observed MAE=0.279050 rank=68\n",
      "[SoftImpute] Iter 95: observed MAE=0.278918 rank=67\n",
      "[SoftImpute] Iter 96: observed MAE=0.278795 rank=67\n",
      "[SoftImpute] Iter 97: observed MAE=0.278690 rank=67\n",
      "[SoftImpute] Iter 98: observed MAE=0.278591 rank=67\n",
      "[SoftImpute] Iter 99: observed MAE=0.278495 rank=67\n",
      "[SoftImpute] Iter 100: observed MAE=0.278402 rank=67\n",
      "[SoftImpute] Stopped after iteration 100 for lambda=7.235759\n",
      "✅ Saved imputed file to: imputed_softimpute\\adata_softimpute_imputed_mf10_run3.h5ad\n",
      "\n",
      "Processing dropout_h5ad\\adata_dropout_mf10_run4.h5ad ...\n"
     ]
    },
    {
     "name": "stderr",
     "output_type": "stream",
     "text": [
      "c:\\Users\\prath\\anaconda-new\\Lib\\site-packages\\anndata\\_core\\anndata.py:1791: UserWarning: Observation names are not unique. To make them unique, call `.obs_names_make_unique`.\n",
      "  utils.warn_names_duplicates(\"obs\")\n",
      "c:\\Users\\prath\\anaconda-new\\Lib\\site-packages\\anndata\\_core\\anndata.py:1793: UserWarning: Variable names are not unique. To make them unique, call `.var_names_make_unique`.\n",
      "  utils.warn_names_duplicates(\"var\")\n"
     ]
    },
    {
     "name": "stdout",
     "output_type": "stream",
     "text": [
      "Selected 200 HVGs out of 2000 genes\n",
      "Running SoftImpute on HVGs matrix (14746, 200) ...\n",
      "[SoftImpute] Max Singular Value of X_init = 357.612518\n"
     ]
    },
    {
     "name": "stderr",
     "output_type": "stream",
     "text": [
      "c:\\Users\\prath\\anaconda-new\\Lib\\site-packages\\sklearn\\utils\\deprecation.py:132: FutureWarning: 'force_all_finite' was renamed to 'ensure_all_finite' in 1.6 and will be removed in 1.8.\n",
      "  warnings.warn(\n",
      "c:\\Users\\prath\\anaconda-new\\Lib\\site-packages\\sklearn\\utils\\deprecation.py:132: FutureWarning: 'force_all_finite' was renamed to 'ensure_all_finite' in 1.6 and will be removed in 1.8.\n",
      "  warnings.warn(\n",
      "c:\\Users\\prath\\anaconda-new\\Lib\\site-packages\\sklearn\\utils\\deprecation.py:132: FutureWarning: 'force_all_finite' was renamed to 'ensure_all_finite' in 1.6 and will be removed in 1.8.\n",
      "  warnings.warn(\n"
     ]
    },
    {
     "name": "stdout",
     "output_type": "stream",
     "text": [
      "[SoftImpute] Iter 1: observed MAE=0.268292 rank=161\n",
      "[SoftImpute] Iter 2: observed MAE=0.268901 rank=160\n",
      "[SoftImpute] Iter 3: observed MAE=0.269290 rank=155\n",
      "[SoftImpute] Iter 4: observed MAE=0.269639 rank=154\n",
      "[SoftImpute] Iter 5: observed MAE=0.270056 rank=151\n",
      "[SoftImpute] Iter 6: observed MAE=0.270333 rank=147\n",
      "[SoftImpute] Iter 7: observed MAE=0.270509 rank=143\n",
      "[SoftImpute] Iter 8: observed MAE=0.270730 rank=141\n",
      "[SoftImpute] Iter 9: observed MAE=0.270920 rank=139\n",
      "[SoftImpute] Iter 10: observed MAE=0.271133 rank=137\n",
      "[SoftImpute] Iter 11: observed MAE=0.271254 rank=135\n",
      "[SoftImpute] Iter 12: observed MAE=0.271262 rank=132\n",
      "[SoftImpute] Iter 13: observed MAE=0.271237 rank=131\n",
      "[SoftImpute] Iter 14: observed MAE=0.271142 rank=128\n",
      "[SoftImpute] Iter 15: observed MAE=0.270878 rank=127\n",
      "[SoftImpute] Iter 16: observed MAE=0.270701 rank=125\n",
      "[SoftImpute] Iter 17: observed MAE=0.270480 rank=123\n",
      "[SoftImpute] Iter 18: observed MAE=0.270267 rank=121\n",
      "[SoftImpute] Iter 19: observed MAE=0.270009 rank=119\n",
      "[SoftImpute] Iter 20: observed MAE=0.269678 rank=117\n",
      "[SoftImpute] Iter 21: observed MAE=0.269390 rank=116\n",
      "[SoftImpute] Iter 22: observed MAE=0.269053 rank=114\n",
      "[SoftImpute] Iter 23: observed MAE=0.268657 rank=113\n",
      "[SoftImpute] Iter 24: observed MAE=0.268332 rank=112\n",
      "[SoftImpute] Iter 25: observed MAE=0.267970 rank=110\n",
      "[SoftImpute] Iter 26: observed MAE=0.267662 rank=109\n",
      "[SoftImpute] Iter 27: observed MAE=0.267368 rank=108\n",
      "[SoftImpute] Iter 28: observed MAE=0.267074 rank=106\n",
      "[SoftImpute] Iter 29: observed MAE=0.266799 rank=104\n",
      "[SoftImpute] Iter 30: observed MAE=0.266502 rank=103\n",
      "[SoftImpute] Iter 31: observed MAE=0.266218 rank=102\n",
      "[SoftImpute] Iter 32: observed MAE=0.265907 rank=100\n",
      "[SoftImpute] Iter 33: observed MAE=0.265649 rank=99\n",
      "[SoftImpute] Iter 34: observed MAE=0.265421 rank=98\n",
      "[SoftImpute] Iter 35: observed MAE=0.265166 rank=97\n",
      "[SoftImpute] Iter 36: observed MAE=0.264943 rank=97\n",
      "[SoftImpute] Iter 37: observed MAE=0.264726 rank=96\n",
      "[SoftImpute] Iter 38: observed MAE=0.264495 rank=95\n",
      "[SoftImpute] Iter 39: observed MAE=0.264307 rank=95\n",
      "[SoftImpute] Iter 40: observed MAE=0.264086 rank=93\n",
      "[SoftImpute] Iter 41: observed MAE=0.263798 rank=91\n",
      "[SoftImpute] Iter 42: observed MAE=0.263561 rank=91\n",
      "[SoftImpute] Iter 43: observed MAE=0.263355 rank=90\n",
      "[SoftImpute] Iter 44: observed MAE=0.263156 rank=90\n",
      "[SoftImpute] Iter 45: observed MAE=0.262958 rank=89\n",
      "[SoftImpute] Iter 46: observed MAE=0.262765 rank=88\n",
      "[SoftImpute] Iter 47: observed MAE=0.262580 rank=88\n",
      "[SoftImpute] Iter 48: observed MAE=0.262431 rank=88\n",
      "[SoftImpute] Iter 49: observed MAE=0.262270 rank=87\n",
      "[SoftImpute] Iter 50: observed MAE=0.262026 rank=85\n",
      "[SoftImpute] Iter 51: observed MAE=0.261806 rank=84\n",
      "[SoftImpute] Iter 52: observed MAE=0.261605 rank=84\n",
      "[SoftImpute] Iter 53: observed MAE=0.261413 rank=83\n",
      "[SoftImpute] Iter 54: observed MAE=0.261247 rank=83\n",
      "[SoftImpute] Iter 55: observed MAE=0.261088 rank=82\n",
      "[SoftImpute] Iter 56: observed MAE=0.260928 rank=82\n",
      "[SoftImpute] Iter 57: observed MAE=0.260781 rank=81\n",
      "[SoftImpute] Iter 58: observed MAE=0.260598 rank=80\n",
      "[SoftImpute] Iter 59: observed MAE=0.260430 rank=80\n",
      "[SoftImpute] Iter 60: observed MAE=0.260235 rank=78\n",
      "[SoftImpute] Iter 61: observed MAE=0.260025 rank=78\n",
      "[SoftImpute] Iter 62: observed MAE=0.259871 rank=78\n",
      "[SoftImpute] Iter 63: observed MAE=0.259740 rank=78\n",
      "[SoftImpute] Iter 64: observed MAE=0.259603 rank=77\n",
      "[SoftImpute] Iter 65: observed MAE=0.259444 rank=77\n",
      "[SoftImpute] Iter 66: observed MAE=0.259315 rank=77\n",
      "[SoftImpute] Iter 67: observed MAE=0.259175 rank=76\n",
      "[SoftImpute] Iter 68: observed MAE=0.259039 rank=76\n",
      "[SoftImpute] Iter 69: observed MAE=0.258907 rank=75\n",
      "[SoftImpute] Iter 70: observed MAE=0.258760 rank=75\n",
      "[SoftImpute] Iter 71: observed MAE=0.258637 rank=75\n",
      "[SoftImpute] Iter 72: observed MAE=0.258526 rank=75\n",
      "[SoftImpute] Iter 73: observed MAE=0.258411 rank=74\n",
      "[SoftImpute] Iter 74: observed MAE=0.258288 rank=73\n",
      "[SoftImpute] Iter 75: observed MAE=0.258121 rank=73\n",
      "[SoftImpute] Iter 76: observed MAE=0.257976 rank=72\n",
      "[SoftImpute] Iter 77: observed MAE=0.257840 rank=72\n",
      "[SoftImpute] Iter 78: observed MAE=0.257725 rank=72\n",
      "[SoftImpute] Iter 79: observed MAE=0.257605 rank=71\n",
      "[SoftImpute] Iter 80: observed MAE=0.257442 rank=70\n",
      "[SoftImpute] Iter 81: observed MAE=0.257299 rank=70\n",
      "[SoftImpute] Iter 82: observed MAE=0.257179 rank=70\n",
      "[SoftImpute] Iter 83: observed MAE=0.257071 rank=70\n",
      "[SoftImpute] Iter 84: observed MAE=0.256970 rank=70\n",
      "[SoftImpute] Iter 85: observed MAE=0.256873 rank=70\n",
      "[SoftImpute] Iter 86: observed MAE=0.256778 rank=70\n",
      "[SoftImpute] Iter 87: observed MAE=0.256682 rank=69\n",
      "[SoftImpute] Iter 88: observed MAE=0.256559 rank=69\n",
      "[SoftImpute] Iter 89: observed MAE=0.256453 rank=69\n",
      "[SoftImpute] Iter 90: observed MAE=0.256327 rank=68\n",
      "[SoftImpute] Iter 91: observed MAE=0.256194 rank=67\n",
      "[SoftImpute] Iter 92: observed MAE=0.256052 rank=67\n",
      "[SoftImpute] Iter 93: observed MAE=0.255912 rank=66\n",
      "[SoftImpute] Iter 94: observed MAE=0.255787 rank=66\n",
      "[SoftImpute] Iter 95: observed MAE=0.255680 rank=66\n",
      "[SoftImpute] Iter 96: observed MAE=0.255569 rank=65\n",
      "[SoftImpute] Iter 97: observed MAE=0.255450 rank=65\n",
      "[SoftImpute] Iter 98: observed MAE=0.255347 rank=65\n",
      "[SoftImpute] Iter 99: observed MAE=0.255251 rank=65\n",
      "[SoftImpute] Iter 100: observed MAE=0.255158 rank=65\n",
      "[SoftImpute] Stopped after iteration 100 for lambda=7.152250\n",
      "✅ Saved imputed file to: imputed_softimpute\\adata_softimpute_imputed_mf10_run4.h5ad\n",
      "\n",
      "Processing dropout_h5ad\\adata_dropout_mf10_run5.h5ad ...\n",
      "Selected 200 HVGs out of 2000 genes\n"
     ]
    },
    {
     "name": "stderr",
     "output_type": "stream",
     "text": [
      "c:\\Users\\prath\\anaconda-new\\Lib\\site-packages\\anndata\\_core\\anndata.py:1791: UserWarning: Observation names are not unique. To make them unique, call `.obs_names_make_unique`.\n",
      "  utils.warn_names_duplicates(\"obs\")\n",
      "c:\\Users\\prath\\anaconda-new\\Lib\\site-packages\\anndata\\_core\\anndata.py:1793: UserWarning: Variable names are not unique. To make them unique, call `.var_names_make_unique`.\n",
      "  utils.warn_names_duplicates(\"var\")\n"
     ]
    },
    {
     "name": "stdout",
     "output_type": "stream",
     "text": [
      "Running SoftImpute on HVGs matrix (14746, 200) ...\n",
      "[SoftImpute] Max Singular Value of X_init = 364.323425\n"
     ]
    },
    {
     "name": "stderr",
     "output_type": "stream",
     "text": [
      "c:\\Users\\prath\\anaconda-new\\Lib\\site-packages\\sklearn\\utils\\deprecation.py:132: FutureWarning: 'force_all_finite' was renamed to 'ensure_all_finite' in 1.6 and will be removed in 1.8.\n",
      "  warnings.warn(\n",
      "c:\\Users\\prath\\anaconda-new\\Lib\\site-packages\\sklearn\\utils\\deprecation.py:132: FutureWarning: 'force_all_finite' was renamed to 'ensure_all_finite' in 1.6 and will be removed in 1.8.\n",
      "  warnings.warn(\n",
      "c:\\Users\\prath\\anaconda-new\\Lib\\site-packages\\sklearn\\utils\\deprecation.py:132: FutureWarning: 'force_all_finite' was renamed to 'ensure_all_finite' in 1.6 and will be removed in 1.8.\n",
      "  warnings.warn(\n"
     ]
    },
    {
     "name": "stdout",
     "output_type": "stream",
     "text": [
      "[SoftImpute] Iter 1: observed MAE=0.269756 rank=160\n",
      "[SoftImpute] Iter 2: observed MAE=0.270429 rank=156\n",
      "[SoftImpute] Iter 3: observed MAE=0.270952 rank=154\n",
      "[SoftImpute] Iter 4: observed MAE=0.271430 rank=154\n",
      "[SoftImpute] Iter 5: observed MAE=0.271835 rank=150\n",
      "[SoftImpute] Iter 6: observed MAE=0.272182 rank=148\n",
      "[SoftImpute] Iter 7: observed MAE=0.272522 rank=145\n",
      "[SoftImpute] Iter 8: observed MAE=0.272785 rank=143\n",
      "[SoftImpute] Iter 9: observed MAE=0.273067 rank=141\n",
      "[SoftImpute] Iter 10: observed MAE=0.273281 rank=140\n",
      "[SoftImpute] Iter 11: observed MAE=0.273484 rank=138\n",
      "[SoftImpute] Iter 12: observed MAE=0.273498 rank=136\n",
      "[SoftImpute] Iter 13: observed MAE=0.273396 rank=134\n",
      "[SoftImpute] Iter 14: observed MAE=0.273245 rank=131\n",
      "[SoftImpute] Iter 15: observed MAE=0.273039 rank=129\n",
      "[SoftImpute] Iter 16: observed MAE=0.272753 rank=126\n",
      "[SoftImpute] Iter 17: observed MAE=0.272458 rank=124\n",
      "[SoftImpute] Iter 18: observed MAE=0.272171 rank=122\n",
      "[SoftImpute] Iter 19: observed MAE=0.271895 rank=120\n",
      "[SoftImpute] Iter 20: observed MAE=0.271602 rank=119\n",
      "[SoftImpute] Iter 21: observed MAE=0.271290 rank=117\n",
      "[SoftImpute] Iter 22: observed MAE=0.271008 rank=117\n",
      "[SoftImpute] Iter 23: observed MAE=0.270667 rank=115\n",
      "[SoftImpute] Iter 24: observed MAE=0.270308 rank=113\n",
      "[SoftImpute] Iter 25: observed MAE=0.269931 rank=111\n",
      "[SoftImpute] Iter 26: observed MAE=0.269561 rank=109\n",
      "[SoftImpute] Iter 27: observed MAE=0.269284 rank=109\n",
      "[SoftImpute] Iter 28: observed MAE=0.269019 rank=107\n",
      "[SoftImpute] Iter 29: observed MAE=0.268701 rank=106\n",
      "[SoftImpute] Iter 30: observed MAE=0.268441 rank=105\n",
      "[SoftImpute] Iter 31: observed MAE=0.268164 rank=103\n",
      "[SoftImpute] Iter 32: observed MAE=0.267900 rank=102\n",
      "[SoftImpute] Iter 33: observed MAE=0.267664 rank=102\n",
      "[SoftImpute] Iter 34: observed MAE=0.267408 rank=100\n",
      "[SoftImpute] Iter 35: observed MAE=0.267143 rank=99\n",
      "[SoftImpute] Iter 36: observed MAE=0.266921 rank=99\n",
      "[SoftImpute] Iter 37: observed MAE=0.266666 rank=97\n",
      "[SoftImpute] Iter 38: observed MAE=0.266433 rank=97\n",
      "[SoftImpute] Iter 39: observed MAE=0.266218 rank=96\n",
      "[SoftImpute] Iter 40: observed MAE=0.265946 rank=94\n",
      "[SoftImpute] Iter 41: observed MAE=0.265723 rank=94\n",
      "[SoftImpute] Iter 42: observed MAE=0.265553 rank=94\n",
      "[SoftImpute] Iter 43: observed MAE=0.265386 rank=93\n",
      "[SoftImpute] Iter 44: observed MAE=0.265203 rank=93\n",
      "[SoftImpute] Iter 45: observed MAE=0.265010 rank=92\n",
      "[SoftImpute] Iter 46: observed MAE=0.264816 rank=91\n",
      "[SoftImpute] Iter 47: observed MAE=0.264622 rank=91\n",
      "[SoftImpute] Iter 48: observed MAE=0.264395 rank=89\n",
      "[SoftImpute] Iter 49: observed MAE=0.264202 rank=88\n",
      "[SoftImpute] Iter 50: observed MAE=0.263965 rank=87\n",
      "[SoftImpute] Iter 51: observed MAE=0.263795 rank=87\n",
      "[SoftImpute] Iter 52: observed MAE=0.263652 rank=87\n",
      "[SoftImpute] Iter 53: observed MAE=0.263465 rank=86\n",
      "[SoftImpute] Iter 54: observed MAE=0.263314 rank=85\n",
      "[SoftImpute] Iter 55: observed MAE=0.263117 rank=84\n",
      "[SoftImpute] Iter 56: observed MAE=0.262906 rank=83\n",
      "[SoftImpute] Iter 57: observed MAE=0.262699 rank=82\n",
      "[SoftImpute] Iter 58: observed MAE=0.262481 rank=81\n",
      "[SoftImpute] Iter 59: observed MAE=0.262302 rank=81\n",
      "[SoftImpute] Iter 60: observed MAE=0.262154 rank=81\n",
      "[SoftImpute] Iter 61: observed MAE=0.261985 rank=80\n",
      "[SoftImpute] Iter 62: observed MAE=0.261819 rank=80\n",
      "[SoftImpute] Iter 63: observed MAE=0.261646 rank=79\n",
      "[SoftImpute] Iter 64: observed MAE=0.261501 rank=79\n",
      "[SoftImpute] Iter 65: observed MAE=0.261378 rank=79\n",
      "[SoftImpute] Iter 66: observed MAE=0.261266 rank=79\n",
      "[SoftImpute] Iter 67: observed MAE=0.261160 rank=79\n",
      "[SoftImpute] Iter 68: observed MAE=0.261022 rank=78\n",
      "[SoftImpute] Iter 69: observed MAE=0.260856 rank=77\n",
      "[SoftImpute] Iter 70: observed MAE=0.260706 rank=76\n",
      "[SoftImpute] Iter 71: observed MAE=0.260541 rank=76\n",
      "[SoftImpute] Iter 72: observed MAE=0.260414 rank=76\n",
      "[SoftImpute] Iter 73: observed MAE=0.260299 rank=76\n",
      "[SoftImpute] Iter 74: observed MAE=0.260167 rank=75\n",
      "[SoftImpute] Iter 75: observed MAE=0.260037 rank=75\n",
      "[SoftImpute] Iter 76: observed MAE=0.259906 rank=74\n",
      "[SoftImpute] Iter 77: observed MAE=0.259748 rank=73\n",
      "[SoftImpute] Iter 78: observed MAE=0.259597 rank=73\n",
      "[SoftImpute] Iter 79: observed MAE=0.259435 rank=72\n",
      "[SoftImpute] Iter 80: observed MAE=0.259303 rank=72\n",
      "[SoftImpute] Iter 81: observed MAE=0.259175 rank=71\n",
      "[SoftImpute] Iter 82: observed MAE=0.259033 rank=71\n",
      "[SoftImpute] Iter 83: observed MAE=0.258915 rank=71\n",
      "[SoftImpute] Iter 84: observed MAE=0.258807 rank=71\n",
      "[SoftImpute] Iter 85: observed MAE=0.258665 rank=70\n",
      "[SoftImpute] Iter 86: observed MAE=0.258548 rank=70\n",
      "[SoftImpute] Iter 87: observed MAE=0.258432 rank=69\n",
      "[SoftImpute] Iter 88: observed MAE=0.258295 rank=68\n",
      "[SoftImpute] Iter 89: observed MAE=0.258143 rank=68\n",
      "[SoftImpute] Iter 90: observed MAE=0.258001 rank=67\n",
      "[SoftImpute] Iter 91: observed MAE=0.257855 rank=66\n",
      "[SoftImpute] Iter 92: observed MAE=0.257722 rank=66\n",
      "[SoftImpute] Iter 93: observed MAE=0.257610 rank=66\n",
      "[SoftImpute] Iter 94: observed MAE=0.257510 rank=66\n",
      "[SoftImpute] Iter 95: observed MAE=0.257417 rank=66\n",
      "[SoftImpute] Iter 96: observed MAE=0.257328 rank=66\n",
      "[SoftImpute] Iter 97: observed MAE=0.257242 rank=66\n",
      "[SoftImpute] Iter 98: observed MAE=0.257158 rank=66\n",
      "[SoftImpute] Iter 99: observed MAE=0.257077 rank=66\n",
      "[SoftImpute] Iter 100: observed MAE=0.256998 rank=66\n",
      "[SoftImpute] Stopped after iteration 100 for lambda=7.286469\n",
      "✅ Saved imputed file to: imputed_softimpute\\adata_softimpute_imputed_mf10_run5.h5ad\n",
      "\n",
      "Processing dropout_h5ad\\adata_dropout_mf10_run6.h5ad ...\n"
     ]
    },
    {
     "name": "stderr",
     "output_type": "stream",
     "text": [
      "c:\\Users\\prath\\anaconda-new\\Lib\\site-packages\\anndata\\_core\\anndata.py:1791: UserWarning: Observation names are not unique. To make them unique, call `.obs_names_make_unique`.\n",
      "  utils.warn_names_duplicates(\"obs\")\n",
      "c:\\Users\\prath\\anaconda-new\\Lib\\site-packages\\anndata\\_core\\anndata.py:1793: UserWarning: Variable names are not unique. To make them unique, call `.var_names_make_unique`.\n",
      "  utils.warn_names_duplicates(\"var\")\n"
     ]
    },
    {
     "name": "stdout",
     "output_type": "stream",
     "text": [
      "Selected 200 HVGs out of 2000 genes\n",
      "Running SoftImpute on HVGs matrix (14746, 200) ...\n",
      "[SoftImpute] Max Singular Value of X_init = 363.938629\n"
     ]
    },
    {
     "name": "stderr",
     "output_type": "stream",
     "text": [
      "c:\\Users\\prath\\anaconda-new\\Lib\\site-packages\\sklearn\\utils\\deprecation.py:132: FutureWarning: 'force_all_finite' was renamed to 'ensure_all_finite' in 1.6 and will be removed in 1.8.\n",
      "  warnings.warn(\n",
      "c:\\Users\\prath\\anaconda-new\\Lib\\site-packages\\sklearn\\utils\\deprecation.py:132: FutureWarning: 'force_all_finite' was renamed to 'ensure_all_finite' in 1.6 and will be removed in 1.8.\n",
      "  warnings.warn(\n",
      "c:\\Users\\prath\\anaconda-new\\Lib\\site-packages\\sklearn\\utils\\deprecation.py:132: FutureWarning: 'force_all_finite' was renamed to 'ensure_all_finite' in 1.6 and will be removed in 1.8.\n",
      "  warnings.warn(\n"
     ]
    },
    {
     "name": "stdout",
     "output_type": "stream",
     "text": [
      "[SoftImpute] Iter 1: observed MAE=0.268249 rank=162\n",
      "[SoftImpute] Iter 2: observed MAE=0.268920 rank=158\n",
      "[SoftImpute] Iter 3: observed MAE=0.269437 rank=156\n",
      "[SoftImpute] Iter 4: observed MAE=0.269970 rank=154\n",
      "[SoftImpute] Iter 5: observed MAE=0.270343 rank=150\n",
      "[SoftImpute] Iter 6: observed MAE=0.270598 rank=147\n",
      "[SoftImpute] Iter 7: observed MAE=0.270871 rank=145\n",
      "[SoftImpute] Iter 8: observed MAE=0.271147 rank=141\n",
      "[SoftImpute] Iter 9: observed MAE=0.271452 rank=140\n",
      "[SoftImpute] Iter 10: observed MAE=0.271781 rank=139\n",
      "[SoftImpute] Iter 11: observed MAE=0.271949 rank=137\n",
      "[SoftImpute] Iter 12: observed MAE=0.272013 rank=135\n",
      "[SoftImpute] Iter 13: observed MAE=0.271947 rank=132\n",
      "[SoftImpute] Iter 14: observed MAE=0.271840 rank=130\n",
      "[SoftImpute] Iter 15: observed MAE=0.271720 rank=129\n",
      "[SoftImpute] Iter 16: observed MAE=0.271509 rank=125\n",
      "[SoftImpute] Iter 17: observed MAE=0.271179 rank=123\n",
      "[SoftImpute] Iter 18: observed MAE=0.270893 rank=122\n",
      "[SoftImpute] Iter 19: observed MAE=0.270598 rank=120\n",
      "[SoftImpute] Iter 20: observed MAE=0.270260 rank=119\n",
      "[SoftImpute] Iter 21: observed MAE=0.269888 rank=116\n",
      "[SoftImpute] Iter 22: observed MAE=0.269466 rank=115\n",
      "[SoftImpute] Iter 23: observed MAE=0.269128 rank=114\n",
      "[SoftImpute] Iter 24: observed MAE=0.268789 rank=112\n",
      "[SoftImpute] Iter 25: observed MAE=0.268446 rank=111\n",
      "[SoftImpute] Iter 26: observed MAE=0.268185 rank=109\n",
      "[SoftImpute] Iter 27: observed MAE=0.267852 rank=108\n",
      "[SoftImpute] Iter 28: observed MAE=0.267586 rank=107\n",
      "[SoftImpute] Iter 29: observed MAE=0.267295 rank=106\n",
      "[SoftImpute] Iter 30: observed MAE=0.267039 rank=105\n",
      "[SoftImpute] Iter 31: observed MAE=0.266817 rank=104\n",
      "[SoftImpute] Iter 32: observed MAE=0.266522 rank=102\n",
      "[SoftImpute] Iter 33: observed MAE=0.266269 rank=102\n",
      "[SoftImpute] Iter 34: observed MAE=0.266025 rank=101\n",
      "[SoftImpute] Iter 35: observed MAE=0.265785 rank=99\n",
      "[SoftImpute] Iter 36: observed MAE=0.265541 rank=98\n",
      "[SoftImpute] Iter 37: observed MAE=0.265263 rank=97\n",
      "[SoftImpute] Iter 38: observed MAE=0.264994 rank=96\n",
      "[SoftImpute] Iter 39: observed MAE=0.264779 rank=96\n",
      "[SoftImpute] Iter 40: observed MAE=0.264536 rank=94\n",
      "[SoftImpute] Iter 41: observed MAE=0.264258 rank=93\n",
      "[SoftImpute] Iter 42: observed MAE=0.264059 rank=93\n",
      "[SoftImpute] Iter 43: observed MAE=0.263894 rank=93\n",
      "[SoftImpute] Iter 44: observed MAE=0.263629 rank=90\n",
      "[SoftImpute] Iter 45: observed MAE=0.263380 rank=90\n",
      "[SoftImpute] Iter 46: observed MAE=0.263203 rank=90\n",
      "[SoftImpute] Iter 47: observed MAE=0.263033 rank=89\n",
      "[SoftImpute] Iter 48: observed MAE=0.262837 rank=88\n",
      "[SoftImpute] Iter 49: observed MAE=0.262634 rank=87\n",
      "[SoftImpute] Iter 50: observed MAE=0.262462 rank=87\n",
      "[SoftImpute] Iter 51: observed MAE=0.262289 rank=86\n",
      "[SoftImpute] Iter 52: observed MAE=0.262116 rank=86\n",
      "[SoftImpute] Iter 53: observed MAE=0.261970 rank=86\n",
      "[SoftImpute] Iter 54: observed MAE=0.261819 rank=85\n",
      "[SoftImpute] Iter 55: observed MAE=0.261656 rank=85\n",
      "[SoftImpute] Iter 56: observed MAE=0.261479 rank=84\n",
      "[SoftImpute] Iter 57: observed MAE=0.261288 rank=82\n",
      "[SoftImpute] Iter 58: observed MAE=0.261082 rank=82\n",
      "[SoftImpute] Iter 59: observed MAE=0.260928 rank=82\n",
      "[SoftImpute] Iter 60: observed MAE=0.260773 rank=81\n",
      "[SoftImpute] Iter 61: observed MAE=0.260605 rank=80\n",
      "[SoftImpute] Iter 62: observed MAE=0.260443 rank=80\n",
      "[SoftImpute] Iter 63: observed MAE=0.260295 rank=79\n",
      "[SoftImpute] Iter 64: observed MAE=0.260138 rank=79\n",
      "[SoftImpute] Iter 65: observed MAE=0.260006 rank=79\n",
      "[SoftImpute] Iter 66: observed MAE=0.259880 rank=78\n",
      "[SoftImpute] Iter 67: observed MAE=0.259705 rank=77\n",
      "[SoftImpute] Iter 68: observed MAE=0.259547 rank=77\n",
      "[SoftImpute] Iter 69: observed MAE=0.259413 rank=76\n",
      "[SoftImpute] Iter 70: observed MAE=0.259247 rank=76\n",
      "[SoftImpute] Iter 71: observed MAE=0.259119 rank=76\n",
      "[SoftImpute] Iter 72: observed MAE=0.259005 rank=76\n",
      "[SoftImpute] Iter 73: observed MAE=0.258897 rank=75\n",
      "[SoftImpute] Iter 74: observed MAE=0.258758 rank=75\n",
      "[SoftImpute] Iter 75: observed MAE=0.258593 rank=74\n",
      "[SoftImpute] Iter 76: observed MAE=0.258463 rank=74\n",
      "[SoftImpute] Iter 77: observed MAE=0.258317 rank=73\n",
      "[SoftImpute] Iter 78: observed MAE=0.258177 rank=73\n",
      "[SoftImpute] Iter 79: observed MAE=0.258061 rank=73\n",
      "[SoftImpute] Iter 80: observed MAE=0.257930 rank=72\n",
      "[SoftImpute] Iter 81: observed MAE=0.257800 rank=72\n",
      "[SoftImpute] Iter 82: observed MAE=0.257651 rank=71\n",
      "[SoftImpute] Iter 83: observed MAE=0.257527 rank=71\n",
      "[SoftImpute] Iter 84: observed MAE=0.257416 rank=71\n",
      "[SoftImpute] Iter 85: observed MAE=0.257310 rank=70\n",
      "[SoftImpute] Iter 86: observed MAE=0.257165 rank=70\n",
      "[SoftImpute] Iter 87: observed MAE=0.257049 rank=70\n",
      "[SoftImpute] Iter 88: observed MAE=0.256929 rank=69\n",
      "[SoftImpute] Iter 89: observed MAE=0.256802 rank=69\n",
      "[SoftImpute] Iter 90: observed MAE=0.256694 rank=69\n",
      "[SoftImpute] Iter 91: observed MAE=0.256595 rank=69\n",
      "[SoftImpute] Iter 92: observed MAE=0.256473 rank=68\n",
      "[SoftImpute] Iter 93: observed MAE=0.256337 rank=67\n",
      "[SoftImpute] Iter 94: observed MAE=0.256198 rank=66\n",
      "[SoftImpute] Iter 95: observed MAE=0.256061 rank=66\n",
      "[SoftImpute] Iter 96: observed MAE=0.255945 rank=66\n",
      "[SoftImpute] Iter 97: observed MAE=0.255835 rank=65\n",
      "[SoftImpute] Iter 98: observed MAE=0.255705 rank=65\n",
      "[SoftImpute] Iter 99: observed MAE=0.255595 rank=65\n",
      "[SoftImpute] Iter 100: observed MAE=0.255494 rank=65\n",
      "[SoftImpute] Stopped after iteration 100 for lambda=7.278773\n",
      "✅ Saved imputed file to: imputed_softimpute\\adata_softimpute_imputed_mf10_run6.h5ad\n",
      "\n",
      "Processing dropout_h5ad\\adata_dropout_mf10_run7.h5ad ...\n",
      "Selected 200 HVGs out of 2000 genes\n"
     ]
    },
    {
     "name": "stderr",
     "output_type": "stream",
     "text": [
      "c:\\Users\\prath\\anaconda-new\\Lib\\site-packages\\anndata\\_core\\anndata.py:1791: UserWarning: Observation names are not unique. To make them unique, call `.obs_names_make_unique`.\n",
      "  utils.warn_names_duplicates(\"obs\")\n",
      "c:\\Users\\prath\\anaconda-new\\Lib\\site-packages\\anndata\\_core\\anndata.py:1793: UserWarning: Variable names are not unique. To make them unique, call `.var_names_make_unique`.\n",
      "  utils.warn_names_duplicates(\"var\")\n"
     ]
    },
    {
     "name": "stdout",
     "output_type": "stream",
     "text": [
      "Running SoftImpute on HVGs matrix (14746, 200) ...\n",
      "[SoftImpute] Max Singular Value of X_init = 364.581360\n"
     ]
    },
    {
     "name": "stderr",
     "output_type": "stream",
     "text": [
      "c:\\Users\\prath\\anaconda-new\\Lib\\site-packages\\sklearn\\utils\\deprecation.py:132: FutureWarning: 'force_all_finite' was renamed to 'ensure_all_finite' in 1.6 and will be removed in 1.8.\n",
      "  warnings.warn(\n",
      "c:\\Users\\prath\\anaconda-new\\Lib\\site-packages\\sklearn\\utils\\deprecation.py:132: FutureWarning: 'force_all_finite' was renamed to 'ensure_all_finite' in 1.6 and will be removed in 1.8.\n",
      "  warnings.warn(\n",
      "c:\\Users\\prath\\anaconda-new\\Lib\\site-packages\\sklearn\\utils\\deprecation.py:132: FutureWarning: 'force_all_finite' was renamed to 'ensure_all_finite' in 1.6 and will be removed in 1.8.\n",
      "  warnings.warn(\n"
     ]
    },
    {
     "name": "stdout",
     "output_type": "stream",
     "text": [
      "[SoftImpute] Iter 1: observed MAE=0.290060 rank=149\n",
      "[SoftImpute] Iter 2: observed MAE=0.290798 rank=147\n",
      "[SoftImpute] Iter 3: observed MAE=0.291406 rank=145\n",
      "[SoftImpute] Iter 4: observed MAE=0.291929 rank=142\n",
      "[SoftImpute] Iter 5: observed MAE=0.292414 rank=139\n",
      "[SoftImpute] Iter 6: observed MAE=0.292852 rank=136\n",
      "[SoftImpute] Iter 7: observed MAE=0.293183 rank=134\n",
      "[SoftImpute] Iter 8: observed MAE=0.293605 rank=133\n",
      "[SoftImpute] Iter 9: observed MAE=0.293925 rank=131\n",
      "[SoftImpute] Iter 10: observed MAE=0.294195 rank=129\n",
      "[SoftImpute] Iter 11: observed MAE=0.294418 rank=127\n",
      "[SoftImpute] Iter 12: observed MAE=0.294529 rank=125\n",
      "[SoftImpute] Iter 13: observed MAE=0.294602 rank=124\n",
      "[SoftImpute] Iter 14: observed MAE=0.294603 rank=121\n",
      "[SoftImpute] Iter 15: observed MAE=0.294453 rank=119\n",
      "[SoftImpute] Iter 16: observed MAE=0.294222 rank=116\n",
      "[SoftImpute] Iter 17: observed MAE=0.294001 rank=116\n",
      "[SoftImpute] Iter 18: observed MAE=0.293814 rank=114\n",
      "[SoftImpute] Iter 19: observed MAE=0.293591 rank=112\n",
      "[SoftImpute] Iter 20: observed MAE=0.293339 rank=111\n",
      "[SoftImpute] Iter 21: observed MAE=0.293050 rank=110\n",
      "[SoftImpute] Iter 22: observed MAE=0.292736 rank=108\n",
      "[SoftImpute] Iter 23: observed MAE=0.292387 rank=107\n",
      "[SoftImpute] Iter 24: observed MAE=0.291969 rank=105\n",
      "[SoftImpute] Iter 25: observed MAE=0.291670 rank=104\n",
      "[SoftImpute] Iter 26: observed MAE=0.291324 rank=103\n",
      "[SoftImpute] Iter 27: observed MAE=0.291056 rank=102\n",
      "[SoftImpute] Iter 28: observed MAE=0.290809 rank=101\n",
      "[SoftImpute] Iter 29: observed MAE=0.290529 rank=100\n",
      "[SoftImpute] Iter 30: observed MAE=0.290220 rank=99\n",
      "[SoftImpute] Iter 31: observed MAE=0.289972 rank=98\n",
      "[SoftImpute] Iter 32: observed MAE=0.289723 rank=97\n",
      "[SoftImpute] Iter 33: observed MAE=0.289420 rank=95\n",
      "[SoftImpute] Iter 34: observed MAE=0.289162 rank=95\n",
      "[SoftImpute] Iter 35: observed MAE=0.288920 rank=94\n",
      "[SoftImpute] Iter 36: observed MAE=0.288698 rank=93\n",
      "[SoftImpute] Iter 37: observed MAE=0.288495 rank=93\n",
      "[SoftImpute] Iter 38: observed MAE=0.288291 rank=92\n",
      "[SoftImpute] Iter 39: observed MAE=0.288116 rank=92\n",
      "[SoftImpute] Iter 40: observed MAE=0.287889 rank=90\n",
      "[SoftImpute] Iter 41: observed MAE=0.287674 rank=90\n",
      "[SoftImpute] Iter 42: observed MAE=0.287495 rank=89\n",
      "[SoftImpute] Iter 43: observed MAE=0.287307 rank=89\n",
      "[SoftImpute] Iter 44: observed MAE=0.287090 rank=88\n",
      "[SoftImpute] Iter 45: observed MAE=0.286892 rank=87\n",
      "[SoftImpute] Iter 46: observed MAE=0.286697 rank=86\n",
      "[SoftImpute] Iter 47: observed MAE=0.286505 rank=86\n",
      "[SoftImpute] Iter 48: observed MAE=0.286265 rank=84\n",
      "[SoftImpute] Iter 49: observed MAE=0.286016 rank=83\n",
      "[SoftImpute] Iter 50: observed MAE=0.285806 rank=83\n",
      "[SoftImpute] Iter 51: observed MAE=0.285599 rank=82\n",
      "[SoftImpute] Iter 52: observed MAE=0.285442 rank=82\n",
      "[SoftImpute] Iter 53: observed MAE=0.285259 rank=81\n",
      "[SoftImpute] Iter 54: observed MAE=0.285098 rank=81\n",
      "[SoftImpute] Iter 55: observed MAE=0.284964 rank=81\n",
      "[SoftImpute] Iter 56: observed MAE=0.284832 rank=80\n",
      "[SoftImpute] Iter 57: observed MAE=0.284674 rank=80\n",
      "[SoftImpute] Iter 58: observed MAE=0.284532 rank=79\n",
      "[SoftImpute] Iter 59: observed MAE=0.284369 rank=79\n",
      "[SoftImpute] Iter 60: observed MAE=0.284202 rank=78\n",
      "[SoftImpute] Iter 61: observed MAE=0.284044 rank=78\n",
      "[SoftImpute] Iter 62: observed MAE=0.283912 rank=78\n",
      "[SoftImpute] Iter 63: observed MAE=0.283751 rank=77\n",
      "[SoftImpute] Iter 64: observed MAE=0.283593 rank=76\n",
      "[SoftImpute] Iter 65: observed MAE=0.283434 rank=76\n",
      "[SoftImpute] Iter 66: observed MAE=0.283270 rank=75\n",
      "[SoftImpute] Iter 67: observed MAE=0.283118 rank=75\n",
      "[SoftImpute] Iter 68: observed MAE=0.282993 rank=75\n",
      "[SoftImpute] Iter 69: observed MAE=0.282880 rank=75\n",
      "[SoftImpute] Iter 70: observed MAE=0.282758 rank=74\n",
      "[SoftImpute] Iter 71: observed MAE=0.282615 rank=74\n",
      "[SoftImpute] Iter 72: observed MAE=0.282496 rank=74\n",
      "[SoftImpute] Iter 73: observed MAE=0.282386 rank=73\n",
      "[SoftImpute] Iter 74: observed MAE=0.282246 rank=73\n",
      "[SoftImpute] Iter 75: observed MAE=0.282099 rank=72\n",
      "[SoftImpute] Iter 76: observed MAE=0.281975 rank=72\n",
      "[SoftImpute] Iter 77: observed MAE=0.281864 rank=72\n",
      "[SoftImpute] Iter 78: observed MAE=0.281709 rank=71\n",
      "[SoftImpute] Iter 79: observed MAE=0.281588 rank=71\n",
      "[SoftImpute] Iter 80: observed MAE=0.281479 rank=71\n",
      "[SoftImpute] Iter 81: observed MAE=0.281377 rank=71\n",
      "[SoftImpute] Iter 82: observed MAE=0.281278 rank=71\n",
      "[SoftImpute] Iter 83: observed MAE=0.281159 rank=70\n",
      "[SoftImpute] Iter 84: observed MAE=0.281011 rank=69\n",
      "[SoftImpute] Iter 85: observed MAE=0.280857 rank=68\n",
      "[SoftImpute] Iter 86: observed MAE=0.280718 rank=68\n",
      "[SoftImpute] Iter 87: observed MAE=0.280602 rank=68\n",
      "[SoftImpute] Iter 88: observed MAE=0.280498 rank=68\n",
      "[SoftImpute] Iter 89: observed MAE=0.280399 rank=68\n",
      "[SoftImpute] Iter 90: observed MAE=0.280306 rank=68\n",
      "[SoftImpute] Iter 91: observed MAE=0.280196 rank=67\n",
      "[SoftImpute] Iter 92: observed MAE=0.280093 rank=67\n",
      "[SoftImpute] Iter 93: observed MAE=0.279985 rank=66\n",
      "[SoftImpute] Iter 94: observed MAE=0.279858 rank=66\n",
      "[SoftImpute] Iter 95: observed MAE=0.279753 rank=66\n",
      "[SoftImpute] Iter 96: observed MAE=0.279626 rank=65\n",
      "[SoftImpute] Iter 97: observed MAE=0.279506 rank=65\n",
      "[SoftImpute] Iter 98: observed MAE=0.279403 rank=65\n",
      "[SoftImpute] Iter 99: observed MAE=0.279281 rank=64\n",
      "[SoftImpute] Iter 100: observed MAE=0.279167 rank=64\n",
      "[SoftImpute] Stopped after iteration 100 for lambda=7.291627\n",
      "✅ Saved imputed file to: imputed_softimpute\\adata_softimpute_imputed_mf10_run7.h5ad\n",
      "\n",
      "Processing dropout_h5ad\\adata_dropout_mf10_run8.h5ad ...\n",
      "Selected 200 HVGs out of 2000 genes\n"
     ]
    },
    {
     "name": "stderr",
     "output_type": "stream",
     "text": [
      "c:\\Users\\prath\\anaconda-new\\Lib\\site-packages\\anndata\\_core\\anndata.py:1791: UserWarning: Observation names are not unique. To make them unique, call `.obs_names_make_unique`.\n",
      "  utils.warn_names_duplicates(\"obs\")\n",
      "c:\\Users\\prath\\anaconda-new\\Lib\\site-packages\\anndata\\_core\\anndata.py:1793: UserWarning: Variable names are not unique. To make them unique, call `.var_names_make_unique`.\n",
      "  utils.warn_names_duplicates(\"var\")\n",
      "c:\\Users\\prath\\anaconda-new\\Lib\\site-packages\\sklearn\\utils\\deprecation.py:132: FutureWarning: 'force_all_finite' was renamed to 'ensure_all_finite' in 1.6 and will be removed in 1.8.\n",
      "  warnings.warn(\n",
      "c:\\Users\\prath\\anaconda-new\\Lib\\site-packages\\sklearn\\utils\\deprecation.py:132: FutureWarning: 'force_all_finite' was renamed to 'ensure_all_finite' in 1.6 and will be removed in 1.8.\n",
      "  warnings.warn(\n",
      "c:\\Users\\prath\\anaconda-new\\Lib\\site-packages\\sklearn\\utils\\deprecation.py:132: FutureWarning: 'force_all_finite' was renamed to 'ensure_all_finite' in 1.6 and will be removed in 1.8.\n",
      "  warnings.warn(\n"
     ]
    },
    {
     "name": "stdout",
     "output_type": "stream",
     "text": [
      "Running SoftImpute on HVGs matrix (14746, 200) ...\n",
      "[SoftImpute] Max Singular Value of X_init = 360.744141\n",
      "[SoftImpute] Iter 1: observed MAE=0.265596 rank=157\n",
      "[SoftImpute] Iter 2: observed MAE=0.266199 rank=152\n",
      "[SoftImpute] Iter 3: observed MAE=0.266603 rank=151\n",
      "[SoftImpute] Iter 4: observed MAE=0.267018 rank=147\n",
      "[SoftImpute] Iter 5: observed MAE=0.267353 rank=144\n",
      "[SoftImpute] Iter 6: observed MAE=0.267686 rank=140\n",
      "[SoftImpute] Iter 7: observed MAE=0.267967 rank=137\n",
      "[SoftImpute] Iter 8: observed MAE=0.268280 rank=135\n",
      "[SoftImpute] Iter 9: observed MAE=0.268651 rank=133\n",
      "[SoftImpute] Iter 10: observed MAE=0.268947 rank=131\n",
      "[SoftImpute] Iter 11: observed MAE=0.269160 rank=130\n",
      "[SoftImpute] Iter 12: observed MAE=0.269297 rank=129\n",
      "[SoftImpute] Iter 13: observed MAE=0.269227 rank=126\n",
      "[SoftImpute] Iter 14: observed MAE=0.269123 rank=124\n",
      "[SoftImpute] Iter 15: observed MAE=0.268909 rank=121\n",
      "[SoftImpute] Iter 16: observed MAE=0.268692 rank=120\n",
      "[SoftImpute] Iter 17: observed MAE=0.268498 rank=118\n",
      "[SoftImpute] Iter 18: observed MAE=0.268260 rank=117\n",
      "[SoftImpute] Iter 19: observed MAE=0.267987 rank=115\n",
      "[SoftImpute] Iter 20: observed MAE=0.267644 rank=113\n",
      "[SoftImpute] Iter 21: observed MAE=0.267212 rank=111\n",
      "[SoftImpute] Iter 22: observed MAE=0.266800 rank=110\n",
      "[SoftImpute] Iter 23: observed MAE=0.266491 rank=109\n",
      "[SoftImpute] Iter 24: observed MAE=0.266169 rank=108\n",
      "[SoftImpute] Iter 25: observed MAE=0.265926 rank=107\n",
      "[SoftImpute] Iter 26: observed MAE=0.265656 rank=106\n",
      "[SoftImpute] Iter 27: observed MAE=0.265393 rank=104\n",
      "[SoftImpute] Iter 28: observed MAE=0.265146 rank=104\n",
      "[SoftImpute] Iter 29: observed MAE=0.264959 rank=103\n",
      "[SoftImpute] Iter 30: observed MAE=0.264702 rank=102\n",
      "[SoftImpute] Iter 31: observed MAE=0.264457 rank=101\n",
      "[SoftImpute] Iter 32: observed MAE=0.264210 rank=99\n",
      "[SoftImpute] Iter 33: observed MAE=0.263890 rank=98\n",
      "[SoftImpute] Iter 34: observed MAE=0.263626 rank=97\n",
      "[SoftImpute] Iter 35: observed MAE=0.263350 rank=96\n",
      "[SoftImpute] Iter 36: observed MAE=0.263159 rank=96\n",
      "[SoftImpute] Iter 37: observed MAE=0.262969 rank=95\n",
      "[SoftImpute] Iter 38: observed MAE=0.262778 rank=95\n",
      "[SoftImpute] Iter 39: observed MAE=0.262555 rank=93\n",
      "[SoftImpute] Iter 40: observed MAE=0.262286 rank=92\n",
      "[SoftImpute] Iter 41: observed MAE=0.262081 rank=92\n",
      "[SoftImpute] Iter 42: observed MAE=0.261839 rank=90\n",
      "[SoftImpute] Iter 43: observed MAE=0.261632 rank=90\n",
      "[SoftImpute] Iter 44: observed MAE=0.261455 rank=89\n",
      "[SoftImpute] Iter 45: observed MAE=0.261272 rank=89\n",
      "[SoftImpute] Iter 46: observed MAE=0.261123 rank=89\n",
      "[SoftImpute] Iter 47: observed MAE=0.260924 rank=87\n",
      "[SoftImpute] Iter 48: observed MAE=0.260724 rank=87\n",
      "[SoftImpute] Iter 49: observed MAE=0.260571 rank=87\n",
      "[SoftImpute] Iter 50: observed MAE=0.260410 rank=86\n",
      "[SoftImpute] Iter 51: observed MAE=0.260194 rank=85\n",
      "[SoftImpute] Iter 52: observed MAE=0.259965 rank=84\n",
      "[SoftImpute] Iter 53: observed MAE=0.259743 rank=83\n",
      "[SoftImpute] Iter 54: observed MAE=0.259523 rank=82\n",
      "[SoftImpute] Iter 55: observed MAE=0.259356 rank=82\n",
      "[SoftImpute] Iter 56: observed MAE=0.259218 rank=82\n",
      "[SoftImpute] Iter 57: observed MAE=0.259077 rank=81\n",
      "[SoftImpute] Iter 58: observed MAE=0.258878 rank=80\n",
      "[SoftImpute] Iter 59: observed MAE=0.258719 rank=79\n",
      "[SoftImpute] Iter 60: observed MAE=0.258546 rank=78\n",
      "[SoftImpute] Iter 61: observed MAE=0.258360 rank=78\n",
      "[SoftImpute] Iter 62: observed MAE=0.258223 rank=78\n",
      "[SoftImpute] Iter 63: observed MAE=0.258076 rank=77\n",
      "[SoftImpute] Iter 64: observed MAE=0.257928 rank=77\n",
      "[SoftImpute] Iter 65: observed MAE=0.257808 rank=77\n",
      "[SoftImpute] Iter 66: observed MAE=0.257669 rank=76\n",
      "[SoftImpute] Iter 67: observed MAE=0.257530 rank=76\n",
      "[SoftImpute] Iter 68: observed MAE=0.257414 rank=76\n",
      "[SoftImpute] Iter 69: observed MAE=0.257308 rank=76\n",
      "[SoftImpute] Iter 70: observed MAE=0.257203 rank=75\n",
      "[SoftImpute] Iter 71: observed MAE=0.257056 rank=75\n",
      "[SoftImpute] Iter 72: observed MAE=0.256940 rank=75\n",
      "[SoftImpute] Iter 73: observed MAE=0.256802 rank=74\n",
      "[SoftImpute] Iter 74: observed MAE=0.256686 rank=74\n",
      "[SoftImpute] Iter 75: observed MAE=0.256582 rank=74\n",
      "[SoftImpute] Iter 76: observed MAE=0.256474 rank=73\n",
      "[SoftImpute] Iter 77: observed MAE=0.256341 rank=73\n",
      "[SoftImpute] Iter 78: observed MAE=0.256226 rank=72\n",
      "[SoftImpute] Iter 79: observed MAE=0.256099 rank=72\n",
      "[SoftImpute] Iter 80: observed MAE=0.255972 rank=71\n",
      "[SoftImpute] Iter 81: observed MAE=0.255814 rank=70\n",
      "[SoftImpute] Iter 82: observed MAE=0.255681 rank=70\n",
      "[SoftImpute] Iter 83: observed MAE=0.255568 rank=70\n",
      "[SoftImpute] Iter 84: observed MAE=0.255465 rank=70\n",
      "[SoftImpute] Iter 85: observed MAE=0.255367 rank=70\n",
      "[SoftImpute] Iter 86: observed MAE=0.255244 rank=69\n",
      "[SoftImpute] Iter 87: observed MAE=0.255127 rank=69\n",
      "[SoftImpute] Iter 88: observed MAE=0.255026 rank=69\n",
      "[SoftImpute] Iter 89: observed MAE=0.254907 rank=68\n",
      "[SoftImpute] Iter 90: observed MAE=0.254792 rank=68\n",
      "[SoftImpute] Iter 91: observed MAE=0.254693 rank=68\n",
      "[SoftImpute] Iter 92: observed MAE=0.254575 rank=67\n",
      "[SoftImpute] Iter 93: observed MAE=0.254437 rank=66\n",
      "[SoftImpute] Iter 94: observed MAE=0.254295 rank=66\n",
      "[SoftImpute] Iter 95: observed MAE=0.254184 rank=66\n",
      "[SoftImpute] Iter 96: observed MAE=0.254086 rank=66\n",
      "[SoftImpute] Iter 97: observed MAE=0.253994 rank=66\n",
      "[SoftImpute] Iter 98: observed MAE=0.253891 rank=65\n",
      "[SoftImpute] Iter 99: observed MAE=0.253784 rank=65\n",
      "[SoftImpute] Iter 100: observed MAE=0.253693 rank=65\n",
      "[SoftImpute] Stopped after iteration 100 for lambda=7.214883\n",
      "✅ Saved imputed file to: imputed_softimpute\\adata_softimpute_imputed_mf10_run8.h5ad\n",
      "\n",
      "Processing dropout_h5ad\\adata_dropout_mf10_run9.h5ad ...\n"
     ]
    },
    {
     "name": "stderr",
     "output_type": "stream",
     "text": [
      "c:\\Users\\prath\\anaconda-new\\Lib\\site-packages\\anndata\\_core\\anndata.py:1791: UserWarning: Observation names are not unique. To make them unique, call `.obs_names_make_unique`.\n",
      "  utils.warn_names_duplicates(\"obs\")\n",
      "c:\\Users\\prath\\anaconda-new\\Lib\\site-packages\\anndata\\_core\\anndata.py:1793: UserWarning: Variable names are not unique. To make them unique, call `.var_names_make_unique`.\n",
      "  utils.warn_names_duplicates(\"var\")\n",
      "c:\\Users\\prath\\anaconda-new\\Lib\\site-packages\\sklearn\\utils\\deprecation.py:132: FutureWarning: 'force_all_finite' was renamed to 'ensure_all_finite' in 1.6 and will be removed in 1.8.\n",
      "  warnings.warn(\n",
      "c:\\Users\\prath\\anaconda-new\\Lib\\site-packages\\sklearn\\utils\\deprecation.py:132: FutureWarning: 'force_all_finite' was renamed to 'ensure_all_finite' in 1.6 and will be removed in 1.8.\n",
      "  warnings.warn(\n",
      "c:\\Users\\prath\\anaconda-new\\Lib\\site-packages\\sklearn\\utils\\deprecation.py:132: FutureWarning: 'force_all_finite' was renamed to 'ensure_all_finite' in 1.6 and will be removed in 1.8.\n",
      "  warnings.warn(\n"
     ]
    },
    {
     "name": "stdout",
     "output_type": "stream",
     "text": [
      "Selected 200 HVGs out of 2000 genes\n",
      "Running SoftImpute on HVGs matrix (14746, 200) ...\n",
      "[SoftImpute] Max Singular Value of X_init = 360.715790\n",
      "[SoftImpute] Iter 1: observed MAE=0.269868 rank=157\n",
      "[SoftImpute] Iter 2: observed MAE=0.270429 rank=152\n",
      "[SoftImpute] Iter 3: observed MAE=0.270926 rank=151\n",
      "[SoftImpute] Iter 4: observed MAE=0.271265 rank=147\n",
      "[SoftImpute] Iter 5: observed MAE=0.271584 rank=143\n",
      "[SoftImpute] Iter 6: observed MAE=0.271816 rank=141\n",
      "[SoftImpute] Iter 7: observed MAE=0.272086 rank=137\n",
      "[SoftImpute] Iter 8: observed MAE=0.272385 rank=136\n",
      "[SoftImpute] Iter 9: observed MAE=0.272639 rank=134\n",
      "[SoftImpute] Iter 10: observed MAE=0.272885 rank=133\n",
      "[SoftImpute] Iter 11: observed MAE=0.273074 rank=131\n",
      "[SoftImpute] Iter 12: observed MAE=0.273135 rank=130\n",
      "[SoftImpute] Iter 13: observed MAE=0.273152 rank=127\n",
      "[SoftImpute] Iter 14: observed MAE=0.273052 rank=125\n",
      "[SoftImpute] Iter 15: observed MAE=0.272950 rank=124\n",
      "[SoftImpute] Iter 16: observed MAE=0.272766 rank=122\n",
      "[SoftImpute] Iter 17: observed MAE=0.272586 rank=120\n",
      "[SoftImpute] Iter 18: observed MAE=0.272326 rank=118\n",
      "[SoftImpute] Iter 19: observed MAE=0.272075 rank=117\n",
      "[SoftImpute] Iter 20: observed MAE=0.271755 rank=115\n",
      "[SoftImpute] Iter 21: observed MAE=0.271339 rank=113\n",
      "[SoftImpute] Iter 22: observed MAE=0.270948 rank=111\n",
      "[SoftImpute] Iter 23: observed MAE=0.270565 rank=109\n",
      "[SoftImpute] Iter 24: observed MAE=0.270299 rank=109\n",
      "[SoftImpute] Iter 25: observed MAE=0.270053 rank=108\n",
      "[SoftImpute] Iter 26: observed MAE=0.269836 rank=106\n",
      "[SoftImpute] Iter 27: observed MAE=0.269535 rank=105\n",
      "[SoftImpute] Iter 28: observed MAE=0.269282 rank=105\n",
      "[SoftImpute] Iter 29: observed MAE=0.268970 rank=102\n",
      "[SoftImpute] Iter 30: observed MAE=0.268654 rank=101\n",
      "[SoftImpute] Iter 31: observed MAE=0.268417 rank=101\n",
      "[SoftImpute] Iter 32: observed MAE=0.268116 rank=99\n",
      "[SoftImpute] Iter 33: observed MAE=0.267898 rank=98\n",
      "[SoftImpute] Iter 34: observed MAE=0.267573 rank=96\n",
      "[SoftImpute] Iter 35: observed MAE=0.267340 rank=96\n",
      "[SoftImpute] Iter 36: observed MAE=0.267164 rank=96\n",
      "[SoftImpute] Iter 37: observed MAE=0.266964 rank=95\n",
      "[SoftImpute] Iter 38: observed MAE=0.266794 rank=95\n",
      "[SoftImpute] Iter 39: observed MAE=0.266568 rank=93\n",
      "[SoftImpute] Iter 40: observed MAE=0.266323 rank=92\n",
      "[SoftImpute] Iter 41: observed MAE=0.266073 rank=91\n",
      "[SoftImpute] Iter 42: observed MAE=0.265849 rank=91\n",
      "[SoftImpute] Iter 43: observed MAE=0.265652 rank=90\n",
      "[SoftImpute] Iter 44: observed MAE=0.265486 rank=90\n",
      "[SoftImpute] Iter 45: observed MAE=0.265307 rank=89\n",
      "[SoftImpute] Iter 46: observed MAE=0.265059 rank=87\n",
      "[SoftImpute] Iter 47: observed MAE=0.264824 rank=86\n",
      "[SoftImpute] Iter 48: observed MAE=0.264614 rank=86\n",
      "[SoftImpute] Iter 49: observed MAE=0.264405 rank=85\n",
      "[SoftImpute] Iter 50: observed MAE=0.264189 rank=84\n",
      "[SoftImpute] Iter 51: observed MAE=0.264017 rank=83\n",
      "[SoftImpute] Iter 52: observed MAE=0.263808 rank=83\n",
      "[SoftImpute] Iter 53: observed MAE=0.263615 rank=82\n",
      "[SoftImpute] Iter 54: observed MAE=0.263448 rank=82\n",
      "[SoftImpute] Iter 55: observed MAE=0.263289 rank=81\n",
      "[SoftImpute] Iter 56: observed MAE=0.263120 rank=80\n",
      "[SoftImpute] Iter 57: observed MAE=0.262944 rank=80\n",
      "[SoftImpute] Iter 58: observed MAE=0.262808 rank=80\n",
      "[SoftImpute] Iter 59: observed MAE=0.262688 rank=80\n",
      "[SoftImpute] Iter 60: observed MAE=0.262576 rank=80\n",
      "[SoftImpute] Iter 61: observed MAE=0.262414 rank=78\n",
      "[SoftImpute] Iter 62: observed MAE=0.262234 rank=78\n",
      "[SoftImpute] Iter 63: observed MAE=0.262073 rank=77\n",
      "[SoftImpute] Iter 64: observed MAE=0.261917 rank=76\n",
      "[SoftImpute] Iter 65: observed MAE=0.261749 rank=76\n",
      "[SoftImpute] Iter 66: observed MAE=0.261617 rank=76\n",
      "[SoftImpute] Iter 67: observed MAE=0.261500 rank=76\n",
      "[SoftImpute] Iter 68: observed MAE=0.261391 rank=76\n",
      "[SoftImpute] Iter 69: observed MAE=0.261255 rank=75\n",
      "[SoftImpute] Iter 70: observed MAE=0.261123 rank=75\n",
      "[SoftImpute] Iter 71: observed MAE=0.260962 rank=74\n",
      "[SoftImpute] Iter 72: observed MAE=0.260796 rank=73\n",
      "[SoftImpute] Iter 73: observed MAE=0.260651 rank=73\n",
      "[SoftImpute] Iter 74: observed MAE=0.260512 rank=72\n",
      "[SoftImpute] Iter 75: observed MAE=0.260359 rank=71\n",
      "[SoftImpute] Iter 76: observed MAE=0.260200 rank=70\n",
      "[SoftImpute] Iter 77: observed MAE=0.260034 rank=70\n",
      "[SoftImpute] Iter 78: observed MAE=0.259905 rank=70\n",
      "[SoftImpute] Iter 79: observed MAE=0.259792 rank=70\n",
      "[SoftImpute] Iter 80: observed MAE=0.259686 rank=70\n",
      "[SoftImpute] Iter 81: observed MAE=0.259554 rank=69\n",
      "[SoftImpute] Iter 82: observed MAE=0.259444 rank=69\n",
      "[SoftImpute] Iter 83: observed MAE=0.259344 rank=69\n",
      "[SoftImpute] Iter 84: observed MAE=0.259249 rank=69\n",
      "[SoftImpute] Iter 85: observed MAE=0.259156 rank=69\n",
      "[SoftImpute] Iter 86: observed MAE=0.259038 rank=68\n",
      "[SoftImpute] Iter 87: observed MAE=0.258917 rank=67\n",
      "[SoftImpute] Iter 88: observed MAE=0.258782 rank=67\n",
      "[SoftImpute] Iter 89: observed MAE=0.258671 rank=67\n",
      "[SoftImpute] Iter 90: observed MAE=0.258557 rank=66\n",
      "[SoftImpute] Iter 91: observed MAE=0.258424 rank=66\n",
      "[SoftImpute] Iter 92: observed MAE=0.258315 rank=66\n",
      "[SoftImpute] Iter 93: observed MAE=0.258218 rank=66\n",
      "[SoftImpute] Iter 94: observed MAE=0.258125 rank=66\n",
      "[SoftImpute] Iter 95: observed MAE=0.258029 rank=65\n",
      "[SoftImpute] Iter 96: observed MAE=0.257909 rank=65\n",
      "[SoftImpute] Iter 97: observed MAE=0.257808 rank=64\n",
      "[SoftImpute] Iter 98: observed MAE=0.257671 rank=64\n",
      "[SoftImpute] Iter 99: observed MAE=0.257565 rank=64\n",
      "[SoftImpute] Iter 100: observed MAE=0.257463 rank=63\n",
      "[SoftImpute] Stopped after iteration 100 for lambda=7.214316\n",
      "✅ Saved imputed file to: imputed_softimpute\\adata_softimpute_imputed_mf10_run9.h5ad\n",
      "\n",
      "Processing dropout_h5ad\\adata_dropout_mf20_run1.h5ad ...\n",
      "Selected 200 HVGs out of 2000 genes\n"
     ]
    },
    {
     "name": "stderr",
     "output_type": "stream",
     "text": [
      "c:\\Users\\prath\\anaconda-new\\Lib\\site-packages\\anndata\\_core\\anndata.py:1791: UserWarning: Observation names are not unique. To make them unique, call `.obs_names_make_unique`.\n",
      "  utils.warn_names_duplicates(\"obs\")\n",
      "c:\\Users\\prath\\anaconda-new\\Lib\\site-packages\\anndata\\_core\\anndata.py:1793: UserWarning: Variable names are not unique. To make them unique, call `.var_names_make_unique`.\n",
      "  utils.warn_names_duplicates(\"var\")\n",
      "c:\\Users\\prath\\anaconda-new\\Lib\\site-packages\\sklearn\\utils\\deprecation.py:132: FutureWarning: 'force_all_finite' was renamed to 'ensure_all_finite' in 1.6 and will be removed in 1.8.\n",
      "  warnings.warn(\n",
      "c:\\Users\\prath\\anaconda-new\\Lib\\site-packages\\sklearn\\utils\\deprecation.py:132: FutureWarning: 'force_all_finite' was renamed to 'ensure_all_finite' in 1.6 and will be removed in 1.8.\n",
      "  warnings.warn(\n",
      "c:\\Users\\prath\\anaconda-new\\Lib\\site-packages\\sklearn\\utils\\deprecation.py:132: FutureWarning: 'force_all_finite' was renamed to 'ensure_all_finite' in 1.6 and will be removed in 1.8.\n",
      "  warnings.warn(\n"
     ]
    },
    {
     "name": "stdout",
     "output_type": "stream",
     "text": [
      "Running SoftImpute on HVGs matrix (14746, 200) ...\n",
      "[SoftImpute] Max Singular Value of X_init = 327.586487\n",
      "[SoftImpute] Iter 1: observed MAE=0.249884 rank=177\n",
      "[SoftImpute] Iter 2: observed MAE=0.250118 rank=173\n",
      "[SoftImpute] Iter 3: observed MAE=0.250263 rank=172\n",
      "[SoftImpute] Iter 4: observed MAE=0.250326 rank=169\n",
      "[SoftImpute] Iter 5: observed MAE=0.250338 rank=166\n",
      "[SoftImpute] Iter 6: observed MAE=0.250347 rank=162\n",
      "[SoftImpute] Iter 7: observed MAE=0.250330 rank=158\n",
      "[SoftImpute] Iter 8: observed MAE=0.250262 rank=156\n",
      "[SoftImpute] Iter 9: observed MAE=0.250192 rank=153\n",
      "[SoftImpute] Iter 10: observed MAE=0.250145 rank=151\n",
      "[SoftImpute] Iter 11: observed MAE=0.250128 rank=148\n",
      "[SoftImpute] Iter 12: observed MAE=0.250107 rank=145\n",
      "[SoftImpute] Iter 13: observed MAE=0.250036 rank=143\n",
      "[SoftImpute] Iter 14: observed MAE=0.249980 rank=142\n",
      "[SoftImpute] Iter 15: observed MAE=0.249850 rank=139\n",
      "[SoftImpute] Iter 16: observed MAE=0.249725 rank=137\n",
      "[SoftImpute] Iter 17: observed MAE=0.249495 rank=134\n",
      "[SoftImpute] Iter 18: observed MAE=0.249302 rank=131\n",
      "[SoftImpute] Iter 19: observed MAE=0.249023 rank=130\n",
      "[SoftImpute] Iter 20: observed MAE=0.248803 rank=129\n",
      "[SoftImpute] Iter 21: observed MAE=0.248579 rank=127\n",
      "[SoftImpute] Iter 22: observed MAE=0.248355 rank=124\n",
      "[SoftImpute] Iter 23: observed MAE=0.248122 rank=123\n",
      "[SoftImpute] Iter 24: observed MAE=0.247894 rank=122\n",
      "[SoftImpute] Iter 25: observed MAE=0.247688 rank=121\n",
      "[SoftImpute] Iter 26: observed MAE=0.247488 rank=120\n",
      "[SoftImpute] Iter 27: observed MAE=0.247257 rank=118\n",
      "[SoftImpute] Iter 28: observed MAE=0.247021 rank=116\n",
      "[SoftImpute] Iter 29: observed MAE=0.246768 rank=115\n",
      "[SoftImpute] Iter 30: observed MAE=0.246551 rank=114\n",
      "[SoftImpute] Iter 31: observed MAE=0.246349 rank=113\n",
      "[SoftImpute] Iter 32: observed MAE=0.246161 rank=112\n",
      "[SoftImpute] Iter 33: observed MAE=0.245916 rank=110\n",
      "[SoftImpute] Iter 34: observed MAE=0.245656 rank=109\n",
      "[SoftImpute] Iter 35: observed MAE=0.245450 rank=108\n",
      "[SoftImpute] Iter 36: observed MAE=0.245223 rank=107\n",
      "[SoftImpute] Iter 37: observed MAE=0.244947 rank=105\n",
      "[SoftImpute] Iter 38: observed MAE=0.244741 rank=104\n",
      "[SoftImpute] Iter 39: observed MAE=0.244539 rank=104\n",
      "[SoftImpute] Iter 40: observed MAE=0.244357 rank=102\n",
      "[SoftImpute] Iter 41: observed MAE=0.244151 rank=101\n",
      "[SoftImpute] Iter 42: observed MAE=0.243968 rank=101\n",
      "[SoftImpute] Iter 43: observed MAE=0.243774 rank=99\n",
      "[SoftImpute] Iter 44: observed MAE=0.243547 rank=98\n",
      "[SoftImpute] Iter 45: observed MAE=0.243343 rank=97\n",
      "[SoftImpute] Iter 46: observed MAE=0.243163 rank=96\n",
      "[SoftImpute] Iter 47: observed MAE=0.243002 rank=96\n",
      "[SoftImpute] Iter 48: observed MAE=0.242854 rank=95\n",
      "[SoftImpute] Iter 49: observed MAE=0.242728 rank=95\n",
      "[SoftImpute] Iter 50: observed MAE=0.242567 rank=94\n",
      "[SoftImpute] Iter 51: observed MAE=0.242412 rank=93\n",
      "[SoftImpute] Iter 52: observed MAE=0.242254 rank=92\n",
      "[SoftImpute] Iter 53: observed MAE=0.242101 rank=91\n",
      "[SoftImpute] Iter 54: observed MAE=0.241942 rank=91\n",
      "[SoftImpute] Iter 55: observed MAE=0.241784 rank=90\n",
      "[SoftImpute] Iter 56: observed MAE=0.241629 rank=89\n",
      "[SoftImpute] Iter 57: observed MAE=0.241487 rank=89\n",
      "[SoftImpute] Iter 58: observed MAE=0.241350 rank=87\n",
      "[SoftImpute] Iter 59: observed MAE=0.241189 rank=87\n",
      "[SoftImpute] Iter 60: observed MAE=0.241063 rank=87\n",
      "[SoftImpute] Iter 61: observed MAE=0.240918 rank=86\n",
      "[SoftImpute] Iter 62: observed MAE=0.240789 rank=85\n",
      "[SoftImpute] Iter 63: observed MAE=0.240657 rank=85\n",
      "[SoftImpute] Iter 64: observed MAE=0.240521 rank=84\n",
      "[SoftImpute] Iter 65: observed MAE=0.240363 rank=83\n",
      "[SoftImpute] Iter 66: observed MAE=0.240212 rank=82\n",
      "[SoftImpute] Iter 67: observed MAE=0.240073 rank=82\n",
      "[SoftImpute] Iter 68: observed MAE=0.239960 rank=82\n",
      "[SoftImpute] Iter 69: observed MAE=0.239823 rank=81\n",
      "[SoftImpute] Iter 70: observed MAE=0.239706 rank=81\n",
      "[SoftImpute] Iter 71: observed MAE=0.239601 rank=80\n",
      "[SoftImpute] Iter 72: observed MAE=0.239481 rank=80\n",
      "[SoftImpute] Iter 73: observed MAE=0.239380 rank=79\n",
      "[SoftImpute] Iter 74: observed MAE=0.239260 rank=79\n",
      "[SoftImpute] Iter 75: observed MAE=0.239161 rank=79\n",
      "[SoftImpute] Iter 76: observed MAE=0.239045 rank=78\n",
      "[SoftImpute] Iter 77: observed MAE=0.238938 rank=78\n",
      "[SoftImpute] Iter 78: observed MAE=0.238848 rank=78\n",
      "[SoftImpute] Iter 79: observed MAE=0.238747 rank=77\n",
      "[SoftImpute] Iter 80: observed MAE=0.238638 rank=77\n",
      "[SoftImpute] Iter 81: observed MAE=0.238538 rank=76\n",
      "[SoftImpute] Iter 82: observed MAE=0.238423 rank=76\n",
      "[SoftImpute] Iter 83: observed MAE=0.238330 rank=76\n",
      "[SoftImpute] Iter 84: observed MAE=0.238246 rank=76\n",
      "[SoftImpute] Iter 85: observed MAE=0.238167 rank=76\n",
      "[SoftImpute] Iter 86: observed MAE=0.238090 rank=76\n",
      "[SoftImpute] Iter 87: observed MAE=0.237971 rank=74\n",
      "[SoftImpute] Iter 88: observed MAE=0.237845 rank=73\n",
      "[SoftImpute] Iter 89: observed MAE=0.237720 rank=73\n",
      "[SoftImpute] Iter 90: observed MAE=0.237622 rank=73\n",
      "[SoftImpute] Iter 91: observed MAE=0.237538 rank=73\n",
      "[SoftImpute] Iter 92: observed MAE=0.237457 rank=72\n",
      "[SoftImpute] Iter 93: observed MAE=0.237351 rank=72\n",
      "[SoftImpute] Iter 94: observed MAE=0.237261 rank=71\n",
      "[SoftImpute] Iter 95: observed MAE=0.237138 rank=71\n",
      "[SoftImpute] Iter 96: observed MAE=0.237045 rank=71\n",
      "[SoftImpute] Iter 97: observed MAE=0.236965 rank=71\n",
      "[SoftImpute] Iter 98: observed MAE=0.236868 rank=70\n",
      "[SoftImpute] Iter 99: observed MAE=0.236771 rank=70\n",
      "[SoftImpute] Iter 100: observed MAE=0.236655 rank=69\n",
      "[SoftImpute] Stopped after iteration 100 for lambda=6.551730\n",
      "✅ Saved imputed file to: imputed_softimpute\\adata_softimpute_imputed_mf20_run1.h5ad\n",
      "\n",
      "Processing dropout_h5ad\\adata_dropout_mf20_run10.h5ad ...\n"
     ]
    },
    {
     "name": "stderr",
     "output_type": "stream",
     "text": [
      "c:\\Users\\prath\\anaconda-new\\Lib\\site-packages\\anndata\\_core\\anndata.py:1791: UserWarning: Observation names are not unique. To make them unique, call `.obs_names_make_unique`.\n",
      "  utils.warn_names_duplicates(\"obs\")\n",
      "c:\\Users\\prath\\anaconda-new\\Lib\\site-packages\\anndata\\_core\\anndata.py:1793: UserWarning: Variable names are not unique. To make them unique, call `.var_names_make_unique`.\n",
      "  utils.warn_names_duplicates(\"var\")\n",
      "c:\\Users\\prath\\anaconda-new\\Lib\\site-packages\\sklearn\\utils\\deprecation.py:132: FutureWarning: 'force_all_finite' was renamed to 'ensure_all_finite' in 1.6 and will be removed in 1.8.\n",
      "  warnings.warn(\n",
      "c:\\Users\\prath\\anaconda-new\\Lib\\site-packages\\sklearn\\utils\\deprecation.py:132: FutureWarning: 'force_all_finite' was renamed to 'ensure_all_finite' in 1.6 and will be removed in 1.8.\n",
      "  warnings.warn(\n"
     ]
    },
    {
     "name": "stdout",
     "output_type": "stream",
     "text": [
      "Selected 200 HVGs out of 2000 genes\n",
      "Running SoftImpute on HVGs matrix (14746, 200) ...\n"
     ]
    },
    {
     "name": "stderr",
     "output_type": "stream",
     "text": [
      "c:\\Users\\prath\\anaconda-new\\Lib\\site-packages\\sklearn\\utils\\deprecation.py:132: FutureWarning: 'force_all_finite' was renamed to 'ensure_all_finite' in 1.6 and will be removed in 1.8.\n",
      "  warnings.warn(\n"
     ]
    },
    {
     "name": "stdout",
     "output_type": "stream",
     "text": [
      "[SoftImpute] Max Singular Value of X_init = 325.797882\n",
      "[SoftImpute] Iter 1: observed MAE=0.247506 rank=167\n",
      "[SoftImpute] Iter 2: observed MAE=0.247722 rank=165\n",
      "[SoftImpute] Iter 3: observed MAE=0.247809 rank=162\n",
      "[SoftImpute] Iter 4: observed MAE=0.247850 rank=161\n",
      "[SoftImpute] Iter 5: observed MAE=0.247905 rank=158\n",
      "[SoftImpute] Iter 6: observed MAE=0.247939 rank=157\n",
      "[SoftImpute] Iter 7: observed MAE=0.247972 rank=154\n",
      "[SoftImpute] Iter 8: observed MAE=0.247934 rank=151\n",
      "[SoftImpute] Iter 9: observed MAE=0.247849 rank=147\n",
      "[SoftImpute] Iter 10: observed MAE=0.247783 rank=145\n",
      "[SoftImpute] Iter 11: observed MAE=0.247773 rank=143\n",
      "[SoftImpute] Iter 12: observed MAE=0.247791 rank=140\n",
      "[SoftImpute] Iter 13: observed MAE=0.247814 rank=140\n",
      "[SoftImpute] Iter 14: observed MAE=0.247851 rank=138\n",
      "[SoftImpute] Iter 15: observed MAE=0.247859 rank=137\n",
      "[SoftImpute] Iter 16: observed MAE=0.247871 rank=136\n",
      "[SoftImpute] Iter 17: observed MAE=0.247754 rank=133\n",
      "[SoftImpute] Iter 18: observed MAE=0.247599 rank=131\n",
      "[SoftImpute] Iter 19: observed MAE=0.247439 rank=130\n",
      "[SoftImpute] Iter 20: observed MAE=0.247234 rank=127\n",
      "[SoftImpute] Iter 21: observed MAE=0.246986 rank=125\n",
      "[SoftImpute] Iter 22: observed MAE=0.246729 rank=123\n",
      "[SoftImpute] Iter 23: observed MAE=0.246467 rank=121\n",
      "[SoftImpute] Iter 24: observed MAE=0.246282 rank=120\n",
      "[SoftImpute] Iter 25: observed MAE=0.246089 rank=119\n",
      "[SoftImpute] Iter 26: observed MAE=0.245856 rank=117\n",
      "[SoftImpute] Iter 27: observed MAE=0.245667 rank=117\n",
      "[SoftImpute] Iter 28: observed MAE=0.245512 rank=116\n",
      "[SoftImpute] Iter 29: observed MAE=0.245292 rank=114\n",
      "[SoftImpute] Iter 30: observed MAE=0.245115 rank=113\n",
      "[SoftImpute] Iter 31: observed MAE=0.244900 rank=112\n",
      "[SoftImpute] Iter 32: observed MAE=0.244691 rank=110\n",
      "[SoftImpute] Iter 33: observed MAE=0.244497 rank=110\n",
      "[SoftImpute] Iter 34: observed MAE=0.244247 rank=108\n",
      "[SoftImpute] Iter 35: observed MAE=0.244044 rank=107\n",
      "[SoftImpute] Iter 36: observed MAE=0.243841 rank=106\n",
      "[SoftImpute] Iter 37: observed MAE=0.243569 rank=105\n",
      "[SoftImpute] Iter 38: observed MAE=0.243360 rank=104\n",
      "[SoftImpute] Iter 39: observed MAE=0.243211 rank=104\n",
      "[SoftImpute] Iter 40: observed MAE=0.243056 rank=103\n",
      "[SoftImpute] Iter 41: observed MAE=0.242869 rank=101\n",
      "[SoftImpute] Iter 42: observed MAE=0.242688 rank=101\n",
      "[SoftImpute] Iter 43: observed MAE=0.242538 rank=100\n",
      "[SoftImpute] Iter 44: observed MAE=0.242352 rank=99\n",
      "[SoftImpute] Iter 45: observed MAE=0.242187 rank=98\n",
      "[SoftImpute] Iter 46: observed MAE=0.241992 rank=97\n",
      "[SoftImpute] Iter 47: observed MAE=0.241850 rank=97\n",
      "[SoftImpute] Iter 48: observed MAE=0.241680 rank=96\n",
      "[SoftImpute] Iter 49: observed MAE=0.241532 rank=95\n",
      "[SoftImpute] Iter 50: observed MAE=0.241388 rank=95\n",
      "[SoftImpute] Iter 51: observed MAE=0.241257 rank=94\n",
      "[SoftImpute] Iter 52: observed MAE=0.241079 rank=93\n",
      "[SoftImpute] Iter 53: observed MAE=0.240915 rank=92\n",
      "[SoftImpute] Iter 54: observed MAE=0.240761 rank=92\n",
      "[SoftImpute] Iter 55: observed MAE=0.240640 rank=92\n",
      "[SoftImpute] Iter 56: observed MAE=0.240504 rank=91\n",
      "[SoftImpute] Iter 57: observed MAE=0.240355 rank=90\n",
      "[SoftImpute] Iter 58: observed MAE=0.240181 rank=89\n",
      "[SoftImpute] Iter 59: observed MAE=0.240053 rank=89\n",
      "[SoftImpute] Iter 60: observed MAE=0.239914 rank=88\n",
      "[SoftImpute] Iter 61: observed MAE=0.239756 rank=87\n",
      "[SoftImpute] Iter 62: observed MAE=0.239570 rank=86\n",
      "[SoftImpute] Iter 63: observed MAE=0.239439 rank=86\n",
      "[SoftImpute] Iter 64: observed MAE=0.239331 rank=86\n",
      "[SoftImpute] Iter 65: observed MAE=0.239189 rank=85\n",
      "[SoftImpute] Iter 66: observed MAE=0.239080 rank=85\n",
      "[SoftImpute] Iter 67: observed MAE=0.238960 rank=84\n",
      "[SoftImpute] Iter 68: observed MAE=0.238798 rank=82\n",
      "[SoftImpute] Iter 69: observed MAE=0.238634 rank=82\n",
      "[SoftImpute] Iter 70: observed MAE=0.238516 rank=82\n",
      "[SoftImpute] Iter 71: observed MAE=0.238399 rank=81\n",
      "[SoftImpute] Iter 72: observed MAE=0.238275 rank=81\n",
      "[SoftImpute] Iter 73: observed MAE=0.238172 rank=81\n",
      "[SoftImpute] Iter 74: observed MAE=0.238056 rank=80\n",
      "[SoftImpute] Iter 75: observed MAE=0.237931 rank=80\n",
      "[SoftImpute] Iter 76: observed MAE=0.237831 rank=80\n",
      "[SoftImpute] Iter 77: observed MAE=0.237717 rank=79\n",
      "[SoftImpute] Iter 78: observed MAE=0.237618 rank=79\n",
      "[SoftImpute] Iter 79: observed MAE=0.237529 rank=78\n",
      "[SoftImpute] Iter 80: observed MAE=0.237418 rank=78\n",
      "[SoftImpute] Iter 81: observed MAE=0.237326 rank=78\n",
      "[SoftImpute] Iter 82: observed MAE=0.237221 rank=77\n",
      "[SoftImpute] Iter 83: observed MAE=0.237106 rank=77\n",
      "[SoftImpute] Iter 84: observed MAE=0.237013 rank=77\n",
      "[SoftImpute] Iter 85: observed MAE=0.236928 rank=77\n",
      "[SoftImpute] Iter 86: observed MAE=0.236836 rank=76\n",
      "[SoftImpute] Iter 87: observed MAE=0.236728 rank=76\n",
      "[SoftImpute] Iter 88: observed MAE=0.236641 rank=76\n",
      "[SoftImpute] Iter 89: observed MAE=0.236535 rank=75\n",
      "[SoftImpute] Iter 90: observed MAE=0.236432 rank=74\n",
      "[SoftImpute] Iter 91: observed MAE=0.236309 rank=74\n",
      "[SoftImpute] Iter 92: observed MAE=0.236211 rank=74\n",
      "[SoftImpute] Iter 93: observed MAE=0.236095 rank=73\n",
      "[SoftImpute] Iter 94: observed MAE=0.235972 rank=72\n",
      "[SoftImpute] Iter 95: observed MAE=0.235868 rank=72\n",
      "[SoftImpute] Iter 96: observed MAE=0.235776 rank=72\n",
      "[SoftImpute] Iter 97: observed MAE=0.235677 rank=71\n",
      "[SoftImpute] Iter 98: observed MAE=0.235573 rank=71\n",
      "[SoftImpute] Iter 99: observed MAE=0.235482 rank=71\n",
      "[SoftImpute] Iter 100: observed MAE=0.235377 rank=70\n",
      "[SoftImpute] Stopped after iteration 100 for lambda=6.515958\n",
      "✅ Saved imputed file to: imputed_softimpute\\adata_softimpute_imputed_mf20_run10.h5ad\n",
      "\n",
      "Processing dropout_h5ad\\adata_dropout_mf20_run2.h5ad ...\n"
     ]
    },
    {
     "name": "stderr",
     "output_type": "stream",
     "text": [
      "c:\\Users\\prath\\anaconda-new\\Lib\\site-packages\\anndata\\_core\\anndata.py:1791: UserWarning: Observation names are not unique. To make them unique, call `.obs_names_make_unique`.\n",
      "  utils.warn_names_duplicates(\"obs\")\n",
      "c:\\Users\\prath\\anaconda-new\\Lib\\site-packages\\anndata\\_core\\anndata.py:1793: UserWarning: Variable names are not unique. To make them unique, call `.var_names_make_unique`.\n",
      "  utils.warn_names_duplicates(\"var\")\n"
     ]
    },
    {
     "name": "stdout",
     "output_type": "stream",
     "text": [
      "Selected 200 HVGs out of 2000 genes\n",
      "Running SoftImpute on HVGs matrix (14746, 200) ...\n",
      "[SoftImpute] Max Singular Value of X_init = 326.711884\n"
     ]
    },
    {
     "name": "stderr",
     "output_type": "stream",
     "text": [
      "c:\\Users\\prath\\anaconda-new\\Lib\\site-packages\\sklearn\\utils\\deprecation.py:132: FutureWarning: 'force_all_finite' was renamed to 'ensure_all_finite' in 1.6 and will be removed in 1.8.\n",
      "  warnings.warn(\n",
      "c:\\Users\\prath\\anaconda-new\\Lib\\site-packages\\sklearn\\utils\\deprecation.py:132: FutureWarning: 'force_all_finite' was renamed to 'ensure_all_finite' in 1.6 and will be removed in 1.8.\n",
      "  warnings.warn(\n",
      "c:\\Users\\prath\\anaconda-new\\Lib\\site-packages\\sklearn\\utils\\deprecation.py:132: FutureWarning: 'force_all_finite' was renamed to 'ensure_all_finite' in 1.6 and will be removed in 1.8.\n",
      "  warnings.warn(\n"
     ]
    },
    {
     "name": "stdout",
     "output_type": "stream",
     "text": [
      "[SoftImpute] Iter 1: observed MAE=0.249112 rank=172\n",
      "[SoftImpute] Iter 2: observed MAE=0.249354 rank=169\n",
      "[SoftImpute] Iter 3: observed MAE=0.249399 rank=167\n",
      "[SoftImpute] Iter 4: observed MAE=0.249383 rank=164\n",
      "[SoftImpute] Iter 5: observed MAE=0.249362 rank=161\n",
      "[SoftImpute] Iter 6: observed MAE=0.249248 rank=159\n",
      "[SoftImpute] Iter 7: observed MAE=0.249215 rank=158\n",
      "[SoftImpute] Iter 8: observed MAE=0.249236 rank=155\n",
      "[SoftImpute] Iter 9: observed MAE=0.249253 rank=152\n",
      "[SoftImpute] Iter 10: observed MAE=0.249253 rank=150\n",
      "[SoftImpute] Iter 11: observed MAE=0.249286 rank=148\n",
      "[SoftImpute] Iter 12: observed MAE=0.249339 rank=146\n",
      "[SoftImpute] Iter 13: observed MAE=0.249361 rank=144\n",
      "[SoftImpute] Iter 14: observed MAE=0.249331 rank=141\n",
      "[SoftImpute] Iter 15: observed MAE=0.249266 rank=139\n",
      "[SoftImpute] Iter 16: observed MAE=0.249157 rank=136\n",
      "[SoftImpute] Iter 17: observed MAE=0.249000 rank=135\n",
      "[SoftImpute] Iter 18: observed MAE=0.248784 rank=132\n",
      "[SoftImpute] Iter 19: observed MAE=0.248579 rank=131\n",
      "[SoftImpute] Iter 20: observed MAE=0.248415 rank=129\n",
      "[SoftImpute] Iter 21: observed MAE=0.248205 rank=127\n",
      "[SoftImpute] Iter 22: observed MAE=0.247990 rank=126\n",
      "[SoftImpute] Iter 23: observed MAE=0.247743 rank=124\n",
      "[SoftImpute] Iter 24: observed MAE=0.247526 rank=123\n",
      "[SoftImpute] Iter 25: observed MAE=0.247303 rank=121\n",
      "[SoftImpute] Iter 26: observed MAE=0.247072 rank=120\n",
      "[SoftImpute] Iter 27: observed MAE=0.246792 rank=118\n",
      "[SoftImpute] Iter 28: observed MAE=0.246591 rank=117\n",
      "[SoftImpute] Iter 29: observed MAE=0.246374 rank=116\n",
      "[SoftImpute] Iter 30: observed MAE=0.246113 rank=114\n",
      "[SoftImpute] Iter 31: observed MAE=0.245895 rank=114\n",
      "[SoftImpute] Iter 32: observed MAE=0.245655 rank=111\n",
      "[SoftImpute] Iter 33: observed MAE=0.245395 rank=111\n",
      "[SoftImpute] Iter 34: observed MAE=0.245169 rank=109\n",
      "[SoftImpute] Iter 35: observed MAE=0.244890 rank=107\n",
      "[SoftImpute] Iter 36: observed MAE=0.244621 rank=107\n",
      "[SoftImpute] Iter 37: observed MAE=0.244439 rank=106\n",
      "[SoftImpute] Iter 38: observed MAE=0.244213 rank=105\n",
      "[SoftImpute] Iter 39: observed MAE=0.244024 rank=104\n",
      "[SoftImpute] Iter 40: observed MAE=0.243849 rank=103\n",
      "[SoftImpute] Iter 41: observed MAE=0.243674 rank=103\n",
      "[SoftImpute] Iter 42: observed MAE=0.243544 rank=103\n",
      "[SoftImpute] Iter 43: observed MAE=0.243403 rank=101\n",
      "[SoftImpute] Iter 44: observed MAE=0.243208 rank=101\n",
      "[SoftImpute] Iter 45: observed MAE=0.243016 rank=100\n",
      "[SoftImpute] Iter 46: observed MAE=0.242837 rank=99\n",
      "[SoftImpute] Iter 47: observed MAE=0.242707 rank=99\n",
      "[SoftImpute] Iter 48: observed MAE=0.242596 rank=99\n",
      "[SoftImpute] Iter 49: observed MAE=0.242422 rank=97\n",
      "[SoftImpute] Iter 50: observed MAE=0.242272 rank=97\n",
      "[SoftImpute] Iter 51: observed MAE=0.242113 rank=95\n",
      "[SoftImpute] Iter 52: observed MAE=0.241949 rank=95\n",
      "[SoftImpute] Iter 53: observed MAE=0.241772 rank=93\n",
      "[SoftImpute] Iter 54: observed MAE=0.241600 rank=92\n",
      "[SoftImpute] Iter 55: observed MAE=0.241426 rank=92\n",
      "[SoftImpute] Iter 56: observed MAE=0.241300 rank=92\n",
      "[SoftImpute] Iter 57: observed MAE=0.241194 rank=92\n",
      "[SoftImpute] Iter 58: observed MAE=0.241097 rank=92\n",
      "[SoftImpute] Iter 59: observed MAE=0.240968 rank=91\n",
      "[SoftImpute] Iter 60: observed MAE=0.240807 rank=89\n",
      "[SoftImpute] Iter 61: observed MAE=0.240637 rank=89\n",
      "[SoftImpute] Iter 62: observed MAE=0.240512 rank=88\n",
      "[SoftImpute] Iter 63: observed MAE=0.240371 rank=88\n",
      "[SoftImpute] Iter 64: observed MAE=0.240264 rank=88\n",
      "[SoftImpute] Iter 65: observed MAE=0.240154 rank=86\n",
      "[SoftImpute] Iter 66: observed MAE=0.239984 rank=85\n",
      "[SoftImpute] Iter 67: observed MAE=0.239837 rank=85\n",
      "[SoftImpute] Iter 68: observed MAE=0.239684 rank=84\n",
      "[SoftImpute] Iter 69: observed MAE=0.239528 rank=83\n",
      "[SoftImpute] Iter 70: observed MAE=0.239405 rank=83\n",
      "[SoftImpute] Iter 71: observed MAE=0.239303 rank=83\n",
      "[SoftImpute] Iter 72: observed MAE=0.239202 rank=82\n",
      "[SoftImpute] Iter 73: observed MAE=0.239098 rank=82\n",
      "[SoftImpute] Iter 74: observed MAE=0.239007 rank=82\n",
      "[SoftImpute] Iter 75: observed MAE=0.238923 rank=82\n",
      "[SoftImpute] Iter 76: observed MAE=0.238821 rank=81\n",
      "[SoftImpute] Iter 77: observed MAE=0.238695 rank=80\n",
      "[SoftImpute] Iter 78: observed MAE=0.238571 rank=80\n",
      "[SoftImpute] Iter 79: observed MAE=0.238471 rank=80\n",
      "[SoftImpute] Iter 80: observed MAE=0.238382 rank=80\n",
      "[SoftImpute] Iter 81: observed MAE=0.238280 rank=79\n",
      "[SoftImpute] Iter 82: observed MAE=0.238162 rank=78\n",
      "[SoftImpute] Iter 83: observed MAE=0.238044 rank=78\n",
      "[SoftImpute] Iter 84: observed MAE=0.237948 rank=78\n",
      "[SoftImpute] Iter 85: observed MAE=0.237855 rank=77\n",
      "[SoftImpute] Iter 86: observed MAE=0.237714 rank=76\n",
      "[SoftImpute] Iter 87: observed MAE=0.237590 rank=76\n",
      "[SoftImpute] Iter 88: observed MAE=0.237490 rank=76\n",
      "[SoftImpute] Iter 89: observed MAE=0.237382 rank=75\n",
      "[SoftImpute] Iter 90: observed MAE=0.237272 rank=75\n",
      "[SoftImpute] Iter 91: observed MAE=0.237181 rank=75\n",
      "[SoftImpute] Iter 92: observed MAE=0.237099 rank=75\n",
      "[SoftImpute] Iter 93: observed MAE=0.237021 rank=75\n",
      "[SoftImpute] Iter 94: observed MAE=0.236945 rank=75\n",
      "[SoftImpute] Iter 95: observed MAE=0.236865 rank=74\n",
      "[SoftImpute] Iter 96: observed MAE=0.236765 rank=74\n",
      "[SoftImpute] Iter 97: observed MAE=0.236666 rank=73\n",
      "[SoftImpute] Iter 98: observed MAE=0.236562 rank=73\n",
      "[SoftImpute] Iter 99: observed MAE=0.236457 rank=72\n",
      "[SoftImpute] Iter 100: observed MAE=0.236358 rank=72\n",
      "[SoftImpute] Stopped after iteration 100 for lambda=6.534238\n",
      "✅ Saved imputed file to: imputed_softimpute\\adata_softimpute_imputed_mf20_run2.h5ad\n",
      "\n",
      "Processing dropout_h5ad\\adata_dropout_mf20_run3.h5ad ...\n",
      "Selected 200 HVGs out of 2000 genes\n"
     ]
    },
    {
     "name": "stderr",
     "output_type": "stream",
     "text": [
      "c:\\Users\\prath\\anaconda-new\\Lib\\site-packages\\anndata\\_core\\anndata.py:1791: UserWarning: Observation names are not unique. To make them unique, call `.obs_names_make_unique`.\n",
      "  utils.warn_names_duplicates(\"obs\")\n",
      "c:\\Users\\prath\\anaconda-new\\Lib\\site-packages\\anndata\\_core\\anndata.py:1793: UserWarning: Variable names are not unique. To make them unique, call `.var_names_make_unique`.\n",
      "  utils.warn_names_duplicates(\"var\")\n"
     ]
    },
    {
     "name": "stdout",
     "output_type": "stream",
     "text": [
      "Running SoftImpute on HVGs matrix (14746, 200) ...\n",
      "[SoftImpute] Max Singular Value of X_init = 326.609863\n"
     ]
    },
    {
     "name": "stderr",
     "output_type": "stream",
     "text": [
      "c:\\Users\\prath\\anaconda-new\\Lib\\site-packages\\sklearn\\utils\\deprecation.py:132: FutureWarning: 'force_all_finite' was renamed to 'ensure_all_finite' in 1.6 and will be removed in 1.8.\n",
      "  warnings.warn(\n",
      "c:\\Users\\prath\\anaconda-new\\Lib\\site-packages\\sklearn\\utils\\deprecation.py:132: FutureWarning: 'force_all_finite' was renamed to 'ensure_all_finite' in 1.6 and will be removed in 1.8.\n",
      "  warnings.warn(\n",
      "c:\\Users\\prath\\anaconda-new\\Lib\\site-packages\\sklearn\\utils\\deprecation.py:132: FutureWarning: 'force_all_finite' was renamed to 'ensure_all_finite' in 1.6 and will be removed in 1.8.\n",
      "  warnings.warn(\n"
     ]
    },
    {
     "name": "stdout",
     "output_type": "stream",
     "text": [
      "[SoftImpute] Iter 1: observed MAE=0.246502 rank=169\n",
      "[SoftImpute] Iter 2: observed MAE=0.246734 rank=165\n",
      "[SoftImpute] Iter 3: observed MAE=0.246825 rank=164\n",
      "[SoftImpute] Iter 4: observed MAE=0.246926 rank=162\n",
      "[SoftImpute] Iter 5: observed MAE=0.246942 rank=158\n",
      "[SoftImpute] Iter 6: observed MAE=0.246953 rank=155\n",
      "[SoftImpute] Iter 7: observed MAE=0.246986 rank=153\n",
      "[SoftImpute] Iter 8: observed MAE=0.246981 rank=150\n",
      "[SoftImpute] Iter 9: observed MAE=0.247001 rank=149\n",
      "[SoftImpute] Iter 10: observed MAE=0.247007 rank=147\n",
      "[SoftImpute] Iter 11: observed MAE=0.247073 rank=145\n",
      "[SoftImpute] Iter 12: observed MAE=0.247139 rank=143\n",
      "[SoftImpute] Iter 13: observed MAE=0.247180 rank=141\n",
      "[SoftImpute] Iter 14: observed MAE=0.247172 rank=139\n",
      "[SoftImpute] Iter 15: observed MAE=0.247112 rank=137\n",
      "[SoftImpute] Iter 16: observed MAE=0.246977 rank=134\n",
      "[SoftImpute] Iter 17: observed MAE=0.246826 rank=133\n",
      "[SoftImpute] Iter 18: observed MAE=0.246710 rank=131\n",
      "[SoftImpute] Iter 19: observed MAE=0.246546 rank=130\n",
      "[SoftImpute] Iter 20: observed MAE=0.246385 rank=128\n",
      "[SoftImpute] Iter 21: observed MAE=0.246183 rank=126\n",
      "[SoftImpute] Iter 22: observed MAE=0.245948 rank=124\n",
      "[SoftImpute] Iter 23: observed MAE=0.245726 rank=123\n",
      "[SoftImpute] Iter 24: observed MAE=0.245490 rank=121\n",
      "[SoftImpute] Iter 25: observed MAE=0.245323 rank=121\n",
      "[SoftImpute] Iter 26: observed MAE=0.245139 rank=119\n",
      "[SoftImpute] Iter 27: observed MAE=0.244898 rank=118\n",
      "[SoftImpute] Iter 28: observed MAE=0.244703 rank=116\n",
      "[SoftImpute] Iter 29: observed MAE=0.244456 rank=115\n",
      "[SoftImpute] Iter 30: observed MAE=0.244224 rank=112\n",
      "[SoftImpute] Iter 31: observed MAE=0.243943 rank=112\n",
      "[SoftImpute] Iter 32: observed MAE=0.243739 rank=111\n",
      "[SoftImpute] Iter 33: observed MAE=0.243567 rank=110\n",
      "[SoftImpute] Iter 34: observed MAE=0.243364 rank=109\n",
      "[SoftImpute] Iter 35: observed MAE=0.243177 rank=109\n",
      "[SoftImpute] Iter 36: observed MAE=0.242957 rank=107\n",
      "[SoftImpute] Iter 37: observed MAE=0.242719 rank=106\n",
      "[SoftImpute] Iter 38: observed MAE=0.242446 rank=104\n",
      "[SoftImpute] Iter 39: observed MAE=0.242218 rank=104\n",
      "[SoftImpute] Iter 40: observed MAE=0.242056 rank=103\n",
      "[SoftImpute] Iter 41: observed MAE=0.241835 rank=102\n",
      "[SoftImpute] Iter 42: observed MAE=0.241641 rank=101\n",
      "[SoftImpute] Iter 43: observed MAE=0.241441 rank=100\n",
      "[SoftImpute] Iter 44: observed MAE=0.241216 rank=98\n",
      "[SoftImpute] Iter 45: observed MAE=0.241014 rank=98\n",
      "[SoftImpute] Iter 46: observed MAE=0.240851 rank=97\n",
      "[SoftImpute] Iter 47: observed MAE=0.240663 rank=96\n",
      "[SoftImpute] Iter 48: observed MAE=0.240514 rank=96\n",
      "[SoftImpute] Iter 49: observed MAE=0.240379 rank=95\n",
      "[SoftImpute] Iter 50: observed MAE=0.240222 rank=94\n",
      "[SoftImpute] Iter 51: observed MAE=0.240052 rank=93\n",
      "[SoftImpute] Iter 52: observed MAE=0.239869 rank=93\n",
      "[SoftImpute] Iter 53: observed MAE=0.239709 rank=92\n",
      "[SoftImpute] Iter 54: observed MAE=0.239532 rank=91\n",
      "[SoftImpute] Iter 55: observed MAE=0.239374 rank=90\n",
      "[SoftImpute] Iter 56: observed MAE=0.239193 rank=89\n",
      "[SoftImpute] Iter 57: observed MAE=0.239062 rank=89\n",
      "[SoftImpute] Iter 58: observed MAE=0.238953 rank=89\n",
      "[SoftImpute] Iter 59: observed MAE=0.238821 rank=88\n",
      "[SoftImpute] Iter 60: observed MAE=0.238699 rank=88\n",
      "[SoftImpute] Iter 61: observed MAE=0.238571 rank=87\n",
      "[SoftImpute] Iter 62: observed MAE=0.238445 rank=87\n",
      "[SoftImpute] Iter 63: observed MAE=0.238329 rank=86\n",
      "[SoftImpute] Iter 64: observed MAE=0.238180 rank=85\n",
      "[SoftImpute] Iter 65: observed MAE=0.238042 rank=84\n",
      "[SoftImpute] Iter 66: observed MAE=0.237901 rank=84\n",
      "[SoftImpute] Iter 67: observed MAE=0.237781 rank=83\n",
      "[SoftImpute] Iter 68: observed MAE=0.237650 rank=83\n",
      "[SoftImpute] Iter 69: observed MAE=0.237522 rank=82\n",
      "[SoftImpute] Iter 70: observed MAE=0.237391 rank=82\n",
      "[SoftImpute] Iter 71: observed MAE=0.237287 rank=82\n",
      "[SoftImpute] Iter 72: observed MAE=0.237188 rank=81\n",
      "[SoftImpute] Iter 73: observed MAE=0.237053 rank=81\n",
      "[SoftImpute] Iter 74: observed MAE=0.236947 rank=81\n",
      "[SoftImpute] Iter 75: observed MAE=0.236835 rank=80\n",
      "[SoftImpute] Iter 76: observed MAE=0.236715 rank=80\n",
      "[SoftImpute] Iter 77: observed MAE=0.236615 rank=80\n",
      "[SoftImpute] Iter 78: observed MAE=0.236502 rank=79\n",
      "[SoftImpute] Iter 79: observed MAE=0.236369 rank=78\n",
      "[SoftImpute] Iter 80: observed MAE=0.236239 rank=77\n",
      "[SoftImpute] Iter 81: observed MAE=0.236099 rank=77\n",
      "[SoftImpute] Iter 82: observed MAE=0.235962 rank=76\n",
      "[SoftImpute] Iter 83: observed MAE=0.235845 rank=76\n",
      "[SoftImpute] Iter 84: observed MAE=0.235748 rank=76\n",
      "[SoftImpute] Iter 85: observed MAE=0.235646 rank=75\n",
      "[SoftImpute] Iter 86: observed MAE=0.235540 rank=75\n",
      "[SoftImpute] Iter 87: observed MAE=0.235451 rank=75\n",
      "[SoftImpute] Iter 88: observed MAE=0.235364 rank=74\n",
      "[SoftImpute] Iter 89: observed MAE=0.235257 rank=74\n",
      "[SoftImpute] Iter 90: observed MAE=0.235169 rank=74\n",
      "[SoftImpute] Iter 91: observed MAE=0.235089 rank=74\n",
      "[SoftImpute] Iter 92: observed MAE=0.235010 rank=73\n",
      "[SoftImpute] Iter 93: observed MAE=0.234902 rank=73\n",
      "[SoftImpute] Iter 94: observed MAE=0.234816 rank=73\n",
      "[SoftImpute] Iter 95: observed MAE=0.234738 rank=73\n",
      "[SoftImpute] Iter 96: observed MAE=0.234662 rank=73\n",
      "[SoftImpute] Iter 97: observed MAE=0.234573 rank=72\n",
      "[SoftImpute] Iter 98: observed MAE=0.234480 rank=72\n",
      "[SoftImpute] Iter 99: observed MAE=0.234399 rank=72\n",
      "[SoftImpute] Iter 100: observed MAE=0.234313 rank=71\n",
      "[SoftImpute] Stopped after iteration 100 for lambda=6.532197\n",
      "✅ Saved imputed file to: imputed_softimpute\\adata_softimpute_imputed_mf20_run3.h5ad\n",
      "\n",
      "Processing dropout_h5ad\\adata_dropout_mf20_run4.h5ad ...\n",
      "Selected 200 HVGs out of 2000 genes\n"
     ]
    },
    {
     "name": "stderr",
     "output_type": "stream",
     "text": [
      "c:\\Users\\prath\\anaconda-new\\Lib\\site-packages\\anndata\\_core\\anndata.py:1791: UserWarning: Observation names are not unique. To make them unique, call `.obs_names_make_unique`.\n",
      "  utils.warn_names_duplicates(\"obs\")\n",
      "c:\\Users\\prath\\anaconda-new\\Lib\\site-packages\\anndata\\_core\\anndata.py:1793: UserWarning: Variable names are not unique. To make them unique, call `.var_names_make_unique`.\n",
      "  utils.warn_names_duplicates(\"var\")\n",
      "c:\\Users\\prath\\anaconda-new\\Lib\\site-packages\\sklearn\\utils\\deprecation.py:132: FutureWarning: 'force_all_finite' was renamed to 'ensure_all_finite' in 1.6 and will be removed in 1.8.\n",
      "  warnings.warn(\n",
      "c:\\Users\\prath\\anaconda-new\\Lib\\site-packages\\sklearn\\utils\\deprecation.py:132: FutureWarning: 'force_all_finite' was renamed to 'ensure_all_finite' in 1.6 and will be removed in 1.8.\n",
      "  warnings.warn(\n",
      "c:\\Users\\prath\\anaconda-new\\Lib\\site-packages\\sklearn\\utils\\deprecation.py:132: FutureWarning: 'force_all_finite' was renamed to 'ensure_all_finite' in 1.6 and will be removed in 1.8.\n",
      "  warnings.warn(\n"
     ]
    },
    {
     "name": "stdout",
     "output_type": "stream",
     "text": [
      "Running SoftImpute on HVGs matrix (14746, 200) ...\n",
      "[SoftImpute] Max Singular Value of X_init = 326.191650\n",
      "[SoftImpute] Iter 1: observed MAE=0.261341 rank=165\n",
      "[SoftImpute] Iter 2: observed MAE=0.261572 rank=164\n",
      "[SoftImpute] Iter 3: observed MAE=0.261765 rank=163\n",
      "[SoftImpute] Iter 4: observed MAE=0.261901 rank=160\n",
      "[SoftImpute] Iter 5: observed MAE=0.261935 rank=158\n",
      "[SoftImpute] Iter 6: observed MAE=0.261952 rank=154\n",
      "[SoftImpute] Iter 7: observed MAE=0.261813 rank=149\n",
      "[SoftImpute] Iter 8: observed MAE=0.261672 rank=146\n",
      "[SoftImpute] Iter 9: observed MAE=0.261610 rank=143\n",
      "[SoftImpute] Iter 10: observed MAE=0.261614 rank=141\n",
      "[SoftImpute] Iter 11: observed MAE=0.261601 rank=139\n",
      "[SoftImpute] Iter 12: observed MAE=0.261616 rank=138\n",
      "[SoftImpute] Iter 13: observed MAE=0.261639 rank=136\n",
      "[SoftImpute] Iter 14: observed MAE=0.261651 rank=135\n",
      "[SoftImpute] Iter 15: observed MAE=0.261616 rank=133\n",
      "[SoftImpute] Iter 16: observed MAE=0.261443 rank=131\n",
      "[SoftImpute] Iter 17: observed MAE=0.261298 rank=129\n",
      "[SoftImpute] Iter 18: observed MAE=0.261138 rank=128\n",
      "[SoftImpute] Iter 19: observed MAE=0.261007 rank=127\n",
      "[SoftImpute] Iter 20: observed MAE=0.260815 rank=125\n",
      "[SoftImpute] Iter 21: observed MAE=0.260577 rank=122\n",
      "[SoftImpute] Iter 22: observed MAE=0.260352 rank=121\n",
      "[SoftImpute] Iter 23: observed MAE=0.260147 rank=119\n",
      "[SoftImpute] Iter 24: observed MAE=0.259909 rank=118\n",
      "[SoftImpute] Iter 25: observed MAE=0.259712 rank=116\n",
      "[SoftImpute] Iter 26: observed MAE=0.259501 rank=116\n",
      "[SoftImpute] Iter 27: observed MAE=0.259282 rank=114\n",
      "[SoftImpute] Iter 28: observed MAE=0.259039 rank=113\n",
      "[SoftImpute] Iter 29: observed MAE=0.258831 rank=112\n",
      "[SoftImpute] Iter 30: observed MAE=0.258586 rank=110\n",
      "[SoftImpute] Iter 31: observed MAE=0.258264 rank=107\n",
      "[SoftImpute] Iter 32: observed MAE=0.257942 rank=107\n",
      "[SoftImpute] Iter 33: observed MAE=0.257689 rank=105\n",
      "[SoftImpute] Iter 34: observed MAE=0.257453 rank=105\n",
      "[SoftImpute] Iter 35: observed MAE=0.257251 rank=104\n",
      "[SoftImpute] Iter 36: observed MAE=0.257045 rank=103\n",
      "[SoftImpute] Iter 37: observed MAE=0.256821 rank=102\n",
      "[SoftImpute] Iter 38: observed MAE=0.256654 rank=101\n",
      "[SoftImpute] Iter 39: observed MAE=0.256455 rank=100\n",
      "[SoftImpute] Iter 40: observed MAE=0.256279 rank=99\n",
      "[SoftImpute] Iter 41: observed MAE=0.256051 rank=98\n",
      "[SoftImpute] Iter 42: observed MAE=0.255840 rank=97\n",
      "[SoftImpute] Iter 43: observed MAE=0.255614 rank=95\n",
      "[SoftImpute] Iter 44: observed MAE=0.255419 rank=95\n",
      "[SoftImpute] Iter 45: observed MAE=0.255235 rank=94\n",
      "[SoftImpute] Iter 46: observed MAE=0.255071 rank=93\n",
      "[SoftImpute] Iter 47: observed MAE=0.254898 rank=92\n",
      "[SoftImpute] Iter 48: observed MAE=0.254729 rank=92\n",
      "[SoftImpute] Iter 49: observed MAE=0.254598 rank=92\n",
      "[SoftImpute] Iter 50: observed MAE=0.254423 rank=90\n",
      "[SoftImpute] Iter 51: observed MAE=0.254254 rank=90\n",
      "[SoftImpute] Iter 52: observed MAE=0.254106 rank=88\n",
      "[SoftImpute] Iter 53: observed MAE=0.253916 rank=88\n",
      "[SoftImpute] Iter 54: observed MAE=0.253782 rank=88\n",
      "[SoftImpute] Iter 55: observed MAE=0.253668 rank=88\n",
      "[SoftImpute] Iter 56: observed MAE=0.253566 rank=88\n",
      "[SoftImpute] Iter 57: observed MAE=0.253389 rank=86\n",
      "[SoftImpute] Iter 58: observed MAE=0.253250 rank=86\n",
      "[SoftImpute] Iter 59: observed MAE=0.253141 rank=86\n",
      "[SoftImpute] Iter 60: observed MAE=0.253045 rank=86\n",
      "[SoftImpute] Iter 61: observed MAE=0.252904 rank=85\n",
      "[SoftImpute] Iter 62: observed MAE=0.252789 rank=85\n",
      "[SoftImpute] Iter 63: observed MAE=0.252692 rank=85\n",
      "[SoftImpute] Iter 64: observed MAE=0.252601 rank=85\n",
      "[SoftImpute] Iter 65: observed MAE=0.252471 rank=83\n",
      "[SoftImpute] Iter 66: observed MAE=0.252321 rank=83\n",
      "[SoftImpute] Iter 67: observed MAE=0.252210 rank=82\n",
      "[SoftImpute] Iter 68: observed MAE=0.252060 rank=81\n",
      "[SoftImpute] Iter 69: observed MAE=0.251910 rank=81\n",
      "[SoftImpute] Iter 70: observed MAE=0.251800 rank=81\n",
      "[SoftImpute] Iter 71: observed MAE=0.251682 rank=80\n",
      "[SoftImpute] Iter 72: observed MAE=0.251567 rank=80\n",
      "[SoftImpute] Iter 73: observed MAE=0.251429 rank=78\n",
      "[SoftImpute] Iter 74: observed MAE=0.251276 rank=78\n",
      "[SoftImpute] Iter 75: observed MAE=0.251164 rank=78\n",
      "[SoftImpute] Iter 76: observed MAE=0.251040 rank=77\n",
      "[SoftImpute] Iter 77: observed MAE=0.250930 rank=76\n",
      "[SoftImpute] Iter 78: observed MAE=0.250809 rank=76\n",
      "[SoftImpute] Iter 79: observed MAE=0.250711 rank=76\n",
      "[SoftImpute] Iter 80: observed MAE=0.250620 rank=76\n",
      "[SoftImpute] Iter 81: observed MAE=0.250487 rank=74\n",
      "[SoftImpute] Iter 82: observed MAE=0.250348 rank=74\n",
      "[SoftImpute] Iter 83: observed MAE=0.250247 rank=74\n",
      "[SoftImpute] Iter 84: observed MAE=0.250140 rank=73\n",
      "[SoftImpute] Iter 85: observed MAE=0.250039 rank=73\n",
      "[SoftImpute] Iter 86: observed MAE=0.249954 rank=73\n",
      "[SoftImpute] Iter 87: observed MAE=0.249877 rank=73\n",
      "[SoftImpute] Iter 88: observed MAE=0.249781 rank=72\n",
      "[SoftImpute] Iter 89: observed MAE=0.249692 rank=72\n",
      "[SoftImpute] Iter 90: observed MAE=0.249614 rank=72\n",
      "[SoftImpute] Iter 91: observed MAE=0.249543 rank=72\n",
      "[SoftImpute] Iter 92: observed MAE=0.249475 rank=72\n",
      "[SoftImpute] Iter 93: observed MAE=0.249410 rank=72\n",
      "[SoftImpute] Iter 94: observed MAE=0.249346 rank=72\n",
      "[SoftImpute] Iter 95: observed MAE=0.249258 rank=71\n",
      "[SoftImpute] Iter 96: observed MAE=0.249160 rank=71\n",
      "[SoftImpute] Iter 97: observed MAE=0.249070 rank=70\n",
      "[SoftImpute] Iter 98: observed MAE=0.248964 rank=69\n",
      "[SoftImpute] Iter 99: observed MAE=0.248850 rank=69\n",
      "[SoftImpute] Iter 100: observed MAE=0.248755 rank=68\n",
      "[SoftImpute] Stopped after iteration 100 for lambda=6.523833\n",
      "✅ Saved imputed file to: imputed_softimpute\\adata_softimpute_imputed_mf20_run4.h5ad\n",
      "\n",
      "Processing dropout_h5ad\\adata_dropout_mf20_run5.h5ad ...\n",
      "Selected 200 HVGs out of 2000 genes\n"
     ]
    },
    {
     "name": "stderr",
     "output_type": "stream",
     "text": [
      "c:\\Users\\prath\\anaconda-new\\Lib\\site-packages\\anndata\\_core\\anndata.py:1791: UserWarning: Observation names are not unique. To make them unique, call `.obs_names_make_unique`.\n",
      "  utils.warn_names_duplicates(\"obs\")\n",
      "c:\\Users\\prath\\anaconda-new\\Lib\\site-packages\\anndata\\_core\\anndata.py:1793: UserWarning: Variable names are not unique. To make them unique, call `.var_names_make_unique`.\n",
      "  utils.warn_names_duplicates(\"var\")\n"
     ]
    },
    {
     "name": "stdout",
     "output_type": "stream",
     "text": [
      "Running SoftImpute on HVGs matrix (14746, 200) ...\n",
      "[SoftImpute] Max Singular Value of X_init = 325.789398\n"
     ]
    },
    {
     "name": "stderr",
     "output_type": "stream",
     "text": [
      "c:\\Users\\prath\\anaconda-new\\Lib\\site-packages\\sklearn\\utils\\deprecation.py:132: FutureWarning: 'force_all_finite' was renamed to 'ensure_all_finite' in 1.6 and will be removed in 1.8.\n",
      "  warnings.warn(\n",
      "c:\\Users\\prath\\anaconda-new\\Lib\\site-packages\\sklearn\\utils\\deprecation.py:132: FutureWarning: 'force_all_finite' was renamed to 'ensure_all_finite' in 1.6 and will be removed in 1.8.\n",
      "  warnings.warn(\n",
      "c:\\Users\\prath\\anaconda-new\\Lib\\site-packages\\sklearn\\utils\\deprecation.py:132: FutureWarning: 'force_all_finite' was renamed to 'ensure_all_finite' in 1.6 and will be removed in 1.8.\n",
      "  warnings.warn(\n"
     ]
    },
    {
     "name": "stdout",
     "output_type": "stream",
     "text": [
      "[SoftImpute] Iter 1: observed MAE=0.247443 rank=165\n",
      "[SoftImpute] Iter 2: observed MAE=0.247678 rank=163\n",
      "[SoftImpute] Iter 3: observed MAE=0.247803 rank=161\n",
      "[SoftImpute] Iter 4: observed MAE=0.247833 rank=158\n",
      "[SoftImpute] Iter 5: observed MAE=0.247822 rank=157\n",
      "[SoftImpute] Iter 6: observed MAE=0.247840 rank=154\n",
      "[SoftImpute] Iter 7: observed MAE=0.247863 rank=149\n",
      "[SoftImpute] Iter 8: observed MAE=0.247756 rank=146\n",
      "[SoftImpute] Iter 9: observed MAE=0.247696 rank=143\n",
      "[SoftImpute] Iter 10: observed MAE=0.247640 rank=141\n",
      "[SoftImpute] Iter 11: observed MAE=0.247625 rank=140\n",
      "[SoftImpute] Iter 12: observed MAE=0.247623 rank=138\n",
      "[SoftImpute] Iter 13: observed MAE=0.247644 rank=137\n",
      "[SoftImpute] Iter 14: observed MAE=0.247653 rank=136\n",
      "[SoftImpute] Iter 15: observed MAE=0.247622 rank=133\n",
      "[SoftImpute] Iter 16: observed MAE=0.247482 rank=132\n",
      "[SoftImpute] Iter 17: observed MAE=0.247394 rank=130\n",
      "[SoftImpute] Iter 18: observed MAE=0.247269 rank=129\n",
      "[SoftImpute] Iter 19: observed MAE=0.247082 rank=126\n",
      "[SoftImpute] Iter 20: observed MAE=0.246865 rank=124\n",
      "[SoftImpute] Iter 21: observed MAE=0.246599 rank=122\n",
      "[SoftImpute] Iter 22: observed MAE=0.246325 rank=119\n",
      "[SoftImpute] Iter 23: observed MAE=0.246118 rank=118\n",
      "[SoftImpute] Iter 24: observed MAE=0.245937 rank=117\n",
      "[SoftImpute] Iter 25: observed MAE=0.245719 rank=115\n",
      "[SoftImpute] Iter 26: observed MAE=0.245452 rank=114\n",
      "[SoftImpute] Iter 27: observed MAE=0.245265 rank=112\n",
      "[SoftImpute] Iter 28: observed MAE=0.245007 rank=110\n",
      "[SoftImpute] Iter 29: observed MAE=0.244727 rank=109\n",
      "[SoftImpute] Iter 30: observed MAE=0.244463 rank=108\n",
      "[SoftImpute] Iter 31: observed MAE=0.244251 rank=107\n",
      "[SoftImpute] Iter 32: observed MAE=0.244066 rank=107\n",
      "[SoftImpute] Iter 33: observed MAE=0.243817 rank=105\n",
      "[SoftImpute] Iter 34: observed MAE=0.243599 rank=105\n",
      "[SoftImpute] Iter 35: observed MAE=0.243359 rank=103\n",
      "[SoftImpute] Iter 36: observed MAE=0.243086 rank=102\n",
      "[SoftImpute] Iter 37: observed MAE=0.242839 rank=100\n",
      "[SoftImpute] Iter 38: observed MAE=0.242597 rank=100\n",
      "[SoftImpute] Iter 39: observed MAE=0.242439 rank=100\n",
      "[SoftImpute] Iter 40: observed MAE=0.242219 rank=98\n",
      "[SoftImpute] Iter 41: observed MAE=0.242043 rank=98\n",
      "[SoftImpute] Iter 42: observed MAE=0.241913 rank=98\n",
      "[SoftImpute] Iter 43: observed MAE=0.241760 rank=96\n",
      "[SoftImpute] Iter 44: observed MAE=0.241579 rank=96\n",
      "[SoftImpute] Iter 45: observed MAE=0.241399 rank=95\n",
      "[SoftImpute] Iter 46: observed MAE=0.241247 rank=94\n",
      "[SoftImpute] Iter 47: observed MAE=0.241057 rank=93\n",
      "[SoftImpute] Iter 48: observed MAE=0.240904 rank=92\n",
      "[SoftImpute] Iter 49: observed MAE=0.240743 rank=91\n",
      "[SoftImpute] Iter 50: observed MAE=0.240582 rank=91\n",
      "[SoftImpute] Iter 51: observed MAE=0.240426 rank=90\n",
      "[SoftImpute] Iter 52: observed MAE=0.240224 rank=89\n",
      "[SoftImpute] Iter 53: observed MAE=0.240075 rank=88\n",
      "[SoftImpute] Iter 54: observed MAE=0.239915 rank=88\n",
      "[SoftImpute] Iter 55: observed MAE=0.239763 rank=87\n",
      "[SoftImpute] Iter 56: observed MAE=0.239644 rank=87\n",
      "[SoftImpute] Iter 57: observed MAE=0.239542 rank=87\n",
      "[SoftImpute] Iter 58: observed MAE=0.239413 rank=86\n",
      "[SoftImpute] Iter 59: observed MAE=0.239308 rank=86\n",
      "[SoftImpute] Iter 60: observed MAE=0.239192 rank=85\n",
      "[SoftImpute] Iter 61: observed MAE=0.239070 rank=85\n",
      "[SoftImpute] Iter 62: observed MAE=0.238972 rank=85\n",
      "[SoftImpute] Iter 63: observed MAE=0.238840 rank=84\n",
      "[SoftImpute] Iter 64: observed MAE=0.238684 rank=83\n",
      "[SoftImpute] Iter 65: observed MAE=0.238568 rank=83\n",
      "[SoftImpute] Iter 66: observed MAE=0.238443 rank=82\n",
      "[SoftImpute] Iter 67: observed MAE=0.238327 rank=82\n",
      "[SoftImpute] Iter 68: observed MAE=0.238230 rank=82\n",
      "[SoftImpute] Iter 69: observed MAE=0.238109 rank=81\n",
      "[SoftImpute] Iter 70: observed MAE=0.238008 rank=81\n",
      "[SoftImpute] Iter 71: observed MAE=0.237865 rank=79\n",
      "[SoftImpute] Iter 72: observed MAE=0.237733 rank=79\n",
      "[SoftImpute] Iter 73: observed MAE=0.237627 rank=79\n",
      "[SoftImpute] Iter 74: observed MAE=0.237504 rank=78\n",
      "[SoftImpute] Iter 75: observed MAE=0.237396 rank=77\n",
      "[SoftImpute] Iter 76: observed MAE=0.237256 rank=77\n",
      "[SoftImpute] Iter 77: observed MAE=0.237151 rank=77\n",
      "[SoftImpute] Iter 78: observed MAE=0.237026 rank=75\n",
      "[SoftImpute] Iter 79: observed MAE=0.236895 rank=75\n",
      "[SoftImpute] Iter 80: observed MAE=0.236793 rank=75\n",
      "[SoftImpute] Iter 81: observed MAE=0.236690 rank=74\n",
      "[SoftImpute] Iter 82: observed MAE=0.236570 rank=74\n",
      "[SoftImpute] Iter 83: observed MAE=0.236473 rank=74\n",
      "[SoftImpute] Iter 84: observed MAE=0.236352 rank=73\n",
      "[SoftImpute] Iter 85: observed MAE=0.236248 rank=73\n",
      "[SoftImpute] Iter 86: observed MAE=0.236158 rank=73\n",
      "[SoftImpute] Iter 87: observed MAE=0.236055 rank=72\n",
      "[SoftImpute] Iter 88: observed MAE=0.235957 rank=72\n",
      "[SoftImpute] Iter 89: observed MAE=0.235857 rank=71\n",
      "[SoftImpute] Iter 90: observed MAE=0.235739 rank=71\n",
      "[SoftImpute] Iter 91: observed MAE=0.235640 rank=70\n",
      "[SoftImpute] Iter 92: observed MAE=0.235515 rank=70\n",
      "[SoftImpute] Iter 93: observed MAE=0.235422 rank=70\n",
      "[SoftImpute] Iter 94: observed MAE=0.235340 rank=70\n",
      "[SoftImpute] Iter 95: observed MAE=0.235264 rank=70\n",
      "[SoftImpute] Iter 96: observed MAE=0.235175 rank=69\n",
      "[SoftImpute] Iter 97: observed MAE=0.235089 rank=69\n",
      "[SoftImpute] Iter 98: observed MAE=0.235010 rank=68\n",
      "[SoftImpute] Iter 99: observed MAE=0.234898 rank=68\n",
      "[SoftImpute] Iter 100: observed MAE=0.234812 rank=68\n",
      "[SoftImpute] Stopped after iteration 100 for lambda=6.515788\n",
      "✅ Saved imputed file to: imputed_softimpute\\adata_softimpute_imputed_mf20_run5.h5ad\n",
      "\n",
      "Processing dropout_h5ad\\adata_dropout_mf20_run6.h5ad ...\n"
     ]
    },
    {
     "name": "stderr",
     "output_type": "stream",
     "text": [
      "c:\\Users\\prath\\anaconda-new\\Lib\\site-packages\\anndata\\_core\\anndata.py:1791: UserWarning: Observation names are not unique. To make them unique, call `.obs_names_make_unique`.\n",
      "  utils.warn_names_duplicates(\"obs\")\n",
      "c:\\Users\\prath\\anaconda-new\\Lib\\site-packages\\anndata\\_core\\anndata.py:1793: UserWarning: Variable names are not unique. To make them unique, call `.var_names_make_unique`.\n",
      "  utils.warn_names_duplicates(\"var\")\n"
     ]
    },
    {
     "name": "stdout",
     "output_type": "stream",
     "text": [
      "Selected 200 HVGs out of 2000 genes\n",
      "Running SoftImpute on HVGs matrix (14746, 200) ...\n"
     ]
    },
    {
     "name": "stderr",
     "output_type": "stream",
     "text": [
      "c:\\Users\\prath\\anaconda-new\\Lib\\site-packages\\sklearn\\utils\\deprecation.py:132: FutureWarning: 'force_all_finite' was renamed to 'ensure_all_finite' in 1.6 and will be removed in 1.8.\n",
      "  warnings.warn(\n",
      "c:\\Users\\prath\\anaconda-new\\Lib\\site-packages\\sklearn\\utils\\deprecation.py:132: FutureWarning: 'force_all_finite' was renamed to 'ensure_all_finite' in 1.6 and will be removed in 1.8.\n",
      "  warnings.warn(\n",
      "c:\\Users\\prath\\anaconda-new\\Lib\\site-packages\\sklearn\\utils\\deprecation.py:132: FutureWarning: 'force_all_finite' was renamed to 'ensure_all_finite' in 1.6 and will be removed in 1.8.\n",
      "  warnings.warn(\n"
     ]
    },
    {
     "name": "stdout",
     "output_type": "stream",
     "text": [
      "[SoftImpute] Max Singular Value of X_init = 325.086182\n",
      "[SoftImpute] Iter 1: observed MAE=0.260939 rank=162\n",
      "[SoftImpute] Iter 2: observed MAE=0.261151 rank=160\n",
      "[SoftImpute] Iter 3: observed MAE=0.261224 rank=157\n",
      "[SoftImpute] Iter 4: observed MAE=0.261235 rank=154\n",
      "[SoftImpute] Iter 5: observed MAE=0.261158 rank=153\n",
      "[SoftImpute] Iter 6: observed MAE=0.261138 rank=151\n",
      "[SoftImpute] Iter 7: observed MAE=0.261112 rank=148\n",
      "[SoftImpute] Iter 8: observed MAE=0.261081 rank=146\n",
      "[SoftImpute] Iter 9: observed MAE=0.261052 rank=142\n",
      "[SoftImpute] Iter 10: observed MAE=0.261007 rank=140\n",
      "[SoftImpute] Iter 11: observed MAE=0.261041 rank=138\n",
      "[SoftImpute] Iter 12: observed MAE=0.261077 rank=136\n",
      "[SoftImpute] Iter 13: observed MAE=0.261096 rank=135\n",
      "[SoftImpute] Iter 14: observed MAE=0.261132 rank=134\n",
      "[SoftImpute] Iter 15: observed MAE=0.261161 rank=132\n",
      "[SoftImpute] Iter 16: observed MAE=0.261046 rank=131\n",
      "[SoftImpute] Iter 17: observed MAE=0.260937 rank=128\n",
      "[SoftImpute] Iter 18: observed MAE=0.260753 rank=126\n",
      "[SoftImpute] Iter 19: observed MAE=0.260593 rank=125\n",
      "[SoftImpute] Iter 20: observed MAE=0.260440 rank=123\n",
      "[SoftImpute] Iter 21: observed MAE=0.260264 rank=122\n",
      "[SoftImpute] Iter 22: observed MAE=0.260095 rank=121\n",
      "[SoftImpute] Iter 23: observed MAE=0.259935 rank=119\n",
      "[SoftImpute] Iter 24: observed MAE=0.259671 rank=118\n",
      "[SoftImpute] Iter 25: observed MAE=0.259474 rank=116\n",
      "[SoftImpute] Iter 26: observed MAE=0.259166 rank=113\n",
      "[SoftImpute] Iter 27: observed MAE=0.258875 rank=113\n",
      "[SoftImpute] Iter 28: observed MAE=0.258585 rank=110\n",
      "[SoftImpute] Iter 29: observed MAE=0.258317 rank=109\n",
      "[SoftImpute] Iter 30: observed MAE=0.258055 rank=108\n",
      "[SoftImpute] Iter 31: observed MAE=0.257841 rank=108\n",
      "[SoftImpute] Iter 32: observed MAE=0.257614 rank=106\n",
      "[SoftImpute] Iter 33: observed MAE=0.257336 rank=105\n",
      "[SoftImpute] Iter 34: observed MAE=0.257067 rank=103\n",
      "[SoftImpute] Iter 35: observed MAE=0.256784 rank=102\n",
      "[SoftImpute] Iter 36: observed MAE=0.256519 rank=101\n",
      "[SoftImpute] Iter 37: observed MAE=0.256289 rank=101\n",
      "[SoftImpute] Iter 38: observed MAE=0.256108 rank=100\n",
      "[SoftImpute] Iter 39: observed MAE=0.255845 rank=99\n",
      "[SoftImpute] Iter 40: observed MAE=0.255604 rank=97\n",
      "[SoftImpute] Iter 41: observed MAE=0.255381 rank=97\n",
      "[SoftImpute] Iter 42: observed MAE=0.255224 rank=97\n",
      "[SoftImpute] Iter 43: observed MAE=0.255031 rank=95\n",
      "[SoftImpute] Iter 44: observed MAE=0.254823 rank=95\n",
      "[SoftImpute] Iter 45: observed MAE=0.254673 rank=95\n",
      "[SoftImpute] Iter 46: observed MAE=0.254510 rank=94\n",
      "[SoftImpute] Iter 47: observed MAE=0.254306 rank=93\n",
      "[SoftImpute] Iter 48: observed MAE=0.254130 rank=92\n",
      "[SoftImpute] Iter 49: observed MAE=0.253954 rank=91\n",
      "[SoftImpute] Iter 50: observed MAE=0.253770 rank=91\n",
      "[SoftImpute] Iter 51: observed MAE=0.253573 rank=90\n",
      "[SoftImpute] Iter 52: observed MAE=0.253383 rank=89\n",
      "[SoftImpute] Iter 53: observed MAE=0.253243 rank=89\n",
      "[SoftImpute] Iter 54: observed MAE=0.253079 rank=88\n",
      "[SoftImpute] Iter 55: observed MAE=0.252904 rank=87\n",
      "[SoftImpute] Iter 56: observed MAE=0.252708 rank=86\n",
      "[SoftImpute] Iter 57: observed MAE=0.252560 rank=86\n",
      "[SoftImpute] Iter 58: observed MAE=0.252422 rank=84\n",
      "[SoftImpute] Iter 59: observed MAE=0.252231 rank=84\n",
      "[SoftImpute] Iter 60: observed MAE=0.252091 rank=84\n",
      "[SoftImpute] Iter 61: observed MAE=0.251961 rank=83\n",
      "[SoftImpute] Iter 62: observed MAE=0.251824 rank=82\n",
      "[SoftImpute] Iter 63: observed MAE=0.251656 rank=82\n",
      "[SoftImpute] Iter 64: observed MAE=0.251533 rank=82\n",
      "[SoftImpute] Iter 65: observed MAE=0.251387 rank=81\n",
      "[SoftImpute] Iter 66: observed MAE=0.251255 rank=81\n",
      "[SoftImpute] Iter 67: observed MAE=0.251148 rank=81\n",
      "[SoftImpute] Iter 68: observed MAE=0.251025 rank=80\n",
      "[SoftImpute] Iter 69: observed MAE=0.250900 rank=80\n",
      "[SoftImpute] Iter 70: observed MAE=0.250787 rank=79\n",
      "[SoftImpute] Iter 71: observed MAE=0.250647 rank=79\n",
      "[SoftImpute] Iter 72: observed MAE=0.250543 rank=79\n",
      "[SoftImpute] Iter 73: observed MAE=0.250429 rank=78\n",
      "[SoftImpute] Iter 74: observed MAE=0.250321 rank=78\n",
      "[SoftImpute] Iter 75: observed MAE=0.250227 rank=78\n",
      "[SoftImpute] Iter 76: observed MAE=0.250141 rank=78\n",
      "[SoftImpute] Iter 77: observed MAE=0.250023 rank=77\n",
      "[SoftImpute] Iter 78: observed MAE=0.249890 rank=76\n",
      "[SoftImpute] Iter 79: observed MAE=0.249779 rank=76\n",
      "[SoftImpute] Iter 80: observed MAE=0.249667 rank=75\n",
      "[SoftImpute] Iter 81: observed MAE=0.249552 rank=75\n",
      "[SoftImpute] Iter 82: observed MAE=0.249460 rank=75\n",
      "[SoftImpute] Iter 83: observed MAE=0.249377 rank=75\n",
      "[SoftImpute] Iter 84: observed MAE=0.249294 rank=74\n",
      "[SoftImpute] Iter 85: observed MAE=0.249178 rank=74\n",
      "[SoftImpute] Iter 86: observed MAE=0.249056 rank=73\n",
      "[SoftImpute] Iter 87: observed MAE=0.248951 rank=73\n",
      "[SoftImpute] Iter 88: observed MAE=0.248864 rank=73\n",
      "[SoftImpute] Iter 89: observed MAE=0.248783 rank=72\n",
      "[SoftImpute] Iter 90: observed MAE=0.248656 rank=72\n",
      "[SoftImpute] Iter 91: observed MAE=0.248562 rank=72\n",
      "[SoftImpute] Iter 92: observed MAE=0.248480 rank=72\n",
      "[SoftImpute] Iter 93: observed MAE=0.248404 rank=72\n",
      "[SoftImpute] Iter 94: observed MAE=0.248331 rank=72\n",
      "[SoftImpute] Iter 95: observed MAE=0.248230 rank=71\n",
      "[SoftImpute] Iter 96: observed MAE=0.248140 rank=71\n",
      "[SoftImpute] Iter 97: observed MAE=0.248061 rank=71\n",
      "[SoftImpute] Iter 98: observed MAE=0.247959 rank=70\n",
      "[SoftImpute] Iter 99: observed MAE=0.247872 rank=70\n",
      "[SoftImpute] Iter 100: observed MAE=0.247796 rank=70\n",
      "[SoftImpute] Stopped after iteration 100 for lambda=6.501724\n",
      "✅ Saved imputed file to: imputed_softimpute\\adata_softimpute_imputed_mf20_run6.h5ad\n",
      "\n",
      "Processing dropout_h5ad\\adata_dropout_mf20_run7.h5ad ...\n",
      "Selected 200 HVGs out of 2000 genes\n"
     ]
    },
    {
     "name": "stderr",
     "output_type": "stream",
     "text": [
      "c:\\Users\\prath\\anaconda-new\\Lib\\site-packages\\anndata\\_core\\anndata.py:1791: UserWarning: Observation names are not unique. To make them unique, call `.obs_names_make_unique`.\n",
      "  utils.warn_names_duplicates(\"obs\")\n",
      "c:\\Users\\prath\\anaconda-new\\Lib\\site-packages\\anndata\\_core\\anndata.py:1793: UserWarning: Variable names are not unique. To make them unique, call `.var_names_make_unique`.\n",
      "  utils.warn_names_duplicates(\"var\")\n",
      "c:\\Users\\prath\\anaconda-new\\Lib\\site-packages\\sklearn\\utils\\deprecation.py:132: FutureWarning: 'force_all_finite' was renamed to 'ensure_all_finite' in 1.6 and will be removed in 1.8.\n",
      "  warnings.warn(\n"
     ]
    },
    {
     "name": "stdout",
     "output_type": "stream",
     "text": [
      "Running SoftImpute on HVGs matrix (14746, 200) ...\n",
      "[SoftImpute] Max Singular Value of X_init = 329.590912\n"
     ]
    },
    {
     "name": "stderr",
     "output_type": "stream",
     "text": [
      "c:\\Users\\prath\\anaconda-new\\Lib\\site-packages\\sklearn\\utils\\deprecation.py:132: FutureWarning: 'force_all_finite' was renamed to 'ensure_all_finite' in 1.6 and will be removed in 1.8.\n",
      "  warnings.warn(\n",
      "c:\\Users\\prath\\anaconda-new\\Lib\\site-packages\\sklearn\\utils\\deprecation.py:132: FutureWarning: 'force_all_finite' was renamed to 'ensure_all_finite' in 1.6 and will be removed in 1.8.\n",
      "  warnings.warn(\n"
     ]
    },
    {
     "name": "stdout",
     "output_type": "stream",
     "text": [
      "[SoftImpute] Iter 1: observed MAE=0.245714 rank=159\n",
      "[SoftImpute] Iter 2: observed MAE=0.245943 rank=159\n",
      "[SoftImpute] Iter 3: observed MAE=0.246082 rank=156\n",
      "[SoftImpute] Iter 4: observed MAE=0.246124 rank=155\n",
      "[SoftImpute] Iter 5: observed MAE=0.246169 rank=151\n",
      "[SoftImpute] Iter 6: observed MAE=0.246199 rank=149\n",
      "[SoftImpute] Iter 7: observed MAE=0.246147 rank=147\n",
      "[SoftImpute] Iter 8: observed MAE=0.246176 rank=145\n",
      "[SoftImpute] Iter 9: observed MAE=0.246226 rank=142\n",
      "[SoftImpute] Iter 10: observed MAE=0.246268 rank=139\n",
      "[SoftImpute] Iter 11: observed MAE=0.246313 rank=137\n",
      "[SoftImpute] Iter 12: observed MAE=0.246370 rank=135\n",
      "[SoftImpute] Iter 13: observed MAE=0.246426 rank=134\n",
      "[SoftImpute] Iter 14: observed MAE=0.246452 rank=132\n",
      "[SoftImpute] Iter 15: observed MAE=0.246444 rank=131\n",
      "[SoftImpute] Iter 16: observed MAE=0.246380 rank=128\n",
      "[SoftImpute] Iter 17: observed MAE=0.246238 rank=126\n",
      "[SoftImpute] Iter 18: observed MAE=0.246086 rank=124\n",
      "[SoftImpute] Iter 19: observed MAE=0.245942 rank=124\n",
      "[SoftImpute] Iter 20: observed MAE=0.245709 rank=121\n",
      "[SoftImpute] Iter 21: observed MAE=0.245531 rank=120\n",
      "[SoftImpute] Iter 22: observed MAE=0.245327 rank=118\n",
      "[SoftImpute] Iter 23: observed MAE=0.245135 rank=117\n",
      "[SoftImpute] Iter 24: observed MAE=0.244955 rank=115\n",
      "[SoftImpute] Iter 25: observed MAE=0.244751 rank=114\n",
      "[SoftImpute] Iter 26: observed MAE=0.244575 rank=113\n",
      "[SoftImpute] Iter 27: observed MAE=0.244366 rank=112\n",
      "[SoftImpute] Iter 28: observed MAE=0.244197 rank=110\n",
      "[SoftImpute] Iter 29: observed MAE=0.243954 rank=109\n",
      "[SoftImpute] Iter 30: observed MAE=0.243751 rank=108\n",
      "[SoftImpute] Iter 31: observed MAE=0.243587 rank=107\n",
      "[SoftImpute] Iter 32: observed MAE=0.243392 rank=105\n",
      "[SoftImpute] Iter 33: observed MAE=0.243163 rank=105\n",
      "[SoftImpute] Iter 34: observed MAE=0.242974 rank=103\n",
      "[SoftImpute] Iter 35: observed MAE=0.242766 rank=103\n",
      "[SoftImpute] Iter 36: observed MAE=0.242595 rank=102\n",
      "[SoftImpute] Iter 37: observed MAE=0.242387 rank=101\n",
      "[SoftImpute] Iter 38: observed MAE=0.242168 rank=99\n",
      "[SoftImpute] Iter 39: observed MAE=0.241977 rank=99\n",
      "[SoftImpute] Iter 40: observed MAE=0.241799 rank=98\n",
      "[SoftImpute] Iter 41: observed MAE=0.241587 rank=96\n",
      "[SoftImpute] Iter 42: observed MAE=0.241404 rank=96\n",
      "[SoftImpute] Iter 43: observed MAE=0.241231 rank=95\n",
      "[SoftImpute] Iter 44: observed MAE=0.241063 rank=94\n",
      "[SoftImpute] Iter 45: observed MAE=0.240910 rank=94\n",
      "[SoftImpute] Iter 46: observed MAE=0.240775 rank=93\n",
      "[SoftImpute] Iter 47: observed MAE=0.240624 rank=92\n",
      "[SoftImpute] Iter 48: observed MAE=0.240443 rank=91\n",
      "[SoftImpute] Iter 49: observed MAE=0.240283 rank=90\n",
      "[SoftImpute] Iter 50: observed MAE=0.240122 rank=90\n",
      "[SoftImpute] Iter 51: observed MAE=0.239998 rank=90\n",
      "[SoftImpute] Iter 52: observed MAE=0.239856 rank=89\n",
      "[SoftImpute] Iter 53: observed MAE=0.239712 rank=88\n",
      "[SoftImpute] Iter 54: observed MAE=0.239578 rank=88\n",
      "[SoftImpute] Iter 55: observed MAE=0.239439 rank=87\n",
      "[SoftImpute] Iter 56: observed MAE=0.239303 rank=86\n",
      "[SoftImpute] Iter 57: observed MAE=0.239147 rank=86\n",
      "[SoftImpute] Iter 58: observed MAE=0.239018 rank=85\n",
      "[SoftImpute] Iter 59: observed MAE=0.238850 rank=84\n",
      "[SoftImpute] Iter 60: observed MAE=0.238705 rank=84\n",
      "[SoftImpute] Iter 61: observed MAE=0.238587 rank=83\n",
      "[SoftImpute] Iter 62: observed MAE=0.238453 rank=83\n",
      "[SoftImpute] Iter 63: observed MAE=0.238340 rank=82\n",
      "[SoftImpute] Iter 64: observed MAE=0.238167 rank=81\n",
      "[SoftImpute] Iter 65: observed MAE=0.238036 rank=81\n",
      "[SoftImpute] Iter 66: observed MAE=0.237932 rank=81\n",
      "[SoftImpute] Iter 67: observed MAE=0.237832 rank=80\n",
      "[SoftImpute] Iter 68: observed MAE=0.237712 rank=80\n",
      "[SoftImpute] Iter 69: observed MAE=0.237612 rank=79\n",
      "[SoftImpute] Iter 70: observed MAE=0.237487 rank=79\n",
      "[SoftImpute] Iter 71: observed MAE=0.237357 rank=78\n",
      "[SoftImpute] Iter 72: observed MAE=0.237236 rank=78\n",
      "[SoftImpute] Iter 73: observed MAE=0.237137 rank=78\n",
      "[SoftImpute] Iter 74: observed MAE=0.237048 rank=78\n",
      "[SoftImpute] Iter 75: observed MAE=0.236955 rank=77\n",
      "[SoftImpute] Iter 76: observed MAE=0.236833 rank=77\n",
      "[SoftImpute] Iter 77: observed MAE=0.236727 rank=76\n",
      "[SoftImpute] Iter 78: observed MAE=0.236607 rank=76\n",
      "[SoftImpute] Iter 79: observed MAE=0.236509 rank=76\n",
      "[SoftImpute] Iter 80: observed MAE=0.236419 rank=76\n",
      "[SoftImpute] Iter 81: observed MAE=0.236326 rank=75\n",
      "[SoftImpute] Iter 82: observed MAE=0.236214 rank=75\n",
      "[SoftImpute] Iter 83: observed MAE=0.236122 rank=75\n",
      "[SoftImpute] Iter 84: observed MAE=0.236022 rank=74\n",
      "[SoftImpute] Iter 85: observed MAE=0.235920 rank=74\n",
      "[SoftImpute] Iter 86: observed MAE=0.235829 rank=73\n",
      "[SoftImpute] Iter 87: observed MAE=0.235712 rank=73\n",
      "[SoftImpute] Iter 88: observed MAE=0.235618 rank=73\n",
      "[SoftImpute] Iter 89: observed MAE=0.235533 rank=73\n",
      "[SoftImpute] Iter 90: observed MAE=0.235436 rank=72\n",
      "[SoftImpute] Iter 91: observed MAE=0.235335 rank=71\n",
      "[SoftImpute] Iter 92: observed MAE=0.235226 rank=71\n",
      "[SoftImpute] Iter 93: observed MAE=0.235134 rank=71\n",
      "[SoftImpute] Iter 94: observed MAE=0.235052 rank=71\n",
      "[SoftImpute] Iter 95: observed MAE=0.234960 rank=70\n",
      "[SoftImpute] Iter 96: observed MAE=0.234858 rank=70\n",
      "[SoftImpute] Iter 97: observed MAE=0.234771 rank=70\n",
      "[SoftImpute] Iter 98: observed MAE=0.234667 rank=69\n",
      "[SoftImpute] Iter 99: observed MAE=0.234574 rank=69\n",
      "[SoftImpute] Iter 100: observed MAE=0.234487 rank=68\n",
      "[SoftImpute] Stopped after iteration 100 for lambda=6.591818\n",
      "✅ Saved imputed file to: imputed_softimpute\\adata_softimpute_imputed_mf20_run7.h5ad\n",
      "\n",
      "Processing dropout_h5ad\\adata_dropout_mf20_run8.h5ad ...\n",
      "Selected 200 HVGs out of 2000 genes\n"
     ]
    },
    {
     "name": "stderr",
     "output_type": "stream",
     "text": [
      "c:\\Users\\prath\\anaconda-new\\Lib\\site-packages\\anndata\\_core\\anndata.py:1791: UserWarning: Observation names are not unique. To make them unique, call `.obs_names_make_unique`.\n",
      "  utils.warn_names_duplicates(\"obs\")\n",
      "c:\\Users\\prath\\anaconda-new\\Lib\\site-packages\\anndata\\_core\\anndata.py:1793: UserWarning: Variable names are not unique. To make them unique, call `.var_names_make_unique`.\n",
      "  utils.warn_names_duplicates(\"var\")\n"
     ]
    },
    {
     "name": "stdout",
     "output_type": "stream",
     "text": [
      "Running SoftImpute on HVGs matrix (14746, 200) ...\n",
      "[SoftImpute] Max Singular Value of X_init = 327.762421\n"
     ]
    },
    {
     "name": "stderr",
     "output_type": "stream",
     "text": [
      "c:\\Users\\prath\\anaconda-new\\Lib\\site-packages\\sklearn\\utils\\deprecation.py:132: FutureWarning: 'force_all_finite' was renamed to 'ensure_all_finite' in 1.6 and will be removed in 1.8.\n",
      "  warnings.warn(\n",
      "c:\\Users\\prath\\anaconda-new\\Lib\\site-packages\\sklearn\\utils\\deprecation.py:132: FutureWarning: 'force_all_finite' was renamed to 'ensure_all_finite' in 1.6 and will be removed in 1.8.\n",
      "  warnings.warn(\n",
      "c:\\Users\\prath\\anaconda-new\\Lib\\site-packages\\sklearn\\utils\\deprecation.py:132: FutureWarning: 'force_all_finite' was renamed to 'ensure_all_finite' in 1.6 and will be removed in 1.8.\n",
      "  warnings.warn(\n"
     ]
    },
    {
     "name": "stdout",
     "output_type": "stream",
     "text": [
      "[SoftImpute] Iter 1: observed MAE=0.265213 rank=163\n",
      "[SoftImpute] Iter 2: observed MAE=0.265421 rank=160\n",
      "[SoftImpute] Iter 3: observed MAE=0.265508 rank=156\n",
      "[SoftImpute] Iter 4: observed MAE=0.265473 rank=155\n",
      "[SoftImpute] Iter 5: observed MAE=0.265434 rank=151\n",
      "[SoftImpute] Iter 6: observed MAE=0.265299 rank=149\n",
      "[SoftImpute] Iter 7: observed MAE=0.265169 rank=147\n",
      "[SoftImpute] Iter 8: observed MAE=0.265037 rank=143\n",
      "[SoftImpute] Iter 9: observed MAE=0.264927 rank=140\n",
      "[SoftImpute] Iter 10: observed MAE=0.264939 rank=139\n",
      "[SoftImpute] Iter 11: observed MAE=0.264987 rank=137\n",
      "[SoftImpute] Iter 12: observed MAE=0.265038 rank=135\n",
      "[SoftImpute] Iter 13: observed MAE=0.265114 rank=134\n",
      "[SoftImpute] Iter 14: observed MAE=0.265173 rank=133\n",
      "[SoftImpute] Iter 15: observed MAE=0.265178 rank=130\n",
      "[SoftImpute] Iter 16: observed MAE=0.265034 rank=128\n",
      "[SoftImpute] Iter 17: observed MAE=0.264921 rank=126\n",
      "[SoftImpute] Iter 18: observed MAE=0.264742 rank=124\n",
      "[SoftImpute] Iter 19: observed MAE=0.264556 rank=123\n",
      "[SoftImpute] Iter 20: observed MAE=0.264415 rank=122\n",
      "[SoftImpute] Iter 21: observed MAE=0.264170 rank=120\n",
      "[SoftImpute] Iter 22: observed MAE=0.263968 rank=118\n",
      "[SoftImpute] Iter 23: observed MAE=0.263774 rank=118\n",
      "[SoftImpute] Iter 24: observed MAE=0.263562 rank=116\n",
      "[SoftImpute] Iter 25: observed MAE=0.263328 rank=114\n",
      "[SoftImpute] Iter 26: observed MAE=0.263069 rank=113\n",
      "[SoftImpute] Iter 27: observed MAE=0.262870 rank=112\n",
      "[SoftImpute] Iter 28: observed MAE=0.262659 rank=111\n",
      "[SoftImpute] Iter 29: observed MAE=0.262458 rank=109\n",
      "[SoftImpute] Iter 30: observed MAE=0.262234 rank=109\n",
      "[SoftImpute] Iter 31: observed MAE=0.262074 rank=108\n",
      "[SoftImpute] Iter 32: observed MAE=0.261837 rank=107\n",
      "[SoftImpute] Iter 33: observed MAE=0.261614 rank=106\n",
      "[SoftImpute] Iter 34: observed MAE=0.261388 rank=104\n",
      "[SoftImpute] Iter 35: observed MAE=0.261164 rank=104\n",
      "[SoftImpute] Iter 36: observed MAE=0.260949 rank=103\n",
      "[SoftImpute] Iter 37: observed MAE=0.260746 rank=102\n",
      "[SoftImpute] Iter 38: observed MAE=0.260525 rank=101\n",
      "[SoftImpute] Iter 39: observed MAE=0.260320 rank=100\n",
      "[SoftImpute] Iter 40: observed MAE=0.260099 rank=99\n",
      "[SoftImpute] Iter 41: observed MAE=0.259893 rank=98\n",
      "[SoftImpute] Iter 42: observed MAE=0.259689 rank=97\n",
      "[SoftImpute] Iter 43: observed MAE=0.259505 rank=97\n",
      "[SoftImpute] Iter 44: observed MAE=0.259314 rank=96\n",
      "[SoftImpute] Iter 45: observed MAE=0.259117 rank=95\n",
      "[SoftImpute] Iter 46: observed MAE=0.258952 rank=94\n",
      "[SoftImpute] Iter 47: observed MAE=0.258767 rank=93\n",
      "[SoftImpute] Iter 48: observed MAE=0.258592 rank=93\n",
      "[SoftImpute] Iter 49: observed MAE=0.258397 rank=91\n",
      "[SoftImpute] Iter 50: observed MAE=0.258167 rank=90\n",
      "[SoftImpute] Iter 51: observed MAE=0.258004 rank=90\n",
      "[SoftImpute] Iter 52: observed MAE=0.257825 rank=89\n",
      "[SoftImpute] Iter 53: observed MAE=0.257684 rank=88\n",
      "[SoftImpute] Iter 54: observed MAE=0.257508 rank=88\n",
      "[SoftImpute] Iter 55: observed MAE=0.257379 rank=88\n",
      "[SoftImpute] Iter 56: observed MAE=0.257229 rank=86\n",
      "[SoftImpute] Iter 57: observed MAE=0.257042 rank=86\n",
      "[SoftImpute] Iter 58: observed MAE=0.256896 rank=85\n",
      "[SoftImpute] Iter 59: observed MAE=0.256736 rank=85\n",
      "[SoftImpute] Iter 60: observed MAE=0.256563 rank=84\n",
      "[SoftImpute] Iter 61: observed MAE=0.256426 rank=84\n",
      "[SoftImpute] Iter 62: observed MAE=0.256290 rank=83\n",
      "[SoftImpute] Iter 63: observed MAE=0.256167 rank=83\n",
      "[SoftImpute] Iter 64: observed MAE=0.256040 rank=82\n",
      "[SoftImpute] Iter 65: observed MAE=0.255881 rank=81\n",
      "[SoftImpute] Iter 66: observed MAE=0.255712 rank=80\n",
      "[SoftImpute] Iter 67: observed MAE=0.255538 rank=80\n",
      "[SoftImpute] Iter 68: observed MAE=0.255408 rank=80\n",
      "[SoftImpute] Iter 69: observed MAE=0.255272 rank=79\n",
      "[SoftImpute] Iter 70: observed MAE=0.255108 rank=78\n",
      "[SoftImpute] Iter 71: observed MAE=0.254963 rank=78\n",
      "[SoftImpute] Iter 72: observed MAE=0.254825 rank=77\n",
      "[SoftImpute] Iter 73: observed MAE=0.254670 rank=77\n",
      "[SoftImpute] Iter 74: observed MAE=0.254550 rank=77\n",
      "[SoftImpute] Iter 75: observed MAE=0.254411 rank=76\n",
      "[SoftImpute] Iter 76: observed MAE=0.254264 rank=75\n",
      "[SoftImpute] Iter 77: observed MAE=0.254126 rank=75\n",
      "[SoftImpute] Iter 78: observed MAE=0.253986 rank=74\n",
      "[SoftImpute] Iter 79: observed MAE=0.253856 rank=74\n",
      "[SoftImpute] Iter 80: observed MAE=0.253748 rank=74\n",
      "[SoftImpute] Iter 81: observed MAE=0.253651 rank=74\n",
      "[SoftImpute] Iter 82: observed MAE=0.253561 rank=74\n",
      "[SoftImpute] Iter 83: observed MAE=0.253464 rank=73\n",
      "[SoftImpute] Iter 84: observed MAE=0.253334 rank=72\n",
      "[SoftImpute] Iter 85: observed MAE=0.253202 rank=72\n",
      "[SoftImpute] Iter 86: observed MAE=0.253096 rank=72\n",
      "[SoftImpute] Iter 87: observed MAE=0.252987 rank=71\n",
      "[SoftImpute] Iter 88: observed MAE=0.252870 rank=71\n",
      "[SoftImpute] Iter 89: observed MAE=0.252769 rank=71\n",
      "[SoftImpute] Iter 90: observed MAE=0.252678 rank=71\n",
      "[SoftImpute] Iter 91: observed MAE=0.252591 rank=71\n",
      "[SoftImpute] Iter 92: observed MAE=0.252509 rank=71\n",
      "[SoftImpute] Iter 93: observed MAE=0.252430 rank=71\n",
      "[SoftImpute] Iter 94: observed MAE=0.252352 rank=71\n",
      "[SoftImpute] Iter 95: observed MAE=0.252276 rank=71\n",
      "[SoftImpute] Iter 96: observed MAE=0.252176 rank=70\n",
      "[SoftImpute] Iter 97: observed MAE=0.252052 rank=69\n",
      "[SoftImpute] Iter 98: observed MAE=0.251909 rank=68\n",
      "[SoftImpute] Iter 99: observed MAE=0.251791 rank=68\n",
      "[SoftImpute] Iter 100: observed MAE=0.251695 rank=68\n",
      "[SoftImpute] Stopped after iteration 100 for lambda=6.555248\n",
      "✅ Saved imputed file to: imputed_softimpute\\adata_softimpute_imputed_mf20_run8.h5ad\n",
      "\n",
      "Processing dropout_h5ad\\adata_dropout_mf20_run9.h5ad ...\n",
      "Selected 200 HVGs out of 2000 genes\n"
     ]
    },
    {
     "name": "stderr",
     "output_type": "stream",
     "text": [
      "c:\\Users\\prath\\anaconda-new\\Lib\\site-packages\\anndata\\_core\\anndata.py:1791: UserWarning: Observation names are not unique. To make them unique, call `.obs_names_make_unique`.\n",
      "  utils.warn_names_duplicates(\"obs\")\n",
      "c:\\Users\\prath\\anaconda-new\\Lib\\site-packages\\anndata\\_core\\anndata.py:1793: UserWarning: Variable names are not unique. To make them unique, call `.var_names_make_unique`.\n",
      "  utils.warn_names_duplicates(\"var\")\n"
     ]
    },
    {
     "name": "stdout",
     "output_type": "stream",
     "text": [
      "Running SoftImpute on HVGs matrix (14746, 200) ...\n",
      "[SoftImpute] Max Singular Value of X_init = 329.085449\n"
     ]
    },
    {
     "name": "stderr",
     "output_type": "stream",
     "text": [
      "c:\\Users\\prath\\anaconda-new\\Lib\\site-packages\\sklearn\\utils\\deprecation.py:132: FutureWarning: 'force_all_finite' was renamed to 'ensure_all_finite' in 1.6 and will be removed in 1.8.\n",
      "  warnings.warn(\n",
      "c:\\Users\\prath\\anaconda-new\\Lib\\site-packages\\sklearn\\utils\\deprecation.py:132: FutureWarning: 'force_all_finite' was renamed to 'ensure_all_finite' in 1.6 and will be removed in 1.8.\n",
      "  warnings.warn(\n",
      "c:\\Users\\prath\\anaconda-new\\Lib\\site-packages\\sklearn\\utils\\deprecation.py:132: FutureWarning: 'force_all_finite' was renamed to 'ensure_all_finite' in 1.6 and will be removed in 1.8.\n",
      "  warnings.warn(\n"
     ]
    },
    {
     "name": "stdout",
     "output_type": "stream",
     "text": [
      "[SoftImpute] Iter 1: observed MAE=0.248026 rank=167\n",
      "[SoftImpute] Iter 2: observed MAE=0.248285 rank=165\n",
      "[SoftImpute] Iter 3: observed MAE=0.248411 rank=160\n",
      "[SoftImpute] Iter 4: observed MAE=0.248426 rank=158\n",
      "[SoftImpute] Iter 5: observed MAE=0.248452 rank=156\n",
      "[SoftImpute] Iter 6: observed MAE=0.248433 rank=152\n",
      "[SoftImpute] Iter 7: observed MAE=0.248363 rank=149\n",
      "[SoftImpute] Iter 8: observed MAE=0.248298 rank=146\n",
      "[SoftImpute] Iter 9: observed MAE=0.248287 rank=145\n",
      "[SoftImpute] Iter 10: observed MAE=0.248326 rank=144\n",
      "[SoftImpute] Iter 11: observed MAE=0.248369 rank=142\n",
      "[SoftImpute] Iter 12: observed MAE=0.248448 rank=141\n",
      "[SoftImpute] Iter 13: observed MAE=0.248561 rank=141\n",
      "[SoftImpute] Iter 14: observed MAE=0.248636 rank=139\n",
      "[SoftImpute] Iter 15: observed MAE=0.248626 rank=137\n",
      "[SoftImpute] Iter 16: observed MAE=0.248535 rank=134\n",
      "[SoftImpute] Iter 17: observed MAE=0.248386 rank=133\n",
      "[SoftImpute] Iter 18: observed MAE=0.248227 rank=130\n",
      "[SoftImpute] Iter 19: observed MAE=0.248000 rank=128\n",
      "[SoftImpute] Iter 20: observed MAE=0.247812 rank=125\n",
      "[SoftImpute] Iter 21: observed MAE=0.247548 rank=123\n",
      "[SoftImpute] Iter 22: observed MAE=0.247309 rank=122\n",
      "[SoftImpute] Iter 23: observed MAE=0.247115 rank=121\n",
      "[SoftImpute] Iter 24: observed MAE=0.246857 rank=118\n",
      "[SoftImpute] Iter 25: observed MAE=0.246642 rank=117\n",
      "[SoftImpute] Iter 26: observed MAE=0.246474 rank=117\n",
      "[SoftImpute] Iter 27: observed MAE=0.246299 rank=115\n",
      "[SoftImpute] Iter 28: observed MAE=0.246122 rank=114\n",
      "[SoftImpute] Iter 29: observed MAE=0.245922 rank=113\n",
      "[SoftImpute] Iter 30: observed MAE=0.245701 rank=112\n",
      "[SoftImpute] Iter 31: observed MAE=0.245537 rank=111\n",
      "[SoftImpute] Iter 32: observed MAE=0.245341 rank=110\n",
      "[SoftImpute] Iter 33: observed MAE=0.245110 rank=109\n",
      "[SoftImpute] Iter 34: observed MAE=0.244888 rank=107\n",
      "[SoftImpute] Iter 35: observed MAE=0.244615 rank=106\n",
      "[SoftImpute] Iter 36: observed MAE=0.244381 rank=104\n",
      "[SoftImpute] Iter 37: observed MAE=0.244139 rank=103\n",
      "[SoftImpute] Iter 38: observed MAE=0.243931 rank=103\n",
      "[SoftImpute] Iter 39: observed MAE=0.243749 rank=102\n",
      "[SoftImpute] Iter 40: observed MAE=0.243530 rank=101\n",
      "[SoftImpute] Iter 41: observed MAE=0.243349 rank=100\n",
      "[SoftImpute] Iter 42: observed MAE=0.243187 rank=100\n",
      "[SoftImpute] Iter 43: observed MAE=0.242981 rank=98\n",
      "[SoftImpute] Iter 44: observed MAE=0.242770 rank=97\n",
      "[SoftImpute] Iter 45: observed MAE=0.242603 rank=97\n",
      "[SoftImpute] Iter 46: observed MAE=0.242410 rank=96\n",
      "[SoftImpute] Iter 47: observed MAE=0.242221 rank=95\n",
      "[SoftImpute] Iter 48: observed MAE=0.242061 rank=94\n",
      "[SoftImpute] Iter 49: observed MAE=0.241893 rank=94\n",
      "[SoftImpute] Iter 50: observed MAE=0.241731 rank=92\n",
      "[SoftImpute] Iter 51: observed MAE=0.241548 rank=91\n",
      "[SoftImpute] Iter 52: observed MAE=0.241377 rank=91\n",
      "[SoftImpute] Iter 53: observed MAE=0.241247 rank=90\n",
      "[SoftImpute] Iter 54: observed MAE=0.241050 rank=89\n",
      "[SoftImpute] Iter 55: observed MAE=0.240897 rank=89\n",
      "[SoftImpute] Iter 56: observed MAE=0.240777 rank=89\n",
      "[SoftImpute] Iter 57: observed MAE=0.240673 rank=89\n",
      "[SoftImpute] Iter 58: observed MAE=0.240559 rank=88\n",
      "[SoftImpute] Iter 59: observed MAE=0.240401 rank=86\n",
      "[SoftImpute] Iter 60: observed MAE=0.240222 rank=86\n",
      "[SoftImpute] Iter 61: observed MAE=0.240095 rank=86\n",
      "[SoftImpute] Iter 62: observed MAE=0.239988 rank=86\n",
      "[SoftImpute] Iter 63: observed MAE=0.239863 rank=85\n",
      "[SoftImpute] Iter 64: observed MAE=0.239733 rank=84\n",
      "[SoftImpute] Iter 65: observed MAE=0.239575 rank=83\n",
      "[SoftImpute] Iter 66: observed MAE=0.239431 rank=82\n",
      "[SoftImpute] Iter 67: observed MAE=0.239288 rank=82\n",
      "[SoftImpute] Iter 68: observed MAE=0.239174 rank=82\n",
      "[SoftImpute] Iter 69: observed MAE=0.239040 rank=81\n",
      "[SoftImpute] Iter 70: observed MAE=0.238896 rank=80\n",
      "[SoftImpute] Iter 71: observed MAE=0.238760 rank=80\n",
      "[SoftImpute] Iter 72: observed MAE=0.238623 rank=79\n",
      "[SoftImpute] Iter 73: observed MAE=0.238503 rank=79\n",
      "[SoftImpute] Iter 74: observed MAE=0.238400 rank=79\n",
      "[SoftImpute] Iter 75: observed MAE=0.238305 rank=79\n",
      "[SoftImpute] Iter 76: observed MAE=0.238183 rank=78\n",
      "[SoftImpute] Iter 77: observed MAE=0.238063 rank=77\n",
      "[SoftImpute] Iter 78: observed MAE=0.237954 rank=77\n",
      "[SoftImpute] Iter 79: observed MAE=0.237861 rank=77\n",
      "[SoftImpute] Iter 80: observed MAE=0.237773 rank=76\n",
      "[SoftImpute] Iter 81: observed MAE=0.237650 rank=76\n",
      "[SoftImpute] Iter 82: observed MAE=0.237554 rank=76\n",
      "[SoftImpute] Iter 83: observed MAE=0.237467 rank=76\n",
      "[SoftImpute] Iter 84: observed MAE=0.237365 rank=75\n",
      "[SoftImpute] Iter 85: observed MAE=0.237250 rank=75\n",
      "[SoftImpute] Iter 86: observed MAE=0.237156 rank=75\n",
      "[SoftImpute] Iter 87: observed MAE=0.237055 rank=74\n",
      "[SoftImpute] Iter 88: observed MAE=0.236952 rank=74\n",
      "[SoftImpute] Iter 89: observed MAE=0.236863 rank=74\n",
      "[SoftImpute] Iter 90: observed MAE=0.236770 rank=73\n",
      "[SoftImpute] Iter 91: observed MAE=0.236665 rank=73\n",
      "[SoftImpute] Iter 92: observed MAE=0.236543 rank=72\n",
      "[SoftImpute] Iter 93: observed MAE=0.236443 rank=72\n",
      "[SoftImpute] Iter 94: observed MAE=0.236358 rank=72\n",
      "[SoftImpute] Iter 95: observed MAE=0.236245 rank=71\n",
      "[SoftImpute] Iter 96: observed MAE=0.236149 rank=71\n",
      "[SoftImpute] Iter 97: observed MAE=0.236065 rank=71\n",
      "[SoftImpute] Iter 98: observed MAE=0.235986 rank=71\n",
      "[SoftImpute] Iter 99: observed MAE=0.235910 rank=71\n",
      "[SoftImpute] Iter 100: observed MAE=0.235836 rank=71\n",
      "[SoftImpute] Stopped after iteration 100 for lambda=6.581709\n",
      "✅ Saved imputed file to: imputed_softimpute\\adata_softimpute_imputed_mf20_run9.h5ad\n",
      "\n",
      "Processing dropout_h5ad\\adata_dropout_mf30_run1.h5ad ...\n"
     ]
    },
    {
     "name": "stderr",
     "output_type": "stream",
     "text": [
      "c:\\Users\\prath\\anaconda-new\\Lib\\site-packages\\anndata\\_core\\anndata.py:1791: UserWarning: Observation names are not unique. To make them unique, call `.obs_names_make_unique`.\n",
      "  utils.warn_names_duplicates(\"obs\")\n",
      "c:\\Users\\prath\\anaconda-new\\Lib\\site-packages\\anndata\\_core\\anndata.py:1793: UserWarning: Variable names are not unique. To make them unique, call `.var_names_make_unique`.\n",
      "  utils.warn_names_duplicates(\"var\")\n",
      "c:\\Users\\prath\\anaconda-new\\Lib\\site-packages\\sklearn\\utils\\deprecation.py:132: FutureWarning: 'force_all_finite' was renamed to 'ensure_all_finite' in 1.6 and will be removed in 1.8.\n",
      "  warnings.warn(\n"
     ]
    },
    {
     "name": "stdout",
     "output_type": "stream",
     "text": [
      "Selected 200 HVGs out of 2000 genes\n",
      "Running SoftImpute on HVGs matrix (14746, 200) ...\n"
     ]
    },
    {
     "name": "stderr",
     "output_type": "stream",
     "text": [
      "c:\\Users\\prath\\anaconda-new\\Lib\\site-packages\\sklearn\\utils\\deprecation.py:132: FutureWarning: 'force_all_finite' was renamed to 'ensure_all_finite' in 1.6 and will be removed in 1.8.\n",
      "  warnings.warn(\n",
      "c:\\Users\\prath\\anaconda-new\\Lib\\site-packages\\sklearn\\utils\\deprecation.py:132: FutureWarning: 'force_all_finite' was renamed to 'ensure_all_finite' in 1.6 and will be removed in 1.8.\n",
      "  warnings.warn(\n"
     ]
    },
    {
     "name": "stdout",
     "output_type": "stream",
     "text": [
      "[SoftImpute] Max Singular Value of X_init = 289.446198\n",
      "[SoftImpute] Iter 1: observed MAE=0.233399 rank=179\n",
      "[SoftImpute] Iter 2: observed MAE=0.233383 rank=177\n",
      "[SoftImpute] Iter 3: observed MAE=0.233337 rank=177\n",
      "[SoftImpute] Iter 4: observed MAE=0.233244 rank=172\n",
      "[SoftImpute] Iter 5: observed MAE=0.233089 rank=170\n",
      "[SoftImpute] Iter 6: observed MAE=0.232881 rank=167\n",
      "[SoftImpute] Iter 7: observed MAE=0.232649 rank=165\n",
      "[SoftImpute] Iter 8: observed MAE=0.232373 rank=164\n",
      "[SoftImpute] Iter 9: observed MAE=0.232137 rank=162\n",
      "[SoftImpute] Iter 10: observed MAE=0.231927 rank=159\n",
      "[SoftImpute] Iter 11: observed MAE=0.231742 rank=158\n",
      "[SoftImpute] Iter 12: observed MAE=0.231599 rank=156\n",
      "[SoftImpute] Iter 13: observed MAE=0.231424 rank=153\n",
      "[SoftImpute] Iter 14: observed MAE=0.231284 rank=149\n",
      "[SoftImpute] Iter 15: observed MAE=0.231110 rank=148\n",
      "[SoftImpute] Iter 16: observed MAE=0.230988 rank=146\n",
      "[SoftImpute] Iter 17: observed MAE=0.230866 rank=143\n",
      "[SoftImpute] Iter 18: observed MAE=0.230755 rank=142\n",
      "[SoftImpute] Iter 19: observed MAE=0.230598 rank=140\n",
      "[SoftImpute] Iter 20: observed MAE=0.230455 rank=138\n",
      "[SoftImpute] Iter 21: observed MAE=0.230242 rank=135\n",
      "[SoftImpute] Iter 22: observed MAE=0.230050 rank=134\n",
      "[SoftImpute] Iter 23: observed MAE=0.229878 rank=133\n",
      "[SoftImpute] Iter 24: observed MAE=0.229724 rank=131\n",
      "[SoftImpute] Iter 25: observed MAE=0.229531 rank=129\n",
      "[SoftImpute] Iter 26: observed MAE=0.229355 rank=128\n",
      "[SoftImpute] Iter 27: observed MAE=0.229138 rank=127\n",
      "[SoftImpute] Iter 28: observed MAE=0.228951 rank=125\n",
      "[SoftImpute] Iter 29: observed MAE=0.228779 rank=124\n",
      "[SoftImpute] Iter 30: observed MAE=0.228585 rank=123\n",
      "[SoftImpute] Iter 31: observed MAE=0.228403 rank=122\n",
      "[SoftImpute] Iter 32: observed MAE=0.228238 rank=121\n",
      "[SoftImpute] Iter 33: observed MAE=0.228045 rank=119\n",
      "[SoftImpute] Iter 34: observed MAE=0.227824 rank=118\n",
      "[SoftImpute] Iter 35: observed MAE=0.227632 rank=116\n",
      "[SoftImpute] Iter 36: observed MAE=0.227414 rank=115\n",
      "[SoftImpute] Iter 37: observed MAE=0.227247 rank=115\n",
      "[SoftImpute] Iter 38: observed MAE=0.227124 rank=115\n",
      "[SoftImpute] Iter 39: observed MAE=0.226996 rank=114\n",
      "[SoftImpute] Iter 40: observed MAE=0.226797 rank=112\n",
      "[SoftImpute] Iter 41: observed MAE=0.226617 rank=111\n",
      "[SoftImpute] Iter 42: observed MAE=0.226427 rank=110\n",
      "[SoftImpute] Iter 43: observed MAE=0.226201 rank=108\n",
      "[SoftImpute] Iter 44: observed MAE=0.226025 rank=108\n",
      "[SoftImpute] Iter 45: observed MAE=0.225873 rank=107\n",
      "[SoftImpute] Iter 46: observed MAE=0.225647 rank=105\n",
      "[SoftImpute] Iter 47: observed MAE=0.225484 rank=105\n",
      "[SoftImpute] Iter 48: observed MAE=0.225363 rank=105\n",
      "[SoftImpute] Iter 49: observed MAE=0.225230 rank=104\n",
      "[SoftImpute] Iter 50: observed MAE=0.225109 rank=104\n",
      "[SoftImpute] Iter 51: observed MAE=0.224994 rank=103\n",
      "[SoftImpute] Iter 52: observed MAE=0.224872 rank=103\n",
      "[SoftImpute] Iter 53: observed MAE=0.224740 rank=102\n",
      "[SoftImpute] Iter 54: observed MAE=0.224560 rank=100\n",
      "[SoftImpute] Iter 55: observed MAE=0.224411 rank=100\n",
      "[SoftImpute] Iter 56: observed MAE=0.224240 rank=98\n",
      "[SoftImpute] Iter 57: observed MAE=0.224092 rank=98\n",
      "[SoftImpute] Iter 58: observed MAE=0.223965 rank=97\n",
      "[SoftImpute] Iter 59: observed MAE=0.223832 rank=96\n",
      "[SoftImpute] Iter 60: observed MAE=0.223676 rank=95\n",
      "[SoftImpute] Iter 61: observed MAE=0.223534 rank=95\n",
      "[SoftImpute] Iter 62: observed MAE=0.223384 rank=94\n",
      "[SoftImpute] Iter 63: observed MAE=0.223234 rank=93\n",
      "[SoftImpute] Iter 64: observed MAE=0.223114 rank=93\n",
      "[SoftImpute] Iter 65: observed MAE=0.222977 rank=92\n",
      "[SoftImpute] Iter 66: observed MAE=0.222852 rank=91\n",
      "[SoftImpute] Iter 67: observed MAE=0.222719 rank=90\n",
      "[SoftImpute] Iter 68: observed MAE=0.222601 rank=90\n",
      "[SoftImpute] Iter 69: observed MAE=0.222505 rank=89\n",
      "[SoftImpute] Iter 70: observed MAE=0.222381 rank=88\n",
      "[SoftImpute] Iter 71: observed MAE=0.222254 rank=88\n",
      "[SoftImpute] Iter 72: observed MAE=0.222156 rank=88\n",
      "[SoftImpute] Iter 73: observed MAE=0.222068 rank=88\n",
      "[SoftImpute] Iter 74: observed MAE=0.221955 rank=87\n",
      "[SoftImpute] Iter 75: observed MAE=0.221866 rank=87\n",
      "[SoftImpute] Iter 76: observed MAE=0.221789 rank=87\n",
      "[SoftImpute] Iter 77: observed MAE=0.221713 rank=86\n",
      "[SoftImpute] Iter 78: observed MAE=0.221613 rank=86\n",
      "[SoftImpute] Iter 79: observed MAE=0.221530 rank=85\n",
      "[SoftImpute] Iter 80: observed MAE=0.221418 rank=85\n",
      "[SoftImpute] Iter 81: observed MAE=0.221305 rank=84\n",
      "[SoftImpute] Iter 82: observed MAE=0.221210 rank=84\n",
      "[SoftImpute] Iter 83: observed MAE=0.221118 rank=83\n",
      "[SoftImpute] Iter 84: observed MAE=0.221018 rank=83\n",
      "[SoftImpute] Iter 85: observed MAE=0.220937 rank=83\n",
      "[SoftImpute] Iter 86: observed MAE=0.220864 rank=83\n",
      "[SoftImpute] Iter 87: observed MAE=0.220796 rank=83\n",
      "[SoftImpute] Iter 88: observed MAE=0.220715 rank=82\n",
      "[SoftImpute] Iter 89: observed MAE=0.220622 rank=82\n",
      "[SoftImpute] Iter 90: observed MAE=0.220547 rank=82\n",
      "[SoftImpute] Iter 91: observed MAE=0.220446 rank=81\n",
      "[SoftImpute] Iter 92: observed MAE=0.220366 rank=81\n",
      "[SoftImpute] Iter 93: observed MAE=0.220295 rank=81\n",
      "[SoftImpute] Iter 94: observed MAE=0.220228 rank=81\n",
      "[SoftImpute] Iter 95: observed MAE=0.220165 rank=81\n",
      "[SoftImpute] Iter 96: observed MAE=0.220078 rank=80\n",
      "[SoftImpute] Iter 97: observed MAE=0.220003 rank=80\n",
      "[SoftImpute] Iter 98: observed MAE=0.219922 rank=79\n",
      "[SoftImpute] Iter 99: observed MAE=0.219828 rank=79\n",
      "[SoftImpute] Iter 100: observed MAE=0.219752 rank=78\n",
      "[SoftImpute] Stopped after iteration 100 for lambda=5.788924\n",
      "✅ Saved imputed file to: imputed_softimpute\\adata_softimpute_imputed_mf30_run1.h5ad\n",
      "\n",
      "Processing dropout_h5ad\\adata_dropout_mf30_run10.h5ad ...\n",
      "Selected 200 HVGs out of 2000 genes\n"
     ]
    },
    {
     "name": "stderr",
     "output_type": "stream",
     "text": [
      "c:\\Users\\prath\\anaconda-new\\Lib\\site-packages\\anndata\\_core\\anndata.py:1791: UserWarning: Observation names are not unique. To make them unique, call `.obs_names_make_unique`.\n",
      "  utils.warn_names_duplicates(\"obs\")\n",
      "c:\\Users\\prath\\anaconda-new\\Lib\\site-packages\\anndata\\_core\\anndata.py:1793: UserWarning: Variable names are not unique. To make them unique, call `.var_names_make_unique`.\n",
      "  utils.warn_names_duplicates(\"var\")\n",
      "c:\\Users\\prath\\anaconda-new\\Lib\\site-packages\\sklearn\\utils\\deprecation.py:132: FutureWarning: 'force_all_finite' was renamed to 'ensure_all_finite' in 1.6 and will be removed in 1.8.\n",
      "  warnings.warn(\n"
     ]
    },
    {
     "name": "stdout",
     "output_type": "stream",
     "text": [
      "Running SoftImpute on HVGs matrix (14746, 200) ...\n",
      "[SoftImpute] Max Singular Value of X_init = 304.501587\n"
     ]
    },
    {
     "name": "stderr",
     "output_type": "stream",
     "text": [
      "c:\\Users\\prath\\anaconda-new\\Lib\\site-packages\\sklearn\\utils\\deprecation.py:132: FutureWarning: 'force_all_finite' was renamed to 'ensure_all_finite' in 1.6 and will be removed in 1.8.\n",
      "  warnings.warn(\n",
      "c:\\Users\\prath\\anaconda-new\\Lib\\site-packages\\sklearn\\utils\\deprecation.py:132: FutureWarning: 'force_all_finite' was renamed to 'ensure_all_finite' in 1.6 and will be removed in 1.8.\n",
      "  warnings.warn(\n"
     ]
    },
    {
     "name": "stdout",
     "output_type": "stream",
     "text": [
      "[SoftImpute] Iter 1: observed MAE=0.230769 rank=166\n",
      "[SoftImpute] Iter 2: observed MAE=0.230858 rank=164\n",
      "[SoftImpute] Iter 3: observed MAE=0.230884 rank=163\n",
      "[SoftImpute] Iter 4: observed MAE=0.230853 rank=163\n",
      "[SoftImpute] Iter 5: observed MAE=0.230714 rank=159\n",
      "[SoftImpute] Iter 6: observed MAE=0.230491 rank=157\n",
      "[SoftImpute] Iter 7: observed MAE=0.230317 rank=155\n",
      "[SoftImpute] Iter 8: observed MAE=0.230113 rank=153\n",
      "[SoftImpute] Iter 9: observed MAE=0.229901 rank=150\n",
      "[SoftImpute] Iter 10: observed MAE=0.229718 rank=149\n",
      "[SoftImpute] Iter 11: observed MAE=0.229549 rank=147\n",
      "[SoftImpute] Iter 12: observed MAE=0.229397 rank=146\n",
      "[SoftImpute] Iter 13: observed MAE=0.229265 rank=144\n",
      "[SoftImpute] Iter 14: observed MAE=0.229181 rank=144\n",
      "[SoftImpute] Iter 15: observed MAE=0.229115 rank=142\n",
      "[SoftImpute] Iter 16: observed MAE=0.228989 rank=140\n",
      "[SoftImpute] Iter 17: observed MAE=0.228854 rank=138\n",
      "[SoftImpute] Iter 18: observed MAE=0.228740 rank=137\n",
      "[SoftImpute] Iter 19: observed MAE=0.228573 rank=134\n",
      "[SoftImpute] Iter 20: observed MAE=0.228410 rank=132\n",
      "[SoftImpute] Iter 21: observed MAE=0.228217 rank=131\n",
      "[SoftImpute] Iter 22: observed MAE=0.228043 rank=130\n",
      "[SoftImpute] Iter 23: observed MAE=0.227825 rank=127\n",
      "[SoftImpute] Iter 24: observed MAE=0.227581 rank=126\n",
      "[SoftImpute] Iter 25: observed MAE=0.227403 rank=125\n",
      "[SoftImpute] Iter 26: observed MAE=0.227236 rank=123\n",
      "[SoftImpute] Iter 27: observed MAE=0.226999 rank=121\n",
      "[SoftImpute] Iter 28: observed MAE=0.226806 rank=121\n",
      "[SoftImpute] Iter 29: observed MAE=0.226624 rank=120\n",
      "[SoftImpute] Iter 30: observed MAE=0.226445 rank=119\n",
      "[SoftImpute] Iter 31: observed MAE=0.226280 rank=118\n",
      "[SoftImpute] Iter 32: observed MAE=0.226057 rank=115\n",
      "[SoftImpute] Iter 33: observed MAE=0.225830 rank=115\n",
      "[SoftImpute] Iter 34: observed MAE=0.225653 rank=114\n",
      "[SoftImpute] Iter 35: observed MAE=0.225441 rank=113\n",
      "[SoftImpute] Iter 36: observed MAE=0.225276 rank=112\n",
      "[SoftImpute] Iter 37: observed MAE=0.225053 rank=111\n",
      "[SoftImpute] Iter 38: observed MAE=0.224892 rank=110\n",
      "[SoftImpute] Iter 39: observed MAE=0.224711 rank=109\n",
      "[SoftImpute] Iter 40: observed MAE=0.224511 rank=108\n",
      "[SoftImpute] Iter 41: observed MAE=0.224350 rank=108\n",
      "[SoftImpute] Iter 42: observed MAE=0.224205 rank=107\n",
      "[SoftImpute] Iter 43: observed MAE=0.224045 rank=106\n",
      "[SoftImpute] Iter 44: observed MAE=0.223885 rank=106\n",
      "[SoftImpute] Iter 45: observed MAE=0.223724 rank=105\n",
      "[SoftImpute] Iter 46: observed MAE=0.223534 rank=104\n",
      "[SoftImpute] Iter 47: observed MAE=0.223345 rank=103\n",
      "[SoftImpute] Iter 48: observed MAE=0.223138 rank=101\n",
      "[SoftImpute] Iter 49: observed MAE=0.222944 rank=101\n",
      "[SoftImpute] Iter 50: observed MAE=0.222794 rank=100\n",
      "[SoftImpute] Iter 51: observed MAE=0.222636 rank=99\n",
      "[SoftImpute] Iter 52: observed MAE=0.222448 rank=98\n",
      "[SoftImpute] Iter 53: observed MAE=0.222260 rank=97\n",
      "[SoftImpute] Iter 54: observed MAE=0.222116 rank=97\n",
      "[SoftImpute] Iter 55: observed MAE=0.222003 rank=97\n",
      "[SoftImpute] Iter 56: observed MAE=0.221857 rank=95\n",
      "[SoftImpute] Iter 57: observed MAE=0.221710 rank=95\n",
      "[SoftImpute] Iter 58: observed MAE=0.221600 rank=95\n",
      "[SoftImpute] Iter 59: observed MAE=0.221478 rank=94\n",
      "[SoftImpute] Iter 60: observed MAE=0.221354 rank=94\n",
      "[SoftImpute] Iter 61: observed MAE=0.221197 rank=91\n",
      "[SoftImpute] Iter 62: observed MAE=0.221009 rank=90\n",
      "[SoftImpute] Iter 63: observed MAE=0.220875 rank=90\n",
      "[SoftImpute] Iter 64: observed MAE=0.220768 rank=90\n",
      "[SoftImpute] Iter 65: observed MAE=0.220669 rank=89\n",
      "[SoftImpute] Iter 66: observed MAE=0.220550 rank=89\n",
      "[SoftImpute] Iter 67: observed MAE=0.220456 rank=89\n",
      "[SoftImpute] Iter 68: observed MAE=0.220342 rank=88\n",
      "[SoftImpute] Iter 69: observed MAE=0.220239 rank=88\n",
      "[SoftImpute] Iter 70: observed MAE=0.220126 rank=87\n",
      "[SoftImpute] Iter 71: observed MAE=0.220023 rank=87\n",
      "[SoftImpute] Iter 72: observed MAE=0.219938 rank=87\n",
      "[SoftImpute] Iter 73: observed MAE=0.219833 rank=86\n",
      "[SoftImpute] Iter 74: observed MAE=0.219732 rank=86\n",
      "[SoftImpute] Iter 75: observed MAE=0.219623 rank=85\n",
      "[SoftImpute] Iter 76: observed MAE=0.219530 rank=85\n",
      "[SoftImpute] Iter 77: observed MAE=0.219451 rank=85\n",
      "[SoftImpute] Iter 78: observed MAE=0.219371 rank=84\n",
      "[SoftImpute] Iter 79: observed MAE=0.219245 rank=83\n",
      "[SoftImpute] Iter 80: observed MAE=0.219140 rank=83\n",
      "[SoftImpute] Iter 81: observed MAE=0.219059 rank=83\n",
      "[SoftImpute] Iter 82: observed MAE=0.218988 rank=83\n",
      "[SoftImpute] Iter 83: observed MAE=0.218909 rank=82\n",
      "[SoftImpute] Iter 84: observed MAE=0.218829 rank=82\n",
      "[SoftImpute] Iter 85: observed MAE=0.218746 rank=81\n",
      "[SoftImpute] Iter 86: observed MAE=0.218659 rank=80\n",
      "[SoftImpute] Iter 87: observed MAE=0.218555 rank=80\n",
      "[SoftImpute] Iter 88: observed MAE=0.218478 rank=80\n",
      "[SoftImpute] Iter 89: observed MAE=0.218388 rank=79\n",
      "[SoftImpute] Iter 90: observed MAE=0.218294 rank=79\n",
      "[SoftImpute] Iter 91: observed MAE=0.218216 rank=78\n",
      "[SoftImpute] Iter 92: observed MAE=0.218119 rank=78\n",
      "[SoftImpute] Iter 93: observed MAE=0.218044 rank=78\n",
      "[SoftImpute] Iter 94: observed MAE=0.217979 rank=78\n",
      "[SoftImpute] Iter 95: observed MAE=0.217912 rank=77\n",
      "[SoftImpute] Iter 96: observed MAE=0.217828 rank=77\n",
      "[SoftImpute] Iter 97: observed MAE=0.217762 rank=77\n",
      "[SoftImpute] Iter 98: observed MAE=0.217703 rank=77\n",
      "[SoftImpute] Iter 99: observed MAE=0.217647 rank=77\n",
      "[SoftImpute] Iter 100: observed MAE=0.217582 rank=76\n",
      "[SoftImpute] Stopped after iteration 100 for lambda=6.090032\n",
      "✅ Saved imputed file to: imputed_softimpute\\adata_softimpute_imputed_mf30_run10.h5ad\n",
      "\n",
      "Processing dropout_h5ad\\adata_dropout_mf30_run2.h5ad ...\n",
      "Selected 200 HVGs out of 2000 genes\n"
     ]
    },
    {
     "name": "stderr",
     "output_type": "stream",
     "text": [
      "c:\\Users\\prath\\anaconda-new\\Lib\\site-packages\\anndata\\_core\\anndata.py:1791: UserWarning: Observation names are not unique. To make them unique, call `.obs_names_make_unique`.\n",
      "  utils.warn_names_duplicates(\"obs\")\n",
      "c:\\Users\\prath\\anaconda-new\\Lib\\site-packages\\anndata\\_core\\anndata.py:1793: UserWarning: Variable names are not unique. To make them unique, call `.var_names_make_unique`.\n",
      "  utils.warn_names_duplicates(\"var\")\n",
      "c:\\Users\\prath\\anaconda-new\\Lib\\site-packages\\sklearn\\utils\\deprecation.py:132: FutureWarning: 'force_all_finite' was renamed to 'ensure_all_finite' in 1.6 and will be removed in 1.8.\n",
      "  warnings.warn(\n"
     ]
    },
    {
     "name": "stdout",
     "output_type": "stream",
     "text": [
      "Running SoftImpute on HVGs matrix (14746, 200) ...\n",
      "[SoftImpute] Max Singular Value of X_init = 289.800995\n"
     ]
    },
    {
     "name": "stderr",
     "output_type": "stream",
     "text": [
      "c:\\Users\\prath\\anaconda-new\\Lib\\site-packages\\sklearn\\utils\\deprecation.py:132: FutureWarning: 'force_all_finite' was renamed to 'ensure_all_finite' in 1.6 and will be removed in 1.8.\n",
      "  warnings.warn(\n",
      "c:\\Users\\prath\\anaconda-new\\Lib\\site-packages\\sklearn\\utils\\deprecation.py:132: FutureWarning: 'force_all_finite' was renamed to 'ensure_all_finite' in 1.6 and will be removed in 1.8.\n",
      "  warnings.warn(\n"
     ]
    },
    {
     "name": "stdout",
     "output_type": "stream",
     "text": [
      "[SoftImpute] Iter 1: observed MAE=0.240550 rank=177\n",
      "[SoftImpute] Iter 2: observed MAE=0.240583 rank=174\n",
      "[SoftImpute] Iter 3: observed MAE=0.240538 rank=174\n",
      "[SoftImpute] Iter 4: observed MAE=0.240476 rank=171\n",
      "[SoftImpute] Iter 5: observed MAE=0.240293 rank=166\n",
      "[SoftImpute] Iter 6: observed MAE=0.240131 rank=164\n",
      "[SoftImpute] Iter 7: observed MAE=0.239941 rank=161\n",
      "[SoftImpute] Iter 8: observed MAE=0.239758 rank=158\n",
      "[SoftImpute] Iter 9: observed MAE=0.239527 rank=154\n",
      "[SoftImpute] Iter 10: observed MAE=0.239324 rank=151\n",
      "[SoftImpute] Iter 11: observed MAE=0.239127 rank=150\n",
      "[SoftImpute] Iter 12: observed MAE=0.238992 rank=150\n",
      "[SoftImpute] Iter 13: observed MAE=0.238921 rank=149\n",
      "[SoftImpute] Iter 14: observed MAE=0.238832 rank=147\n",
      "[SoftImpute] Iter 15: observed MAE=0.238729 rank=146\n",
      "[SoftImpute] Iter 16: observed MAE=0.238614 rank=144\n",
      "[SoftImpute] Iter 17: observed MAE=0.238483 rank=142\n",
      "[SoftImpute] Iter 18: observed MAE=0.238326 rank=139\n",
      "[SoftImpute] Iter 19: observed MAE=0.238184 rank=137\n",
      "[SoftImpute] Iter 20: observed MAE=0.238016 rank=136\n",
      "[SoftImpute] Iter 21: observed MAE=0.237843 rank=133\n",
      "[SoftImpute] Iter 22: observed MAE=0.237640 rank=131\n",
      "[SoftImpute] Iter 23: observed MAE=0.237408 rank=129\n",
      "[SoftImpute] Iter 24: observed MAE=0.237253 rank=127\n",
      "[SoftImpute] Iter 25: observed MAE=0.237033 rank=126\n",
      "[SoftImpute] Iter 26: observed MAE=0.236817 rank=125\n",
      "[SoftImpute] Iter 27: observed MAE=0.236640 rank=123\n",
      "[SoftImpute] Iter 28: observed MAE=0.236450 rank=122\n",
      "[SoftImpute] Iter 29: observed MAE=0.236232 rank=121\n",
      "[SoftImpute] Iter 30: observed MAE=0.236066 rank=120\n",
      "[SoftImpute] Iter 31: observed MAE=0.235866 rank=119\n",
      "[SoftImpute] Iter 32: observed MAE=0.235732 rank=118\n",
      "[SoftImpute] Iter 33: observed MAE=0.235494 rank=116\n",
      "[SoftImpute] Iter 34: observed MAE=0.235310 rank=115\n",
      "[SoftImpute] Iter 35: observed MAE=0.235152 rank=114\n",
      "[SoftImpute] Iter 36: observed MAE=0.234965 rank=113\n",
      "[SoftImpute] Iter 37: observed MAE=0.234752 rank=112\n",
      "[SoftImpute] Iter 38: observed MAE=0.234585 rank=111\n",
      "[SoftImpute] Iter 39: observed MAE=0.234412 rank=110\n",
      "[SoftImpute] Iter 40: observed MAE=0.234273 rank=110\n",
      "[SoftImpute] Iter 41: observed MAE=0.234109 rank=108\n",
      "[SoftImpute] Iter 42: observed MAE=0.233946 rank=107\n",
      "[SoftImpute] Iter 43: observed MAE=0.233777 rank=107\n",
      "[SoftImpute] Iter 44: observed MAE=0.233598 rank=105\n",
      "[SoftImpute] Iter 45: observed MAE=0.233430 rank=105\n",
      "[SoftImpute] Iter 46: observed MAE=0.233256 rank=103\n",
      "[SoftImpute] Iter 47: observed MAE=0.233087 rank=103\n",
      "[SoftImpute] Iter 48: observed MAE=0.232965 rank=103\n",
      "[SoftImpute] Iter 49: observed MAE=0.232811 rank=101\n",
      "[SoftImpute] Iter 50: observed MAE=0.232611 rank=100\n",
      "[SoftImpute] Iter 51: observed MAE=0.232419 rank=98\n",
      "[SoftImpute] Iter 52: observed MAE=0.232239 rank=98\n",
      "[SoftImpute] Iter 53: observed MAE=0.232117 rank=98\n",
      "[SoftImpute] Iter 54: observed MAE=0.232002 rank=97\n",
      "[SoftImpute] Iter 55: observed MAE=0.231818 rank=96\n",
      "[SoftImpute] Iter 56: observed MAE=0.231646 rank=95\n",
      "[SoftImpute] Iter 57: observed MAE=0.231493 rank=94\n",
      "[SoftImpute] Iter 58: observed MAE=0.231359 rank=94\n",
      "[SoftImpute] Iter 59: observed MAE=0.231207 rank=93\n",
      "[SoftImpute] Iter 60: observed MAE=0.231092 rank=93\n",
      "[SoftImpute] Iter 61: observed MAE=0.230955 rank=92\n",
      "[SoftImpute] Iter 62: observed MAE=0.230846 rank=92\n",
      "[SoftImpute] Iter 63: observed MAE=0.230719 rank=91\n",
      "[SoftImpute] Iter 64: observed MAE=0.230594 rank=91\n",
      "[SoftImpute] Iter 65: observed MAE=0.230499 rank=91\n",
      "[SoftImpute] Iter 66: observed MAE=0.230378 rank=89\n",
      "[SoftImpute] Iter 67: observed MAE=0.230250 rank=89\n",
      "[SoftImpute] Iter 68: observed MAE=0.230123 rank=88\n",
      "[SoftImpute] Iter 69: observed MAE=0.229988 rank=87\n",
      "[SoftImpute] Iter 70: observed MAE=0.229873 rank=87\n",
      "[SoftImpute] Iter 71: observed MAE=0.229781 rank=87\n",
      "[SoftImpute] Iter 72: observed MAE=0.229701 rank=87\n",
      "[SoftImpute] Iter 73: observed MAE=0.229612 rank=86\n",
      "[SoftImpute] Iter 74: observed MAE=0.229466 rank=85\n",
      "[SoftImpute] Iter 75: observed MAE=0.229348 rank=84\n",
      "[SoftImpute] Iter 76: observed MAE=0.229231 rank=84\n",
      "[SoftImpute] Iter 77: observed MAE=0.229140 rank=84\n",
      "[SoftImpute] Iter 78: observed MAE=0.229059 rank=84\n",
      "[SoftImpute] Iter 79: observed MAE=0.228983 rank=84\n",
      "[SoftImpute] Iter 80: observed MAE=0.228896 rank=83\n",
      "[SoftImpute] Iter 81: observed MAE=0.228766 rank=82\n",
      "[SoftImpute] Iter 82: observed MAE=0.228652 rank=81\n",
      "[SoftImpute] Iter 83: observed MAE=0.228533 rank=81\n",
      "[SoftImpute] Iter 84: observed MAE=0.228443 rank=81\n",
      "[SoftImpute] Iter 85: observed MAE=0.228359 rank=80\n",
      "[SoftImpute] Iter 86: observed MAE=0.228258 rank=79\n",
      "[SoftImpute] Iter 87: observed MAE=0.228147 rank=79\n",
      "[SoftImpute] Iter 88: observed MAE=0.228062 rank=79\n",
      "[SoftImpute] Iter 89: observed MAE=0.227985 rank=79\n",
      "[SoftImpute] Iter 90: observed MAE=0.227911 rank=79\n",
      "[SoftImpute] Iter 91: observed MAE=0.227826 rank=78\n",
      "[SoftImpute] Iter 92: observed MAE=0.227743 rank=78\n",
      "[SoftImpute] Iter 93: observed MAE=0.227651 rank=77\n",
      "[SoftImpute] Iter 94: observed MAE=0.227559 rank=76\n",
      "[SoftImpute] Iter 95: observed MAE=0.227452 rank=76\n",
      "[SoftImpute] Iter 96: observed MAE=0.227369 rank=76\n",
      "[SoftImpute] Iter 97: observed MAE=0.227294 rank=76\n",
      "[SoftImpute] Iter 98: observed MAE=0.227213 rank=75\n",
      "[SoftImpute] Iter 99: observed MAE=0.227112 rank=74\n",
      "[SoftImpute] Iter 100: observed MAE=0.227006 rank=74\n",
      "[SoftImpute] Stopped after iteration 100 for lambda=5.796020\n",
      "✅ Saved imputed file to: imputed_softimpute\\adata_softimpute_imputed_mf30_run2.h5ad\n",
      "\n",
      "Processing dropout_h5ad\\adata_dropout_mf30_run3.h5ad ...\n",
      "Selected 200 HVGs out of 2000 genes\n"
     ]
    },
    {
     "name": "stderr",
     "output_type": "stream",
     "text": [
      "c:\\Users\\prath\\anaconda-new\\Lib\\site-packages\\anndata\\_core\\anndata.py:1791: UserWarning: Observation names are not unique. To make them unique, call `.obs_names_make_unique`.\n",
      "  utils.warn_names_duplicates(\"obs\")\n",
      "c:\\Users\\prath\\anaconda-new\\Lib\\site-packages\\anndata\\_core\\anndata.py:1793: UserWarning: Variable names are not unique. To make them unique, call `.var_names_make_unique`.\n",
      "  utils.warn_names_duplicates(\"var\")\n",
      "c:\\Users\\prath\\anaconda-new\\Lib\\site-packages\\sklearn\\utils\\deprecation.py:132: FutureWarning: 'force_all_finite' was renamed to 'ensure_all_finite' in 1.6 and will be removed in 1.8.\n",
      "  warnings.warn(\n",
      "c:\\Users\\prath\\anaconda-new\\Lib\\site-packages\\sklearn\\utils\\deprecation.py:132: FutureWarning: 'force_all_finite' was renamed to 'ensure_all_finite' in 1.6 and will be removed in 1.8.\n",
      "  warnings.warn(\n",
      "c:\\Users\\prath\\anaconda-new\\Lib\\site-packages\\sklearn\\utils\\deprecation.py:132: FutureWarning: 'force_all_finite' was renamed to 'ensure_all_finite' in 1.6 and will be removed in 1.8.\n",
      "  warnings.warn(\n"
     ]
    },
    {
     "name": "stdout",
     "output_type": "stream",
     "text": [
      "Running SoftImpute on HVGs matrix (14746, 200) ...\n",
      "[SoftImpute] Max Singular Value of X_init = 294.829254\n",
      "[SoftImpute] Iter 1: observed MAE=0.242000 rank=175\n",
      "[SoftImpute] Iter 2: observed MAE=0.242144 rank=173\n",
      "[SoftImpute] Iter 3: observed MAE=0.242209 rank=171\n",
      "[SoftImpute] Iter 4: observed MAE=0.242172 rank=167\n",
      "[SoftImpute] Iter 5: observed MAE=0.242095 rank=166\n",
      "[SoftImpute] Iter 6: observed MAE=0.241988 rank=162\n",
      "[SoftImpute] Iter 7: observed MAE=0.241862 rank=161\n",
      "[SoftImpute] Iter 8: observed MAE=0.241730 rank=159\n",
      "[SoftImpute] Iter 9: observed MAE=0.241558 rank=157\n",
      "[SoftImpute] Iter 10: observed MAE=0.241377 rank=154\n",
      "[SoftImpute] Iter 11: observed MAE=0.241218 rank=151\n",
      "[SoftImpute] Iter 12: observed MAE=0.241064 rank=149\n",
      "[SoftImpute] Iter 13: observed MAE=0.240915 rank=148\n",
      "[SoftImpute] Iter 14: observed MAE=0.240772 rank=146\n",
      "[SoftImpute] Iter 15: observed MAE=0.240638 rank=144\n",
      "[SoftImpute] Iter 16: observed MAE=0.240513 rank=141\n",
      "[SoftImpute] Iter 17: observed MAE=0.240311 rank=139\n",
      "[SoftImpute] Iter 18: observed MAE=0.240129 rank=137\n",
      "[SoftImpute] Iter 19: observed MAE=0.239979 rank=135\n",
      "[SoftImpute] Iter 20: observed MAE=0.239868 rank=135\n",
      "[SoftImpute] Iter 21: observed MAE=0.239697 rank=133\n",
      "[SoftImpute] Iter 22: observed MAE=0.239542 rank=131\n",
      "[SoftImpute] Iter 23: observed MAE=0.239385 rank=129\n",
      "[SoftImpute] Iter 24: observed MAE=0.239207 rank=128\n",
      "[SoftImpute] Iter 25: observed MAE=0.239081 rank=126\n",
      "[SoftImpute] Iter 26: observed MAE=0.238901 rank=125\n",
      "[SoftImpute] Iter 27: observed MAE=0.238754 rank=124\n",
      "[SoftImpute] Iter 28: observed MAE=0.238624 rank=123\n",
      "[SoftImpute] Iter 29: observed MAE=0.238475 rank=122\n",
      "[SoftImpute] Iter 30: observed MAE=0.238267 rank=120\n",
      "[SoftImpute] Iter 31: observed MAE=0.238083 rank=119\n",
      "[SoftImpute] Iter 32: observed MAE=0.237899 rank=117\n",
      "[SoftImpute] Iter 33: observed MAE=0.237660 rank=115\n",
      "[SoftImpute] Iter 34: observed MAE=0.237487 rank=115\n",
      "[SoftImpute] Iter 35: observed MAE=0.237302 rank=113\n",
      "[SoftImpute] Iter 36: observed MAE=0.237136 rank=113\n",
      "[SoftImpute] Iter 37: observed MAE=0.236973 rank=112\n",
      "[SoftImpute] Iter 38: observed MAE=0.236852 rank=112\n",
      "[SoftImpute] Iter 39: observed MAE=0.236675 rank=110\n",
      "[SoftImpute] Iter 40: observed MAE=0.236500 rank=109\n",
      "[SoftImpute] Iter 41: observed MAE=0.236350 rank=108\n",
      "[SoftImpute] Iter 42: observed MAE=0.236173 rank=107\n",
      "[SoftImpute] Iter 43: observed MAE=0.236032 rank=106\n",
      "[SoftImpute] Iter 44: observed MAE=0.235863 rank=105\n",
      "[SoftImpute] Iter 45: observed MAE=0.235699 rank=104\n",
      "[SoftImpute] Iter 46: observed MAE=0.235528 rank=103\n",
      "[SoftImpute] Iter 47: observed MAE=0.235375 rank=102\n",
      "[SoftImpute] Iter 48: observed MAE=0.235209 rank=101\n",
      "[SoftImpute] Iter 49: observed MAE=0.235062 rank=101\n",
      "[SoftImpute] Iter 50: observed MAE=0.234912 rank=100\n",
      "[SoftImpute] Iter 51: observed MAE=0.234787 rank=100\n",
      "[SoftImpute] Iter 52: observed MAE=0.234648 rank=99\n",
      "[SoftImpute] Iter 53: observed MAE=0.234542 rank=99\n",
      "[SoftImpute] Iter 54: observed MAE=0.234430 rank=98\n",
      "[SoftImpute] Iter 55: observed MAE=0.234278 rank=96\n",
      "[SoftImpute] Iter 56: observed MAE=0.234110 rank=95\n",
      "[SoftImpute] Iter 57: observed MAE=0.233966 rank=95\n",
      "[SoftImpute] Iter 58: observed MAE=0.233854 rank=94\n",
      "[SoftImpute] Iter 59: observed MAE=0.233725 rank=94\n",
      "[SoftImpute] Iter 60: observed MAE=0.233628 rank=94\n",
      "[SoftImpute] Iter 61: observed MAE=0.233545 rank=94\n",
      "[SoftImpute] Iter 62: observed MAE=0.233434 rank=93\n",
      "[SoftImpute] Iter 63: observed MAE=0.233335 rank=93\n",
      "[SoftImpute] Iter 64: observed MAE=0.233212 rank=92\n",
      "[SoftImpute] Iter 65: observed MAE=0.233068 rank=91\n",
      "[SoftImpute] Iter 66: observed MAE=0.232964 rank=91\n",
      "[SoftImpute] Iter 67: observed MAE=0.232877 rank=91\n",
      "[SoftImpute] Iter 68: observed MAE=0.232792 rank=90\n",
      "[SoftImpute] Iter 69: observed MAE=0.232678 rank=90\n",
      "[SoftImpute] Iter 70: observed MAE=0.232586 rank=89\n",
      "[SoftImpute] Iter 71: observed MAE=0.232480 rank=89\n",
      "[SoftImpute] Iter 72: observed MAE=0.232363 rank=88\n",
      "[SoftImpute] Iter 73: observed MAE=0.232227 rank=87\n",
      "[SoftImpute] Iter 74: observed MAE=0.232083 rank=86\n",
      "[SoftImpute] Iter 75: observed MAE=0.231980 rank=86\n",
      "[SoftImpute] Iter 76: observed MAE=0.231878 rank=85\n",
      "[SoftImpute] Iter 77: observed MAE=0.231779 rank=85\n",
      "[SoftImpute] Iter 78: observed MAE=0.231694 rank=84\n",
      "[SoftImpute] Iter 79: observed MAE=0.231586 rank=84\n",
      "[SoftImpute] Iter 80: observed MAE=0.231485 rank=83\n",
      "[SoftImpute] Iter 81: observed MAE=0.231384 rank=83\n",
      "[SoftImpute] Iter 82: observed MAE=0.231302 rank=83\n",
      "[SoftImpute] Iter 83: observed MAE=0.231196 rank=82\n",
      "[SoftImpute] Iter 84: observed MAE=0.231092 rank=81\n",
      "[SoftImpute] Iter 85: observed MAE=0.230991 rank=81\n",
      "[SoftImpute] Iter 86: observed MAE=0.230909 rank=81\n",
      "[SoftImpute] Iter 87: observed MAE=0.230836 rank=81\n",
      "[SoftImpute] Iter 88: observed MAE=0.230747 rank=80\n",
      "[SoftImpute] Iter 89: observed MAE=0.230656 rank=80\n",
      "[SoftImpute] Iter 90: observed MAE=0.230567 rank=79\n",
      "[SoftImpute] Iter 91: observed MAE=0.230462 rank=79\n",
      "[SoftImpute] Iter 92: observed MAE=0.230355 rank=78\n",
      "[SoftImpute] Iter 93: observed MAE=0.230249 rank=77\n",
      "[SoftImpute] Iter 94: observed MAE=0.230160 rank=77\n",
      "[SoftImpute] Iter 95: observed MAE=0.230079 rank=76\n",
      "[SoftImpute] Iter 96: observed MAE=0.229976 rank=76\n",
      "[SoftImpute] Iter 97: observed MAE=0.229895 rank=76\n",
      "[SoftImpute] Iter 98: observed MAE=0.229824 rank=75\n",
      "[SoftImpute] Iter 99: observed MAE=0.229728 rank=75\n",
      "[SoftImpute] Iter 100: observed MAE=0.229652 rank=75\n",
      "[SoftImpute] Stopped after iteration 100 for lambda=5.896585\n",
      "✅ Saved imputed file to: imputed_softimpute\\adata_softimpute_imputed_mf30_run3.h5ad\n",
      "\n",
      "Processing dropout_h5ad\\adata_dropout_mf30_run4.h5ad ...\n"
     ]
    },
    {
     "name": "stderr",
     "output_type": "stream",
     "text": [
      "c:\\Users\\prath\\anaconda-new\\Lib\\site-packages\\anndata\\_core\\anndata.py:1791: UserWarning: Observation names are not unique. To make them unique, call `.obs_names_make_unique`.\n",
      "  utils.warn_names_duplicates(\"obs\")\n",
      "c:\\Users\\prath\\anaconda-new\\Lib\\site-packages\\anndata\\_core\\anndata.py:1793: UserWarning: Variable names are not unique. To make them unique, call `.var_names_make_unique`.\n",
      "  utils.warn_names_duplicates(\"var\")\n"
     ]
    },
    {
     "name": "stdout",
     "output_type": "stream",
     "text": [
      "Selected 200 HVGs out of 2000 genes\n",
      "Running SoftImpute on HVGs matrix (14746, 200) ...\n",
      "[SoftImpute] Max Singular Value of X_init = 296.561981\n"
     ]
    },
    {
     "name": "stderr",
     "output_type": "stream",
     "text": [
      "c:\\Users\\prath\\anaconda-new\\Lib\\site-packages\\sklearn\\utils\\deprecation.py:132: FutureWarning: 'force_all_finite' was renamed to 'ensure_all_finite' in 1.6 and will be removed in 1.8.\n",
      "  warnings.warn(\n",
      "c:\\Users\\prath\\anaconda-new\\Lib\\site-packages\\sklearn\\utils\\deprecation.py:132: FutureWarning: 'force_all_finite' was renamed to 'ensure_all_finite' in 1.6 and will be removed in 1.8.\n",
      "  warnings.warn(\n",
      "c:\\Users\\prath\\anaconda-new\\Lib\\site-packages\\sklearn\\utils\\deprecation.py:132: FutureWarning: 'force_all_finite' was renamed to 'ensure_all_finite' in 1.6 and will be removed in 1.8.\n",
      "  warnings.warn(\n"
     ]
    },
    {
     "name": "stdout",
     "output_type": "stream",
     "text": [
      "[SoftImpute] Iter 1: observed MAE=0.232088 rank=175\n",
      "[SoftImpute] Iter 2: observed MAE=0.232201 rank=174\n",
      "[SoftImpute] Iter 3: observed MAE=0.232238 rank=173\n",
      "[SoftImpute] Iter 4: observed MAE=0.232143 rank=168\n",
      "[SoftImpute] Iter 5: observed MAE=0.232000 rank=166\n",
      "[SoftImpute] Iter 6: observed MAE=0.231845 rank=165\n",
      "[SoftImpute] Iter 7: observed MAE=0.231625 rank=162\n",
      "[SoftImpute] Iter 8: observed MAE=0.231350 rank=159\n",
      "[SoftImpute] Iter 9: observed MAE=0.231117 rank=158\n",
      "[SoftImpute] Iter 10: observed MAE=0.230886 rank=154\n",
      "[SoftImpute] Iter 11: observed MAE=0.230671 rank=150\n",
      "[SoftImpute] Iter 12: observed MAE=0.230470 rank=148\n",
      "[SoftImpute] Iter 13: observed MAE=0.230298 rank=146\n",
      "[SoftImpute] Iter 14: observed MAE=0.230173 rank=145\n",
      "[SoftImpute] Iter 15: observed MAE=0.230057 rank=143\n",
      "[SoftImpute] Iter 16: observed MAE=0.229948 rank=142\n",
      "[SoftImpute] Iter 17: observed MAE=0.229775 rank=139\n",
      "[SoftImpute] Iter 18: observed MAE=0.229591 rank=136\n",
      "[SoftImpute] Iter 19: observed MAE=0.229386 rank=134\n",
      "[SoftImpute] Iter 20: observed MAE=0.229187 rank=133\n",
      "[SoftImpute] Iter 21: observed MAE=0.228995 rank=131\n",
      "[SoftImpute] Iter 22: observed MAE=0.228825 rank=129\n",
      "[SoftImpute] Iter 23: observed MAE=0.228664 rank=128\n",
      "[SoftImpute] Iter 24: observed MAE=0.228505 rank=126\n",
      "[SoftImpute] Iter 25: observed MAE=0.228298 rank=125\n",
      "[SoftImpute] Iter 26: observed MAE=0.228117 rank=123\n",
      "[SoftImpute] Iter 27: observed MAE=0.227933 rank=122\n",
      "[SoftImpute] Iter 28: observed MAE=0.227741 rank=120\n",
      "[SoftImpute] Iter 29: observed MAE=0.227576 rank=120\n",
      "[SoftImpute] Iter 30: observed MAE=0.227427 rank=119\n",
      "[SoftImpute] Iter 31: observed MAE=0.227313 rank=119\n",
      "[SoftImpute] Iter 32: observed MAE=0.227154 rank=117\n",
      "[SoftImpute] Iter 33: observed MAE=0.226961 rank=116\n",
      "[SoftImpute] Iter 34: observed MAE=0.226748 rank=114\n",
      "[SoftImpute] Iter 35: observed MAE=0.226563 rank=113\n",
      "[SoftImpute] Iter 36: observed MAE=0.226401 rank=112\n",
      "[SoftImpute] Iter 37: observed MAE=0.226217 rank=111\n",
      "[SoftImpute] Iter 38: observed MAE=0.226024 rank=110\n",
      "[SoftImpute] Iter 39: observed MAE=0.225870 rank=109\n",
      "[SoftImpute] Iter 40: observed MAE=0.225654 rank=107\n",
      "[SoftImpute] Iter 41: observed MAE=0.225452 rank=106\n",
      "[SoftImpute] Iter 42: observed MAE=0.225261 rank=105\n",
      "[SoftImpute] Iter 43: observed MAE=0.225086 rank=104\n",
      "[SoftImpute] Iter 44: observed MAE=0.224938 rank=104\n",
      "[SoftImpute] Iter 45: observed MAE=0.224819 rank=103\n",
      "[SoftImpute] Iter 46: observed MAE=0.224666 rank=103\n",
      "[SoftImpute] Iter 47: observed MAE=0.224503 rank=101\n",
      "[SoftImpute] Iter 48: observed MAE=0.224325 rank=101\n",
      "[SoftImpute] Iter 49: observed MAE=0.224185 rank=99\n",
      "[SoftImpute] Iter 50: observed MAE=0.223986 rank=98\n",
      "[SoftImpute] Iter 51: observed MAE=0.223807 rank=98\n",
      "[SoftImpute] Iter 52: observed MAE=0.223649 rank=97\n",
      "[SoftImpute] Iter 53: observed MAE=0.223510 rank=97\n",
      "[SoftImpute] Iter 54: observed MAE=0.223380 rank=96\n",
      "[SoftImpute] Iter 55: observed MAE=0.223208 rank=95\n",
      "[SoftImpute] Iter 56: observed MAE=0.223073 rank=95\n",
      "[SoftImpute] Iter 57: observed MAE=0.222939 rank=94\n",
      "[SoftImpute] Iter 58: observed MAE=0.222782 rank=93\n",
      "[SoftImpute] Iter 59: observed MAE=0.222662 rank=93\n",
      "[SoftImpute] Iter 60: observed MAE=0.222564 rank=93\n",
      "[SoftImpute] Iter 61: observed MAE=0.222477 rank=93\n",
      "[SoftImpute] Iter 62: observed MAE=0.222384 rank=92\n",
      "[SoftImpute] Iter 63: observed MAE=0.222253 rank=91\n",
      "[SoftImpute] Iter 64: observed MAE=0.222136 rank=91\n",
      "[SoftImpute] Iter 65: observed MAE=0.222003 rank=90\n",
      "[SoftImpute] Iter 66: observed MAE=0.221899 rank=90\n",
      "[SoftImpute] Iter 67: observed MAE=0.221812 rank=90\n",
      "[SoftImpute] Iter 68: observed MAE=0.221733 rank=90\n",
      "[SoftImpute] Iter 69: observed MAE=0.221637 rank=89\n",
      "[SoftImpute] Iter 70: observed MAE=0.221492 rank=87\n",
      "[SoftImpute] Iter 71: observed MAE=0.221367 rank=87\n",
      "[SoftImpute] Iter 72: observed MAE=0.221273 rank=87\n",
      "[SoftImpute] Iter 73: observed MAE=0.221175 rank=86\n",
      "[SoftImpute] Iter 74: observed MAE=0.221058 rank=85\n",
      "[SoftImpute] Iter 75: observed MAE=0.220935 rank=85\n",
      "[SoftImpute] Iter 76: observed MAE=0.220830 rank=84\n",
      "[SoftImpute] Iter 77: observed MAE=0.220722 rank=84\n",
      "[SoftImpute] Iter 78: observed MAE=0.220636 rank=84\n",
      "[SoftImpute] Iter 79: observed MAE=0.220560 rank=84\n",
      "[SoftImpute] Iter 80: observed MAE=0.220466 rank=83\n",
      "[SoftImpute] Iter 81: observed MAE=0.220384 rank=83\n",
      "[SoftImpute] Iter 82: observed MAE=0.220311 rank=83\n",
      "[SoftImpute] Iter 83: observed MAE=0.220209 rank=82\n",
      "[SoftImpute] Iter 84: observed MAE=0.220121 rank=82\n",
      "[SoftImpute] Iter 85: observed MAE=0.220047 rank=82\n",
      "[SoftImpute] Iter 86: observed MAE=0.219977 rank=82\n",
      "[SoftImpute] Iter 87: observed MAE=0.219886 rank=80\n",
      "[SoftImpute] Iter 88: observed MAE=0.219758 rank=80\n",
      "[SoftImpute] Iter 89: observed MAE=0.219666 rank=80\n",
      "[SoftImpute] Iter 90: observed MAE=0.219561 rank=79\n",
      "[SoftImpute] Iter 91: observed MAE=0.219472 rank=79\n",
      "[SoftImpute] Iter 92: observed MAE=0.219397 rank=79\n",
      "[SoftImpute] Iter 93: observed MAE=0.219311 rank=78\n",
      "[SoftImpute] Iter 94: observed MAE=0.219225 rank=78\n",
      "[SoftImpute] Iter 95: observed MAE=0.219154 rank=78\n",
      "[SoftImpute] Iter 96: observed MAE=0.219073 rank=77\n",
      "[SoftImpute] Iter 97: observed MAE=0.218981 rank=76\n",
      "[SoftImpute] Iter 98: observed MAE=0.218891 rank=76\n",
      "[SoftImpute] Iter 99: observed MAE=0.218820 rank=76\n",
      "[SoftImpute] Iter 100: observed MAE=0.218756 rank=76\n",
      "[SoftImpute] Stopped after iteration 100 for lambda=5.931240\n",
      "✅ Saved imputed file to: imputed_softimpute\\adata_softimpute_imputed_mf30_run4.h5ad\n",
      "\n",
      "Processing dropout_h5ad\\adata_dropout_mf30_run5.h5ad ...\n",
      "Selected 200 HVGs out of 2000 genes\n"
     ]
    },
    {
     "name": "stderr",
     "output_type": "stream",
     "text": [
      "c:\\Users\\prath\\anaconda-new\\Lib\\site-packages\\anndata\\_core\\anndata.py:1791: UserWarning: Observation names are not unique. To make them unique, call `.obs_names_make_unique`.\n",
      "  utils.warn_names_duplicates(\"obs\")\n",
      "c:\\Users\\prath\\anaconda-new\\Lib\\site-packages\\anndata\\_core\\anndata.py:1793: UserWarning: Variable names are not unique. To make them unique, call `.var_names_make_unique`.\n",
      "  utils.warn_names_duplicates(\"var\")\n"
     ]
    },
    {
     "name": "stdout",
     "output_type": "stream",
     "text": [
      "Running SoftImpute on HVGs matrix (14746, 200) ...\n",
      "[SoftImpute] Max Singular Value of X_init = 294.606873\n"
     ]
    },
    {
     "name": "stderr",
     "output_type": "stream",
     "text": [
      "c:\\Users\\prath\\anaconda-new\\Lib\\site-packages\\sklearn\\utils\\deprecation.py:132: FutureWarning: 'force_all_finite' was renamed to 'ensure_all_finite' in 1.6 and will be removed in 1.8.\n",
      "  warnings.warn(\n",
      "c:\\Users\\prath\\anaconda-new\\Lib\\site-packages\\sklearn\\utils\\deprecation.py:132: FutureWarning: 'force_all_finite' was renamed to 'ensure_all_finite' in 1.6 and will be removed in 1.8.\n",
      "  warnings.warn(\n",
      "c:\\Users\\prath\\anaconda-new\\Lib\\site-packages\\sklearn\\utils\\deprecation.py:132: FutureWarning: 'force_all_finite' was renamed to 'ensure_all_finite' in 1.6 and will be removed in 1.8.\n",
      "  warnings.warn(\n"
     ]
    },
    {
     "name": "stdout",
     "output_type": "stream",
     "text": [
      "[SoftImpute] Iter 1: observed MAE=0.236374 rank=170\n",
      "[SoftImpute] Iter 2: observed MAE=0.236417 rank=168\n",
      "[SoftImpute] Iter 3: observed MAE=0.236394 rank=166\n",
      "[SoftImpute] Iter 4: observed MAE=0.236276 rank=162\n",
      "[SoftImpute] Iter 5: observed MAE=0.236113 rank=161\n",
      "[SoftImpute] Iter 6: observed MAE=0.235967 rank=159\n",
      "[SoftImpute] Iter 7: observed MAE=0.235782 rank=156\n",
      "[SoftImpute] Iter 8: observed MAE=0.235616 rank=154\n",
      "[SoftImpute] Iter 9: observed MAE=0.235379 rank=152\n",
      "[SoftImpute] Iter 10: observed MAE=0.235163 rank=150\n",
      "[SoftImpute] Iter 11: observed MAE=0.234957 rank=149\n",
      "[SoftImpute] Iter 12: observed MAE=0.234772 rank=146\n",
      "[SoftImpute] Iter 13: observed MAE=0.234661 rank=145\n",
      "[SoftImpute] Iter 14: observed MAE=0.234542 rank=142\n",
      "[SoftImpute] Iter 15: observed MAE=0.234490 rank=141\n",
      "[SoftImpute] Iter 16: observed MAE=0.234443 rank=139\n",
      "[SoftImpute] Iter 17: observed MAE=0.234372 rank=138\n",
      "[SoftImpute] Iter 18: observed MAE=0.234273 rank=136\n",
      "[SoftImpute] Iter 19: observed MAE=0.234165 rank=134\n",
      "[SoftImpute] Iter 20: observed MAE=0.233982 rank=132\n",
      "[SoftImpute] Iter 21: observed MAE=0.233812 rank=130\n",
      "[SoftImpute] Iter 22: observed MAE=0.233671 rank=128\n",
      "[SoftImpute] Iter 23: observed MAE=0.233487 rank=126\n",
      "[SoftImpute] Iter 24: observed MAE=0.233249 rank=124\n",
      "[SoftImpute] Iter 25: observed MAE=0.233063 rank=123\n",
      "[SoftImpute] Iter 26: observed MAE=0.232902 rank=121\n",
      "[SoftImpute] Iter 27: observed MAE=0.232708 rank=121\n",
      "[SoftImpute] Iter 28: observed MAE=0.232586 rank=120\n",
      "[SoftImpute] Iter 29: observed MAE=0.232432 rank=118\n",
      "[SoftImpute] Iter 30: observed MAE=0.232208 rank=117\n",
      "[SoftImpute] Iter 31: observed MAE=0.232013 rank=116\n",
      "[SoftImpute] Iter 32: observed MAE=0.231799 rank=114\n",
      "[SoftImpute] Iter 33: observed MAE=0.231627 rank=113\n",
      "[SoftImpute] Iter 34: observed MAE=0.231449 rank=112\n",
      "[SoftImpute] Iter 35: observed MAE=0.231291 rank=111\n",
      "[SoftImpute] Iter 36: observed MAE=0.231120 rank=111\n",
      "[SoftImpute] Iter 37: observed MAE=0.230943 rank=109\n",
      "[SoftImpute] Iter 38: observed MAE=0.230778 rank=109\n",
      "[SoftImpute] Iter 39: observed MAE=0.230652 rank=108\n",
      "[SoftImpute] Iter 40: observed MAE=0.230501 rank=108\n",
      "[SoftImpute] Iter 41: observed MAE=0.230374 rank=107\n",
      "[SoftImpute] Iter 42: observed MAE=0.230207 rank=105\n",
      "[SoftImpute] Iter 43: observed MAE=0.230020 rank=105\n",
      "[SoftImpute] Iter 44: observed MAE=0.229827 rank=103\n",
      "[SoftImpute] Iter 45: observed MAE=0.229635 rank=102\n",
      "[SoftImpute] Iter 46: observed MAE=0.229484 rank=102\n",
      "[SoftImpute] Iter 47: observed MAE=0.229336 rank=100\n",
      "[SoftImpute] Iter 48: observed MAE=0.229163 rank=100\n",
      "[SoftImpute] Iter 49: observed MAE=0.228991 rank=98\n",
      "[SoftImpute] Iter 50: observed MAE=0.228816 rank=98\n",
      "[SoftImpute] Iter 51: observed MAE=0.228655 rank=97\n",
      "[SoftImpute] Iter 52: observed MAE=0.228513 rank=96\n",
      "[SoftImpute] Iter 53: observed MAE=0.228378 rank=96\n",
      "[SoftImpute] Iter 54: observed MAE=0.228270 rank=96\n",
      "[SoftImpute] Iter 55: observed MAE=0.228101 rank=94\n",
      "[SoftImpute] Iter 56: observed MAE=0.227967 rank=94\n",
      "[SoftImpute] Iter 57: observed MAE=0.227859 rank=93\n",
      "[SoftImpute] Iter 58: observed MAE=0.227696 rank=92\n",
      "[SoftImpute] Iter 59: observed MAE=0.227572 rank=91\n",
      "[SoftImpute] Iter 60: observed MAE=0.227420 rank=91\n",
      "[SoftImpute] Iter 61: observed MAE=0.227315 rank=91\n",
      "[SoftImpute] Iter 62: observed MAE=0.227226 rank=91\n",
      "[SoftImpute] Iter 63: observed MAE=0.227146 rank=91\n",
      "[SoftImpute] Iter 64: observed MAE=0.227037 rank=90\n",
      "[SoftImpute] Iter 65: observed MAE=0.226945 rank=89\n",
      "[SoftImpute] Iter 66: observed MAE=0.226816 rank=89\n",
      "[SoftImpute] Iter 67: observed MAE=0.226690 rank=88\n",
      "[SoftImpute] Iter 68: observed MAE=0.226587 rank=88\n",
      "[SoftImpute] Iter 69: observed MAE=0.226477 rank=87\n",
      "[SoftImpute] Iter 70: observed MAE=0.226371 rank=86\n",
      "[SoftImpute] Iter 71: observed MAE=0.226248 rank=85\n",
      "[SoftImpute] Iter 72: observed MAE=0.226113 rank=85\n",
      "[SoftImpute] Iter 73: observed MAE=0.226012 rank=85\n",
      "[SoftImpute] Iter 74: observed MAE=0.225919 rank=84\n",
      "[SoftImpute] Iter 75: observed MAE=0.225807 rank=84\n",
      "[SoftImpute] Iter 76: observed MAE=0.225676 rank=83\n",
      "[SoftImpute] Iter 77: observed MAE=0.225575 rank=83\n",
      "[SoftImpute] Iter 78: observed MAE=0.225488 rank=83\n",
      "[SoftImpute] Iter 79: observed MAE=0.225400 rank=82\n",
      "[SoftImpute] Iter 80: observed MAE=0.225295 rank=82\n",
      "[SoftImpute] Iter 81: observed MAE=0.225211 rank=82\n",
      "[SoftImpute] Iter 82: observed MAE=0.225119 rank=81\n",
      "[SoftImpute] Iter 83: observed MAE=0.225008 rank=80\n",
      "[SoftImpute] Iter 84: observed MAE=0.224891 rank=80\n",
      "[SoftImpute] Iter 85: observed MAE=0.224759 rank=79\n",
      "[SoftImpute] Iter 86: observed MAE=0.224625 rank=78\n",
      "[SoftImpute] Iter 87: observed MAE=0.224524 rank=78\n",
      "[SoftImpute] Iter 88: observed MAE=0.224439 rank=78\n",
      "[SoftImpute] Iter 89: observed MAE=0.224361 rank=78\n",
      "[SoftImpute] Iter 90: observed MAE=0.224268 rank=77\n",
      "[SoftImpute] Iter 91: observed MAE=0.224174 rank=77\n",
      "[SoftImpute] Iter 92: observed MAE=0.224096 rank=77\n",
      "[SoftImpute] Iter 93: observed MAE=0.224024 rank=77\n",
      "[SoftImpute] Iter 94: observed MAE=0.223956 rank=77\n",
      "[SoftImpute] Iter 95: observed MAE=0.223889 rank=77\n",
      "[SoftImpute] Iter 96: observed MAE=0.223812 rank=76\n",
      "[SoftImpute] Iter 97: observed MAE=0.223689 rank=75\n",
      "[SoftImpute] Iter 98: observed MAE=0.223593 rank=75\n",
      "[SoftImpute] Iter 99: observed MAE=0.223493 rank=74\n",
      "[SoftImpute] Iter 100: observed MAE=0.223400 rank=74\n",
      "[SoftImpute] Stopped after iteration 100 for lambda=5.892137\n",
      "✅ Saved imputed file to: imputed_softimpute\\adata_softimpute_imputed_mf30_run5.h5ad\n",
      "\n",
      "Processing dropout_h5ad\\adata_dropout_mf30_run6.h5ad ...\n",
      "Selected 200 HVGs out of 2000 genes\n"
     ]
    },
    {
     "name": "stderr",
     "output_type": "stream",
     "text": [
      "c:\\Users\\prath\\anaconda-new\\Lib\\site-packages\\anndata\\_core\\anndata.py:1791: UserWarning: Observation names are not unique. To make them unique, call `.obs_names_make_unique`.\n",
      "  utils.warn_names_duplicates(\"obs\")\n",
      "c:\\Users\\prath\\anaconda-new\\Lib\\site-packages\\anndata\\_core\\anndata.py:1793: UserWarning: Variable names are not unique. To make them unique, call `.var_names_make_unique`.\n",
      "  utils.warn_names_duplicates(\"var\")\n"
     ]
    },
    {
     "name": "stdout",
     "output_type": "stream",
     "text": [
      "Running SoftImpute on HVGs matrix (14746, 200) ...\n",
      "[SoftImpute] Max Singular Value of X_init = 288.746521\n"
     ]
    },
    {
     "name": "stderr",
     "output_type": "stream",
     "text": [
      "c:\\Users\\prath\\anaconda-new\\Lib\\site-packages\\sklearn\\utils\\deprecation.py:132: FutureWarning: 'force_all_finite' was renamed to 'ensure_all_finite' in 1.6 and will be removed in 1.8.\n",
      "  warnings.warn(\n",
      "c:\\Users\\prath\\anaconda-new\\Lib\\site-packages\\sklearn\\utils\\deprecation.py:132: FutureWarning: 'force_all_finite' was renamed to 'ensure_all_finite' in 1.6 and will be removed in 1.8.\n",
      "  warnings.warn(\n",
      "c:\\Users\\prath\\anaconda-new\\Lib\\site-packages\\sklearn\\utils\\deprecation.py:132: FutureWarning: 'force_all_finite' was renamed to 'ensure_all_finite' in 1.6 and will be removed in 1.8.\n",
      "  warnings.warn(\n"
     ]
    },
    {
     "name": "stdout",
     "output_type": "stream",
     "text": [
      "[SoftImpute] Iter 1: observed MAE=0.231918 rank=171\n",
      "[SoftImpute] Iter 2: observed MAE=0.231922 rank=169\n",
      "[SoftImpute] Iter 3: observed MAE=0.231848 rank=168\n",
      "[SoftImpute] Iter 4: observed MAE=0.231706 rank=163\n",
      "[SoftImpute] Iter 5: observed MAE=0.231475 rank=162\n",
      "[SoftImpute] Iter 6: observed MAE=0.231194 rank=158\n",
      "[SoftImpute] Iter 7: observed MAE=0.230890 rank=154\n",
      "[SoftImpute] Iter 8: observed MAE=0.230622 rank=153\n",
      "[SoftImpute] Iter 9: observed MAE=0.230389 rank=152\n",
      "[SoftImpute] Iter 10: observed MAE=0.230180 rank=151\n",
      "[SoftImpute] Iter 11: observed MAE=0.229971 rank=149\n",
      "[SoftImpute] Iter 12: observed MAE=0.229758 rank=146\n",
      "[SoftImpute] Iter 13: observed MAE=0.229482 rank=143\n",
      "[SoftImpute] Iter 14: observed MAE=0.229271 rank=142\n",
      "[SoftImpute] Iter 15: observed MAE=0.229094 rank=139\n",
      "[SoftImpute] Iter 16: observed MAE=0.228911 rank=138\n",
      "[SoftImpute] Iter 17: observed MAE=0.228718 rank=136\n",
      "[SoftImpute] Iter 18: observed MAE=0.228551 rank=135\n",
      "[SoftImpute] Iter 19: observed MAE=0.228406 rank=134\n",
      "[SoftImpute] Iter 20: observed MAE=0.228173 rank=132\n",
      "[SoftImpute] Iter 21: observed MAE=0.228005 rank=131\n",
      "[SoftImpute] Iter 22: observed MAE=0.227848 rank=129\n",
      "[SoftImpute] Iter 23: observed MAE=0.227668 rank=127\n",
      "[SoftImpute] Iter 24: observed MAE=0.227454 rank=125\n",
      "[SoftImpute] Iter 25: observed MAE=0.227180 rank=123\n",
      "[SoftImpute] Iter 26: observed MAE=0.226952 rank=121\n",
      "[SoftImpute] Iter 27: observed MAE=0.226760 rank=120\n",
      "[SoftImpute] Iter 28: observed MAE=0.226562 rank=119\n",
      "[SoftImpute] Iter 29: observed MAE=0.226407 rank=118\n",
      "[SoftImpute] Iter 30: observed MAE=0.226246 rank=117\n",
      "[SoftImpute] Iter 31: observed MAE=0.226101 rank=116\n",
      "[SoftImpute] Iter 32: observed MAE=0.225891 rank=114\n",
      "[SoftImpute] Iter 33: observed MAE=0.225704 rank=113\n",
      "[SoftImpute] Iter 34: observed MAE=0.225505 rank=112\n",
      "[SoftImpute] Iter 35: observed MAE=0.225353 rank=111\n",
      "[SoftImpute] Iter 36: observed MAE=0.225136 rank=109\n",
      "[SoftImpute] Iter 37: observed MAE=0.224935 rank=108\n",
      "[SoftImpute] Iter 38: observed MAE=0.224778 rank=108\n",
      "[SoftImpute] Iter 39: observed MAE=0.224613 rank=107\n",
      "[SoftImpute] Iter 40: observed MAE=0.224483 rank=106\n",
      "[SoftImpute] Iter 41: observed MAE=0.224286 rank=105\n",
      "[SoftImpute] Iter 42: observed MAE=0.224150 rank=104\n",
      "[SoftImpute] Iter 43: observed MAE=0.223992 rank=103\n",
      "[SoftImpute] Iter 44: observed MAE=0.223806 rank=102\n",
      "[SoftImpute] Iter 45: observed MAE=0.223668 rank=102\n",
      "[SoftImpute] Iter 46: observed MAE=0.223513 rank=101\n",
      "[SoftImpute] Iter 47: observed MAE=0.223395 rank=100\n",
      "[SoftImpute] Iter 48: observed MAE=0.223247 rank=100\n",
      "[SoftImpute] Iter 49: observed MAE=0.223090 rank=98\n",
      "[SoftImpute] Iter 50: observed MAE=0.222926 rank=98\n",
      "[SoftImpute] Iter 51: observed MAE=0.222811 rank=98\n",
      "[SoftImpute] Iter 52: observed MAE=0.222703 rank=97\n",
      "[SoftImpute] Iter 53: observed MAE=0.222579 rank=97\n",
      "[SoftImpute] Iter 54: observed MAE=0.222447 rank=95\n",
      "[SoftImpute] Iter 55: observed MAE=0.222292 rank=95\n",
      "[SoftImpute] Iter 56: observed MAE=0.222174 rank=94\n",
      "[SoftImpute] Iter 57: observed MAE=0.222013 rank=93\n",
      "[SoftImpute] Iter 58: observed MAE=0.221874 rank=93\n",
      "[SoftImpute] Iter 59: observed MAE=0.221775 rank=93\n",
      "[SoftImpute] Iter 60: observed MAE=0.221660 rank=92\n",
      "[SoftImpute] Iter 61: observed MAE=0.221552 rank=91\n",
      "[SoftImpute] Iter 62: observed MAE=0.221399 rank=90\n",
      "[SoftImpute] Iter 63: observed MAE=0.221257 rank=89\n",
      "[SoftImpute] Iter 64: observed MAE=0.221133 rank=89\n",
      "[SoftImpute] Iter 65: observed MAE=0.221038 rank=89\n",
      "[SoftImpute] Iter 66: observed MAE=0.220916 rank=88\n",
      "[SoftImpute] Iter 67: observed MAE=0.220796 rank=87\n",
      "[SoftImpute] Iter 68: observed MAE=0.220691 rank=87\n",
      "[SoftImpute] Iter 69: observed MAE=0.220577 rank=86\n",
      "[SoftImpute] Iter 70: observed MAE=0.220483 rank=86\n",
      "[SoftImpute] Iter 71: observed MAE=0.220404 rank=86\n",
      "[SoftImpute] Iter 72: observed MAE=0.220309 rank=85\n",
      "[SoftImpute] Iter 73: observed MAE=0.220222 rank=85\n",
      "[SoftImpute] Iter 74: observed MAE=0.220146 rank=85\n",
      "[SoftImpute] Iter 75: observed MAE=0.220077 rank=85\n",
      "[SoftImpute] Iter 76: observed MAE=0.219973 rank=84\n",
      "[SoftImpute] Iter 77: observed MAE=0.219892 rank=84\n",
      "[SoftImpute] Iter 78: observed MAE=0.219804 rank=83\n",
      "[SoftImpute] Iter 79: observed MAE=0.219697 rank=83\n",
      "[SoftImpute] Iter 80: observed MAE=0.219618 rank=83\n",
      "[SoftImpute] Iter 81: observed MAE=0.219523 rank=82\n",
      "[SoftImpute] Iter 82: observed MAE=0.219441 rank=82\n",
      "[SoftImpute] Iter 83: observed MAE=0.219337 rank=81\n",
      "[SoftImpute] Iter 84: observed MAE=0.219253 rank=81\n",
      "[SoftImpute] Iter 85: observed MAE=0.219162 rank=80\n",
      "[SoftImpute] Iter 86: observed MAE=0.219080 rank=80\n",
      "[SoftImpute] Iter 87: observed MAE=0.219011 rank=80\n",
      "[SoftImpute] Iter 88: observed MAE=0.218941 rank=79\n",
      "[SoftImpute] Iter 89: observed MAE=0.218842 rank=79\n",
      "[SoftImpute] Iter 90: observed MAE=0.218767 rank=79\n",
      "[SoftImpute] Iter 91: observed MAE=0.218701 rank=79\n",
      "[SoftImpute] Iter 92: observed MAE=0.218612 rank=78\n",
      "[SoftImpute] Iter 93: observed MAE=0.218535 rank=78\n",
      "[SoftImpute] Iter 94: observed MAE=0.218456 rank=77\n",
      "[SoftImpute] Iter 95: observed MAE=0.218375 rank=77\n",
      "[SoftImpute] Iter 96: observed MAE=0.218295 rank=76\n",
      "[SoftImpute] Iter 97: observed MAE=0.218215 rank=76\n",
      "[SoftImpute] Iter 98: observed MAE=0.218148 rank=76\n",
      "[SoftImpute] Iter 99: observed MAE=0.218088 rank=76\n",
      "[SoftImpute] Iter 100: observed MAE=0.218030 rank=76\n",
      "[SoftImpute] Stopped after iteration 100 for lambda=5.774930\n",
      "✅ Saved imputed file to: imputed_softimpute\\adata_softimpute_imputed_mf30_run6.h5ad\n",
      "\n",
      "Processing dropout_h5ad\\adata_dropout_mf30_run7.h5ad ...\n"
     ]
    },
    {
     "name": "stderr",
     "output_type": "stream",
     "text": [
      "c:\\Users\\prath\\anaconda-new\\Lib\\site-packages\\anndata\\_core\\anndata.py:1791: UserWarning: Observation names are not unique. To make them unique, call `.obs_names_make_unique`.\n",
      "  utils.warn_names_duplicates(\"obs\")\n",
      "c:\\Users\\prath\\anaconda-new\\Lib\\site-packages\\anndata\\_core\\anndata.py:1793: UserWarning: Variable names are not unique. To make them unique, call `.var_names_make_unique`.\n",
      "  utils.warn_names_duplicates(\"var\")\n",
      "c:\\Users\\prath\\anaconda-new\\Lib\\site-packages\\sklearn\\utils\\deprecation.py:132: FutureWarning: 'force_all_finite' was renamed to 'ensure_all_finite' in 1.6 and will be removed in 1.8.\n",
      "  warnings.warn(\n",
      "c:\\Users\\prath\\anaconda-new\\Lib\\site-packages\\sklearn\\utils\\deprecation.py:132: FutureWarning: 'force_all_finite' was renamed to 'ensure_all_finite' in 1.6 and will be removed in 1.8.\n",
      "  warnings.warn(\n",
      "c:\\Users\\prath\\anaconda-new\\Lib\\site-packages\\sklearn\\utils\\deprecation.py:132: FutureWarning: 'force_all_finite' was renamed to 'ensure_all_finite' in 1.6 and will be removed in 1.8.\n",
      "  warnings.warn(\n"
     ]
    },
    {
     "name": "stdout",
     "output_type": "stream",
     "text": [
      "Selected 200 HVGs out of 2000 genes\n",
      "Running SoftImpute on HVGs matrix (14746, 200) ...\n",
      "[SoftImpute] Max Singular Value of X_init = 289.161194\n",
      "[SoftImpute] Iter 1: observed MAE=0.231653 rank=171\n",
      "[SoftImpute] Iter 2: observed MAE=0.231744 rank=170\n",
      "[SoftImpute] Iter 3: observed MAE=0.231761 rank=167\n",
      "[SoftImpute] Iter 4: observed MAE=0.231678 rank=167\n",
      "[SoftImpute] Iter 5: observed MAE=0.231589 rank=165\n",
      "[SoftImpute] Iter 6: observed MAE=0.231491 rank=164\n",
      "[SoftImpute] Iter 7: observed MAE=0.231364 rank=163\n",
      "[SoftImpute] Iter 8: observed MAE=0.231144 rank=159\n",
      "[SoftImpute] Iter 9: observed MAE=0.230897 rank=156\n",
      "[SoftImpute] Iter 10: observed MAE=0.230664 rank=154\n",
      "[SoftImpute] Iter 11: observed MAE=0.230453 rank=152\n",
      "[SoftImpute] Iter 12: observed MAE=0.230291 rank=151\n",
      "[SoftImpute] Iter 13: observed MAE=0.230162 rank=149\n",
      "[SoftImpute] Iter 14: observed MAE=0.230023 rank=147\n",
      "[SoftImpute] Iter 15: observed MAE=0.229910 rank=145\n",
      "[SoftImpute] Iter 16: observed MAE=0.229781 rank=143\n",
      "[SoftImpute] Iter 17: observed MAE=0.229644 rank=141\n",
      "[SoftImpute] Iter 18: observed MAE=0.229462 rank=138\n",
      "[SoftImpute] Iter 19: observed MAE=0.229275 rank=137\n",
      "[SoftImpute] Iter 20: observed MAE=0.229111 rank=136\n",
      "[SoftImpute] Iter 21: observed MAE=0.228973 rank=134\n",
      "[SoftImpute] Iter 22: observed MAE=0.228862 rank=134\n",
      "[SoftImpute] Iter 23: observed MAE=0.228727 rank=132\n",
      "[SoftImpute] Iter 24: observed MAE=0.228553 rank=131\n",
      "[SoftImpute] Iter 25: observed MAE=0.228382 rank=129\n",
      "[SoftImpute] Iter 26: observed MAE=0.228223 rank=128\n",
      "[SoftImpute] Iter 27: observed MAE=0.228060 rank=127\n",
      "[SoftImpute] Iter 28: observed MAE=0.227917 rank=126\n",
      "[SoftImpute] Iter 29: observed MAE=0.227775 rank=124\n",
      "[SoftImpute] Iter 30: observed MAE=0.227585 rank=123\n",
      "[SoftImpute] Iter 31: observed MAE=0.227407 rank=122\n",
      "[SoftImpute] Iter 32: observed MAE=0.227226 rank=121\n",
      "[SoftImpute] Iter 33: observed MAE=0.227064 rank=119\n",
      "[SoftImpute] Iter 34: observed MAE=0.226893 rank=118\n",
      "[SoftImpute] Iter 35: observed MAE=0.226692 rank=117\n",
      "[SoftImpute] Iter 36: observed MAE=0.226511 rank=116\n",
      "[SoftImpute] Iter 37: observed MAE=0.226349 rank=115\n",
      "[SoftImpute] Iter 38: observed MAE=0.226179 rank=114\n",
      "[SoftImpute] Iter 39: observed MAE=0.225986 rank=113\n",
      "[SoftImpute] Iter 40: observed MAE=0.225862 rank=113\n",
      "[SoftImpute] Iter 41: observed MAE=0.225692 rank=111\n",
      "[SoftImpute] Iter 42: observed MAE=0.225543 rank=110\n",
      "[SoftImpute] Iter 43: observed MAE=0.225359 rank=109\n",
      "[SoftImpute] Iter 44: observed MAE=0.225144 rank=107\n",
      "[SoftImpute] Iter 45: observed MAE=0.224937 rank=107\n",
      "[SoftImpute] Iter 46: observed MAE=0.224800 rank=107\n",
      "[SoftImpute] Iter 47: observed MAE=0.224680 rank=106\n",
      "[SoftImpute] Iter 48: observed MAE=0.224530 rank=105\n",
      "[SoftImpute] Iter 49: observed MAE=0.224376 rank=105\n",
      "[SoftImpute] Iter 50: observed MAE=0.224237 rank=104\n",
      "[SoftImpute] Iter 51: observed MAE=0.224047 rank=102\n",
      "[SoftImpute] Iter 52: observed MAE=0.223872 rank=102\n",
      "[SoftImpute] Iter 53: observed MAE=0.223712 rank=101\n",
      "[SoftImpute] Iter 54: observed MAE=0.223581 rank=101\n",
      "[SoftImpute] Iter 55: observed MAE=0.223474 rank=101\n",
      "[SoftImpute] Iter 56: observed MAE=0.223324 rank=99\n",
      "[SoftImpute] Iter 57: observed MAE=0.223167 rank=99\n",
      "[SoftImpute] Iter 58: observed MAE=0.223046 rank=98\n",
      "[SoftImpute] Iter 59: observed MAE=0.222909 rank=98\n",
      "[SoftImpute] Iter 60: observed MAE=0.222769 rank=97\n",
      "[SoftImpute] Iter 61: observed MAE=0.222624 rank=96\n",
      "[SoftImpute] Iter 62: observed MAE=0.222512 rank=95\n",
      "[SoftImpute] Iter 63: observed MAE=0.222373 rank=95\n",
      "[SoftImpute] Iter 64: observed MAE=0.222241 rank=94\n",
      "[SoftImpute] Iter 65: observed MAE=0.222094 rank=93\n",
      "[SoftImpute] Iter 66: observed MAE=0.221966 rank=93\n",
      "[SoftImpute] Iter 67: observed MAE=0.221856 rank=92\n",
      "[SoftImpute] Iter 68: observed MAE=0.221750 rank=92\n",
      "[SoftImpute] Iter 69: observed MAE=0.221661 rank=92\n",
      "[SoftImpute] Iter 70: observed MAE=0.221580 rank=92\n",
      "[SoftImpute] Iter 71: observed MAE=0.221502 rank=92\n",
      "[SoftImpute] Iter 72: observed MAE=0.221402 rank=91\n",
      "[SoftImpute] Iter 73: observed MAE=0.221278 rank=90\n",
      "[SoftImpute] Iter 74: observed MAE=0.221156 rank=89\n",
      "[SoftImpute] Iter 75: observed MAE=0.221039 rank=89\n",
      "[SoftImpute] Iter 76: observed MAE=0.220941 rank=89\n",
      "[SoftImpute] Iter 77: observed MAE=0.220836 rank=88\n",
      "[SoftImpute] Iter 78: observed MAE=0.220730 rank=88\n",
      "[SoftImpute] Iter 79: observed MAE=0.220620 rank=87\n",
      "[SoftImpute] Iter 80: observed MAE=0.220520 rank=86\n",
      "[SoftImpute] Iter 81: observed MAE=0.220401 rank=86\n",
      "[SoftImpute] Iter 82: observed MAE=0.220276 rank=85\n",
      "[SoftImpute] Iter 83: observed MAE=0.220178 rank=85\n",
      "[SoftImpute] Iter 84: observed MAE=0.220092 rank=85\n",
      "[SoftImpute] Iter 85: observed MAE=0.220010 rank=85\n",
      "[SoftImpute] Iter 86: observed MAE=0.219907 rank=84\n",
      "[SoftImpute] Iter 87: observed MAE=0.219781 rank=83\n",
      "[SoftImpute] Iter 88: observed MAE=0.219681 rank=83\n",
      "[SoftImpute] Iter 89: observed MAE=0.219594 rank=82\n",
      "[SoftImpute] Iter 90: observed MAE=0.219487 rank=82\n",
      "[SoftImpute] Iter 91: observed MAE=0.219377 rank=81\n",
      "[SoftImpute] Iter 92: observed MAE=0.219281 rank=81\n",
      "[SoftImpute] Iter 93: observed MAE=0.219198 rank=81\n",
      "[SoftImpute] Iter 94: observed MAE=0.219122 rank=81\n",
      "[SoftImpute] Iter 95: observed MAE=0.219049 rank=81\n",
      "[SoftImpute] Iter 96: observed MAE=0.218977 rank=80\n",
      "[SoftImpute] Iter 97: observed MAE=0.218886 rank=80\n",
      "[SoftImpute] Iter 98: observed MAE=0.218788 rank=79\n",
      "[SoftImpute] Iter 99: observed MAE=0.218701 rank=79\n",
      "[SoftImpute] Iter 100: observed MAE=0.218625 rank=79\n",
      "[SoftImpute] Stopped after iteration 100 for lambda=5.783224\n",
      "✅ Saved imputed file to: imputed_softimpute\\adata_softimpute_imputed_mf30_run7.h5ad\n",
      "\n",
      "Processing dropout_h5ad\\adata_dropout_mf30_run8.h5ad ...\n",
      "Selected 200 HVGs out of 2000 genes\n"
     ]
    },
    {
     "name": "stderr",
     "output_type": "stream",
     "text": [
      "c:\\Users\\prath\\anaconda-new\\Lib\\site-packages\\anndata\\_core\\anndata.py:1791: UserWarning: Observation names are not unique. To make them unique, call `.obs_names_make_unique`.\n",
      "  utils.warn_names_duplicates(\"obs\")\n",
      "c:\\Users\\prath\\anaconda-new\\Lib\\site-packages\\anndata\\_core\\anndata.py:1793: UserWarning: Variable names are not unique. To make them unique, call `.var_names_make_unique`.\n",
      "  utils.warn_names_duplicates(\"var\")\n"
     ]
    },
    {
     "name": "stdout",
     "output_type": "stream",
     "text": [
      "Running SoftImpute on HVGs matrix (14746, 200) ...\n",
      "[SoftImpute] Max Singular Value of X_init = 286.116241\n"
     ]
    },
    {
     "name": "stderr",
     "output_type": "stream",
     "text": [
      "c:\\Users\\prath\\anaconda-new\\Lib\\site-packages\\sklearn\\utils\\deprecation.py:132: FutureWarning: 'force_all_finite' was renamed to 'ensure_all_finite' in 1.6 and will be removed in 1.8.\n",
      "  warnings.warn(\n",
      "c:\\Users\\prath\\anaconda-new\\Lib\\site-packages\\sklearn\\utils\\deprecation.py:132: FutureWarning: 'force_all_finite' was renamed to 'ensure_all_finite' in 1.6 and will be removed in 1.8.\n",
      "  warnings.warn(\n",
      "c:\\Users\\prath\\anaconda-new\\Lib\\site-packages\\sklearn\\utils\\deprecation.py:132: FutureWarning: 'force_all_finite' was renamed to 'ensure_all_finite' in 1.6 and will be removed in 1.8.\n",
      "  warnings.warn(\n"
     ]
    },
    {
     "name": "stdout",
     "output_type": "stream",
     "text": [
      "[SoftImpute] Iter 1: observed MAE=0.231145 rank=170\n",
      "[SoftImpute] Iter 2: observed MAE=0.231157 rank=169\n",
      "[SoftImpute] Iter 3: observed MAE=0.231084 rank=166\n",
      "[SoftImpute] Iter 4: observed MAE=0.230978 rank=166\n",
      "[SoftImpute] Iter 5: observed MAE=0.230845 rank=163\n",
      "[SoftImpute] Iter 6: observed MAE=0.230663 rank=161\n",
      "[SoftImpute] Iter 7: observed MAE=0.230456 rank=158\n",
      "[SoftImpute] Iter 8: observed MAE=0.230258 rank=157\n",
      "[SoftImpute] Iter 9: observed MAE=0.230061 rank=154\n",
      "[SoftImpute] Iter 10: observed MAE=0.229900 rank=153\n",
      "[SoftImpute] Iter 11: observed MAE=0.229740 rank=150\n",
      "[SoftImpute] Iter 12: observed MAE=0.229534 rank=147\n",
      "[SoftImpute] Iter 13: observed MAE=0.229382 rank=146\n",
      "[SoftImpute] Iter 14: observed MAE=0.229253 rank=145\n",
      "[SoftImpute] Iter 15: observed MAE=0.229107 rank=142\n",
      "[SoftImpute] Iter 16: observed MAE=0.228923 rank=140\n",
      "[SoftImpute] Iter 17: observed MAE=0.228795 rank=139\n",
      "[SoftImpute] Iter 18: observed MAE=0.228669 rank=136\n",
      "[SoftImpute] Iter 19: observed MAE=0.228521 rank=135\n",
      "[SoftImpute] Iter 20: observed MAE=0.228422 rank=134\n",
      "[SoftImpute] Iter 21: observed MAE=0.228315 rank=133\n",
      "[SoftImpute] Iter 22: observed MAE=0.228120 rank=130\n",
      "[SoftImpute] Iter 23: observed MAE=0.227923 rank=129\n",
      "[SoftImpute] Iter 24: observed MAE=0.227739 rank=127\n",
      "[SoftImpute] Iter 25: observed MAE=0.227563 rank=126\n",
      "[SoftImpute] Iter 26: observed MAE=0.227382 rank=124\n",
      "[SoftImpute] Iter 27: observed MAE=0.227195 rank=122\n",
      "[SoftImpute] Iter 28: observed MAE=0.227036 rank=122\n",
      "[SoftImpute] Iter 29: observed MAE=0.226878 rank=119\n",
      "[SoftImpute] Iter 30: observed MAE=0.226668 rank=118\n",
      "[SoftImpute] Iter 31: observed MAE=0.226516 rank=117\n",
      "[SoftImpute] Iter 32: observed MAE=0.226372 rank=117\n",
      "[SoftImpute] Iter 33: observed MAE=0.226233 rank=115\n",
      "[SoftImpute] Iter 34: observed MAE=0.226037 rank=113\n",
      "[SoftImpute] Iter 35: observed MAE=0.225809 rank=112\n",
      "[SoftImpute] Iter 36: observed MAE=0.225630 rank=111\n",
      "[SoftImpute] Iter 37: observed MAE=0.225476 rank=111\n",
      "[SoftImpute] Iter 38: observed MAE=0.225300 rank=109\n",
      "[SoftImpute] Iter 39: observed MAE=0.225141 rank=109\n",
      "[SoftImpute] Iter 40: observed MAE=0.224986 rank=108\n",
      "[SoftImpute] Iter 41: observed MAE=0.224833 rank=107\n",
      "[SoftImpute] Iter 42: observed MAE=0.224697 rank=106\n",
      "[SoftImpute] Iter 43: observed MAE=0.224506 rank=105\n",
      "[SoftImpute] Iter 44: observed MAE=0.224347 rank=104\n",
      "[SoftImpute] Iter 45: observed MAE=0.224190 rank=104\n",
      "[SoftImpute] Iter 46: observed MAE=0.224034 rank=102\n",
      "[SoftImpute] Iter 47: observed MAE=0.223856 rank=102\n",
      "[SoftImpute] Iter 48: observed MAE=0.223707 rank=101\n",
      "[SoftImpute] Iter 49: observed MAE=0.223514 rank=100\n",
      "[SoftImpute] Iter 50: observed MAE=0.223359 rank=99\n",
      "[SoftImpute] Iter 51: observed MAE=0.223203 rank=98\n",
      "[SoftImpute] Iter 52: observed MAE=0.223044 rank=98\n",
      "[SoftImpute] Iter 53: observed MAE=0.222920 rank=97\n",
      "[SoftImpute] Iter 54: observed MAE=0.222790 rank=96\n",
      "[SoftImpute] Iter 55: observed MAE=0.222640 rank=96\n",
      "[SoftImpute] Iter 56: observed MAE=0.222530 rank=96\n",
      "[SoftImpute] Iter 57: observed MAE=0.222400 rank=95\n",
      "[SoftImpute] Iter 58: observed MAE=0.222291 rank=95\n",
      "[SoftImpute] Iter 59: observed MAE=0.222163 rank=94\n",
      "[SoftImpute] Iter 60: observed MAE=0.222057 rank=94\n",
      "[SoftImpute] Iter 61: observed MAE=0.221945 rank=93\n",
      "[SoftImpute] Iter 62: observed MAE=0.221827 rank=92\n",
      "[SoftImpute] Iter 63: observed MAE=0.221705 rank=91\n",
      "[SoftImpute] Iter 64: observed MAE=0.221575 rank=91\n",
      "[SoftImpute] Iter 65: observed MAE=0.221475 rank=91\n",
      "[SoftImpute] Iter 66: observed MAE=0.221341 rank=89\n",
      "[SoftImpute] Iter 67: observed MAE=0.221219 rank=89\n",
      "[SoftImpute] Iter 68: observed MAE=0.221097 rank=88\n",
      "[SoftImpute] Iter 69: observed MAE=0.220989 rank=88\n",
      "[SoftImpute] Iter 70: observed MAE=0.220886 rank=87\n",
      "[SoftImpute] Iter 71: observed MAE=0.220779 rank=87\n",
      "[SoftImpute] Iter 72: observed MAE=0.220691 rank=87\n",
      "[SoftImpute] Iter 73: observed MAE=0.220609 rank=86\n",
      "[SoftImpute] Iter 74: observed MAE=0.220500 rank=86\n",
      "[SoftImpute] Iter 75: observed MAE=0.220399 rank=85\n",
      "[SoftImpute] Iter 76: observed MAE=0.220294 rank=84\n",
      "[SoftImpute] Iter 77: observed MAE=0.220171 rank=84\n",
      "[SoftImpute] Iter 78: observed MAE=0.220079 rank=84\n",
      "[SoftImpute] Iter 79: observed MAE=0.220000 rank=84\n",
      "[SoftImpute] Iter 80: observed MAE=0.219910 rank=83\n",
      "[SoftImpute] Iter 81: observed MAE=0.219809 rank=82\n",
      "[SoftImpute] Iter 82: observed MAE=0.219702 rank=82\n",
      "[SoftImpute] Iter 83: observed MAE=0.219617 rank=82\n",
      "[SoftImpute] Iter 84: observed MAE=0.219539 rank=82\n",
      "[SoftImpute] Iter 85: observed MAE=0.219457 rank=81\n",
      "[SoftImpute] Iter 86: observed MAE=0.219326 rank=80\n",
      "[SoftImpute] Iter 87: observed MAE=0.219227 rank=80\n",
      "[SoftImpute] Iter 88: observed MAE=0.219146 rank=80\n",
      "[SoftImpute] Iter 89: observed MAE=0.219072 rank=80\n",
      "[SoftImpute] Iter 90: observed MAE=0.218992 rank=79\n",
      "[SoftImpute] Iter 91: observed MAE=0.218906 rank=79\n",
      "[SoftImpute] Iter 92: observed MAE=0.218834 rank=79\n",
      "[SoftImpute] Iter 93: observed MAE=0.218752 rank=78\n",
      "[SoftImpute] Iter 94: observed MAE=0.218667 rank=78\n",
      "[SoftImpute] Iter 95: observed MAE=0.218575 rank=77\n",
      "[SoftImpute] Iter 96: observed MAE=0.218496 rank=77\n",
      "[SoftImpute] Iter 97: observed MAE=0.218428 rank=77\n",
      "[SoftImpute] Iter 98: observed MAE=0.218365 rank=77\n",
      "[SoftImpute] Iter 99: observed MAE=0.218304 rank=77\n",
      "[SoftImpute] Iter 100: observed MAE=0.218246 rank=77\n",
      "[SoftImpute] Stopped after iteration 100 for lambda=5.722325\n",
      "✅ Saved imputed file to: imputed_softimpute\\adata_softimpute_imputed_mf30_run8.h5ad\n",
      "\n",
      "Processing dropout_h5ad\\adata_dropout_mf30_run9.h5ad ...\n"
     ]
    },
    {
     "name": "stderr",
     "output_type": "stream",
     "text": [
      "c:\\Users\\prath\\anaconda-new\\Lib\\site-packages\\anndata\\_core\\anndata.py:1791: UserWarning: Observation names are not unique. To make them unique, call `.obs_names_make_unique`.\n",
      "  utils.warn_names_duplicates(\"obs\")\n",
      "c:\\Users\\prath\\anaconda-new\\Lib\\site-packages\\anndata\\_core\\anndata.py:1793: UserWarning: Variable names are not unique. To make them unique, call `.var_names_make_unique`.\n",
      "  utils.warn_names_duplicates(\"var\")\n",
      "c:\\Users\\prath\\anaconda-new\\Lib\\site-packages\\sklearn\\utils\\deprecation.py:132: FutureWarning: 'force_all_finite' was renamed to 'ensure_all_finite' in 1.6 and will be removed in 1.8.\n",
      "  warnings.warn(\n"
     ]
    },
    {
     "name": "stdout",
     "output_type": "stream",
     "text": [
      "Selected 200 HVGs out of 2000 genes\n",
      "Running SoftImpute on HVGs matrix (14746, 200) ...\n"
     ]
    },
    {
     "name": "stderr",
     "output_type": "stream",
     "text": [
      "c:\\Users\\prath\\anaconda-new\\Lib\\site-packages\\sklearn\\utils\\deprecation.py:132: FutureWarning: 'force_all_finite' was renamed to 'ensure_all_finite' in 1.6 and will be removed in 1.8.\n",
      "  warnings.warn(\n",
      "c:\\Users\\prath\\anaconda-new\\Lib\\site-packages\\sklearn\\utils\\deprecation.py:132: FutureWarning: 'force_all_finite' was renamed to 'ensure_all_finite' in 1.6 and will be removed in 1.8.\n",
      "  warnings.warn(\n"
     ]
    },
    {
     "name": "stdout",
     "output_type": "stream",
     "text": [
      "[SoftImpute] Max Singular Value of X_init = 290.512604\n",
      "[SoftImpute] Iter 1: observed MAE=0.240997 rank=179\n",
      "[SoftImpute] Iter 2: observed MAE=0.240999 rank=176\n",
      "[SoftImpute] Iter 3: observed MAE=0.240977 rank=174\n",
      "[SoftImpute] Iter 4: observed MAE=0.240909 rank=172\n",
      "[SoftImpute] Iter 5: observed MAE=0.240737 rank=166\n",
      "[SoftImpute] Iter 6: observed MAE=0.240503 rank=164\n",
      "[SoftImpute] Iter 7: observed MAE=0.240312 rank=162\n",
      "[SoftImpute] Iter 8: observed MAE=0.240145 rank=160\n",
      "[SoftImpute] Iter 9: observed MAE=0.239951 rank=158\n",
      "[SoftImpute] Iter 10: observed MAE=0.239725 rank=154\n",
      "[SoftImpute] Iter 11: observed MAE=0.239472 rank=152\n",
      "[SoftImpute] Iter 12: observed MAE=0.239264 rank=151\n",
      "[SoftImpute] Iter 13: observed MAE=0.239072 rank=148\n",
      "[SoftImpute] Iter 14: observed MAE=0.238879 rank=146\n",
      "[SoftImpute] Iter 15: observed MAE=0.238674 rank=143\n",
      "[SoftImpute] Iter 16: observed MAE=0.238522 rank=141\n",
      "[SoftImpute] Iter 17: observed MAE=0.238404 rank=140\n",
      "[SoftImpute] Iter 18: observed MAE=0.238294 rank=139\n",
      "[SoftImpute] Iter 19: observed MAE=0.238126 rank=137\n",
      "[SoftImpute] Iter 20: observed MAE=0.237927 rank=135\n",
      "[SoftImpute] Iter 21: observed MAE=0.237712 rank=132\n",
      "[SoftImpute] Iter 22: observed MAE=0.237530 rank=130\n",
      "[SoftImpute] Iter 23: observed MAE=0.237349 rank=129\n",
      "[SoftImpute] Iter 24: observed MAE=0.237189 rank=127\n",
      "[SoftImpute] Iter 25: observed MAE=0.236983 rank=125\n",
      "[SoftImpute] Iter 26: observed MAE=0.236810 rank=125\n",
      "[SoftImpute] Iter 27: observed MAE=0.236638 rank=123\n",
      "[SoftImpute] Iter 28: observed MAE=0.236481 rank=122\n",
      "[SoftImpute] Iter 29: observed MAE=0.236305 rank=121\n",
      "[SoftImpute] Iter 30: observed MAE=0.236177 rank=120\n",
      "[SoftImpute] Iter 31: observed MAE=0.236010 rank=119\n",
      "[SoftImpute] Iter 32: observed MAE=0.235840 rank=118\n",
      "[SoftImpute] Iter 33: observed MAE=0.235624 rank=116\n",
      "[SoftImpute] Iter 34: observed MAE=0.235426 rank=114\n",
      "[SoftImpute] Iter 35: observed MAE=0.235251 rank=114\n",
      "[SoftImpute] Iter 36: observed MAE=0.235096 rank=112\n",
      "[SoftImpute] Iter 37: observed MAE=0.234910 rank=111\n",
      "[SoftImpute] Iter 38: observed MAE=0.234690 rank=110\n",
      "[SoftImpute] Iter 39: observed MAE=0.234532 rank=109\n",
      "[SoftImpute] Iter 40: observed MAE=0.234337 rank=108\n",
      "[SoftImpute] Iter 41: observed MAE=0.234178 rank=106\n",
      "[SoftImpute] Iter 42: observed MAE=0.233983 rank=106\n",
      "[SoftImpute] Iter 43: observed MAE=0.233851 rank=106\n",
      "[SoftImpute] Iter 44: observed MAE=0.233720 rank=105\n",
      "[SoftImpute] Iter 45: observed MAE=0.233542 rank=104\n",
      "[SoftImpute] Iter 46: observed MAE=0.233405 rank=104\n",
      "[SoftImpute] Iter 47: observed MAE=0.233271 rank=103\n",
      "[SoftImpute] Iter 48: observed MAE=0.233077 rank=101\n",
      "[SoftImpute] Iter 49: observed MAE=0.232900 rank=101\n",
      "[SoftImpute] Iter 50: observed MAE=0.232746 rank=99\n",
      "[SoftImpute] Iter 51: observed MAE=0.232538 rank=98\n",
      "[SoftImpute] Iter 52: observed MAE=0.232371 rank=98\n",
      "[SoftImpute] Iter 53: observed MAE=0.232252 rank=98\n",
      "[SoftImpute] Iter 54: observed MAE=0.232089 rank=96\n",
      "[SoftImpute] Iter 55: observed MAE=0.231939 rank=96\n",
      "[SoftImpute] Iter 56: observed MAE=0.231825 rank=96\n",
      "[SoftImpute] Iter 57: observed MAE=0.231682 rank=95\n",
      "[SoftImpute] Iter 58: observed MAE=0.231540 rank=94\n",
      "[SoftImpute] Iter 59: observed MAE=0.231410 rank=94\n",
      "[SoftImpute] Iter 60: observed MAE=0.231273 rank=93\n",
      "[SoftImpute] Iter 61: observed MAE=0.231134 rank=91\n",
      "[SoftImpute] Iter 62: observed MAE=0.230952 rank=90\n",
      "[SoftImpute] Iter 63: observed MAE=0.230790 rank=90\n",
      "[SoftImpute] Iter 64: observed MAE=0.230674 rank=90\n",
      "[SoftImpute] Iter 65: observed MAE=0.230574 rank=89\n",
      "[SoftImpute] Iter 66: observed MAE=0.230436 rank=89\n",
      "[SoftImpute] Iter 67: observed MAE=0.230304 rank=88\n",
      "[SoftImpute] Iter 68: observed MAE=0.230190 rank=88\n",
      "[SoftImpute] Iter 69: observed MAE=0.230096 rank=88\n",
      "[SoftImpute] Iter 70: observed MAE=0.229984 rank=87\n",
      "[SoftImpute] Iter 71: observed MAE=0.229873 rank=86\n",
      "[SoftImpute] Iter 72: observed MAE=0.229759 rank=86\n",
      "[SoftImpute] Iter 73: observed MAE=0.229633 rank=85\n",
      "[SoftImpute] Iter 74: observed MAE=0.229490 rank=84\n",
      "[SoftImpute] Iter 75: observed MAE=0.229371 rank=83\n",
      "[SoftImpute] Iter 76: observed MAE=0.229263 rank=83\n",
      "[SoftImpute] Iter 77: observed MAE=0.229177 rank=83\n",
      "[SoftImpute] Iter 78: observed MAE=0.229101 rank=83\n",
      "[SoftImpute] Iter 79: observed MAE=0.229029 rank=82\n",
      "[SoftImpute] Iter 80: observed MAE=0.228898 rank=81\n",
      "[SoftImpute] Iter 81: observed MAE=0.228784 rank=81\n",
      "[SoftImpute] Iter 82: observed MAE=0.228696 rank=81\n",
      "[SoftImpute] Iter 83: observed MAE=0.228617 rank=81\n",
      "[SoftImpute] Iter 84: observed MAE=0.228534 rank=80\n",
      "[SoftImpute] Iter 85: observed MAE=0.228434 rank=80\n",
      "[SoftImpute] Iter 86: observed MAE=0.228353 rank=80\n",
      "[SoftImpute] Iter 87: observed MAE=0.228279 rank=80\n",
      "[SoftImpute] Iter 88: observed MAE=0.228210 rank=80\n",
      "[SoftImpute] Iter 89: observed MAE=0.228143 rank=80\n",
      "[SoftImpute] Iter 90: observed MAE=0.228077 rank=80\n",
      "[SoftImpute] Iter 91: observed MAE=0.227984 rank=78\n",
      "[SoftImpute] Iter 92: observed MAE=0.227876 rank=78\n",
      "[SoftImpute] Iter 93: observed MAE=0.227786 rank=77\n",
      "[SoftImpute] Iter 94: observed MAE=0.227692 rank=77\n",
      "[SoftImpute] Iter 95: observed MAE=0.227615 rank=77\n",
      "[SoftImpute] Iter 96: observed MAE=0.227546 rank=77\n",
      "[SoftImpute] Iter 97: observed MAE=0.227470 rank=76\n",
      "[SoftImpute] Iter 98: observed MAE=0.227384 rank=76\n",
      "[SoftImpute] Iter 99: observed MAE=0.227314 rank=76\n",
      "[SoftImpute] Iter 100: observed MAE=0.227250 rank=76\n",
      "[SoftImpute] Stopped after iteration 100 for lambda=5.810252\n",
      "✅ Saved imputed file to: imputed_softimpute\\adata_softimpute_imputed_mf30_run9.h5ad\n",
      "\n",
      "All files processed with SoftImpute (HVGs only)\n"
     ]
    }
   ],
   "source": [
    "import scanpy as sc\n",
    "import numpy as np\n",
    "import os\n",
    "from glob import glob\n",
    "from fancyimpute import SoftImpute\n",
    "\n",
    "# -----------------------------\n",
    "# Input & Output directories\n",
    "# -----------------------------\n",
    "input_dir = \"dropout_h5ad\"\n",
    "output_dir = \"imputed_softimpute\"\n",
    "os.makedirs(output_dir, exist_ok=True)\n",
    "\n",
    "files = glob(os.path.join(input_dir, \"*.h5ad\"))\n",
    "\n",
    "# Define SoftImpute\n",
    "imputer = SoftImpute(\n",
    "    max_rank=None,      # None means full rank, or set to e.g. 100\n",
    "    init_fill_method=\"zero\",  # starting point for missing values\n",
    "    max_iters=100,\n",
    "    verbose=True,\n",
    "    convergence_threshold=1e-5\n",
    ")\n",
    "\n",
    "for f in files:\n",
    "    print(f\"\\nProcessing {f} ...\")\n",
    "\n",
    "    adata_missing = sc.read_h5ad(f)\n",
    "    adata_missing.obs_names_make_unique()\n",
    "    adata_missing.var_names_make_unique()\n",
    "\n",
    "    # Copy for imputation\n",
    "    adata_imp = adata_missing.copy()\n",
    "\n",
    "    # Step 1: Identify HVGs\n",
    "    sc.pp.highly_variable_genes(adata_imp, n_top_genes=200, flavor=\"cell_ranger\")\n",
    "    hvg_mask = adata_imp.var[\"highly_variable\"].values\n",
    "    print(f\"Selected {hvg_mask.sum()} HVGs out of {adata_imp.n_vars} genes\")\n",
    "\n",
    "    # Step 2: Convert to dense\n",
    "    X = adata_imp.X.toarray() if not isinstance(adata_imp.X, np.ndarray) else adata_imp.X.copy()\n",
    "\n",
    "    # Step 3: Replace zeros with NaN (treat as missing)\n",
    "    X[X == 0] = np.nan\n",
    "\n",
    "    # Step 4: Impute only HVGs\n",
    "    X_hvg = X[:, hvg_mask]\n",
    "    valid_genes = ~(np.all(np.isnan(X_hvg), axis=0))  # drop all-NaN genes\n",
    "    X_hvg_valid = X_hvg[:, valid_genes]\n",
    "\n",
    "    print(f\"Running SoftImpute on HVGs matrix {X_hvg_valid.shape} ...\")\n",
    "    X_hvg_imp_valid = imputer.fit_transform(X_hvg_valid)\n",
    "\n",
    "    # Step 5: Reconstruct HVG matrix\n",
    "    X_hvg_imp = np.zeros_like(X_hvg)\n",
    "    X_hvg_imp[:, valid_genes] = X_hvg_imp_valid\n",
    "    # dropped HVGs stay zero\n",
    "\n",
    "    # Step 6: Insert HVGs back into full matrix\n",
    "    X_final = X.copy()\n",
    "    X_final[:, hvg_mask] = X_hvg_imp\n",
    "\n",
    "    # Step 7: Assign back\n",
    "    adata_imp.X = X_final\n",
    "\n",
    "    # Save\n",
    "    fname = os.path.basename(f).replace(\"adata_dropout\", \"adata_softimpute_imputed\")\n",
    "    outpath = os.path.join(output_dir, fname)\n",
    "    adata_imp.write(outpath)\n",
    "\n",
    "    print(f\"✅ Saved imputed file to: {outpath}\")\n",
    "\n",
    "print(\"\\nAll files processed with SoftImpute (HVGs only)\")\n"
   ]
  },
  {
   "cell_type": "code",
   "execution_count": 9,
   "id": "70241a26",
   "metadata": {},
   "outputs": [
    {
     "name": "stdout",
     "output_type": "stream",
     "text": [
      "Collecting fancyimpute\n",
      "  Using cached fancyimpute-0.7.0.tar.gz (25 kB)\n",
      "  Preparing metadata (setup.py): started\n",
      "  Preparing metadata (setup.py): finished with status 'done'\n",
      "Collecting knnimpute>=0.1.0 (from fancyimpute)\n",
      "  Using cached knnimpute-0.1.0.tar.gz (8.3 kB)\n",
      "  Preparing metadata (setup.py): started\n",
      "  Preparing metadata (setup.py): finished with status 'done'\n",
      "Requirement already satisfied: scikit-learn>=0.24.2 in c:\\users\\prath\\anaconda-new\\lib\\site-packages (from fancyimpute) (1.7.1)\n",
      "Collecting cvxpy (from fancyimpute)\n",
      "  Downloading cvxpy-1.7.2-cp312-cp312-win_amd64.whl.metadata (9.8 kB)\n",
      "Collecting cvxopt (from fancyimpute)\n",
      "  Downloading cvxopt-1.3.2-cp312-cp312-win_amd64.whl.metadata (1.4 kB)\n",
      "Requirement already satisfied: pytest in c:\\users\\prath\\anaconda-new\\lib\\site-packages (from fancyimpute) (8.3.2)\n",
      "Collecting nose (from fancyimpute)\n",
      "  Using cached nose-1.3.7-py3-none-any.whl.metadata (1.7 kB)\n",
      "Requirement already satisfied: six in c:\\users\\prath\\appdata\\roaming\\python\\python312\\site-packages (from knnimpute>=0.1.0->fancyimpute) (1.16.0)\n",
      "Requirement already satisfied: numpy>=1.10 in c:\\users\\prath\\anaconda-new\\lib\\site-packages (from knnimpute>=0.1.0->fancyimpute) (1.26.4)\n",
      "Requirement already satisfied: scipy>=1.8.0 in c:\\users\\prath\\anaconda-new\\lib\\site-packages (from scikit-learn>=0.24.2->fancyimpute) (1.16.1)\n",
      "Requirement already satisfied: joblib>=1.2.0 in c:\\users\\prath\\anaconda-new\\lib\\site-packages (from scikit-learn>=0.24.2->fancyimpute) (1.4.2)\n",
      "Requirement already satisfied: threadpoolctl>=3.1.0 in c:\\users\\prath\\anaconda-new\\lib\\site-packages (from scikit-learn>=0.24.2->fancyimpute) (3.6.0)\n",
      "Collecting osqp>=0.6.2 (from cvxpy->fancyimpute)\n",
      "  Downloading osqp-1.0.4-cp312-cp312-win_amd64.whl.metadata (2.1 kB)\n",
      "Collecting clarabel>=0.5.0 (from cvxpy->fancyimpute)\n",
      "  Downloading clarabel-0.11.1-cp39-abi3-win_amd64.whl.metadata (4.9 kB)\n",
      "Collecting scs>=3.2.4.post1 (from cvxpy->fancyimpute)\n",
      "  Downloading scs-3.2.8-cp312-cp312-win_amd64.whl.metadata (2.8 kB)\n",
      "Requirement already satisfied: cffi in c:\\users\\prath\\anaconda-new\\lib\\site-packages (from clarabel>=0.5.0->cvxpy->fancyimpute) (1.16.0)\n",
      "Requirement already satisfied: jinja2 in c:\\users\\prath\\anaconda-new\\lib\\site-packages (from osqp>=0.6.2->cvxpy->fancyimpute) (3.1.4)\n",
      "Requirement already satisfied: setuptools in c:\\users\\prath\\anaconda-new\\lib\\site-packages (from osqp>=0.6.2->cvxpy->fancyimpute) (80.9.0)\n",
      "Requirement already satisfied: pycparser in c:\\users\\prath\\anaconda-new\\lib\\site-packages (from cffi->clarabel>=0.5.0->cvxpy->fancyimpute) (2.21)\n",
      "Requirement already satisfied: MarkupSafe>=2.0 in c:\\users\\prath\\anaconda-new\\lib\\site-packages (from jinja2->osqp>=0.6.2->cvxpy->fancyimpute) (2.1.3)\n",
      "Requirement already satisfied: iniconfig in c:\\users\\prath\\anaconda-new\\lib\\site-packages (from pytest->fancyimpute) (1.1.1)\n",
      "Requirement already satisfied: packaging in c:\\users\\prath\\anaconda-new\\lib\\site-packages (from pytest->fancyimpute) (23.2)\n",
      "Requirement already satisfied: pluggy<2,>=1.5 in c:\\users\\prath\\anaconda-new\\lib\\site-packages (from pytest->fancyimpute) (1.5.0)\n",
      "Requirement already satisfied: colorama in c:\\users\\prath\\appdata\\roaming\\python\\python312\\site-packages (from pytest->fancyimpute) (0.4.6)\n",
      "Downloading cvxopt-1.3.2-cp312-cp312-win_amd64.whl (12.8 MB)\n",
      "   ---------------------------------------- 0.0/12.8 MB ? eta -:--:--\n",
      "   --- ------------------------------------ 1.0/12.8 MB 5.6 MB/s eta 0:00:03\n",
      "   --- ------------------------------------ 1.0/12.8 MB 5.6 MB/s eta 0:00:03\n",
      "   --- ------------------------------------ 1.0/12.8 MB 5.6 MB/s eta 0:00:03\n",
      "   --- ------------------------------------ 1.0/12.8 MB 5.6 MB/s eta 0:00:03\n",
      "   ---- ----------------------------------- 1.3/12.8 MB 1.0 MB/s eta 0:00:12\n",
      "   ------ --------------------------------- 2.1/12.8 MB 1.5 MB/s eta 0:00:08\n",
      "   -------- ------------------------------- 2.6/12.8 MB 1.7 MB/s eta 0:00:07\n",
      "   --------- ------------------------------ 3.1/12.8 MB 1.9 MB/s eta 0:00:06\n",
      "   --------- ------------------------------ 3.1/12.8 MB 1.9 MB/s eta 0:00:06\n",
      "   --------- ------------------------------ 3.1/12.8 MB 1.9 MB/s eta 0:00:06\n",
      "   --------- ------------------------------ 3.1/12.8 MB 1.9 MB/s eta 0:00:06\n",
      "   --------- ------------------------------ 3.1/12.8 MB 1.9 MB/s eta 0:00:06\n",
      "   --------- ------------------------------ 3.1/12.8 MB 1.9 MB/s eta 0:00:06\n",
      "   ------------ --------------------------- 3.9/12.8 MB 1.2 MB/s eta 0:00:08\n",
      "   ------------- -------------------------- 4.5/12.8 MB 1.3 MB/s eta 0:00:07\n",
      "   ---------------- ----------------------- 5.2/12.8 MB 1.5 MB/s eta 0:00:06\n",
      "   ----------------- ---------------------- 5.8/12.8 MB 1.6 MB/s eta 0:00:05\n",
      "   -------------------- ------------------- 6.6/12.8 MB 1.7 MB/s eta 0:00:04\n",
      "   ---------------------- ----------------- 7.3/12.8 MB 1.8 MB/s eta 0:00:04\n",
      "   ------------------------- -------------- 8.1/12.8 MB 1.9 MB/s eta 0:00:03\n",
      "   --------------------------- ------------ 8.9/12.8 MB 1.9 MB/s eta 0:00:03\n",
      "   ------------------------------ --------- 9.7/12.8 MB 2.0 MB/s eta 0:00:02\n",
      "   -------------------------------- ------- 10.5/12.8 MB 2.1 MB/s eta 0:00:02\n",
      "   -------------------------------- ------- 10.5/12.8 MB 2.1 MB/s eta 0:00:02\n",
      "   -------------------------------- ------- 10.5/12.8 MB 2.1 MB/s eta 0:00:02\n",
      "   ----------------------------------- ---- 11.5/12.8 MB 2.0 MB/s eta 0:00:01\n",
      "   ------------------------------------ --- 11.8/12.8 MB 2.0 MB/s eta 0:00:01\n",
      "   -------------------------------------- - 12.3/12.8 MB 2.0 MB/s eta 0:00:01\n",
      "   ---------------------------------------  12.6/12.8 MB 2.0 MB/s eta 0:00:01\n",
      "   ---------------------------------------- 12.8/12.8 MB 2.0 MB/s  0:00:06\n",
      "Downloading cvxpy-1.7.2-cp312-cp312-win_amd64.whl (1.1 MB)\n",
      "   ---------------------------------------- 0.0/1.1 MB ? eta -:--:--\n",
      "   ------------------ --------------------- 0.5/1.1 MB 2.8 MB/s eta 0:00:01\n",
      "   ------------------------------------- -- 1.0/1.1 MB 3.0 MB/s eta 0:00:01\n",
      "   ---------------------------------------- 1.1/1.1 MB 2.6 MB/s  0:00:00\n",
      "Downloading clarabel-0.11.1-cp39-abi3-win_amd64.whl (887 kB)\n",
      "   ---------------------------------------- 0.0/887.3 kB ? eta -:--:--\n",
      "   ----------------------- ---------------- 524.3/887.3 kB 2.8 MB/s eta 0:00:01\n",
      "   ---------------------------------------- 887.3/887.3 kB 2.9 MB/s  0:00:00\n",
      "Downloading osqp-1.0.4-cp312-cp312-win_amd64.whl (303 kB)\n",
      "Downloading scs-3.2.8-cp312-cp312-win_amd64.whl (7.5 MB)\n",
      "   ---------------------------------------- 0.0/7.5 MB ? eta -:--:--\n",
      "   -- ------------------------------------- 0.5/7.5 MB 2.8 MB/s eta 0:00:03\n",
      "   ----- ---------------------------------- 1.0/7.5 MB 3.0 MB/s eta 0:00:03\n",
      "   --------- ------------------------------ 1.8/7.5 MB 3.0 MB/s eta 0:00:02\n",
      "   ------------ --------------------------- 2.4/7.5 MB 3.0 MB/s eta 0:00:02\n",
      "   ---------------- ----------------------- 3.1/7.5 MB 3.0 MB/s eta 0:00:02\n",
      "   --------------------- ------------------ 3.9/7.5 MB 3.1 MB/s eta 0:00:02\n",
      "   ------------------------- -------------- 4.7/7.5 MB 3.1 MB/s eta 0:00:01\n",
      "   ---------------------------- ----------- 5.2/7.5 MB 3.2 MB/s eta 0:00:01\n",
      "   -------------------------------- ------- 6.0/7.5 MB 3.2 MB/s eta 0:00:01\n",
      "   ------------------------------------ --- 6.8/7.5 MB 3.2 MB/s eta 0:00:01\n",
      "   ---------------------------------------  7.3/7.5 MB 3.2 MB/s eta 0:00:01\n",
      "   ---------------------------------------- 7.5/7.5 MB 3.1 MB/s  0:00:02\n",
      "Using cached nose-1.3.7-py3-none-any.whl (154 kB)\n",
      "Building wheels for collected packages: fancyimpute, knnimpute\n",
      "  Building wheel for fancyimpute (setup.py): started\n",
      "  Building wheel for fancyimpute (setup.py): finished with status 'done'\n",
      "  Created wheel for fancyimpute: filename=fancyimpute-0.7.0-py3-none-any.whl size=29997 sha256=aeb6db4dd49e6520906bc548283a4312c9b0bc78060bc44b49f5d3c22e84ece6\n",
      "  Stored in directory: c:\\users\\prath\\appdata\\local\\pip\\cache\\wheels\\df\\20\\91\\e4850b9a31cf660c1bc95515d3bcbc8010e869e5de6d5baf07\n",
      "  Building wheel for knnimpute (setup.py): started\n",
      "  Building wheel for knnimpute (setup.py): finished with status 'done'\n",
      "  Created wheel for knnimpute: filename=knnimpute-0.1.0-py3-none-any.whl size=11380 sha256=b6790a221db1ef7d79f2448b4c2514ca67871018c7eeffcecdc5ad4dccfbec42\n",
      "  Stored in directory: c:\\users\\prath\\appdata\\local\\pip\\cache\\wheels\\89\\11\\61\\aa5a3167bfff49218cd043a73a83034b9eadd858b0059521be\n",
      "Successfully built fancyimpute knnimpute\n",
      "Installing collected packages: nose, knnimpute, cvxopt, scs, osqp, clarabel, cvxpy, fancyimpute\n",
      "\n",
      "   ---------------------------------------- 0/8 [nose]\n",
      "   ---------------------------------------- 0/8 [nose]\n",
      "   ---------------------------------------- 0/8 [nose]\n",
      "   ---------- ----------------------------- 2/8 [cvxopt]\n",
      "   ---------- ----------------------------- 2/8 [cvxopt]\n",
      "   ---------- ----------------------------- 2/8 [cvxopt]\n",
      "   --------------- ------------------------ 3/8 [scs]\n",
      "   --------------- ------------------------ 3/8 [scs]\n",
      "   -------------------- ------------------- 4/8 [osqp]\n",
      "   -------------------- ------------------- 4/8 [osqp]\n",
      "   ------------------------------ --------- 6/8 [cvxpy]\n",
      "   ------------------------------ --------- 6/8 [cvxpy]\n",
      "   ------------------------------ --------- 6/8 [cvxpy]\n",
      "   ------------------------------ --------- 6/8 [cvxpy]\n",
      "   ------------------------------ --------- 6/8 [cvxpy]\n",
      "   ------------------------------ --------- 6/8 [cvxpy]\n",
      "   ------------------------------ --------- 6/8 [cvxpy]\n",
      "   ------------------------------ --------- 6/8 [cvxpy]\n",
      "   ------------------------------ --------- 6/8 [cvxpy]\n",
      "   ------------------------------ --------- 6/8 [cvxpy]\n",
      "   ------------------------------ --------- 6/8 [cvxpy]\n",
      "   ------------------------------ --------- 6/8 [cvxpy]\n",
      "   ------------------------------ --------- 6/8 [cvxpy]\n",
      "   ------------------------------ --------- 6/8 [cvxpy]\n",
      "   ------------------------------ --------- 6/8 [cvxpy]\n",
      "   ------------------------------ --------- 6/8 [cvxpy]\n",
      "   ------------------------------ --------- 6/8 [cvxpy]\n",
      "   ------------------------------ --------- 6/8 [cvxpy]\n",
      "   ------------------------------ --------- 6/8 [cvxpy]\n",
      "   ------------------------------ --------- 6/8 [cvxpy]\n",
      "   ------------------------------ --------- 6/8 [cvxpy]\n",
      "   ------------------------------ --------- 6/8 [cvxpy]\n",
      "   ------------------------------ --------- 6/8 [cvxpy]\n",
      "   ------------------------------ --------- 6/8 [cvxpy]\n",
      "   ------------------------------ --------- 6/8 [cvxpy]\n",
      "   ------------------------------ --------- 6/8 [cvxpy]\n",
      "   ------------------------------ --------- 6/8 [cvxpy]\n",
      "   ------------------------------ --------- 6/8 [cvxpy]\n",
      "   ------------------------------ --------- 6/8 [cvxpy]\n",
      "   ----------------------------------- ---- 7/8 [fancyimpute]\n",
      "   ---------------------------------------- 8/8 [fancyimpute]\n",
      "\n",
      "Successfully installed clarabel-0.11.1 cvxopt-1.3.2 cvxpy-1.7.2 fancyimpute-0.7.0 knnimpute-0.1.0 nose-1.3.7 osqp-1.0.4 scs-3.2.8\n",
      "Note: you may need to restart the kernel to use updated packages.\n"
     ]
    },
    {
     "name": "stderr",
     "output_type": "stream",
     "text": [
      "  DEPRECATION: Building 'fancyimpute' using the legacy setup.py bdist_wheel mechanism, which will be removed in a future version. pip 25.3 will enforce this behaviour change. A possible replacement is to use the standardized build interface by setting the `--use-pep517` option, (possibly combined with `--no-build-isolation`), or adding a `pyproject.toml` file to the source tree of 'fancyimpute'. Discussion can be found at https://github.com/pypa/pip/issues/6334\n",
      "  DEPRECATION: Building 'knnimpute' using the legacy setup.py bdist_wheel mechanism, which will be removed in a future version. pip 25.3 will enforce this behaviour change. A possible replacement is to use the standardized build interface by setting the `--use-pep517` option, (possibly combined with `--no-build-isolation`), or adding a `pyproject.toml` file to the source tree of 'knnimpute'. Discussion can be found at https://github.com/pypa/pip/issues/6334\n"
     ]
    }
   ],
   "source": [
    "pip install fancyimpute\n"
   ]
  },
  {
   "cell_type": "code",
   "execution_count": 12,
   "id": "acb342d7",
   "metadata": {},
   "outputs": [
    {
     "name": "stdout",
     "output_type": "stream",
     "text": [
      "Processing dropout_h5ad\\adata_dropout_mf10_run1.h5ad with GAN...\n"
     ]
    },
    {
     "name": "stderr",
     "output_type": "stream",
     "text": [
      "c:\\Users\\prath\\anaconda-new\\Lib\\site-packages\\anndata\\_core\\anndata.py:1791: UserWarning: Observation names are not unique. To make them unique, call `.obs_names_make_unique`.\n",
      "  utils.warn_names_duplicates(\"obs\")\n",
      "c:\\Users\\prath\\anaconda-new\\Lib\\site-packages\\anndata\\_core\\anndata.py:1793: UserWarning: Variable names are not unique. To make them unique, call `.var_names_make_unique`.\n",
      "  utils.warn_names_duplicates(\"var\")\n"
     ]
    },
    {
     "name": "stdout",
     "output_type": "stream",
     "text": [
      "✅ Saved imputed_gan\\adata_adata_gan_imputed_mf10_run1.h5ad\n",
      "Processing dropout_h5ad\\adata_dropout_mf10_run10.h5ad with GAN...\n"
     ]
    },
    {
     "name": "stderr",
     "output_type": "stream",
     "text": [
      "c:\\Users\\prath\\anaconda-new\\Lib\\site-packages\\anndata\\_core\\anndata.py:1791: UserWarning: Observation names are not unique. To make them unique, call `.obs_names_make_unique`.\n",
      "  utils.warn_names_duplicates(\"obs\")\n",
      "c:\\Users\\prath\\anaconda-new\\Lib\\site-packages\\anndata\\_core\\anndata.py:1793: UserWarning: Variable names are not unique. To make them unique, call `.var_names_make_unique`.\n",
      "  utils.warn_names_duplicates(\"var\")\n"
     ]
    },
    {
     "name": "stdout",
     "output_type": "stream",
     "text": [
      "✅ Saved imputed_gan\\adata_adata_gan_imputed_mf10_run10.h5ad\n",
      "Processing dropout_h5ad\\adata_dropout_mf10_run2.h5ad with GAN...\n"
     ]
    },
    {
     "name": "stderr",
     "output_type": "stream",
     "text": [
      "c:\\Users\\prath\\anaconda-new\\Lib\\site-packages\\anndata\\_core\\anndata.py:1791: UserWarning: Observation names are not unique. To make them unique, call `.obs_names_make_unique`.\n",
      "  utils.warn_names_duplicates(\"obs\")\n",
      "c:\\Users\\prath\\anaconda-new\\Lib\\site-packages\\anndata\\_core\\anndata.py:1793: UserWarning: Variable names are not unique. To make them unique, call `.var_names_make_unique`.\n",
      "  utils.warn_names_duplicates(\"var\")\n"
     ]
    },
    {
     "name": "stdout",
     "output_type": "stream",
     "text": [
      "✅ Saved imputed_gan\\adata_adata_gan_imputed_mf10_run2.h5ad\n",
      "Processing dropout_h5ad\\adata_dropout_mf10_run3.h5ad with GAN...\n"
     ]
    },
    {
     "name": "stderr",
     "output_type": "stream",
     "text": [
      "c:\\Users\\prath\\anaconda-new\\Lib\\site-packages\\anndata\\_core\\anndata.py:1791: UserWarning: Observation names are not unique. To make them unique, call `.obs_names_make_unique`.\n",
      "  utils.warn_names_duplicates(\"obs\")\n",
      "c:\\Users\\prath\\anaconda-new\\Lib\\site-packages\\anndata\\_core\\anndata.py:1793: UserWarning: Variable names are not unique. To make them unique, call `.var_names_make_unique`.\n",
      "  utils.warn_names_duplicates(\"var\")\n"
     ]
    },
    {
     "name": "stdout",
     "output_type": "stream",
     "text": [
      "✅ Saved imputed_gan\\adata_adata_gan_imputed_mf10_run3.h5ad\n",
      "Processing dropout_h5ad\\adata_dropout_mf10_run4.h5ad with GAN...\n"
     ]
    },
    {
     "name": "stderr",
     "output_type": "stream",
     "text": [
      "c:\\Users\\prath\\anaconda-new\\Lib\\site-packages\\anndata\\_core\\anndata.py:1791: UserWarning: Observation names are not unique. To make them unique, call `.obs_names_make_unique`.\n",
      "  utils.warn_names_duplicates(\"obs\")\n",
      "c:\\Users\\prath\\anaconda-new\\Lib\\site-packages\\anndata\\_core\\anndata.py:1793: UserWarning: Variable names are not unique. To make them unique, call `.var_names_make_unique`.\n",
      "  utils.warn_names_duplicates(\"var\")\n"
     ]
    },
    {
     "name": "stdout",
     "output_type": "stream",
     "text": [
      "✅ Saved imputed_gan\\adata_adata_gan_imputed_mf10_run4.h5ad\n",
      "Processing dropout_h5ad\\adata_dropout_mf10_run5.h5ad with GAN...\n"
     ]
    },
    {
     "name": "stderr",
     "output_type": "stream",
     "text": [
      "c:\\Users\\prath\\anaconda-new\\Lib\\site-packages\\anndata\\_core\\anndata.py:1791: UserWarning: Observation names are not unique. To make them unique, call `.obs_names_make_unique`.\n",
      "  utils.warn_names_duplicates(\"obs\")\n",
      "c:\\Users\\prath\\anaconda-new\\Lib\\site-packages\\anndata\\_core\\anndata.py:1793: UserWarning: Variable names are not unique. To make them unique, call `.var_names_make_unique`.\n",
      "  utils.warn_names_duplicates(\"var\")\n"
     ]
    },
    {
     "name": "stdout",
     "output_type": "stream",
     "text": [
      "✅ Saved imputed_gan\\adata_adata_gan_imputed_mf10_run5.h5ad\n",
      "Processing dropout_h5ad\\adata_dropout_mf10_run6.h5ad with GAN...\n"
     ]
    },
    {
     "name": "stderr",
     "output_type": "stream",
     "text": [
      "c:\\Users\\prath\\anaconda-new\\Lib\\site-packages\\anndata\\_core\\anndata.py:1791: UserWarning: Observation names are not unique. To make them unique, call `.obs_names_make_unique`.\n",
      "  utils.warn_names_duplicates(\"obs\")\n",
      "c:\\Users\\prath\\anaconda-new\\Lib\\site-packages\\anndata\\_core\\anndata.py:1793: UserWarning: Variable names are not unique. To make them unique, call `.var_names_make_unique`.\n",
      "  utils.warn_names_duplicates(\"var\")\n"
     ]
    },
    {
     "name": "stdout",
     "output_type": "stream",
     "text": [
      "✅ Saved imputed_gan\\adata_adata_gan_imputed_mf10_run6.h5ad\n",
      "Processing dropout_h5ad\\adata_dropout_mf10_run7.h5ad with GAN...\n"
     ]
    },
    {
     "name": "stderr",
     "output_type": "stream",
     "text": [
      "c:\\Users\\prath\\anaconda-new\\Lib\\site-packages\\anndata\\_core\\anndata.py:1791: UserWarning: Observation names are not unique. To make them unique, call `.obs_names_make_unique`.\n",
      "  utils.warn_names_duplicates(\"obs\")\n",
      "c:\\Users\\prath\\anaconda-new\\Lib\\site-packages\\anndata\\_core\\anndata.py:1793: UserWarning: Variable names are not unique. To make them unique, call `.var_names_make_unique`.\n",
      "  utils.warn_names_duplicates(\"var\")\n"
     ]
    },
    {
     "name": "stdout",
     "output_type": "stream",
     "text": [
      "✅ Saved imputed_gan\\adata_adata_gan_imputed_mf10_run7.h5ad\n",
      "Processing dropout_h5ad\\adata_dropout_mf10_run8.h5ad with GAN...\n"
     ]
    },
    {
     "name": "stderr",
     "output_type": "stream",
     "text": [
      "c:\\Users\\prath\\anaconda-new\\Lib\\site-packages\\anndata\\_core\\anndata.py:1791: UserWarning: Observation names are not unique. To make them unique, call `.obs_names_make_unique`.\n",
      "  utils.warn_names_duplicates(\"obs\")\n",
      "c:\\Users\\prath\\anaconda-new\\Lib\\site-packages\\anndata\\_core\\anndata.py:1793: UserWarning: Variable names are not unique. To make them unique, call `.var_names_make_unique`.\n",
      "  utils.warn_names_duplicates(\"var\")\n"
     ]
    },
    {
     "name": "stdout",
     "output_type": "stream",
     "text": [
      "✅ Saved imputed_gan\\adata_adata_gan_imputed_mf10_run8.h5ad\n",
      "Processing dropout_h5ad\\adata_dropout_mf10_run9.h5ad with GAN...\n"
     ]
    },
    {
     "name": "stderr",
     "output_type": "stream",
     "text": [
      "c:\\Users\\prath\\anaconda-new\\Lib\\site-packages\\anndata\\_core\\anndata.py:1791: UserWarning: Observation names are not unique. To make them unique, call `.obs_names_make_unique`.\n",
      "  utils.warn_names_duplicates(\"obs\")\n",
      "c:\\Users\\prath\\anaconda-new\\Lib\\site-packages\\anndata\\_core\\anndata.py:1793: UserWarning: Variable names are not unique. To make them unique, call `.var_names_make_unique`.\n",
      "  utils.warn_names_duplicates(\"var\")\n"
     ]
    },
    {
     "name": "stdout",
     "output_type": "stream",
     "text": [
      "✅ Saved imputed_gan\\adata_adata_gan_imputed_mf10_run9.h5ad\n",
      "Processing dropout_h5ad\\adata_dropout_mf20_run1.h5ad with GAN...\n"
     ]
    },
    {
     "name": "stderr",
     "output_type": "stream",
     "text": [
      "c:\\Users\\prath\\anaconda-new\\Lib\\site-packages\\anndata\\_core\\anndata.py:1791: UserWarning: Observation names are not unique. To make them unique, call `.obs_names_make_unique`.\n",
      "  utils.warn_names_duplicates(\"obs\")\n",
      "c:\\Users\\prath\\anaconda-new\\Lib\\site-packages\\anndata\\_core\\anndata.py:1793: UserWarning: Variable names are not unique. To make them unique, call `.var_names_make_unique`.\n",
      "  utils.warn_names_duplicates(\"var\")\n"
     ]
    },
    {
     "name": "stdout",
     "output_type": "stream",
     "text": [
      "✅ Saved imputed_gan\\adata_adata_gan_imputed_mf20_run1.h5ad\n",
      "Processing dropout_h5ad\\adata_dropout_mf20_run10.h5ad with GAN...\n"
     ]
    },
    {
     "name": "stderr",
     "output_type": "stream",
     "text": [
      "c:\\Users\\prath\\anaconda-new\\Lib\\site-packages\\anndata\\_core\\anndata.py:1791: UserWarning: Observation names are not unique. To make them unique, call `.obs_names_make_unique`.\n",
      "  utils.warn_names_duplicates(\"obs\")\n",
      "c:\\Users\\prath\\anaconda-new\\Lib\\site-packages\\anndata\\_core\\anndata.py:1793: UserWarning: Variable names are not unique. To make them unique, call `.var_names_make_unique`.\n",
      "  utils.warn_names_duplicates(\"var\")\n"
     ]
    },
    {
     "name": "stdout",
     "output_type": "stream",
     "text": [
      "✅ Saved imputed_gan\\adata_adata_gan_imputed_mf20_run10.h5ad\n",
      "Processing dropout_h5ad\\adata_dropout_mf20_run2.h5ad with GAN...\n"
     ]
    },
    {
     "name": "stderr",
     "output_type": "stream",
     "text": [
      "c:\\Users\\prath\\anaconda-new\\Lib\\site-packages\\anndata\\_core\\anndata.py:1791: UserWarning: Observation names are not unique. To make them unique, call `.obs_names_make_unique`.\n",
      "  utils.warn_names_duplicates(\"obs\")\n",
      "c:\\Users\\prath\\anaconda-new\\Lib\\site-packages\\anndata\\_core\\anndata.py:1793: UserWarning: Variable names are not unique. To make them unique, call `.var_names_make_unique`.\n",
      "  utils.warn_names_duplicates(\"var\")\n"
     ]
    },
    {
     "name": "stdout",
     "output_type": "stream",
     "text": [
      "✅ Saved imputed_gan\\adata_adata_gan_imputed_mf20_run2.h5ad\n",
      "Processing dropout_h5ad\\adata_dropout_mf20_run3.h5ad with GAN...\n"
     ]
    },
    {
     "name": "stderr",
     "output_type": "stream",
     "text": [
      "c:\\Users\\prath\\anaconda-new\\Lib\\site-packages\\anndata\\_core\\anndata.py:1791: UserWarning: Observation names are not unique. To make them unique, call `.obs_names_make_unique`.\n",
      "  utils.warn_names_duplicates(\"obs\")\n",
      "c:\\Users\\prath\\anaconda-new\\Lib\\site-packages\\anndata\\_core\\anndata.py:1793: UserWarning: Variable names are not unique. To make them unique, call `.var_names_make_unique`.\n",
      "  utils.warn_names_duplicates(\"var\")\n"
     ]
    },
    {
     "name": "stdout",
     "output_type": "stream",
     "text": [
      "✅ Saved imputed_gan\\adata_adata_gan_imputed_mf20_run3.h5ad\n",
      "Processing dropout_h5ad\\adata_dropout_mf20_run4.h5ad with GAN...\n"
     ]
    },
    {
     "name": "stderr",
     "output_type": "stream",
     "text": [
      "c:\\Users\\prath\\anaconda-new\\Lib\\site-packages\\anndata\\_core\\anndata.py:1791: UserWarning: Observation names are not unique. To make them unique, call `.obs_names_make_unique`.\n",
      "  utils.warn_names_duplicates(\"obs\")\n",
      "c:\\Users\\prath\\anaconda-new\\Lib\\site-packages\\anndata\\_core\\anndata.py:1793: UserWarning: Variable names are not unique. To make them unique, call `.var_names_make_unique`.\n",
      "  utils.warn_names_duplicates(\"var\")\n"
     ]
    },
    {
     "name": "stdout",
     "output_type": "stream",
     "text": [
      "✅ Saved imputed_gan\\adata_adata_gan_imputed_mf20_run4.h5ad\n",
      "Processing dropout_h5ad\\adata_dropout_mf20_run5.h5ad with GAN...\n"
     ]
    },
    {
     "name": "stderr",
     "output_type": "stream",
     "text": [
      "c:\\Users\\prath\\anaconda-new\\Lib\\site-packages\\anndata\\_core\\anndata.py:1791: UserWarning: Observation names are not unique. To make them unique, call `.obs_names_make_unique`.\n",
      "  utils.warn_names_duplicates(\"obs\")\n",
      "c:\\Users\\prath\\anaconda-new\\Lib\\site-packages\\anndata\\_core\\anndata.py:1793: UserWarning: Variable names are not unique. To make them unique, call `.var_names_make_unique`.\n",
      "  utils.warn_names_duplicates(\"var\")\n"
     ]
    },
    {
     "name": "stdout",
     "output_type": "stream",
     "text": [
      "✅ Saved imputed_gan\\adata_adata_gan_imputed_mf20_run5.h5ad\n",
      "Processing dropout_h5ad\\adata_dropout_mf20_run6.h5ad with GAN...\n"
     ]
    },
    {
     "name": "stderr",
     "output_type": "stream",
     "text": [
      "c:\\Users\\prath\\anaconda-new\\Lib\\site-packages\\anndata\\_core\\anndata.py:1791: UserWarning: Observation names are not unique. To make them unique, call `.obs_names_make_unique`.\n",
      "  utils.warn_names_duplicates(\"obs\")\n",
      "c:\\Users\\prath\\anaconda-new\\Lib\\site-packages\\anndata\\_core\\anndata.py:1793: UserWarning: Variable names are not unique. To make them unique, call `.var_names_make_unique`.\n",
      "  utils.warn_names_duplicates(\"var\")\n"
     ]
    },
    {
     "name": "stdout",
     "output_type": "stream",
     "text": [
      "✅ Saved imputed_gan\\adata_adata_gan_imputed_mf20_run6.h5ad\n",
      "Processing dropout_h5ad\\adata_dropout_mf20_run7.h5ad with GAN...\n"
     ]
    },
    {
     "name": "stderr",
     "output_type": "stream",
     "text": [
      "c:\\Users\\prath\\anaconda-new\\Lib\\site-packages\\anndata\\_core\\anndata.py:1791: UserWarning: Observation names are not unique. To make them unique, call `.obs_names_make_unique`.\n",
      "  utils.warn_names_duplicates(\"obs\")\n",
      "c:\\Users\\prath\\anaconda-new\\Lib\\site-packages\\anndata\\_core\\anndata.py:1793: UserWarning: Variable names are not unique. To make them unique, call `.var_names_make_unique`.\n",
      "  utils.warn_names_duplicates(\"var\")\n"
     ]
    },
    {
     "name": "stdout",
     "output_type": "stream",
     "text": [
      "✅ Saved imputed_gan\\adata_adata_gan_imputed_mf20_run7.h5ad\n",
      "Processing dropout_h5ad\\adata_dropout_mf20_run8.h5ad with GAN...\n"
     ]
    },
    {
     "name": "stderr",
     "output_type": "stream",
     "text": [
      "c:\\Users\\prath\\anaconda-new\\Lib\\site-packages\\anndata\\_core\\anndata.py:1791: UserWarning: Observation names are not unique. To make them unique, call `.obs_names_make_unique`.\n",
      "  utils.warn_names_duplicates(\"obs\")\n",
      "c:\\Users\\prath\\anaconda-new\\Lib\\site-packages\\anndata\\_core\\anndata.py:1793: UserWarning: Variable names are not unique. To make them unique, call `.var_names_make_unique`.\n",
      "  utils.warn_names_duplicates(\"var\")\n"
     ]
    },
    {
     "name": "stdout",
     "output_type": "stream",
     "text": [
      "✅ Saved imputed_gan\\adata_adata_gan_imputed_mf20_run8.h5ad\n",
      "Processing dropout_h5ad\\adata_dropout_mf20_run9.h5ad with GAN...\n"
     ]
    },
    {
     "name": "stderr",
     "output_type": "stream",
     "text": [
      "c:\\Users\\prath\\anaconda-new\\Lib\\site-packages\\anndata\\_core\\anndata.py:1791: UserWarning: Observation names are not unique. To make them unique, call `.obs_names_make_unique`.\n",
      "  utils.warn_names_duplicates(\"obs\")\n",
      "c:\\Users\\prath\\anaconda-new\\Lib\\site-packages\\anndata\\_core\\anndata.py:1793: UserWarning: Variable names are not unique. To make them unique, call `.var_names_make_unique`.\n",
      "  utils.warn_names_duplicates(\"var\")\n"
     ]
    },
    {
     "name": "stdout",
     "output_type": "stream",
     "text": [
      "✅ Saved imputed_gan\\adata_adata_gan_imputed_mf20_run9.h5ad\n",
      "Processing dropout_h5ad\\adata_dropout_mf30_run1.h5ad with GAN...\n"
     ]
    },
    {
     "name": "stderr",
     "output_type": "stream",
     "text": [
      "c:\\Users\\prath\\anaconda-new\\Lib\\site-packages\\anndata\\_core\\anndata.py:1791: UserWarning: Observation names are not unique. To make them unique, call `.obs_names_make_unique`.\n",
      "  utils.warn_names_duplicates(\"obs\")\n",
      "c:\\Users\\prath\\anaconda-new\\Lib\\site-packages\\anndata\\_core\\anndata.py:1793: UserWarning: Variable names are not unique. To make them unique, call `.var_names_make_unique`.\n",
      "  utils.warn_names_duplicates(\"var\")\n"
     ]
    },
    {
     "name": "stdout",
     "output_type": "stream",
     "text": [
      "✅ Saved imputed_gan\\adata_adata_gan_imputed_mf30_run1.h5ad\n",
      "Processing dropout_h5ad\\adata_dropout_mf30_run10.h5ad with GAN...\n"
     ]
    },
    {
     "name": "stderr",
     "output_type": "stream",
     "text": [
      "c:\\Users\\prath\\anaconda-new\\Lib\\site-packages\\anndata\\_core\\anndata.py:1791: UserWarning: Observation names are not unique. To make them unique, call `.obs_names_make_unique`.\n",
      "  utils.warn_names_duplicates(\"obs\")\n",
      "c:\\Users\\prath\\anaconda-new\\Lib\\site-packages\\anndata\\_core\\anndata.py:1793: UserWarning: Variable names are not unique. To make them unique, call `.var_names_make_unique`.\n",
      "  utils.warn_names_duplicates(\"var\")\n"
     ]
    },
    {
     "name": "stdout",
     "output_type": "stream",
     "text": [
      "✅ Saved imputed_gan\\adata_adata_gan_imputed_mf30_run10.h5ad\n",
      "Processing dropout_h5ad\\adata_dropout_mf30_run2.h5ad with GAN...\n"
     ]
    },
    {
     "name": "stderr",
     "output_type": "stream",
     "text": [
      "c:\\Users\\prath\\anaconda-new\\Lib\\site-packages\\anndata\\_core\\anndata.py:1791: UserWarning: Observation names are not unique. To make them unique, call `.obs_names_make_unique`.\n",
      "  utils.warn_names_duplicates(\"obs\")\n",
      "c:\\Users\\prath\\anaconda-new\\Lib\\site-packages\\anndata\\_core\\anndata.py:1793: UserWarning: Variable names are not unique. To make them unique, call `.var_names_make_unique`.\n",
      "  utils.warn_names_duplicates(\"var\")\n"
     ]
    },
    {
     "name": "stdout",
     "output_type": "stream",
     "text": [
      "✅ Saved imputed_gan\\adata_adata_gan_imputed_mf30_run2.h5ad\n",
      "Processing dropout_h5ad\\adata_dropout_mf30_run3.h5ad with GAN...\n"
     ]
    },
    {
     "name": "stderr",
     "output_type": "stream",
     "text": [
      "c:\\Users\\prath\\anaconda-new\\Lib\\site-packages\\anndata\\_core\\anndata.py:1791: UserWarning: Observation names are not unique. To make them unique, call `.obs_names_make_unique`.\n",
      "  utils.warn_names_duplicates(\"obs\")\n",
      "c:\\Users\\prath\\anaconda-new\\Lib\\site-packages\\anndata\\_core\\anndata.py:1793: UserWarning: Variable names are not unique. To make them unique, call `.var_names_make_unique`.\n",
      "  utils.warn_names_duplicates(\"var\")\n"
     ]
    },
    {
     "name": "stdout",
     "output_type": "stream",
     "text": [
      "✅ Saved imputed_gan\\adata_adata_gan_imputed_mf30_run3.h5ad\n",
      "Processing dropout_h5ad\\adata_dropout_mf30_run4.h5ad with GAN...\n"
     ]
    },
    {
     "name": "stderr",
     "output_type": "stream",
     "text": [
      "c:\\Users\\prath\\anaconda-new\\Lib\\site-packages\\anndata\\_core\\anndata.py:1791: UserWarning: Observation names are not unique. To make them unique, call `.obs_names_make_unique`.\n",
      "  utils.warn_names_duplicates(\"obs\")\n",
      "c:\\Users\\prath\\anaconda-new\\Lib\\site-packages\\anndata\\_core\\anndata.py:1793: UserWarning: Variable names are not unique. To make them unique, call `.var_names_make_unique`.\n",
      "  utils.warn_names_duplicates(\"var\")\n"
     ]
    },
    {
     "name": "stdout",
     "output_type": "stream",
     "text": [
      "✅ Saved imputed_gan\\adata_adata_gan_imputed_mf30_run4.h5ad\n",
      "Processing dropout_h5ad\\adata_dropout_mf30_run5.h5ad with GAN...\n"
     ]
    },
    {
     "name": "stderr",
     "output_type": "stream",
     "text": [
      "c:\\Users\\prath\\anaconda-new\\Lib\\site-packages\\anndata\\_core\\anndata.py:1791: UserWarning: Observation names are not unique. To make them unique, call `.obs_names_make_unique`.\n",
      "  utils.warn_names_duplicates(\"obs\")\n",
      "c:\\Users\\prath\\anaconda-new\\Lib\\site-packages\\anndata\\_core\\anndata.py:1793: UserWarning: Variable names are not unique. To make them unique, call `.var_names_make_unique`.\n",
      "  utils.warn_names_duplicates(\"var\")\n"
     ]
    },
    {
     "name": "stdout",
     "output_type": "stream",
     "text": [
      "✅ Saved imputed_gan\\adata_adata_gan_imputed_mf30_run5.h5ad\n",
      "Processing dropout_h5ad\\adata_dropout_mf30_run6.h5ad with GAN...\n"
     ]
    },
    {
     "name": "stderr",
     "output_type": "stream",
     "text": [
      "c:\\Users\\prath\\anaconda-new\\Lib\\site-packages\\anndata\\_core\\anndata.py:1791: UserWarning: Observation names are not unique. To make them unique, call `.obs_names_make_unique`.\n",
      "  utils.warn_names_duplicates(\"obs\")\n",
      "c:\\Users\\prath\\anaconda-new\\Lib\\site-packages\\anndata\\_core\\anndata.py:1793: UserWarning: Variable names are not unique. To make them unique, call `.var_names_make_unique`.\n",
      "  utils.warn_names_duplicates(\"var\")\n"
     ]
    },
    {
     "name": "stdout",
     "output_type": "stream",
     "text": [
      "✅ Saved imputed_gan\\adata_adata_gan_imputed_mf30_run6.h5ad\n",
      "Processing dropout_h5ad\\adata_dropout_mf30_run7.h5ad with GAN...\n"
     ]
    },
    {
     "name": "stderr",
     "output_type": "stream",
     "text": [
      "c:\\Users\\prath\\anaconda-new\\Lib\\site-packages\\anndata\\_core\\anndata.py:1791: UserWarning: Observation names are not unique. To make them unique, call `.obs_names_make_unique`.\n",
      "  utils.warn_names_duplicates(\"obs\")\n",
      "c:\\Users\\prath\\anaconda-new\\Lib\\site-packages\\anndata\\_core\\anndata.py:1793: UserWarning: Variable names are not unique. To make them unique, call `.var_names_make_unique`.\n",
      "  utils.warn_names_duplicates(\"var\")\n"
     ]
    },
    {
     "name": "stdout",
     "output_type": "stream",
     "text": [
      "✅ Saved imputed_gan\\adata_adata_gan_imputed_mf30_run7.h5ad\n",
      "Processing dropout_h5ad\\adata_dropout_mf30_run8.h5ad with GAN...\n"
     ]
    },
    {
     "name": "stderr",
     "output_type": "stream",
     "text": [
      "c:\\Users\\prath\\anaconda-new\\Lib\\site-packages\\anndata\\_core\\anndata.py:1791: UserWarning: Observation names are not unique. To make them unique, call `.obs_names_make_unique`.\n",
      "  utils.warn_names_duplicates(\"obs\")\n",
      "c:\\Users\\prath\\anaconda-new\\Lib\\site-packages\\anndata\\_core\\anndata.py:1793: UserWarning: Variable names are not unique. To make them unique, call `.var_names_make_unique`.\n",
      "  utils.warn_names_duplicates(\"var\")\n"
     ]
    },
    {
     "name": "stdout",
     "output_type": "stream",
     "text": [
      "✅ Saved imputed_gan\\adata_adata_gan_imputed_mf30_run8.h5ad\n",
      "Processing dropout_h5ad\\adata_dropout_mf30_run9.h5ad with GAN...\n"
     ]
    },
    {
     "name": "stderr",
     "output_type": "stream",
     "text": [
      "c:\\Users\\prath\\anaconda-new\\Lib\\site-packages\\anndata\\_core\\anndata.py:1791: UserWarning: Observation names are not unique. To make them unique, call `.obs_names_make_unique`.\n",
      "  utils.warn_names_duplicates(\"obs\")\n",
      "c:\\Users\\prath\\anaconda-new\\Lib\\site-packages\\anndata\\_core\\anndata.py:1793: UserWarning: Variable names are not unique. To make them unique, call `.var_names_make_unique`.\n",
      "  utils.warn_names_duplicates(\"var\")\n"
     ]
    },
    {
     "name": "stdout",
     "output_type": "stream",
     "text": [
      "✅ Saved imputed_gan\\adata_adata_gan_imputed_mf30_run9.h5ad\n"
     ]
    }
   ],
   "source": [
    "import scanpy as sc\n",
    "import torch\n",
    "import torch.nn as nn\n",
    "import os\n",
    "from glob import glob\n",
    "\n",
    "# -----------------------------\n",
    "# Simple GAN for Imputation\n",
    "# -----------------------------\n",
    "class Generator(nn.Module):\n",
    "    def __init__(self, input_dim, hidden_dim=256):\n",
    "        super().__init__()\n",
    "        self.net = nn.Sequential(\n",
    "            nn.Linear(input_dim, hidden_dim),\n",
    "            nn.ReLU(),\n",
    "            nn.Linear(hidden_dim, input_dim),\n",
    "            nn.ReLU()\n",
    "        )\n",
    "\n",
    "    def forward(self, x):\n",
    "        return self.net(x)\n",
    "\n",
    "class Discriminator(nn.Module):\n",
    "    def __init__(self, input_dim, hidden_dim=256):\n",
    "        super().__init__()\n",
    "        self.net = nn.Sequential(\n",
    "            nn.Linear(input_dim, hidden_dim),\n",
    "            nn.ReLU(),\n",
    "            nn.Linear(hidden_dim, 1),\n",
    "            nn.Sigmoid()\n",
    "        )\n",
    "\n",
    "    def forward(self, x):\n",
    "        return self.net(x)\n",
    "\n",
    "# -----------------------------\n",
    "# Imputation function\n",
    "# -----------------------------\n",
    "def gan_impute(adata, epochs=100, lr=1e-4):\n",
    "    # Convert sparse matrix → dense numpy\n",
    "    if hasattr(adata.X, \"toarray\"):  \n",
    "        X = adata.X.toarray()  \n",
    "    else:\n",
    "        X = adata.X  \n",
    "    \n",
    "    X = torch.tensor(X, dtype=torch.float32)\n",
    "\n",
    "    input_dim = X.shape[1]\n",
    "    G, D = Generator(input_dim), Discriminator(input_dim)\n",
    "\n",
    "    g_opt = torch.optim.Adam(G.parameters(), lr=lr)\n",
    "    d_opt = torch.optim.Adam(D.parameters(), lr=lr)\n",
    "    loss_fn = nn.BCELoss()\n",
    "\n",
    "    for epoch in range(epochs):\n",
    "        # Train discriminator\n",
    "        real = X\n",
    "        noise = torch.randn_like(real)\n",
    "        fake = G(noise)\n",
    "\n",
    "        d_real = D(real)\n",
    "        d_fake = D(fake.detach())\n",
    "        d_loss = loss_fn(d_real, torch.ones_like(d_real)) + loss_fn(d_fake, torch.zeros_like(d_fake))\n",
    "        d_opt.zero_grad()\n",
    "        d_loss.backward()\n",
    "        d_opt.step()\n",
    "\n",
    "        # Train generator\n",
    "        fake = G(noise)\n",
    "        d_fake = D(fake)\n",
    "        g_loss = loss_fn(d_fake, torch.ones_like(d_fake))\n",
    "        g_opt.zero_grad()\n",
    "        g_loss.backward()\n",
    "        g_opt.step()\n",
    "\n",
    "    # Use generator output as imputation\n",
    "    imputed = G(torch.randn_like(X)).detach().numpy()\n",
    "    adata.layers[\"imputed\"] = imputed\n",
    "    return adata\n",
    "\n",
    "\n",
    "# -----------------------------\n",
    "# Run GAN Imputation\n",
    "# -----------------------------\n",
    "input_dir = \"dropout_h5ad\"\n",
    "output_dir = \"imputed_gan\"\n",
    "os.makedirs(output_dir, exist_ok=True)\n",
    "\n",
    "files = glob(os.path.join(input_dir, \"*.h5ad\"))\n",
    "\n",
    "for f in files:\n",
    "    print(f\"Processing {f} with GAN...\")\n",
    "    adata = sc.read_h5ad(f)\n",
    "\n",
    "    adata = gan_impute(adata, epochs=200)\n",
    "\n",
    "    out = os.path.join(output_dir, os.path.basename(f).replace(\"dropout\", \"adata_gan_imputed\"))\n",
    "    adata.write_h5ad(out)\n",
    "    print(f\"✅ Saved {out}\")\n"
   ]
  },
  {
   "cell_type": "code",
   "execution_count": 1,
   "id": "4ce18eb9",
   "metadata": {},
   "outputs": [
    {
     "ename": "ValueError",
     "evalue": "numpy.dtype size changed, may indicate binary incompatibility. Expected 96 from C header, got 88 from PyObject",
     "output_type": "error",
     "traceback": [
      "\u001b[1;31m---------------------------------------------------------------------------\u001b[0m",
      "\u001b[1;31mValueError\u001b[0m                                Traceback (most recent call last)",
      "Cell \u001b[1;32mIn[1], line 1\u001b[0m\n\u001b[1;32m----> 1\u001b[0m \u001b[38;5;28;01mimport\u001b[39;00m\u001b[38;5;250m \u001b[39m\u001b[38;5;21;01mscanpy\u001b[39;00m\u001b[38;5;250m \u001b[39m\u001b[38;5;28;01mas\u001b[39;00m\u001b[38;5;250m \u001b[39m\u001b[38;5;21;01msc\u001b[39;00m\n\u001b[0;32m      2\u001b[0m \u001b[38;5;28;01mimport\u001b[39;00m\u001b[38;5;250m \u001b[39m\u001b[38;5;21;01mscvi\u001b[39;00m\n\u001b[0;32m      3\u001b[0m \u001b[38;5;28;01mimport\u001b[39;00m\u001b[38;5;250m \u001b[39m\u001b[38;5;21;01mnumpy\u001b[39;00m\u001b[38;5;250m \u001b[39m\u001b[38;5;28;01mas\u001b[39;00m\u001b[38;5;250m \u001b[39m\u001b[38;5;21;01mnp\u001b[39;00m\n",
      "File \u001b[1;32mc:\\Users\\prath\\anaconda-new\\envs\\scanpy_env\\lib\\site-packages\\scanpy\\__init__.py:9\u001b[0m\n\u001b[0;32m      5\u001b[0m \u001b[38;5;28;01mimport\u001b[39;00m\u001b[38;5;250m \u001b[39m\u001b[38;5;21;01msys\u001b[39;00m\n\u001b[0;32m      7\u001b[0m \u001b[38;5;28;01mfrom\u001b[39;00m\u001b[38;5;250m \u001b[39m\u001b[38;5;21;01mpackaging\u001b[39;00m\u001b[38;5;21;01m.\u001b[39;00m\u001b[38;5;21;01mversion\u001b[39;00m\u001b[38;5;250m \u001b[39m\u001b[38;5;28;01mimport\u001b[39;00m Version\n\u001b[1;32m----> 9\u001b[0m \u001b[38;5;28;01mfrom\u001b[39;00m\u001b[38;5;250m \u001b[39m\u001b[38;5;21;01m.\u001b[39;00m\u001b[38;5;21;01m_utils\u001b[39;00m\u001b[38;5;250m \u001b[39m\u001b[38;5;28;01mimport\u001b[39;00m check_versions\n\u001b[0;32m     10\u001b[0m \u001b[38;5;28;01mfrom\u001b[39;00m\u001b[38;5;250m \u001b[39m\u001b[38;5;21;01m.\u001b[39;00m\u001b[38;5;21;01m_version\u001b[39;00m\u001b[38;5;250m \u001b[39m\u001b[38;5;28;01mimport\u001b[39;00m __version__\n\u001b[0;32m     12\u001b[0m check_versions()\n",
      "File \u001b[1;32mc:\\Users\\prath\\anaconda-new\\envs\\scanpy_env\\lib\\site-packages\\scanpy\\_utils\\__init__.py:33\u001b[0m\n\u001b[0;32m     31\u001b[0m \u001b[38;5;28;01mimport\u001b[39;00m\u001b[38;5;250m \u001b[39m\u001b[38;5;21;01mh5py\u001b[39;00m\n\u001b[0;32m     32\u001b[0m \u001b[38;5;28;01mimport\u001b[39;00m\u001b[38;5;250m \u001b[39m\u001b[38;5;21;01mnumpy\u001b[39;00m\u001b[38;5;250m \u001b[39m\u001b[38;5;28;01mas\u001b[39;00m\u001b[38;5;250m \u001b[39m\u001b[38;5;21;01mnp\u001b[39;00m\n\u001b[1;32m---> 33\u001b[0m \u001b[38;5;28;01mfrom\u001b[39;00m\u001b[38;5;250m \u001b[39m\u001b[38;5;21;01manndata\u001b[39;00m\u001b[38;5;250m \u001b[39m\u001b[38;5;28;01mimport\u001b[39;00m __version__ \u001b[38;5;28;01mas\u001b[39;00m anndata_version\n\u001b[0;32m     34\u001b[0m \u001b[38;5;28;01mfrom\u001b[39;00m\u001b[38;5;250m \u001b[39m\u001b[38;5;21;01mpackaging\u001b[39;00m\u001b[38;5;21;01m.\u001b[39;00m\u001b[38;5;21;01mversion\u001b[39;00m\u001b[38;5;250m \u001b[39m\u001b[38;5;28;01mimport\u001b[39;00m Version\n\u001b[0;32m     35\u001b[0m \u001b[38;5;28;01mfrom\u001b[39;00m\u001b[38;5;250m \u001b[39m\u001b[38;5;21;01mscipy\u001b[39;00m\u001b[38;5;250m \u001b[39m\u001b[38;5;28;01mimport\u001b[39;00m sparse\n",
      "File \u001b[1;32mc:\\Users\\prath\\anaconda-new\\envs\\scanpy_env\\lib\\site-packages\\anndata\\__init__.py:19\u001b[0m\n\u001b[0;32m     15\u001b[0m \u001b[38;5;28;01mif\u001b[39;00m sys\u001b[38;5;241m.\u001b[39mversion_info \u001b[38;5;241m<\u001b[39m (\u001b[38;5;241m3\u001b[39m, \u001b[38;5;241m11\u001b[39m):\n\u001b[0;32m     16\u001b[0m     \u001b[38;5;66;03m# Backport package for exception groups\u001b[39;00m\n\u001b[0;32m     17\u001b[0m     \u001b[38;5;28;01mimport\u001b[39;00m\u001b[38;5;250m \u001b[39m\u001b[38;5;21;01mexceptiongroup\u001b[39;00m  \u001b[38;5;66;03m# noqa: F401\u001b[39;00m\n\u001b[1;32m---> 19\u001b[0m \u001b[38;5;28;01mfrom\u001b[39;00m\u001b[38;5;250m \u001b[39m\u001b[38;5;21;01m.\u001b[39;00m\u001b[38;5;21;01m_core\u001b[39;00m\u001b[38;5;21;01m.\u001b[39;00m\u001b[38;5;21;01manndata\u001b[39;00m\u001b[38;5;250m \u001b[39m\u001b[38;5;28;01mimport\u001b[39;00m AnnData\n\u001b[0;32m     20\u001b[0m \u001b[38;5;28;01mfrom\u001b[39;00m\u001b[38;5;250m \u001b[39m\u001b[38;5;21;01m.\u001b[39;00m\u001b[38;5;21;01m_core\u001b[39;00m\u001b[38;5;21;01m.\u001b[39;00m\u001b[38;5;21;01mmerge\u001b[39;00m\u001b[38;5;250m \u001b[39m\u001b[38;5;28;01mimport\u001b[39;00m concat\n\u001b[0;32m     21\u001b[0m \u001b[38;5;28;01mfrom\u001b[39;00m\u001b[38;5;250m \u001b[39m\u001b[38;5;21;01m.\u001b[39;00m\u001b[38;5;21;01m_core\u001b[39;00m\u001b[38;5;21;01m.\u001b[39;00m\u001b[38;5;21;01mraw\u001b[39;00m\u001b[38;5;250m \u001b[39m\u001b[38;5;28;01mimport\u001b[39;00m Raw\n",
      "File \u001b[1;32mc:\\Users\\prath\\anaconda-new\\envs\\scanpy_env\\lib\\site-packages\\anndata\\_core\\anndata.py:18\u001b[0m\n\u001b[0;32m     16\u001b[0m \u001b[38;5;28;01mimport\u001b[39;00m\u001b[38;5;250m \u001b[39m\u001b[38;5;21;01mh5py\u001b[39;00m\n\u001b[0;32m     17\u001b[0m \u001b[38;5;28;01mimport\u001b[39;00m\u001b[38;5;250m \u001b[39m\u001b[38;5;21;01mnumpy\u001b[39;00m\u001b[38;5;250m \u001b[39m\u001b[38;5;28;01mas\u001b[39;00m\u001b[38;5;250m \u001b[39m\u001b[38;5;21;01mnp\u001b[39;00m\n\u001b[1;32m---> 18\u001b[0m \u001b[38;5;28;01mimport\u001b[39;00m\u001b[38;5;250m \u001b[39m\u001b[38;5;21;01mpandas\u001b[39;00m\u001b[38;5;250m \u001b[39m\u001b[38;5;28;01mas\u001b[39;00m\u001b[38;5;250m \u001b[39m\u001b[38;5;21;01mpd\u001b[39;00m\n\u001b[0;32m     19\u001b[0m \u001b[38;5;28;01mfrom\u001b[39;00m\u001b[38;5;250m \u001b[39m\u001b[38;5;21;01mnatsort\u001b[39;00m\u001b[38;5;250m \u001b[39m\u001b[38;5;28;01mimport\u001b[39;00m natsorted\n\u001b[0;32m     20\u001b[0m \u001b[38;5;28;01mfrom\u001b[39;00m\u001b[38;5;250m \u001b[39m\u001b[38;5;21;01mnumpy\u001b[39;00m\u001b[38;5;250m \u001b[39m\u001b[38;5;28;01mimport\u001b[39;00m ma\n",
      "File \u001b[1;32mc:\\Users\\prath\\anaconda-new\\envs\\scanpy_env\\lib\\site-packages\\pandas\\__init__.py:22\u001b[0m\n\u001b[0;32m     19\u001b[0m \u001b[38;5;28;01mdel\u001b[39;00m _hard_dependencies, _dependency, _missing_dependencies\n\u001b[0;32m     21\u001b[0m \u001b[38;5;66;03m# numpy compat\u001b[39;00m\n\u001b[1;32m---> 22\u001b[0m \u001b[38;5;28;01mfrom\u001b[39;00m\u001b[38;5;250m \u001b[39m\u001b[38;5;21;01mpandas\u001b[39;00m\u001b[38;5;21;01m.\u001b[39;00m\u001b[38;5;21;01mcompat\u001b[39;00m\u001b[38;5;250m \u001b[39m\u001b[38;5;28;01mimport\u001b[39;00m is_numpy_dev \u001b[38;5;28;01mas\u001b[39;00m _is_numpy_dev  \u001b[38;5;66;03m# pyright: ignore # noqa:F401\u001b[39;00m\n\u001b[0;32m     24\u001b[0m \u001b[38;5;28;01mtry\u001b[39;00m:\n\u001b[0;32m     25\u001b[0m     \u001b[38;5;28;01mfrom\u001b[39;00m\u001b[38;5;250m \u001b[39m\u001b[38;5;21;01mpandas\u001b[39;00m\u001b[38;5;21;01m.\u001b[39;00m\u001b[38;5;21;01m_libs\u001b[39;00m\u001b[38;5;250m \u001b[39m\u001b[38;5;28;01mimport\u001b[39;00m hashtable \u001b[38;5;28;01mas\u001b[39;00m _hashtable, lib \u001b[38;5;28;01mas\u001b[39;00m _lib, tslib \u001b[38;5;28;01mas\u001b[39;00m _tslib\n",
      "File \u001b[1;32mc:\\Users\\prath\\anaconda-new\\envs\\scanpy_env\\lib\\site-packages\\pandas\\compat\\__init__.py:25\u001b[0m\n\u001b[0;32m     17\u001b[0m \u001b[38;5;28;01mfrom\u001b[39;00m\u001b[38;5;250m \u001b[39m\u001b[38;5;21;01mpandas\u001b[39;00m\u001b[38;5;21;01m.\u001b[39;00m\u001b[38;5;21;01mcompat\u001b[39;00m\u001b[38;5;21;01m.\u001b[39;00m\u001b[38;5;21;01m_constants\u001b[39;00m\u001b[38;5;250m \u001b[39m\u001b[38;5;28;01mimport\u001b[39;00m (\n\u001b[0;32m     18\u001b[0m     IS64,\n\u001b[0;32m     19\u001b[0m     PY39,\n\u001b[1;32m   (...)\u001b[0m\n\u001b[0;32m     22\u001b[0m     PYPY,\n\u001b[0;32m     23\u001b[0m )\n\u001b[0;32m     24\u001b[0m \u001b[38;5;28;01mimport\u001b[39;00m\u001b[38;5;250m \u001b[39m\u001b[38;5;21;01mpandas\u001b[39;00m\u001b[38;5;21;01m.\u001b[39;00m\u001b[38;5;21;01mcompat\u001b[39;00m\u001b[38;5;21;01m.\u001b[39;00m\u001b[38;5;21;01mcompressors\u001b[39;00m\n\u001b[1;32m---> 25\u001b[0m \u001b[38;5;28;01mfrom\u001b[39;00m\u001b[38;5;250m \u001b[39m\u001b[38;5;21;01mpandas\u001b[39;00m\u001b[38;5;21;01m.\u001b[39;00m\u001b[38;5;21;01mcompat\u001b[39;00m\u001b[38;5;21;01m.\u001b[39;00m\u001b[38;5;21;01mnumpy\u001b[39;00m\u001b[38;5;250m \u001b[39m\u001b[38;5;28;01mimport\u001b[39;00m (\n\u001b[0;32m     26\u001b[0m     is_numpy_dev,\n\u001b[0;32m     27\u001b[0m     np_version_under1p21,\n\u001b[0;32m     28\u001b[0m )\n\u001b[0;32m     29\u001b[0m \u001b[38;5;28;01mfrom\u001b[39;00m\u001b[38;5;250m \u001b[39m\u001b[38;5;21;01mpandas\u001b[39;00m\u001b[38;5;21;01m.\u001b[39;00m\u001b[38;5;21;01mcompat\u001b[39;00m\u001b[38;5;21;01m.\u001b[39;00m\u001b[38;5;21;01mpyarrow\u001b[39;00m\u001b[38;5;250m \u001b[39m\u001b[38;5;28;01mimport\u001b[39;00m (\n\u001b[0;32m     30\u001b[0m     pa_version_under7p0,\n\u001b[0;32m     31\u001b[0m     pa_version_under8p0,\n\u001b[0;32m     32\u001b[0m     pa_version_under9p0,\n\u001b[0;32m     33\u001b[0m     pa_version_under11p0,\n\u001b[0;32m     34\u001b[0m )\n\u001b[0;32m     37\u001b[0m \u001b[38;5;28;01mdef\u001b[39;00m\u001b[38;5;250m \u001b[39m\u001b[38;5;21mset_function_name\u001b[39m(f: F, name: \u001b[38;5;28mstr\u001b[39m, \u001b[38;5;28mcls\u001b[39m) \u001b[38;5;241m-\u001b[39m\u001b[38;5;241m>\u001b[39m F:\n",
      "File \u001b[1;32mc:\\Users\\prath\\anaconda-new\\envs\\scanpy_env\\lib\\site-packages\\pandas\\compat\\numpy\\__init__.py:4\u001b[0m\n\u001b[0;32m      1\u001b[0m \u001b[38;5;124;03m\"\"\" support numpy compatibility across versions \"\"\"\u001b[39;00m\n\u001b[0;32m      2\u001b[0m \u001b[38;5;28;01mimport\u001b[39;00m\u001b[38;5;250m \u001b[39m\u001b[38;5;21;01mnumpy\u001b[39;00m\u001b[38;5;250m \u001b[39m\u001b[38;5;28;01mas\u001b[39;00m\u001b[38;5;250m \u001b[39m\u001b[38;5;21;01mnp\u001b[39;00m\n\u001b[1;32m----> 4\u001b[0m \u001b[38;5;28;01mfrom\u001b[39;00m\u001b[38;5;250m \u001b[39m\u001b[38;5;21;01mpandas\u001b[39;00m\u001b[38;5;21;01m.\u001b[39;00m\u001b[38;5;21;01mutil\u001b[39;00m\u001b[38;5;21;01m.\u001b[39;00m\u001b[38;5;21;01mversion\u001b[39;00m\u001b[38;5;250m \u001b[39m\u001b[38;5;28;01mimport\u001b[39;00m Version\n\u001b[0;32m      6\u001b[0m \u001b[38;5;66;03m# numpy versioning\u001b[39;00m\n\u001b[0;32m      7\u001b[0m _np_version \u001b[38;5;241m=\u001b[39m np\u001b[38;5;241m.\u001b[39m__version__\n",
      "File \u001b[1;32mc:\\Users\\prath\\anaconda-new\\envs\\scanpy_env\\lib\\site-packages\\pandas\\util\\__init__.py:2\u001b[0m\n\u001b[0;32m      1\u001b[0m \u001b[38;5;66;03m# pyright: reportUnusedImport = false\u001b[39;00m\n\u001b[1;32m----> 2\u001b[0m \u001b[38;5;28;01mfrom\u001b[39;00m\u001b[38;5;250m \u001b[39m\u001b[38;5;21;01mpandas\u001b[39;00m\u001b[38;5;21;01m.\u001b[39;00m\u001b[38;5;21;01mutil\u001b[39;00m\u001b[38;5;21;01m.\u001b[39;00m\u001b[38;5;21;01m_decorators\u001b[39;00m\u001b[38;5;250m \u001b[39m\u001b[38;5;28;01mimport\u001b[39;00m (  \u001b[38;5;66;03m# noqa:F401\u001b[39;00m\n\u001b[0;32m      3\u001b[0m     Appender,\n\u001b[0;32m      4\u001b[0m     Substitution,\n\u001b[0;32m      5\u001b[0m     cache_readonly,\n\u001b[0;32m      6\u001b[0m )\n\u001b[0;32m      8\u001b[0m \u001b[38;5;28;01mfrom\u001b[39;00m\u001b[38;5;250m \u001b[39m\u001b[38;5;21;01mpandas\u001b[39;00m\u001b[38;5;21;01m.\u001b[39;00m\u001b[38;5;21;01mcore\u001b[39;00m\u001b[38;5;21;01m.\u001b[39;00m\u001b[38;5;21;01mutil\u001b[39;00m\u001b[38;5;21;01m.\u001b[39;00m\u001b[38;5;21;01mhashing\u001b[39;00m\u001b[38;5;250m \u001b[39m\u001b[38;5;28;01mimport\u001b[39;00m (  \u001b[38;5;66;03m# noqa:F401\u001b[39;00m\n\u001b[0;32m      9\u001b[0m     hash_array,\n\u001b[0;32m     10\u001b[0m     hash_pandas_object,\n\u001b[0;32m     11\u001b[0m )\n",
      "File \u001b[1;32mc:\\Users\\prath\\anaconda-new\\envs\\scanpy_env\\lib\\site-packages\\pandas\\util\\_decorators.py:14\u001b[0m\n\u001b[0;32m      6\u001b[0m \u001b[38;5;28;01mfrom\u001b[39;00m\u001b[38;5;250m \u001b[39m\u001b[38;5;21;01mtyping\u001b[39;00m\u001b[38;5;250m \u001b[39m\u001b[38;5;28;01mimport\u001b[39;00m (\n\u001b[0;32m      7\u001b[0m     Any,\n\u001b[0;32m      8\u001b[0m     Callable,\n\u001b[0;32m      9\u001b[0m     Mapping,\n\u001b[0;32m     10\u001b[0m     cast,\n\u001b[0;32m     11\u001b[0m )\n\u001b[0;32m     12\u001b[0m \u001b[38;5;28;01mimport\u001b[39;00m\u001b[38;5;250m \u001b[39m\u001b[38;5;21;01mwarnings\u001b[39;00m\n\u001b[1;32m---> 14\u001b[0m \u001b[38;5;28;01mfrom\u001b[39;00m\u001b[38;5;250m \u001b[39m\u001b[38;5;21;01mpandas\u001b[39;00m\u001b[38;5;21;01m.\u001b[39;00m\u001b[38;5;21;01m_libs\u001b[39;00m\u001b[38;5;21;01m.\u001b[39;00m\u001b[38;5;21;01mproperties\u001b[39;00m\u001b[38;5;250m \u001b[39m\u001b[38;5;28;01mimport\u001b[39;00m cache_readonly\n\u001b[0;32m     15\u001b[0m \u001b[38;5;28;01mfrom\u001b[39;00m\u001b[38;5;250m \u001b[39m\u001b[38;5;21;01mpandas\u001b[39;00m\u001b[38;5;21;01m.\u001b[39;00m\u001b[38;5;21;01m_typing\u001b[39;00m\u001b[38;5;250m \u001b[39m\u001b[38;5;28;01mimport\u001b[39;00m (\n\u001b[0;32m     16\u001b[0m     F,\n\u001b[0;32m     17\u001b[0m     T,\n\u001b[0;32m     18\u001b[0m )\n\u001b[0;32m     19\u001b[0m \u001b[38;5;28;01mfrom\u001b[39;00m\u001b[38;5;250m \u001b[39m\u001b[38;5;21;01mpandas\u001b[39;00m\u001b[38;5;21;01m.\u001b[39;00m\u001b[38;5;21;01mutil\u001b[39;00m\u001b[38;5;21;01m.\u001b[39;00m\u001b[38;5;21;01m_exceptions\u001b[39;00m\u001b[38;5;250m \u001b[39m\u001b[38;5;28;01mimport\u001b[39;00m find_stack_level\n",
      "File \u001b[1;32mc:\\Users\\prath\\anaconda-new\\envs\\scanpy_env\\lib\\site-packages\\pandas\\_libs\\__init__.py:13\u001b[0m\n\u001b[0;32m      1\u001b[0m __all__ \u001b[38;5;241m=\u001b[39m [\n\u001b[0;32m      2\u001b[0m     \u001b[38;5;124m\"\u001b[39m\u001b[38;5;124mNaT\u001b[39m\u001b[38;5;124m\"\u001b[39m,\n\u001b[0;32m      3\u001b[0m     \u001b[38;5;124m\"\u001b[39m\u001b[38;5;124mNaTType\u001b[39m\u001b[38;5;124m\"\u001b[39m,\n\u001b[1;32m   (...)\u001b[0m\n\u001b[0;32m      9\u001b[0m     \u001b[38;5;124m\"\u001b[39m\u001b[38;5;124mInterval\u001b[39m\u001b[38;5;124m\"\u001b[39m,\n\u001b[0;32m     10\u001b[0m ]\n\u001b[1;32m---> 13\u001b[0m \u001b[38;5;28;01mfrom\u001b[39;00m\u001b[38;5;250m \u001b[39m\u001b[38;5;21;01mpandas\u001b[39;00m\u001b[38;5;21;01m.\u001b[39;00m\u001b[38;5;21;01m_libs\u001b[39;00m\u001b[38;5;21;01m.\u001b[39;00m\u001b[38;5;21;01minterval\u001b[39;00m\u001b[38;5;250m \u001b[39m\u001b[38;5;28;01mimport\u001b[39;00m Interval\n\u001b[0;32m     14\u001b[0m \u001b[38;5;28;01mfrom\u001b[39;00m\u001b[38;5;250m \u001b[39m\u001b[38;5;21;01mpandas\u001b[39;00m\u001b[38;5;21;01m.\u001b[39;00m\u001b[38;5;21;01m_libs\u001b[39;00m\u001b[38;5;21;01m.\u001b[39;00m\u001b[38;5;21;01mtslibs\u001b[39;00m\u001b[38;5;250m \u001b[39m\u001b[38;5;28;01mimport\u001b[39;00m (\n\u001b[0;32m     15\u001b[0m     NaT,\n\u001b[0;32m     16\u001b[0m     NaTType,\n\u001b[1;32m   (...)\u001b[0m\n\u001b[0;32m     21\u001b[0m     iNaT,\n\u001b[0;32m     22\u001b[0m )\n",
      "File \u001b[1;32mc:\\Users\\prath\\anaconda-new\\envs\\scanpy_env\\lib\\site-packages\\pandas\\_libs\\interval.pyx:1\u001b[0m, in \u001b[0;36minit pandas._libs.interval\u001b[1;34m()\u001b[0m\n",
      "\u001b[1;31mValueError\u001b[0m: numpy.dtype size changed, may indicate binary incompatibility. Expected 96 from C header, got 88 from PyObject"
     ]
    }
   ],
   "source": [
    "import scanpy as sc\n",
    "import scvi\n",
    "import numpy as np\n",
    "import os\n",
    "from glob import glob\n",
    "\n",
    "# -----------------------------\n",
    "# Input & Output directories\n",
    "# -----------------------------\n",
    "input_dir = \"dropout_h5ad\"\n",
    "output_dir = \"imputed_scvae\"\n",
    "os.makedirs(output_dir, exist_ok=True)\n",
    "\n",
    "files = glob(os.path.join(input_dir, \"*.h5ad\"))\n",
    "\n",
    "for f in files:\n",
    "    print(f\"\\nProcessing {f} with scVAE ...\")\n",
    "\n",
    "    adata = sc.read_h5ad(f)\n",
    "    adata.obs_names_make_unique()\n",
    "    adata.var_names_make_unique()\n",
    "\n",
    "    # -----------------------------\n",
    "    # Setup scVI\n",
    "    # -----------------------------\n",
    "    scvi.model.SCVI.setup_anndata(\n",
    "        adata,\n",
    "        layer=None,            # counts are in adata.X\n",
    "        categorical_covariate_keys=None,\n",
    "        continuous_covariate_keys=None\n",
    "    )\n",
    "\n",
    "    # -----------------------------\n",
    "    # Train SCVI model\n",
    "    # -----------------------------\n",
    "    model = scvi.model.SCVI(\n",
    "        adata,\n",
    "        n_latent=30,           # latent dimensions\n",
    "        gene_likelihood=\"zinb\" # scRNA-seq usually ZINB\n",
    "    )\n",
    "    model.train(\n",
    "        max_epochs=400,\n",
    "        early_stopping=True,\n",
    "        early_stopping_patience=45\n",
    "    )\n",
    "\n",
    "    # -----------------------------\n",
    "    # Get latent representation\n",
    "    # -----------------------------\n",
    "    Z = model.get_latent_representation()\n",
    "    adata.obsm[\"X_scVI\"] = Z\n",
    "\n",
    "    # -----------------------------\n",
    "    # Denoised (imputed) expression\n",
    "    # -----------------------------\n",
    "    denoised = model.get_normalized_expression(library_size=1e4)\n",
    "    adata.layers[\"scVI_imputed\"] = denoised.values\n",
    "\n",
    "    # -----------------------------\n",
    "    # Save\n",
    "    # -----------------------------\n",
    "    fname = os.path.basename(f).replace(\"adata_dropout\", \"adata_scVI_imputed\")\n",
    "    outpath = os.path.join(output_dir, fname)\n",
    "    adata.write(outpath)\n",
    "\n",
    "    print(f\"✅ Saved scVAE-imputed file to: {outpath}\")\n",
    "\n",
    "print(\"\\nAll files processed with scVAE (scVI) imputation\")\n"
   ]
  },
  {
   "cell_type": "code",
   "execution_count": 14,
   "id": "8d2ac7a4",
   "metadata": {},
   "outputs": [
    {
     "name": "stdout",
     "output_type": "stream",
     "text": [
      "25.0\n"
     ]
    }
   ],
   "source": [
    "import packaging\n",
    "print(packaging.__version__)\n"
   ]
  },
  {
   "cell_type": "code",
   "execution_count": 15,
   "id": "fb0ebb13",
   "metadata": {},
   "outputs": [
    {
     "name": "stdout",
     "output_type": "stream",
     "text": [
      "Collecting packaging==25.0\n",
      "  Using cached packaging-25.0-py3-none-any.whl.metadata (3.3 kB)\n",
      "Using cached packaging-25.0-py3-none-any.whl (66 kB)\n",
      "Installing collected packages: packaging\n",
      "  Attempting uninstall: packaging\n",
      "    Found existing installation: packaging None\n",
      "Note: you may need to restart the kernel to use updated packages.\n"
     ]
    },
    {
     "name": "stderr",
     "output_type": "stream",
     "text": [
      "error: uninstall-no-record-file\n",
      "\n",
      "× Cannot uninstall packaging None\n",
      "╰─> The package's contents are unknown: no RECORD file was found for packaging.\n",
      "\n",
      "hint: You might be able to recover from this via: pip install --force-reinstall --no-deps packaging==23.2\n"
     ]
    }
   ],
   "source": [
    "pip install packaging==25.0\n"
   ]
  },
  {
   "cell_type": "code",
   "execution_count": 17,
   "id": "77c87531",
   "metadata": {},
   "outputs": [
    {
     "name": "stdout",
     "output_type": "stream",
     "text": [
      "Note: you may need to restart the kernel to use updated packages.Collecting packaging==23.2\n",
      "  Using cached packaging-23.2-py3-none-any.whl.metadata (3.2 kB)\n",
      "Using cached packaging-23.2-py3-none-any.whl (53 kB)\n",
      "Installing collected packages: packaging\n",
      "  Attempting uninstall: packaging\n",
      "    Found existing installation: packaging None\n",
      "\n"
     ]
    },
    {
     "name": "stderr",
     "output_type": "stream",
     "text": [
      "error: uninstall-no-record-file\n",
      "\n",
      "× Cannot uninstall packaging None\n",
      "╰─> The package's contents are unknown: no RECORD file was found for packaging.\n",
      "\n",
      "hint: You might be able to recover from this via: pip install --force-reinstall --no-deps packaging==23.2\n"
     ]
    }
   ],
   "source": [
    "pip install --force-reinstall --no-deps packaging==23.2\n"
   ]
  },
  {
   "cell_type": "code",
   "execution_count": null,
   "id": "c7a6035c",
   "metadata": {},
   "outputs": [],
   "source": []
  }
 ],
 "metadata": {
  "kernelspec": {
   "display_name": "scanpy_env",
   "language": "python",
   "name": "python3"
  },
  "language_info": {
   "codemirror_mode": {
    "name": "ipython",
    "version": 3
   },
   "file_extension": ".py",
   "mimetype": "text/x-python",
   "name": "python",
   "nbconvert_exporter": "python",
   "pygments_lexer": "ipython3",
   "version": "3.10.18"
  }
 },
 "nbformat": 4,
 "nbformat_minor": 5
}
