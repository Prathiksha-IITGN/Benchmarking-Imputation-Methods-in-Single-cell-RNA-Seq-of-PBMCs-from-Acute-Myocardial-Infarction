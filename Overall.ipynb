{
 "cells": [
  {
   "cell_type": "code",
   "execution_count": 13,
   "id": "14a84f92",
   "metadata": {},
   "outputs": [],
   "source": [
    "import scanpy as sc\n",
    "from sklearn.metrics import adjusted_rand_score\n",
    "import pandas as pd\n",
    "import os\n",
    "\n",
    "def preprocess_adata(adata):\n",
    "    # QC filtering\n",
    "    sc.pp.filter_cells(adata, min_genes=200)\n",
    "    sc.pp.filter_genes(adata, min_cells=3)\n",
    "\n",
    "    adata.var['mt'] = adata.var_names.str.startswith('MT-')\n",
    "    sc.pp.calculate_qc_metrics(adata, qc_vars=['mt'], percent_top=None, log1p=False, inplace=True)\n",
    "    adata = adata[adata.obs.pct_counts_mt < 5, :]\n",
    "\n",
    "    # Normalize + log\n",
    "    sc.pp.normalize_total(adata, target_sum=1e4)\n",
    "    sc.pp.log1p(adata)\n",
    "\n",
    "    # HVGs\n",
    "    sc.pp.highly_variable_genes(adata, flavor='seurat', n_top_genes=2000)\n",
    "\n",
    "    # PCA + neighbors + clustering\n",
    "    sc.tl.pca(adata, svd_solver='arpack')\n",
    "    sc.pp.neighbors(adata, n_neighbors=10, n_pcs=40)\n",
    "    sc.tl.umap(adata)\n",
    "    sc.tl.leiden(adata)\n",
    "\n",
    "    return adata\n"
   ]
  },
  {
   "cell_type": "code",
   "execution_count": 3,
   "id": "bf80e5ce",
   "metadata": {},
   "outputs": [
    {
     "name": "stdout",
     "output_type": "stream",
     "text": [
      "Collecting igraph\n",
      "  Using cached igraph-0.11.9-cp39-abi3-win_amd64.whl.metadata (4.5 kB)\n",
      "Collecting texttable>=1.6.2 (from igraph)\n",
      "  Using cached texttable-1.7.0-py2.py3-none-any.whl.metadata (9.8 kB)\n",
      "Using cached igraph-0.11.9-cp39-abi3-win_amd64.whl (2.9 MB)\n",
      "Using cached texttable-1.7.0-py2.py3-none-any.whl (10 kB)\n",
      "Installing collected packages: texttable, igraph\n",
      "\n",
      "   -------------------- ------------------- 1/2 [igraph]\n",
      "   -------------------- ------------------- 1/2 [igraph]\n",
      "   -------------------- ------------------- 1/2 [igraph]\n",
      "   -------------------- ------------------- 1/2 [igraph]\n",
      "   -------------------- ------------------- 1/2 [igraph]\n",
      "   -------------------- ------------------- 1/2 [igraph]\n",
      "   -------------------- ------------------- 1/2 [igraph]\n",
      "   ---------------------------------------- 2/2 [igraph]\n",
      "\n",
      "Successfully installed igraph-0.11.9 texttable-1.7.0\n"
     ]
    }
   ],
   "source": [
    "!pip3 install igraph"
   ]
  },
  {
   "cell_type": "code",
   "execution_count": 5,
   "id": "27a3ff10",
   "metadata": {},
   "outputs": [
    {
     "name": "stdout",
     "output_type": "stream",
     "text": [
      "Collecting leidenalg\n",
      "  Using cached leidenalg-0.10.2-cp38-abi3-win_amd64.whl.metadata (10 kB)\n",
      "Requirement already satisfied: igraph<0.12,>=0.10.0 in c:\\users\\prath\\anaconda-new\\lib\\site-packages (from leidenalg) (0.11.9)\n",
      "Requirement already satisfied: texttable>=1.6.2 in c:\\users\\prath\\anaconda-new\\lib\\site-packages (from igraph<0.12,>=0.10.0->leidenalg) (1.7.0)\n",
      "Using cached leidenalg-0.10.2-cp38-abi3-win_amd64.whl (1.6 MB)\n",
      "Installing collected packages: leidenalg\n",
      "Successfully installed leidenalg-0.10.2\n"
     ]
    }
   ],
   "source": [
    "!pip3 install leidenalg"
   ]
  },
  {
   "cell_type": "code",
   "execution_count": 14,
   "id": "16afd229",
   "metadata": {},
   "outputs": [
    {
     "name": "stderr",
     "output_type": "stream",
     "text": [
      "c:\\Users\\prath\\anaconda-new\\Lib\\site-packages\\anndata\\_core\\anndata.py:1791: UserWarning: Observation names are not unique. To make them unique, call `.obs_names_make_unique`.\n",
      "  utils.warn_names_duplicates(\"obs\")\n",
      "c:\\Users\\prath\\anaconda-new\\Lib\\site-packages\\anndata\\_core\\anndata.py:1793: UserWarning: Variable names are not unique. To make them unique, call `.var_names_make_unique`.\n",
      "  utils.warn_names_duplicates(\"var\")\n",
      "c:\\Users\\prath\\anaconda-new\\Lib\\site-packages\\anndata\\_core\\anndata.py:1791: UserWarning: Observation names are not unique. To make them unique, call `.obs_names_make_unique`.\n",
      "  utils.warn_names_duplicates(\"obs\")\n",
      "c:\\Users\\prath\\anaconda-new\\Lib\\site-packages\\anndata\\_core\\anndata.py:1793: UserWarning: Variable names are not unique. To make them unique, call `.var_names_make_unique`.\n",
      "  utils.warn_names_duplicates(\"var\")\n",
      "c:\\Users\\prath\\anaconda-new\\Lib\\site-packages\\anndata\\_core\\anndata.py:1791: UserWarning: Observation names are not unique. To make them unique, call `.obs_names_make_unique`.\n",
      "  utils.warn_names_duplicates(\"obs\")\n",
      "c:\\Users\\prath\\anaconda-new\\Lib\\site-packages\\anndata\\_core\\anndata.py:1793: UserWarning: Variable names are not unique. To make them unique, call `.var_names_make_unique`.\n",
      "  utils.warn_names_duplicates(\"var\")\n",
      "c:\\Users\\prath\\anaconda-new\\Lib\\site-packages\\scanpy\\preprocessing\\_normalization.py:269: UserWarning: Received a view of an AnnData. Making a copy.\n",
      "  view_to_actual(adata)\n",
      "c:\\Users\\prath\\anaconda-new\\Lib\\site-packages\\anndata\\_core\\anndata.py:1791: UserWarning: Observation names are not unique. To make them unique, call `.obs_names_make_unique`.\n",
      "  utils.warn_names_duplicates(\"obs\")\n",
      "c:\\Users\\prath\\anaconda-new\\Lib\\site-packages\\anndata\\_core\\anndata.py:1793: UserWarning: Variable names are not unique. To make them unique, call `.var_names_make_unique`.\n",
      "  utils.warn_names_duplicates(\"var\")\n"
     ]
    }
   ],
   "source": [
    "adata_gt = sc.read_h5ad(\"Data/combined_raw.h5ad\")\n",
    "adata_gt = preprocess_adata(adata_gt)\n"
   ]
  },
  {
   "cell_type": "code",
   "execution_count": 12,
   "id": "c8f03401",
   "metadata": {},
   "outputs": [
    {
     "name": "stderr",
     "output_type": "stream",
     "text": [
      "c:\\Users\\prath\\anaconda-new\\Lib\\site-packages\\anndata\\_core\\anndata.py:1791: UserWarning: Observation names are not unique. To make them unique, call `.obs_names_make_unique`.\n",
      "  utils.warn_names_duplicates(\"obs\")\n",
      "c:\\Users\\prath\\anaconda-new\\Lib\\site-packages\\anndata\\_core\\anndata.py:1793: UserWarning: Variable names are not unique. To make them unique, call `.var_names_make_unique`.\n",
      "  utils.warn_names_duplicates(\"var\")\n",
      "c:\\Users\\prath\\anaconda-new\\Lib\\site-packages\\scanpy\\preprocessing\\_normalization.py:269: UserWarning: Received a view of an AnnData. Making a copy.\n",
      "  view_to_actual(adata)\n",
      "c:\\Users\\prath\\anaconda-new\\Lib\\site-packages\\anndata\\_core\\anndata.py:1793: UserWarning: Variable names are not unique. To make them unique, call `.var_names_make_unique`.\n",
      "  utils.warn_names_duplicates(\"var\")\n"
     ]
    },
    {
     "ename": "ValueError",
     "evalue": "Found input variables with inconsistent numbers of samples: [14746, 53]",
     "output_type": "error",
     "traceback": [
      "\u001b[1;31m---------------------------------------------------------------------------\u001b[0m",
      "\u001b[1;31mValueError\u001b[0m                                Traceback (most recent call last)",
      "Cell \u001b[1;32mIn[12], line 16\u001b[0m\n\u001b[0;32m     13\u001b[0m         adata_imp \u001b[38;5;241m=\u001b[39m preprocess_adata(adata_imp)\n\u001b[0;32m     15\u001b[0m         \u001b[38;5;66;03m# Compute ARI between GT and imputed Leiden clusters\u001b[39;00m\n\u001b[1;32m---> 16\u001b[0m         ari \u001b[38;5;241m=\u001b[39m \u001b[43madjusted_rand_score\u001b[49m\u001b[43m(\u001b[49m\u001b[43madata_gt\u001b[49m\u001b[38;5;241;43m.\u001b[39;49m\u001b[43mobs\u001b[49m\u001b[43m[\u001b[49m\u001b[38;5;124;43m'\u001b[39;49m\u001b[38;5;124;43mleiden\u001b[39;49m\u001b[38;5;124;43m'\u001b[39;49m\u001b[43m]\u001b[49m\u001b[43m,\u001b[49m\u001b[43m \u001b[49m\u001b[43madata_imp\u001b[49m\u001b[38;5;241;43m.\u001b[39;49m\u001b[43mobs\u001b[49m\u001b[43m[\u001b[49m\u001b[38;5;124;43m'\u001b[39;49m\u001b[38;5;124;43mleiden\u001b[39;49m\u001b[38;5;124;43m'\u001b[39;49m\u001b[43m]\u001b[49m\u001b[43m)\u001b[49m\n\u001b[0;32m     18\u001b[0m         results\u001b[38;5;241m.\u001b[39mappend({\n\u001b[0;32m     19\u001b[0m             \u001b[38;5;124m\"\u001b[39m\u001b[38;5;124mmethod\u001b[39m\u001b[38;5;124m\"\u001b[39m: \u001b[38;5;124m\"\u001b[39m\u001b[38;5;124mMAGIC\u001b[39m\u001b[38;5;124m\"\u001b[39m,\n\u001b[0;32m     20\u001b[0m             \u001b[38;5;124m\"\u001b[39m\u001b[38;5;124mmissing_fraction\u001b[39m\u001b[38;5;124m\"\u001b[39m: mf\u001b[38;5;241m/\u001b[39m\u001b[38;5;241m100\u001b[39m,  \u001b[38;5;66;03m# e.g., 0.1, 0.2, 0.3\u001b[39;00m\n\u001b[0;32m     21\u001b[0m             \u001b[38;5;124m\"\u001b[39m\u001b[38;5;124mrun\u001b[39m\u001b[38;5;124m\"\u001b[39m: run,\n\u001b[0;32m     22\u001b[0m             \u001b[38;5;124m\"\u001b[39m\u001b[38;5;124mARI\u001b[39m\u001b[38;5;124m\"\u001b[39m: ari  \n\u001b[0;32m     23\u001b[0m         })\n\u001b[0;32m     25\u001b[0m results_df \u001b[38;5;241m=\u001b[39m pd\u001b[38;5;241m.\u001b[39mDataFrame(results)\n",
      "File \u001b[1;32mc:\\Users\\prath\\anaconda-new\\Lib\\site-packages\\sklearn\\utils\\_param_validation.py:218\u001b[0m, in \u001b[0;36mvalidate_params.<locals>.decorator.<locals>.wrapper\u001b[1;34m(*args, **kwargs)\u001b[0m\n\u001b[0;32m    212\u001b[0m \u001b[38;5;28;01mtry\u001b[39;00m:\n\u001b[0;32m    213\u001b[0m     \u001b[38;5;28;01mwith\u001b[39;00m config_context(\n\u001b[0;32m    214\u001b[0m         skip_parameter_validation\u001b[38;5;241m=\u001b[39m(\n\u001b[0;32m    215\u001b[0m             prefer_skip_nested_validation \u001b[38;5;129;01mor\u001b[39;00m global_skip_validation\n\u001b[0;32m    216\u001b[0m         )\n\u001b[0;32m    217\u001b[0m     ):\n\u001b[1;32m--> 218\u001b[0m         \u001b[38;5;28;01mreturn\u001b[39;00m \u001b[43mfunc\u001b[49m\u001b[43m(\u001b[49m\u001b[38;5;241;43m*\u001b[39;49m\u001b[43margs\u001b[49m\u001b[43m,\u001b[49m\u001b[43m \u001b[49m\u001b[38;5;241;43m*\u001b[39;49m\u001b[38;5;241;43m*\u001b[39;49m\u001b[43mkwargs\u001b[49m\u001b[43m)\u001b[49m\n\u001b[0;32m    219\u001b[0m \u001b[38;5;28;01mexcept\u001b[39;00m InvalidParameterError \u001b[38;5;28;01mas\u001b[39;00m e:\n\u001b[0;32m    220\u001b[0m     \u001b[38;5;66;03m# When the function is just a wrapper around an estimator, we allow\u001b[39;00m\n\u001b[0;32m    221\u001b[0m     \u001b[38;5;66;03m# the function to delegate validation to the estimator, but we replace\u001b[39;00m\n\u001b[0;32m    222\u001b[0m     \u001b[38;5;66;03m# the name of the estimator by the name of the function in the error\u001b[39;00m\n\u001b[0;32m    223\u001b[0m     \u001b[38;5;66;03m# message to avoid confusion.\u001b[39;00m\n\u001b[0;32m    224\u001b[0m     msg \u001b[38;5;241m=\u001b[39m re\u001b[38;5;241m.\u001b[39msub(\n\u001b[0;32m    225\u001b[0m         \u001b[38;5;124mr\u001b[39m\u001b[38;5;124m\"\u001b[39m\u001b[38;5;124mparameter of \u001b[39m\u001b[38;5;124m\\\u001b[39m\u001b[38;5;124mw+ must be\u001b[39m\u001b[38;5;124m\"\u001b[39m,\n\u001b[0;32m    226\u001b[0m         \u001b[38;5;124mf\u001b[39m\u001b[38;5;124m\"\u001b[39m\u001b[38;5;124mparameter of \u001b[39m\u001b[38;5;132;01m{\u001b[39;00mfunc\u001b[38;5;241m.\u001b[39m\u001b[38;5;18m__qualname__\u001b[39m\u001b[38;5;132;01m}\u001b[39;00m\u001b[38;5;124m must be\u001b[39m\u001b[38;5;124m\"\u001b[39m,\n\u001b[0;32m    227\u001b[0m         \u001b[38;5;28mstr\u001b[39m(e),\n\u001b[0;32m    228\u001b[0m     )\n",
      "File \u001b[1;32mc:\\Users\\prath\\anaconda-new\\Lib\\site-packages\\sklearn\\metrics\\cluster\\_supervised.py:443\u001b[0m, in \u001b[0;36madjusted_rand_score\u001b[1;34m(labels_true, labels_pred)\u001b[0m\n\u001b[0;32m    342\u001b[0m \u001b[38;5;129m@validate_params\u001b[39m(\n\u001b[0;32m    343\u001b[0m     {\n\u001b[0;32m    344\u001b[0m         \u001b[38;5;124m\"\u001b[39m\u001b[38;5;124mlabels_true\u001b[39m\u001b[38;5;124m\"\u001b[39m: [\u001b[38;5;124m\"\u001b[39m\u001b[38;5;124marray-like\u001b[39m\u001b[38;5;124m\"\u001b[39m],\n\u001b[1;32m   (...)\u001b[0m\n\u001b[0;32m    348\u001b[0m )\n\u001b[0;32m    349\u001b[0m \u001b[38;5;28;01mdef\u001b[39;00m \u001b[38;5;21madjusted_rand_score\u001b[39m(labels_true, labels_pred):\n\u001b[0;32m    350\u001b[0m \u001b[38;5;250m    \u001b[39m\u001b[38;5;124;03m\"\"\"Rand index adjusted for chance.\u001b[39;00m\n\u001b[0;32m    351\u001b[0m \n\u001b[0;32m    352\u001b[0m \u001b[38;5;124;03m    The Rand Index computes a similarity measure between two clusterings\u001b[39;00m\n\u001b[1;32m   (...)\u001b[0m\n\u001b[0;32m    441\u001b[0m \u001b[38;5;124;03m    for a more detailed example.\u001b[39;00m\n\u001b[0;32m    442\u001b[0m \u001b[38;5;124;03m    \"\"\"\u001b[39;00m\n\u001b[1;32m--> 443\u001b[0m     (tn, fp), (fn, tp) \u001b[38;5;241m=\u001b[39m \u001b[43mpair_confusion_matrix\u001b[49m\u001b[43m(\u001b[49m\u001b[43mlabels_true\u001b[49m\u001b[43m,\u001b[49m\u001b[43m \u001b[49m\u001b[43mlabels_pred\u001b[49m\u001b[43m)\u001b[49m\n\u001b[0;32m    444\u001b[0m     \u001b[38;5;66;03m# convert to Python integer types, to avoid overflow or underflow\u001b[39;00m\n\u001b[0;32m    445\u001b[0m     tn, fp, fn, tp \u001b[38;5;241m=\u001b[39m \u001b[38;5;28mint\u001b[39m(tn), \u001b[38;5;28mint\u001b[39m(fp), \u001b[38;5;28mint\u001b[39m(fn), \u001b[38;5;28mint\u001b[39m(tp)\n",
      "File \u001b[1;32mc:\\Users\\prath\\anaconda-new\\Lib\\site-packages\\sklearn\\utils\\_param_validation.py:191\u001b[0m, in \u001b[0;36mvalidate_params.<locals>.decorator.<locals>.wrapper\u001b[1;34m(*args, **kwargs)\u001b[0m\n\u001b[0;32m    189\u001b[0m global_skip_validation \u001b[38;5;241m=\u001b[39m get_config()[\u001b[38;5;124m\"\u001b[39m\u001b[38;5;124mskip_parameter_validation\u001b[39m\u001b[38;5;124m\"\u001b[39m]\n\u001b[0;32m    190\u001b[0m \u001b[38;5;28;01mif\u001b[39;00m global_skip_validation:\n\u001b[1;32m--> 191\u001b[0m     \u001b[38;5;28;01mreturn\u001b[39;00m \u001b[43mfunc\u001b[49m\u001b[43m(\u001b[49m\u001b[38;5;241;43m*\u001b[39;49m\u001b[43margs\u001b[49m\u001b[43m,\u001b[49m\u001b[43m \u001b[49m\u001b[38;5;241;43m*\u001b[39;49m\u001b[38;5;241;43m*\u001b[39;49m\u001b[43mkwargs\u001b[49m\u001b[43m)\u001b[49m\n\u001b[0;32m    193\u001b[0m func_sig \u001b[38;5;241m=\u001b[39m signature(func)\n\u001b[0;32m    195\u001b[0m \u001b[38;5;66;03m# Map *args/**kwargs to the function signature\u001b[39;00m\n",
      "File \u001b[1;32mc:\\Users\\prath\\anaconda-new\\Lib\\site-packages\\sklearn\\metrics\\cluster\\_supervised.py:244\u001b[0m, in \u001b[0;36mpair_confusion_matrix\u001b[1;34m(labels_true, labels_pred)\u001b[0m\n\u001b[0;32m    177\u001b[0m \u001b[38;5;129m@validate_params\u001b[39m(\n\u001b[0;32m    178\u001b[0m     {\n\u001b[0;32m    179\u001b[0m         \u001b[38;5;124m\"\u001b[39m\u001b[38;5;124mlabels_true\u001b[39m\u001b[38;5;124m\"\u001b[39m: [\u001b[38;5;124m\"\u001b[39m\u001b[38;5;124marray-like\u001b[39m\u001b[38;5;124m\"\u001b[39m],\n\u001b[1;32m   (...)\u001b[0m\n\u001b[0;32m    183\u001b[0m )\n\u001b[0;32m    184\u001b[0m \u001b[38;5;28;01mdef\u001b[39;00m \u001b[38;5;21mpair_confusion_matrix\u001b[39m(labels_true, labels_pred):\n\u001b[0;32m    185\u001b[0m \u001b[38;5;250m    \u001b[39m\u001b[38;5;124;03m\"\"\"Pair confusion matrix arising from two clusterings.\u001b[39;00m\n\u001b[0;32m    186\u001b[0m \n\u001b[0;32m    187\u001b[0m \u001b[38;5;124;03m    The pair confusion matrix :math:`C` computes a 2 by 2 similarity matrix\u001b[39;00m\n\u001b[1;32m   (...)\u001b[0m\n\u001b[0;32m    242\u001b[0m \u001b[38;5;124;03m    Note that the matrix is not symmetric.\u001b[39;00m\n\u001b[0;32m    243\u001b[0m \u001b[38;5;124;03m    \"\"\"\u001b[39;00m\n\u001b[1;32m--> 244\u001b[0m     labels_true, labels_pred \u001b[38;5;241m=\u001b[39m \u001b[43mcheck_clusterings\u001b[49m\u001b[43m(\u001b[49m\u001b[43mlabels_true\u001b[49m\u001b[43m,\u001b[49m\u001b[43m \u001b[49m\u001b[43mlabels_pred\u001b[49m\u001b[43m)\u001b[49m\n\u001b[0;32m    245\u001b[0m     n_samples \u001b[38;5;241m=\u001b[39m np\u001b[38;5;241m.\u001b[39mint64(labels_true\u001b[38;5;241m.\u001b[39mshape[\u001b[38;5;241m0\u001b[39m])\n\u001b[0;32m    247\u001b[0m     \u001b[38;5;66;03m# Computation using the contingency data\u001b[39;00m\n",
      "File \u001b[1;32mc:\\Users\\prath\\anaconda-new\\Lib\\site-packages\\sklearn\\metrics\\cluster\\_supervised.py:65\u001b[0m, in \u001b[0;36mcheck_clusterings\u001b[1;34m(labels_true, labels_pred)\u001b[0m\n\u001b[0;32m     63\u001b[0m \u001b[38;5;28;01mif\u001b[39;00m labels_pred\u001b[38;5;241m.\u001b[39mndim \u001b[38;5;241m!=\u001b[39m \u001b[38;5;241m1\u001b[39m:\n\u001b[0;32m     64\u001b[0m     \u001b[38;5;28;01mraise\u001b[39;00m \u001b[38;5;167;01mValueError\u001b[39;00m(\u001b[38;5;124m\"\u001b[39m\u001b[38;5;124mlabels_pred must be 1D: shape is \u001b[39m\u001b[38;5;132;01m%r\u001b[39;00m\u001b[38;5;124m\"\u001b[39m \u001b[38;5;241m%\u001b[39m (labels_pred\u001b[38;5;241m.\u001b[39mshape,))\n\u001b[1;32m---> 65\u001b[0m \u001b[43mcheck_consistent_length\u001b[49m\u001b[43m(\u001b[49m\u001b[43mlabels_true\u001b[49m\u001b[43m,\u001b[49m\u001b[43m \u001b[49m\u001b[43mlabels_pred\u001b[49m\u001b[43m)\u001b[49m\n\u001b[0;32m     67\u001b[0m \u001b[38;5;28;01mreturn\u001b[39;00m labels_true, labels_pred\n",
      "File \u001b[1;32mc:\\Users\\prath\\anaconda-new\\Lib\\site-packages\\sklearn\\utils\\validation.py:473\u001b[0m, in \u001b[0;36mcheck_consistent_length\u001b[1;34m(*arrays)\u001b[0m\n\u001b[0;32m    471\u001b[0m lengths \u001b[38;5;241m=\u001b[39m [_num_samples(X) \u001b[38;5;28;01mfor\u001b[39;00m X \u001b[38;5;129;01min\u001b[39;00m arrays \u001b[38;5;28;01mif\u001b[39;00m X \u001b[38;5;129;01mis\u001b[39;00m \u001b[38;5;129;01mnot\u001b[39;00m \u001b[38;5;28;01mNone\u001b[39;00m]\n\u001b[0;32m    472\u001b[0m \u001b[38;5;28;01mif\u001b[39;00m \u001b[38;5;28mlen\u001b[39m(\u001b[38;5;28mset\u001b[39m(lengths)) \u001b[38;5;241m>\u001b[39m \u001b[38;5;241m1\u001b[39m:\n\u001b[1;32m--> 473\u001b[0m     \u001b[38;5;28;01mraise\u001b[39;00m \u001b[38;5;167;01mValueError\u001b[39;00m(\n\u001b[0;32m    474\u001b[0m         \u001b[38;5;124m\"\u001b[39m\u001b[38;5;124mFound input variables with inconsistent numbers of samples: \u001b[39m\u001b[38;5;132;01m%r\u001b[39;00m\u001b[38;5;124m\"\u001b[39m\n\u001b[0;32m    475\u001b[0m         \u001b[38;5;241m%\u001b[39m [\u001b[38;5;28mint\u001b[39m(l) \u001b[38;5;28;01mfor\u001b[39;00m l \u001b[38;5;129;01min\u001b[39;00m lengths]\n\u001b[0;32m    476\u001b[0m     )\n",
      "\u001b[1;31mValueError\u001b[0m: Found input variables with inconsistent numbers of samples: [14746, 53]"
     ]
    }
   ],
   "source": [
    "results = []\n",
    "missing_fractions = [10, 20, 30]\n",
    "runs = range(1, 11)\n",
    "\n",
    "for mf in missing_fractions:  \n",
    "    for run in runs:\n",
    "        fname = f\"Imputed_KNN_h5ad/adata_dropout_mf{mf}_run{run}_knn_imputed.h5ad\"\n",
    "        if not os.path.exists(fname):\n",
    "            print(f\"Skipping {fname} (not found)\")\n",
    "            continue\n",
    "        \n",
    "        adata_imp = sc.read_h5ad(fname)\n",
    "        adata_imp = preprocess_adata(adata_imp)\n",
    "        \n",
    "        # Compute ARI between GT and imputed Leiden clusters\n",
    "        ari = adjusted_rand_score(adata_gt.obs['leiden'], adata_imp.obs['leiden'])\n",
    "        \n",
    "        results.append({\n",
    "            \"method\": \"MAGIC\",\n",
    "            \"missing_fraction\": mf/100,  # e.g., 0.1, 0.2, 0.3\n",
    "            \"run\": run,\n",
    "            \"ARI\": ari  \n",
    "        })\n",
    "\n",
    "results_df = pd.DataFrame(results)\n"
   ]
  },
  {
   "cell_type": "code",
   "execution_count": 7,
   "id": "4d679ed0",
   "metadata": {},
   "outputs": [
    {
     "ename": "NameError",
     "evalue": "name 'results_df' is not defined",
     "output_type": "error",
     "traceback": [
      "\u001b[1;31m---------------------------------------------------------------------------\u001b[0m",
      "\u001b[1;31mNameError\u001b[0m                                 Traceback (most recent call last)",
      "Cell \u001b[1;32mIn[7], line 5\u001b[0m\n\u001b[0;32m      2\u001b[0m \u001b[38;5;28;01mimport\u001b[39;00m \u001b[38;5;21;01mmatplotlib\u001b[39;00m\u001b[38;5;21;01m.\u001b[39;00m\u001b[38;5;21;01mpyplot\u001b[39;00m \u001b[38;5;28;01mas\u001b[39;00m \u001b[38;5;21;01mplt\u001b[39;00m\n\u001b[0;32m      4\u001b[0m \u001b[38;5;66;03m# Summary table\u001b[39;00m\n\u001b[1;32m----> 5\u001b[0m summary \u001b[38;5;241m=\u001b[39m \u001b[43mresults_df\u001b[49m\u001b[38;5;241m.\u001b[39mgroupby([\u001b[38;5;124m'\u001b[39m\u001b[38;5;124mmethod\u001b[39m\u001b[38;5;124m'\u001b[39m,\u001b[38;5;124m'\u001b[39m\u001b[38;5;124mmissing_fraction\u001b[39m\u001b[38;5;124m'\u001b[39m])[\u001b[38;5;124m'\u001b[39m\u001b[38;5;124mARI\u001b[39m\u001b[38;5;124m'\u001b[39m]\u001b[38;5;241m.\u001b[39magg([\u001b[38;5;124m'\u001b[39m\u001b[38;5;124mmean\u001b[39m\u001b[38;5;124m'\u001b[39m,\u001b[38;5;124m'\u001b[39m\u001b[38;5;124mstd\u001b[39m\u001b[38;5;124m'\u001b[39m])\u001b[38;5;241m.\u001b[39mreset_index()\n\u001b[0;32m      6\u001b[0m \u001b[38;5;28mprint\u001b[39m(summary)\n\u001b[0;32m      8\u001b[0m \u001b[38;5;66;03m# Barplot with error bars\u001b[39;00m\n",
      "\u001b[1;31mNameError\u001b[0m: name 'results_df' is not defined"
     ]
    }
   ],
   "source": [
    "import seaborn as sns\n",
    "import matplotlib.pyplot as plt\n",
    "\n",
    "# Summary table\n",
    "summary = results_df.groupby(['method','missing_fraction'])['ARI'].agg(['mean','std']).reset_index()\n",
    "print(summary)\n",
    "\n",
    "# Barplot with error bars\n",
    "plt.figure(figsize=(8,6))\n",
    "sns.barplot(data=summary, x='missing_fraction', y='mean', hue='method', capsize=0.1)\n",
    "\n",
    "# Add SD error bars manually\n",
    "for i, row in summary.iterrows():\n",
    "    plt.errorbar(x=i%3 + (0 if row['method']=='MAGIC' else 0.3),\n",
    "                 y=row['mean'], yerr=row['std'], fmt='none', c='black', capsize=5)\n",
    "\n",
    "plt.ylabel(\"ARI (mean ± SD)\")\n",
    "plt.xlabel(\"Missing Fraction\")\n",
    "plt.title(\"Clustering Accuracy after Imputation\")\n",
    "plt.savefig('ARI_Summary_knn.png', dpi=300)\n",
    "plt.show()\n"
   ]
  },
  {
   "cell_type": "code",
   "execution_count": 1,
   "id": "293be253",
   "metadata": {},
   "outputs": [
    {
     "name": "stderr",
     "output_type": "stream",
     "text": [
      "c:\\Users\\prath\\anaconda-new\\Lib\\site-packages\\anndata\\_core\\anndata.py:1791: UserWarning: Observation names are not unique. To make them unique, call `.obs_names_make_unique`.\n",
      "  utils.warn_names_duplicates(\"obs\")\n",
      "c:\\Users\\prath\\anaconda-new\\Lib\\site-packages\\anndata\\_core\\anndata.py:1793: UserWarning: Variable names are not unique. To make them unique, call `.var_names_make_unique`.\n",
      "  utils.warn_names_duplicates(\"var\")\n",
      "c:\\Users\\prath\\anaconda-new\\Lib\\site-packages\\anndata\\_core\\anndata.py:1791: UserWarning: Observation names are not unique. To make them unique, call `.obs_names_make_unique`.\n",
      "  utils.warn_names_duplicates(\"obs\")\n",
      "c:\\Users\\prath\\anaconda-new\\Lib\\site-packages\\anndata\\_core\\anndata.py:1793: UserWarning: Variable names are not unique. To make them unique, call `.var_names_make_unique`.\n",
      "  utils.warn_names_duplicates(\"var\")\n",
      "c:\\Users\\prath\\anaconda-new\\Lib\\site-packages\\anndata\\_core\\anndata.py:1791: UserWarning: Observation names are not unique. To make them unique, call `.obs_names_make_unique`.\n",
      "  utils.warn_names_duplicates(\"obs\")\n",
      "c:\\Users\\prath\\anaconda-new\\Lib\\site-packages\\anndata\\_core\\anndata.py:1793: UserWarning: Variable names are not unique. To make them unique, call `.var_names_make_unique`.\n",
      "  utils.warn_names_duplicates(\"var\")\n",
      "c:\\Users\\prath\\anaconda-new\\Lib\\site-packages\\scanpy\\preprocessing\\_normalization.py:269: UserWarning: Received a view of an AnnData. Making a copy.\n",
      "  view_to_actual(adata)\n",
      "c:\\Users\\prath\\anaconda-new\\Lib\\site-packages\\anndata\\_core\\anndata.py:1791: UserWarning: Observation names are not unique. To make them unique, call `.obs_names_make_unique`.\n",
      "  utils.warn_names_duplicates(\"obs\")\n",
      "c:\\Users\\prath\\anaconda-new\\Lib\\site-packages\\anndata\\_core\\anndata.py:1793: UserWarning: Variable names are not unique. To make them unique, call `.var_names_make_unique`.\n",
      "  utils.warn_names_duplicates(\"var\")\n",
      "C:\\Users\\prath\\AppData\\Local\\Temp\\ipykernel_21212\\367237540.py:28: FutureWarning: In the future, the default backend for leiden will be igraph instead of leidenalg.\n",
      "\n",
      " To achieve the future defaults please pass: flavor=\"igraph\" and n_iterations=2.  directed must also be False to work with igraph's implementation.\n",
      "  sc.tl.leiden(adata)\n",
      "c:\\Users\\prath\\anaconda-new\\Lib\\site-packages\\anndata\\_core\\anndata.py:1791: UserWarning: Observation names are not unique. To make them unique, call `.obs_names_make_unique`.\n",
      "  utils.warn_names_duplicates(\"obs\")\n",
      "c:\\Users\\prath\\anaconda-new\\Lib\\site-packages\\anndata\\_core\\anndata.py:1793: UserWarning: Variable names are not unique. To make them unique, call `.var_names_make_unique`.\n",
      "  utils.warn_names_duplicates(\"var\")\n",
      "c:\\Users\\prath\\anaconda-new\\Lib\\site-packages\\scanpy\\preprocessing\\_normalization.py:269: UserWarning: Received a view of an AnnData. Making a copy.\n",
      "  view_to_actual(adata)\n",
      "c:\\Users\\prath\\anaconda-new\\Lib\\site-packages\\anndata\\_core\\anndata.py:1791: UserWarning: Observation names are not unique. To make them unique, call `.obs_names_make_unique`.\n",
      "  utils.warn_names_duplicates(\"obs\")\n",
      "c:\\Users\\prath\\anaconda-new\\Lib\\site-packages\\anndata\\_core\\anndata.py:1793: UserWarning: Variable names are not unique. To make them unique, call `.var_names_make_unique`.\n",
      "  utils.warn_names_duplicates(\"var\")\n",
      "c:\\Users\\prath\\anaconda-new\\Lib\\site-packages\\anndata\\_core\\anndata.py:1791: UserWarning: Observation names are not unique. To make them unique, call `.obs_names_make_unique`.\n",
      "  utils.warn_names_duplicates(\"obs\")\n",
      "c:\\Users\\prath\\anaconda-new\\Lib\\site-packages\\anndata\\_core\\anndata.py:1793: UserWarning: Variable names are not unique. To make them unique, call `.var_names_make_unique`.\n",
      "  utils.warn_names_duplicates(\"var\")\n",
      "c:\\Users\\prath\\anaconda-new\\Lib\\site-packages\\scanpy\\preprocessing\\_normalization.py:269: UserWarning: Received a view of an AnnData. Making a copy.\n",
      "  view_to_actual(adata)\n",
      "c:\\Users\\prath\\anaconda-new\\Lib\\site-packages\\anndata\\_core\\anndata.py:1791: UserWarning: Observation names are not unique. To make them unique, call `.obs_names_make_unique`.\n",
      "  utils.warn_names_duplicates(\"obs\")\n",
      "c:\\Users\\prath\\anaconda-new\\Lib\\site-packages\\anndata\\_core\\anndata.py:1793: UserWarning: Variable names are not unique. To make them unique, call `.var_names_make_unique`.\n",
      "  utils.warn_names_duplicates(\"var\")\n",
      "c:\\Users\\prath\\anaconda-new\\Lib\\site-packages\\anndata\\_core\\anndata.py:1791: UserWarning: Observation names are not unique. To make them unique, call `.obs_names_make_unique`.\n",
      "  utils.warn_names_duplicates(\"obs\")\n",
      "c:\\Users\\prath\\anaconda-new\\Lib\\site-packages\\anndata\\_core\\anndata.py:1793: UserWarning: Variable names are not unique. To make them unique, call `.var_names_make_unique`.\n",
      "  utils.warn_names_duplicates(\"var\")\n",
      "c:\\Users\\prath\\anaconda-new\\Lib\\site-packages\\scanpy\\preprocessing\\_normalization.py:269: UserWarning: Received a view of an AnnData. Making a copy.\n",
      "  view_to_actual(adata)\n",
      "c:\\Users\\prath\\anaconda-new\\Lib\\site-packages\\anndata\\_core\\anndata.py:1791: UserWarning: Observation names are not unique. To make them unique, call `.obs_names_make_unique`.\n",
      "  utils.warn_names_duplicates(\"obs\")\n",
      "c:\\Users\\prath\\anaconda-new\\Lib\\site-packages\\anndata\\_core\\anndata.py:1793: UserWarning: Variable names are not unique. To make them unique, call `.var_names_make_unique`.\n",
      "  utils.warn_names_duplicates(\"var\")\n",
      "c:\\Users\\prath\\anaconda-new\\Lib\\site-packages\\anndata\\_core\\anndata.py:1791: UserWarning: Observation names are not unique. To make them unique, call `.obs_names_make_unique`.\n",
      "  utils.warn_names_duplicates(\"obs\")\n",
      "c:\\Users\\prath\\anaconda-new\\Lib\\site-packages\\anndata\\_core\\anndata.py:1793: UserWarning: Variable names are not unique. To make them unique, call `.var_names_make_unique`.\n",
      "  utils.warn_names_duplicates(\"var\")\n",
      "c:\\Users\\prath\\anaconda-new\\Lib\\site-packages\\scanpy\\preprocessing\\_normalization.py:269: UserWarning: Received a view of an AnnData. Making a copy.\n",
      "  view_to_actual(adata)\n",
      "c:\\Users\\prath\\anaconda-new\\Lib\\site-packages\\anndata\\_core\\anndata.py:1791: UserWarning: Observation names are not unique. To make them unique, call `.obs_names_make_unique`.\n",
      "  utils.warn_names_duplicates(\"obs\")\n",
      "c:\\Users\\prath\\anaconda-new\\Lib\\site-packages\\anndata\\_core\\anndata.py:1793: UserWarning: Variable names are not unique. To make them unique, call `.var_names_make_unique`.\n",
      "  utils.warn_names_duplicates(\"var\")\n",
      "c:\\Users\\prath\\anaconda-new\\Lib\\site-packages\\anndata\\_core\\anndata.py:1791: UserWarning: Observation names are not unique. To make them unique, call `.obs_names_make_unique`.\n",
      "  utils.warn_names_duplicates(\"obs\")\n",
      "c:\\Users\\prath\\anaconda-new\\Lib\\site-packages\\anndata\\_core\\anndata.py:1793: UserWarning: Variable names are not unique. To make them unique, call `.var_names_make_unique`.\n",
      "  utils.warn_names_duplicates(\"var\")\n",
      "c:\\Users\\prath\\anaconda-new\\Lib\\site-packages\\scanpy\\preprocessing\\_normalization.py:269: UserWarning: Received a view of an AnnData. Making a copy.\n",
      "  view_to_actual(adata)\n",
      "c:\\Users\\prath\\anaconda-new\\Lib\\site-packages\\anndata\\_core\\anndata.py:1791: UserWarning: Observation names are not unique. To make them unique, call `.obs_names_make_unique`.\n",
      "  utils.warn_names_duplicates(\"obs\")\n",
      "c:\\Users\\prath\\anaconda-new\\Lib\\site-packages\\anndata\\_core\\anndata.py:1793: UserWarning: Variable names are not unique. To make them unique, call `.var_names_make_unique`.\n",
      "  utils.warn_names_duplicates(\"var\")\n",
      "c:\\Users\\prath\\anaconda-new\\Lib\\site-packages\\anndata\\_core\\anndata.py:1791: UserWarning: Observation names are not unique. To make them unique, call `.obs_names_make_unique`.\n",
      "  utils.warn_names_duplicates(\"obs\")\n",
      "c:\\Users\\prath\\anaconda-new\\Lib\\site-packages\\anndata\\_core\\anndata.py:1793: UserWarning: Variable names are not unique. To make them unique, call `.var_names_make_unique`.\n",
      "  utils.warn_names_duplicates(\"var\")\n",
      "c:\\Users\\prath\\anaconda-new\\Lib\\site-packages\\scanpy\\preprocessing\\_normalization.py:269: UserWarning: Received a view of an AnnData. Making a copy.\n",
      "  view_to_actual(adata)\n",
      "c:\\Users\\prath\\anaconda-new\\Lib\\site-packages\\anndata\\_core\\anndata.py:1791: UserWarning: Observation names are not unique. To make them unique, call `.obs_names_make_unique`.\n",
      "  utils.warn_names_duplicates(\"obs\")\n",
      "c:\\Users\\prath\\anaconda-new\\Lib\\site-packages\\anndata\\_core\\anndata.py:1793: UserWarning: Variable names are not unique. To make them unique, call `.var_names_make_unique`.\n",
      "  utils.warn_names_duplicates(\"var\")\n",
      "c:\\Users\\prath\\anaconda-new\\Lib\\site-packages\\anndata\\_core\\anndata.py:1791: UserWarning: Observation names are not unique. To make them unique, call `.obs_names_make_unique`.\n",
      "  utils.warn_names_duplicates(\"obs\")\n",
      "c:\\Users\\prath\\anaconda-new\\Lib\\site-packages\\anndata\\_core\\anndata.py:1793: UserWarning: Variable names are not unique. To make them unique, call `.var_names_make_unique`.\n",
      "  utils.warn_names_duplicates(\"var\")\n",
      "c:\\Users\\prath\\anaconda-new\\Lib\\site-packages\\scanpy\\preprocessing\\_normalization.py:269: UserWarning: Received a view of an AnnData. Making a copy.\n",
      "  view_to_actual(adata)\n",
      "c:\\Users\\prath\\anaconda-new\\Lib\\site-packages\\anndata\\_core\\anndata.py:1791: UserWarning: Observation names are not unique. To make them unique, call `.obs_names_make_unique`.\n",
      "  utils.warn_names_duplicates(\"obs\")\n",
      "c:\\Users\\prath\\anaconda-new\\Lib\\site-packages\\anndata\\_core\\anndata.py:1793: UserWarning: Variable names are not unique. To make them unique, call `.var_names_make_unique`.\n",
      "  utils.warn_names_duplicates(\"var\")\n",
      "c:\\Users\\prath\\anaconda-new\\Lib\\site-packages\\anndata\\_core\\anndata.py:1791: UserWarning: Observation names are not unique. To make them unique, call `.obs_names_make_unique`.\n",
      "  utils.warn_names_duplicates(\"obs\")\n",
      "c:\\Users\\prath\\anaconda-new\\Lib\\site-packages\\anndata\\_core\\anndata.py:1793: UserWarning: Variable names are not unique. To make them unique, call `.var_names_make_unique`.\n",
      "  utils.warn_names_duplicates(\"var\")\n",
      "c:\\Users\\prath\\anaconda-new\\Lib\\site-packages\\scanpy\\preprocessing\\_normalization.py:269: UserWarning: Received a view of an AnnData. Making a copy.\n",
      "  view_to_actual(adata)\n",
      "c:\\Users\\prath\\anaconda-new\\Lib\\site-packages\\anndata\\_core\\anndata.py:1791: UserWarning: Observation names are not unique. To make them unique, call `.obs_names_make_unique`.\n",
      "  utils.warn_names_duplicates(\"obs\")\n",
      "c:\\Users\\prath\\anaconda-new\\Lib\\site-packages\\anndata\\_core\\anndata.py:1793: UserWarning: Variable names are not unique. To make them unique, call `.var_names_make_unique`.\n",
      "  utils.warn_names_duplicates(\"var\")\n",
      "c:\\Users\\prath\\anaconda-new\\Lib\\site-packages\\anndata\\_core\\anndata.py:1791: UserWarning: Observation names are not unique. To make them unique, call `.obs_names_make_unique`.\n",
      "  utils.warn_names_duplicates(\"obs\")\n",
      "c:\\Users\\prath\\anaconda-new\\Lib\\site-packages\\anndata\\_core\\anndata.py:1793: UserWarning: Variable names are not unique. To make them unique, call `.var_names_make_unique`.\n",
      "  utils.warn_names_duplicates(\"var\")\n",
      "c:\\Users\\prath\\anaconda-new\\Lib\\site-packages\\scanpy\\preprocessing\\_normalization.py:269: UserWarning: Received a view of an AnnData. Making a copy.\n",
      "  view_to_actual(adata)\n",
      "c:\\Users\\prath\\anaconda-new\\Lib\\site-packages\\anndata\\_core\\anndata.py:1791: UserWarning: Observation names are not unique. To make them unique, call `.obs_names_make_unique`.\n",
      "  utils.warn_names_duplicates(\"obs\")\n",
      "c:\\Users\\prath\\anaconda-new\\Lib\\site-packages\\anndata\\_core\\anndata.py:1793: UserWarning: Variable names are not unique. To make them unique, call `.var_names_make_unique`.\n",
      "  utils.warn_names_duplicates(\"var\")\n",
      "c:\\Users\\prath\\anaconda-new\\Lib\\site-packages\\anndata\\_core\\anndata.py:1791: UserWarning: Observation names are not unique. To make them unique, call `.obs_names_make_unique`.\n",
      "  utils.warn_names_duplicates(\"obs\")\n",
      "c:\\Users\\prath\\anaconda-new\\Lib\\site-packages\\anndata\\_core\\anndata.py:1793: UserWarning: Variable names are not unique. To make them unique, call `.var_names_make_unique`.\n",
      "  utils.warn_names_duplicates(\"var\")\n",
      "c:\\Users\\prath\\anaconda-new\\Lib\\site-packages\\scanpy\\preprocessing\\_normalization.py:269: UserWarning: Received a view of an AnnData. Making a copy.\n",
      "  view_to_actual(adata)\n",
      "c:\\Users\\prath\\anaconda-new\\Lib\\site-packages\\anndata\\_core\\anndata.py:1791: UserWarning: Observation names are not unique. To make them unique, call `.obs_names_make_unique`.\n",
      "  utils.warn_names_duplicates(\"obs\")\n",
      "c:\\Users\\prath\\anaconda-new\\Lib\\site-packages\\anndata\\_core\\anndata.py:1793: UserWarning: Variable names are not unique. To make them unique, call `.var_names_make_unique`.\n",
      "  utils.warn_names_duplicates(\"var\")\n",
      "c:\\Users\\prath\\anaconda-new\\Lib\\site-packages\\anndata\\_core\\anndata.py:1791: UserWarning: Observation names are not unique. To make them unique, call `.obs_names_make_unique`.\n",
      "  utils.warn_names_duplicates(\"obs\")\n",
      "c:\\Users\\prath\\anaconda-new\\Lib\\site-packages\\anndata\\_core\\anndata.py:1793: UserWarning: Variable names are not unique. To make them unique, call `.var_names_make_unique`.\n",
      "  utils.warn_names_duplicates(\"var\")\n",
      "c:\\Users\\prath\\anaconda-new\\Lib\\site-packages\\scanpy\\preprocessing\\_normalization.py:269: UserWarning: Received a view of an AnnData. Making a copy.\n",
      "  view_to_actual(adata)\n",
      "c:\\Users\\prath\\anaconda-new\\Lib\\site-packages\\anndata\\_core\\anndata.py:1791: UserWarning: Observation names are not unique. To make them unique, call `.obs_names_make_unique`.\n",
      "  utils.warn_names_duplicates(\"obs\")\n",
      "c:\\Users\\prath\\anaconda-new\\Lib\\site-packages\\anndata\\_core\\anndata.py:1793: UserWarning: Variable names are not unique. To make them unique, call `.var_names_make_unique`.\n",
      "  utils.warn_names_duplicates(\"var\")\n",
      "c:\\Users\\prath\\anaconda-new\\Lib\\site-packages\\anndata\\_core\\anndata.py:1791: UserWarning: Observation names are not unique. To make them unique, call `.obs_names_make_unique`.\n",
      "  utils.warn_names_duplicates(\"obs\")\n",
      "c:\\Users\\prath\\anaconda-new\\Lib\\site-packages\\anndata\\_core\\anndata.py:1793: UserWarning: Variable names are not unique. To make them unique, call `.var_names_make_unique`.\n",
      "  utils.warn_names_duplicates(\"var\")\n",
      "c:\\Users\\prath\\anaconda-new\\Lib\\site-packages\\scanpy\\preprocessing\\_normalization.py:269: UserWarning: Received a view of an AnnData. Making a copy.\n",
      "  view_to_actual(adata)\n",
      "c:\\Users\\prath\\anaconda-new\\Lib\\site-packages\\anndata\\_core\\anndata.py:1791: UserWarning: Observation names are not unique. To make them unique, call `.obs_names_make_unique`.\n",
      "  utils.warn_names_duplicates(\"obs\")\n",
      "c:\\Users\\prath\\anaconda-new\\Lib\\site-packages\\anndata\\_core\\anndata.py:1793: UserWarning: Variable names are not unique. To make them unique, call `.var_names_make_unique`.\n",
      "  utils.warn_names_duplicates(\"var\")\n",
      "c:\\Users\\prath\\anaconda-new\\Lib\\site-packages\\anndata\\_core\\anndata.py:1791: UserWarning: Observation names are not unique. To make them unique, call `.obs_names_make_unique`.\n",
      "  utils.warn_names_duplicates(\"obs\")\n",
      "c:\\Users\\prath\\anaconda-new\\Lib\\site-packages\\anndata\\_core\\anndata.py:1793: UserWarning: Variable names are not unique. To make them unique, call `.var_names_make_unique`.\n",
      "  utils.warn_names_duplicates(\"var\")\n",
      "c:\\Users\\prath\\anaconda-new\\Lib\\site-packages\\scanpy\\preprocessing\\_normalization.py:269: UserWarning: Received a view of an AnnData. Making a copy.\n",
      "  view_to_actual(adata)\n",
      "c:\\Users\\prath\\anaconda-new\\Lib\\site-packages\\anndata\\_core\\anndata.py:1791: UserWarning: Observation names are not unique. To make them unique, call `.obs_names_make_unique`.\n",
      "  utils.warn_names_duplicates(\"obs\")\n",
      "c:\\Users\\prath\\anaconda-new\\Lib\\site-packages\\anndata\\_core\\anndata.py:1793: UserWarning: Variable names are not unique. To make them unique, call `.var_names_make_unique`.\n",
      "  utils.warn_names_duplicates(\"var\")\n",
      "c:\\Users\\prath\\anaconda-new\\Lib\\site-packages\\sklearn\\manifold\\_spectral_embedding.py:328: UserWarning: Graph is not fully connected, spectral embedding may not work as expected.\n",
      "  warnings.warn(\n",
      "c:\\Users\\prath\\anaconda-new\\Lib\\site-packages\\anndata\\_core\\anndata.py:1791: UserWarning: Observation names are not unique. To make them unique, call `.obs_names_make_unique`.\n",
      "  utils.warn_names_duplicates(\"obs\")\n",
      "c:\\Users\\prath\\anaconda-new\\Lib\\site-packages\\anndata\\_core\\anndata.py:1793: UserWarning: Variable names are not unique. To make them unique, call `.var_names_make_unique`.\n",
      "  utils.warn_names_duplicates(\"var\")\n",
      "c:\\Users\\prath\\anaconda-new\\Lib\\site-packages\\scanpy\\preprocessing\\_normalization.py:269: UserWarning: Received a view of an AnnData. Making a copy.\n",
      "  view_to_actual(adata)\n",
      "c:\\Users\\prath\\anaconda-new\\Lib\\site-packages\\anndata\\_core\\anndata.py:1791: UserWarning: Observation names are not unique. To make them unique, call `.obs_names_make_unique`.\n",
      "  utils.warn_names_duplicates(\"obs\")\n",
      "c:\\Users\\prath\\anaconda-new\\Lib\\site-packages\\anndata\\_core\\anndata.py:1793: UserWarning: Variable names are not unique. To make them unique, call `.var_names_make_unique`.\n",
      "  utils.warn_names_duplicates(\"var\")\n",
      "c:\\Users\\prath\\anaconda-new\\Lib\\site-packages\\sklearn\\manifold\\_spectral_embedding.py:328: UserWarning: Graph is not fully connected, spectral embedding may not work as expected.\n",
      "  warnings.warn(\n",
      "c:\\Users\\prath\\anaconda-new\\Lib\\site-packages\\anndata\\_core\\anndata.py:1791: UserWarning: Observation names are not unique. To make them unique, call `.obs_names_make_unique`.\n",
      "  utils.warn_names_duplicates(\"obs\")\n",
      "c:\\Users\\prath\\anaconda-new\\Lib\\site-packages\\anndata\\_core\\anndata.py:1793: UserWarning: Variable names are not unique. To make them unique, call `.var_names_make_unique`.\n",
      "  utils.warn_names_duplicates(\"var\")\n",
      "c:\\Users\\prath\\anaconda-new\\Lib\\site-packages\\scanpy\\preprocessing\\_normalization.py:269: UserWarning: Received a view of an AnnData. Making a copy.\n",
      "  view_to_actual(adata)\n",
      "c:\\Users\\prath\\anaconda-new\\Lib\\site-packages\\anndata\\_core\\anndata.py:1791: UserWarning: Observation names are not unique. To make them unique, call `.obs_names_make_unique`.\n",
      "  utils.warn_names_duplicates(\"obs\")\n",
      "c:\\Users\\prath\\anaconda-new\\Lib\\site-packages\\anndata\\_core\\anndata.py:1793: UserWarning: Variable names are not unique. To make them unique, call `.var_names_make_unique`.\n",
      "  utils.warn_names_duplicates(\"var\")\n",
      "c:\\Users\\prath\\anaconda-new\\Lib\\site-packages\\anndata\\_core\\anndata.py:1791: UserWarning: Observation names are not unique. To make them unique, call `.obs_names_make_unique`.\n",
      "  utils.warn_names_duplicates(\"obs\")\n",
      "c:\\Users\\prath\\anaconda-new\\Lib\\site-packages\\anndata\\_core\\anndata.py:1793: UserWarning: Variable names are not unique. To make them unique, call `.var_names_make_unique`.\n",
      "  utils.warn_names_duplicates(\"var\")\n",
      "c:\\Users\\prath\\anaconda-new\\Lib\\site-packages\\scanpy\\preprocessing\\_normalization.py:269: UserWarning: Received a view of an AnnData. Making a copy.\n",
      "  view_to_actual(adata)\n",
      "c:\\Users\\prath\\anaconda-new\\Lib\\site-packages\\anndata\\_core\\anndata.py:1791: UserWarning: Observation names are not unique. To make them unique, call `.obs_names_make_unique`.\n",
      "  utils.warn_names_duplicates(\"obs\")\n",
      "c:\\Users\\prath\\anaconda-new\\Lib\\site-packages\\anndata\\_core\\anndata.py:1793: UserWarning: Variable names are not unique. To make them unique, call `.var_names_make_unique`.\n",
      "  utils.warn_names_duplicates(\"var\")\n",
      "c:\\Users\\prath\\anaconda-new\\Lib\\site-packages\\sklearn\\manifold\\_spectral_embedding.py:328: UserWarning: Graph is not fully connected, spectral embedding may not work as expected.\n",
      "  warnings.warn(\n",
      "c:\\Users\\prath\\anaconda-new\\Lib\\site-packages\\anndata\\_core\\anndata.py:1791: UserWarning: Observation names are not unique. To make them unique, call `.obs_names_make_unique`.\n",
      "  utils.warn_names_duplicates(\"obs\")\n",
      "c:\\Users\\prath\\anaconda-new\\Lib\\site-packages\\anndata\\_core\\anndata.py:1793: UserWarning: Variable names are not unique. To make them unique, call `.var_names_make_unique`.\n",
      "  utils.warn_names_duplicates(\"var\")\n",
      "c:\\Users\\prath\\anaconda-new\\Lib\\site-packages\\scanpy\\preprocessing\\_normalization.py:269: UserWarning: Received a view of an AnnData. Making a copy.\n",
      "  view_to_actual(adata)\n",
      "c:\\Users\\prath\\anaconda-new\\Lib\\site-packages\\anndata\\_core\\anndata.py:1791: UserWarning: Observation names are not unique. To make them unique, call `.obs_names_make_unique`.\n",
      "  utils.warn_names_duplicates(\"obs\")\n",
      "c:\\Users\\prath\\anaconda-new\\Lib\\site-packages\\anndata\\_core\\anndata.py:1793: UserWarning: Variable names are not unique. To make them unique, call `.var_names_make_unique`.\n",
      "  utils.warn_names_duplicates(\"var\")\n",
      "c:\\Users\\prath\\anaconda-new\\Lib\\site-packages\\anndata\\_core\\anndata.py:1791: UserWarning: Observation names are not unique. To make them unique, call `.obs_names_make_unique`.\n",
      "  utils.warn_names_duplicates(\"obs\")\n",
      "c:\\Users\\prath\\anaconda-new\\Lib\\site-packages\\anndata\\_core\\anndata.py:1793: UserWarning: Variable names are not unique. To make them unique, call `.var_names_make_unique`.\n",
      "  utils.warn_names_duplicates(\"var\")\n",
      "c:\\Users\\prath\\anaconda-new\\Lib\\site-packages\\scanpy\\preprocessing\\_normalization.py:269: UserWarning: Received a view of an AnnData. Making a copy.\n",
      "  view_to_actual(adata)\n",
      "c:\\Users\\prath\\anaconda-new\\Lib\\site-packages\\anndata\\_core\\anndata.py:1791: UserWarning: Observation names are not unique. To make them unique, call `.obs_names_make_unique`.\n",
      "  utils.warn_names_duplicates(\"obs\")\n",
      "c:\\Users\\prath\\anaconda-new\\Lib\\site-packages\\anndata\\_core\\anndata.py:1793: UserWarning: Variable names are not unique. To make them unique, call `.var_names_make_unique`.\n",
      "  utils.warn_names_duplicates(\"var\")\n",
      "c:\\Users\\prath\\anaconda-new\\Lib\\site-packages\\sklearn\\manifold\\_spectral_embedding.py:328: UserWarning: Graph is not fully connected, spectral embedding may not work as expected.\n",
      "  warnings.warn(\n",
      "c:\\Users\\prath\\anaconda-new\\Lib\\site-packages\\anndata\\_core\\anndata.py:1791: UserWarning: Observation names are not unique. To make them unique, call `.obs_names_make_unique`.\n",
      "  utils.warn_names_duplicates(\"obs\")\n",
      "c:\\Users\\prath\\anaconda-new\\Lib\\site-packages\\anndata\\_core\\anndata.py:1793: UserWarning: Variable names are not unique. To make them unique, call `.var_names_make_unique`.\n",
      "  utils.warn_names_duplicates(\"var\")\n",
      "c:\\Users\\prath\\anaconda-new\\Lib\\site-packages\\scanpy\\preprocessing\\_normalization.py:269: UserWarning: Received a view of an AnnData. Making a copy.\n",
      "  view_to_actual(adata)\n",
      "c:\\Users\\prath\\anaconda-new\\Lib\\site-packages\\anndata\\_core\\anndata.py:1791: UserWarning: Observation names are not unique. To make them unique, call `.obs_names_make_unique`.\n",
      "  utils.warn_names_duplicates(\"obs\")\n",
      "c:\\Users\\prath\\anaconda-new\\Lib\\site-packages\\anndata\\_core\\anndata.py:1793: UserWarning: Variable names are not unique. To make them unique, call `.var_names_make_unique`.\n",
      "  utils.warn_names_duplicates(\"var\")\n",
      "c:\\Users\\prath\\anaconda-new\\Lib\\site-packages\\anndata\\_core\\anndata.py:1791: UserWarning: Observation names are not unique. To make them unique, call `.obs_names_make_unique`.\n",
      "  utils.warn_names_duplicates(\"obs\")\n",
      "c:\\Users\\prath\\anaconda-new\\Lib\\site-packages\\anndata\\_core\\anndata.py:1793: UserWarning: Variable names are not unique. To make them unique, call `.var_names_make_unique`.\n",
      "  utils.warn_names_duplicates(\"var\")\n",
      "c:\\Users\\prath\\anaconda-new\\Lib\\site-packages\\scanpy\\preprocessing\\_normalization.py:269: UserWarning: Received a view of an AnnData. Making a copy.\n",
      "  view_to_actual(adata)\n",
      "c:\\Users\\prath\\anaconda-new\\Lib\\site-packages\\anndata\\_core\\anndata.py:1791: UserWarning: Observation names are not unique. To make them unique, call `.obs_names_make_unique`.\n",
      "  utils.warn_names_duplicates(\"obs\")\n",
      "c:\\Users\\prath\\anaconda-new\\Lib\\site-packages\\anndata\\_core\\anndata.py:1793: UserWarning: Variable names are not unique. To make them unique, call `.var_names_make_unique`.\n",
      "  utils.warn_names_duplicates(\"var\")\n",
      "c:\\Users\\prath\\anaconda-new\\Lib\\site-packages\\sklearn\\manifold\\_spectral_embedding.py:328: UserWarning: Graph is not fully connected, spectral embedding may not work as expected.\n",
      "  warnings.warn(\n",
      "c:\\Users\\prath\\anaconda-new\\Lib\\site-packages\\anndata\\_core\\anndata.py:1791: UserWarning: Observation names are not unique. To make them unique, call `.obs_names_make_unique`.\n",
      "  utils.warn_names_duplicates(\"obs\")\n",
      "c:\\Users\\prath\\anaconda-new\\Lib\\site-packages\\anndata\\_core\\anndata.py:1793: UserWarning: Variable names are not unique. To make them unique, call `.var_names_make_unique`.\n",
      "  utils.warn_names_duplicates(\"var\")\n",
      "c:\\Users\\prath\\anaconda-new\\Lib\\site-packages\\scanpy\\preprocessing\\_normalization.py:269: UserWarning: Received a view of an AnnData. Making a copy.\n",
      "  view_to_actual(adata)\n",
      "c:\\Users\\prath\\anaconda-new\\Lib\\site-packages\\anndata\\_core\\anndata.py:1791: UserWarning: Observation names are not unique. To make them unique, call `.obs_names_make_unique`.\n",
      "  utils.warn_names_duplicates(\"obs\")\n",
      "c:\\Users\\prath\\anaconda-new\\Lib\\site-packages\\anndata\\_core\\anndata.py:1793: UserWarning: Variable names are not unique. To make them unique, call `.var_names_make_unique`.\n",
      "  utils.warn_names_duplicates(\"var\")\n",
      "c:\\Users\\prath\\anaconda-new\\Lib\\site-packages\\sklearn\\manifold\\_spectral_embedding.py:328: UserWarning: Graph is not fully connected, spectral embedding may not work as expected.\n",
      "  warnings.warn(\n",
      "c:\\Users\\prath\\anaconda-new\\Lib\\site-packages\\anndata\\_core\\anndata.py:1791: UserWarning: Observation names are not unique. To make them unique, call `.obs_names_make_unique`.\n",
      "  utils.warn_names_duplicates(\"obs\")\n",
      "c:\\Users\\prath\\anaconda-new\\Lib\\site-packages\\anndata\\_core\\anndata.py:1793: UserWarning: Variable names are not unique. To make them unique, call `.var_names_make_unique`.\n",
      "  utils.warn_names_duplicates(\"var\")\n",
      "c:\\Users\\prath\\anaconda-new\\Lib\\site-packages\\scanpy\\preprocessing\\_normalization.py:269: UserWarning: Received a view of an AnnData. Making a copy.\n",
      "  view_to_actual(adata)\n",
      "c:\\Users\\prath\\anaconda-new\\Lib\\site-packages\\anndata\\_core\\anndata.py:1791: UserWarning: Observation names are not unique. To make them unique, call `.obs_names_make_unique`.\n",
      "  utils.warn_names_duplicates(\"obs\")\n",
      "c:\\Users\\prath\\anaconda-new\\Lib\\site-packages\\anndata\\_core\\anndata.py:1793: UserWarning: Variable names are not unique. To make them unique, call `.var_names_make_unique`.\n",
      "  utils.warn_names_duplicates(\"var\")\n",
      "c:\\Users\\prath\\anaconda-new\\Lib\\site-packages\\sklearn\\manifold\\_spectral_embedding.py:328: UserWarning: Graph is not fully connected, spectral embedding may not work as expected.\n",
      "  warnings.warn(\n",
      "c:\\Users\\prath\\anaconda-new\\Lib\\site-packages\\anndata\\_core\\anndata.py:1791: UserWarning: Observation names are not unique. To make them unique, call `.obs_names_make_unique`.\n",
      "  utils.warn_names_duplicates(\"obs\")\n",
      "c:\\Users\\prath\\anaconda-new\\Lib\\site-packages\\anndata\\_core\\anndata.py:1793: UserWarning: Variable names are not unique. To make them unique, call `.var_names_make_unique`.\n",
      "  utils.warn_names_duplicates(\"var\")\n",
      "c:\\Users\\prath\\anaconda-new\\Lib\\site-packages\\scanpy\\preprocessing\\_normalization.py:269: UserWarning: Received a view of an AnnData. Making a copy.\n",
      "  view_to_actual(adata)\n",
      "c:\\Users\\prath\\anaconda-new\\Lib\\site-packages\\anndata\\_core\\anndata.py:1791: UserWarning: Observation names are not unique. To make them unique, call `.obs_names_make_unique`.\n",
      "  utils.warn_names_duplicates(\"obs\")\n",
      "c:\\Users\\prath\\anaconda-new\\Lib\\site-packages\\anndata\\_core\\anndata.py:1793: UserWarning: Variable names are not unique. To make them unique, call `.var_names_make_unique`.\n",
      "  utils.warn_names_duplicates(\"var\")\n",
      "c:\\Users\\prath\\anaconda-new\\Lib\\site-packages\\sklearn\\manifold\\_spectral_embedding.py:328: UserWarning: Graph is not fully connected, spectral embedding may not work as expected.\n",
      "  warnings.warn(\n",
      "c:\\Users\\prath\\anaconda-new\\Lib\\site-packages\\anndata\\_core\\anndata.py:1791: UserWarning: Observation names are not unique. To make them unique, call `.obs_names_make_unique`.\n",
      "  utils.warn_names_duplicates(\"obs\")\n",
      "c:\\Users\\prath\\anaconda-new\\Lib\\site-packages\\anndata\\_core\\anndata.py:1793: UserWarning: Variable names are not unique. To make them unique, call `.var_names_make_unique`.\n",
      "  utils.warn_names_duplicates(\"var\")\n",
      "c:\\Users\\prath\\anaconda-new\\Lib\\site-packages\\scanpy\\preprocessing\\_normalization.py:269: UserWarning: Received a view of an AnnData. Making a copy.\n",
      "  view_to_actual(adata)\n",
      "c:\\Users\\prath\\anaconda-new\\Lib\\site-packages\\anndata\\_core\\anndata.py:1791: UserWarning: Observation names are not unique. To make them unique, call `.obs_names_make_unique`.\n",
      "  utils.warn_names_duplicates(\"obs\")\n",
      "c:\\Users\\prath\\anaconda-new\\Lib\\site-packages\\anndata\\_core\\anndata.py:1793: UserWarning: Variable names are not unique. To make them unique, call `.var_names_make_unique`.\n",
      "  utils.warn_names_duplicates(\"var\")\n",
      "c:\\Users\\prath\\anaconda-new\\Lib\\site-packages\\sklearn\\manifold\\_spectral_embedding.py:328: UserWarning: Graph is not fully connected, spectral embedding may not work as expected.\n",
      "  warnings.warn(\n",
      "c:\\Users\\prath\\anaconda-new\\Lib\\site-packages\\anndata\\_core\\anndata.py:1791: UserWarning: Observation names are not unique. To make them unique, call `.obs_names_make_unique`.\n",
      "  utils.warn_names_duplicates(\"obs\")\n",
      "c:\\Users\\prath\\anaconda-new\\Lib\\site-packages\\anndata\\_core\\anndata.py:1793: UserWarning: Variable names are not unique. To make them unique, call `.var_names_make_unique`.\n",
      "  utils.warn_names_duplicates(\"var\")\n",
      "c:\\Users\\prath\\anaconda-new\\Lib\\site-packages\\scanpy\\preprocessing\\_normalization.py:269: UserWarning: Received a view of an AnnData. Making a copy.\n",
      "  view_to_actual(adata)\n",
      "c:\\Users\\prath\\anaconda-new\\Lib\\site-packages\\anndata\\_core\\anndata.py:1791: UserWarning: Observation names are not unique. To make them unique, call `.obs_names_make_unique`.\n",
      "  utils.warn_names_duplicates(\"obs\")\n",
      "c:\\Users\\prath\\anaconda-new\\Lib\\site-packages\\anndata\\_core\\anndata.py:1793: UserWarning: Variable names are not unique. To make them unique, call `.var_names_make_unique`.\n",
      "  utils.warn_names_duplicates(\"var\")\n",
      "c:\\Users\\prath\\anaconda-new\\Lib\\site-packages\\sklearn\\manifold\\_spectral_embedding.py:328: UserWarning: Graph is not fully connected, spectral embedding may not work as expected.\n",
      "  warnings.warn(\n",
      "c:\\Users\\prath\\anaconda-new\\Lib\\site-packages\\anndata\\_core\\anndata.py:1791: UserWarning: Observation names are not unique. To make them unique, call `.obs_names_make_unique`.\n",
      "  utils.warn_names_duplicates(\"obs\")\n",
      "c:\\Users\\prath\\anaconda-new\\Lib\\site-packages\\anndata\\_core\\anndata.py:1793: UserWarning: Variable names are not unique. To make them unique, call `.var_names_make_unique`.\n",
      "  utils.warn_names_duplicates(\"var\")\n",
      "c:\\Users\\prath\\anaconda-new\\Lib\\site-packages\\scanpy\\preprocessing\\_normalization.py:269: UserWarning: Received a view of an AnnData. Making a copy.\n",
      "  view_to_actual(adata)\n",
      "c:\\Users\\prath\\anaconda-new\\Lib\\site-packages\\anndata\\_core\\anndata.py:1791: UserWarning: Observation names are not unique. To make them unique, call `.obs_names_make_unique`.\n",
      "  utils.warn_names_duplicates(\"obs\")\n",
      "c:\\Users\\prath\\anaconda-new\\Lib\\site-packages\\anndata\\_core\\anndata.py:1793: UserWarning: Variable names are not unique. To make them unique, call `.var_names_make_unique`.\n",
      "  utils.warn_names_duplicates(\"var\")\n",
      "c:\\Users\\prath\\anaconda-new\\Lib\\site-packages\\sklearn\\manifold\\_spectral_embedding.py:328: UserWarning: Graph is not fully connected, spectral embedding may not work as expected.\n",
      "  warnings.warn(\n",
      "c:\\Users\\prath\\anaconda-new\\Lib\\site-packages\\anndata\\_core\\anndata.py:1791: UserWarning: Observation names are not unique. To make them unique, call `.obs_names_make_unique`.\n",
      "  utils.warn_names_duplicates(\"obs\")\n",
      "c:\\Users\\prath\\anaconda-new\\Lib\\site-packages\\anndata\\_core\\anndata.py:1793: UserWarning: Variable names are not unique. To make them unique, call `.var_names_make_unique`.\n",
      "  utils.warn_names_duplicates(\"var\")\n",
      "c:\\Users\\prath\\anaconda-new\\Lib\\site-packages\\scanpy\\preprocessing\\_normalization.py:269: UserWarning: Received a view of an AnnData. Making a copy.\n",
      "  view_to_actual(adata)\n",
      "c:\\Users\\prath\\anaconda-new\\Lib\\site-packages\\anndata\\_core\\anndata.py:1791: UserWarning: Observation names are not unique. To make them unique, call `.obs_names_make_unique`.\n",
      "  utils.warn_names_duplicates(\"obs\")\n",
      "c:\\Users\\prath\\anaconda-new\\Lib\\site-packages\\anndata\\_core\\anndata.py:1793: UserWarning: Variable names are not unique. To make them unique, call `.var_names_make_unique`.\n",
      "  utils.warn_names_duplicates(\"var\")\n",
      "c:\\Users\\prath\\anaconda-new\\Lib\\site-packages\\sklearn\\manifold\\_spectral_embedding.py:328: UserWarning: Graph is not fully connected, spectral embedding may not work as expected.\n",
      "  warnings.warn(\n",
      "c:\\Users\\prath\\anaconda-new\\Lib\\site-packages\\anndata\\_core\\anndata.py:1791: UserWarning: Observation names are not unique. To make them unique, call `.obs_names_make_unique`.\n",
      "  utils.warn_names_duplicates(\"obs\")\n",
      "c:\\Users\\prath\\anaconda-new\\Lib\\site-packages\\anndata\\_core\\anndata.py:1793: UserWarning: Variable names are not unique. To make them unique, call `.var_names_make_unique`.\n",
      "  utils.warn_names_duplicates(\"var\")\n",
      "c:\\Users\\prath\\anaconda-new\\Lib\\site-packages\\scanpy\\preprocessing\\_normalization.py:269: UserWarning: Received a view of an AnnData. Making a copy.\n",
      "  view_to_actual(adata)\n",
      "c:\\Users\\prath\\anaconda-new\\Lib\\site-packages\\anndata\\_core\\anndata.py:1791: UserWarning: Observation names are not unique. To make them unique, call `.obs_names_make_unique`.\n",
      "  utils.warn_names_duplicates(\"obs\")\n",
      "c:\\Users\\prath\\anaconda-new\\Lib\\site-packages\\anndata\\_core\\anndata.py:1793: UserWarning: Variable names are not unique. To make them unique, call `.var_names_make_unique`.\n",
      "  utils.warn_names_duplicates(\"var\")\n",
      "c:\\Users\\prath\\anaconda-new\\Lib\\site-packages\\anndata\\_core\\anndata.py:1791: UserWarning: Observation names are not unique. To make them unique, call `.obs_names_make_unique`.\n",
      "  utils.warn_names_duplicates(\"obs\")\n",
      "c:\\Users\\prath\\anaconda-new\\Lib\\site-packages\\anndata\\_core\\anndata.py:1793: UserWarning: Variable names are not unique. To make them unique, call `.var_names_make_unique`.\n",
      "  utils.warn_names_duplicates(\"var\")\n",
      "c:\\Users\\prath\\anaconda-new\\Lib\\site-packages\\scanpy\\preprocessing\\_normalization.py:269: UserWarning: Received a view of an AnnData. Making a copy.\n",
      "  view_to_actual(adata)\n",
      "c:\\Users\\prath\\anaconda-new\\Lib\\site-packages\\anndata\\_core\\anndata.py:1791: UserWarning: Observation names are not unique. To make them unique, call `.obs_names_make_unique`.\n",
      "  utils.warn_names_duplicates(\"obs\")\n",
      "c:\\Users\\prath\\anaconda-new\\Lib\\site-packages\\anndata\\_core\\anndata.py:1793: UserWarning: Variable names are not unique. To make them unique, call `.var_names_make_unique`.\n",
      "  utils.warn_names_duplicates(\"var\")\n",
      "c:\\Users\\prath\\anaconda-new\\Lib\\site-packages\\anndata\\_core\\anndata.py:1791: UserWarning: Observation names are not unique. To make them unique, call `.obs_names_make_unique`.\n",
      "  utils.warn_names_duplicates(\"obs\")\n",
      "c:\\Users\\prath\\anaconda-new\\Lib\\site-packages\\anndata\\_core\\anndata.py:1793: UserWarning: Variable names are not unique. To make them unique, call `.var_names_make_unique`.\n",
      "  utils.warn_names_duplicates(\"var\")\n",
      "c:\\Users\\prath\\anaconda-new\\Lib\\site-packages\\scanpy\\preprocessing\\_normalization.py:269: UserWarning: Received a view of an AnnData. Making a copy.\n",
      "  view_to_actual(adata)\n",
      "c:\\Users\\prath\\anaconda-new\\Lib\\site-packages\\anndata\\_core\\anndata.py:1791: UserWarning: Observation names are not unique. To make them unique, call `.obs_names_make_unique`.\n",
      "  utils.warn_names_duplicates(\"obs\")\n",
      "c:\\Users\\prath\\anaconda-new\\Lib\\site-packages\\anndata\\_core\\anndata.py:1793: UserWarning: Variable names are not unique. To make them unique, call `.var_names_make_unique`.\n",
      "  utils.warn_names_duplicates(\"var\")\n",
      "c:\\Users\\prath\\anaconda-new\\Lib\\site-packages\\sklearn\\manifold\\_spectral_embedding.py:328: UserWarning: Graph is not fully connected, spectral embedding may not work as expected.\n",
      "  warnings.warn(\n"
     ]
    },
    {
     "name": "stdout",
     "output_type": "stream",
     "text": [
      "  method  missing_fraction      mean       std\n",
      "0  MAGIC               0.1  0.390713  0.016998\n",
      "1  MAGIC               0.2  0.311095  0.015767\n",
      "2  MAGIC               0.3  0.256196  0.010226\n"
     ]
    },
    {
     "data": {
      "image/png": "[encoded data removed]",
      "text/plain": [
       "<Figure size 800x600 with 1 Axes>"
      ]
     },
     "metadata": {},
     "output_type": "display_data"
    }
   ],
   "source": [
    "import scanpy as sc\n",
    "from sklearn.metrics import adjusted_rand_score\n",
    "import pandas as pd\n",
    "import os\n",
    "import seaborn as sns\n",
    "import matplotlib.pyplot as plt\n",
    "\n",
    "def preprocess_adata(adata):\n",
    "    # QC filtering\n",
    "    sc.pp.filter_cells(adata, min_genes=200)\n",
    "    sc.pp.filter_genes(adata, min_cells=3)\n",
    "\n",
    "    adata.var['mt'] = adata.var_names.str.startswith('MT-')\n",
    "    sc.pp.calculate_qc_metrics(adata, qc_vars=['mt'], percent_top=None, log1p=False, inplace=True)\n",
    "    adata = adata[adata.obs.pct_counts_mt < 5, :]\n",
    "\n",
    "    # Normalize + log\n",
    "    sc.pp.normalize_total(adata, target_sum=1e4)\n",
    "    sc.pp.log1p(adata)\n",
    "\n",
    "    # HVGs\n",
    "    sc.pp.highly_variable_genes(adata, flavor='seurat', n_top_genes=2000)\n",
    "\n",
    "    # PCA + neighbors + clustering\n",
    "    sc.tl.pca(adata, svd_solver='arpack')\n",
    "    sc.pp.neighbors(adata, n_neighbors=10, n_pcs=40)\n",
    "    sc.tl.umap(adata)\n",
    "    sc.tl.leiden(adata)\n",
    "\n",
    "    return adata\n",
    "\n",
    "\n",
    "# -----------------------------\n",
    "# Ground truth clustering\n",
    "# -----------------------------\n",
    "adata_gt = sc.read_h5ad(\"Data/combined_raw.h5ad\")\n",
    "adata_gt = preprocess_adata(adata_gt)\n",
    "gt_labels = adata_gt.obs['leiden'].copy()\n",
    "\n",
    "results = []\n",
    "missing_fractions = [10, 20, 30]\n",
    "runs = range(1, 11)\n",
    "\n",
    "# -----------------------------\n",
    "# Loop over MAGIC-imputed datasets\n",
    "# -----------------------------\n",
    "for mf in missing_fractions:  \n",
    "    for run in runs:\n",
    "        fname = f\"Imputed_h5ad/adata_magic_imputed_mf{mf}_run{run}.h5ad\"\n",
    "        if not os.path.exists(fname):\n",
    "            print(f\"Skipping {fname} (not found)\")\n",
    "            continue\n",
    "        \n",
    "        adata_imp = sc.read_h5ad(fname)\n",
    "        adata_imp = preprocess_adata(adata_imp)\n",
    "        \n",
    "        # Make sure cells match between GT and imputed\n",
    "        common_cells = adata_gt.obs_names.intersection(adata_imp.obs_names)\n",
    "        gt_sub = gt_labels.loc[common_cells]\n",
    "        imp_sub = adata_imp.obs['leiden'].loc[common_cells]\n",
    "        \n",
    "        # Compute ARI\n",
    "        ari = adjusted_rand_score(gt_sub, imp_sub)\n",
    "        \n",
    "        results.append({\n",
    "            \"method\": \"MAGIC\",   # method label updated\n",
    "            \"missing_fraction\": mf/100,  # e.g., 0.1, 0.2, 0.3\n",
    "            \"run\": run,\n",
    "            \"ARI\": ari  \n",
    "        })\n",
    "\n",
    "# -----------------------------\n",
    "# Results → DataFrame\n",
    "# -----------------------------\n",
    "results_df = pd.DataFrame(results)\n",
    "\n",
    "# Summary table\n",
    "summary = results_df.groupby(['method','missing_fraction'])['ARI'].agg(['mean','std']).reset_index()\n",
    "print(summary)\n",
    "\n",
    "# -----------------------------\n",
    "# Plot\n",
    "# -----------------------------\n",
    "plt.figure(figsize=(8,6))\n",
    "sns.barplot(data=summary, x='missing_fraction', y='mean', hue='method', capsize=0.1)\n",
    "\n",
    "# Add SD error bars manually\n",
    "for i, row in summary.iterrows():\n",
    "    plt.errorbar(\n",
    "        x=i%3 + (0 if row['method']=='MAGIC' else 0.3),\n",
    "        y=row['mean'], \n",
    "        yerr=row['std'], \n",
    "        fmt='none', c='black', capsize=5\n",
    "    )\n",
    "\n",
    "plt.ylabel(\"ARI (mean ± SD)\")\n",
    "plt.xlabel(\"Missing Fraction\")\n",
    "plt.title(\"Clustering Accuracy after MAGIC Imputation (vs Ground Truth)\")\n",
    "plt.savefig('ARI_Summary_MAGIC.png', dpi=300)\n",
    "plt.show()\n"
   ]
  },
  {
   "cell_type": "code",
   "execution_count": 11,
   "id": "48724b21",
   "metadata": {},
   "outputs": [
    {
     "name": "stdout",
     "output_type": "stream",
     "text": [
      " Preprocessing ground truth...\n"
     ]
    },
    {
     "name": "stderr",
     "output_type": "stream",
     "text": [
      "c:\\Users\\prath\\anaconda-new\\Lib\\site-packages\\anndata\\_core\\anndata.py:1791: UserWarning: Observation names are not unique. To make them unique, call `.obs_names_make_unique`.\n",
      "  utils.warn_names_duplicates(\"obs\")\n",
      "c:\\Users\\prath\\anaconda-new\\Lib\\site-packages\\anndata\\_core\\anndata.py:1793: UserWarning: Variable names are not unique. To make them unique, call `.var_names_make_unique`.\n",
      "  utils.warn_names_duplicates(\"var\")\n",
      "c:\\Users\\prath\\anaconda-new\\Lib\\functools.py:909: UserWarning: zero-centering a sparse array/matrix densifies it.\n",
      "  return dispatch(args[0].__class__)(*args, **kw)\n",
      "c:\\Users\\prath\\anaconda-new\\Lib\\site-packages\\scanpy\\preprocessing\\_highly_variable_genes.py:309: RuntimeWarning: invalid value encountered in log\n",
      "  dispersion = np.log(dispersion)\n"
     ]
    },
    {
     "name": "stdout",
     "output_type": "stream",
     "text": [
      "✅ Processed adata_iterative_imputed_mf10_run1.h5ad: ARI=0.428\n"
     ]
    },
    {
     "name": "stderr",
     "output_type": "stream",
     "text": [
      "c:\\Users\\prath\\anaconda-new\\Lib\\site-packages\\scanpy\\preprocessing\\_highly_variable_genes.py:309: RuntimeWarning: invalid value encountered in log\n",
      "  dispersion = np.log(dispersion)\n"
     ]
    },
    {
     "name": "stdout",
     "output_type": "stream",
     "text": [
      "✅ Processed adata_iterative_imputed_mf10_run10.h5ad: ARI=0.415\n"
     ]
    },
    {
     "name": "stderr",
     "output_type": "stream",
     "text": [
      "c:\\Users\\prath\\anaconda-new\\Lib\\site-packages\\scanpy\\preprocessing\\_highly_variable_genes.py:309: RuntimeWarning: invalid value encountered in log\n",
      "  dispersion = np.log(dispersion)\n"
     ]
    },
    {
     "name": "stdout",
     "output_type": "stream",
     "text": [
      "✅ Processed adata_iterative_imputed_mf10_run2.h5ad: ARI=0.412\n"
     ]
    },
    {
     "name": "stderr",
     "output_type": "stream",
     "text": [
      "c:\\Users\\prath\\anaconda-new\\Lib\\site-packages\\scanpy\\preprocessing\\_highly_variable_genes.py:309: RuntimeWarning: invalid value encountered in log\n",
      "  dispersion = np.log(dispersion)\n"
     ]
    },
    {
     "name": "stdout",
     "output_type": "stream",
     "text": [
      "✅ Processed adata_iterative_imputed_mf10_run3.h5ad: ARI=0.391\n"
     ]
    },
    {
     "name": "stderr",
     "output_type": "stream",
     "text": [
      "c:\\Users\\prath\\anaconda-new\\Lib\\site-packages\\scanpy\\preprocessing\\_highly_variable_genes.py:309: RuntimeWarning: invalid value encountered in log\n",
      "  dispersion = np.log(dispersion)\n"
     ]
    },
    {
     "name": "stdout",
     "output_type": "stream",
     "text": [
      "✅ Processed adata_iterative_imputed_mf10_run4.h5ad: ARI=0.394\n"
     ]
    },
    {
     "name": "stderr",
     "output_type": "stream",
     "text": [
      "c:\\Users\\prath\\anaconda-new\\Lib\\site-packages\\scanpy\\preprocessing\\_highly_variable_genes.py:309: RuntimeWarning: invalid value encountered in log\n",
      "  dispersion = np.log(dispersion)\n"
     ]
    },
    {
     "name": "stdout",
     "output_type": "stream",
     "text": [
      "✅ Processed adata_iterative_imputed_mf10_run5.h5ad: ARI=0.428\n"
     ]
    },
    {
     "name": "stderr",
     "output_type": "stream",
     "text": [
      "c:\\Users\\prath\\anaconda-new\\Lib\\site-packages\\scanpy\\preprocessing\\_highly_variable_genes.py:309: RuntimeWarning: invalid value encountered in log\n",
      "  dispersion = np.log(dispersion)\n"
     ]
    },
    {
     "name": "stdout",
     "output_type": "stream",
     "text": [
      "✅ Processed adata_iterative_imputed_mf10_run6.h5ad: ARI=0.420\n"
     ]
    },
    {
     "name": "stderr",
     "output_type": "stream",
     "text": [
      "c:\\Users\\prath\\anaconda-new\\Lib\\site-packages\\scanpy\\preprocessing\\_highly_variable_genes.py:309: RuntimeWarning: invalid value encountered in log\n",
      "  dispersion = np.log(dispersion)\n"
     ]
    },
    {
     "name": "stdout",
     "output_type": "stream",
     "text": [
      "✅ Processed adata_iterative_imputed_mf10_run7.h5ad: ARI=0.355\n"
     ]
    },
    {
     "name": "stderr",
     "output_type": "stream",
     "text": [
      "c:\\Users\\prath\\anaconda-new\\Lib\\site-packages\\scanpy\\preprocessing\\_highly_variable_genes.py:309: RuntimeWarning: invalid value encountered in log\n",
      "  dispersion = np.log(dispersion)\n"
     ]
    },
    {
     "name": "stdout",
     "output_type": "stream",
     "text": [
      "✅ Processed adata_iterative_imputed_mf10_run8.h5ad: ARI=0.412\n"
     ]
    },
    {
     "name": "stderr",
     "output_type": "stream",
     "text": [
      "c:\\Users\\prath\\anaconda-new\\Lib\\site-packages\\scanpy\\preprocessing\\_highly_variable_genes.py:309: RuntimeWarning: invalid value encountered in log\n",
      "  dispersion = np.log(dispersion)\n"
     ]
    },
    {
     "name": "stdout",
     "output_type": "stream",
     "text": [
      "✅ Processed adata_iterative_imputed_mf10_run9.h5ad: ARI=0.407\n"
     ]
    },
    {
     "name": "stderr",
     "output_type": "stream",
     "text": [
      "c:\\Users\\prath\\anaconda-new\\Lib\\site-packages\\scanpy\\preprocessing\\_highly_variable_genes.py:309: RuntimeWarning: invalid value encountered in log\n",
      "  dispersion = np.log(dispersion)\n"
     ]
    },
    {
     "name": "stdout",
     "output_type": "stream",
     "text": [
      "✅ Processed adata_iterative_imputed_mf20_run1.h5ad: ARI=0.378\n"
     ]
    },
    {
     "name": "stderr",
     "output_type": "stream",
     "text": [
      "c:\\Users\\prath\\anaconda-new\\Lib\\site-packages\\scanpy\\preprocessing\\_highly_variable_genes.py:309: RuntimeWarning: invalid value encountered in log\n",
      "  dispersion = np.log(dispersion)\n"
     ]
    },
    {
     "name": "stdout",
     "output_type": "stream",
     "text": [
      "✅ Processed adata_iterative_imputed_mf20_run10.h5ad: ARI=0.402\n",
      "✅ Processed adata_iterative_imputed_mf20_run2.h5ad: ARI=0.367\n"
     ]
    },
    {
     "name": "stderr",
     "output_type": "stream",
     "text": [
      "c:\\Users\\prath\\anaconda-new\\Lib\\site-packages\\scanpy\\preprocessing\\_highly_variable_genes.py:309: RuntimeWarning: invalid value encountered in log\n",
      "  dispersion = np.log(dispersion)\n"
     ]
    },
    {
     "name": "stdout",
     "output_type": "stream",
     "text": [
      "✅ Processed adata_iterative_imputed_mf20_run3.h5ad: ARI=0.357\n",
      "✅ Processed adata_iterative_imputed_mf20_run4.h5ad: ARI=0.372\n"
     ]
    },
    {
     "name": "stderr",
     "output_type": "stream",
     "text": [
      "c:\\Users\\prath\\anaconda-new\\Lib\\site-packages\\scanpy\\preprocessing\\_highly_variable_genes.py:309: RuntimeWarning: invalid value encountered in log\n",
      "  dispersion = np.log(dispersion)\n"
     ]
    },
    {
     "name": "stdout",
     "output_type": "stream",
     "text": [
      "✅ Processed adata_iterative_imputed_mf20_run5.h5ad: ARI=0.434\n"
     ]
    },
    {
     "name": "stderr",
     "output_type": "stream",
     "text": [
      "c:\\Users\\prath\\anaconda-new\\Lib\\site-packages\\scanpy\\preprocessing\\_highly_variable_genes.py:309: RuntimeWarning: invalid value encountered in log\n",
      "  dispersion = np.log(dispersion)\n"
     ]
    },
    {
     "name": "stdout",
     "output_type": "stream",
     "text": [
      "✅ Processed adata_iterative_imputed_mf20_run6.h5ad: ARI=0.390\n"
     ]
    },
    {
     "name": "stderr",
     "output_type": "stream",
     "text": [
      "c:\\Users\\prath\\anaconda-new\\Lib\\site-packages\\scanpy\\preprocessing\\_highly_variable_genes.py:309: RuntimeWarning: invalid value encountered in log\n",
      "  dispersion = np.log(dispersion)\n"
     ]
    },
    {
     "name": "stdout",
     "output_type": "stream",
     "text": [
      "✅ Processed adata_iterative_imputed_mf20_run7.h5ad: ARI=0.336\n"
     ]
    },
    {
     "name": "stderr",
     "output_type": "stream",
     "text": [
      "c:\\Users\\prath\\anaconda-new\\Lib\\site-packages\\scanpy\\preprocessing\\_highly_variable_genes.py:309: RuntimeWarning: invalid value encountered in log\n",
      "  dispersion = np.log(dispersion)\n"
     ]
    },
    {
     "name": "stdout",
     "output_type": "stream",
     "text": [
      "✅ Processed adata_iterative_imputed_mf20_run8.h5ad: ARI=0.350\n"
     ]
    },
    {
     "name": "stderr",
     "output_type": "stream",
     "text": [
      "c:\\Users\\prath\\anaconda-new\\Lib\\site-packages\\scanpy\\preprocessing\\_highly_variable_genes.py:309: RuntimeWarning: invalid value encountered in log\n",
      "  dispersion = np.log(dispersion)\n"
     ]
    },
    {
     "name": "stdout",
     "output_type": "stream",
     "text": [
      "✅ Processed adata_iterative_imputed_mf20_run9.h5ad: ARI=0.397\n",
      "✅ Processed adata_iterative_imputed_mf30_run1.h5ad: ARI=0.344\n",
      "✅ Processed adata_iterative_imputed_mf30_run10.h5ad: ARI=0.230\n",
      "✅ Processed adata_iterative_imputed_mf30_run2.h5ad: ARI=0.322\n",
      "✅ Processed adata_iterative_imputed_mf30_run3.h5ad: ARI=0.274\n",
      "✅ Processed adata_iterative_imputed_mf30_run4.h5ad: ARI=0.318\n",
      "✅ Processed adata_iterative_imputed_mf30_run5.h5ad: ARI=0.281\n",
      "✅ Processed adata_iterative_imputed_mf30_run6.h5ad: ARI=0.284\n",
      "✅ Processed adata_iterative_imputed_mf30_run7.h5ad: ARI=0.389\n",
      "✅ Processed adata_iterative_imputed_mf30_run8.h5ad: ARI=0.266\n",
      "✅ Processed adata_iterative_imputed_mf30_run9.h5ad: ARI=0.317\n",
      "\n",
      "Summary (mean ± std):\n",
      "             method  missing_fraction  ARI_mean   ARI_std  runs\n",
      "0  IterativeImputer               0.1  0.406265  0.021766    10\n",
      "1  IterativeImputer               0.2  0.378428  0.028595    10\n",
      "2  IterativeImputer               0.3  0.302539  0.045130    10\n"
     ]
    },
    {
     "data": {
      "image/png": "[encoded data removed]",
      "text/plain": [
       "<Figure size 800x600 with 1 Axes>"
      ]
     },
     "metadata": {},
     "output_type": "display_data"
    }
   ],
   "source": [
    "# Notebook 04: Performance Evaluation & Figures\n",
    "\n",
    "import scanpy as sc\n",
    "import pandas as pd\n",
    "import numpy as np\n",
    "import os\n",
    "import seaborn as sns\n",
    "import matplotlib.pyplot as plt\n",
    "from sklearn.metrics import adjusted_rand_score as ari_score\n",
    "\n",
    "# -----------------------------\n",
    "# Settings\n",
    "# -----------------------------\n",
    "sc.settings.verbosity = 0\n",
    "sns.set(style=\"whitegrid\")\n",
    "\n",
    "ground_truth_path = \"Data/adata_raw_qc.h5ad\"         # ground truth file\n",
    "imputed_dir = \"imputed_iterative\"                    # folder with imputed h5ad files\n",
    "methods = [\"IterativeImputer\"]                       # method tag for plotting\n",
    "\n",
    "# -----------------------------\n",
    "# Preprocessing function\n",
    "# -----------------------------\n",
    "def preprocess_adata(adata, n_hvgs=1000):\n",
    "    \"\"\"Preprocess AnnData: unique names, HVGs, PCA, clustering.\"\"\"\n",
    "    adata = adata.copy()\n",
    "\n",
    "    # Ensure unique obs/var names\n",
    "    adata.obs_names_make_unique()\n",
    "    adata.var_names_make_unique()\n",
    "\n",
    "    # Handle NaNs/Infs in expression matrix\n",
    "    X = adata.X.A if hasattr(adata.X, \"A\") else adata.X\n",
    "    X = np.nan_to_num(X, nan=0.0, posinf=0.0, neginf=0.0)\n",
    "    adata.X = X\n",
    "\n",
    "    # Apply log1p only if data not already logged\n",
    "    if np.max(adata.X) > 30:\n",
    "        sc.pp.log1p(adata)\n",
    "\n",
    "    # HVG selection\n",
    "    sc.pp.highly_variable_genes(adata, flavor=\"seurat\", n_top_genes=n_hvgs)\n",
    "    adata = adata[:, adata.var[\"highly_variable\"]].copy()\n",
    "\n",
    "    # PCA + neighbors + clustering\n",
    "    sc.pp.scale(adata, max_value=10)\n",
    "    sc.tl.pca(adata, svd_solver=\"arpack\")\n",
    "    sc.pp.neighbors(adata)\n",
    "    sc.tl.leiden(adata)\n",
    "\n",
    "    return adata\n",
    "\n",
    "\n",
    "# -----------------------------\n",
    "# Load ground truth\n",
    "# -----------------------------\n",
    "print(\" Preprocessing ground truth...\")\n",
    "adata_gt = sc.read_h5ad(ground_truth_path)\n",
    "adata_gt = preprocess_adata(adata_gt)\n",
    "\n",
    "if \"leiden\" not in adata_gt.obs:\n",
    "    raise ValueError(\"Ground truth AnnData does not have 'leiden' clustering.\")\n",
    "\n",
    "\n",
    "# -----------------------------\n",
    "# Evaluate imputation runs\n",
    "# -----------------------------\n",
    "results = []\n",
    "\n",
    "for fname in os.listdir(imputed_dir):\n",
    "    if not fname.endswith(\".h5ad\"):\n",
    "        continue\n",
    "\n",
    "    fpath = os.path.join(imputed_dir, fname)\n",
    "    try:\n",
    "        adata_imp = sc.read_h5ad(fpath)\n",
    "        adata_imp = preprocess_adata(adata_imp)\n",
    "\n",
    "        # Align cells\n",
    "        common_cells = adata_gt.obs_names.intersection(adata_imp.obs_names)\n",
    "        adata_gt_sub = adata_gt[common_cells]\n",
    "        adata_imp_sub = adata_imp[common_cells]\n",
    "\n",
    "        # Compute ARI\n",
    "        ari = ari_score(adata_gt_sub.obs[\"leiden\"], adata_imp_sub.obs[\"leiden\"])\n",
    "\n",
    "        # Parse metadata from filename (mfXX, runX)\n",
    "        mf = None\n",
    "        run = None\n",
    "        for part in fname.split(\"_\"):\n",
    "            if part.startswith(\"mf\"):\n",
    "                mf = float(part.replace(\"mf\", \"\").replace(\".h5ad\", \"\")) / 100\n",
    "            if part.startswith(\"run\"):\n",
    "                run = int(part.replace(\"run\", \"\").replace(\".h5ad\", \"\"))\n",
    "\n",
    "        results.append({\n",
    "            \"file\": fname,\n",
    "            \"method\": \"IterativeImputer\",\n",
    "            \"ARI\": ari,\n",
    "            \"missing_fraction\": mf,\n",
    "            \"run\": run\n",
    "        })\n",
    "\n",
    "        print(f\"✅ Processed {fname}: ARI={ari:.3f}\")\n",
    "\n",
    "    except Exception as e:\n",
    "        print(f\"❌ Error with {fname}: {e}\")\n",
    "\n",
    "\n",
    "# -----------------------------\n",
    "# Results → DataFrame\n",
    "# -----------------------------\n",
    "results_df = pd.DataFrame(results)\n",
    "\n",
    "if results_df.empty:\n",
    "    raise ValueError(\"No results computed. Check your imputed files and pipeline.\")\n",
    "\n",
    "results_df = results_df.dropna(subset=[\"ARI\", \"missing_fraction\"])\n",
    "results_df[\"missing_fraction\"] = results_df[\"missing_fraction\"].astype(float)\n",
    "\n",
    "# -----------------------------\n",
    "# Summary\n",
    "# -----------------------------\n",
    "summary = results_df.groupby([\"method\", \"missing_fraction\"]).agg(\n",
    "    ARI_mean=(\"ARI\", \"mean\"),\n",
    "    ARI_std=(\"ARI\", \"std\"),\n",
    "    runs=(\"ARI\", \"count\")\n",
    ").reset_index()\n",
    "\n",
    "print(\"\\nSummary (mean ± std):\")\n",
    "print(summary)\n",
    "\n",
    "\n",
    "# -----------------------------\n",
    "# Plot\n",
    "# -----------------------------\n",
    "plt.figure(figsize=(8, 6))\n",
    "sns.barplot(\n",
    "    data=results_df,\n",
    "    x=\"missing_fraction\",\n",
    "    y=\"ARI\",\n",
    "    hue=\"method\",\n",
    "    errorbar=\"sd\",\n",
    "    capsize=0.1\n",
    ")\n",
    "plt.title(\"ARI across missing fractions\")\n",
    "plt.ylabel(\"Adjusted Rand Index\")\n",
    "plt.xlabel(\"Missing Fraction\")\n",
    "plt.legend(title=\"Method\")\n",
    "plt.show()\n"
   ]
  },
  {
   "cell_type": "code",
   "execution_count": 16,
   "id": "969f3554",
   "metadata": {},
   "outputs": [
    {
     "name": "stdout",
     "output_type": "stream",
     "text": [
      " Preprocessing ground truth...\n"
     ]
    },
    {
     "name": "stderr",
     "output_type": "stream",
     "text": [
      "c:\\Users\\prath\\anaconda-new\\Lib\\site-packages\\anndata\\_core\\anndata.py:1791: UserWarning: Observation names are not unique. To make them unique, call `.obs_names_make_unique`.\n",
      "  utils.warn_names_duplicates(\"obs\")\n",
      "c:\\Users\\prath\\anaconda-new\\Lib\\site-packages\\anndata\\_core\\anndata.py:1793: UserWarning: Variable names are not unique. To make them unique, call `.var_names_make_unique`.\n",
      "  utils.warn_names_duplicates(\"var\")\n",
      "c:\\Users\\prath\\anaconda-new\\Lib\\functools.py:909: UserWarning: zero-centering a sparse array/matrix densifies it.\n",
      "  return dispatch(args[0].__class__)(*args, **kw)\n",
      "c:\\Users\\prath\\anaconda-new\\Lib\\site-packages\\scanpy\\preprocessing\\_highly_variable_genes.py:309: RuntimeWarning: invalid value encountered in log\n",
      "  dispersion = np.log(dispersion)\n"
     ]
    },
    {
     "name": "stdout",
     "output_type": "stream",
     "text": [
      "✅ Processed adata_knn_imputed_mf10_run1.h5ad: ARI=0.424\n"
     ]
    },
    {
     "name": "stderr",
     "output_type": "stream",
     "text": [
      "c:\\Users\\prath\\anaconda-new\\Lib\\site-packages\\scanpy\\preprocessing\\_highly_variable_genes.py:309: RuntimeWarning: invalid value encountered in log\n",
      "  dispersion = np.log(dispersion)\n"
     ]
    },
    {
     "name": "stdout",
     "output_type": "stream",
     "text": [
      "✅ Processed adata_knn_imputed_mf10_run10.h5ad: ARI=0.379\n"
     ]
    },
    {
     "name": "stderr",
     "output_type": "stream",
     "text": [
      "c:\\Users\\prath\\anaconda-new\\Lib\\site-packages\\scanpy\\preprocessing\\_highly_variable_genes.py:309: RuntimeWarning: invalid value encountered in log\n",
      "  dispersion = np.log(dispersion)\n"
     ]
    },
    {
     "name": "stdout",
     "output_type": "stream",
     "text": [
      "✅ Processed adata_knn_imputed_mf10_run2.h5ad: ARI=0.347\n"
     ]
    },
    {
     "name": "stderr",
     "output_type": "stream",
     "text": [
      "c:\\Users\\prath\\anaconda-new\\Lib\\site-packages\\scanpy\\preprocessing\\_highly_variable_genes.py:309: RuntimeWarning: invalid value encountered in log\n",
      "  dispersion = np.log(dispersion)\n"
     ]
    },
    {
     "name": "stdout",
     "output_type": "stream",
     "text": [
      "✅ Processed adata_knn_imputed_mf10_run3.h5ad: ARI=0.331\n"
     ]
    },
    {
     "name": "stderr",
     "output_type": "stream",
     "text": [
      "c:\\Users\\prath\\anaconda-new\\Lib\\site-packages\\scanpy\\preprocessing\\_highly_variable_genes.py:309: RuntimeWarning: invalid value encountered in log\n",
      "  dispersion = np.log(dispersion)\n"
     ]
    },
    {
     "name": "stdout",
     "output_type": "stream",
     "text": [
      "✅ Processed adata_knn_imputed_mf10_run4.h5ad: ARI=0.372\n"
     ]
    },
    {
     "name": "stderr",
     "output_type": "stream",
     "text": [
      "c:\\Users\\prath\\anaconda-new\\Lib\\site-packages\\scanpy\\preprocessing\\_highly_variable_genes.py:309: RuntimeWarning: invalid value encountered in log\n",
      "  dispersion = np.log(dispersion)\n"
     ]
    },
    {
     "name": "stdout",
     "output_type": "stream",
     "text": [
      "✅ Processed adata_knn_imputed_mf10_run5.h5ad: ARI=0.360\n"
     ]
    },
    {
     "name": "stderr",
     "output_type": "stream",
     "text": [
      "c:\\Users\\prath\\anaconda-new\\Lib\\site-packages\\scanpy\\preprocessing\\_highly_variable_genes.py:309: RuntimeWarning: invalid value encountered in log\n",
      "  dispersion = np.log(dispersion)\n"
     ]
    },
    {
     "name": "stdout",
     "output_type": "stream",
     "text": [
      "✅ Processed adata_knn_imputed_mf10_run6.h5ad: ARI=0.371\n"
     ]
    },
    {
     "name": "stderr",
     "output_type": "stream",
     "text": [
      "c:\\Users\\prath\\anaconda-new\\Lib\\site-packages\\scanpy\\preprocessing\\_highly_variable_genes.py:309: RuntimeWarning: invalid value encountered in log\n",
      "  dispersion = np.log(dispersion)\n"
     ]
    },
    {
     "name": "stdout",
     "output_type": "stream",
     "text": [
      "✅ Processed adata_knn_imputed_mf10_run7.h5ad: ARI=0.332\n"
     ]
    },
    {
     "name": "stderr",
     "output_type": "stream",
     "text": [
      "c:\\Users\\prath\\anaconda-new\\Lib\\site-packages\\scanpy\\preprocessing\\_highly_variable_genes.py:309: RuntimeWarning: invalid value encountered in log\n",
      "  dispersion = np.log(dispersion)\n"
     ]
    },
    {
     "name": "stdout",
     "output_type": "stream",
     "text": [
      "✅ Processed adata_knn_imputed_mf10_run8.h5ad: ARI=0.392\n"
     ]
    },
    {
     "name": "stderr",
     "output_type": "stream",
     "text": [
      "c:\\Users\\prath\\anaconda-new\\Lib\\site-packages\\scanpy\\preprocessing\\_highly_variable_genes.py:309: RuntimeWarning: invalid value encountered in log\n",
      "  dispersion = np.log(dispersion)\n"
     ]
    },
    {
     "name": "stdout",
     "output_type": "stream",
     "text": [
      "✅ Processed adata_knn_imputed_mf10_run9.h5ad: ARI=0.340\n"
     ]
    },
    {
     "name": "stderr",
     "output_type": "stream",
     "text": [
      "c:\\Users\\prath\\anaconda-new\\Lib\\site-packages\\scanpy\\preprocessing\\_highly_variable_genes.py:309: RuntimeWarning: invalid value encountered in log\n",
      "  dispersion = np.log(dispersion)\n"
     ]
    },
    {
     "name": "stdout",
     "output_type": "stream",
     "text": [
      "✅ Processed adata_knn_imputed_mf20_run1.h5ad: ARI=0.366\n"
     ]
    },
    {
     "name": "stderr",
     "output_type": "stream",
     "text": [
      "c:\\Users\\prath\\anaconda-new\\Lib\\site-packages\\scanpy\\preprocessing\\_highly_variable_genes.py:309: RuntimeWarning: invalid value encountered in log\n",
      "  dispersion = np.log(dispersion)\n"
     ]
    },
    {
     "name": "stdout",
     "output_type": "stream",
     "text": [
      "✅ Processed adata_knn_imputed_mf20_run10.h5ad: ARI=0.351\n",
      "✅ Processed adata_knn_imputed_mf20_run2.h5ad: ARI=0.366\n"
     ]
    },
    {
     "name": "stderr",
     "output_type": "stream",
     "text": [
      "c:\\Users\\prath\\anaconda-new\\Lib\\site-packages\\scanpy\\preprocessing\\_highly_variable_genes.py:309: RuntimeWarning: invalid value encountered in log\n",
      "  dispersion = np.log(dispersion)\n"
     ]
    },
    {
     "name": "stdout",
     "output_type": "stream",
     "text": [
      "✅ Processed adata_knn_imputed_mf20_run3.h5ad: ARI=0.346\n",
      "✅ Processed adata_knn_imputed_mf20_run4.h5ad: ARI=0.304\n"
     ]
    },
    {
     "name": "stderr",
     "output_type": "stream",
     "text": [
      "c:\\Users\\prath\\anaconda-new\\Lib\\site-packages\\scanpy\\preprocessing\\_highly_variable_genes.py:309: RuntimeWarning: invalid value encountered in log\n",
      "  dispersion = np.log(dispersion)\n"
     ]
    },
    {
     "name": "stdout",
     "output_type": "stream",
     "text": [
      "✅ Processed adata_knn_imputed_mf20_run5.h5ad: ARI=0.340\n"
     ]
    },
    {
     "name": "stderr",
     "output_type": "stream",
     "text": [
      "c:\\Users\\prath\\anaconda-new\\Lib\\site-packages\\scanpy\\preprocessing\\_highly_variable_genes.py:309: RuntimeWarning: invalid value encountered in log\n",
      "  dispersion = np.log(dispersion)\n"
     ]
    },
    {
     "name": "stdout",
     "output_type": "stream",
     "text": [
      "✅ Processed adata_knn_imputed_mf20_run6.h5ad: ARI=0.361\n"
     ]
    },
    {
     "name": "stderr",
     "output_type": "stream",
     "text": [
      "c:\\Users\\prath\\anaconda-new\\Lib\\site-packages\\scanpy\\preprocessing\\_highly_variable_genes.py:309: RuntimeWarning: invalid value encountered in log\n",
      "  dispersion = np.log(dispersion)\n"
     ]
    },
    {
     "name": "stdout",
     "output_type": "stream",
     "text": [
      "✅ Processed adata_knn_imputed_mf20_run7.h5ad: ARI=0.330\n"
     ]
    },
    {
     "name": "stderr",
     "output_type": "stream",
     "text": [
      "c:\\Users\\prath\\anaconda-new\\Lib\\site-packages\\scanpy\\preprocessing\\_highly_variable_genes.py:309: RuntimeWarning: invalid value encountered in log\n",
      "  dispersion = np.log(dispersion)\n"
     ]
    },
    {
     "name": "stdout",
     "output_type": "stream",
     "text": [
      "✅ Processed adata_knn_imputed_mf20_run8.h5ad: ARI=0.310\n"
     ]
    },
    {
     "name": "stderr",
     "output_type": "stream",
     "text": [
      "c:\\Users\\prath\\anaconda-new\\Lib\\site-packages\\scanpy\\preprocessing\\_highly_variable_genes.py:309: RuntimeWarning: invalid value encountered in log\n",
      "  dispersion = np.log(dispersion)\n"
     ]
    },
    {
     "name": "stdout",
     "output_type": "stream",
     "text": [
      "✅ Processed adata_knn_imputed_mf20_run9.h5ad: ARI=0.344\n",
      "✅ Processed adata_knn_imputed_mf30_run1.h5ad: ARI=0.393\n",
      "✅ Processed adata_knn_imputed_mf30_run10.h5ad: ARI=0.351\n",
      "✅ Processed adata_knn_imputed_mf30_run2.h5ad: ARI=0.354\n",
      "✅ Processed adata_knn_imputed_mf30_run3.h5ad: ARI=0.374\n",
      "✅ Processed adata_knn_imputed_mf30_run4.h5ad: ARI=0.380\n",
      "✅ Processed adata_knn_imputed_mf30_run5.h5ad: ARI=0.314\n",
      "✅ Processed adata_knn_imputed_mf30_run6.h5ad: ARI=0.390\n",
      "✅ Processed adata_knn_imputed_mf30_run7.h5ad: ARI=0.384\n",
      "✅ Processed adata_knn_imputed_mf30_run8.h5ad: ARI=0.336\n",
      "✅ Processed adata_knn_imputed_mf30_run9.h5ad: ARI=0.314\n",
      "\n",
      "Summary (mean ± std):\n",
      "       method  missing_fraction  ARI_mean   ARI_std  runs\n",
      "0  KNNImputer               0.1  0.364703  0.029404    10\n",
      "1  KNNImputer               0.2  0.341821  0.021707    10\n",
      "2  KNNImputer               0.3  0.359015  0.029893    10\n"
     ]
    },
    {
     "data": {
      "image/png": "[encoded data removed]",
      "text/plain": [
       "<Figure size 800x600 with 1 Axes>"
      ]
     },
     "metadata": {},
     "output_type": "display_data"
    }
   ],
   "source": [
    "# Notebook 04: Performance Evaluation & Figures (KNN)\n",
    "\n",
    "import scanpy as sc\n",
    "import pandas as pd\n",
    "import numpy as np\n",
    "import os\n",
    "import seaborn as sns\n",
    "import matplotlib.pyplot as plt\n",
    "from sklearn.metrics import adjusted_rand_score as ari_score\n",
    "\n",
    "# -----------------------------\n",
    "# Settings\n",
    "# -----------------------------\n",
    "sc.settings.verbosity = 0\n",
    "sns.set(style=\"whitegrid\")\n",
    "\n",
    "ground_truth_path = \"Data/adata_raw_qc.h5ad\"     # ground truth file\n",
    "imputed_dir = \"imputed_knn\"                      # folder with imputed h5ad files\n",
    "methods = [\"KNNImputer\"]                         # method tag for plotting\n",
    "\n",
    "# -----------------------------\n",
    "# Preprocessing function\n",
    "# -----------------------------\n",
    "def preprocess_adata(adata, n_hvgs=1000):\n",
    "    \"\"\"Preprocess AnnData: unique names, HVGs, PCA, clustering.\"\"\"\n",
    "    adata = adata.copy()\n",
    "\n",
    "    # Ensure unique obs/var names\n",
    "    adata.obs_names_make_unique()\n",
    "    adata.var_names_make_unique()\n",
    "\n",
    "    # Handle NaNs/Infs in expression matrix\n",
    "    X = adata.X.A if hasattr(adata.X, \"A\") else adata.X\n",
    "    X = np.nan_to_num(X, nan=0.0, posinf=0.0, neginf=0.0)\n",
    "    adata.X = X\n",
    "\n",
    "    # Apply log1p only if data not already logged\n",
    "    if np.max(adata.X) > 30:\n",
    "        sc.pp.log1p(adata)\n",
    "\n",
    "    # HVG selection\n",
    "    sc.pp.highly_variable_genes(adata, flavor=\"seurat\", n_top_genes=n_hvgs)\n",
    "    adata = adata[:, adata.var[\"highly_variable\"]].copy()\n",
    "\n",
    "    # PCA + neighbors + clustering\n",
    "    sc.pp.scale(adata, max_value=10)\n",
    "    sc.tl.pca(adata, svd_solver=\"arpack\")\n",
    "    sc.pp.neighbors(adata)\n",
    "    sc.tl.leiden(adata)\n",
    "\n",
    "    return adata\n",
    "\n",
    "\n",
    "# -----------------------------\n",
    "# Load ground truth\n",
    "# -----------------------------\n",
    "print(\" Preprocessing ground truth...\")\n",
    "adata_gt = sc.read_h5ad(ground_truth_path)\n",
    "adata_gt = preprocess_adata(adata_gt)\n",
    "\n",
    "if \"leiden\" not in adata_gt.obs:\n",
    "    raise ValueError(\"Ground truth AnnData does not have 'leiden' clustering.\")\n",
    "\n",
    "\n",
    "# -----------------------------\n",
    "# Evaluate imputation runs\n",
    "# -----------------------------\n",
    "results = []\n",
    "\n",
    "for fname in os.listdir(imputed_dir):\n",
    "    if not fname.endswith(\".h5ad\"):\n",
    "        continue\n",
    "\n",
    "    fpath = os.path.join(imputed_dir, fname)\n",
    "    try:\n",
    "        adata_imp = sc.read_h5ad(fpath)\n",
    "        adata_imp = preprocess_adata(adata_imp)\n",
    "\n",
    "        # Align cells\n",
    "        common_cells = adata_gt.obs_names.intersection(adata_imp.obs_names)\n",
    "        adata_gt_sub = adata_gt[common_cells]\n",
    "        adata_imp_sub = adata_imp[common_cells]\n",
    "\n",
    "        # Compute ARI\n",
    "        ari = ari_score(adata_gt_sub.obs[\"leiden\"], adata_imp_sub.obs[\"leiden\"])\n",
    "\n",
    "        # Parse metadata from filename (mfXX, runX)\n",
    "        mf = None\n",
    "        run = None\n",
    "        for part in fname.split(\"_\"):\n",
    "            if part.startswith(\"mf\"):\n",
    "                mf = float(part.replace(\"mf\", \"\").replace(\".h5ad\", \"\")) / 100\n",
    "            if part.startswith(\"run\"):\n",
    "                run = int(part.replace(\"run\", \"\").replace(\".h5ad\", \"\"))\n",
    "\n",
    "        results.append({\n",
    "            \"file\": fname,\n",
    "            \"method\": \"KNNImputer\",\n",
    "            \"ARI\": ari,\n",
    "            \"missing_fraction\": mf,\n",
    "            \"run\": run\n",
    "        })\n",
    "\n",
    "        print(f\"✅ Processed {fname}: ARI={ari:.3f}\")\n",
    "\n",
    "    except Exception as e:\n",
    "        print(f\"❌ Error with {fname}: {e}\")\n",
    "\n",
    "\n",
    "# -----------------------------\n",
    "# Results → DataFrame\n",
    "# -----------------------------\n",
    "results_df = pd.DataFrame(results)\n",
    "\n",
    "if results_df.empty:\n",
    "    raise ValueError(\"No results computed. Check your imputed files and pipeline.\")\n",
    "\n",
    "results_df = results_df.dropna(subset=[\"ARI\", \"missing_fraction\"])\n",
    "results_df[\"missing_fraction\"] = results_df[\"missing_fraction\"].astype(float)\n",
    "\n",
    "# -----------------------------\n",
    "# Summary\n",
    "# -----------------------------\n",
    "summary = results_df.groupby([\"method\", \"missing_fraction\"]).agg(\n",
    "    ARI_mean=(\"ARI\", \"mean\"),\n",
    "    ARI_std=(\"ARI\", \"std\"),\n",
    "    runs=(\"ARI\", \"count\")\n",
    ").reset_index()\n",
    "\n",
    "print(\"\\nSummary (mean ± std):\")\n",
    "print(summary)\n",
    "\n",
    "\n",
    "# -----------------------------\n",
    "# Plot\n",
    "# -----------------------------\n",
    "plt.figure(figsize=(8, 6))\n",
    "sns.barplot(\n",
    "    data=results_df,\n",
    "    x=\"missing_fraction\",\n",
    "    y=\"ARI\",\n",
    "    hue=\"method\",\n",
    "    errorbar=\"sd\",\n",
    "    capsize=0.1\n",
    ")\n",
    "plt.title(\"ARI across missing fractions (KNNImputer)\")\n",
    "plt.ylabel(\"Adjusted Rand Index\")\n",
    "plt.xlabel(\"Missing Fraction\")\n",
    "plt.legend(title=\"Method\")\n",
    "plt.show()\n"
   ]
  },
  {
   "cell_type": "code",
   "execution_count": 17,
   "id": "79d648a7",
   "metadata": {},
   "outputs": [
    {
     "name": "stdout",
     "output_type": "stream",
     "text": [
      " Preprocessing ground truth...\n"
     ]
    },
    {
     "name": "stderr",
     "output_type": "stream",
     "text": [
      "c:\\Users\\prath\\anaconda-new\\Lib\\site-packages\\anndata\\_core\\anndata.py:1791: UserWarning: Observation names are not unique. To make them unique, call `.obs_names_make_unique`.\n",
      "  utils.warn_names_duplicates(\"obs\")\n",
      "c:\\Users\\prath\\anaconda-new\\Lib\\site-packages\\anndata\\_core\\anndata.py:1793: UserWarning: Variable names are not unique. To make them unique, call `.var_names_make_unique`.\n",
      "  utils.warn_names_duplicates(\"var\")\n",
      "c:\\Users\\prath\\anaconda-new\\Lib\\functools.py:909: UserWarning: zero-centering a sparse array/matrix densifies it.\n",
      "  return dispatch(args[0].__class__)(*args, **kw)\n"
     ]
    },
    {
     "name": "stdout",
     "output_type": "stream",
     "text": [
      "✅ Processed adata_softimpute_imputed_mf10_run1.h5ad: ARI=0.509\n",
      "✅ Processed adata_softimpute_imputed_mf10_run10.h5ad: ARI=0.500\n",
      "✅ Processed adata_softimpute_imputed_mf10_run2.h5ad: ARI=0.490\n",
      "✅ Processed adata_softimpute_imputed_mf10_run3.h5ad: ARI=0.478\n",
      "✅ Processed adata_softimpute_imputed_mf10_run4.h5ad: ARI=0.494\n",
      "✅ Processed adata_softimpute_imputed_mf10_run5.h5ad: ARI=0.496\n",
      "✅ Processed adata_softimpute_imputed_mf10_run6.h5ad: ARI=0.498\n",
      "✅ Processed adata_softimpute_imputed_mf10_run7.h5ad: ARI=0.495\n",
      "✅ Processed adata_softimpute_imputed_mf10_run8.h5ad: ARI=0.492\n",
      "✅ Processed adata_softimpute_imputed_mf10_run9.h5ad: ARI=0.497\n",
      "✅ Processed adata_softimpute_imputed_mf20_run1.h5ad: ARI=0.487\n",
      "✅ Processed adata_softimpute_imputed_mf20_run10.h5ad: ARI=0.479\n",
      "✅ Processed adata_softimpute_imputed_mf20_run2.h5ad: ARI=0.475\n",
      "✅ Processed adata_softimpute_imputed_mf20_run3.h5ad: ARI=0.502\n",
      "✅ Processed adata_softimpute_imputed_mf20_run4.h5ad: ARI=0.441\n",
      "✅ Processed adata_softimpute_imputed_mf20_run5.h5ad: ARI=0.488\n",
      "✅ Processed adata_softimpute_imputed_mf20_run6.h5ad: ARI=0.466\n",
      "✅ Processed adata_softimpute_imputed_mf20_run7.h5ad: ARI=0.502\n",
      "✅ Processed adata_softimpute_imputed_mf20_run8.h5ad: ARI=0.450\n",
      "✅ Processed adata_softimpute_imputed_mf20_run9.h5ad: ARI=0.469\n",
      "✅ Processed adata_softimpute_imputed_mf30_run1.h5ad: ARI=0.430\n",
      "✅ Processed adata_softimpute_imputed_mf30_run10.h5ad: ARI=0.416\n",
      "✅ Processed adata_softimpute_imputed_mf30_run2.h5ad: ARI=0.419\n",
      "✅ Processed adata_softimpute_imputed_mf30_run3.h5ad: ARI=0.353\n",
      "✅ Processed adata_softimpute_imputed_mf30_run4.h5ad: ARI=0.434\n",
      "✅ Processed adata_softimpute_imputed_mf30_run5.h5ad: ARI=0.377\n",
      "✅ Processed adata_softimpute_imputed_mf30_run6.h5ad: ARI=0.342\n",
      "✅ Processed adata_softimpute_imputed_mf30_run7.h5ad: ARI=0.430\n",
      "✅ Processed adata_softimpute_imputed_mf30_run8.h5ad: ARI=0.389\n",
      "✅ Processed adata_softimpute_imputed_mf30_run9.h5ad: ARI=0.425\n",
      "\n",
      "Summary (mean ± std):\n",
      "       method  missing_fraction  ARI_mean   ARI_std  runs\n",
      "0  SoftImpute               0.1  0.494832  0.007902    10\n",
      "1  SoftImpute               0.2  0.475918  0.020275    10\n",
      "2  SoftImpute               0.3  0.401562  0.033838    10\n"
     ]
    },
    {
     "data": {
      "image/png": "[encoded data removed]",
      "text/plain": [
       "<Figure size 800x600 with 1 Axes>"
      ]
     },
     "metadata": {},
     "output_type": "display_data"
    }
   ],
   "source": [
    "# Notebook 04: Performance Evaluation & Figures (SoftImpute)\n",
    "\n",
    "import scanpy as sc\n",
    "import pandas as pd\n",
    "import numpy as np\n",
    "import os\n",
    "import seaborn as sns\n",
    "import matplotlib.pyplot as plt\n",
    "from sklearn.metrics import adjusted_rand_score as ari_score\n",
    "\n",
    "# -----------------------------\n",
    "# Settings\n",
    "# -----------------------------\n",
    "sc.settings.verbosity = 0\n",
    "sns.set(style=\"whitegrid\")\n",
    "\n",
    "ground_truth_path = \"Data/adata_raw_qc.h5ad\"     # ground truth file\n",
    "imputed_dir = \"imputed_softimpute\"               # folder with imputed h5ad files\n",
    "methods = [\"SoftImpute\"]                         # method tag for plotting\n",
    "\n",
    "# -----------------------------\n",
    "# Preprocessing function\n",
    "# -----------------------------\n",
    "def preprocess_adata(adata, n_hvgs=1000):\n",
    "    \"\"\"Preprocess AnnData: unique names, HVGs, PCA, clustering.\"\"\"\n",
    "    adata = adata.copy()\n",
    "\n",
    "    # Ensure unique obs/var names\n",
    "    adata.obs_names_make_unique()\n",
    "    adata.var_names_make_unique()\n",
    "\n",
    "    # Handle NaNs/Infs in expression matrix\n",
    "    X = adata.X.A if hasattr(adata.X, \"A\") else adata.X\n",
    "    X = np.nan_to_num(X, nan=0.0, posinf=0.0, neginf=0.0)\n",
    "    adata.X = X\n",
    "\n",
    "    # Apply log1p only if data not already logged\n",
    "    if np.max(adata.X) > 30:\n",
    "        sc.pp.log1p(adata)\n",
    "\n",
    "    # HVG selection\n",
    "    sc.pp.highly_variable_genes(adata, flavor=\"seurat\", n_top_genes=n_hvgs)\n",
    "    adata = adata[:, adata.var[\"highly_variable\"]].copy()\n",
    "\n",
    "    # PCA + neighbors + clustering\n",
    "    sc.pp.scale(adata, max_value=10)\n",
    "    sc.tl.pca(adata, svd_solver=\"arpack\")\n",
    "    sc.pp.neighbors(adata)\n",
    "    sc.tl.leiden(adata)\n",
    "\n",
    "    return adata\n",
    "\n",
    "\n",
    "# -----------------------------\n",
    "# Load ground truth\n",
    "# -----------------------------\n",
    "print(\" Preprocessing ground truth...\")\n",
    "adata_gt = sc.read_h5ad(ground_truth_path)\n",
    "adata_gt = preprocess_adata(adata_gt)\n",
    "\n",
    "if \"leiden\" not in adata_gt.obs:\n",
    "    raise ValueError(\"Ground truth AnnData does not have 'leiden' clustering.\")\n",
    "\n",
    "\n",
    "# -----------------------------\n",
    "# Evaluate imputation runs\n",
    "# -----------------------------\n",
    "results = []\n",
    "\n",
    "for fname in os.listdir(imputed_dir):\n",
    "    if not fname.endswith(\".h5ad\"):\n",
    "        continue\n",
    "\n",
    "    fpath = os.path.join(imputed_dir, fname)\n",
    "    try:\n",
    "        adata_imp = sc.read_h5ad(fpath)\n",
    "        adata_imp = preprocess_adata(adata_imp)\n",
    "\n",
    "        # Align cells\n",
    "        common_cells = adata_gt.obs_names.intersection(adata_imp.obs_names)\n",
    "        adata_gt_sub = adata_gt[common_cells]\n",
    "        adata_imp_sub = adata_imp[common_cells]\n",
    "\n",
    "        # Compute ARI\n",
    "        ari = ari_score(adata_gt_sub.obs[\"leiden\"], adata_imp_sub.obs[\"leiden\"])\n",
    "\n",
    "        # Parse metadata from filename (mfXX, runX)\n",
    "        mf = None\n",
    "        run = None\n",
    "        for part in fname.split(\"_\"):\n",
    "            if part.startswith(\"mf\"):\n",
    "                mf = float(part.replace(\"mf\", \"\").replace(\".h5ad\", \"\")) / 100\n",
    "            if part.startswith(\"run\"):\n",
    "                run = int(part.replace(\"run\", \"\").replace(\".h5ad\", \"\"))\n",
    "\n",
    "        results.append({\n",
    "            \"file\": fname,\n",
    "            \"method\": \"SoftImpute\",\n",
    "            \"ARI\": ari,\n",
    "            \"missing_fraction\": mf,\n",
    "            \"run\": run\n",
    "        })\n",
    "\n",
    "        print(f\"✅ Processed {fname}: ARI={ari:.3f}\")\n",
    "\n",
    "    except Exception as e:\n",
    "        print(f\"❌ Error with {fname}: {e}\")\n",
    "\n",
    "\n",
    "# -----------------------------\n",
    "# Results → DataFrame\n",
    "# -----------------------------\n",
    "results_df = pd.DataFrame(results)\n",
    "\n",
    "if results_df.empty:\n",
    "    raise ValueError(\"No results computed. Check your imputed files and pipeline.\")\n",
    "\n",
    "results_df = results_df.dropna(subset=[\"ARI\", \"missing_fraction\"])\n",
    "results_df[\"missing_fraction\"] = results_df[\"missing_fraction\"].astype(float)\n",
    "\n",
    "# -----------------------------\n",
    "# Summary\n",
    "# -----------------------------\n",
    "summary = results_df.groupby([\"method\", \"missing_fraction\"]).agg(\n",
    "    ARI_mean=(\"ARI\", \"mean\"),\n",
    "    ARI_std=(\"ARI\", \"std\"),\n",
    "    runs=(\"ARI\", \"count\")\n",
    ").reset_index()\n",
    "\n",
    "print(\"\\nSummary (mean ± std):\")\n",
    "print(summary)\n",
    "\n",
    "\n",
    "# -----------------------------\n",
    "# Plot\n",
    "# -----------------------------\n",
    "plt.figure(figsize=(8, 6))\n",
    "sns.barplot(\n",
    "    data=results_df,\n",
    "    x=\"missing_fraction\",\n",
    "    y=\"ARI\",\n",
    "    hue=\"method\",\n",
    "    errorbar=\"sd\",\n",
    "    capsize=0.1\n",
    ")\n",
    "plt.title(\"ARI across missing fractions (SoftImpute)\")\n",
    "plt.ylabel(\"Adjusted Rand Index\")\n",
    "plt.xlabel(\"Missing Fraction\")\n",
    "plt.legend(title=\"Method\")\n",
    "plt.show()\n"
   ]
  },
  {
   "cell_type": "code",
   "execution_count": 18,
   "id": "b9af2030",
   "metadata": {},
   "outputs": [
    {
     "name": "stdout",
     "output_type": "stream",
     "text": [
      " Preprocessing ground truth...\n"
     ]
    },
    {
     "name": "stderr",
     "output_type": "stream",
     "text": [
      "c:\\Users\\prath\\anaconda-new\\Lib\\site-packages\\anndata\\_core\\anndata.py:1791: UserWarning: Observation names are not unique. To make them unique, call `.obs_names_make_unique`.\n",
      "  utils.warn_names_duplicates(\"obs\")\n",
      "c:\\Users\\prath\\anaconda-new\\Lib\\site-packages\\anndata\\_core\\anndata.py:1793: UserWarning: Variable names are not unique. To make them unique, call `.var_names_make_unique`.\n",
      "  utils.warn_names_duplicates(\"var\")\n",
      "c:\\Users\\prath\\anaconda-new\\Lib\\functools.py:909: UserWarning: zero-centering a sparse array/matrix densifies it.\n",
      "  return dispatch(args[0].__class__)(*args, **kw)\n",
      "c:\\Users\\prath\\anaconda-new\\Lib\\site-packages\\anndata\\_core\\anndata.py:1791: UserWarning: Observation names are not unique. To make them unique, call `.obs_names_make_unique`.\n",
      "  utils.warn_names_duplicates(\"obs\")\n",
      "c:\\Users\\prath\\anaconda-new\\Lib\\site-packages\\anndata\\_core\\anndata.py:1793: UserWarning: Variable names are not unique. To make them unique, call `.var_names_make_unique`.\n",
      "  utils.warn_names_duplicates(\"var\")\n",
      "c:\\Users\\prath\\anaconda-new\\Lib\\functools.py:909: UserWarning: zero-centering a sparse array/matrix densifies it.\n",
      "  return dispatch(args[0].__class__)(*args, **kw)\n"
     ]
    },
    {
     "name": "stdout",
     "output_type": "stream",
     "text": [
      "✅ Processed adata_adata_gan_imputed_mf10_run1.h5ad: ARI=0.477\n"
     ]
    },
    {
     "name": "stderr",
     "output_type": "stream",
     "text": [
      "c:\\Users\\prath\\anaconda-new\\Lib\\site-packages\\anndata\\_core\\anndata.py:1791: UserWarning: Observation names are not unique. To make them unique, call `.obs_names_make_unique`.\n",
      "  utils.warn_names_duplicates(\"obs\")\n",
      "c:\\Users\\prath\\anaconda-new\\Lib\\site-packages\\anndata\\_core\\anndata.py:1793: UserWarning: Variable names are not unique. To make them unique, call `.var_names_make_unique`.\n",
      "  utils.warn_names_duplicates(\"var\")\n",
      "c:\\Users\\prath\\anaconda-new\\Lib\\functools.py:909: UserWarning: zero-centering a sparse array/matrix densifies it.\n",
      "  return dispatch(args[0].__class__)(*args, **kw)\n"
     ]
    },
    {
     "name": "stdout",
     "output_type": "stream",
     "text": [
      "✅ Processed adata_adata_gan_imputed_mf10_run10.h5ad: ARI=0.483\n"
     ]
    },
    {
     "name": "stderr",
     "output_type": "stream",
     "text": [
      "c:\\Users\\prath\\anaconda-new\\Lib\\site-packages\\anndata\\_core\\anndata.py:1791: UserWarning: Observation names are not unique. To make them unique, call `.obs_names_make_unique`.\n",
      "  utils.warn_names_duplicates(\"obs\")\n",
      "c:\\Users\\prath\\anaconda-new\\Lib\\site-packages\\anndata\\_core\\anndata.py:1793: UserWarning: Variable names are not unique. To make them unique, call `.var_names_make_unique`.\n",
      "  utils.warn_names_duplicates(\"var\")\n",
      "c:\\Users\\prath\\anaconda-new\\Lib\\functools.py:909: UserWarning: zero-centering a sparse array/matrix densifies it.\n",
      "  return dispatch(args[0].__class__)(*args, **kw)\n"
     ]
    },
    {
     "name": "stdout",
     "output_type": "stream",
     "text": [
      "✅ Processed adata_adata_gan_imputed_mf10_run2.h5ad: ARI=0.567\n"
     ]
    },
    {
     "name": "stderr",
     "output_type": "stream",
     "text": [
      "c:\\Users\\prath\\anaconda-new\\Lib\\site-packages\\anndata\\_core\\anndata.py:1791: UserWarning: Observation names are not unique. To make them unique, call `.obs_names_make_unique`.\n",
      "  utils.warn_names_duplicates(\"obs\")\n",
      "c:\\Users\\prath\\anaconda-new\\Lib\\site-packages\\anndata\\_core\\anndata.py:1793: UserWarning: Variable names are not unique. To make them unique, call `.var_names_make_unique`.\n",
      "  utils.warn_names_duplicates(\"var\")\n",
      "c:\\Users\\prath\\anaconda-new\\Lib\\functools.py:909: UserWarning: zero-centering a sparse array/matrix densifies it.\n",
      "  return dispatch(args[0].__class__)(*args, **kw)\n"
     ]
    },
    {
     "name": "stdout",
     "output_type": "stream",
     "text": [
      "✅ Processed adata_adata_gan_imputed_mf10_run3.h5ad: ARI=0.509\n"
     ]
    },
    {
     "name": "stderr",
     "output_type": "stream",
     "text": [
      "c:\\Users\\prath\\anaconda-new\\Lib\\site-packages\\anndata\\_core\\anndata.py:1791: UserWarning: Observation names are not unique. To make them unique, call `.obs_names_make_unique`.\n",
      "  utils.warn_names_duplicates(\"obs\")\n",
      "c:\\Users\\prath\\anaconda-new\\Lib\\site-packages\\anndata\\_core\\anndata.py:1793: UserWarning: Variable names are not unique. To make them unique, call `.var_names_make_unique`.\n",
      "  utils.warn_names_duplicates(\"var\")\n",
      "c:\\Users\\prath\\anaconda-new\\Lib\\functools.py:909: UserWarning: zero-centering a sparse array/matrix densifies it.\n",
      "  return dispatch(args[0].__class__)(*args, **kw)\n"
     ]
    },
    {
     "name": "stdout",
     "output_type": "stream",
     "text": [
      "✅ Processed adata_adata_gan_imputed_mf10_run4.h5ad: ARI=0.467\n"
     ]
    },
    {
     "name": "stderr",
     "output_type": "stream",
     "text": [
      "c:\\Users\\prath\\anaconda-new\\Lib\\site-packages\\anndata\\_core\\anndata.py:1791: UserWarning: Observation names are not unique. To make them unique, call `.obs_names_make_unique`.\n",
      "  utils.warn_names_duplicates(\"obs\")\n",
      "c:\\Users\\prath\\anaconda-new\\Lib\\site-packages\\anndata\\_core\\anndata.py:1793: UserWarning: Variable names are not unique. To make them unique, call `.var_names_make_unique`.\n",
      "  utils.warn_names_duplicates(\"var\")\n",
      "c:\\Users\\prath\\anaconda-new\\Lib\\functools.py:909: UserWarning: zero-centering a sparse array/matrix densifies it.\n",
      "  return dispatch(args[0].__class__)(*args, **kw)\n"
     ]
    },
    {
     "name": "stdout",
     "output_type": "stream",
     "text": [
      "✅ Processed adata_adata_gan_imputed_mf10_run5.h5ad: ARI=0.506\n"
     ]
    },
    {
     "name": "stderr",
     "output_type": "stream",
     "text": [
      "c:\\Users\\prath\\anaconda-new\\Lib\\site-packages\\anndata\\_core\\anndata.py:1791: UserWarning: Observation names are not unique. To make them unique, call `.obs_names_make_unique`.\n",
      "  utils.warn_names_duplicates(\"obs\")\n",
      "c:\\Users\\prath\\anaconda-new\\Lib\\site-packages\\anndata\\_core\\anndata.py:1793: UserWarning: Variable names are not unique. To make them unique, call `.var_names_make_unique`.\n",
      "  utils.warn_names_duplicates(\"var\")\n",
      "c:\\Users\\prath\\anaconda-new\\Lib\\functools.py:909: UserWarning: zero-centering a sparse array/matrix densifies it.\n",
      "  return dispatch(args[0].__class__)(*args, **kw)\n"
     ]
    },
    {
     "name": "stdout",
     "output_type": "stream",
     "text": [
      "✅ Processed adata_adata_gan_imputed_mf10_run6.h5ad: ARI=0.500\n"
     ]
    },
    {
     "name": "stderr",
     "output_type": "stream",
     "text": [
      "c:\\Users\\prath\\anaconda-new\\Lib\\site-packages\\anndata\\_core\\anndata.py:1791: UserWarning: Observation names are not unique. To make them unique, call `.obs_names_make_unique`.\n",
      "  utils.warn_names_duplicates(\"obs\")\n",
      "c:\\Users\\prath\\anaconda-new\\Lib\\site-packages\\anndata\\_core\\anndata.py:1793: UserWarning: Variable names are not unique. To make them unique, call `.var_names_make_unique`.\n",
      "  utils.warn_names_duplicates(\"var\")\n",
      "c:\\Users\\prath\\anaconda-new\\Lib\\functools.py:909: UserWarning: zero-centering a sparse array/matrix densifies it.\n",
      "  return dispatch(args[0].__class__)(*args, **kw)\n"
     ]
    },
    {
     "name": "stdout",
     "output_type": "stream",
     "text": [
      "✅ Processed adata_adata_gan_imputed_mf10_run7.h5ad: ARI=0.559\n"
     ]
    },
    {
     "name": "stderr",
     "output_type": "stream",
     "text": [
      "c:\\Users\\prath\\anaconda-new\\Lib\\site-packages\\anndata\\_core\\anndata.py:1791: UserWarning: Observation names are not unique. To make them unique, call `.obs_names_make_unique`.\n",
      "  utils.warn_names_duplicates(\"obs\")\n",
      "c:\\Users\\prath\\anaconda-new\\Lib\\site-packages\\anndata\\_core\\anndata.py:1793: UserWarning: Variable names are not unique. To make them unique, call `.var_names_make_unique`.\n",
      "  utils.warn_names_duplicates(\"var\")\n",
      "c:\\Users\\prath\\anaconda-new\\Lib\\functools.py:909: UserWarning: zero-centering a sparse array/matrix densifies it.\n",
      "  return dispatch(args[0].__class__)(*args, **kw)\n"
     ]
    },
    {
     "name": "stdout",
     "output_type": "stream",
     "text": [
      "✅ Processed adata_adata_gan_imputed_mf10_run8.h5ad: ARI=0.526\n"
     ]
    },
    {
     "name": "stderr",
     "output_type": "stream",
     "text": [
      "c:\\Users\\prath\\anaconda-new\\Lib\\site-packages\\anndata\\_core\\anndata.py:1791: UserWarning: Observation names are not unique. To make them unique, call `.obs_names_make_unique`.\n",
      "  utils.warn_names_duplicates(\"obs\")\n",
      "c:\\Users\\prath\\anaconda-new\\Lib\\site-packages\\anndata\\_core\\anndata.py:1793: UserWarning: Variable names are not unique. To make them unique, call `.var_names_make_unique`.\n",
      "  utils.warn_names_duplicates(\"var\")\n",
      "c:\\Users\\prath\\anaconda-new\\Lib\\functools.py:909: UserWarning: zero-centering a sparse array/matrix densifies it.\n",
      "  return dispatch(args[0].__class__)(*args, **kw)\n"
     ]
    },
    {
     "name": "stdout",
     "output_type": "stream",
     "text": [
      "✅ Processed adata_adata_gan_imputed_mf10_run9.h5ad: ARI=0.516\n"
     ]
    },
    {
     "name": "stderr",
     "output_type": "stream",
     "text": [
      "c:\\Users\\prath\\anaconda-new\\Lib\\site-packages\\anndata\\_core\\anndata.py:1791: UserWarning: Observation names are not unique. To make them unique, call `.obs_names_make_unique`.\n",
      "  utils.warn_names_duplicates(\"obs\")\n",
      "c:\\Users\\prath\\anaconda-new\\Lib\\site-packages\\anndata\\_core\\anndata.py:1793: UserWarning: Variable names are not unique. To make them unique, call `.var_names_make_unique`.\n",
      "  utils.warn_names_duplicates(\"var\")\n",
      "c:\\Users\\prath\\anaconda-new\\Lib\\functools.py:909: UserWarning: zero-centering a sparse array/matrix densifies it.\n",
      "  return dispatch(args[0].__class__)(*args, **kw)\n"
     ]
    },
    {
     "name": "stdout",
     "output_type": "stream",
     "text": [
      "✅ Processed adata_adata_gan_imputed_mf20_run1.h5ad: ARI=0.383\n"
     ]
    },
    {
     "name": "stderr",
     "output_type": "stream",
     "text": [
      "c:\\Users\\prath\\anaconda-new\\Lib\\site-packages\\anndata\\_core\\anndata.py:1791: UserWarning: Observation names are not unique. To make them unique, call `.obs_names_make_unique`.\n",
      "  utils.warn_names_duplicates(\"obs\")\n",
      "c:\\Users\\prath\\anaconda-new\\Lib\\site-packages\\anndata\\_core\\anndata.py:1793: UserWarning: Variable names are not unique. To make them unique, call `.var_names_make_unique`.\n",
      "  utils.warn_names_duplicates(\"var\")\n",
      "c:\\Users\\prath\\anaconda-new\\Lib\\functools.py:909: UserWarning: zero-centering a sparse array/matrix densifies it.\n",
      "  return dispatch(args[0].__class__)(*args, **kw)\n"
     ]
    },
    {
     "name": "stdout",
     "output_type": "stream",
     "text": [
      "✅ Processed adata_adata_gan_imputed_mf20_run10.h5ad: ARI=0.348\n"
     ]
    },
    {
     "name": "stderr",
     "output_type": "stream",
     "text": [
      "c:\\Users\\prath\\anaconda-new\\Lib\\site-packages\\anndata\\_core\\anndata.py:1791: UserWarning: Observation names are not unique. To make them unique, call `.obs_names_make_unique`.\n",
      "  utils.warn_names_duplicates(\"obs\")\n",
      "c:\\Users\\prath\\anaconda-new\\Lib\\site-packages\\anndata\\_core\\anndata.py:1793: UserWarning: Variable names are not unique. To make them unique, call `.var_names_make_unique`.\n",
      "  utils.warn_names_duplicates(\"var\")\n",
      "c:\\Users\\prath\\anaconda-new\\Lib\\functools.py:909: UserWarning: zero-centering a sparse array/matrix densifies it.\n",
      "  return dispatch(args[0].__class__)(*args, **kw)\n"
     ]
    },
    {
     "name": "stdout",
     "output_type": "stream",
     "text": [
      "✅ Processed adata_adata_gan_imputed_mf20_run2.h5ad: ARI=0.347\n"
     ]
    },
    {
     "name": "stderr",
     "output_type": "stream",
     "text": [
      "c:\\Users\\prath\\anaconda-new\\Lib\\site-packages\\anndata\\_core\\anndata.py:1791: UserWarning: Observation names are not unique. To make them unique, call `.obs_names_make_unique`.\n",
      "  utils.warn_names_duplicates(\"obs\")\n",
      "c:\\Users\\prath\\anaconda-new\\Lib\\site-packages\\anndata\\_core\\anndata.py:1793: UserWarning: Variable names are not unique. To make them unique, call `.var_names_make_unique`.\n",
      "  utils.warn_names_duplicates(\"var\")\n",
      "c:\\Users\\prath\\anaconda-new\\Lib\\functools.py:909: UserWarning: zero-centering a sparse array/matrix densifies it.\n",
      "  return dispatch(args[0].__class__)(*args, **kw)\n"
     ]
    },
    {
     "name": "stdout",
     "output_type": "stream",
     "text": [
      "✅ Processed adata_adata_gan_imputed_mf20_run3.h5ad: ARI=0.374\n"
     ]
    },
    {
     "name": "stderr",
     "output_type": "stream",
     "text": [
      "c:\\Users\\prath\\anaconda-new\\Lib\\site-packages\\anndata\\_core\\anndata.py:1791: UserWarning: Observation names are not unique. To make them unique, call `.obs_names_make_unique`.\n",
      "  utils.warn_names_duplicates(\"obs\")\n",
      "c:\\Users\\prath\\anaconda-new\\Lib\\site-packages\\anndata\\_core\\anndata.py:1793: UserWarning: Variable names are not unique. To make them unique, call `.var_names_make_unique`.\n",
      "  utils.warn_names_duplicates(\"var\")\n",
      "c:\\Users\\prath\\anaconda-new\\Lib\\functools.py:909: UserWarning: zero-centering a sparse array/matrix densifies it.\n",
      "  return dispatch(args[0].__class__)(*args, **kw)\n"
     ]
    },
    {
     "name": "stdout",
     "output_type": "stream",
     "text": [
      "✅ Processed adata_adata_gan_imputed_mf20_run4.h5ad: ARI=0.408\n"
     ]
    },
    {
     "name": "stderr",
     "output_type": "stream",
     "text": [
      "c:\\Users\\prath\\anaconda-new\\Lib\\site-packages\\anndata\\_core\\anndata.py:1791: UserWarning: Observation names are not unique. To make them unique, call `.obs_names_make_unique`.\n",
      "  utils.warn_names_duplicates(\"obs\")\n",
      "c:\\Users\\prath\\anaconda-new\\Lib\\site-packages\\anndata\\_core\\anndata.py:1793: UserWarning: Variable names are not unique. To make them unique, call `.var_names_make_unique`.\n",
      "  utils.warn_names_duplicates(\"var\")\n",
      "c:\\Users\\prath\\anaconda-new\\Lib\\functools.py:909: UserWarning: zero-centering a sparse array/matrix densifies it.\n",
      "  return dispatch(args[0].__class__)(*args, **kw)\n"
     ]
    },
    {
     "name": "stdout",
     "output_type": "stream",
     "text": [
      "✅ Processed adata_adata_gan_imputed_mf20_run5.h5ad: ARI=0.379\n"
     ]
    },
    {
     "name": "stderr",
     "output_type": "stream",
     "text": [
      "c:\\Users\\prath\\anaconda-new\\Lib\\site-packages\\anndata\\_core\\anndata.py:1791: UserWarning: Observation names are not unique. To make them unique, call `.obs_names_make_unique`.\n",
      "  utils.warn_names_duplicates(\"obs\")\n",
      "c:\\Users\\prath\\anaconda-new\\Lib\\site-packages\\anndata\\_core\\anndata.py:1793: UserWarning: Variable names are not unique. To make them unique, call `.var_names_make_unique`.\n",
      "  utils.warn_names_duplicates(\"var\")\n",
      "c:\\Users\\prath\\anaconda-new\\Lib\\functools.py:909: UserWarning: zero-centering a sparse array/matrix densifies it.\n",
      "  return dispatch(args[0].__class__)(*args, **kw)\n"
     ]
    },
    {
     "name": "stdout",
     "output_type": "stream",
     "text": [
      "✅ Processed adata_adata_gan_imputed_mf20_run6.h5ad: ARI=0.348\n"
     ]
    },
    {
     "name": "stderr",
     "output_type": "stream",
     "text": [
      "c:\\Users\\prath\\anaconda-new\\Lib\\site-packages\\anndata\\_core\\anndata.py:1791: UserWarning: Observation names are not unique. To make them unique, call `.obs_names_make_unique`.\n",
      "  utils.warn_names_duplicates(\"obs\")\n",
      "c:\\Users\\prath\\anaconda-new\\Lib\\site-packages\\anndata\\_core\\anndata.py:1793: UserWarning: Variable names are not unique. To make them unique, call `.var_names_make_unique`.\n",
      "  utils.warn_names_duplicates(\"var\")\n",
      "c:\\Users\\prath\\anaconda-new\\Lib\\functools.py:909: UserWarning: zero-centering a sparse array/matrix densifies it.\n",
      "  return dispatch(args[0].__class__)(*args, **kw)\n"
     ]
    },
    {
     "name": "stdout",
     "output_type": "stream",
     "text": [
      "✅ Processed adata_adata_gan_imputed_mf20_run7.h5ad: ARI=0.377\n"
     ]
    },
    {
     "name": "stderr",
     "output_type": "stream",
     "text": [
      "c:\\Users\\prath\\anaconda-new\\Lib\\site-packages\\anndata\\_core\\anndata.py:1791: UserWarning: Observation names are not unique. To make them unique, call `.obs_names_make_unique`.\n",
      "  utils.warn_names_duplicates(\"obs\")\n",
      "c:\\Users\\prath\\anaconda-new\\Lib\\site-packages\\anndata\\_core\\anndata.py:1793: UserWarning: Variable names are not unique. To make them unique, call `.var_names_make_unique`.\n",
      "  utils.warn_names_duplicates(\"var\")\n",
      "c:\\Users\\prath\\anaconda-new\\Lib\\functools.py:909: UserWarning: zero-centering a sparse array/matrix densifies it.\n",
      "  return dispatch(args[0].__class__)(*args, **kw)\n"
     ]
    },
    {
     "name": "stdout",
     "output_type": "stream",
     "text": [
      "✅ Processed adata_adata_gan_imputed_mf20_run8.h5ad: ARI=0.370\n"
     ]
    },
    {
     "name": "stderr",
     "output_type": "stream",
     "text": [
      "c:\\Users\\prath\\anaconda-new\\Lib\\site-packages\\anndata\\_core\\anndata.py:1791: UserWarning: Observation names are not unique. To make them unique, call `.obs_names_make_unique`.\n",
      "  utils.warn_names_duplicates(\"obs\")\n",
      "c:\\Users\\prath\\anaconda-new\\Lib\\site-packages\\anndata\\_core\\anndata.py:1793: UserWarning: Variable names are not unique. To make them unique, call `.var_names_make_unique`.\n",
      "  utils.warn_names_duplicates(\"var\")\n",
      "c:\\Users\\prath\\anaconda-new\\Lib\\functools.py:909: UserWarning: zero-centering a sparse array/matrix densifies it.\n",
      "  return dispatch(args[0].__class__)(*args, **kw)\n"
     ]
    },
    {
     "name": "stdout",
     "output_type": "stream",
     "text": [
      "✅ Processed adata_adata_gan_imputed_mf20_run9.h5ad: ARI=0.329\n"
     ]
    },
    {
     "name": "stderr",
     "output_type": "stream",
     "text": [
      "c:\\Users\\prath\\anaconda-new\\Lib\\site-packages\\anndata\\_core\\anndata.py:1791: UserWarning: Observation names are not unique. To make them unique, call `.obs_names_make_unique`.\n",
      "  utils.warn_names_duplicates(\"obs\")\n",
      "c:\\Users\\prath\\anaconda-new\\Lib\\site-packages\\anndata\\_core\\anndata.py:1793: UserWarning: Variable names are not unique. To make them unique, call `.var_names_make_unique`.\n",
      "  utils.warn_names_duplicates(\"var\")\n",
      "c:\\Users\\prath\\anaconda-new\\Lib\\functools.py:909: UserWarning: zero-centering a sparse array/matrix densifies it.\n",
      "  return dispatch(args[0].__class__)(*args, **kw)\n"
     ]
    },
    {
     "name": "stdout",
     "output_type": "stream",
     "text": [
      "✅ Processed adata_adata_gan_imputed_mf30_run1.h5ad: ARI=0.238\n"
     ]
    },
    {
     "name": "stderr",
     "output_type": "stream",
     "text": [
      "c:\\Users\\prath\\anaconda-new\\Lib\\site-packages\\anndata\\_core\\anndata.py:1791: UserWarning: Observation names are not unique. To make them unique, call `.obs_names_make_unique`.\n",
      "  utils.warn_names_duplicates(\"obs\")\n",
      "c:\\Users\\prath\\anaconda-new\\Lib\\site-packages\\anndata\\_core\\anndata.py:1793: UserWarning: Variable names are not unique. To make them unique, call `.var_names_make_unique`.\n",
      "  utils.warn_names_duplicates(\"var\")\n",
      "c:\\Users\\prath\\anaconda-new\\Lib\\functools.py:909: UserWarning: zero-centering a sparse array/matrix densifies it.\n",
      "  return dispatch(args[0].__class__)(*args, **kw)\n"
     ]
    },
    {
     "name": "stdout",
     "output_type": "stream",
     "text": [
      "✅ Processed adata_adata_gan_imputed_mf30_run10.h5ad: ARI=0.247\n"
     ]
    },
    {
     "name": "stderr",
     "output_type": "stream",
     "text": [
      "c:\\Users\\prath\\anaconda-new\\Lib\\site-packages\\anndata\\_core\\anndata.py:1791: UserWarning: Observation names are not unique. To make them unique, call `.obs_names_make_unique`.\n",
      "  utils.warn_names_duplicates(\"obs\")\n",
      "c:\\Users\\prath\\anaconda-new\\Lib\\site-packages\\anndata\\_core\\anndata.py:1793: UserWarning: Variable names are not unique. To make them unique, call `.var_names_make_unique`.\n",
      "  utils.warn_names_duplicates(\"var\")\n",
      "c:\\Users\\prath\\anaconda-new\\Lib\\functools.py:909: UserWarning: zero-centering a sparse array/matrix densifies it.\n",
      "  return dispatch(args[0].__class__)(*args, **kw)\n"
     ]
    },
    {
     "name": "stdout",
     "output_type": "stream",
     "text": [
      "✅ Processed adata_adata_gan_imputed_mf30_run2.h5ad: ARI=0.241\n"
     ]
    },
    {
     "name": "stderr",
     "output_type": "stream",
     "text": [
      "c:\\Users\\prath\\anaconda-new\\Lib\\site-packages\\anndata\\_core\\anndata.py:1791: UserWarning: Observation names are not unique. To make them unique, call `.obs_names_make_unique`.\n",
      "  utils.warn_names_duplicates(\"obs\")\n",
      "c:\\Users\\prath\\anaconda-new\\Lib\\site-packages\\anndata\\_core\\anndata.py:1793: UserWarning: Variable names are not unique. To make them unique, call `.var_names_make_unique`.\n",
      "  utils.warn_names_duplicates(\"var\")\n",
      "c:\\Users\\prath\\anaconda-new\\Lib\\functools.py:909: UserWarning: zero-centering a sparse array/matrix densifies it.\n",
      "  return dispatch(args[0].__class__)(*args, **kw)\n"
     ]
    },
    {
     "name": "stdout",
     "output_type": "stream",
     "text": [
      "✅ Processed adata_adata_gan_imputed_mf30_run3.h5ad: ARI=0.249\n"
     ]
    },
    {
     "name": "stderr",
     "output_type": "stream",
     "text": [
      "c:\\Users\\prath\\anaconda-new\\Lib\\site-packages\\anndata\\_core\\anndata.py:1791: UserWarning: Observation names are not unique. To make them unique, call `.obs_names_make_unique`.\n",
      "  utils.warn_names_duplicates(\"obs\")\n",
      "c:\\Users\\prath\\anaconda-new\\Lib\\site-packages\\anndata\\_core\\anndata.py:1793: UserWarning: Variable names are not unique. To make them unique, call `.var_names_make_unique`.\n",
      "  utils.warn_names_duplicates(\"var\")\n",
      "c:\\Users\\prath\\anaconda-new\\Lib\\functools.py:909: UserWarning: zero-centering a sparse array/matrix densifies it.\n",
      "  return dispatch(args[0].__class__)(*args, **kw)\n"
     ]
    },
    {
     "name": "stdout",
     "output_type": "stream",
     "text": [
      "✅ Processed adata_adata_gan_imputed_mf30_run4.h5ad: ARI=0.291\n"
     ]
    },
    {
     "name": "stderr",
     "output_type": "stream",
     "text": [
      "c:\\Users\\prath\\anaconda-new\\Lib\\site-packages\\anndata\\_core\\anndata.py:1791: UserWarning: Observation names are not unique. To make them unique, call `.obs_names_make_unique`.\n",
      "  utils.warn_names_duplicates(\"obs\")\n",
      "c:\\Users\\prath\\anaconda-new\\Lib\\site-packages\\anndata\\_core\\anndata.py:1793: UserWarning: Variable names are not unique. To make them unique, call `.var_names_make_unique`.\n",
      "  utils.warn_names_duplicates(\"var\")\n",
      "c:\\Users\\prath\\anaconda-new\\Lib\\functools.py:909: UserWarning: zero-centering a sparse array/matrix densifies it.\n",
      "  return dispatch(args[0].__class__)(*args, **kw)\n"
     ]
    },
    {
     "name": "stdout",
     "output_type": "stream",
     "text": [
      "✅ Processed adata_adata_gan_imputed_mf30_run5.h5ad: ARI=0.245\n"
     ]
    },
    {
     "name": "stderr",
     "output_type": "stream",
     "text": [
      "c:\\Users\\prath\\anaconda-new\\Lib\\site-packages\\anndata\\_core\\anndata.py:1791: UserWarning: Observation names are not unique. To make them unique, call `.obs_names_make_unique`.\n",
      "  utils.warn_names_duplicates(\"obs\")\n",
      "c:\\Users\\prath\\anaconda-new\\Lib\\site-packages\\anndata\\_core\\anndata.py:1793: UserWarning: Variable names are not unique. To make them unique, call `.var_names_make_unique`.\n",
      "  utils.warn_names_duplicates(\"var\")\n",
      "c:\\Users\\prath\\anaconda-new\\Lib\\functools.py:909: UserWarning: zero-centering a sparse array/matrix densifies it.\n",
      "  return dispatch(args[0].__class__)(*args, **kw)\n"
     ]
    },
    {
     "name": "stdout",
     "output_type": "stream",
     "text": [
      "✅ Processed adata_adata_gan_imputed_mf30_run6.h5ad: ARI=0.275\n"
     ]
    },
    {
     "name": "stderr",
     "output_type": "stream",
     "text": [
      "c:\\Users\\prath\\anaconda-new\\Lib\\site-packages\\anndata\\_core\\anndata.py:1791: UserWarning: Observation names are not unique. To make them unique, call `.obs_names_make_unique`.\n",
      "  utils.warn_names_duplicates(\"obs\")\n",
      "c:\\Users\\prath\\anaconda-new\\Lib\\site-packages\\anndata\\_core\\anndata.py:1793: UserWarning: Variable names are not unique. To make them unique, call `.var_names_make_unique`.\n",
      "  utils.warn_names_duplicates(\"var\")\n",
      "c:\\Users\\prath\\anaconda-new\\Lib\\functools.py:909: UserWarning: zero-centering a sparse array/matrix densifies it.\n",
      "  return dispatch(args[0].__class__)(*args, **kw)\n"
     ]
    },
    {
     "name": "stdout",
     "output_type": "stream",
     "text": [
      "✅ Processed adata_adata_gan_imputed_mf30_run7.h5ad: ARI=0.241\n"
     ]
    },
    {
     "name": "stderr",
     "output_type": "stream",
     "text": [
      "c:\\Users\\prath\\anaconda-new\\Lib\\site-packages\\anndata\\_core\\anndata.py:1791: UserWarning: Observation names are not unique. To make them unique, call `.obs_names_make_unique`.\n",
      "  utils.warn_names_duplicates(\"obs\")\n",
      "c:\\Users\\prath\\anaconda-new\\Lib\\site-packages\\anndata\\_core\\anndata.py:1793: UserWarning: Variable names are not unique. To make them unique, call `.var_names_make_unique`.\n",
      "  utils.warn_names_duplicates(\"var\")\n",
      "c:\\Users\\prath\\anaconda-new\\Lib\\functools.py:909: UserWarning: zero-centering a sparse array/matrix densifies it.\n",
      "  return dispatch(args[0].__class__)(*args, **kw)\n"
     ]
    },
    {
     "name": "stdout",
     "output_type": "stream",
     "text": [
      "✅ Processed adata_adata_gan_imputed_mf30_run8.h5ad: ARI=0.267\n"
     ]
    },
    {
     "name": "stderr",
     "output_type": "stream",
     "text": [
      "c:\\Users\\prath\\anaconda-new\\Lib\\site-packages\\anndata\\_core\\anndata.py:1791: UserWarning: Observation names are not unique. To make them unique, call `.obs_names_make_unique`.\n",
      "  utils.warn_names_duplicates(\"obs\")\n",
      "c:\\Users\\prath\\anaconda-new\\Lib\\site-packages\\anndata\\_core\\anndata.py:1793: UserWarning: Variable names are not unique. To make them unique, call `.var_names_make_unique`.\n",
      "  utils.warn_names_duplicates(\"var\")\n",
      "c:\\Users\\prath\\anaconda-new\\Lib\\functools.py:909: UserWarning: zero-centering a sparse array/matrix densifies it.\n",
      "  return dispatch(args[0].__class__)(*args, **kw)\n"
     ]
    },
    {
     "name": "stdout",
     "output_type": "stream",
     "text": [
      "✅ Processed adata_adata_gan_imputed_mf30_run9.h5ad: ARI=0.257\n",
      "\n",
      "Summary (mean ± std):\n",
      "  method  missing_fraction  ARI_mean   ARI_std  runs\n",
      "0    GAN               0.1  0.510826  0.032812    10\n",
      "1    GAN               0.2  0.366285  0.023023    10\n",
      "2    GAN               0.3  0.255157  0.017325    10\n"
     ]
    },
    {
     "data": {
      "image/png": "[encoded data removed]",
      "text/plain": [
       "<Figure size 800x600 with 1 Axes>"
      ]
     },
     "metadata": {},
     "output_type": "display_data"
    }
   ],
   "source": [
    "# Notebook 04: Performance Evaluation & Figures (SoftImpute)\n",
    "\n",
    "import scanpy as sc\n",
    "import pandas as pd\n",
    "import numpy as np\n",
    "import os\n",
    "import seaborn as sns\n",
    "import matplotlib.pyplot as plt\n",
    "from sklearn.metrics import adjusted_rand_score as ari_score\n",
    "\n",
    "# -----------------------------\n",
    "# Settings\n",
    "# -----------------------------\n",
    "sc.settings.verbosity = 0\n",
    "sns.set(style=\"whitegrid\")\n",
    "\n",
    "ground_truth_path = \"Data/adata_raw_qc.h5ad\"     # ground truth file\n",
    "imputed_dir = \"imputed_gan\"               # folder with imputed h5ad files\n",
    "methods = [\"SoftImpute\"]                         # method tag for plotting\n",
    "\n",
    "# -----------------------------\n",
    "# Preprocessing function\n",
    "# -----------------------------\n",
    "def preprocess_adata(adata, n_hvgs=1000):\n",
    "    \"\"\"Preprocess AnnData: unique names, HVGs, PCA, clustering.\"\"\"\n",
    "    adata = adata.copy()\n",
    "\n",
    "    # Ensure unique obs/var names\n",
    "    adata.obs_names_make_unique()\n",
    "    adata.var_names_make_unique()\n",
    "\n",
    "    # Handle NaNs/Infs in expression matrix\n",
    "    X = adata.X.A if hasattr(adata.X, \"A\") else adata.X\n",
    "    X = np.nan_to_num(X, nan=0.0, posinf=0.0, neginf=0.0)\n",
    "    adata.X = X\n",
    "\n",
    "    # Apply log1p only if data not already logged\n",
    "    if np.max(adata.X) > 30:\n",
    "        sc.pp.log1p(adata)\n",
    "\n",
    "    # HVG selection\n",
    "    sc.pp.highly_variable_genes(adata, flavor=\"seurat\", n_top_genes=n_hvgs)\n",
    "    adata = adata[:, adata.var[\"highly_variable\"]].copy()\n",
    "\n",
    "    # PCA + neighbors + clustering\n",
    "    sc.pp.scale(adata, max_value=10)\n",
    "    sc.tl.pca(adata, svd_solver=\"arpack\")\n",
    "    sc.pp.neighbors(adata)\n",
    "    sc.tl.leiden(adata)\n",
    "\n",
    "    return adata\n",
    "\n",
    "\n",
    "# -----------------------------\n",
    "# Load ground truth\n",
    "# -----------------------------\n",
    "print(\" Preprocessing ground truth...\")\n",
    "adata_gt = sc.read_h5ad(ground_truth_path)\n",
    "adata_gt = preprocess_adata(adata_gt)\n",
    "\n",
    "if \"leiden\" not in adata_gt.obs:\n",
    "    raise ValueError(\"Ground truth AnnData does not have 'leiden' clustering.\")\n",
    "\n",
    "\n",
    "# -----------------------------\n",
    "# Evaluate imputation runs\n",
    "# -----------------------------\n",
    "results = []\n",
    "\n",
    "for fname in os.listdir(imputed_dir):\n",
    "    if not fname.endswith(\".h5ad\"):\n",
    "        continue\n",
    "\n",
    "    fpath = os.path.join(imputed_dir, fname)\n",
    "    try:\n",
    "        adata_imp = sc.read_h5ad(fpath)\n",
    "        adata_imp = preprocess_adata(adata_imp)\n",
    "\n",
    "        # Align cells\n",
    "        common_cells = adata_gt.obs_names.intersection(adata_imp.obs_names)\n",
    "        adata_gt_sub = adata_gt[common_cells]\n",
    "        adata_imp_sub = adata_imp[common_cells]\n",
    "\n",
    "        # Compute ARI\n",
    "        ari = ari_score(adata_gt_sub.obs[\"leiden\"], adata_imp_sub.obs[\"leiden\"])\n",
    "\n",
    "        # Parse metadata from filename (mfXX, runX)\n",
    "        mf = None\n",
    "        run = None\n",
    "        for part in fname.split(\"_\"):\n",
    "            if part.startswith(\"mf\"):\n",
    "                mf = float(part.replace(\"mf\", \"\").replace(\".h5ad\", \"\")) / 100\n",
    "            if part.startswith(\"run\"):\n",
    "                run = int(part.replace(\"run\", \"\").replace(\".h5ad\", \"\"))\n",
    "\n",
    "        results.append({\n",
    "            \"file\": fname,\n",
    "            \"method\": \"GAN\",\n",
    "            \"ARI\": ari,\n",
    "            \"missing_fraction\": mf,\n",
    "            \"run\": run\n",
    "        })\n",
    "\n",
    "        print(f\"✅ Processed {fname}: ARI={ari:.3f}\")\n",
    "\n",
    "    except Exception as e:\n",
    "        print(f\"❌ Error with {fname}: {e}\")\n",
    "\n",
    "\n",
    "# -----------------------------\n",
    "# Results → DataFrame\n",
    "# -----------------------------\n",
    "results_df = pd.DataFrame(results)\n",
    "\n",
    "if results_df.empty:\n",
    "    raise ValueError(\"No results computed. Check your imputed files and pipeline.\")\n",
    "\n",
    "results_df = results_df.dropna(subset=[\"ARI\", \"missing_fraction\"])\n",
    "results_df[\"missing_fraction\"] = results_df[\"missing_fraction\"].astype(float)\n",
    "\n",
    "# -----------------------------\n",
    "# Summary\n",
    "# -----------------------------\n",
    "summary = results_df.groupby([\"method\", \"missing_fraction\"]).agg(\n",
    "    ARI_mean=(\"ARI\", \"mean\"),\n",
    "    ARI_std=(\"ARI\", \"std\"),\n",
    "    runs=(\"ARI\", \"count\")\n",
    ").reset_index()\n",
    "\n",
    "print(\"\\nSummary (mean ± std):\")\n",
    "print(summary)\n",
    "\n",
    "\n",
    "# -----------------------------\n",
    "# Plot\n",
    "# -----------------------------\n",
    "plt.figure(figsize=(8, 6))\n",
    "sns.barplot(\n",
    "    data=results_df,\n",
    "    x=\"missing_fraction\",\n",
    "    y=\"ARI\",\n",
    "    hue=\"method\",\n",
    "    errorbar=\"sd\",\n",
    "    capsize=0.1\n",
    ")\n",
    "plt.title(\"ARI across missing fractions (GAN)\")\n",
    "plt.ylabel(\"Adjusted Rand Index\")\n",
    "plt.xlabel(\"Missing Fraction\")\n",
    "plt.legend(title=\"Method\")\n",
    "plt.show()\n"
   ]
  },
  {
   "cell_type": "code",
   "execution_count": 2,
   "id": "6ac6208a",
   "metadata": {},
   "outputs": [
    {
     "name": "stdout",
     "output_type": "stream",
     "text": [
      " Preprocessing ground truth...\n"
     ]
    },
    {
     "name": "stderr",
     "output_type": "stream",
     "text": [
      "c:\\Users\\prath\\anaconda-new\\Lib\\site-packages\\anndata\\_core\\anndata.py:1791: UserWarning: Observation names are not unique. To make them unique, call `.obs_names_make_unique`.\n",
      "  utils.warn_names_duplicates(\"obs\")\n",
      "c:\\Users\\prath\\anaconda-new\\Lib\\site-packages\\anndata\\_core\\anndata.py:1793: UserWarning: Variable names are not unique. To make them unique, call `.var_names_make_unique`.\n",
      "  utils.warn_names_duplicates(\"var\")\n",
      "c:\\Users\\prath\\anaconda-new\\Lib\\functools.py:909: UserWarning: zero-centering a sparse array/matrix densifies it.\n",
      "  return dispatch(args[0].__class__)(*args, **kw)\n"
     ]
    },
    {
     "name": "stdout",
     "output_type": "stream",
     "text": [
      "\n",
      "🔹 Processing method: SoftImpute\n",
      "✅ SoftImpute | adata_softimpute_imputed_mf10_run1.h5ad: ARI=0.509\n",
      "✅ SoftImpute | adata_softimpute_imputed_mf10_run10.h5ad: ARI=0.500\n",
      "✅ SoftImpute | adata_softimpute_imputed_mf10_run2.h5ad: ARI=0.490\n",
      "✅ SoftImpute | adata_softimpute_imputed_mf10_run3.h5ad: ARI=0.478\n",
      "✅ SoftImpute | adata_softimpute_imputed_mf10_run4.h5ad: ARI=0.494\n",
      "✅ SoftImpute | adata_softimpute_imputed_mf10_run5.h5ad: ARI=0.496\n",
      "✅ SoftImpute | adata_softimpute_imputed_mf10_run6.h5ad: ARI=0.498\n",
      "✅ SoftImpute | adata_softimpute_imputed_mf10_run7.h5ad: ARI=0.495\n",
      "✅ SoftImpute | adata_softimpute_imputed_mf10_run8.h5ad: ARI=0.492\n",
      "✅ SoftImpute | adata_softimpute_imputed_mf10_run9.h5ad: ARI=0.497\n",
      "✅ SoftImpute | adata_softimpute_imputed_mf20_run1.h5ad: ARI=0.487\n",
      "✅ SoftImpute | adata_softimpute_imputed_mf20_run10.h5ad: ARI=0.479\n",
      "✅ SoftImpute | adata_softimpute_imputed_mf20_run2.h5ad: ARI=0.475\n",
      "✅ SoftImpute | adata_softimpute_imputed_mf20_run3.h5ad: ARI=0.502\n",
      "✅ SoftImpute | adata_softimpute_imputed_mf20_run4.h5ad: ARI=0.441\n",
      "✅ SoftImpute | adata_softimpute_imputed_mf20_run5.h5ad: ARI=0.488\n",
      "✅ SoftImpute | adata_softimpute_imputed_mf20_run6.h5ad: ARI=0.466\n",
      "✅ SoftImpute | adata_softimpute_imputed_mf20_run7.h5ad: ARI=0.502\n",
      "✅ SoftImpute | adata_softimpute_imputed_mf20_run8.h5ad: ARI=0.450\n",
      "✅ SoftImpute | adata_softimpute_imputed_mf20_run9.h5ad: ARI=0.469\n",
      "✅ SoftImpute | adata_softimpute_imputed_mf30_run1.h5ad: ARI=0.430\n",
      "✅ SoftImpute | adata_softimpute_imputed_mf30_run10.h5ad: ARI=0.416\n",
      "✅ SoftImpute | adata_softimpute_imputed_mf30_run2.h5ad: ARI=0.419\n",
      "✅ SoftImpute | adata_softimpute_imputed_mf30_run3.h5ad: ARI=0.353\n",
      "✅ SoftImpute | adata_softimpute_imputed_mf30_run4.h5ad: ARI=0.434\n",
      "✅ SoftImpute | adata_softimpute_imputed_mf30_run5.h5ad: ARI=0.377\n",
      "✅ SoftImpute | adata_softimpute_imputed_mf30_run6.h5ad: ARI=0.342\n",
      "✅ SoftImpute | adata_softimpute_imputed_mf30_run7.h5ad: ARI=0.430\n",
      "✅ SoftImpute | adata_softimpute_imputed_mf30_run8.h5ad: ARI=0.389\n",
      "✅ SoftImpute | adata_softimpute_imputed_mf30_run9.h5ad: ARI=0.425\n",
      "\n",
      "🔹 Processing method: MAGIC\n"
     ]
    },
    {
     "name": "stderr",
     "output_type": "stream",
     "text": [
      "c:\\Users\\prath\\anaconda-new\\Lib\\site-packages\\anndata\\_core\\anndata.py:1791: UserWarning: Observation names are not unique. To make them unique, call `.obs_names_make_unique`.\n",
      "  utils.warn_names_duplicates(\"obs\")\n",
      "c:\\Users\\prath\\anaconda-new\\Lib\\site-packages\\anndata\\_core\\anndata.py:1793: UserWarning: Variable names are not unique. To make them unique, call `.var_names_make_unique`.\n",
      "  utils.warn_names_duplicates(\"var\")\n"
     ]
    },
    {
     "name": "stdout",
     "output_type": "stream",
     "text": [
      "✅ MAGIC | adata_magic_imputed_mf10_run1.h5ad: ARI=0.324\n"
     ]
    },
    {
     "name": "stderr",
     "output_type": "stream",
     "text": [
      "c:\\Users\\prath\\anaconda-new\\Lib\\site-packages\\anndata\\_core\\anndata.py:1791: UserWarning: Observation names are not unique. To make them unique, call `.obs_names_make_unique`.\n",
      "  utils.warn_names_duplicates(\"obs\")\n",
      "c:\\Users\\prath\\anaconda-new\\Lib\\site-packages\\anndata\\_core\\anndata.py:1793: UserWarning: Variable names are not unique. To make them unique, call `.var_names_make_unique`.\n",
      "  utils.warn_names_duplicates(\"var\")\n"
     ]
    },
    {
     "name": "stdout",
     "output_type": "stream",
     "text": [
      "✅ MAGIC | adata_magic_imputed_mf10_run10.h5ad: ARI=0.318\n"
     ]
    },
    {
     "name": "stderr",
     "output_type": "stream",
     "text": [
      "c:\\Users\\prath\\anaconda-new\\Lib\\site-packages\\anndata\\_core\\anndata.py:1791: UserWarning: Observation names are not unique. To make them unique, call `.obs_names_make_unique`.\n",
      "  utils.warn_names_duplicates(\"obs\")\n",
      "c:\\Users\\prath\\anaconda-new\\Lib\\site-packages\\anndata\\_core\\anndata.py:1793: UserWarning: Variable names are not unique. To make them unique, call `.var_names_make_unique`.\n",
      "  utils.warn_names_duplicates(\"var\")\n"
     ]
    },
    {
     "name": "stdout",
     "output_type": "stream",
     "text": [
      "✅ MAGIC | adata_magic_imputed_mf10_run2.h5ad: ARI=0.360\n"
     ]
    },
    {
     "name": "stderr",
     "output_type": "stream",
     "text": [
      "c:\\Users\\prath\\anaconda-new\\Lib\\site-packages\\anndata\\_core\\anndata.py:1791: UserWarning: Observation names are not unique. To make them unique, call `.obs_names_make_unique`.\n",
      "  utils.warn_names_duplicates(\"obs\")\n",
      "c:\\Users\\prath\\anaconda-new\\Lib\\site-packages\\anndata\\_core\\anndata.py:1793: UserWarning: Variable names are not unique. To make them unique, call `.var_names_make_unique`.\n",
      "  utils.warn_names_duplicates(\"var\")\n"
     ]
    },
    {
     "name": "stdout",
     "output_type": "stream",
     "text": [
      "✅ MAGIC | adata_magic_imputed_mf10_run3.h5ad: ARI=0.314\n"
     ]
    },
    {
     "name": "stderr",
     "output_type": "stream",
     "text": [
      "c:\\Users\\prath\\anaconda-new\\Lib\\site-packages\\anndata\\_core\\anndata.py:1791: UserWarning: Observation names are not unique. To make them unique, call `.obs_names_make_unique`.\n",
      "  utils.warn_names_duplicates(\"obs\")\n",
      "c:\\Users\\prath\\anaconda-new\\Lib\\site-packages\\anndata\\_core\\anndata.py:1793: UserWarning: Variable names are not unique. To make them unique, call `.var_names_make_unique`.\n",
      "  utils.warn_names_duplicates(\"var\")\n"
     ]
    },
    {
     "name": "stdout",
     "output_type": "stream",
     "text": [
      "✅ MAGIC | adata_magic_imputed_mf10_run4.h5ad: ARI=0.346\n"
     ]
    },
    {
     "name": "stderr",
     "output_type": "stream",
     "text": [
      "c:\\Users\\prath\\anaconda-new\\Lib\\site-packages\\anndata\\_core\\anndata.py:1791: UserWarning: Observation names are not unique. To make them unique, call `.obs_names_make_unique`.\n",
      "  utils.warn_names_duplicates(\"obs\")\n",
      "c:\\Users\\prath\\anaconda-new\\Lib\\site-packages\\anndata\\_core\\anndata.py:1793: UserWarning: Variable names are not unique. To make them unique, call `.var_names_make_unique`.\n",
      "  utils.warn_names_duplicates(\"var\")\n"
     ]
    },
    {
     "name": "stdout",
     "output_type": "stream",
     "text": [
      "✅ MAGIC | adata_magic_imputed_mf10_run5.h5ad: ARI=0.274\n"
     ]
    },
    {
     "name": "stderr",
     "output_type": "stream",
     "text": [
      "c:\\Users\\prath\\anaconda-new\\Lib\\site-packages\\anndata\\_core\\anndata.py:1791: UserWarning: Observation names are not unique. To make them unique, call `.obs_names_make_unique`.\n",
      "  utils.warn_names_duplicates(\"obs\")\n",
      "c:\\Users\\prath\\anaconda-new\\Lib\\site-packages\\anndata\\_core\\anndata.py:1793: UserWarning: Variable names are not unique. To make them unique, call `.var_names_make_unique`.\n",
      "  utils.warn_names_duplicates(\"var\")\n"
     ]
    },
    {
     "name": "stdout",
     "output_type": "stream",
     "text": [
      "✅ MAGIC | adata_magic_imputed_mf10_run6.h5ad: ARI=0.294\n"
     ]
    },
    {
     "name": "stderr",
     "output_type": "stream",
     "text": [
      "c:\\Users\\prath\\anaconda-new\\Lib\\site-packages\\anndata\\_core\\anndata.py:1791: UserWarning: Observation names are not unique. To make them unique, call `.obs_names_make_unique`.\n",
      "  utils.warn_names_duplicates(\"obs\")\n",
      "c:\\Users\\prath\\anaconda-new\\Lib\\site-packages\\anndata\\_core\\anndata.py:1793: UserWarning: Variable names are not unique. To make them unique, call `.var_names_make_unique`.\n",
      "  utils.warn_names_duplicates(\"var\")\n"
     ]
    },
    {
     "name": "stdout",
     "output_type": "stream",
     "text": [
      "✅ MAGIC | adata_magic_imputed_mf10_run7.h5ad: ARI=0.324\n"
     ]
    },
    {
     "name": "stderr",
     "output_type": "stream",
     "text": [
      "c:\\Users\\prath\\anaconda-new\\Lib\\site-packages\\anndata\\_core\\anndata.py:1791: UserWarning: Observation names are not unique. To make them unique, call `.obs_names_make_unique`.\n",
      "  utils.warn_names_duplicates(\"obs\")\n",
      "c:\\Users\\prath\\anaconda-new\\Lib\\site-packages\\anndata\\_core\\anndata.py:1793: UserWarning: Variable names are not unique. To make them unique, call `.var_names_make_unique`.\n",
      "  utils.warn_names_duplicates(\"var\")\n"
     ]
    },
    {
     "name": "stdout",
     "output_type": "stream",
     "text": [
      "✅ MAGIC | adata_magic_imputed_mf10_run8.h5ad: ARI=0.334\n"
     ]
    },
    {
     "name": "stderr",
     "output_type": "stream",
     "text": [
      "c:\\Users\\prath\\anaconda-new\\Lib\\site-packages\\anndata\\_core\\anndata.py:1791: UserWarning: Observation names are not unique. To make them unique, call `.obs_names_make_unique`.\n",
      "  utils.warn_names_duplicates(\"obs\")\n",
      "c:\\Users\\prath\\anaconda-new\\Lib\\site-packages\\anndata\\_core\\anndata.py:1793: UserWarning: Variable names are not unique. To make them unique, call `.var_names_make_unique`.\n",
      "  utils.warn_names_duplicates(\"var\")\n"
     ]
    },
    {
     "name": "stdout",
     "output_type": "stream",
     "text": [
      "✅ MAGIC | adata_magic_imputed_mf10_run9.h5ad: ARI=0.296\n"
     ]
    },
    {
     "name": "stderr",
     "output_type": "stream",
     "text": [
      "c:\\Users\\prath\\anaconda-new\\Lib\\site-packages\\anndata\\_core\\anndata.py:1791: UserWarning: Observation names are not unique. To make them unique, call `.obs_names_make_unique`.\n",
      "  utils.warn_names_duplicates(\"obs\")\n",
      "c:\\Users\\prath\\anaconda-new\\Lib\\site-packages\\anndata\\_core\\anndata.py:1793: UserWarning: Variable names are not unique. To make them unique, call `.var_names_make_unique`.\n",
      "  utils.warn_names_duplicates(\"var\")\n"
     ]
    },
    {
     "name": "stdout",
     "output_type": "stream",
     "text": [
      "✅ MAGIC | adata_magic_imputed_mf20_run1.h5ad: ARI=0.265\n"
     ]
    },
    {
     "name": "stderr",
     "output_type": "stream",
     "text": [
      "c:\\Users\\prath\\anaconda-new\\Lib\\site-packages\\anndata\\_core\\anndata.py:1791: UserWarning: Observation names are not unique. To make them unique, call `.obs_names_make_unique`.\n",
      "  utils.warn_names_duplicates(\"obs\")\n",
      "c:\\Users\\prath\\anaconda-new\\Lib\\site-packages\\anndata\\_core\\anndata.py:1793: UserWarning: Variable names are not unique. To make them unique, call `.var_names_make_unique`.\n",
      "  utils.warn_names_duplicates(\"var\")\n"
     ]
    },
    {
     "name": "stdout",
     "output_type": "stream",
     "text": [
      "✅ MAGIC | adata_magic_imputed_mf20_run10.h5ad: ARI=0.258\n"
     ]
    },
    {
     "name": "stderr",
     "output_type": "stream",
     "text": [
      "c:\\Users\\prath\\anaconda-new\\Lib\\site-packages\\anndata\\_core\\anndata.py:1791: UserWarning: Observation names are not unique. To make them unique, call `.obs_names_make_unique`.\n",
      "  utils.warn_names_duplicates(\"obs\")\n",
      "c:\\Users\\prath\\anaconda-new\\Lib\\site-packages\\anndata\\_core\\anndata.py:1793: UserWarning: Variable names are not unique. To make them unique, call `.var_names_make_unique`.\n",
      "  utils.warn_names_duplicates(\"var\")\n"
     ]
    },
    {
     "name": "stdout",
     "output_type": "stream",
     "text": [
      "✅ MAGIC | adata_magic_imputed_mf20_run2.h5ad: ARI=0.242\n"
     ]
    },
    {
     "name": "stderr",
     "output_type": "stream",
     "text": [
      "c:\\Users\\prath\\anaconda-new\\Lib\\site-packages\\anndata\\_core\\anndata.py:1791: UserWarning: Observation names are not unique. To make them unique, call `.obs_names_make_unique`.\n",
      "  utils.warn_names_duplicates(\"obs\")\n",
      "c:\\Users\\prath\\anaconda-new\\Lib\\site-packages\\anndata\\_core\\anndata.py:1793: UserWarning: Variable names are not unique. To make them unique, call `.var_names_make_unique`.\n",
      "  utils.warn_names_duplicates(\"var\")\n"
     ]
    },
    {
     "name": "stdout",
     "output_type": "stream",
     "text": [
      "✅ MAGIC | adata_magic_imputed_mf20_run3.h5ad: ARI=0.247\n"
     ]
    },
    {
     "name": "stderr",
     "output_type": "stream",
     "text": [
      "c:\\Users\\prath\\anaconda-new\\Lib\\site-packages\\anndata\\_core\\anndata.py:1791: UserWarning: Observation names are not unique. To make them unique, call `.obs_names_make_unique`.\n",
      "  utils.warn_names_duplicates(\"obs\")\n",
      "c:\\Users\\prath\\anaconda-new\\Lib\\site-packages\\anndata\\_core\\anndata.py:1793: UserWarning: Variable names are not unique. To make them unique, call `.var_names_make_unique`.\n",
      "  utils.warn_names_duplicates(\"var\")\n"
     ]
    },
    {
     "name": "stdout",
     "output_type": "stream",
     "text": [
      "✅ MAGIC | adata_magic_imputed_mf20_run4.h5ad: ARI=0.253\n"
     ]
    },
    {
     "name": "stderr",
     "output_type": "stream",
     "text": [
      "c:\\Users\\prath\\anaconda-new\\Lib\\site-packages\\anndata\\_core\\anndata.py:1791: UserWarning: Observation names are not unique. To make them unique, call `.obs_names_make_unique`.\n",
      "  utils.warn_names_duplicates(\"obs\")\n",
      "c:\\Users\\prath\\anaconda-new\\Lib\\site-packages\\anndata\\_core\\anndata.py:1793: UserWarning: Variable names are not unique. To make them unique, call `.var_names_make_unique`.\n",
      "  utils.warn_names_duplicates(\"var\")\n"
     ]
    },
    {
     "name": "stdout",
     "output_type": "stream",
     "text": [
      "✅ MAGIC | adata_magic_imputed_mf20_run5.h5ad: ARI=0.232\n"
     ]
    },
    {
     "name": "stderr",
     "output_type": "stream",
     "text": [
      "c:\\Users\\prath\\anaconda-new\\Lib\\site-packages\\anndata\\_core\\anndata.py:1791: UserWarning: Observation names are not unique. To make them unique, call `.obs_names_make_unique`.\n",
      "  utils.warn_names_duplicates(\"obs\")\n",
      "c:\\Users\\prath\\anaconda-new\\Lib\\site-packages\\anndata\\_core\\anndata.py:1793: UserWarning: Variable names are not unique. To make them unique, call `.var_names_make_unique`.\n",
      "  utils.warn_names_duplicates(\"var\")\n"
     ]
    },
    {
     "name": "stdout",
     "output_type": "stream",
     "text": [
      "✅ MAGIC | adata_magic_imputed_mf20_run6.h5ad: ARI=0.283\n"
     ]
    },
    {
     "name": "stderr",
     "output_type": "stream",
     "text": [
      "c:\\Users\\prath\\anaconda-new\\Lib\\site-packages\\anndata\\_core\\anndata.py:1791: UserWarning: Observation names are not unique. To make them unique, call `.obs_names_make_unique`.\n",
      "  utils.warn_names_duplicates(\"obs\")\n",
      "c:\\Users\\prath\\anaconda-new\\Lib\\site-packages\\anndata\\_core\\anndata.py:1793: UserWarning: Variable names are not unique. To make them unique, call `.var_names_make_unique`.\n",
      "  utils.warn_names_duplicates(\"var\")\n"
     ]
    },
    {
     "name": "stdout",
     "output_type": "stream",
     "text": [
      "✅ MAGIC | adata_magic_imputed_mf20_run7.h5ad: ARI=0.252\n"
     ]
    },
    {
     "name": "stderr",
     "output_type": "stream",
     "text": [
      "c:\\Users\\prath\\anaconda-new\\Lib\\site-packages\\anndata\\_core\\anndata.py:1791: UserWarning: Observation names are not unique. To make them unique, call `.obs_names_make_unique`.\n",
      "  utils.warn_names_duplicates(\"obs\")\n",
      "c:\\Users\\prath\\anaconda-new\\Lib\\site-packages\\anndata\\_core\\anndata.py:1793: UserWarning: Variable names are not unique. To make them unique, call `.var_names_make_unique`.\n",
      "  utils.warn_names_duplicates(\"var\")\n"
     ]
    },
    {
     "name": "stdout",
     "output_type": "stream",
     "text": [
      "✅ MAGIC | adata_magic_imputed_mf20_run8.h5ad: ARI=0.261\n"
     ]
    },
    {
     "name": "stderr",
     "output_type": "stream",
     "text": [
      "c:\\Users\\prath\\anaconda-new\\Lib\\site-packages\\anndata\\_core\\anndata.py:1791: UserWarning: Observation names are not unique. To make them unique, call `.obs_names_make_unique`.\n",
      "  utils.warn_names_duplicates(\"obs\")\n",
      "c:\\Users\\prath\\anaconda-new\\Lib\\site-packages\\anndata\\_core\\anndata.py:1793: UserWarning: Variable names are not unique. To make them unique, call `.var_names_make_unique`.\n",
      "  utils.warn_names_duplicates(\"var\")\n"
     ]
    },
    {
     "name": "stdout",
     "output_type": "stream",
     "text": [
      "✅ MAGIC | adata_magic_imputed_mf20_run9.h5ad: ARI=0.262\n"
     ]
    },
    {
     "name": "stderr",
     "output_type": "stream",
     "text": [
      "c:\\Users\\prath\\anaconda-new\\Lib\\site-packages\\anndata\\_core\\anndata.py:1791: UserWarning: Observation names are not unique. To make them unique, call `.obs_names_make_unique`.\n",
      "  utils.warn_names_duplicates(\"obs\")\n",
      "c:\\Users\\prath\\anaconda-new\\Lib\\site-packages\\anndata\\_core\\anndata.py:1793: UserWarning: Variable names are not unique. To make them unique, call `.var_names_make_unique`.\n",
      "  utils.warn_names_duplicates(\"var\")\n"
     ]
    },
    {
     "name": "stdout",
     "output_type": "stream",
     "text": [
      "✅ MAGIC | adata_magic_imputed_mf30_run1.h5ad: ARI=0.231\n"
     ]
    },
    {
     "name": "stderr",
     "output_type": "stream",
     "text": [
      "c:\\Users\\prath\\anaconda-new\\Lib\\site-packages\\anndata\\_core\\anndata.py:1791: UserWarning: Observation names are not unique. To make them unique, call `.obs_names_make_unique`.\n",
      "  utils.warn_names_duplicates(\"obs\")\n",
      "c:\\Users\\prath\\anaconda-new\\Lib\\site-packages\\anndata\\_core\\anndata.py:1793: UserWarning: Variable names are not unique. To make them unique, call `.var_names_make_unique`.\n",
      "  utils.warn_names_duplicates(\"var\")\n"
     ]
    },
    {
     "name": "stdout",
     "output_type": "stream",
     "text": [
      "✅ MAGIC | adata_magic_imputed_mf30_run10.h5ad: ARI=0.211\n"
     ]
    },
    {
     "name": "stderr",
     "output_type": "stream",
     "text": [
      "c:\\Users\\prath\\anaconda-new\\Lib\\site-packages\\anndata\\_core\\anndata.py:1791: UserWarning: Observation names are not unique. To make them unique, call `.obs_names_make_unique`.\n",
      "  utils.warn_names_duplicates(\"obs\")\n",
      "c:\\Users\\prath\\anaconda-new\\Lib\\site-packages\\anndata\\_core\\anndata.py:1793: UserWarning: Variable names are not unique. To make them unique, call `.var_names_make_unique`.\n",
      "  utils.warn_names_duplicates(\"var\")\n"
     ]
    },
    {
     "name": "stdout",
     "output_type": "stream",
     "text": [
      "✅ MAGIC | adata_magic_imputed_mf30_run2.h5ad: ARI=0.213\n"
     ]
    },
    {
     "name": "stderr",
     "output_type": "stream",
     "text": [
      "c:\\Users\\prath\\anaconda-new\\Lib\\site-packages\\anndata\\_core\\anndata.py:1791: UserWarning: Observation names are not unique. To make them unique, call `.obs_names_make_unique`.\n",
      "  utils.warn_names_duplicates(\"obs\")\n",
      "c:\\Users\\prath\\anaconda-new\\Lib\\site-packages\\anndata\\_core\\anndata.py:1793: UserWarning: Variable names are not unique. To make them unique, call `.var_names_make_unique`.\n",
      "  utils.warn_names_duplicates(\"var\")\n"
     ]
    },
    {
     "name": "stdout",
     "output_type": "stream",
     "text": [
      "✅ MAGIC | adata_magic_imputed_mf30_run3.h5ad: ARI=0.217\n"
     ]
    },
    {
     "name": "stderr",
     "output_type": "stream",
     "text": [
      "c:\\Users\\prath\\anaconda-new\\Lib\\site-packages\\anndata\\_core\\anndata.py:1791: UserWarning: Observation names are not unique. To make them unique, call `.obs_names_make_unique`.\n",
      "  utils.warn_names_duplicates(\"obs\")\n",
      "c:\\Users\\prath\\anaconda-new\\Lib\\site-packages\\anndata\\_core\\anndata.py:1793: UserWarning: Variable names are not unique. To make them unique, call `.var_names_make_unique`.\n",
      "  utils.warn_names_duplicates(\"var\")\n"
     ]
    },
    {
     "name": "stdout",
     "output_type": "stream",
     "text": [
      "✅ MAGIC | adata_magic_imputed_mf30_run4.h5ad: ARI=0.222\n"
     ]
    },
    {
     "name": "stderr",
     "output_type": "stream",
     "text": [
      "c:\\Users\\prath\\anaconda-new\\Lib\\site-packages\\anndata\\_core\\anndata.py:1791: UserWarning: Observation names are not unique. To make them unique, call `.obs_names_make_unique`.\n",
      "  utils.warn_names_duplicates(\"obs\")\n",
      "c:\\Users\\prath\\anaconda-new\\Lib\\site-packages\\anndata\\_core\\anndata.py:1793: UserWarning: Variable names are not unique. To make them unique, call `.var_names_make_unique`.\n",
      "  utils.warn_names_duplicates(\"var\")\n"
     ]
    },
    {
     "name": "stdout",
     "output_type": "stream",
     "text": [
      "✅ MAGIC | adata_magic_imputed_mf30_run5.h5ad: ARI=0.214\n"
     ]
    },
    {
     "name": "stderr",
     "output_type": "stream",
     "text": [
      "c:\\Users\\prath\\anaconda-new\\Lib\\site-packages\\anndata\\_core\\anndata.py:1791: UserWarning: Observation names are not unique. To make them unique, call `.obs_names_make_unique`.\n",
      "  utils.warn_names_duplicates(\"obs\")\n",
      "c:\\Users\\prath\\anaconda-new\\Lib\\site-packages\\anndata\\_core\\anndata.py:1793: UserWarning: Variable names are not unique. To make them unique, call `.var_names_make_unique`.\n",
      "  utils.warn_names_duplicates(\"var\")\n"
     ]
    },
    {
     "name": "stdout",
     "output_type": "stream",
     "text": [
      "✅ MAGIC | adata_magic_imputed_mf30_run6.h5ad: ARI=0.213\n"
     ]
    },
    {
     "name": "stderr",
     "output_type": "stream",
     "text": [
      "c:\\Users\\prath\\anaconda-new\\Lib\\site-packages\\anndata\\_core\\anndata.py:1791: UserWarning: Observation names are not unique. To make them unique, call `.obs_names_make_unique`.\n",
      "  utils.warn_names_duplicates(\"obs\")\n",
      "c:\\Users\\prath\\anaconda-new\\Lib\\site-packages\\anndata\\_core\\anndata.py:1793: UserWarning: Variable names are not unique. To make them unique, call `.var_names_make_unique`.\n",
      "  utils.warn_names_duplicates(\"var\")\n"
     ]
    },
    {
     "name": "stdout",
     "output_type": "stream",
     "text": [
      "✅ MAGIC | adata_magic_imputed_mf30_run7.h5ad: ARI=0.203\n"
     ]
    },
    {
     "name": "stderr",
     "output_type": "stream",
     "text": [
      "c:\\Users\\prath\\anaconda-new\\Lib\\site-packages\\anndata\\_core\\anndata.py:1791: UserWarning: Observation names are not unique. To make them unique, call `.obs_names_make_unique`.\n",
      "  utils.warn_names_duplicates(\"obs\")\n",
      "c:\\Users\\prath\\anaconda-new\\Lib\\site-packages\\anndata\\_core\\anndata.py:1793: UserWarning: Variable names are not unique. To make them unique, call `.var_names_make_unique`.\n",
      "  utils.warn_names_duplicates(\"var\")\n"
     ]
    },
    {
     "name": "stdout",
     "output_type": "stream",
     "text": [
      "✅ MAGIC | adata_magic_imputed_mf30_run8.h5ad: ARI=0.229\n"
     ]
    },
    {
     "name": "stderr",
     "output_type": "stream",
     "text": [
      "c:\\Users\\prath\\anaconda-new\\Lib\\site-packages\\anndata\\_core\\anndata.py:1791: UserWarning: Observation names are not unique. To make them unique, call `.obs_names_make_unique`.\n",
      "  utils.warn_names_duplicates(\"obs\")\n",
      "c:\\Users\\prath\\anaconda-new\\Lib\\site-packages\\anndata\\_core\\anndata.py:1793: UserWarning: Variable names are not unique. To make them unique, call `.var_names_make_unique`.\n",
      "  utils.warn_names_duplicates(\"var\")\n"
     ]
    },
    {
     "name": "stdout",
     "output_type": "stream",
     "text": [
      "✅ MAGIC | adata_magic_imputed_mf30_run9.h5ad: ARI=0.209\n",
      "\n",
      "🔹 Processing method: KNN\n"
     ]
    },
    {
     "name": "stderr",
     "output_type": "stream",
     "text": [
      "c:\\Users\\prath\\anaconda-new\\Lib\\site-packages\\scanpy\\preprocessing\\_highly_variable_genes.py:309: RuntimeWarning: invalid value encountered in log\n",
      "  dispersion = np.log(dispersion)\n"
     ]
    },
    {
     "name": "stdout",
     "output_type": "stream",
     "text": [
      "✅ KNN | adata_knn_imputed_mf10_run1.h5ad: ARI=0.424\n"
     ]
    },
    {
     "name": "stderr",
     "output_type": "stream",
     "text": [
      "c:\\Users\\prath\\anaconda-new\\Lib\\site-packages\\scanpy\\preprocessing\\_highly_variable_genes.py:309: RuntimeWarning: invalid value encountered in log\n",
      "  dispersion = np.log(dispersion)\n"
     ]
    },
    {
     "name": "stdout",
     "output_type": "stream",
     "text": [
      "✅ KNN | adata_knn_imputed_mf10_run10.h5ad: ARI=0.379\n"
     ]
    },
    {
     "name": "stderr",
     "output_type": "stream",
     "text": [
      "c:\\Users\\prath\\anaconda-new\\Lib\\site-packages\\scanpy\\preprocessing\\_highly_variable_genes.py:309: RuntimeWarning: invalid value encountered in log\n",
      "  dispersion = np.log(dispersion)\n"
     ]
    },
    {
     "name": "stdout",
     "output_type": "stream",
     "text": [
      "✅ KNN | adata_knn_imputed_mf10_run2.h5ad: ARI=0.347\n"
     ]
    },
    {
     "name": "stderr",
     "output_type": "stream",
     "text": [
      "c:\\Users\\prath\\anaconda-new\\Lib\\site-packages\\scanpy\\preprocessing\\_highly_variable_genes.py:309: RuntimeWarning: invalid value encountered in log\n",
      "  dispersion = np.log(dispersion)\n"
     ]
    },
    {
     "name": "stdout",
     "output_type": "stream",
     "text": [
      "✅ KNN | adata_knn_imputed_mf10_run3.h5ad: ARI=0.331\n"
     ]
    },
    {
     "name": "stderr",
     "output_type": "stream",
     "text": [
      "c:\\Users\\prath\\anaconda-new\\Lib\\site-packages\\scanpy\\preprocessing\\_highly_variable_genes.py:309: RuntimeWarning: invalid value encountered in log\n",
      "  dispersion = np.log(dispersion)\n"
     ]
    },
    {
     "name": "stdout",
     "output_type": "stream",
     "text": [
      "✅ KNN | adata_knn_imputed_mf10_run4.h5ad: ARI=0.372\n"
     ]
    },
    {
     "name": "stderr",
     "output_type": "stream",
     "text": [
      "c:\\Users\\prath\\anaconda-new\\Lib\\site-packages\\scanpy\\preprocessing\\_highly_variable_genes.py:309: RuntimeWarning: invalid value encountered in log\n",
      "  dispersion = np.log(dispersion)\n"
     ]
    },
    {
     "name": "stdout",
     "output_type": "stream",
     "text": [
      "✅ KNN | adata_knn_imputed_mf10_run5.h5ad: ARI=0.360\n"
     ]
    },
    {
     "name": "stderr",
     "output_type": "stream",
     "text": [
      "c:\\Users\\prath\\anaconda-new\\Lib\\site-packages\\scanpy\\preprocessing\\_highly_variable_genes.py:309: RuntimeWarning: invalid value encountered in log\n",
      "  dispersion = np.log(dispersion)\n"
     ]
    },
    {
     "name": "stdout",
     "output_type": "stream",
     "text": [
      "✅ KNN | adata_knn_imputed_mf10_run6.h5ad: ARI=0.371\n"
     ]
    },
    {
     "name": "stderr",
     "output_type": "stream",
     "text": [
      "c:\\Users\\prath\\anaconda-new\\Lib\\site-packages\\scanpy\\preprocessing\\_highly_variable_genes.py:309: RuntimeWarning: invalid value encountered in log\n",
      "  dispersion = np.log(dispersion)\n"
     ]
    },
    {
     "name": "stdout",
     "output_type": "stream",
     "text": [
      "✅ KNN | adata_knn_imputed_mf10_run7.h5ad: ARI=0.332\n"
     ]
    },
    {
     "name": "stderr",
     "output_type": "stream",
     "text": [
      "c:\\Users\\prath\\anaconda-new\\Lib\\site-packages\\scanpy\\preprocessing\\_highly_variable_genes.py:309: RuntimeWarning: invalid value encountered in log\n",
      "  dispersion = np.log(dispersion)\n"
     ]
    },
    {
     "name": "stdout",
     "output_type": "stream",
     "text": [
      "✅ KNN | adata_knn_imputed_mf10_run8.h5ad: ARI=0.392\n"
     ]
    },
    {
     "name": "stderr",
     "output_type": "stream",
     "text": [
      "c:\\Users\\prath\\anaconda-new\\Lib\\site-packages\\scanpy\\preprocessing\\_highly_variable_genes.py:309: RuntimeWarning: invalid value encountered in log\n",
      "  dispersion = np.log(dispersion)\n"
     ]
    },
    {
     "name": "stdout",
     "output_type": "stream",
     "text": [
      "✅ KNN | adata_knn_imputed_mf10_run9.h5ad: ARI=0.340\n"
     ]
    },
    {
     "name": "stderr",
     "output_type": "stream",
     "text": [
      "c:\\Users\\prath\\anaconda-new\\Lib\\site-packages\\scanpy\\preprocessing\\_highly_variable_genes.py:309: RuntimeWarning: invalid value encountered in log\n",
      "  dispersion = np.log(dispersion)\n"
     ]
    },
    {
     "name": "stdout",
     "output_type": "stream",
     "text": [
      "✅ KNN | adata_knn_imputed_mf20_run1.h5ad: ARI=0.366\n"
     ]
    },
    {
     "name": "stderr",
     "output_type": "stream",
     "text": [
      "c:\\Users\\prath\\anaconda-new\\Lib\\site-packages\\scanpy\\preprocessing\\_highly_variable_genes.py:309: RuntimeWarning: invalid value encountered in log\n",
      "  dispersion = np.log(dispersion)\n"
     ]
    },
    {
     "name": "stdout",
     "output_type": "stream",
     "text": [
      "✅ KNN | adata_knn_imputed_mf20_run10.h5ad: ARI=0.351\n",
      "✅ KNN | adata_knn_imputed_mf20_run2.h5ad: ARI=0.366\n"
     ]
    },
    {
     "name": "stderr",
     "output_type": "stream",
     "text": [
      "c:\\Users\\prath\\anaconda-new\\Lib\\site-packages\\scanpy\\preprocessing\\_highly_variable_genes.py:309: RuntimeWarning: invalid value encountered in log\n",
      "  dispersion = np.log(dispersion)\n"
     ]
    },
    {
     "name": "stdout",
     "output_type": "stream",
     "text": [
      "✅ KNN | adata_knn_imputed_mf20_run3.h5ad: ARI=0.346\n",
      "✅ KNN | adata_knn_imputed_mf20_run4.h5ad: ARI=0.304\n"
     ]
    },
    {
     "name": "stderr",
     "output_type": "stream",
     "text": [
      "c:\\Users\\prath\\anaconda-new\\Lib\\site-packages\\scanpy\\preprocessing\\_highly_variable_genes.py:309: RuntimeWarning: invalid value encountered in log\n",
      "  dispersion = np.log(dispersion)\n"
     ]
    },
    {
     "name": "stdout",
     "output_type": "stream",
     "text": [
      "✅ KNN | adata_knn_imputed_mf20_run5.h5ad: ARI=0.340\n"
     ]
    },
    {
     "name": "stderr",
     "output_type": "stream",
     "text": [
      "c:\\Users\\prath\\anaconda-new\\Lib\\site-packages\\scanpy\\preprocessing\\_highly_variable_genes.py:309: RuntimeWarning: invalid value encountered in log\n",
      "  dispersion = np.log(dispersion)\n"
     ]
    },
    {
     "name": "stdout",
     "output_type": "stream",
     "text": [
      "✅ KNN | adata_knn_imputed_mf20_run6.h5ad: ARI=0.361\n"
     ]
    },
    {
     "name": "stderr",
     "output_type": "stream",
     "text": [
      "c:\\Users\\prath\\anaconda-new\\Lib\\site-packages\\scanpy\\preprocessing\\_highly_variable_genes.py:309: RuntimeWarning: invalid value encountered in log\n",
      "  dispersion = np.log(dispersion)\n"
     ]
    },
    {
     "name": "stdout",
     "output_type": "stream",
     "text": [
      "✅ KNN | adata_knn_imputed_mf20_run7.h5ad: ARI=0.330\n"
     ]
    },
    {
     "name": "stderr",
     "output_type": "stream",
     "text": [
      "c:\\Users\\prath\\anaconda-new\\Lib\\site-packages\\scanpy\\preprocessing\\_highly_variable_genes.py:309: RuntimeWarning: invalid value encountered in log\n",
      "  dispersion = np.log(dispersion)\n"
     ]
    },
    {
     "name": "stdout",
     "output_type": "stream",
     "text": [
      "✅ KNN | adata_knn_imputed_mf20_run8.h5ad: ARI=0.310\n"
     ]
    },
    {
     "name": "stderr",
     "output_type": "stream",
     "text": [
      "c:\\Users\\prath\\anaconda-new\\Lib\\site-packages\\scanpy\\preprocessing\\_highly_variable_genes.py:309: RuntimeWarning: invalid value encountered in log\n",
      "  dispersion = np.log(dispersion)\n"
     ]
    },
    {
     "name": "stdout",
     "output_type": "stream",
     "text": [
      "✅ KNN | adata_knn_imputed_mf20_run9.h5ad: ARI=0.344\n",
      "✅ KNN | adata_knn_imputed_mf30_run1.h5ad: ARI=0.393\n",
      "✅ KNN | adata_knn_imputed_mf30_run10.h5ad: ARI=0.351\n",
      "✅ KNN | adata_knn_imputed_mf30_run2.h5ad: ARI=0.354\n",
      "✅ KNN | adata_knn_imputed_mf30_run3.h5ad: ARI=0.374\n",
      "✅ KNN | adata_knn_imputed_mf30_run4.h5ad: ARI=0.380\n",
      "✅ KNN | adata_knn_imputed_mf30_run5.h5ad: ARI=0.314\n",
      "✅ KNN | adata_knn_imputed_mf30_run6.h5ad: ARI=0.390\n",
      "✅ KNN | adata_knn_imputed_mf30_run7.h5ad: ARI=0.384\n",
      "✅ KNN | adata_knn_imputed_mf30_run8.h5ad: ARI=0.336\n",
      "✅ KNN | adata_knn_imputed_mf30_run9.h5ad: ARI=0.314\n",
      "\n",
      "🔹 Processing method: Mean\n"
     ]
    },
    {
     "name": "stderr",
     "output_type": "stream",
     "text": [
      "c:\\Users\\prath\\anaconda-new\\Lib\\site-packages\\anndata\\_core\\anndata.py:1791: UserWarning: Observation names are not unique. To make them unique, call `.obs_names_make_unique`.\n",
      "  utils.warn_names_duplicates(\"obs\")\n",
      "c:\\Users\\prath\\anaconda-new\\Lib\\site-packages\\anndata\\_core\\anndata.py:1793: UserWarning: Variable names are not unique. To make them unique, call `.var_names_make_unique`.\n",
      "  utils.warn_names_duplicates(\"var\")\n",
      "c:\\Users\\prath\\anaconda-new\\Lib\\site-packages\\scanpy\\preprocessing\\_highly_variable_genes.py:309: RuntimeWarning: invalid value encountered in log\n",
      "  dispersion = np.log(dispersion)\n"
     ]
    },
    {
     "name": "stdout",
     "output_type": "stream",
     "text": [
      "✅ Mean | adata_mean_imputed_mf10_run1.h5ad: ARI=0.434\n"
     ]
    },
    {
     "name": "stderr",
     "output_type": "stream",
     "text": [
      "c:\\Users\\prath\\anaconda-new\\Lib\\site-packages\\anndata\\_core\\anndata.py:1791: UserWarning: Observation names are not unique. To make them unique, call `.obs_names_make_unique`.\n",
      "  utils.warn_names_duplicates(\"obs\")\n",
      "c:\\Users\\prath\\anaconda-new\\Lib\\site-packages\\anndata\\_core\\anndata.py:1793: UserWarning: Variable names are not unique. To make them unique, call `.var_names_make_unique`.\n",
      "  utils.warn_names_duplicates(\"var\")\n",
      "c:\\Users\\prath\\anaconda-new\\Lib\\site-packages\\scanpy\\_utils\\__init__.py:565: RuntimeWarning: overflow encountered in multiply\n",
      "  return x * y\n",
      "c:\\Users\\prath\\anaconda-new\\Lib\\site-packages\\scanpy\\preprocessing\\_highly_variable_genes.py:309: RuntimeWarning: invalid value encountered in log\n",
      "  dispersion = np.log(dispersion)\n",
      "c:\\Users\\prath\\anaconda-new\\Lib\\site-packages\\scanpy\\preprocessing\\_scale.py:199: RuntimeWarning: invalid value encountered in sqrt\n",
      "  std = np.sqrt(var)\n"
     ]
    },
    {
     "name": "stdout",
     "output_type": "stream",
     "text": [
      "❌ Error with adata_mean_imputed_mf10_run10.h5ad: Input X contains NaN.\n",
      "PCA does not accept missing values encoded as NaN natively. For supervised learning, you might want to consider sklearn.ensemble.HistGradientBoostingClassifier and Regressor which accept missing values encoded as NaNs natively. Alternatively, it is possible to preprocess the data, for instance by using an imputer transformer in a pipeline or drop samples with missing values. See https://scikit-learn.org/stable/modules/impute.html You can find a list of all estimators that handle NaN values at the following page: https://scikit-learn.org/stable/modules/impute.html#estimators-that-handle-nan-values\n"
     ]
    },
    {
     "name": "stderr",
     "output_type": "stream",
     "text": [
      "c:\\Users\\prath\\anaconda-new\\Lib\\site-packages\\anndata\\_core\\anndata.py:1791: UserWarning: Observation names are not unique. To make them unique, call `.obs_names_make_unique`.\n",
      "  utils.warn_names_duplicates(\"obs\")\n",
      "c:\\Users\\prath\\anaconda-new\\Lib\\site-packages\\anndata\\_core\\anndata.py:1793: UserWarning: Variable names are not unique. To make them unique, call `.var_names_make_unique`.\n",
      "  utils.warn_names_duplicates(\"var\")\n",
      "c:\\Users\\prath\\anaconda-new\\Lib\\site-packages\\scanpy\\preprocessing\\_highly_variable_genes.py:309: RuntimeWarning: invalid value encountered in log\n",
      "  dispersion = np.log(dispersion)\n"
     ]
    },
    {
     "name": "stdout",
     "output_type": "stream",
     "text": [
      "✅ Mean | adata_mean_imputed_mf10_run2.h5ad: ARI=0.411\n"
     ]
    },
    {
     "name": "stderr",
     "output_type": "stream",
     "text": [
      "c:\\Users\\prath\\anaconda-new\\Lib\\site-packages\\anndata\\_core\\anndata.py:1791: UserWarning: Observation names are not unique. To make them unique, call `.obs_names_make_unique`.\n",
      "  utils.warn_names_duplicates(\"obs\")\n",
      "c:\\Users\\prath\\anaconda-new\\Lib\\site-packages\\anndata\\_core\\anndata.py:1793: UserWarning: Variable names are not unique. To make them unique, call `.var_names_make_unique`.\n",
      "  utils.warn_names_duplicates(\"var\")\n",
      "c:\\Users\\prath\\anaconda-new\\Lib\\site-packages\\scanpy\\_utils\\__init__.py:565: RuntimeWarning: overflow encountered in multiply\n",
      "  return x * y\n",
      "c:\\Users\\prath\\anaconda-new\\Lib\\site-packages\\scanpy\\preprocessing\\_highly_variable_genes.py:309: RuntimeWarning: invalid value encountered in log\n",
      "  dispersion = np.log(dispersion)\n",
      "c:\\Users\\prath\\anaconda-new\\Lib\\site-packages\\scanpy\\preprocessing\\_scale.py:199: RuntimeWarning: invalid value encountered in sqrt\n",
      "  std = np.sqrt(var)\n"
     ]
    },
    {
     "name": "stdout",
     "output_type": "stream",
     "text": [
      "❌ Error with adata_mean_imputed_mf10_run3.h5ad: Input X contains NaN.\n",
      "PCA does not accept missing values encoded as NaN natively. For supervised learning, you might want to consider sklearn.ensemble.HistGradientBoostingClassifier and Regressor which accept missing values encoded as NaNs natively. Alternatively, it is possible to preprocess the data, for instance by using an imputer transformer in a pipeline or drop samples with missing values. See https://scikit-learn.org/stable/modules/impute.html You can find a list of all estimators that handle NaN values at the following page: https://scikit-learn.org/stable/modules/impute.html#estimators-that-handle-nan-values\n"
     ]
    },
    {
     "name": "stderr",
     "output_type": "stream",
     "text": [
      "c:\\Users\\prath\\anaconda-new\\Lib\\site-packages\\anndata\\_core\\anndata.py:1791: UserWarning: Observation names are not unique. To make them unique, call `.obs_names_make_unique`.\n",
      "  utils.warn_names_duplicates(\"obs\")\n",
      "c:\\Users\\prath\\anaconda-new\\Lib\\site-packages\\anndata\\_core\\anndata.py:1793: UserWarning: Variable names are not unique. To make them unique, call `.var_names_make_unique`.\n",
      "  utils.warn_names_duplicates(\"var\")\n",
      "c:\\Users\\prath\\anaconda-new\\Lib\\site-packages\\scanpy\\preprocessing\\_highly_variable_genes.py:309: RuntimeWarning: invalid value encountered in log\n",
      "  dispersion = np.log(dispersion)\n"
     ]
    },
    {
     "name": "stdout",
     "output_type": "stream",
     "text": [
      "✅ Mean | adata_mean_imputed_mf10_run4.h5ad: ARI=0.427\n"
     ]
    },
    {
     "name": "stderr",
     "output_type": "stream",
     "text": [
      "c:\\Users\\prath\\anaconda-new\\Lib\\site-packages\\anndata\\_core\\anndata.py:1791: UserWarning: Observation names are not unique. To make them unique, call `.obs_names_make_unique`.\n",
      "  utils.warn_names_duplicates(\"obs\")\n",
      "c:\\Users\\prath\\anaconda-new\\Lib\\site-packages\\anndata\\_core\\anndata.py:1793: UserWarning: Variable names are not unique. To make them unique, call `.var_names_make_unique`.\n",
      "  utils.warn_names_duplicates(\"var\")\n",
      "c:\\Users\\prath\\anaconda-new\\Lib\\site-packages\\scanpy\\preprocessing\\_highly_variable_genes.py:309: RuntimeWarning: invalid value encountered in log\n",
      "  dispersion = np.log(dispersion)\n"
     ]
    },
    {
     "name": "stdout",
     "output_type": "stream",
     "text": [
      "✅ Mean | adata_mean_imputed_mf10_run5.h5ad: ARI=0.401\n"
     ]
    },
    {
     "name": "stderr",
     "output_type": "stream",
     "text": [
      "c:\\Users\\prath\\anaconda-new\\Lib\\site-packages\\anndata\\_core\\anndata.py:1791: UserWarning: Observation names are not unique. To make them unique, call `.obs_names_make_unique`.\n",
      "  utils.warn_names_duplicates(\"obs\")\n",
      "c:\\Users\\prath\\anaconda-new\\Lib\\site-packages\\anndata\\_core\\anndata.py:1793: UserWarning: Variable names are not unique. To make them unique, call `.var_names_make_unique`.\n",
      "  utils.warn_names_duplicates(\"var\")\n",
      "c:\\Users\\prath\\anaconda-new\\Lib\\site-packages\\scanpy\\preprocessing\\_highly_variable_genes.py:309: RuntimeWarning: invalid value encountered in log\n",
      "  dispersion = np.log(dispersion)\n",
      "c:\\Users\\prath\\anaconda-new\\Lib\\site-packages\\scanpy\\preprocessing\\_scale.py:199: RuntimeWarning: invalid value encountered in sqrt\n",
      "  std = np.sqrt(var)\n"
     ]
    },
    {
     "name": "stdout",
     "output_type": "stream",
     "text": [
      "❌ Error with adata_mean_imputed_mf10_run6.h5ad: Input X contains NaN.\n",
      "PCA does not accept missing values encoded as NaN natively. For supervised learning, you might want to consider sklearn.ensemble.HistGradientBoostingClassifier and Regressor which accept missing values encoded as NaNs natively. Alternatively, it is possible to preprocess the data, for instance by using an imputer transformer in a pipeline or drop samples with missing values. See https://scikit-learn.org/stable/modules/impute.html You can find a list of all estimators that handle NaN values at the following page: https://scikit-learn.org/stable/modules/impute.html#estimators-that-handle-nan-values\n"
     ]
    },
    {
     "name": "stderr",
     "output_type": "stream",
     "text": [
      "c:\\Users\\prath\\anaconda-new\\Lib\\site-packages\\anndata\\_core\\anndata.py:1791: UserWarning: Observation names are not unique. To make them unique, call `.obs_names_make_unique`.\n",
      "  utils.warn_names_duplicates(\"obs\")\n",
      "c:\\Users\\prath\\anaconda-new\\Lib\\site-packages\\anndata\\_core\\anndata.py:1793: UserWarning: Variable names are not unique. To make them unique, call `.var_names_make_unique`.\n",
      "  utils.warn_names_duplicates(\"var\")\n",
      "c:\\Users\\prath\\anaconda-new\\Lib\\site-packages\\scanpy\\_utils\\__init__.py:565: RuntimeWarning: overflow encountered in multiply\n",
      "  return x * y\n",
      "c:\\Users\\prath\\anaconda-new\\Lib\\site-packages\\scanpy\\preprocessing\\_highly_variable_genes.py:309: RuntimeWarning: invalid value encountered in log\n",
      "  dispersion = np.log(dispersion)\n",
      "c:\\Users\\prath\\anaconda-new\\Lib\\site-packages\\scanpy\\preprocessing\\_scale.py:199: RuntimeWarning: invalid value encountered in sqrt\n",
      "  std = np.sqrt(var)\n"
     ]
    },
    {
     "name": "stdout",
     "output_type": "stream",
     "text": [
      "❌ Error with adata_mean_imputed_mf10_run7.h5ad: Input X contains NaN.\n",
      "PCA does not accept missing values encoded as NaN natively. For supervised learning, you might want to consider sklearn.ensemble.HistGradientBoostingClassifier and Regressor which accept missing values encoded as NaNs natively. Alternatively, it is possible to preprocess the data, for instance by using an imputer transformer in a pipeline or drop samples with missing values. See https://scikit-learn.org/stable/modules/impute.html You can find a list of all estimators that handle NaN values at the following page: https://scikit-learn.org/stable/modules/impute.html#estimators-that-handle-nan-values\n"
     ]
    },
    {
     "name": "stderr",
     "output_type": "stream",
     "text": [
      "c:\\Users\\prath\\anaconda-new\\Lib\\site-packages\\anndata\\_core\\anndata.py:1791: UserWarning: Observation names are not unique. To make them unique, call `.obs_names_make_unique`.\n",
      "  utils.warn_names_duplicates(\"obs\")\n",
      "c:\\Users\\prath\\anaconda-new\\Lib\\site-packages\\anndata\\_core\\anndata.py:1793: UserWarning: Variable names are not unique. To make them unique, call `.var_names_make_unique`.\n",
      "  utils.warn_names_duplicates(\"var\")\n",
      "c:\\Users\\prath\\anaconda-new\\Lib\\site-packages\\scanpy\\preprocessing\\_highly_variable_genes.py:309: RuntimeWarning: invalid value encountered in log\n",
      "  dispersion = np.log(dispersion)\n"
     ]
    },
    {
     "name": "stdout",
     "output_type": "stream",
     "text": [
      "✅ Mean | adata_mean_imputed_mf10_run8.h5ad: ARI=0.413\n"
     ]
    },
    {
     "name": "stderr",
     "output_type": "stream",
     "text": [
      "c:\\Users\\prath\\anaconda-new\\Lib\\site-packages\\anndata\\_core\\anndata.py:1791: UserWarning: Observation names are not unique. To make them unique, call `.obs_names_make_unique`.\n",
      "  utils.warn_names_duplicates(\"obs\")\n",
      "c:\\Users\\prath\\anaconda-new\\Lib\\site-packages\\anndata\\_core\\anndata.py:1793: UserWarning: Variable names are not unique. To make them unique, call `.var_names_make_unique`.\n",
      "  utils.warn_names_duplicates(\"var\")\n",
      "c:\\Users\\prath\\anaconda-new\\Lib\\site-packages\\scanpy\\_utils\\__init__.py:565: RuntimeWarning: overflow encountered in multiply\n",
      "  return x * y\n",
      "c:\\Users\\prath\\anaconda-new\\Lib\\site-packages\\scanpy\\preprocessing\\_highly_variable_genes.py:309: RuntimeWarning: invalid value encountered in log\n",
      "  dispersion = np.log(dispersion)\n",
      "c:\\Users\\prath\\anaconda-new\\Lib\\site-packages\\scanpy\\preprocessing\\_scale.py:199: RuntimeWarning: invalid value encountered in sqrt\n",
      "  std = np.sqrt(var)\n"
     ]
    },
    {
     "name": "stdout",
     "output_type": "stream",
     "text": [
      "❌ Error with adata_mean_imputed_mf10_run9.h5ad: Input X contains NaN.\n",
      "PCA does not accept missing values encoded as NaN natively. For supervised learning, you might want to consider sklearn.ensemble.HistGradientBoostingClassifier and Regressor which accept missing values encoded as NaNs natively. Alternatively, it is possible to preprocess the data, for instance by using an imputer transformer in a pipeline or drop samples with missing values. See https://scikit-learn.org/stable/modules/impute.html You can find a list of all estimators that handle NaN values at the following page: https://scikit-learn.org/stable/modules/impute.html#estimators-that-handle-nan-values\n"
     ]
    },
    {
     "name": "stderr",
     "output_type": "stream",
     "text": [
      "c:\\Users\\prath\\anaconda-new\\Lib\\site-packages\\anndata\\_core\\anndata.py:1791: UserWarning: Observation names are not unique. To make them unique, call `.obs_names_make_unique`.\n",
      "  utils.warn_names_duplicates(\"obs\")\n",
      "c:\\Users\\prath\\anaconda-new\\Lib\\site-packages\\anndata\\_core\\anndata.py:1793: UserWarning: Variable names are not unique. To make them unique, call `.var_names_make_unique`.\n",
      "  utils.warn_names_duplicates(\"var\")\n",
      "c:\\Users\\prath\\anaconda-new\\Lib\\site-packages\\scanpy\\preprocessing\\_highly_variable_genes.py:309: RuntimeWarning: invalid value encountered in log\n",
      "  dispersion = np.log(dispersion)\n"
     ]
    },
    {
     "name": "stdout",
     "output_type": "stream",
     "text": [
      "✅ Mean | adata_mean_imputed_mf20_run1.h5ad: ARI=0.400\n"
     ]
    },
    {
     "name": "stderr",
     "output_type": "stream",
     "text": [
      "c:\\Users\\prath\\anaconda-new\\Lib\\site-packages\\anndata\\_core\\anndata.py:1791: UserWarning: Observation names are not unique. To make them unique, call `.obs_names_make_unique`.\n",
      "  utils.warn_names_duplicates(\"obs\")\n",
      "c:\\Users\\prath\\anaconda-new\\Lib\\site-packages\\anndata\\_core\\anndata.py:1793: UserWarning: Variable names are not unique. To make them unique, call `.var_names_make_unique`.\n",
      "  utils.warn_names_duplicates(\"var\")\n",
      "c:\\Users\\prath\\anaconda-new\\Lib\\site-packages\\scanpy\\preprocessing\\_highly_variable_genes.py:309: RuntimeWarning: invalid value encountered in log\n",
      "  dispersion = np.log(dispersion)\n"
     ]
    },
    {
     "name": "stdout",
     "output_type": "stream",
     "text": [
      "✅ Mean | adata_mean_imputed_mf20_run10.h5ad: ARI=0.415\n"
     ]
    },
    {
     "name": "stderr",
     "output_type": "stream",
     "text": [
      "c:\\Users\\prath\\anaconda-new\\Lib\\site-packages\\anndata\\_core\\anndata.py:1791: UserWarning: Observation names are not unique. To make them unique, call `.obs_names_make_unique`.\n",
      "  utils.warn_names_duplicates(\"obs\")\n",
      "c:\\Users\\prath\\anaconda-new\\Lib\\site-packages\\anndata\\_core\\anndata.py:1793: UserWarning: Variable names are not unique. To make them unique, call `.var_names_make_unique`.\n",
      "  utils.warn_names_duplicates(\"var\")\n",
      "c:\\Users\\prath\\anaconda-new\\Lib\\site-packages\\scanpy\\preprocessing\\_highly_variable_genes.py:309: RuntimeWarning: invalid value encountered in log\n",
      "  dispersion = np.log(dispersion)\n"
     ]
    },
    {
     "name": "stdout",
     "output_type": "stream",
     "text": [
      "✅ Mean | adata_mean_imputed_mf20_run2.h5ad: ARI=0.386\n"
     ]
    },
    {
     "name": "stderr",
     "output_type": "stream",
     "text": [
      "c:\\Users\\prath\\anaconda-new\\Lib\\site-packages\\anndata\\_core\\anndata.py:1791: UserWarning: Observation names are not unique. To make them unique, call `.obs_names_make_unique`.\n",
      "  utils.warn_names_duplicates(\"obs\")\n",
      "c:\\Users\\prath\\anaconda-new\\Lib\\site-packages\\anndata\\_core\\anndata.py:1793: UserWarning: Variable names are not unique. To make them unique, call `.var_names_make_unique`.\n",
      "  utils.warn_names_duplicates(\"var\")\n",
      "c:\\Users\\prath\\anaconda-new\\Lib\\site-packages\\scanpy\\_utils\\__init__.py:565: RuntimeWarning: overflow encountered in multiply\n",
      "  return x * y\n",
      "c:\\Users\\prath\\anaconda-new\\Lib\\site-packages\\scanpy\\preprocessing\\_highly_variable_genes.py:309: RuntimeWarning: invalid value encountered in log\n",
      "  dispersion = np.log(dispersion)\n",
      "c:\\Users\\prath\\anaconda-new\\Lib\\site-packages\\scanpy\\preprocessing\\_scale.py:199: RuntimeWarning: invalid value encountered in sqrt\n",
      "  std = np.sqrt(var)\n"
     ]
    },
    {
     "name": "stdout",
     "output_type": "stream",
     "text": [
      "❌ Error with adata_mean_imputed_mf20_run3.h5ad: Input X contains NaN.\n",
      "PCA does not accept missing values encoded as NaN natively. For supervised learning, you might want to consider sklearn.ensemble.HistGradientBoostingClassifier and Regressor which accept missing values encoded as NaNs natively. Alternatively, it is possible to preprocess the data, for instance by using an imputer transformer in a pipeline or drop samples with missing values. See https://scikit-learn.org/stable/modules/impute.html You can find a list of all estimators that handle NaN values at the following page: https://scikit-learn.org/stable/modules/impute.html#estimators-that-handle-nan-values\n"
     ]
    },
    {
     "name": "stderr",
     "output_type": "stream",
     "text": [
      "c:\\Users\\prath\\anaconda-new\\Lib\\site-packages\\anndata\\_core\\anndata.py:1791: UserWarning: Observation names are not unique. To make them unique, call `.obs_names_make_unique`.\n",
      "  utils.warn_names_duplicates(\"obs\")\n",
      "c:\\Users\\prath\\anaconda-new\\Lib\\site-packages\\anndata\\_core\\anndata.py:1793: UserWarning: Variable names are not unique. To make them unique, call `.var_names_make_unique`.\n",
      "  utils.warn_names_duplicates(\"var\")\n",
      "c:\\Users\\prath\\anaconda-new\\Lib\\site-packages\\scanpy\\_utils\\__init__.py:565: RuntimeWarning: overflow encountered in multiply\n",
      "  return x * y\n",
      "c:\\Users\\prath\\anaconda-new\\Lib\\site-packages\\scanpy\\preprocessing\\_highly_variable_genes.py:309: RuntimeWarning: invalid value encountered in log\n",
      "  dispersion = np.log(dispersion)\n",
      "c:\\Users\\prath\\anaconda-new\\Lib\\site-packages\\scanpy\\preprocessing\\_scale.py:199: RuntimeWarning: invalid value encountered in sqrt\n",
      "  std = np.sqrt(var)\n"
     ]
    },
    {
     "name": "stdout",
     "output_type": "stream",
     "text": [
      "❌ Error with adata_mean_imputed_mf20_run4.h5ad: Input X contains NaN.\n",
      "PCA does not accept missing values encoded as NaN natively. For supervised learning, you might want to consider sklearn.ensemble.HistGradientBoostingClassifier and Regressor which accept missing values encoded as NaNs natively. Alternatively, it is possible to preprocess the data, for instance by using an imputer transformer in a pipeline or drop samples with missing values. See https://scikit-learn.org/stable/modules/impute.html You can find a list of all estimators that handle NaN values at the following page: https://scikit-learn.org/stable/modules/impute.html#estimators-that-handle-nan-values\n"
     ]
    },
    {
     "name": "stderr",
     "output_type": "stream",
     "text": [
      "c:\\Users\\prath\\anaconda-new\\Lib\\site-packages\\anndata\\_core\\anndata.py:1791: UserWarning: Observation names are not unique. To make them unique, call `.obs_names_make_unique`.\n",
      "  utils.warn_names_duplicates(\"obs\")\n",
      "c:\\Users\\prath\\anaconda-new\\Lib\\site-packages\\anndata\\_core\\anndata.py:1793: UserWarning: Variable names are not unique. To make them unique, call `.var_names_make_unique`.\n",
      "  utils.warn_names_duplicates(\"var\")\n",
      "c:\\Users\\prath\\anaconda-new\\Lib\\site-packages\\scanpy\\preprocessing\\_highly_variable_genes.py:309: RuntimeWarning: invalid value encountered in log\n",
      "  dispersion = np.log(dispersion)\n",
      "c:\\Users\\prath\\anaconda-new\\Lib\\site-packages\\scanpy\\preprocessing\\_scale.py:199: RuntimeWarning: invalid value encountered in sqrt\n",
      "  std = np.sqrt(var)\n"
     ]
    },
    {
     "name": "stdout",
     "output_type": "stream",
     "text": [
      "❌ Error with adata_mean_imputed_mf20_run5.h5ad: Input X contains NaN.\n",
      "PCA does not accept missing values encoded as NaN natively. For supervised learning, you might want to consider sklearn.ensemble.HistGradientBoostingClassifier and Regressor which accept missing values encoded as NaNs natively. Alternatively, it is possible to preprocess the data, for instance by using an imputer transformer in a pipeline or drop samples with missing values. See https://scikit-learn.org/stable/modules/impute.html You can find a list of all estimators that handle NaN values at the following page: https://scikit-learn.org/stable/modules/impute.html#estimators-that-handle-nan-values\n"
     ]
    },
    {
     "name": "stderr",
     "output_type": "stream",
     "text": [
      "c:\\Users\\prath\\anaconda-new\\Lib\\site-packages\\anndata\\_core\\anndata.py:1791: UserWarning: Observation names are not unique. To make them unique, call `.obs_names_make_unique`.\n",
      "  utils.warn_names_duplicates(\"obs\")\n",
      "c:\\Users\\prath\\anaconda-new\\Lib\\site-packages\\anndata\\_core\\anndata.py:1793: UserWarning: Variable names are not unique. To make them unique, call `.var_names_make_unique`.\n",
      "  utils.warn_names_duplicates(\"var\")\n",
      "c:\\Users\\prath\\anaconda-new\\Lib\\site-packages\\scanpy\\preprocessing\\_highly_variable_genes.py:309: RuntimeWarning: invalid value encountered in log\n",
      "  dispersion = np.log(dispersion)\n"
     ]
    },
    {
     "name": "stdout",
     "output_type": "stream",
     "text": [
      "✅ Mean | adata_mean_imputed_mf20_run6.h5ad: ARI=0.417\n"
     ]
    },
    {
     "name": "stderr",
     "output_type": "stream",
     "text": [
      "c:\\Users\\prath\\anaconda-new\\Lib\\site-packages\\anndata\\_core\\anndata.py:1791: UserWarning: Observation names are not unique. To make them unique, call `.obs_names_make_unique`.\n",
      "  utils.warn_names_duplicates(\"obs\")\n",
      "c:\\Users\\prath\\anaconda-new\\Lib\\site-packages\\anndata\\_core\\anndata.py:1793: UserWarning: Variable names are not unique. To make them unique, call `.var_names_make_unique`.\n",
      "  utils.warn_names_duplicates(\"var\")\n",
      "c:\\Users\\prath\\anaconda-new\\Lib\\site-packages\\scanpy\\_utils\\__init__.py:565: RuntimeWarning: overflow encountered in multiply\n",
      "  return x * y\n",
      "c:\\Users\\prath\\anaconda-new\\Lib\\site-packages\\scanpy\\preprocessing\\_highly_variable_genes.py:309: RuntimeWarning: invalid value encountered in log\n",
      "  dispersion = np.log(dispersion)\n",
      "c:\\Users\\prath\\anaconda-new\\Lib\\site-packages\\scanpy\\preprocessing\\_scale.py:199: RuntimeWarning: invalid value encountered in sqrt\n",
      "  std = np.sqrt(var)\n"
     ]
    },
    {
     "name": "stdout",
     "output_type": "stream",
     "text": [
      "❌ Error with adata_mean_imputed_mf20_run7.h5ad: Input X contains NaN.\n",
      "PCA does not accept missing values encoded as NaN natively. For supervised learning, you might want to consider sklearn.ensemble.HistGradientBoostingClassifier and Regressor which accept missing values encoded as NaNs natively. Alternatively, it is possible to preprocess the data, for instance by using an imputer transformer in a pipeline or drop samples with missing values. See https://scikit-learn.org/stable/modules/impute.html You can find a list of all estimators that handle NaN values at the following page: https://scikit-learn.org/stable/modules/impute.html#estimators-that-handle-nan-values\n"
     ]
    },
    {
     "name": "stderr",
     "output_type": "stream",
     "text": [
      "c:\\Users\\prath\\anaconda-new\\Lib\\site-packages\\anndata\\_core\\anndata.py:1791: UserWarning: Observation names are not unique. To make them unique, call `.obs_names_make_unique`.\n",
      "  utils.warn_names_duplicates(\"obs\")\n",
      "c:\\Users\\prath\\anaconda-new\\Lib\\site-packages\\anndata\\_core\\anndata.py:1793: UserWarning: Variable names are not unique. To make them unique, call `.var_names_make_unique`.\n",
      "  utils.warn_names_duplicates(\"var\")\n",
      "c:\\Users\\prath\\anaconda-new\\Lib\\site-packages\\scanpy\\_utils\\__init__.py:565: RuntimeWarning: overflow encountered in multiply\n",
      "  return x * y\n",
      "c:\\Users\\prath\\anaconda-new\\Lib\\site-packages\\scanpy\\preprocessing\\_highly_variable_genes.py:309: RuntimeWarning: invalid value encountered in log\n",
      "  dispersion = np.log(dispersion)\n",
      "c:\\Users\\prath\\anaconda-new\\Lib\\site-packages\\scanpy\\preprocessing\\_scale.py:199: RuntimeWarning: invalid value encountered in sqrt\n",
      "  std = np.sqrt(var)\n"
     ]
    },
    {
     "name": "stdout",
     "output_type": "stream",
     "text": [
      "❌ Error with adata_mean_imputed_mf20_run8.h5ad: Input X contains NaN.\n",
      "PCA does not accept missing values encoded as NaN natively. For supervised learning, you might want to consider sklearn.ensemble.HistGradientBoostingClassifier and Regressor which accept missing values encoded as NaNs natively. Alternatively, it is possible to preprocess the data, for instance by using an imputer transformer in a pipeline or drop samples with missing values. See https://scikit-learn.org/stable/modules/impute.html You can find a list of all estimators that handle NaN values at the following page: https://scikit-learn.org/stable/modules/impute.html#estimators-that-handle-nan-values\n"
     ]
    },
    {
     "name": "stderr",
     "output_type": "stream",
     "text": [
      "c:\\Users\\prath\\anaconda-new\\Lib\\site-packages\\anndata\\_core\\anndata.py:1791: UserWarning: Observation names are not unique. To make them unique, call `.obs_names_make_unique`.\n",
      "  utils.warn_names_duplicates(\"obs\")\n",
      "c:\\Users\\prath\\anaconda-new\\Lib\\site-packages\\anndata\\_core\\anndata.py:1793: UserWarning: Variable names are not unique. To make them unique, call `.var_names_make_unique`.\n",
      "  utils.warn_names_duplicates(\"var\")\n",
      "c:\\Users\\prath\\anaconda-new\\Lib\\site-packages\\scanpy\\preprocessing\\_highly_variable_genes.py:309: RuntimeWarning: invalid value encountered in log\n",
      "  dispersion = np.log(dispersion)\n"
     ]
    },
    {
     "name": "stdout",
     "output_type": "stream",
     "text": [
      "✅ Mean | adata_mean_imputed_mf20_run9.h5ad: ARI=0.400\n"
     ]
    },
    {
     "name": "stderr",
     "output_type": "stream",
     "text": [
      "c:\\Users\\prath\\anaconda-new\\Lib\\site-packages\\anndata\\_core\\anndata.py:1791: UserWarning: Observation names are not unique. To make them unique, call `.obs_names_make_unique`.\n",
      "  utils.warn_names_duplicates(\"obs\")\n",
      "c:\\Users\\prath\\anaconda-new\\Lib\\site-packages\\anndata\\_core\\anndata.py:1793: UserWarning: Variable names are not unique. To make them unique, call `.var_names_make_unique`.\n",
      "  utils.warn_names_duplicates(\"var\")\n",
      "c:\\Users\\prath\\anaconda-new\\Lib\\site-packages\\scanpy\\preprocessing\\_highly_variable_genes.py:309: RuntimeWarning: invalid value encountered in log\n",
      "  dispersion = np.log(dispersion)\n"
     ]
    },
    {
     "name": "stdout",
     "output_type": "stream",
     "text": [
      "✅ Mean | adata_mean_imputed_mf30_run1.h5ad: ARI=0.396\n"
     ]
    },
    {
     "name": "stderr",
     "output_type": "stream",
     "text": [
      "c:\\Users\\prath\\anaconda-new\\Lib\\site-packages\\anndata\\_core\\anndata.py:1791: UserWarning: Observation names are not unique. To make them unique, call `.obs_names_make_unique`.\n",
      "  utils.warn_names_duplicates(\"obs\")\n",
      "c:\\Users\\prath\\anaconda-new\\Lib\\site-packages\\anndata\\_core\\anndata.py:1793: UserWarning: Variable names are not unique. To make them unique, call `.var_names_make_unique`.\n",
      "  utils.warn_names_duplicates(\"var\")\n",
      "c:\\Users\\prath\\anaconda-new\\Lib\\site-packages\\scanpy\\preprocessing\\_highly_variable_genes.py:309: RuntimeWarning: invalid value encountered in log\n",
      "  dispersion = np.log(dispersion)\n"
     ]
    },
    {
     "name": "stdout",
     "output_type": "stream",
     "text": [
      "✅ Mean | adata_mean_imputed_mf30_run10.h5ad: ARI=0.404\n"
     ]
    },
    {
     "name": "stderr",
     "output_type": "stream",
     "text": [
      "c:\\Users\\prath\\anaconda-new\\Lib\\site-packages\\anndata\\_core\\anndata.py:1791: UserWarning: Observation names are not unique. To make them unique, call `.obs_names_make_unique`.\n",
      "  utils.warn_names_duplicates(\"obs\")\n",
      "c:\\Users\\prath\\anaconda-new\\Lib\\site-packages\\anndata\\_core\\anndata.py:1793: UserWarning: Variable names are not unique. To make them unique, call `.var_names_make_unique`.\n",
      "  utils.warn_names_duplicates(\"var\")\n",
      "c:\\Users\\prath\\anaconda-new\\Lib\\site-packages\\scanpy\\_utils\\__init__.py:565: RuntimeWarning: overflow encountered in multiply\n",
      "  return x * y\n",
      "c:\\Users\\prath\\anaconda-new\\Lib\\site-packages\\scanpy\\preprocessing\\_highly_variable_genes.py:309: RuntimeWarning: invalid value encountered in log\n",
      "  dispersion = np.log(dispersion)\n",
      "c:\\Users\\prath\\anaconda-new\\Lib\\site-packages\\scanpy\\preprocessing\\_scale.py:199: RuntimeWarning: invalid value encountered in sqrt\n",
      "  std = np.sqrt(var)\n"
     ]
    },
    {
     "name": "stdout",
     "output_type": "stream",
     "text": [
      "❌ Error with adata_mean_imputed_mf30_run2.h5ad: Input X contains NaN.\n",
      "PCA does not accept missing values encoded as NaN natively. For supervised learning, you might want to consider sklearn.ensemble.HistGradientBoostingClassifier and Regressor which accept missing values encoded as NaNs natively. Alternatively, it is possible to preprocess the data, for instance by using an imputer transformer in a pipeline or drop samples with missing values. See https://scikit-learn.org/stable/modules/impute.html You can find a list of all estimators that handle NaN values at the following page: https://scikit-learn.org/stable/modules/impute.html#estimators-that-handle-nan-values\n"
     ]
    },
    {
     "name": "stderr",
     "output_type": "stream",
     "text": [
      "c:\\Users\\prath\\anaconda-new\\Lib\\site-packages\\anndata\\_core\\anndata.py:1791: UserWarning: Observation names are not unique. To make them unique, call `.obs_names_make_unique`.\n",
      "  utils.warn_names_duplicates(\"obs\")\n",
      "c:\\Users\\prath\\anaconda-new\\Lib\\site-packages\\anndata\\_core\\anndata.py:1793: UserWarning: Variable names are not unique. To make them unique, call `.var_names_make_unique`.\n",
      "  utils.warn_names_duplicates(\"var\")\n",
      "c:\\Users\\prath\\anaconda-new\\Lib\\site-packages\\scanpy\\preprocessing\\_highly_variable_genes.py:309: RuntimeWarning: invalid value encountered in log\n",
      "  dispersion = np.log(dispersion)\n"
     ]
    },
    {
     "name": "stdout",
     "output_type": "stream",
     "text": [
      "✅ Mean | adata_mean_imputed_mf30_run3.h5ad: ARI=0.403\n"
     ]
    },
    {
     "name": "stderr",
     "output_type": "stream",
     "text": [
      "c:\\Users\\prath\\anaconda-new\\Lib\\site-packages\\anndata\\_core\\anndata.py:1791: UserWarning: Observation names are not unique. To make them unique, call `.obs_names_make_unique`.\n",
      "  utils.warn_names_duplicates(\"obs\")\n",
      "c:\\Users\\prath\\anaconda-new\\Lib\\site-packages\\anndata\\_core\\anndata.py:1793: UserWarning: Variable names are not unique. To make them unique, call `.var_names_make_unique`.\n",
      "  utils.warn_names_duplicates(\"var\")\n",
      "c:\\Users\\prath\\anaconda-new\\Lib\\site-packages\\scanpy\\preprocessing\\_highly_variable_genes.py:309: RuntimeWarning: invalid value encountered in log\n",
      "  dispersion = np.log(dispersion)\n"
     ]
    },
    {
     "name": "stdout",
     "output_type": "stream",
     "text": [
      "✅ Mean | adata_mean_imputed_mf30_run4.h5ad: ARI=0.376\n"
     ]
    },
    {
     "name": "stderr",
     "output_type": "stream",
     "text": [
      "c:\\Users\\prath\\anaconda-new\\Lib\\site-packages\\anndata\\_core\\anndata.py:1791: UserWarning: Observation names are not unique. To make them unique, call `.obs_names_make_unique`.\n",
      "  utils.warn_names_duplicates(\"obs\")\n",
      "c:\\Users\\prath\\anaconda-new\\Lib\\site-packages\\anndata\\_core\\anndata.py:1793: UserWarning: Variable names are not unique. To make them unique, call `.var_names_make_unique`.\n",
      "  utils.warn_names_duplicates(\"var\")\n",
      "c:\\Users\\prath\\anaconda-new\\Lib\\site-packages\\scanpy\\_utils\\__init__.py:565: RuntimeWarning: overflow encountered in multiply\n",
      "  return x * y\n",
      "c:\\Users\\prath\\anaconda-new\\Lib\\site-packages\\scanpy\\preprocessing\\_highly_variable_genes.py:309: RuntimeWarning: invalid value encountered in log\n",
      "  dispersion = np.log(dispersion)\n",
      "c:\\Users\\prath\\anaconda-new\\Lib\\site-packages\\scanpy\\preprocessing\\_scale.py:199: RuntimeWarning: invalid value encountered in sqrt\n",
      "  std = np.sqrt(var)\n"
     ]
    },
    {
     "name": "stdout",
     "output_type": "stream",
     "text": [
      "❌ Error with adata_mean_imputed_mf30_run5.h5ad: Input X contains NaN.\n",
      "PCA does not accept missing values encoded as NaN natively. For supervised learning, you might want to consider sklearn.ensemble.HistGradientBoostingClassifier and Regressor which accept missing values encoded as NaNs natively. Alternatively, it is possible to preprocess the data, for instance by using an imputer transformer in a pipeline or drop samples with missing values. See https://scikit-learn.org/stable/modules/impute.html You can find a list of all estimators that handle NaN values at the following page: https://scikit-learn.org/stable/modules/impute.html#estimators-that-handle-nan-values\n"
     ]
    },
    {
     "name": "stderr",
     "output_type": "stream",
     "text": [
      "c:\\Users\\prath\\anaconda-new\\Lib\\site-packages\\anndata\\_core\\anndata.py:1791: UserWarning: Observation names are not unique. To make them unique, call `.obs_names_make_unique`.\n",
      "  utils.warn_names_duplicates(\"obs\")\n",
      "c:\\Users\\prath\\anaconda-new\\Lib\\site-packages\\anndata\\_core\\anndata.py:1793: UserWarning: Variable names are not unique. To make them unique, call `.var_names_make_unique`.\n",
      "  utils.warn_names_duplicates(\"var\")\n",
      "c:\\Users\\prath\\anaconda-new\\Lib\\site-packages\\scanpy\\preprocessing\\_highly_variable_genes.py:309: RuntimeWarning: invalid value encountered in log\n",
      "  dispersion = np.log(dispersion)\n"
     ]
    },
    {
     "name": "stdout",
     "output_type": "stream",
     "text": [
      "✅ Mean | adata_mean_imputed_mf30_run6.h5ad: ARI=0.381\n"
     ]
    },
    {
     "name": "stderr",
     "output_type": "stream",
     "text": [
      "c:\\Users\\prath\\anaconda-new\\Lib\\site-packages\\anndata\\_core\\anndata.py:1791: UserWarning: Observation names are not unique. To make them unique, call `.obs_names_make_unique`.\n",
      "  utils.warn_names_duplicates(\"obs\")\n",
      "c:\\Users\\prath\\anaconda-new\\Lib\\site-packages\\anndata\\_core\\anndata.py:1793: UserWarning: Variable names are not unique. To make them unique, call `.var_names_make_unique`.\n",
      "  utils.warn_names_duplicates(\"var\")\n",
      "c:\\Users\\prath\\anaconda-new\\Lib\\site-packages\\scanpy\\preprocessing\\_highly_variable_genes.py:309: RuntimeWarning: invalid value encountered in log\n",
      "  dispersion = np.log(dispersion)\n"
     ]
    },
    {
     "name": "stdout",
     "output_type": "stream",
     "text": [
      "✅ Mean | adata_mean_imputed_mf30_run7.h5ad: ARI=0.407\n"
     ]
    },
    {
     "name": "stderr",
     "output_type": "stream",
     "text": [
      "c:\\Users\\prath\\anaconda-new\\Lib\\site-packages\\anndata\\_core\\anndata.py:1791: UserWarning: Observation names are not unique. To make them unique, call `.obs_names_make_unique`.\n",
      "  utils.warn_names_duplicates(\"obs\")\n",
      "c:\\Users\\prath\\anaconda-new\\Lib\\site-packages\\anndata\\_core\\anndata.py:1793: UserWarning: Variable names are not unique. To make them unique, call `.var_names_make_unique`.\n",
      "  utils.warn_names_duplicates(\"var\")\n",
      "c:\\Users\\prath\\anaconda-new\\Lib\\site-packages\\scanpy\\_utils\\__init__.py:565: RuntimeWarning: overflow encountered in multiply\n",
      "  return x * y\n",
      "c:\\Users\\prath\\anaconda-new\\Lib\\site-packages\\scanpy\\preprocessing\\_highly_variable_genes.py:309: RuntimeWarning: invalid value encountered in log\n",
      "  dispersion = np.log(dispersion)\n",
      "c:\\Users\\prath\\anaconda-new\\Lib\\site-packages\\scanpy\\preprocessing\\_scale.py:199: RuntimeWarning: invalid value encountered in sqrt\n",
      "  std = np.sqrt(var)\n"
     ]
    },
    {
     "name": "stdout",
     "output_type": "stream",
     "text": [
      "❌ Error with adata_mean_imputed_mf30_run8.h5ad: Input X contains NaN.\n",
      "PCA does not accept missing values encoded as NaN natively. For supervised learning, you might want to consider sklearn.ensemble.HistGradientBoostingClassifier and Regressor which accept missing values encoded as NaNs natively. Alternatively, it is possible to preprocess the data, for instance by using an imputer transformer in a pipeline or drop samples with missing values. See https://scikit-learn.org/stable/modules/impute.html You can find a list of all estimators that handle NaN values at the following page: https://scikit-learn.org/stable/modules/impute.html#estimators-that-handle-nan-values\n"
     ]
    },
    {
     "name": "stderr",
     "output_type": "stream",
     "text": [
      "c:\\Users\\prath\\anaconda-new\\Lib\\site-packages\\anndata\\_core\\anndata.py:1791: UserWarning: Observation names are not unique. To make them unique, call `.obs_names_make_unique`.\n",
      "  utils.warn_names_duplicates(\"obs\")\n",
      "c:\\Users\\prath\\anaconda-new\\Lib\\site-packages\\anndata\\_core\\anndata.py:1793: UserWarning: Variable names are not unique. To make them unique, call `.var_names_make_unique`.\n",
      "  utils.warn_names_duplicates(\"var\")\n",
      "c:\\Users\\prath\\anaconda-new\\Lib\\site-packages\\scanpy\\_utils\\__init__.py:565: RuntimeWarning: overflow encountered in multiply\n",
      "  return x * y\n",
      "c:\\Users\\prath\\anaconda-new\\Lib\\site-packages\\scanpy\\preprocessing\\_highly_variable_genes.py:309: RuntimeWarning: invalid value encountered in log\n",
      "  dispersion = np.log(dispersion)\n",
      "c:\\Users\\prath\\anaconda-new\\Lib\\site-packages\\scanpy\\preprocessing\\_scale.py:199: RuntimeWarning: invalid value encountered in sqrt\n",
      "  std = np.sqrt(var)\n"
     ]
    },
    {
     "name": "stdout",
     "output_type": "stream",
     "text": [
      "❌ Error with adata_mean_imputed_mf30_run9.h5ad: Input X contains NaN.\n",
      "PCA does not accept missing values encoded as NaN natively. For supervised learning, you might want to consider sklearn.ensemble.HistGradientBoostingClassifier and Regressor which accept missing values encoded as NaNs natively. Alternatively, it is possible to preprocess the data, for instance by using an imputer transformer in a pipeline or drop samples with missing values. See https://scikit-learn.org/stable/modules/impute.html You can find a list of all estimators that handle NaN values at the following page: https://scikit-learn.org/stable/modules/impute.html#estimators-that-handle-nan-values\n",
      "\n",
      "🔹 Processing method: GAN\n"
     ]
    },
    {
     "name": "stderr",
     "output_type": "stream",
     "text": [
      "c:\\Users\\prath\\anaconda-new\\Lib\\site-packages\\anndata\\_core\\anndata.py:1791: UserWarning: Observation names are not unique. To make them unique, call `.obs_names_make_unique`.\n",
      "  utils.warn_names_duplicates(\"obs\")\n",
      "c:\\Users\\prath\\anaconda-new\\Lib\\site-packages\\anndata\\_core\\anndata.py:1793: UserWarning: Variable names are not unique. To make them unique, call `.var_names_make_unique`.\n",
      "  utils.warn_names_duplicates(\"var\")\n",
      "c:\\Users\\prath\\anaconda-new\\Lib\\functools.py:909: UserWarning: zero-centering a sparse array/matrix densifies it.\n",
      "  return dispatch(args[0].__class__)(*args, **kw)\n"
     ]
    },
    {
     "name": "stdout",
     "output_type": "stream",
     "text": [
      "✅ GAN | adata_adata_gan_imputed_mf10_run1.h5ad: ARI=0.477\n"
     ]
    },
    {
     "name": "stderr",
     "output_type": "stream",
     "text": [
      "c:\\Users\\prath\\anaconda-new\\Lib\\site-packages\\anndata\\_core\\anndata.py:1791: UserWarning: Observation names are not unique. To make them unique, call `.obs_names_make_unique`.\n",
      "  utils.warn_names_duplicates(\"obs\")\n",
      "c:\\Users\\prath\\anaconda-new\\Lib\\site-packages\\anndata\\_core\\anndata.py:1793: UserWarning: Variable names are not unique. To make them unique, call `.var_names_make_unique`.\n",
      "  utils.warn_names_duplicates(\"var\")\n",
      "c:\\Users\\prath\\anaconda-new\\Lib\\functools.py:909: UserWarning: zero-centering a sparse array/matrix densifies it.\n",
      "  return dispatch(args[0].__class__)(*args, **kw)\n"
     ]
    },
    {
     "name": "stdout",
     "output_type": "stream",
     "text": [
      "✅ GAN | adata_adata_gan_imputed_mf10_run10.h5ad: ARI=0.483\n"
     ]
    },
    {
     "name": "stderr",
     "output_type": "stream",
     "text": [
      "c:\\Users\\prath\\anaconda-new\\Lib\\site-packages\\anndata\\_core\\anndata.py:1791: UserWarning: Observation names are not unique. To make them unique, call `.obs_names_make_unique`.\n",
      "  utils.warn_names_duplicates(\"obs\")\n",
      "c:\\Users\\prath\\anaconda-new\\Lib\\site-packages\\anndata\\_core\\anndata.py:1793: UserWarning: Variable names are not unique. To make them unique, call `.var_names_make_unique`.\n",
      "  utils.warn_names_duplicates(\"var\")\n",
      "c:\\Users\\prath\\anaconda-new\\Lib\\functools.py:909: UserWarning: zero-centering a sparse array/matrix densifies it.\n",
      "  return dispatch(args[0].__class__)(*args, **kw)\n"
     ]
    },
    {
     "name": "stdout",
     "output_type": "stream",
     "text": [
      "✅ GAN | adata_adata_gan_imputed_mf10_run2.h5ad: ARI=0.567\n"
     ]
    },
    {
     "name": "stderr",
     "output_type": "stream",
     "text": [
      "c:\\Users\\prath\\anaconda-new\\Lib\\site-packages\\anndata\\_core\\anndata.py:1791: UserWarning: Observation names are not unique. To make them unique, call `.obs_names_make_unique`.\n",
      "  utils.warn_names_duplicates(\"obs\")\n",
      "c:\\Users\\prath\\anaconda-new\\Lib\\site-packages\\anndata\\_core\\anndata.py:1793: UserWarning: Variable names are not unique. To make them unique, call `.var_names_make_unique`.\n",
      "  utils.warn_names_duplicates(\"var\")\n",
      "c:\\Users\\prath\\anaconda-new\\Lib\\functools.py:909: UserWarning: zero-centering a sparse array/matrix densifies it.\n",
      "  return dispatch(args[0].__class__)(*args, **kw)\n"
     ]
    },
    {
     "name": "stdout",
     "output_type": "stream",
     "text": [
      "✅ GAN | adata_adata_gan_imputed_mf10_run3.h5ad: ARI=0.509\n"
     ]
    },
    {
     "name": "stderr",
     "output_type": "stream",
     "text": [
      "c:\\Users\\prath\\anaconda-new\\Lib\\site-packages\\anndata\\_core\\anndata.py:1791: UserWarning: Observation names are not unique. To make them unique, call `.obs_names_make_unique`.\n",
      "  utils.warn_names_duplicates(\"obs\")\n",
      "c:\\Users\\prath\\anaconda-new\\Lib\\site-packages\\anndata\\_core\\anndata.py:1793: UserWarning: Variable names are not unique. To make them unique, call `.var_names_make_unique`.\n",
      "  utils.warn_names_duplicates(\"var\")\n",
      "c:\\Users\\prath\\anaconda-new\\Lib\\functools.py:909: UserWarning: zero-centering a sparse array/matrix densifies it.\n",
      "  return dispatch(args[0].__class__)(*args, **kw)\n"
     ]
    },
    {
     "name": "stdout",
     "output_type": "stream",
     "text": [
      "✅ GAN | adata_adata_gan_imputed_mf10_run4.h5ad: ARI=0.467\n"
     ]
    },
    {
     "name": "stderr",
     "output_type": "stream",
     "text": [
      "c:\\Users\\prath\\anaconda-new\\Lib\\site-packages\\anndata\\_core\\anndata.py:1791: UserWarning: Observation names are not unique. To make them unique, call `.obs_names_make_unique`.\n",
      "  utils.warn_names_duplicates(\"obs\")\n",
      "c:\\Users\\prath\\anaconda-new\\Lib\\site-packages\\anndata\\_core\\anndata.py:1793: UserWarning: Variable names are not unique. To make them unique, call `.var_names_make_unique`.\n",
      "  utils.warn_names_duplicates(\"var\")\n",
      "c:\\Users\\prath\\anaconda-new\\Lib\\functools.py:909: UserWarning: zero-centering a sparse array/matrix densifies it.\n",
      "  return dispatch(args[0].__class__)(*args, **kw)\n"
     ]
    },
    {
     "name": "stdout",
     "output_type": "stream",
     "text": [
      "✅ GAN | adata_adata_gan_imputed_mf10_run5.h5ad: ARI=0.506\n"
     ]
    },
    {
     "name": "stderr",
     "output_type": "stream",
     "text": [
      "c:\\Users\\prath\\anaconda-new\\Lib\\site-packages\\anndata\\_core\\anndata.py:1791: UserWarning: Observation names are not unique. To make them unique, call `.obs_names_make_unique`.\n",
      "  utils.warn_names_duplicates(\"obs\")\n",
      "c:\\Users\\prath\\anaconda-new\\Lib\\site-packages\\anndata\\_core\\anndata.py:1793: UserWarning: Variable names are not unique. To make them unique, call `.var_names_make_unique`.\n",
      "  utils.warn_names_duplicates(\"var\")\n",
      "c:\\Users\\prath\\anaconda-new\\Lib\\functools.py:909: UserWarning: zero-centering a sparse array/matrix densifies it.\n",
      "  return dispatch(args[0].__class__)(*args, **kw)\n"
     ]
    },
    {
     "name": "stdout",
     "output_type": "stream",
     "text": [
      "✅ GAN | adata_adata_gan_imputed_mf10_run6.h5ad: ARI=0.500\n"
     ]
    },
    {
     "name": "stderr",
     "output_type": "stream",
     "text": [
      "c:\\Users\\prath\\anaconda-new\\Lib\\site-packages\\anndata\\_core\\anndata.py:1791: UserWarning: Observation names are not unique. To make them unique, call `.obs_names_make_unique`.\n",
      "  utils.warn_names_duplicates(\"obs\")\n",
      "c:\\Users\\prath\\anaconda-new\\Lib\\site-packages\\anndata\\_core\\anndata.py:1793: UserWarning: Variable names are not unique. To make them unique, call `.var_names_make_unique`.\n",
      "  utils.warn_names_duplicates(\"var\")\n",
      "c:\\Users\\prath\\anaconda-new\\Lib\\functools.py:909: UserWarning: zero-centering a sparse array/matrix densifies it.\n",
      "  return dispatch(args[0].__class__)(*args, **kw)\n"
     ]
    },
    {
     "name": "stdout",
     "output_type": "stream",
     "text": [
      "✅ GAN | adata_adata_gan_imputed_mf10_run7.h5ad: ARI=0.559\n"
     ]
    },
    {
     "name": "stderr",
     "output_type": "stream",
     "text": [
      "c:\\Users\\prath\\anaconda-new\\Lib\\site-packages\\anndata\\_core\\anndata.py:1791: UserWarning: Observation names are not unique. To make them unique, call `.obs_names_make_unique`.\n",
      "  utils.warn_names_duplicates(\"obs\")\n",
      "c:\\Users\\prath\\anaconda-new\\Lib\\site-packages\\anndata\\_core\\anndata.py:1793: UserWarning: Variable names are not unique. To make them unique, call `.var_names_make_unique`.\n",
      "  utils.warn_names_duplicates(\"var\")\n",
      "c:\\Users\\prath\\anaconda-new\\Lib\\functools.py:909: UserWarning: zero-centering a sparse array/matrix densifies it.\n",
      "  return dispatch(args[0].__class__)(*args, **kw)\n"
     ]
    },
    {
     "name": "stdout",
     "output_type": "stream",
     "text": [
      "✅ GAN | adata_adata_gan_imputed_mf10_run8.h5ad: ARI=0.526\n"
     ]
    },
    {
     "name": "stderr",
     "output_type": "stream",
     "text": [
      "c:\\Users\\prath\\anaconda-new\\Lib\\site-packages\\anndata\\_core\\anndata.py:1791: UserWarning: Observation names are not unique. To make them unique, call `.obs_names_make_unique`.\n",
      "  utils.warn_names_duplicates(\"obs\")\n",
      "c:\\Users\\prath\\anaconda-new\\Lib\\site-packages\\anndata\\_core\\anndata.py:1793: UserWarning: Variable names are not unique. To make them unique, call `.var_names_make_unique`.\n",
      "  utils.warn_names_duplicates(\"var\")\n",
      "c:\\Users\\prath\\anaconda-new\\Lib\\functools.py:909: UserWarning: zero-centering a sparse array/matrix densifies it.\n",
      "  return dispatch(args[0].__class__)(*args, **kw)\n"
     ]
    },
    {
     "name": "stdout",
     "output_type": "stream",
     "text": [
      "✅ GAN | adata_adata_gan_imputed_mf10_run9.h5ad: ARI=0.516\n"
     ]
    },
    {
     "name": "stderr",
     "output_type": "stream",
     "text": [
      "c:\\Users\\prath\\anaconda-new\\Lib\\site-packages\\anndata\\_core\\anndata.py:1791: UserWarning: Observation names are not unique. To make them unique, call `.obs_names_make_unique`.\n",
      "  utils.warn_names_duplicates(\"obs\")\n",
      "c:\\Users\\prath\\anaconda-new\\Lib\\site-packages\\anndata\\_core\\anndata.py:1793: UserWarning: Variable names are not unique. To make them unique, call `.var_names_make_unique`.\n",
      "  utils.warn_names_duplicates(\"var\")\n",
      "c:\\Users\\prath\\anaconda-new\\Lib\\functools.py:909: UserWarning: zero-centering a sparse array/matrix densifies it.\n",
      "  return dispatch(args[0].__class__)(*args, **kw)\n"
     ]
    },
    {
     "name": "stdout",
     "output_type": "stream",
     "text": [
      "✅ GAN | adata_adata_gan_imputed_mf20_run1.h5ad: ARI=0.383\n"
     ]
    },
    {
     "name": "stderr",
     "output_type": "stream",
     "text": [
      "c:\\Users\\prath\\anaconda-new\\Lib\\site-packages\\anndata\\_core\\anndata.py:1791: UserWarning: Observation names are not unique. To make them unique, call `.obs_names_make_unique`.\n",
      "  utils.warn_names_duplicates(\"obs\")\n",
      "c:\\Users\\prath\\anaconda-new\\Lib\\site-packages\\anndata\\_core\\anndata.py:1793: UserWarning: Variable names are not unique. To make them unique, call `.var_names_make_unique`.\n",
      "  utils.warn_names_duplicates(\"var\")\n",
      "c:\\Users\\prath\\anaconda-new\\Lib\\functools.py:909: UserWarning: zero-centering a sparse array/matrix densifies it.\n",
      "  return dispatch(args[0].__class__)(*args, **kw)\n"
     ]
    },
    {
     "name": "stdout",
     "output_type": "stream",
     "text": [
      "✅ GAN | adata_adata_gan_imputed_mf20_run10.h5ad: ARI=0.348\n"
     ]
    },
    {
     "name": "stderr",
     "output_type": "stream",
     "text": [
      "c:\\Users\\prath\\anaconda-new\\Lib\\site-packages\\anndata\\_core\\anndata.py:1791: UserWarning: Observation names are not unique. To make them unique, call `.obs_names_make_unique`.\n",
      "  utils.warn_names_duplicates(\"obs\")\n",
      "c:\\Users\\prath\\anaconda-new\\Lib\\site-packages\\anndata\\_core\\anndata.py:1793: UserWarning: Variable names are not unique. To make them unique, call `.var_names_make_unique`.\n",
      "  utils.warn_names_duplicates(\"var\")\n",
      "c:\\Users\\prath\\anaconda-new\\Lib\\functools.py:909: UserWarning: zero-centering a sparse array/matrix densifies it.\n",
      "  return dispatch(args[0].__class__)(*args, **kw)\n"
     ]
    },
    {
     "name": "stdout",
     "output_type": "stream",
     "text": [
      "✅ GAN | adata_adata_gan_imputed_mf20_run2.h5ad: ARI=0.347\n"
     ]
    },
    {
     "name": "stderr",
     "output_type": "stream",
     "text": [
      "c:\\Users\\prath\\anaconda-new\\Lib\\site-packages\\anndata\\_core\\anndata.py:1791: UserWarning: Observation names are not unique. To make them unique, call `.obs_names_make_unique`.\n",
      "  utils.warn_names_duplicates(\"obs\")\n",
      "c:\\Users\\prath\\anaconda-new\\Lib\\site-packages\\anndata\\_core\\anndata.py:1793: UserWarning: Variable names are not unique. To make them unique, call `.var_names_make_unique`.\n",
      "  utils.warn_names_duplicates(\"var\")\n",
      "c:\\Users\\prath\\anaconda-new\\Lib\\functools.py:909: UserWarning: zero-centering a sparse array/matrix densifies it.\n",
      "  return dispatch(args[0].__class__)(*args, **kw)\n"
     ]
    },
    {
     "name": "stdout",
     "output_type": "stream",
     "text": [
      "✅ GAN | adata_adata_gan_imputed_mf20_run3.h5ad: ARI=0.374\n"
     ]
    },
    {
     "name": "stderr",
     "output_type": "stream",
     "text": [
      "c:\\Users\\prath\\anaconda-new\\Lib\\site-packages\\anndata\\_core\\anndata.py:1791: UserWarning: Observation names are not unique. To make them unique, call `.obs_names_make_unique`.\n",
      "  utils.warn_names_duplicates(\"obs\")\n",
      "c:\\Users\\prath\\anaconda-new\\Lib\\site-packages\\anndata\\_core\\anndata.py:1793: UserWarning: Variable names are not unique. To make them unique, call `.var_names_make_unique`.\n",
      "  utils.warn_names_duplicates(\"var\")\n",
      "c:\\Users\\prath\\anaconda-new\\Lib\\functools.py:909: UserWarning: zero-centering a sparse array/matrix densifies it.\n",
      "  return dispatch(args[0].__class__)(*args, **kw)\n"
     ]
    },
    {
     "name": "stdout",
     "output_type": "stream",
     "text": [
      "✅ GAN | adata_adata_gan_imputed_mf20_run4.h5ad: ARI=0.408\n"
     ]
    },
    {
     "name": "stderr",
     "output_type": "stream",
     "text": [
      "c:\\Users\\prath\\anaconda-new\\Lib\\site-packages\\anndata\\_core\\anndata.py:1791: UserWarning: Observation names are not unique. To make them unique, call `.obs_names_make_unique`.\n",
      "  utils.warn_names_duplicates(\"obs\")\n",
      "c:\\Users\\prath\\anaconda-new\\Lib\\site-packages\\anndata\\_core\\anndata.py:1793: UserWarning: Variable names are not unique. To make them unique, call `.var_names_make_unique`.\n",
      "  utils.warn_names_duplicates(\"var\")\n",
      "c:\\Users\\prath\\anaconda-new\\Lib\\functools.py:909: UserWarning: zero-centering a sparse array/matrix densifies it.\n",
      "  return dispatch(args[0].__class__)(*args, **kw)\n"
     ]
    },
    {
     "name": "stdout",
     "output_type": "stream",
     "text": [
      "✅ GAN | adata_adata_gan_imputed_mf20_run5.h5ad: ARI=0.379\n"
     ]
    },
    {
     "name": "stderr",
     "output_type": "stream",
     "text": [
      "c:\\Users\\prath\\anaconda-new\\Lib\\site-packages\\anndata\\_core\\anndata.py:1791: UserWarning: Observation names are not unique. To make them unique, call `.obs_names_make_unique`.\n",
      "  utils.warn_names_duplicates(\"obs\")\n",
      "c:\\Users\\prath\\anaconda-new\\Lib\\site-packages\\anndata\\_core\\anndata.py:1793: UserWarning: Variable names are not unique. To make them unique, call `.var_names_make_unique`.\n",
      "  utils.warn_names_duplicates(\"var\")\n",
      "c:\\Users\\prath\\anaconda-new\\Lib\\functools.py:909: UserWarning: zero-centering a sparse array/matrix densifies it.\n",
      "  return dispatch(args[0].__class__)(*args, **kw)\n"
     ]
    },
    {
     "name": "stdout",
     "output_type": "stream",
     "text": [
      "✅ GAN | adata_adata_gan_imputed_mf20_run6.h5ad: ARI=0.348\n"
     ]
    },
    {
     "name": "stderr",
     "output_type": "stream",
     "text": [
      "c:\\Users\\prath\\anaconda-new\\Lib\\site-packages\\anndata\\_core\\anndata.py:1791: UserWarning: Observation names are not unique. To make them unique, call `.obs_names_make_unique`.\n",
      "  utils.warn_names_duplicates(\"obs\")\n",
      "c:\\Users\\prath\\anaconda-new\\Lib\\site-packages\\anndata\\_core\\anndata.py:1793: UserWarning: Variable names are not unique. To make them unique, call `.var_names_make_unique`.\n",
      "  utils.warn_names_duplicates(\"var\")\n",
      "c:\\Users\\prath\\anaconda-new\\Lib\\functools.py:909: UserWarning: zero-centering a sparse array/matrix densifies it.\n",
      "  return dispatch(args[0].__class__)(*args, **kw)\n"
     ]
    },
    {
     "name": "stdout",
     "output_type": "stream",
     "text": [
      "✅ GAN | adata_adata_gan_imputed_mf20_run7.h5ad: ARI=0.377\n"
     ]
    },
    {
     "name": "stderr",
     "output_type": "stream",
     "text": [
      "c:\\Users\\prath\\anaconda-new\\Lib\\site-packages\\anndata\\_core\\anndata.py:1791: UserWarning: Observation names are not unique. To make them unique, call `.obs_names_make_unique`.\n",
      "  utils.warn_names_duplicates(\"obs\")\n",
      "c:\\Users\\prath\\anaconda-new\\Lib\\site-packages\\anndata\\_core\\anndata.py:1793: UserWarning: Variable names are not unique. To make them unique, call `.var_names_make_unique`.\n",
      "  utils.warn_names_duplicates(\"var\")\n",
      "c:\\Users\\prath\\anaconda-new\\Lib\\functools.py:909: UserWarning: zero-centering a sparse array/matrix densifies it.\n",
      "  return dispatch(args[0].__class__)(*args, **kw)\n"
     ]
    },
    {
     "name": "stdout",
     "output_type": "stream",
     "text": [
      "✅ GAN | adata_adata_gan_imputed_mf20_run8.h5ad: ARI=0.370\n"
     ]
    },
    {
     "name": "stderr",
     "output_type": "stream",
     "text": [
      "c:\\Users\\prath\\anaconda-new\\Lib\\site-packages\\anndata\\_core\\anndata.py:1791: UserWarning: Observation names are not unique. To make them unique, call `.obs_names_make_unique`.\n",
      "  utils.warn_names_duplicates(\"obs\")\n",
      "c:\\Users\\prath\\anaconda-new\\Lib\\site-packages\\anndata\\_core\\anndata.py:1793: UserWarning: Variable names are not unique. To make them unique, call `.var_names_make_unique`.\n",
      "  utils.warn_names_duplicates(\"var\")\n",
      "c:\\Users\\prath\\anaconda-new\\Lib\\functools.py:909: UserWarning: zero-centering a sparse array/matrix densifies it.\n",
      "  return dispatch(args[0].__class__)(*args, **kw)\n"
     ]
    },
    {
     "name": "stdout",
     "output_type": "stream",
     "text": [
      "✅ GAN | adata_adata_gan_imputed_mf20_run9.h5ad: ARI=0.329\n"
     ]
    },
    {
     "name": "stderr",
     "output_type": "stream",
     "text": [
      "c:\\Users\\prath\\anaconda-new\\Lib\\site-packages\\anndata\\_core\\anndata.py:1791: UserWarning: Observation names are not unique. To make them unique, call `.obs_names_make_unique`.\n",
      "  utils.warn_names_duplicates(\"obs\")\n",
      "c:\\Users\\prath\\anaconda-new\\Lib\\site-packages\\anndata\\_core\\anndata.py:1793: UserWarning: Variable names are not unique. To make them unique, call `.var_names_make_unique`.\n",
      "  utils.warn_names_duplicates(\"var\")\n",
      "c:\\Users\\prath\\anaconda-new\\Lib\\functools.py:909: UserWarning: zero-centering a sparse array/matrix densifies it.\n",
      "  return dispatch(args[0].__class__)(*args, **kw)\n"
     ]
    },
    {
     "name": "stdout",
     "output_type": "stream",
     "text": [
      "✅ GAN | adata_adata_gan_imputed_mf30_run1.h5ad: ARI=0.238\n"
     ]
    },
    {
     "name": "stderr",
     "output_type": "stream",
     "text": [
      "c:\\Users\\prath\\anaconda-new\\Lib\\site-packages\\anndata\\_core\\anndata.py:1791: UserWarning: Observation names are not unique. To make them unique, call `.obs_names_make_unique`.\n",
      "  utils.warn_names_duplicates(\"obs\")\n",
      "c:\\Users\\prath\\anaconda-new\\Lib\\site-packages\\anndata\\_core\\anndata.py:1793: UserWarning: Variable names are not unique. To make them unique, call `.var_names_make_unique`.\n",
      "  utils.warn_names_duplicates(\"var\")\n",
      "c:\\Users\\prath\\anaconda-new\\Lib\\functools.py:909: UserWarning: zero-centering a sparse array/matrix densifies it.\n",
      "  return dispatch(args[0].__class__)(*args, **kw)\n"
     ]
    },
    {
     "name": "stdout",
     "output_type": "stream",
     "text": [
      "✅ GAN | adata_adata_gan_imputed_mf30_run10.h5ad: ARI=0.247\n"
     ]
    },
    {
     "name": "stderr",
     "output_type": "stream",
     "text": [
      "c:\\Users\\prath\\anaconda-new\\Lib\\site-packages\\anndata\\_core\\anndata.py:1791: UserWarning: Observation names are not unique. To make them unique, call `.obs_names_make_unique`.\n",
      "  utils.warn_names_duplicates(\"obs\")\n",
      "c:\\Users\\prath\\anaconda-new\\Lib\\site-packages\\anndata\\_core\\anndata.py:1793: UserWarning: Variable names are not unique. To make them unique, call `.var_names_make_unique`.\n",
      "  utils.warn_names_duplicates(\"var\")\n",
      "c:\\Users\\prath\\anaconda-new\\Lib\\functools.py:909: UserWarning: zero-centering a sparse array/matrix densifies it.\n",
      "  return dispatch(args[0].__class__)(*args, **kw)\n"
     ]
    },
    {
     "name": "stdout",
     "output_type": "stream",
     "text": [
      "✅ GAN | adata_adata_gan_imputed_mf30_run2.h5ad: ARI=0.241\n"
     ]
    },
    {
     "name": "stderr",
     "output_type": "stream",
     "text": [
      "c:\\Users\\prath\\anaconda-new\\Lib\\site-packages\\anndata\\_core\\anndata.py:1791: UserWarning: Observation names are not unique. To make them unique, call `.obs_names_make_unique`.\n",
      "  utils.warn_names_duplicates(\"obs\")\n",
      "c:\\Users\\prath\\anaconda-new\\Lib\\site-packages\\anndata\\_core\\anndata.py:1793: UserWarning: Variable names are not unique. To make them unique, call `.var_names_make_unique`.\n",
      "  utils.warn_names_duplicates(\"var\")\n",
      "c:\\Users\\prath\\anaconda-new\\Lib\\functools.py:909: UserWarning: zero-centering a sparse array/matrix densifies it.\n",
      "  return dispatch(args[0].__class__)(*args, **kw)\n"
     ]
    },
    {
     "name": "stdout",
     "output_type": "stream",
     "text": [
      "✅ GAN | adata_adata_gan_imputed_mf30_run3.h5ad: ARI=0.249\n"
     ]
    },
    {
     "name": "stderr",
     "output_type": "stream",
     "text": [
      "c:\\Users\\prath\\anaconda-new\\Lib\\site-packages\\anndata\\_core\\anndata.py:1791: UserWarning: Observation names are not unique. To make them unique, call `.obs_names_make_unique`.\n",
      "  utils.warn_names_duplicates(\"obs\")\n",
      "c:\\Users\\prath\\anaconda-new\\Lib\\site-packages\\anndata\\_core\\anndata.py:1793: UserWarning: Variable names are not unique. To make them unique, call `.var_names_make_unique`.\n",
      "  utils.warn_names_duplicates(\"var\")\n",
      "c:\\Users\\prath\\anaconda-new\\Lib\\functools.py:909: UserWarning: zero-centering a sparse array/matrix densifies it.\n",
      "  return dispatch(args[0].__class__)(*args, **kw)\n"
     ]
    },
    {
     "name": "stdout",
     "output_type": "stream",
     "text": [
      "✅ GAN | adata_adata_gan_imputed_mf30_run4.h5ad: ARI=0.291\n"
     ]
    },
    {
     "name": "stderr",
     "output_type": "stream",
     "text": [
      "c:\\Users\\prath\\anaconda-new\\Lib\\site-packages\\anndata\\_core\\anndata.py:1791: UserWarning: Observation names are not unique. To make them unique, call `.obs_names_make_unique`.\n",
      "  utils.warn_names_duplicates(\"obs\")\n",
      "c:\\Users\\prath\\anaconda-new\\Lib\\site-packages\\anndata\\_core\\anndata.py:1793: UserWarning: Variable names are not unique. To make them unique, call `.var_names_make_unique`.\n",
      "  utils.warn_names_duplicates(\"var\")\n",
      "c:\\Users\\prath\\anaconda-new\\Lib\\functools.py:909: UserWarning: zero-centering a sparse array/matrix densifies it.\n",
      "  return dispatch(args[0].__class__)(*args, **kw)\n"
     ]
    },
    {
     "name": "stdout",
     "output_type": "stream",
     "text": [
      "✅ GAN | adata_adata_gan_imputed_mf30_run5.h5ad: ARI=0.245\n"
     ]
    },
    {
     "name": "stderr",
     "output_type": "stream",
     "text": [
      "c:\\Users\\prath\\anaconda-new\\Lib\\site-packages\\anndata\\_core\\anndata.py:1791: UserWarning: Observation names are not unique. To make them unique, call `.obs_names_make_unique`.\n",
      "  utils.warn_names_duplicates(\"obs\")\n",
      "c:\\Users\\prath\\anaconda-new\\Lib\\site-packages\\anndata\\_core\\anndata.py:1793: UserWarning: Variable names are not unique. To make them unique, call `.var_names_make_unique`.\n",
      "  utils.warn_names_duplicates(\"var\")\n",
      "c:\\Users\\prath\\anaconda-new\\Lib\\functools.py:909: UserWarning: zero-centering a sparse array/matrix densifies it.\n",
      "  return dispatch(args[0].__class__)(*args, **kw)\n"
     ]
    },
    {
     "name": "stdout",
     "output_type": "stream",
     "text": [
      "✅ GAN | adata_adata_gan_imputed_mf30_run6.h5ad: ARI=0.275\n"
     ]
    },
    {
     "name": "stderr",
     "output_type": "stream",
     "text": [
      "c:\\Users\\prath\\anaconda-new\\Lib\\site-packages\\anndata\\_core\\anndata.py:1791: UserWarning: Observation names are not unique. To make them unique, call `.obs_names_make_unique`.\n",
      "  utils.warn_names_duplicates(\"obs\")\n",
      "c:\\Users\\prath\\anaconda-new\\Lib\\site-packages\\anndata\\_core\\anndata.py:1793: UserWarning: Variable names are not unique. To make them unique, call `.var_names_make_unique`.\n",
      "  utils.warn_names_duplicates(\"var\")\n",
      "c:\\Users\\prath\\anaconda-new\\Lib\\functools.py:909: UserWarning: zero-centering a sparse array/matrix densifies it.\n",
      "  return dispatch(args[0].__class__)(*args, **kw)\n"
     ]
    },
    {
     "name": "stdout",
     "output_type": "stream",
     "text": [
      "✅ GAN | adata_adata_gan_imputed_mf30_run7.h5ad: ARI=0.241\n"
     ]
    },
    {
     "name": "stderr",
     "output_type": "stream",
     "text": [
      "c:\\Users\\prath\\anaconda-new\\Lib\\site-packages\\anndata\\_core\\anndata.py:1791: UserWarning: Observation names are not unique. To make them unique, call `.obs_names_make_unique`.\n",
      "  utils.warn_names_duplicates(\"obs\")\n",
      "c:\\Users\\prath\\anaconda-new\\Lib\\site-packages\\anndata\\_core\\anndata.py:1793: UserWarning: Variable names are not unique. To make them unique, call `.var_names_make_unique`.\n",
      "  utils.warn_names_duplicates(\"var\")\n",
      "c:\\Users\\prath\\anaconda-new\\Lib\\functools.py:909: UserWarning: zero-centering a sparse array/matrix densifies it.\n",
      "  return dispatch(args[0].__class__)(*args, **kw)\n"
     ]
    },
    {
     "name": "stdout",
     "output_type": "stream",
     "text": [
      "✅ GAN | adata_adata_gan_imputed_mf30_run8.h5ad: ARI=0.267\n"
     ]
    },
    {
     "name": "stderr",
     "output_type": "stream",
     "text": [
      "c:\\Users\\prath\\anaconda-new\\Lib\\site-packages\\anndata\\_core\\anndata.py:1791: UserWarning: Observation names are not unique. To make them unique, call `.obs_names_make_unique`.\n",
      "  utils.warn_names_duplicates(\"obs\")\n",
      "c:\\Users\\prath\\anaconda-new\\Lib\\site-packages\\anndata\\_core\\anndata.py:1793: UserWarning: Variable names are not unique. To make them unique, call `.var_names_make_unique`.\n",
      "  utils.warn_names_duplicates(\"var\")\n",
      "c:\\Users\\prath\\anaconda-new\\Lib\\functools.py:909: UserWarning: zero-centering a sparse array/matrix densifies it.\n",
      "  return dispatch(args[0].__class__)(*args, **kw)\n"
     ]
    },
    {
     "name": "stdout",
     "output_type": "stream",
     "text": [
      "✅ GAN | adata_adata_gan_imputed_mf30_run9.h5ad: ARI=0.257\n",
      "\n",
      "🔹 Processing method: Iterative\n"
     ]
    },
    {
     "name": "stderr",
     "output_type": "stream",
     "text": [
      "c:\\Users\\prath\\anaconda-new\\Lib\\site-packages\\scanpy\\preprocessing\\_highly_variable_genes.py:309: RuntimeWarning: invalid value encountered in log\n",
      "  dispersion = np.log(dispersion)\n"
     ]
    },
    {
     "name": "stdout",
     "output_type": "stream",
     "text": [
      "✅ Iterative | adata_iterative_imputed_mf10_run1.h5ad: ARI=0.428\n"
     ]
    },
    {
     "name": "stderr",
     "output_type": "stream",
     "text": [
      "c:\\Users\\prath\\anaconda-new\\Lib\\site-packages\\scanpy\\preprocessing\\_highly_variable_genes.py:309: RuntimeWarning: invalid value encountered in log\n",
      "  dispersion = np.log(dispersion)\n"
     ]
    },
    {
     "name": "stdout",
     "output_type": "stream",
     "text": [
      "✅ Iterative | adata_iterative_imputed_mf10_run10.h5ad: ARI=0.415\n"
     ]
    },
    {
     "name": "stderr",
     "output_type": "stream",
     "text": [
      "c:\\Users\\prath\\anaconda-new\\Lib\\site-packages\\scanpy\\preprocessing\\_highly_variable_genes.py:309: RuntimeWarning: invalid value encountered in log\n",
      "  dispersion = np.log(dispersion)\n"
     ]
    },
    {
     "name": "stdout",
     "output_type": "stream",
     "text": [
      "✅ Iterative | adata_iterative_imputed_mf10_run2.h5ad: ARI=0.412\n"
     ]
    },
    {
     "name": "stderr",
     "output_type": "stream",
     "text": [
      "c:\\Users\\prath\\anaconda-new\\Lib\\site-packages\\scanpy\\preprocessing\\_highly_variable_genes.py:309: RuntimeWarning: invalid value encountered in log\n",
      "  dispersion = np.log(dispersion)\n"
     ]
    },
    {
     "name": "stdout",
     "output_type": "stream",
     "text": [
      "✅ Iterative | adata_iterative_imputed_mf10_run3.h5ad: ARI=0.391\n"
     ]
    },
    {
     "name": "stderr",
     "output_type": "stream",
     "text": [
      "c:\\Users\\prath\\anaconda-new\\Lib\\site-packages\\scanpy\\preprocessing\\_highly_variable_genes.py:309: RuntimeWarning: invalid value encountered in log\n",
      "  dispersion = np.log(dispersion)\n"
     ]
    },
    {
     "name": "stdout",
     "output_type": "stream",
     "text": [
      "✅ Iterative | adata_iterative_imputed_mf10_run4.h5ad: ARI=0.394\n"
     ]
    },
    {
     "name": "stderr",
     "output_type": "stream",
     "text": [
      "c:\\Users\\prath\\anaconda-new\\Lib\\site-packages\\scanpy\\preprocessing\\_highly_variable_genes.py:309: RuntimeWarning: invalid value encountered in log\n",
      "  dispersion = np.log(dispersion)\n"
     ]
    },
    {
     "name": "stdout",
     "output_type": "stream",
     "text": [
      "✅ Iterative | adata_iterative_imputed_mf10_run5.h5ad: ARI=0.428\n"
     ]
    },
    {
     "name": "stderr",
     "output_type": "stream",
     "text": [
      "c:\\Users\\prath\\anaconda-new\\Lib\\site-packages\\scanpy\\preprocessing\\_highly_variable_genes.py:309: RuntimeWarning: invalid value encountered in log\n",
      "  dispersion = np.log(dispersion)\n"
     ]
    },
    {
     "name": "stdout",
     "output_type": "stream",
     "text": [
      "✅ Iterative | adata_iterative_imputed_mf10_run6.h5ad: ARI=0.420\n"
     ]
    },
    {
     "name": "stderr",
     "output_type": "stream",
     "text": [
      "c:\\Users\\prath\\anaconda-new\\Lib\\site-packages\\scanpy\\preprocessing\\_highly_variable_genes.py:309: RuntimeWarning: invalid value encountered in log\n",
      "  dispersion = np.log(dispersion)\n"
     ]
    },
    {
     "name": "stdout",
     "output_type": "stream",
     "text": [
      "✅ Iterative | adata_iterative_imputed_mf10_run7.h5ad: ARI=0.355\n"
     ]
    },
    {
     "name": "stderr",
     "output_type": "stream",
     "text": [
      "c:\\Users\\prath\\anaconda-new\\Lib\\site-packages\\scanpy\\preprocessing\\_highly_variable_genes.py:309: RuntimeWarning: invalid value encountered in log\n",
      "  dispersion = np.log(dispersion)\n"
     ]
    },
    {
     "name": "stdout",
     "output_type": "stream",
     "text": [
      "✅ Iterative | adata_iterative_imputed_mf10_run8.h5ad: ARI=0.412\n"
     ]
    },
    {
     "name": "stderr",
     "output_type": "stream",
     "text": [
      "c:\\Users\\prath\\anaconda-new\\Lib\\site-packages\\scanpy\\preprocessing\\_highly_variable_genes.py:309: RuntimeWarning: invalid value encountered in log\n",
      "  dispersion = np.log(dispersion)\n"
     ]
    },
    {
     "name": "stdout",
     "output_type": "stream",
     "text": [
      "✅ Iterative | adata_iterative_imputed_mf10_run9.h5ad: ARI=0.407\n"
     ]
    },
    {
     "name": "stderr",
     "output_type": "stream",
     "text": [
      "c:\\Users\\prath\\anaconda-new\\Lib\\site-packages\\scanpy\\preprocessing\\_highly_variable_genes.py:309: RuntimeWarning: invalid value encountered in log\n",
      "  dispersion = np.log(dispersion)\n"
     ]
    },
    {
     "name": "stdout",
     "output_type": "stream",
     "text": [
      "✅ Iterative | adata_iterative_imputed_mf20_run1.h5ad: ARI=0.378\n"
     ]
    },
    {
     "name": "stderr",
     "output_type": "stream",
     "text": [
      "c:\\Users\\prath\\anaconda-new\\Lib\\site-packages\\scanpy\\preprocessing\\_highly_variable_genes.py:309: RuntimeWarning: invalid value encountered in log\n",
      "  dispersion = np.log(dispersion)\n"
     ]
    },
    {
     "name": "stdout",
     "output_type": "stream",
     "text": [
      "✅ Iterative | adata_iterative_imputed_mf20_run10.h5ad: ARI=0.402\n",
      "✅ Iterative | adata_iterative_imputed_mf20_run2.h5ad: ARI=0.367\n"
     ]
    },
    {
     "name": "stderr",
     "output_type": "stream",
     "text": [
      "c:\\Users\\prath\\anaconda-new\\Lib\\site-packages\\scanpy\\preprocessing\\_highly_variable_genes.py:309: RuntimeWarning: invalid value encountered in log\n",
      "  dispersion = np.log(dispersion)\n"
     ]
    },
    {
     "name": "stdout",
     "output_type": "stream",
     "text": [
      "✅ Iterative | adata_iterative_imputed_mf20_run3.h5ad: ARI=0.357\n",
      "✅ Iterative | adata_iterative_imputed_mf20_run4.h5ad: ARI=0.372\n"
     ]
    },
    {
     "name": "stderr",
     "output_type": "stream",
     "text": [
      "c:\\Users\\prath\\anaconda-new\\Lib\\site-packages\\scanpy\\preprocessing\\_highly_variable_genes.py:309: RuntimeWarning: invalid value encountered in log\n",
      "  dispersion = np.log(dispersion)\n"
     ]
    },
    {
     "name": "stdout",
     "output_type": "stream",
     "text": [
      "✅ Iterative | adata_iterative_imputed_mf20_run5.h5ad: ARI=0.434\n"
     ]
    },
    {
     "name": "stderr",
     "output_type": "stream",
     "text": [
      "c:\\Users\\prath\\anaconda-new\\Lib\\site-packages\\scanpy\\preprocessing\\_highly_variable_genes.py:309: RuntimeWarning: invalid value encountered in log\n",
      "  dispersion = np.log(dispersion)\n"
     ]
    },
    {
     "name": "stdout",
     "output_type": "stream",
     "text": [
      "✅ Iterative | adata_iterative_imputed_mf20_run6.h5ad: ARI=0.390\n"
     ]
    },
    {
     "name": "stderr",
     "output_type": "stream",
     "text": [
      "c:\\Users\\prath\\anaconda-new\\Lib\\site-packages\\scanpy\\preprocessing\\_highly_variable_genes.py:309: RuntimeWarning: invalid value encountered in log\n",
      "  dispersion = np.log(dispersion)\n"
     ]
    },
    {
     "name": "stdout",
     "output_type": "stream",
     "text": [
      "✅ Iterative | adata_iterative_imputed_mf20_run7.h5ad: ARI=0.336\n"
     ]
    },
    {
     "name": "stderr",
     "output_type": "stream",
     "text": [
      "c:\\Users\\prath\\anaconda-new\\Lib\\site-packages\\scanpy\\preprocessing\\_highly_variable_genes.py:309: RuntimeWarning: invalid value encountered in log\n",
      "  dispersion = np.log(dispersion)\n"
     ]
    },
    {
     "name": "stdout",
     "output_type": "stream",
     "text": [
      "✅ Iterative | adata_iterative_imputed_mf20_run8.h5ad: ARI=0.350\n"
     ]
    },
    {
     "name": "stderr",
     "output_type": "stream",
     "text": [
      "c:\\Users\\prath\\anaconda-new\\Lib\\site-packages\\scanpy\\preprocessing\\_highly_variable_genes.py:309: RuntimeWarning: invalid value encountered in log\n",
      "  dispersion = np.log(dispersion)\n"
     ]
    },
    {
     "name": "stdout",
     "output_type": "stream",
     "text": [
      "✅ Iterative | adata_iterative_imputed_mf20_run9.h5ad: ARI=0.397\n",
      "✅ Iterative | adata_iterative_imputed_mf30_run1.h5ad: ARI=0.344\n",
      "✅ Iterative | adata_iterative_imputed_mf30_run10.h5ad: ARI=0.230\n",
      "✅ Iterative | adata_iterative_imputed_mf30_run2.h5ad: ARI=0.322\n",
      "✅ Iterative | adata_iterative_imputed_mf30_run3.h5ad: ARI=0.274\n",
      "✅ Iterative | adata_iterative_imputed_mf30_run4.h5ad: ARI=0.318\n",
      "✅ Iterative | adata_iterative_imputed_mf30_run5.h5ad: ARI=0.281\n",
      "✅ Iterative | adata_iterative_imputed_mf30_run6.h5ad: ARI=0.284\n",
      "✅ Iterative | adata_iterative_imputed_mf30_run7.h5ad: ARI=0.389\n",
      "✅ Iterative | adata_iterative_imputed_mf30_run8.h5ad: ARI=0.266\n",
      "✅ Iterative | adata_iterative_imputed_mf30_run9.h5ad: ARI=0.317\n",
      "\n",
      "Summary (mean ± std):\n",
      "        method  missing_fraction  ARI_mean   ARI_std  runs\n",
      "0          GAN               0.1  0.510826  0.032812    10\n",
      "1          GAN               0.2  0.366285  0.023023    10\n",
      "2          GAN               0.3  0.255157  0.017325    10\n",
      "3    Iterative               0.1  0.406265  0.021766    10\n",
      "4    Iterative               0.2  0.378428  0.028595    10\n",
      "5    Iterative               0.3  0.302539  0.045130    10\n",
      "6          KNN               0.1  0.364703  0.029404    10\n",
      "7          KNN               0.2  0.341821  0.021707    10\n",
      "8          KNN               0.3  0.359015  0.029893    10\n",
      "9        MAGIC               0.1  0.318381  0.025523    10\n",
      "10       MAGIC               0.2  0.255438  0.013893    10\n",
      "11       MAGIC               0.3  0.216177  0.008924    10\n",
      "12        Mean               0.1  0.417119  0.013145     5\n",
      "13        Mean               0.2  0.403767  0.012858     5\n",
      "14        Mean               0.3  0.394329  0.012849     6\n",
      "15  SoftImpute               0.1  0.494832  0.007902    10\n",
      "16  SoftImpute               0.2  0.475918  0.020275    10\n",
      "17  SoftImpute               0.3  0.401562  0.033838    10\n"
     ]
    },
    {
     "data": {
      "image/png": "[encoded data removed]",
      "text/plain": [
       "<Figure size 1000x600 with 1 Axes>"
      ]
     },
     "metadata": {},
     "output_type": "display_data"
    }
   ],
   "source": [
    "import scanpy as sc\n",
    "import pandas as pd\n",
    "import numpy as np\n",
    "import os\n",
    "import seaborn as sns\n",
    "import matplotlib.pyplot as plt\n",
    "from sklearn.metrics import adjusted_rand_score as ari_score\n",
    "\n",
    "# -----------------------------\n",
    "# Settings\n",
    "# -----------------------------\n",
    "sc.settings.verbosity = 0\n",
    "sns.set(style=\"whitegrid\")\n",
    "\n",
    "ground_truth_path = \"Data/adata_raw_qc.h5ad\"   # ground truth file\n",
    "imputed_root = \"imputed_h5ad\"   \n",
    "\n",
    "imputed_dirs = {\n",
    "    \"SoftImpute\": \"imputed_softimpute\",\n",
    "    \"MAGIC\": \"imputed_h5ad\",\n",
    "    \"KNN\": \"imputed_knn\",\n",
    "    \"Mean\": \"imputed_mean\",\n",
    "    \"GAN\": \"imputed_gan\",\n",
    "    \"Iterative\": \"imputed_iterative\"\n",
    "}               # parent folder with subfolders per method\n",
    "\n",
    "# Example folder structure:\n",
    "# imputed_h5ad/\n",
    "#   ├── gan/\n",
    "#   ├── knn/\n",
    "#   ├── softimpute/\n",
    "#   └── iterative/\n",
    "\n",
    "# -----------------------------\n",
    "# Preprocessing function\n",
    "# -----------------------------\n",
    "def preprocess_adata(adata, n_hvgs=1000):\n",
    "    adata = adata.copy()\n",
    "    adata.obs_names_make_unique()\n",
    "    adata.var_names_make_unique()\n",
    "\n",
    "    X = adata.X.A if hasattr(adata.X, \"A\") else adata.X\n",
    "    X = np.nan_to_num(X, nan=0.0, posinf=0.0, neginf=0.0)\n",
    "    adata.X = X\n",
    "\n",
    "    if np.max(adata.X) > 30:\n",
    "        sc.pp.log1p(adata)\n",
    "\n",
    "    sc.pp.highly_variable_genes(adata, flavor=\"seurat\", n_top_genes=n_hvgs)\n",
    "    adata = adata[:, adata.var[\"highly_variable\"]].copy()\n",
    "\n",
    "    sc.pp.scale(adata, max_value=10)\n",
    "    sc.tl.pca(adata, svd_solver=\"arpack\")\n",
    "    sc.pp.neighbors(adata)\n",
    "    sc.tl.leiden(adata)\n",
    "\n",
    "    return adata\n",
    "\n",
    "# -----------------------------\n",
    "# Load ground truth\n",
    "# -----------------------------\n",
    "print(\" Preprocessing ground truth...\")\n",
    "adata_gt = sc.read_h5ad(ground_truth_path)\n",
    "adata_gt = preprocess_adata(adata_gt)\n",
    "\n",
    "if \"leiden\" not in adata_gt.obs:\n",
    "    raise ValueError(\"Ground truth AnnData does not have 'leiden' clustering.\")\n",
    "\n",
    "# -----------------------------\n",
    "# Evaluate imputation runs\n",
    "# -----------------------------\n",
    "# -----------------------------\n",
    "# Evaluate imputation runs across all methods\n",
    "# -----------------------------\n",
    "results = []\n",
    "\n",
    "for method, method_dir in imputed_dirs.items():\n",
    "    if not os.path.isdir(method_dir):\n",
    "        print(f\"⚠️ Skipping {method}, folder not found: {method_dir}\")\n",
    "        continue\n",
    "\n",
    "    print(f\"\\n🔹 Processing method: {method}\")\n",
    "    for fname in os.listdir(method_dir):\n",
    "        if not fname.endswith(\".h5ad\"):\n",
    "            continue\n",
    "\n",
    "        fpath = os.path.join(method_dir, fname)\n",
    "        try:\n",
    "            adata_imp = sc.read_h5ad(fpath)\n",
    "            adata_imp = preprocess_adata(adata_imp)\n",
    "\n",
    "            # Align cells\n",
    "            common_cells = adata_gt.obs_names.intersection(adata_imp.obs_names)\n",
    "            adata_gt_sub = adata_gt[common_cells]\n",
    "            adata_imp_sub = adata_imp[common_cells]\n",
    "\n",
    "            # Compute ARI\n",
    "            ari = ari_score(adata_gt_sub.obs[\"leiden\"], adata_imp_sub.obs[\"leiden\"])\n",
    "\n",
    "            # Parse metadata from filename\n",
    "            mf, run = None, None\n",
    "            for part in fname.split(\"_\"):\n",
    "                if part.startswith(\"mf\"):\n",
    "                    mf = float(part.replace(\"mf\", \"\").replace(\".h5ad\", \"\")) / 100\n",
    "                if part.startswith(\"run\"):\n",
    "                    run = int(part.replace(\"run\", \"\").replace(\".h5ad\", \"\"))\n",
    "\n",
    "            results.append({\n",
    "                \"file\": fname,\n",
    "                \"method\": method,\n",
    "                \"ARI\": ari,\n",
    "                \"missing_fraction\": mf,\n",
    "                \"run\": run\n",
    "            })\n",
    "\n",
    "            print(f\"✅ {method} | {fname}: ARI={ari:.3f}\")\n",
    "\n",
    "        except Exception as e:\n",
    "            print(f\"❌ Error with {fname}: {e}\")\n",
    "\n",
    "# -----------------------------\n",
    "# Results → DataFrame\n",
    "# -----------------------------\n",
    "results_df = pd.DataFrame(results)\n",
    "if results_df.empty:\n",
    "    raise ValueError(\"No results computed. Check your imputed files and pipeline.\")\n",
    "\n",
    "results_df = results_df.dropna(subset=[\"ARI\", \"missing_fraction\"])\n",
    "results_df[\"missing_fraction\"] = results_df[\"missing_fraction\"].astype(float)\n",
    "\n",
    "# -----------------------------\n",
    "# Summary\n",
    "# -----------------------------\n",
    "summary = results_df.groupby([\"method\", \"missing_fraction\"]).agg(\n",
    "    ARI_mean=(\"ARI\", \"mean\"),\n",
    "    ARI_std=(\"ARI\", \"std\"),\n",
    "    runs=(\"ARI\", \"count\")\n",
    ").reset_index()\n",
    "\n",
    "print(\"\\nSummary (mean ± std):\")\n",
    "print(summary)\n",
    "\n",
    "# -----------------------------\n",
    "# Plot: ARI vs Missing Fraction across Methods\n",
    "# -----------------------------\n",
    "plt.figure(figsize=(10, 6))\n",
    "sns.lineplot(\n",
    "    data=results_df,\n",
    "    x=\"missing_fraction\",\n",
    "    y=\"ARI\",\n",
    "    hue=\"method\",\n",
    "    marker=\"o\",\n",
    "    err_style=\"band\",  # shaded error region\n",
    "    errorbar=\"sd\"\n",
    ")\n",
    "plt.title(\"ARI across Missing Fractions (All Methods)\")\n",
    "plt.ylabel(\"Adjusted Rand Index\")\n",
    "plt.xlabel(\"Missing Fraction\")\n",
    "plt.legend(title=\"Imputation Method\", bbox_to_anchor=(1.05, 1), loc='upper left')\n",
    "plt.tight_layout()\n",
    "plt.show()\n"
   ]
  },
  {
   "cell_type": "code",
   "execution_count": null,
   "id": "f2dd2ffd",
   "metadata": {},
   "outputs": [],
   "source": []
  }
 ],
 "metadata": {
  "kernelspec": {
   "display_name": "base",
   "language": "python",
   "name": "python3"
  },
  "language_info": {
   "codemirror_mode": {
    "name": "ipython",
    "version": 3
   },
   "file_extension": ".py",
   "mimetype": "text/x-python",
   "name": "python",
   "nbconvert_exporter": "python",
   "pygments_lexer": "ipython3",
   "version": "3.12.4"
  }
 },
 "nbformat": 4,
 "nbformat_minor": 5
}
