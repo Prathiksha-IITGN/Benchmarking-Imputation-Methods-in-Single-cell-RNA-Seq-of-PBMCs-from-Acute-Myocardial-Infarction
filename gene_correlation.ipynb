{
 "cells": [
  {
   "cell_type": "code",
   "execution_count": 1,
   "id": "df9f1836",
   "metadata": {},
   "outputs": [
    {
     "name": "stdout",
     "output_type": "stream",
     "text": [
      "Loading ground truth...\n"
     ]
    },
    {
     "name": "stderr",
     "output_type": "stream",
     "text": [
      "c:\\Users\\prath\\anaconda-new\\Lib\\site-packages\\anndata\\_core\\anndata.py:1791: UserWarning: Observation names are not unique. To make them unique, call `.obs_names_make_unique`.\n",
      "  utils.warn_names_duplicates(\"obs\")\n",
      "c:\\Users\\prath\\anaconda-new\\Lib\\site-packages\\anndata\\_core\\anndata.py:1793: UserWarning: Variable names are not unique. To make them unique, call `.var_names_make_unique`.\n",
      "  utils.warn_names_duplicates(\"var\")\n",
      "C:\\Users\\prath\\AppData\\Local\\Temp\\ipykernel_18364\\218868813.py:87: RuntimeWarning: Mean of empty slice\n",
      "  mean_corr = np.nanmean(corrs)\n"
     ]
    },
    {
     "name": "stdout",
     "output_type": "stream",
     "text": [
      "SoftImpute - adata_softimpute_imputed_mf10_run1.h5ad: Mean Pearson corr = nan\n"
     ]
    },
    {
     "name": "stderr",
     "output_type": "stream",
     "text": [
      "C:\\Users\\prath\\AppData\\Local\\Temp\\ipykernel_18364\\218868813.py:87: RuntimeWarning: Mean of empty slice\n",
      "  mean_corr = np.nanmean(corrs)\n"
     ]
    },
    {
     "name": "stdout",
     "output_type": "stream",
     "text": [
      "SoftImpute - adata_softimpute_imputed_mf10_run10.h5ad: Mean Pearson corr = nan\n"
     ]
    },
    {
     "name": "stderr",
     "output_type": "stream",
     "text": [
      "C:\\Users\\prath\\AppData\\Local\\Temp\\ipykernel_18364\\218868813.py:87: RuntimeWarning: Mean of empty slice\n",
      "  mean_corr = np.nanmean(corrs)\n"
     ]
    },
    {
     "name": "stdout",
     "output_type": "stream",
     "text": [
      "SoftImpute - adata_softimpute_imputed_mf10_run2.h5ad: Mean Pearson corr = nan\n"
     ]
    },
    {
     "name": "stderr",
     "output_type": "stream",
     "text": [
      "C:\\Users\\prath\\AppData\\Local\\Temp\\ipykernel_18364\\218868813.py:87: RuntimeWarning: Mean of empty slice\n",
      "  mean_corr = np.nanmean(corrs)\n"
     ]
    },
    {
     "name": "stdout",
     "output_type": "stream",
     "text": [
      "SoftImpute - adata_softimpute_imputed_mf10_run3.h5ad: Mean Pearson corr = nan\n"
     ]
    },
    {
     "name": "stderr",
     "output_type": "stream",
     "text": [
      "C:\\Users\\prath\\AppData\\Local\\Temp\\ipykernel_18364\\218868813.py:87: RuntimeWarning: Mean of empty slice\n",
      "  mean_corr = np.nanmean(corrs)\n"
     ]
    },
    {
     "name": "stdout",
     "output_type": "stream",
     "text": [
      "SoftImpute - adata_softimpute_imputed_mf10_run4.h5ad: Mean Pearson corr = nan\n"
     ]
    },
    {
     "name": "stderr",
     "output_type": "stream",
     "text": [
      "C:\\Users\\prath\\AppData\\Local\\Temp\\ipykernel_18364\\218868813.py:87: RuntimeWarning: Mean of empty slice\n",
      "  mean_corr = np.nanmean(corrs)\n"
     ]
    },
    {
     "name": "stdout",
     "output_type": "stream",
     "text": [
      "SoftImpute - adata_softimpute_imputed_mf10_run5.h5ad: Mean Pearson corr = nan\n"
     ]
    },
    {
     "name": "stderr",
     "output_type": "stream",
     "text": [
      "C:\\Users\\prath\\AppData\\Local\\Temp\\ipykernel_18364\\218868813.py:87: RuntimeWarning: Mean of empty slice\n",
      "  mean_corr = np.nanmean(corrs)\n"
     ]
    },
    {
     "name": "stdout",
     "output_type": "stream",
     "text": [
      "SoftImpute - adata_softimpute_imputed_mf10_run6.h5ad: Mean Pearson corr = nan\n"
     ]
    },
    {
     "name": "stderr",
     "output_type": "stream",
     "text": [
      "C:\\Users\\prath\\AppData\\Local\\Temp\\ipykernel_18364\\218868813.py:87: RuntimeWarning: Mean of empty slice\n",
      "  mean_corr = np.nanmean(corrs)\n"
     ]
    },
    {
     "name": "stdout",
     "output_type": "stream",
     "text": [
      "SoftImpute - adata_softimpute_imputed_mf10_run7.h5ad: Mean Pearson corr = nan\n"
     ]
    },
    {
     "name": "stderr",
     "output_type": "stream",
     "text": [
      "C:\\Users\\prath\\AppData\\Local\\Temp\\ipykernel_18364\\218868813.py:87: RuntimeWarning: Mean of empty slice\n",
      "  mean_corr = np.nanmean(corrs)\n"
     ]
    },
    {
     "name": "stdout",
     "output_type": "stream",
     "text": [
      "SoftImpute - adata_softimpute_imputed_mf10_run8.h5ad: Mean Pearson corr = nan\n"
     ]
    },
    {
     "name": "stderr",
     "output_type": "stream",
     "text": [
      "C:\\Users\\prath\\AppData\\Local\\Temp\\ipykernel_18364\\218868813.py:87: RuntimeWarning: Mean of empty slice\n",
      "  mean_corr = np.nanmean(corrs)\n"
     ]
    },
    {
     "name": "stdout",
     "output_type": "stream",
     "text": [
      "SoftImpute - adata_softimpute_imputed_mf10_run9.h5ad: Mean Pearson corr = nan\n"
     ]
    },
    {
     "name": "stderr",
     "output_type": "stream",
     "text": [
      "C:\\Users\\prath\\AppData\\Local\\Temp\\ipykernel_18364\\218868813.py:87: RuntimeWarning: Mean of empty slice\n",
      "  mean_corr = np.nanmean(corrs)\n"
     ]
    },
    {
     "name": "stdout",
     "output_type": "stream",
     "text": [
      "SoftImpute - adata_softimpute_imputed_mf20_run1.h5ad: Mean Pearson corr = nan\n"
     ]
    },
    {
     "name": "stderr",
     "output_type": "stream",
     "text": [
      "C:\\Users\\prath\\AppData\\Local\\Temp\\ipykernel_18364\\218868813.py:87: RuntimeWarning: Mean of empty slice\n",
      "  mean_corr = np.nanmean(corrs)\n"
     ]
    },
    {
     "name": "stdout",
     "output_type": "stream",
     "text": [
      "SoftImpute - adata_softimpute_imputed_mf20_run10.h5ad: Mean Pearson corr = nan\n"
     ]
    },
    {
     "name": "stderr",
     "output_type": "stream",
     "text": [
      "C:\\Users\\prath\\AppData\\Local\\Temp\\ipykernel_18364\\218868813.py:87: RuntimeWarning: Mean of empty slice\n",
      "  mean_corr = np.nanmean(corrs)\n"
     ]
    },
    {
     "name": "stdout",
     "output_type": "stream",
     "text": [
      "SoftImpute - adata_softimpute_imputed_mf20_run2.h5ad: Mean Pearson corr = nan\n"
     ]
    },
    {
     "name": "stderr",
     "output_type": "stream",
     "text": [
      "C:\\Users\\prath\\AppData\\Local\\Temp\\ipykernel_18364\\218868813.py:87: RuntimeWarning: Mean of empty slice\n",
      "  mean_corr = np.nanmean(corrs)\n"
     ]
    },
    {
     "name": "stdout",
     "output_type": "stream",
     "text": [
      "SoftImpute - adata_softimpute_imputed_mf20_run3.h5ad: Mean Pearson corr = nan\n"
     ]
    },
    {
     "name": "stderr",
     "output_type": "stream",
     "text": [
      "C:\\Users\\prath\\AppData\\Local\\Temp\\ipykernel_18364\\218868813.py:87: RuntimeWarning: Mean of empty slice\n",
      "  mean_corr = np.nanmean(corrs)\n"
     ]
    },
    {
     "name": "stdout",
     "output_type": "stream",
     "text": [
      "SoftImpute - adata_softimpute_imputed_mf20_run4.h5ad: Mean Pearson corr = nan\n"
     ]
    },
    {
     "name": "stderr",
     "output_type": "stream",
     "text": [
      "C:\\Users\\prath\\AppData\\Local\\Temp\\ipykernel_18364\\218868813.py:87: RuntimeWarning: Mean of empty slice\n",
      "  mean_corr = np.nanmean(corrs)\n"
     ]
    },
    {
     "name": "stdout",
     "output_type": "stream",
     "text": [
      "SoftImpute - adata_softimpute_imputed_mf20_run5.h5ad: Mean Pearson corr = nan\n"
     ]
    },
    {
     "name": "stderr",
     "output_type": "stream",
     "text": [
      "C:\\Users\\prath\\AppData\\Local\\Temp\\ipykernel_18364\\218868813.py:87: RuntimeWarning: Mean of empty slice\n",
      "  mean_corr = np.nanmean(corrs)\n"
     ]
    },
    {
     "name": "stdout",
     "output_type": "stream",
     "text": [
      "SoftImpute - adata_softimpute_imputed_mf20_run6.h5ad: Mean Pearson corr = nan\n"
     ]
    },
    {
     "name": "stderr",
     "output_type": "stream",
     "text": [
      "C:\\Users\\prath\\AppData\\Local\\Temp\\ipykernel_18364\\218868813.py:87: RuntimeWarning: Mean of empty slice\n",
      "  mean_corr = np.nanmean(corrs)\n"
     ]
    },
    {
     "name": "stdout",
     "output_type": "stream",
     "text": [
      "SoftImpute - adata_softimpute_imputed_mf20_run7.h5ad: Mean Pearson corr = nan\n"
     ]
    },
    {
     "name": "stderr",
     "output_type": "stream",
     "text": [
      "C:\\Users\\prath\\AppData\\Local\\Temp\\ipykernel_18364\\218868813.py:87: RuntimeWarning: Mean of empty slice\n",
      "  mean_corr = np.nanmean(corrs)\n"
     ]
    },
    {
     "name": "stdout",
     "output_type": "stream",
     "text": [
      "SoftImpute - adata_softimpute_imputed_mf20_run8.h5ad: Mean Pearson corr = nan\n"
     ]
    },
    {
     "name": "stderr",
     "output_type": "stream",
     "text": [
      "C:\\Users\\prath\\AppData\\Local\\Temp\\ipykernel_18364\\218868813.py:87: RuntimeWarning: Mean of empty slice\n",
      "  mean_corr = np.nanmean(corrs)\n"
     ]
    },
    {
     "name": "stdout",
     "output_type": "stream",
     "text": [
      "SoftImpute - adata_softimpute_imputed_mf20_run9.h5ad: Mean Pearson corr = nan\n"
     ]
    },
    {
     "name": "stderr",
     "output_type": "stream",
     "text": [
      "C:\\Users\\prath\\AppData\\Local\\Temp\\ipykernel_18364\\218868813.py:87: RuntimeWarning: Mean of empty slice\n",
      "  mean_corr = np.nanmean(corrs)\n"
     ]
    },
    {
     "name": "stdout",
     "output_type": "stream",
     "text": [
      "SoftImpute - adata_softimpute_imputed_mf30_run1.h5ad: Mean Pearson corr = nan\n"
     ]
    },
    {
     "name": "stderr",
     "output_type": "stream",
     "text": [
      "C:\\Users\\prath\\AppData\\Local\\Temp\\ipykernel_18364\\218868813.py:87: RuntimeWarning: Mean of empty slice\n",
      "  mean_corr = np.nanmean(corrs)\n"
     ]
    },
    {
     "name": "stdout",
     "output_type": "stream",
     "text": [
      "SoftImpute - adata_softimpute_imputed_mf30_run10.h5ad: Mean Pearson corr = nan\n"
     ]
    },
    {
     "name": "stderr",
     "output_type": "stream",
     "text": [
      "C:\\Users\\prath\\AppData\\Local\\Temp\\ipykernel_18364\\218868813.py:87: RuntimeWarning: Mean of empty slice\n",
      "  mean_corr = np.nanmean(corrs)\n"
     ]
    },
    {
     "name": "stdout",
     "output_type": "stream",
     "text": [
      "SoftImpute - adata_softimpute_imputed_mf30_run2.h5ad: Mean Pearson corr = nan\n"
     ]
    },
    {
     "name": "stderr",
     "output_type": "stream",
     "text": [
      "C:\\Users\\prath\\AppData\\Local\\Temp\\ipykernel_18364\\218868813.py:87: RuntimeWarning: Mean of empty slice\n",
      "  mean_corr = np.nanmean(corrs)\n"
     ]
    },
    {
     "name": "stdout",
     "output_type": "stream",
     "text": [
      "SoftImpute - adata_softimpute_imputed_mf30_run3.h5ad: Mean Pearson corr = nan\n"
     ]
    },
    {
     "name": "stderr",
     "output_type": "stream",
     "text": [
      "C:\\Users\\prath\\AppData\\Local\\Temp\\ipykernel_18364\\218868813.py:87: RuntimeWarning: Mean of empty slice\n",
      "  mean_corr = np.nanmean(corrs)\n"
     ]
    },
    {
     "name": "stdout",
     "output_type": "stream",
     "text": [
      "SoftImpute - adata_softimpute_imputed_mf30_run4.h5ad: Mean Pearson corr = nan\n"
     ]
    },
    {
     "name": "stderr",
     "output_type": "stream",
     "text": [
      "C:\\Users\\prath\\AppData\\Local\\Temp\\ipykernel_18364\\218868813.py:87: RuntimeWarning: Mean of empty slice\n",
      "  mean_corr = np.nanmean(corrs)\n"
     ]
    },
    {
     "name": "stdout",
     "output_type": "stream",
     "text": [
      "SoftImpute - adata_softimpute_imputed_mf30_run5.h5ad: Mean Pearson corr = nan\n"
     ]
    },
    {
     "name": "stderr",
     "output_type": "stream",
     "text": [
      "C:\\Users\\prath\\AppData\\Local\\Temp\\ipykernel_18364\\218868813.py:87: RuntimeWarning: Mean of empty slice\n",
      "  mean_corr = np.nanmean(corrs)\n"
     ]
    },
    {
     "name": "stdout",
     "output_type": "stream",
     "text": [
      "SoftImpute - adata_softimpute_imputed_mf30_run6.h5ad: Mean Pearson corr = nan\n"
     ]
    },
    {
     "name": "stderr",
     "output_type": "stream",
     "text": [
      "C:\\Users\\prath\\AppData\\Local\\Temp\\ipykernel_18364\\218868813.py:87: RuntimeWarning: Mean of empty slice\n",
      "  mean_corr = np.nanmean(corrs)\n"
     ]
    },
    {
     "name": "stdout",
     "output_type": "stream",
     "text": [
      "SoftImpute - adata_softimpute_imputed_mf30_run7.h5ad: Mean Pearson corr = nan\n"
     ]
    },
    {
     "name": "stderr",
     "output_type": "stream",
     "text": [
      "C:\\Users\\prath\\AppData\\Local\\Temp\\ipykernel_18364\\218868813.py:87: RuntimeWarning: Mean of empty slice\n",
      "  mean_corr = np.nanmean(corrs)\n"
     ]
    },
    {
     "name": "stdout",
     "output_type": "stream",
     "text": [
      "SoftImpute - adata_softimpute_imputed_mf30_run8.h5ad: Mean Pearson corr = nan\n"
     ]
    },
    {
     "name": "stderr",
     "output_type": "stream",
     "text": [
      "C:\\Users\\prath\\AppData\\Local\\Temp\\ipykernel_18364\\218868813.py:87: RuntimeWarning: Mean of empty slice\n",
      "  mean_corr = np.nanmean(corrs)\n"
     ]
    },
    {
     "name": "stdout",
     "output_type": "stream",
     "text": [
      "SoftImpute - adata_softimpute_imputed_mf30_run9.h5ad: Mean Pearson corr = nan\n"
     ]
    },
    {
     "name": "stderr",
     "output_type": "stream",
     "text": [
      "c:\\Users\\prath\\anaconda-new\\Lib\\site-packages\\anndata\\_core\\anndata.py:1791: UserWarning: Observation names are not unique. To make them unique, call `.obs_names_make_unique`.\n",
      "  utils.warn_names_duplicates(\"obs\")\n",
      "c:\\Users\\prath\\anaconda-new\\Lib\\site-packages\\anndata\\_core\\anndata.py:1793: UserWarning: Variable names are not unique. To make them unique, call `.var_names_make_unique`.\n",
      "  utils.warn_names_duplicates(\"var\")\n",
      "C:\\Users\\prath\\AppData\\Local\\Temp\\ipykernel_18364\\218868813.py:87: RuntimeWarning: Mean of empty slice\n",
      "  mean_corr = np.nanmean(corrs)\n"
     ]
    },
    {
     "name": "stdout",
     "output_type": "stream",
     "text": [
      "MAGIC - adata_magic_imputed_mf10_run1.h5ad: Mean Pearson corr = nan\n"
     ]
    },
    {
     "name": "stderr",
     "output_type": "stream",
     "text": [
      "c:\\Users\\prath\\anaconda-new\\Lib\\site-packages\\anndata\\_core\\anndata.py:1791: UserWarning: Observation names are not unique. To make them unique, call `.obs_names_make_unique`.\n",
      "  utils.warn_names_duplicates(\"obs\")\n",
      "c:\\Users\\prath\\anaconda-new\\Lib\\site-packages\\anndata\\_core\\anndata.py:1793: UserWarning: Variable names are not unique. To make them unique, call `.var_names_make_unique`.\n",
      "  utils.warn_names_duplicates(\"var\")\n",
      "C:\\Users\\prath\\AppData\\Local\\Temp\\ipykernel_18364\\218868813.py:87: RuntimeWarning: Mean of empty slice\n",
      "  mean_corr = np.nanmean(corrs)\n"
     ]
    },
    {
     "name": "stdout",
     "output_type": "stream",
     "text": [
      "MAGIC - adata_magic_imputed_mf10_run10.h5ad: Mean Pearson corr = nan\n"
     ]
    },
    {
     "name": "stderr",
     "output_type": "stream",
     "text": [
      "c:\\Users\\prath\\anaconda-new\\Lib\\site-packages\\anndata\\_core\\anndata.py:1791: UserWarning: Observation names are not unique. To make them unique, call `.obs_names_make_unique`.\n",
      "  utils.warn_names_duplicates(\"obs\")\n",
      "c:\\Users\\prath\\anaconda-new\\Lib\\site-packages\\anndata\\_core\\anndata.py:1793: UserWarning: Variable names are not unique. To make them unique, call `.var_names_make_unique`.\n",
      "  utils.warn_names_duplicates(\"var\")\n",
      "C:\\Users\\prath\\AppData\\Local\\Temp\\ipykernel_18364\\218868813.py:87: RuntimeWarning: Mean of empty slice\n",
      "  mean_corr = np.nanmean(corrs)\n"
     ]
    },
    {
     "name": "stdout",
     "output_type": "stream",
     "text": [
      "MAGIC - adata_magic_imputed_mf10_run2.h5ad: Mean Pearson corr = nan\n"
     ]
    },
    {
     "name": "stderr",
     "output_type": "stream",
     "text": [
      "c:\\Users\\prath\\anaconda-new\\Lib\\site-packages\\anndata\\_core\\anndata.py:1791: UserWarning: Observation names are not unique. To make them unique, call `.obs_names_make_unique`.\n",
      "  utils.warn_names_duplicates(\"obs\")\n",
      "c:\\Users\\prath\\anaconda-new\\Lib\\site-packages\\anndata\\_core\\anndata.py:1793: UserWarning: Variable names are not unique. To make them unique, call `.var_names_make_unique`.\n",
      "  utils.warn_names_duplicates(\"var\")\n",
      "C:\\Users\\prath\\AppData\\Local\\Temp\\ipykernel_18364\\218868813.py:87: RuntimeWarning: Mean of empty slice\n",
      "  mean_corr = np.nanmean(corrs)\n"
     ]
    },
    {
     "name": "stdout",
     "output_type": "stream",
     "text": [
      "MAGIC - adata_magic_imputed_mf10_run3.h5ad: Mean Pearson corr = nan\n"
     ]
    },
    {
     "name": "stderr",
     "output_type": "stream",
     "text": [
      "c:\\Users\\prath\\anaconda-new\\Lib\\site-packages\\anndata\\_core\\anndata.py:1791: UserWarning: Observation names are not unique. To make them unique, call `.obs_names_make_unique`.\n",
      "  utils.warn_names_duplicates(\"obs\")\n",
      "c:\\Users\\prath\\anaconda-new\\Lib\\site-packages\\anndata\\_core\\anndata.py:1793: UserWarning: Variable names are not unique. To make them unique, call `.var_names_make_unique`.\n",
      "  utils.warn_names_duplicates(\"var\")\n",
      "C:\\Users\\prath\\AppData\\Local\\Temp\\ipykernel_18364\\218868813.py:87: RuntimeWarning: Mean of empty slice\n",
      "  mean_corr = np.nanmean(corrs)\n"
     ]
    },
    {
     "name": "stdout",
     "output_type": "stream",
     "text": [
      "MAGIC - adata_magic_imputed_mf10_run4.h5ad: Mean Pearson corr = nan\n"
     ]
    },
    {
     "name": "stderr",
     "output_type": "stream",
     "text": [
      "c:\\Users\\prath\\anaconda-new\\Lib\\site-packages\\anndata\\_core\\anndata.py:1791: UserWarning: Observation names are not unique. To make them unique, call `.obs_names_make_unique`.\n",
      "  utils.warn_names_duplicates(\"obs\")\n",
      "c:\\Users\\prath\\anaconda-new\\Lib\\site-packages\\anndata\\_core\\anndata.py:1793: UserWarning: Variable names are not unique. To make them unique, call `.var_names_make_unique`.\n",
      "  utils.warn_names_duplicates(\"var\")\n",
      "C:\\Users\\prath\\AppData\\Local\\Temp\\ipykernel_18364\\218868813.py:87: RuntimeWarning: Mean of empty slice\n",
      "  mean_corr = np.nanmean(corrs)\n"
     ]
    },
    {
     "name": "stdout",
     "output_type": "stream",
     "text": [
      "MAGIC - adata_magic_imputed_mf10_run5.h5ad: Mean Pearson corr = nan\n"
     ]
    },
    {
     "name": "stderr",
     "output_type": "stream",
     "text": [
      "c:\\Users\\prath\\anaconda-new\\Lib\\site-packages\\anndata\\_core\\anndata.py:1791: UserWarning: Observation names are not unique. To make them unique, call `.obs_names_make_unique`.\n",
      "  utils.warn_names_duplicates(\"obs\")\n",
      "c:\\Users\\prath\\anaconda-new\\Lib\\site-packages\\anndata\\_core\\anndata.py:1793: UserWarning: Variable names are not unique. To make them unique, call `.var_names_make_unique`.\n",
      "  utils.warn_names_duplicates(\"var\")\n",
      "C:\\Users\\prath\\AppData\\Local\\Temp\\ipykernel_18364\\218868813.py:87: RuntimeWarning: Mean of empty slice\n",
      "  mean_corr = np.nanmean(corrs)\n"
     ]
    },
    {
     "name": "stdout",
     "output_type": "stream",
     "text": [
      "MAGIC - adata_magic_imputed_mf10_run6.h5ad: Mean Pearson corr = nan\n"
     ]
    },
    {
     "name": "stderr",
     "output_type": "stream",
     "text": [
      "c:\\Users\\prath\\anaconda-new\\Lib\\site-packages\\anndata\\_core\\anndata.py:1791: UserWarning: Observation names are not unique. To make them unique, call `.obs_names_make_unique`.\n",
      "  utils.warn_names_duplicates(\"obs\")\n",
      "c:\\Users\\prath\\anaconda-new\\Lib\\site-packages\\anndata\\_core\\anndata.py:1793: UserWarning: Variable names are not unique. To make them unique, call `.var_names_make_unique`.\n",
      "  utils.warn_names_duplicates(\"var\")\n",
      "C:\\Users\\prath\\AppData\\Local\\Temp\\ipykernel_18364\\218868813.py:87: RuntimeWarning: Mean of empty slice\n",
      "  mean_corr = np.nanmean(corrs)\n"
     ]
    },
    {
     "name": "stdout",
     "output_type": "stream",
     "text": [
      "MAGIC - adata_magic_imputed_mf10_run7.h5ad: Mean Pearson corr = nan\n"
     ]
    },
    {
     "name": "stderr",
     "output_type": "stream",
     "text": [
      "c:\\Users\\prath\\anaconda-new\\Lib\\site-packages\\anndata\\_core\\anndata.py:1791: UserWarning: Observation names are not unique. To make them unique, call `.obs_names_make_unique`.\n",
      "  utils.warn_names_duplicates(\"obs\")\n",
      "c:\\Users\\prath\\anaconda-new\\Lib\\site-packages\\anndata\\_core\\anndata.py:1793: UserWarning: Variable names are not unique. To make them unique, call `.var_names_make_unique`.\n",
      "  utils.warn_names_duplicates(\"var\")\n",
      "C:\\Users\\prath\\AppData\\Local\\Temp\\ipykernel_18364\\218868813.py:87: RuntimeWarning: Mean of empty slice\n",
      "  mean_corr = np.nanmean(corrs)\n"
     ]
    },
    {
     "name": "stdout",
     "output_type": "stream",
     "text": [
      "MAGIC - adata_magic_imputed_mf10_run8.h5ad: Mean Pearson corr = nan\n"
     ]
    },
    {
     "name": "stderr",
     "output_type": "stream",
     "text": [
      "c:\\Users\\prath\\anaconda-new\\Lib\\site-packages\\anndata\\_core\\anndata.py:1791: UserWarning: Observation names are not unique. To make them unique, call `.obs_names_make_unique`.\n",
      "  utils.warn_names_duplicates(\"obs\")\n",
      "c:\\Users\\prath\\anaconda-new\\Lib\\site-packages\\anndata\\_core\\anndata.py:1793: UserWarning: Variable names are not unique. To make them unique, call `.var_names_make_unique`.\n",
      "  utils.warn_names_duplicates(\"var\")\n",
      "C:\\Users\\prath\\AppData\\Local\\Temp\\ipykernel_18364\\218868813.py:87: RuntimeWarning: Mean of empty slice\n",
      "  mean_corr = np.nanmean(corrs)\n"
     ]
    },
    {
     "name": "stdout",
     "output_type": "stream",
     "text": [
      "MAGIC - adata_magic_imputed_mf10_run9.h5ad: Mean Pearson corr = nan\n"
     ]
    },
    {
     "name": "stderr",
     "output_type": "stream",
     "text": [
      "c:\\Users\\prath\\anaconda-new\\Lib\\site-packages\\anndata\\_core\\anndata.py:1791: UserWarning: Observation names are not unique. To make them unique, call `.obs_names_make_unique`.\n",
      "  utils.warn_names_duplicates(\"obs\")\n",
      "c:\\Users\\prath\\anaconda-new\\Lib\\site-packages\\anndata\\_core\\anndata.py:1793: UserWarning: Variable names are not unique. To make them unique, call `.var_names_make_unique`.\n",
      "  utils.warn_names_duplicates(\"var\")\n",
      "C:\\Users\\prath\\AppData\\Local\\Temp\\ipykernel_18364\\218868813.py:87: RuntimeWarning: Mean of empty slice\n",
      "  mean_corr = np.nanmean(corrs)\n"
     ]
    },
    {
     "name": "stdout",
     "output_type": "stream",
     "text": [
      "MAGIC - adata_magic_imputed_mf20_run1.h5ad: Mean Pearson corr = nan\n"
     ]
    },
    {
     "name": "stderr",
     "output_type": "stream",
     "text": [
      "c:\\Users\\prath\\anaconda-new\\Lib\\site-packages\\anndata\\_core\\anndata.py:1791: UserWarning: Observation names are not unique. To make them unique, call `.obs_names_make_unique`.\n",
      "  utils.warn_names_duplicates(\"obs\")\n",
      "c:\\Users\\prath\\anaconda-new\\Lib\\site-packages\\anndata\\_core\\anndata.py:1793: UserWarning: Variable names are not unique. To make them unique, call `.var_names_make_unique`.\n",
      "  utils.warn_names_duplicates(\"var\")\n",
      "C:\\Users\\prath\\AppData\\Local\\Temp\\ipykernel_18364\\218868813.py:87: RuntimeWarning: Mean of empty slice\n",
      "  mean_corr = np.nanmean(corrs)\n"
     ]
    },
    {
     "name": "stdout",
     "output_type": "stream",
     "text": [
      "MAGIC - adata_magic_imputed_mf20_run10.h5ad: Mean Pearson corr = nan\n"
     ]
    },
    {
     "name": "stderr",
     "output_type": "stream",
     "text": [
      "c:\\Users\\prath\\anaconda-new\\Lib\\site-packages\\anndata\\_core\\anndata.py:1791: UserWarning: Observation names are not unique. To make them unique, call `.obs_names_make_unique`.\n",
      "  utils.warn_names_duplicates(\"obs\")\n",
      "c:\\Users\\prath\\anaconda-new\\Lib\\site-packages\\anndata\\_core\\anndata.py:1793: UserWarning: Variable names are not unique. To make them unique, call `.var_names_make_unique`.\n",
      "  utils.warn_names_duplicates(\"var\")\n",
      "C:\\Users\\prath\\AppData\\Local\\Temp\\ipykernel_18364\\218868813.py:87: RuntimeWarning: Mean of empty slice\n",
      "  mean_corr = np.nanmean(corrs)\n"
     ]
    },
    {
     "name": "stdout",
     "output_type": "stream",
     "text": [
      "MAGIC - adata_magic_imputed_mf20_run2.h5ad: Mean Pearson corr = nan\n"
     ]
    },
    {
     "name": "stderr",
     "output_type": "stream",
     "text": [
      "c:\\Users\\prath\\anaconda-new\\Lib\\site-packages\\anndata\\_core\\anndata.py:1791: UserWarning: Observation names are not unique. To make them unique, call `.obs_names_make_unique`.\n",
      "  utils.warn_names_duplicates(\"obs\")\n",
      "c:\\Users\\prath\\anaconda-new\\Lib\\site-packages\\anndata\\_core\\anndata.py:1793: UserWarning: Variable names are not unique. To make them unique, call `.var_names_make_unique`.\n",
      "  utils.warn_names_duplicates(\"var\")\n",
      "C:\\Users\\prath\\AppData\\Local\\Temp\\ipykernel_18364\\218868813.py:87: RuntimeWarning: Mean of empty slice\n",
      "  mean_corr = np.nanmean(corrs)\n"
     ]
    },
    {
     "name": "stdout",
     "output_type": "stream",
     "text": [
      "MAGIC - adata_magic_imputed_mf20_run3.h5ad: Mean Pearson corr = nan\n"
     ]
    },
    {
     "name": "stderr",
     "output_type": "stream",
     "text": [
      "c:\\Users\\prath\\anaconda-new\\Lib\\site-packages\\anndata\\_core\\anndata.py:1791: UserWarning: Observation names are not unique. To make them unique, call `.obs_names_make_unique`.\n",
      "  utils.warn_names_duplicates(\"obs\")\n",
      "c:\\Users\\prath\\anaconda-new\\Lib\\site-packages\\anndata\\_core\\anndata.py:1793: UserWarning: Variable names are not unique. To make them unique, call `.var_names_make_unique`.\n",
      "  utils.warn_names_duplicates(\"var\")\n",
      "C:\\Users\\prath\\AppData\\Local\\Temp\\ipykernel_18364\\218868813.py:87: RuntimeWarning: Mean of empty slice\n",
      "  mean_corr = np.nanmean(corrs)\n"
     ]
    },
    {
     "name": "stdout",
     "output_type": "stream",
     "text": [
      "MAGIC - adata_magic_imputed_mf20_run4.h5ad: Mean Pearson corr = nan\n"
     ]
    },
    {
     "name": "stderr",
     "output_type": "stream",
     "text": [
      "c:\\Users\\prath\\anaconda-new\\Lib\\site-packages\\anndata\\_core\\anndata.py:1791: UserWarning: Observation names are not unique. To make them unique, call `.obs_names_make_unique`.\n",
      "  utils.warn_names_duplicates(\"obs\")\n",
      "c:\\Users\\prath\\anaconda-new\\Lib\\site-packages\\anndata\\_core\\anndata.py:1793: UserWarning: Variable names are not unique. To make them unique, call `.var_names_make_unique`.\n",
      "  utils.warn_names_duplicates(\"var\")\n",
      "C:\\Users\\prath\\AppData\\Local\\Temp\\ipykernel_18364\\218868813.py:87: RuntimeWarning: Mean of empty slice\n",
      "  mean_corr = np.nanmean(corrs)\n"
     ]
    },
    {
     "name": "stdout",
     "output_type": "stream",
     "text": [
      "MAGIC - adata_magic_imputed_mf20_run5.h5ad: Mean Pearson corr = nan\n"
     ]
    },
    {
     "name": "stderr",
     "output_type": "stream",
     "text": [
      "c:\\Users\\prath\\anaconda-new\\Lib\\site-packages\\anndata\\_core\\anndata.py:1791: UserWarning: Observation names are not unique. To make them unique, call `.obs_names_make_unique`.\n",
      "  utils.warn_names_duplicates(\"obs\")\n",
      "c:\\Users\\prath\\anaconda-new\\Lib\\site-packages\\anndata\\_core\\anndata.py:1793: UserWarning: Variable names are not unique. To make them unique, call `.var_names_make_unique`.\n",
      "  utils.warn_names_duplicates(\"var\")\n",
      "C:\\Users\\prath\\AppData\\Local\\Temp\\ipykernel_18364\\218868813.py:87: RuntimeWarning: Mean of empty slice\n",
      "  mean_corr = np.nanmean(corrs)\n"
     ]
    },
    {
     "name": "stdout",
     "output_type": "stream",
     "text": [
      "MAGIC - adata_magic_imputed_mf20_run6.h5ad: Mean Pearson corr = nan\n"
     ]
    },
    {
     "name": "stderr",
     "output_type": "stream",
     "text": [
      "c:\\Users\\prath\\anaconda-new\\Lib\\site-packages\\anndata\\_core\\anndata.py:1791: UserWarning: Observation names are not unique. To make them unique, call `.obs_names_make_unique`.\n",
      "  utils.warn_names_duplicates(\"obs\")\n",
      "c:\\Users\\prath\\anaconda-new\\Lib\\site-packages\\anndata\\_core\\anndata.py:1793: UserWarning: Variable names are not unique. To make them unique, call `.var_names_make_unique`.\n",
      "  utils.warn_names_duplicates(\"var\")\n",
      "C:\\Users\\prath\\AppData\\Local\\Temp\\ipykernel_18364\\218868813.py:87: RuntimeWarning: Mean of empty slice\n",
      "  mean_corr = np.nanmean(corrs)\n"
     ]
    },
    {
     "name": "stdout",
     "output_type": "stream",
     "text": [
      "MAGIC - adata_magic_imputed_mf20_run7.h5ad: Mean Pearson corr = nan\n"
     ]
    },
    {
     "name": "stderr",
     "output_type": "stream",
     "text": [
      "c:\\Users\\prath\\anaconda-new\\Lib\\site-packages\\anndata\\_core\\anndata.py:1791: UserWarning: Observation names are not unique. To make them unique, call `.obs_names_make_unique`.\n",
      "  utils.warn_names_duplicates(\"obs\")\n",
      "c:\\Users\\prath\\anaconda-new\\Lib\\site-packages\\anndata\\_core\\anndata.py:1793: UserWarning: Variable names are not unique. To make them unique, call `.var_names_make_unique`.\n",
      "  utils.warn_names_duplicates(\"var\")\n",
      "C:\\Users\\prath\\AppData\\Local\\Temp\\ipykernel_18364\\218868813.py:87: RuntimeWarning: Mean of empty slice\n",
      "  mean_corr = np.nanmean(corrs)\n"
     ]
    },
    {
     "name": "stdout",
     "output_type": "stream",
     "text": [
      "MAGIC - adata_magic_imputed_mf20_run8.h5ad: Mean Pearson corr = nan\n"
     ]
    },
    {
     "name": "stderr",
     "output_type": "stream",
     "text": [
      "c:\\Users\\prath\\anaconda-new\\Lib\\site-packages\\anndata\\_core\\anndata.py:1791: UserWarning: Observation names are not unique. To make them unique, call `.obs_names_make_unique`.\n",
      "  utils.warn_names_duplicates(\"obs\")\n",
      "c:\\Users\\prath\\anaconda-new\\Lib\\site-packages\\anndata\\_core\\anndata.py:1793: UserWarning: Variable names are not unique. To make them unique, call `.var_names_make_unique`.\n",
      "  utils.warn_names_duplicates(\"var\")\n",
      "C:\\Users\\prath\\AppData\\Local\\Temp\\ipykernel_18364\\218868813.py:87: RuntimeWarning: Mean of empty slice\n",
      "  mean_corr = np.nanmean(corrs)\n"
     ]
    },
    {
     "name": "stdout",
     "output_type": "stream",
     "text": [
      "MAGIC - adata_magic_imputed_mf20_run9.h5ad: Mean Pearson corr = nan\n"
     ]
    },
    {
     "name": "stderr",
     "output_type": "stream",
     "text": [
      "c:\\Users\\prath\\anaconda-new\\Lib\\site-packages\\anndata\\_core\\anndata.py:1791: UserWarning: Observation names are not unique. To make them unique, call `.obs_names_make_unique`.\n",
      "  utils.warn_names_duplicates(\"obs\")\n",
      "c:\\Users\\prath\\anaconda-new\\Lib\\site-packages\\anndata\\_core\\anndata.py:1793: UserWarning: Variable names are not unique. To make them unique, call `.var_names_make_unique`.\n",
      "  utils.warn_names_duplicates(\"var\")\n",
      "C:\\Users\\prath\\AppData\\Local\\Temp\\ipykernel_18364\\218868813.py:87: RuntimeWarning: Mean of empty slice\n",
      "  mean_corr = np.nanmean(corrs)\n"
     ]
    },
    {
     "name": "stdout",
     "output_type": "stream",
     "text": [
      "MAGIC - adata_magic_imputed_mf30_run1.h5ad: Mean Pearson corr = nan\n"
     ]
    },
    {
     "name": "stderr",
     "output_type": "stream",
     "text": [
      "c:\\Users\\prath\\anaconda-new\\Lib\\site-packages\\anndata\\_core\\anndata.py:1791: UserWarning: Observation names are not unique. To make them unique, call `.obs_names_make_unique`.\n",
      "  utils.warn_names_duplicates(\"obs\")\n",
      "c:\\Users\\prath\\anaconda-new\\Lib\\site-packages\\anndata\\_core\\anndata.py:1793: UserWarning: Variable names are not unique. To make them unique, call `.var_names_make_unique`.\n",
      "  utils.warn_names_duplicates(\"var\")\n",
      "C:\\Users\\prath\\AppData\\Local\\Temp\\ipykernel_18364\\218868813.py:87: RuntimeWarning: Mean of empty slice\n",
      "  mean_corr = np.nanmean(corrs)\n"
     ]
    },
    {
     "name": "stdout",
     "output_type": "stream",
     "text": [
      "MAGIC - adata_magic_imputed_mf30_run10.h5ad: Mean Pearson corr = nan\n"
     ]
    },
    {
     "name": "stderr",
     "output_type": "stream",
     "text": [
      "c:\\Users\\prath\\anaconda-new\\Lib\\site-packages\\anndata\\_core\\anndata.py:1791: UserWarning: Observation names are not unique. To make them unique, call `.obs_names_make_unique`.\n",
      "  utils.warn_names_duplicates(\"obs\")\n",
      "c:\\Users\\prath\\anaconda-new\\Lib\\site-packages\\anndata\\_core\\anndata.py:1793: UserWarning: Variable names are not unique. To make them unique, call `.var_names_make_unique`.\n",
      "  utils.warn_names_duplicates(\"var\")\n",
      "C:\\Users\\prath\\AppData\\Local\\Temp\\ipykernel_18364\\218868813.py:87: RuntimeWarning: Mean of empty slice\n",
      "  mean_corr = np.nanmean(corrs)\n"
     ]
    },
    {
     "name": "stdout",
     "output_type": "stream",
     "text": [
      "MAGIC - adata_magic_imputed_mf30_run2.h5ad: Mean Pearson corr = nan\n"
     ]
    },
    {
     "name": "stderr",
     "output_type": "stream",
     "text": [
      "c:\\Users\\prath\\anaconda-new\\Lib\\site-packages\\anndata\\_core\\anndata.py:1791: UserWarning: Observation names are not unique. To make them unique, call `.obs_names_make_unique`.\n",
      "  utils.warn_names_duplicates(\"obs\")\n",
      "c:\\Users\\prath\\anaconda-new\\Lib\\site-packages\\anndata\\_core\\anndata.py:1793: UserWarning: Variable names are not unique. To make them unique, call `.var_names_make_unique`.\n",
      "  utils.warn_names_duplicates(\"var\")\n",
      "C:\\Users\\prath\\AppData\\Local\\Temp\\ipykernel_18364\\218868813.py:87: RuntimeWarning: Mean of empty slice\n",
      "  mean_corr = np.nanmean(corrs)\n"
     ]
    },
    {
     "name": "stdout",
     "output_type": "stream",
     "text": [
      "MAGIC - adata_magic_imputed_mf30_run3.h5ad: Mean Pearson corr = nan\n"
     ]
    },
    {
     "name": "stderr",
     "output_type": "stream",
     "text": [
      "c:\\Users\\prath\\anaconda-new\\Lib\\site-packages\\anndata\\_core\\anndata.py:1791: UserWarning: Observation names are not unique. To make them unique, call `.obs_names_make_unique`.\n",
      "  utils.warn_names_duplicates(\"obs\")\n",
      "c:\\Users\\prath\\anaconda-new\\Lib\\site-packages\\anndata\\_core\\anndata.py:1793: UserWarning: Variable names are not unique. To make them unique, call `.var_names_make_unique`.\n",
      "  utils.warn_names_duplicates(\"var\")\n",
      "C:\\Users\\prath\\AppData\\Local\\Temp\\ipykernel_18364\\218868813.py:87: RuntimeWarning: Mean of empty slice\n",
      "  mean_corr = np.nanmean(corrs)\n"
     ]
    },
    {
     "name": "stdout",
     "output_type": "stream",
     "text": [
      "MAGIC - adata_magic_imputed_mf30_run4.h5ad: Mean Pearson corr = nan\n"
     ]
    },
    {
     "name": "stderr",
     "output_type": "stream",
     "text": [
      "c:\\Users\\prath\\anaconda-new\\Lib\\site-packages\\anndata\\_core\\anndata.py:1791: UserWarning: Observation names are not unique. To make them unique, call `.obs_names_make_unique`.\n",
      "  utils.warn_names_duplicates(\"obs\")\n",
      "c:\\Users\\prath\\anaconda-new\\Lib\\site-packages\\anndata\\_core\\anndata.py:1793: UserWarning: Variable names are not unique. To make them unique, call `.var_names_make_unique`.\n",
      "  utils.warn_names_duplicates(\"var\")\n",
      "C:\\Users\\prath\\AppData\\Local\\Temp\\ipykernel_18364\\218868813.py:87: RuntimeWarning: Mean of empty slice\n",
      "  mean_corr = np.nanmean(corrs)\n"
     ]
    },
    {
     "name": "stdout",
     "output_type": "stream",
     "text": [
      "MAGIC - adata_magic_imputed_mf30_run5.h5ad: Mean Pearson corr = nan\n"
     ]
    },
    {
     "name": "stderr",
     "output_type": "stream",
     "text": [
      "c:\\Users\\prath\\anaconda-new\\Lib\\site-packages\\anndata\\_core\\anndata.py:1791: UserWarning: Observation names are not unique. To make them unique, call `.obs_names_make_unique`.\n",
      "  utils.warn_names_duplicates(\"obs\")\n",
      "c:\\Users\\prath\\anaconda-new\\Lib\\site-packages\\anndata\\_core\\anndata.py:1793: UserWarning: Variable names are not unique. To make them unique, call `.var_names_make_unique`.\n",
      "  utils.warn_names_duplicates(\"var\")\n",
      "C:\\Users\\prath\\AppData\\Local\\Temp\\ipykernel_18364\\218868813.py:87: RuntimeWarning: Mean of empty slice\n",
      "  mean_corr = np.nanmean(corrs)\n"
     ]
    },
    {
     "name": "stdout",
     "output_type": "stream",
     "text": [
      "MAGIC - adata_magic_imputed_mf30_run6.h5ad: Mean Pearson corr = nan\n"
     ]
    },
    {
     "name": "stderr",
     "output_type": "stream",
     "text": [
      "c:\\Users\\prath\\anaconda-new\\Lib\\site-packages\\anndata\\_core\\anndata.py:1791: UserWarning: Observation names are not unique. To make them unique, call `.obs_names_make_unique`.\n",
      "  utils.warn_names_duplicates(\"obs\")\n",
      "c:\\Users\\prath\\anaconda-new\\Lib\\site-packages\\anndata\\_core\\anndata.py:1793: UserWarning: Variable names are not unique. To make them unique, call `.var_names_make_unique`.\n",
      "  utils.warn_names_duplicates(\"var\")\n",
      "C:\\Users\\prath\\AppData\\Local\\Temp\\ipykernel_18364\\218868813.py:87: RuntimeWarning: Mean of empty slice\n",
      "  mean_corr = np.nanmean(corrs)\n"
     ]
    },
    {
     "name": "stdout",
     "output_type": "stream",
     "text": [
      "MAGIC - adata_magic_imputed_mf30_run7.h5ad: Mean Pearson corr = nan\n"
     ]
    },
    {
     "name": "stderr",
     "output_type": "stream",
     "text": [
      "c:\\Users\\prath\\anaconda-new\\Lib\\site-packages\\anndata\\_core\\anndata.py:1791: UserWarning: Observation names are not unique. To make them unique, call `.obs_names_make_unique`.\n",
      "  utils.warn_names_duplicates(\"obs\")\n",
      "c:\\Users\\prath\\anaconda-new\\Lib\\site-packages\\anndata\\_core\\anndata.py:1793: UserWarning: Variable names are not unique. To make them unique, call `.var_names_make_unique`.\n",
      "  utils.warn_names_duplicates(\"var\")\n",
      "C:\\Users\\prath\\AppData\\Local\\Temp\\ipykernel_18364\\218868813.py:87: RuntimeWarning: Mean of empty slice\n",
      "  mean_corr = np.nanmean(corrs)\n"
     ]
    },
    {
     "name": "stdout",
     "output_type": "stream",
     "text": [
      "MAGIC - adata_magic_imputed_mf30_run8.h5ad: Mean Pearson corr = nan\n"
     ]
    },
    {
     "name": "stderr",
     "output_type": "stream",
     "text": [
      "c:\\Users\\prath\\anaconda-new\\Lib\\site-packages\\anndata\\_core\\anndata.py:1791: UserWarning: Observation names are not unique. To make them unique, call `.obs_names_make_unique`.\n",
      "  utils.warn_names_duplicates(\"obs\")\n",
      "c:\\Users\\prath\\anaconda-new\\Lib\\site-packages\\anndata\\_core\\anndata.py:1793: UserWarning: Variable names are not unique. To make them unique, call `.var_names_make_unique`.\n",
      "  utils.warn_names_duplicates(\"var\")\n",
      "C:\\Users\\prath\\AppData\\Local\\Temp\\ipykernel_18364\\218868813.py:87: RuntimeWarning: Mean of empty slice\n",
      "  mean_corr = np.nanmean(corrs)\n"
     ]
    },
    {
     "name": "stdout",
     "output_type": "stream",
     "text": [
      "MAGIC - adata_magic_imputed_mf30_run9.h5ad: Mean Pearson corr = nan\n"
     ]
    },
    {
     "name": "stderr",
     "output_type": "stream",
     "text": [
      "C:\\Users\\prath\\AppData\\Local\\Temp\\ipykernel_18364\\218868813.py:87: RuntimeWarning: Mean of empty slice\n",
      "  mean_corr = np.nanmean(corrs)\n"
     ]
    },
    {
     "name": "stdout",
     "output_type": "stream",
     "text": [
      "KNN - adata_knn_imputed_mf10_run1.h5ad: Mean Pearson corr = nan\n"
     ]
    },
    {
     "name": "stderr",
     "output_type": "stream",
     "text": [
      "C:\\Users\\prath\\AppData\\Local\\Temp\\ipykernel_18364\\218868813.py:87: RuntimeWarning: Mean of empty slice\n",
      "  mean_corr = np.nanmean(corrs)\n"
     ]
    },
    {
     "name": "stdout",
     "output_type": "stream",
     "text": [
      "KNN - adata_knn_imputed_mf10_run10.h5ad: Mean Pearson corr = nan\n"
     ]
    },
    {
     "name": "stderr",
     "output_type": "stream",
     "text": [
      "C:\\Users\\prath\\AppData\\Local\\Temp\\ipykernel_18364\\218868813.py:87: RuntimeWarning: Mean of empty slice\n",
      "  mean_corr = np.nanmean(corrs)\n"
     ]
    },
    {
     "name": "stdout",
     "output_type": "stream",
     "text": [
      "KNN - adata_knn_imputed_mf10_run2.h5ad: Mean Pearson corr = nan\n"
     ]
    },
    {
     "name": "stderr",
     "output_type": "stream",
     "text": [
      "C:\\Users\\prath\\AppData\\Local\\Temp\\ipykernel_18364\\218868813.py:87: RuntimeWarning: Mean of empty slice\n",
      "  mean_corr = np.nanmean(corrs)\n"
     ]
    },
    {
     "name": "stdout",
     "output_type": "stream",
     "text": [
      "KNN - adata_knn_imputed_mf10_run3.h5ad: Mean Pearson corr = nan\n"
     ]
    },
    {
     "name": "stderr",
     "output_type": "stream",
     "text": [
      "C:\\Users\\prath\\AppData\\Local\\Temp\\ipykernel_18364\\218868813.py:87: RuntimeWarning: Mean of empty slice\n",
      "  mean_corr = np.nanmean(corrs)\n"
     ]
    },
    {
     "name": "stdout",
     "output_type": "stream",
     "text": [
      "KNN - adata_knn_imputed_mf10_run4.h5ad: Mean Pearson corr = nan\n"
     ]
    },
    {
     "name": "stderr",
     "output_type": "stream",
     "text": [
      "C:\\Users\\prath\\AppData\\Local\\Temp\\ipykernel_18364\\218868813.py:87: RuntimeWarning: Mean of empty slice\n",
      "  mean_corr = np.nanmean(corrs)\n"
     ]
    },
    {
     "name": "stdout",
     "output_type": "stream",
     "text": [
      "KNN - adata_knn_imputed_mf10_run5.h5ad: Mean Pearson corr = nan\n"
     ]
    },
    {
     "name": "stderr",
     "output_type": "stream",
     "text": [
      "C:\\Users\\prath\\AppData\\Local\\Temp\\ipykernel_18364\\218868813.py:87: RuntimeWarning: Mean of empty slice\n",
      "  mean_corr = np.nanmean(corrs)\n"
     ]
    },
    {
     "name": "stdout",
     "output_type": "stream",
     "text": [
      "KNN - adata_knn_imputed_mf10_run6.h5ad: Mean Pearson corr = nan\n"
     ]
    },
    {
     "name": "stderr",
     "output_type": "stream",
     "text": [
      "C:\\Users\\prath\\AppData\\Local\\Temp\\ipykernel_18364\\218868813.py:87: RuntimeWarning: Mean of empty slice\n",
      "  mean_corr = np.nanmean(corrs)\n"
     ]
    },
    {
     "name": "stdout",
     "output_type": "stream",
     "text": [
      "KNN - adata_knn_imputed_mf10_run7.h5ad: Mean Pearson corr = nan\n"
     ]
    },
    {
     "name": "stderr",
     "output_type": "stream",
     "text": [
      "C:\\Users\\prath\\AppData\\Local\\Temp\\ipykernel_18364\\218868813.py:87: RuntimeWarning: Mean of empty slice\n",
      "  mean_corr = np.nanmean(corrs)\n"
     ]
    },
    {
     "name": "stdout",
     "output_type": "stream",
     "text": [
      "KNN - adata_knn_imputed_mf10_run8.h5ad: Mean Pearson corr = nan\n"
     ]
    },
    {
     "name": "stderr",
     "output_type": "stream",
     "text": [
      "C:\\Users\\prath\\AppData\\Local\\Temp\\ipykernel_18364\\218868813.py:87: RuntimeWarning: Mean of empty slice\n",
      "  mean_corr = np.nanmean(corrs)\n"
     ]
    },
    {
     "name": "stdout",
     "output_type": "stream",
     "text": [
      "KNN - adata_knn_imputed_mf10_run9.h5ad: Mean Pearson corr = nan\n"
     ]
    },
    {
     "name": "stderr",
     "output_type": "stream",
     "text": [
      "C:\\Users\\prath\\AppData\\Local\\Temp\\ipykernel_18364\\218868813.py:87: RuntimeWarning: Mean of empty slice\n",
      "  mean_corr = np.nanmean(corrs)\n"
     ]
    },
    {
     "name": "stdout",
     "output_type": "stream",
     "text": [
      "KNN - adata_knn_imputed_mf20_run1.h5ad: Mean Pearson corr = nan\n"
     ]
    },
    {
     "name": "stderr",
     "output_type": "stream",
     "text": [
      "C:\\Users\\prath\\AppData\\Local\\Temp\\ipykernel_18364\\218868813.py:87: RuntimeWarning: Mean of empty slice\n",
      "  mean_corr = np.nanmean(corrs)\n"
     ]
    },
    {
     "name": "stdout",
     "output_type": "stream",
     "text": [
      "KNN - adata_knn_imputed_mf20_run10.h5ad: Mean Pearson corr = nan\n"
     ]
    },
    {
     "name": "stderr",
     "output_type": "stream",
     "text": [
      "C:\\Users\\prath\\AppData\\Local\\Temp\\ipykernel_18364\\218868813.py:87: RuntimeWarning: Mean of empty slice\n",
      "  mean_corr = np.nanmean(corrs)\n"
     ]
    },
    {
     "name": "stdout",
     "output_type": "stream",
     "text": [
      "KNN - adata_knn_imputed_mf20_run2.h5ad: Mean Pearson corr = nan\n"
     ]
    },
    {
     "name": "stderr",
     "output_type": "stream",
     "text": [
      "C:\\Users\\prath\\AppData\\Local\\Temp\\ipykernel_18364\\218868813.py:87: RuntimeWarning: Mean of empty slice\n",
      "  mean_corr = np.nanmean(corrs)\n"
     ]
    },
    {
     "name": "stdout",
     "output_type": "stream",
     "text": [
      "KNN - adata_knn_imputed_mf20_run3.h5ad: Mean Pearson corr = nan\n"
     ]
    },
    {
     "name": "stderr",
     "output_type": "stream",
     "text": [
      "C:\\Users\\prath\\AppData\\Local\\Temp\\ipykernel_18364\\218868813.py:87: RuntimeWarning: Mean of empty slice\n",
      "  mean_corr = np.nanmean(corrs)\n"
     ]
    },
    {
     "name": "stdout",
     "output_type": "stream",
     "text": [
      "KNN - adata_knn_imputed_mf20_run4.h5ad: Mean Pearson corr = nan\n"
     ]
    },
    {
     "name": "stderr",
     "output_type": "stream",
     "text": [
      "C:\\Users\\prath\\AppData\\Local\\Temp\\ipykernel_18364\\218868813.py:87: RuntimeWarning: Mean of empty slice\n",
      "  mean_corr = np.nanmean(corrs)\n"
     ]
    },
    {
     "name": "stdout",
     "output_type": "stream",
     "text": [
      "KNN - adata_knn_imputed_mf20_run5.h5ad: Mean Pearson corr = nan\n"
     ]
    },
    {
     "name": "stderr",
     "output_type": "stream",
     "text": [
      "C:\\Users\\prath\\AppData\\Local\\Temp\\ipykernel_18364\\218868813.py:87: RuntimeWarning: Mean of empty slice\n",
      "  mean_corr = np.nanmean(corrs)\n"
     ]
    },
    {
     "name": "stdout",
     "output_type": "stream",
     "text": [
      "KNN - adata_knn_imputed_mf20_run6.h5ad: Mean Pearson corr = nan\n"
     ]
    },
    {
     "name": "stderr",
     "output_type": "stream",
     "text": [
      "C:\\Users\\prath\\AppData\\Local\\Temp\\ipykernel_18364\\218868813.py:87: RuntimeWarning: Mean of empty slice\n",
      "  mean_corr = np.nanmean(corrs)\n"
     ]
    },
    {
     "name": "stdout",
     "output_type": "stream",
     "text": [
      "KNN - adata_knn_imputed_mf20_run7.h5ad: Mean Pearson corr = nan\n"
     ]
    },
    {
     "name": "stderr",
     "output_type": "stream",
     "text": [
      "C:\\Users\\prath\\AppData\\Local\\Temp\\ipykernel_18364\\218868813.py:87: RuntimeWarning: Mean of empty slice\n",
      "  mean_corr = np.nanmean(corrs)\n"
     ]
    },
    {
     "name": "stdout",
     "output_type": "stream",
     "text": [
      "KNN - adata_knn_imputed_mf20_run8.h5ad: Mean Pearson corr = nan\n"
     ]
    },
    {
     "name": "stderr",
     "output_type": "stream",
     "text": [
      "C:\\Users\\prath\\AppData\\Local\\Temp\\ipykernel_18364\\218868813.py:87: RuntimeWarning: Mean of empty slice\n",
      "  mean_corr = np.nanmean(corrs)\n"
     ]
    },
    {
     "name": "stdout",
     "output_type": "stream",
     "text": [
      "KNN - adata_knn_imputed_mf20_run9.h5ad: Mean Pearson corr = nan\n"
     ]
    },
    {
     "name": "stderr",
     "output_type": "stream",
     "text": [
      "C:\\Users\\prath\\AppData\\Local\\Temp\\ipykernel_18364\\218868813.py:87: RuntimeWarning: Mean of empty slice\n",
      "  mean_corr = np.nanmean(corrs)\n"
     ]
    },
    {
     "name": "stdout",
     "output_type": "stream",
     "text": [
      "KNN - adata_knn_imputed_mf30_run1.h5ad: Mean Pearson corr = nan\n"
     ]
    },
    {
     "name": "stderr",
     "output_type": "stream",
     "text": [
      "C:\\Users\\prath\\AppData\\Local\\Temp\\ipykernel_18364\\218868813.py:87: RuntimeWarning: Mean of empty slice\n",
      "  mean_corr = np.nanmean(corrs)\n"
     ]
    },
    {
     "name": "stdout",
     "output_type": "stream",
     "text": [
      "KNN - adata_knn_imputed_mf30_run10.h5ad: Mean Pearson corr = nan\n"
     ]
    },
    {
     "name": "stderr",
     "output_type": "stream",
     "text": [
      "C:\\Users\\prath\\AppData\\Local\\Temp\\ipykernel_18364\\218868813.py:87: RuntimeWarning: Mean of empty slice\n",
      "  mean_corr = np.nanmean(corrs)\n"
     ]
    },
    {
     "name": "stdout",
     "output_type": "stream",
     "text": [
      "KNN - adata_knn_imputed_mf30_run2.h5ad: Mean Pearson corr = nan\n"
     ]
    },
    {
     "name": "stderr",
     "output_type": "stream",
     "text": [
      "C:\\Users\\prath\\AppData\\Local\\Temp\\ipykernel_18364\\218868813.py:87: RuntimeWarning: Mean of empty slice\n",
      "  mean_corr = np.nanmean(corrs)\n"
     ]
    },
    {
     "name": "stdout",
     "output_type": "stream",
     "text": [
      "KNN - adata_knn_imputed_mf30_run3.h5ad: Mean Pearson corr = nan\n"
     ]
    },
    {
     "name": "stderr",
     "output_type": "stream",
     "text": [
      "C:\\Users\\prath\\AppData\\Local\\Temp\\ipykernel_18364\\218868813.py:87: RuntimeWarning: Mean of empty slice\n",
      "  mean_corr = np.nanmean(corrs)\n"
     ]
    },
    {
     "name": "stdout",
     "output_type": "stream",
     "text": [
      "KNN - adata_knn_imputed_mf30_run4.h5ad: Mean Pearson corr = nan\n"
     ]
    },
    {
     "name": "stderr",
     "output_type": "stream",
     "text": [
      "C:\\Users\\prath\\AppData\\Local\\Temp\\ipykernel_18364\\218868813.py:87: RuntimeWarning: Mean of empty slice\n",
      "  mean_corr = np.nanmean(corrs)\n"
     ]
    },
    {
     "name": "stdout",
     "output_type": "stream",
     "text": [
      "KNN - adata_knn_imputed_mf30_run5.h5ad: Mean Pearson corr = nan\n"
     ]
    },
    {
     "name": "stderr",
     "output_type": "stream",
     "text": [
      "C:\\Users\\prath\\AppData\\Local\\Temp\\ipykernel_18364\\218868813.py:87: RuntimeWarning: Mean of empty slice\n",
      "  mean_corr = np.nanmean(corrs)\n"
     ]
    },
    {
     "name": "stdout",
     "output_type": "stream",
     "text": [
      "KNN - adata_knn_imputed_mf30_run6.h5ad: Mean Pearson corr = nan\n"
     ]
    },
    {
     "name": "stderr",
     "output_type": "stream",
     "text": [
      "C:\\Users\\prath\\AppData\\Local\\Temp\\ipykernel_18364\\218868813.py:87: RuntimeWarning: Mean of empty slice\n",
      "  mean_corr = np.nanmean(corrs)\n"
     ]
    },
    {
     "name": "stdout",
     "output_type": "stream",
     "text": [
      "KNN - adata_knn_imputed_mf30_run7.h5ad: Mean Pearson corr = nan\n"
     ]
    },
    {
     "name": "stderr",
     "output_type": "stream",
     "text": [
      "C:\\Users\\prath\\AppData\\Local\\Temp\\ipykernel_18364\\218868813.py:87: RuntimeWarning: Mean of empty slice\n",
      "  mean_corr = np.nanmean(corrs)\n"
     ]
    },
    {
     "name": "stdout",
     "output_type": "stream",
     "text": [
      "KNN - adata_knn_imputed_mf30_run8.h5ad: Mean Pearson corr = nan\n"
     ]
    },
    {
     "name": "stderr",
     "output_type": "stream",
     "text": [
      "C:\\Users\\prath\\AppData\\Local\\Temp\\ipykernel_18364\\218868813.py:87: RuntimeWarning: Mean of empty slice\n",
      "  mean_corr = np.nanmean(corrs)\n"
     ]
    },
    {
     "name": "stdout",
     "output_type": "stream",
     "text": [
      "KNN - adata_knn_imputed_mf30_run9.h5ad: Mean Pearson corr = nan\n"
     ]
    },
    {
     "name": "stderr",
     "output_type": "stream",
     "text": [
      "c:\\Users\\prath\\anaconda-new\\Lib\\site-packages\\anndata\\_core\\anndata.py:1791: UserWarning: Observation names are not unique. To make them unique, call `.obs_names_make_unique`.\n",
      "  utils.warn_names_duplicates(\"obs\")\n",
      "c:\\Users\\prath\\anaconda-new\\Lib\\site-packages\\anndata\\_core\\anndata.py:1793: UserWarning: Variable names are not unique. To make them unique, call `.var_names_make_unique`.\n",
      "  utils.warn_names_duplicates(\"var\")\n",
      "C:\\Users\\prath\\AppData\\Local\\Temp\\ipykernel_18364\\218868813.py:87: RuntimeWarning: Mean of empty slice\n",
      "  mean_corr = np.nanmean(corrs)\n"
     ]
    },
    {
     "name": "stdout",
     "output_type": "stream",
     "text": [
      "Mean - adata_mean_imputed_mf10_run1.h5ad: Mean Pearson corr = nan\n"
     ]
    },
    {
     "name": "stderr",
     "output_type": "stream",
     "text": [
      "c:\\Users\\prath\\anaconda-new\\Lib\\site-packages\\anndata\\_core\\anndata.py:1791: UserWarning: Observation names are not unique. To make them unique, call `.obs_names_make_unique`.\n",
      "  utils.warn_names_duplicates(\"obs\")\n",
      "c:\\Users\\prath\\anaconda-new\\Lib\\site-packages\\anndata\\_core\\anndata.py:1793: UserWarning: Variable names are not unique. To make them unique, call `.var_names_make_unique`.\n",
      "  utils.warn_names_duplicates(\"var\")\n",
      "C:\\Users\\prath\\AppData\\Local\\Temp\\ipykernel_18364\\218868813.py:87: RuntimeWarning: Mean of empty slice\n",
      "  mean_corr = np.nanmean(corrs)\n"
     ]
    },
    {
     "name": "stdout",
     "output_type": "stream",
     "text": [
      "Mean - adata_mean_imputed_mf10_run10.h5ad: Mean Pearson corr = nan\n"
     ]
    },
    {
     "name": "stderr",
     "output_type": "stream",
     "text": [
      "c:\\Users\\prath\\anaconda-new\\Lib\\site-packages\\anndata\\_core\\anndata.py:1791: UserWarning: Observation names are not unique. To make them unique, call `.obs_names_make_unique`.\n",
      "  utils.warn_names_duplicates(\"obs\")\n",
      "c:\\Users\\prath\\anaconda-new\\Lib\\site-packages\\anndata\\_core\\anndata.py:1793: UserWarning: Variable names are not unique. To make them unique, call `.var_names_make_unique`.\n",
      "  utils.warn_names_duplicates(\"var\")\n",
      "C:\\Users\\prath\\AppData\\Local\\Temp\\ipykernel_18364\\218868813.py:87: RuntimeWarning: Mean of empty slice\n",
      "  mean_corr = np.nanmean(corrs)\n"
     ]
    },
    {
     "name": "stdout",
     "output_type": "stream",
     "text": [
      "Mean - adata_mean_imputed_mf10_run2.h5ad: Mean Pearson corr = nan\n"
     ]
    },
    {
     "name": "stderr",
     "output_type": "stream",
     "text": [
      "c:\\Users\\prath\\anaconda-new\\Lib\\site-packages\\anndata\\_core\\anndata.py:1791: UserWarning: Observation names are not unique. To make them unique, call `.obs_names_make_unique`.\n",
      "  utils.warn_names_duplicates(\"obs\")\n",
      "c:\\Users\\prath\\anaconda-new\\Lib\\site-packages\\anndata\\_core\\anndata.py:1793: UserWarning: Variable names are not unique. To make them unique, call `.var_names_make_unique`.\n",
      "  utils.warn_names_duplicates(\"var\")\n",
      "C:\\Users\\prath\\AppData\\Local\\Temp\\ipykernel_18364\\218868813.py:87: RuntimeWarning: Mean of empty slice\n",
      "  mean_corr = np.nanmean(corrs)\n"
     ]
    },
    {
     "name": "stdout",
     "output_type": "stream",
     "text": [
      "Mean - adata_mean_imputed_mf10_run3.h5ad: Mean Pearson corr = nan\n"
     ]
    },
    {
     "name": "stderr",
     "output_type": "stream",
     "text": [
      "c:\\Users\\prath\\anaconda-new\\Lib\\site-packages\\anndata\\_core\\anndata.py:1791: UserWarning: Observation names are not unique. To make them unique, call `.obs_names_make_unique`.\n",
      "  utils.warn_names_duplicates(\"obs\")\n",
      "c:\\Users\\prath\\anaconda-new\\Lib\\site-packages\\anndata\\_core\\anndata.py:1793: UserWarning: Variable names are not unique. To make them unique, call `.var_names_make_unique`.\n",
      "  utils.warn_names_duplicates(\"var\")\n",
      "C:\\Users\\prath\\AppData\\Local\\Temp\\ipykernel_18364\\218868813.py:87: RuntimeWarning: Mean of empty slice\n",
      "  mean_corr = np.nanmean(corrs)\n"
     ]
    },
    {
     "name": "stdout",
     "output_type": "stream",
     "text": [
      "Mean - adata_mean_imputed_mf10_run4.h5ad: Mean Pearson corr = nan\n"
     ]
    },
    {
     "name": "stderr",
     "output_type": "stream",
     "text": [
      "c:\\Users\\prath\\anaconda-new\\Lib\\site-packages\\anndata\\_core\\anndata.py:1791: UserWarning: Observation names are not unique. To make them unique, call `.obs_names_make_unique`.\n",
      "  utils.warn_names_duplicates(\"obs\")\n",
      "c:\\Users\\prath\\anaconda-new\\Lib\\site-packages\\anndata\\_core\\anndata.py:1793: UserWarning: Variable names are not unique. To make them unique, call `.var_names_make_unique`.\n",
      "  utils.warn_names_duplicates(\"var\")\n",
      "C:\\Users\\prath\\AppData\\Local\\Temp\\ipykernel_18364\\218868813.py:87: RuntimeWarning: Mean of empty slice\n",
      "  mean_corr = np.nanmean(corrs)\n"
     ]
    },
    {
     "name": "stdout",
     "output_type": "stream",
     "text": [
      "Mean - adata_mean_imputed_mf10_run5.h5ad: Mean Pearson corr = nan\n"
     ]
    },
    {
     "name": "stderr",
     "output_type": "stream",
     "text": [
      "c:\\Users\\prath\\anaconda-new\\Lib\\site-packages\\anndata\\_core\\anndata.py:1791: UserWarning: Observation names are not unique. To make them unique, call `.obs_names_make_unique`.\n",
      "  utils.warn_names_duplicates(\"obs\")\n",
      "c:\\Users\\prath\\anaconda-new\\Lib\\site-packages\\anndata\\_core\\anndata.py:1793: UserWarning: Variable names are not unique. To make them unique, call `.var_names_make_unique`.\n",
      "  utils.warn_names_duplicates(\"var\")\n",
      "C:\\Users\\prath\\AppData\\Local\\Temp\\ipykernel_18364\\218868813.py:87: RuntimeWarning: Mean of empty slice\n",
      "  mean_corr = np.nanmean(corrs)\n"
     ]
    },
    {
     "name": "stdout",
     "output_type": "stream",
     "text": [
      "Mean - adata_mean_imputed_mf10_run6.h5ad: Mean Pearson corr = nan\n"
     ]
    },
    {
     "name": "stderr",
     "output_type": "stream",
     "text": [
      "c:\\Users\\prath\\anaconda-new\\Lib\\site-packages\\anndata\\_core\\anndata.py:1791: UserWarning: Observation names are not unique. To make them unique, call `.obs_names_make_unique`.\n",
      "  utils.warn_names_duplicates(\"obs\")\n",
      "c:\\Users\\prath\\anaconda-new\\Lib\\site-packages\\anndata\\_core\\anndata.py:1793: UserWarning: Variable names are not unique. To make them unique, call `.var_names_make_unique`.\n",
      "  utils.warn_names_duplicates(\"var\")\n",
      "C:\\Users\\prath\\AppData\\Local\\Temp\\ipykernel_18364\\218868813.py:87: RuntimeWarning: Mean of empty slice\n",
      "  mean_corr = np.nanmean(corrs)\n"
     ]
    },
    {
     "name": "stdout",
     "output_type": "stream",
     "text": [
      "Mean - adata_mean_imputed_mf10_run7.h5ad: Mean Pearson corr = nan\n"
     ]
    },
    {
     "name": "stderr",
     "output_type": "stream",
     "text": [
      "c:\\Users\\prath\\anaconda-new\\Lib\\site-packages\\anndata\\_core\\anndata.py:1791: UserWarning: Observation names are not unique. To make them unique, call `.obs_names_make_unique`.\n",
      "  utils.warn_names_duplicates(\"obs\")\n",
      "c:\\Users\\prath\\anaconda-new\\Lib\\site-packages\\anndata\\_core\\anndata.py:1793: UserWarning: Variable names are not unique. To make them unique, call `.var_names_make_unique`.\n",
      "  utils.warn_names_duplicates(\"var\")\n",
      "C:\\Users\\prath\\AppData\\Local\\Temp\\ipykernel_18364\\218868813.py:87: RuntimeWarning: Mean of empty slice\n",
      "  mean_corr = np.nanmean(corrs)\n"
     ]
    },
    {
     "name": "stdout",
     "output_type": "stream",
     "text": [
      "Mean - adata_mean_imputed_mf10_run8.h5ad: Mean Pearson corr = nan\n"
     ]
    },
    {
     "name": "stderr",
     "output_type": "stream",
     "text": [
      "c:\\Users\\prath\\anaconda-new\\Lib\\site-packages\\anndata\\_core\\anndata.py:1791: UserWarning: Observation names are not unique. To make them unique, call `.obs_names_make_unique`.\n",
      "  utils.warn_names_duplicates(\"obs\")\n",
      "c:\\Users\\prath\\anaconda-new\\Lib\\site-packages\\anndata\\_core\\anndata.py:1793: UserWarning: Variable names are not unique. To make them unique, call `.var_names_make_unique`.\n",
      "  utils.warn_names_duplicates(\"var\")\n",
      "C:\\Users\\prath\\AppData\\Local\\Temp\\ipykernel_18364\\218868813.py:87: RuntimeWarning: Mean of empty slice\n",
      "  mean_corr = np.nanmean(corrs)\n"
     ]
    },
    {
     "name": "stdout",
     "output_type": "stream",
     "text": [
      "Mean - adata_mean_imputed_mf10_run9.h5ad: Mean Pearson corr = nan\n"
     ]
    },
    {
     "name": "stderr",
     "output_type": "stream",
     "text": [
      "c:\\Users\\prath\\anaconda-new\\Lib\\site-packages\\anndata\\_core\\anndata.py:1791: UserWarning: Observation names are not unique. To make them unique, call `.obs_names_make_unique`.\n",
      "  utils.warn_names_duplicates(\"obs\")\n",
      "c:\\Users\\prath\\anaconda-new\\Lib\\site-packages\\anndata\\_core\\anndata.py:1793: UserWarning: Variable names are not unique. To make them unique, call `.var_names_make_unique`.\n",
      "  utils.warn_names_duplicates(\"var\")\n",
      "C:\\Users\\prath\\AppData\\Local\\Temp\\ipykernel_18364\\218868813.py:87: RuntimeWarning: Mean of empty slice\n",
      "  mean_corr = np.nanmean(corrs)\n"
     ]
    },
    {
     "name": "stdout",
     "output_type": "stream",
     "text": [
      "Mean - adata_mean_imputed_mf20_run1.h5ad: Mean Pearson corr = nan\n"
     ]
    },
    {
     "name": "stderr",
     "output_type": "stream",
     "text": [
      "c:\\Users\\prath\\anaconda-new\\Lib\\site-packages\\anndata\\_core\\anndata.py:1791: UserWarning: Observation names are not unique. To make them unique, call `.obs_names_make_unique`.\n",
      "  utils.warn_names_duplicates(\"obs\")\n",
      "c:\\Users\\prath\\anaconda-new\\Lib\\site-packages\\anndata\\_core\\anndata.py:1793: UserWarning: Variable names are not unique. To make them unique, call `.var_names_make_unique`.\n",
      "  utils.warn_names_duplicates(\"var\")\n",
      "C:\\Users\\prath\\AppData\\Local\\Temp\\ipykernel_18364\\218868813.py:87: RuntimeWarning: Mean of empty slice\n",
      "  mean_corr = np.nanmean(corrs)\n"
     ]
    },
    {
     "name": "stdout",
     "output_type": "stream",
     "text": [
      "Mean - adata_mean_imputed_mf20_run10.h5ad: Mean Pearson corr = nan\n"
     ]
    },
    {
     "name": "stderr",
     "output_type": "stream",
     "text": [
      "c:\\Users\\prath\\anaconda-new\\Lib\\site-packages\\anndata\\_core\\anndata.py:1791: UserWarning: Observation names are not unique. To make them unique, call `.obs_names_make_unique`.\n",
      "  utils.warn_names_duplicates(\"obs\")\n",
      "c:\\Users\\prath\\anaconda-new\\Lib\\site-packages\\anndata\\_core\\anndata.py:1793: UserWarning: Variable names are not unique. To make them unique, call `.var_names_make_unique`.\n",
      "  utils.warn_names_duplicates(\"var\")\n",
      "C:\\Users\\prath\\AppData\\Local\\Temp\\ipykernel_18364\\218868813.py:87: RuntimeWarning: Mean of empty slice\n",
      "  mean_corr = np.nanmean(corrs)\n"
     ]
    },
    {
     "name": "stdout",
     "output_type": "stream",
     "text": [
      "Mean - adata_mean_imputed_mf20_run2.h5ad: Mean Pearson corr = nan\n"
     ]
    },
    {
     "name": "stderr",
     "output_type": "stream",
     "text": [
      "c:\\Users\\prath\\anaconda-new\\Lib\\site-packages\\anndata\\_core\\anndata.py:1791: UserWarning: Observation names are not unique. To make them unique, call `.obs_names_make_unique`.\n",
      "  utils.warn_names_duplicates(\"obs\")\n",
      "c:\\Users\\prath\\anaconda-new\\Lib\\site-packages\\anndata\\_core\\anndata.py:1793: UserWarning: Variable names are not unique. To make them unique, call `.var_names_make_unique`.\n",
      "  utils.warn_names_duplicates(\"var\")\n",
      "C:\\Users\\prath\\AppData\\Local\\Temp\\ipykernel_18364\\218868813.py:87: RuntimeWarning: Mean of empty slice\n",
      "  mean_corr = np.nanmean(corrs)\n"
     ]
    },
    {
     "name": "stdout",
     "output_type": "stream",
     "text": [
      "Mean - adata_mean_imputed_mf20_run3.h5ad: Mean Pearson corr = nan\n"
     ]
    },
    {
     "name": "stderr",
     "output_type": "stream",
     "text": [
      "c:\\Users\\prath\\anaconda-new\\Lib\\site-packages\\anndata\\_core\\anndata.py:1791: UserWarning: Observation names are not unique. To make them unique, call `.obs_names_make_unique`.\n",
      "  utils.warn_names_duplicates(\"obs\")\n",
      "c:\\Users\\prath\\anaconda-new\\Lib\\site-packages\\anndata\\_core\\anndata.py:1793: UserWarning: Variable names are not unique. To make them unique, call `.var_names_make_unique`.\n",
      "  utils.warn_names_duplicates(\"var\")\n",
      "C:\\Users\\prath\\AppData\\Local\\Temp\\ipykernel_18364\\218868813.py:87: RuntimeWarning: Mean of empty slice\n",
      "  mean_corr = np.nanmean(corrs)\n"
     ]
    },
    {
     "name": "stdout",
     "output_type": "stream",
     "text": [
      "Mean - adata_mean_imputed_mf20_run4.h5ad: Mean Pearson corr = nan\n"
     ]
    },
    {
     "name": "stderr",
     "output_type": "stream",
     "text": [
      "c:\\Users\\prath\\anaconda-new\\Lib\\site-packages\\anndata\\_core\\anndata.py:1791: UserWarning: Observation names are not unique. To make them unique, call `.obs_names_make_unique`.\n",
      "  utils.warn_names_duplicates(\"obs\")\n",
      "c:\\Users\\prath\\anaconda-new\\Lib\\site-packages\\anndata\\_core\\anndata.py:1793: UserWarning: Variable names are not unique. To make them unique, call `.var_names_make_unique`.\n",
      "  utils.warn_names_duplicates(\"var\")\n",
      "C:\\Users\\prath\\AppData\\Local\\Temp\\ipykernel_18364\\218868813.py:87: RuntimeWarning: Mean of empty slice\n",
      "  mean_corr = np.nanmean(corrs)\n"
     ]
    },
    {
     "name": "stdout",
     "output_type": "stream",
     "text": [
      "Mean - adata_mean_imputed_mf20_run5.h5ad: Mean Pearson corr = nan\n"
     ]
    },
    {
     "name": "stderr",
     "output_type": "stream",
     "text": [
      "c:\\Users\\prath\\anaconda-new\\Lib\\site-packages\\anndata\\_core\\anndata.py:1791: UserWarning: Observation names are not unique. To make them unique, call `.obs_names_make_unique`.\n",
      "  utils.warn_names_duplicates(\"obs\")\n",
      "c:\\Users\\prath\\anaconda-new\\Lib\\site-packages\\anndata\\_core\\anndata.py:1793: UserWarning: Variable names are not unique. To make them unique, call `.var_names_make_unique`.\n",
      "  utils.warn_names_duplicates(\"var\")\n",
      "C:\\Users\\prath\\AppData\\Local\\Temp\\ipykernel_18364\\218868813.py:87: RuntimeWarning: Mean of empty slice\n",
      "  mean_corr = np.nanmean(corrs)\n"
     ]
    },
    {
     "name": "stdout",
     "output_type": "stream",
     "text": [
      "Mean - adata_mean_imputed_mf20_run6.h5ad: Mean Pearson corr = nan\n"
     ]
    },
    {
     "name": "stderr",
     "output_type": "stream",
     "text": [
      "c:\\Users\\prath\\anaconda-new\\Lib\\site-packages\\anndata\\_core\\anndata.py:1791: UserWarning: Observation names are not unique. To make them unique, call `.obs_names_make_unique`.\n",
      "  utils.warn_names_duplicates(\"obs\")\n",
      "c:\\Users\\prath\\anaconda-new\\Lib\\site-packages\\anndata\\_core\\anndata.py:1793: UserWarning: Variable names are not unique. To make them unique, call `.var_names_make_unique`.\n",
      "  utils.warn_names_duplicates(\"var\")\n",
      "C:\\Users\\prath\\AppData\\Local\\Temp\\ipykernel_18364\\218868813.py:87: RuntimeWarning: Mean of empty slice\n",
      "  mean_corr = np.nanmean(corrs)\n"
     ]
    },
    {
     "name": "stdout",
     "output_type": "stream",
     "text": [
      "Mean - adata_mean_imputed_mf20_run7.h5ad: Mean Pearson corr = nan\n"
     ]
    },
    {
     "name": "stderr",
     "output_type": "stream",
     "text": [
      "c:\\Users\\prath\\anaconda-new\\Lib\\site-packages\\anndata\\_core\\anndata.py:1791: UserWarning: Observation names are not unique. To make them unique, call `.obs_names_make_unique`.\n",
      "  utils.warn_names_duplicates(\"obs\")\n",
      "c:\\Users\\prath\\anaconda-new\\Lib\\site-packages\\anndata\\_core\\anndata.py:1793: UserWarning: Variable names are not unique. To make them unique, call `.var_names_make_unique`.\n",
      "  utils.warn_names_duplicates(\"var\")\n",
      "C:\\Users\\prath\\AppData\\Local\\Temp\\ipykernel_18364\\218868813.py:87: RuntimeWarning: Mean of empty slice\n",
      "  mean_corr = np.nanmean(corrs)\n"
     ]
    },
    {
     "name": "stdout",
     "output_type": "stream",
     "text": [
      "Mean - adata_mean_imputed_mf20_run8.h5ad: Mean Pearson corr = nan\n"
     ]
    },
    {
     "name": "stderr",
     "output_type": "stream",
     "text": [
      "c:\\Users\\prath\\anaconda-new\\Lib\\site-packages\\anndata\\_core\\anndata.py:1791: UserWarning: Observation names are not unique. To make them unique, call `.obs_names_make_unique`.\n",
      "  utils.warn_names_duplicates(\"obs\")\n",
      "c:\\Users\\prath\\anaconda-new\\Lib\\site-packages\\anndata\\_core\\anndata.py:1793: UserWarning: Variable names are not unique. To make them unique, call `.var_names_make_unique`.\n",
      "  utils.warn_names_duplicates(\"var\")\n",
      "C:\\Users\\prath\\AppData\\Local\\Temp\\ipykernel_18364\\218868813.py:87: RuntimeWarning: Mean of empty slice\n",
      "  mean_corr = np.nanmean(corrs)\n"
     ]
    },
    {
     "name": "stdout",
     "output_type": "stream",
     "text": [
      "Mean - adata_mean_imputed_mf20_run9.h5ad: Mean Pearson corr = nan\n"
     ]
    },
    {
     "name": "stderr",
     "output_type": "stream",
     "text": [
      "c:\\Users\\prath\\anaconda-new\\Lib\\site-packages\\anndata\\_core\\anndata.py:1791: UserWarning: Observation names are not unique. To make them unique, call `.obs_names_make_unique`.\n",
      "  utils.warn_names_duplicates(\"obs\")\n",
      "c:\\Users\\prath\\anaconda-new\\Lib\\site-packages\\anndata\\_core\\anndata.py:1793: UserWarning: Variable names are not unique. To make them unique, call `.var_names_make_unique`.\n",
      "  utils.warn_names_duplicates(\"var\")\n",
      "C:\\Users\\prath\\AppData\\Local\\Temp\\ipykernel_18364\\218868813.py:87: RuntimeWarning: Mean of empty slice\n",
      "  mean_corr = np.nanmean(corrs)\n"
     ]
    },
    {
     "name": "stdout",
     "output_type": "stream",
     "text": [
      "Mean - adata_mean_imputed_mf30_run1.h5ad: Mean Pearson corr = nan\n"
     ]
    },
    {
     "name": "stderr",
     "output_type": "stream",
     "text": [
      "c:\\Users\\prath\\anaconda-new\\Lib\\site-packages\\anndata\\_core\\anndata.py:1791: UserWarning: Observation names are not unique. To make them unique, call `.obs_names_make_unique`.\n",
      "  utils.warn_names_duplicates(\"obs\")\n",
      "c:\\Users\\prath\\anaconda-new\\Lib\\site-packages\\anndata\\_core\\anndata.py:1793: UserWarning: Variable names are not unique. To make them unique, call `.var_names_make_unique`.\n",
      "  utils.warn_names_duplicates(\"var\")\n",
      "C:\\Users\\prath\\AppData\\Local\\Temp\\ipykernel_18364\\218868813.py:87: RuntimeWarning: Mean of empty slice\n",
      "  mean_corr = np.nanmean(corrs)\n"
     ]
    },
    {
     "name": "stdout",
     "output_type": "stream",
     "text": [
      "Mean - adata_mean_imputed_mf30_run10.h5ad: Mean Pearson corr = nan\n"
     ]
    },
    {
     "name": "stderr",
     "output_type": "stream",
     "text": [
      "c:\\Users\\prath\\anaconda-new\\Lib\\site-packages\\anndata\\_core\\anndata.py:1791: UserWarning: Observation names are not unique. To make them unique, call `.obs_names_make_unique`.\n",
      "  utils.warn_names_duplicates(\"obs\")\n",
      "c:\\Users\\prath\\anaconda-new\\Lib\\site-packages\\anndata\\_core\\anndata.py:1793: UserWarning: Variable names are not unique. To make them unique, call `.var_names_make_unique`.\n",
      "  utils.warn_names_duplicates(\"var\")\n",
      "C:\\Users\\prath\\AppData\\Local\\Temp\\ipykernel_18364\\218868813.py:87: RuntimeWarning: Mean of empty slice\n",
      "  mean_corr = np.nanmean(corrs)\n"
     ]
    },
    {
     "name": "stdout",
     "output_type": "stream",
     "text": [
      "Mean - adata_mean_imputed_mf30_run2.h5ad: Mean Pearson corr = nan\n"
     ]
    },
    {
     "name": "stderr",
     "output_type": "stream",
     "text": [
      "c:\\Users\\prath\\anaconda-new\\Lib\\site-packages\\anndata\\_core\\anndata.py:1791: UserWarning: Observation names are not unique. To make them unique, call `.obs_names_make_unique`.\n",
      "  utils.warn_names_duplicates(\"obs\")\n",
      "c:\\Users\\prath\\anaconda-new\\Lib\\site-packages\\anndata\\_core\\anndata.py:1793: UserWarning: Variable names are not unique. To make them unique, call `.var_names_make_unique`.\n",
      "  utils.warn_names_duplicates(\"var\")\n",
      "C:\\Users\\prath\\AppData\\Local\\Temp\\ipykernel_18364\\218868813.py:87: RuntimeWarning: Mean of empty slice\n",
      "  mean_corr = np.nanmean(corrs)\n"
     ]
    },
    {
     "name": "stdout",
     "output_type": "stream",
     "text": [
      "Mean - adata_mean_imputed_mf30_run3.h5ad: Mean Pearson corr = nan\n"
     ]
    },
    {
     "name": "stderr",
     "output_type": "stream",
     "text": [
      "c:\\Users\\prath\\anaconda-new\\Lib\\site-packages\\anndata\\_core\\anndata.py:1791: UserWarning: Observation names are not unique. To make them unique, call `.obs_names_make_unique`.\n",
      "  utils.warn_names_duplicates(\"obs\")\n",
      "c:\\Users\\prath\\anaconda-new\\Lib\\site-packages\\anndata\\_core\\anndata.py:1793: UserWarning: Variable names are not unique. To make them unique, call `.var_names_make_unique`.\n",
      "  utils.warn_names_duplicates(\"var\")\n",
      "C:\\Users\\prath\\AppData\\Local\\Temp\\ipykernel_18364\\218868813.py:87: RuntimeWarning: Mean of empty slice\n",
      "  mean_corr = np.nanmean(corrs)\n"
     ]
    },
    {
     "name": "stdout",
     "output_type": "stream",
     "text": [
      "Mean - adata_mean_imputed_mf30_run4.h5ad: Mean Pearson corr = nan\n"
     ]
    },
    {
     "name": "stderr",
     "output_type": "stream",
     "text": [
      "c:\\Users\\prath\\anaconda-new\\Lib\\site-packages\\anndata\\_core\\anndata.py:1791: UserWarning: Observation names are not unique. To make them unique, call `.obs_names_make_unique`.\n",
      "  utils.warn_names_duplicates(\"obs\")\n",
      "c:\\Users\\prath\\anaconda-new\\Lib\\site-packages\\anndata\\_core\\anndata.py:1793: UserWarning: Variable names are not unique. To make them unique, call `.var_names_make_unique`.\n",
      "  utils.warn_names_duplicates(\"var\")\n",
      "C:\\Users\\prath\\AppData\\Local\\Temp\\ipykernel_18364\\218868813.py:87: RuntimeWarning: Mean of empty slice\n",
      "  mean_corr = np.nanmean(corrs)\n"
     ]
    },
    {
     "name": "stdout",
     "output_type": "stream",
     "text": [
      "Mean - adata_mean_imputed_mf30_run5.h5ad: Mean Pearson corr = nan\n"
     ]
    },
    {
     "name": "stderr",
     "output_type": "stream",
     "text": [
      "c:\\Users\\prath\\anaconda-new\\Lib\\site-packages\\anndata\\_core\\anndata.py:1791: UserWarning: Observation names are not unique. To make them unique, call `.obs_names_make_unique`.\n",
      "  utils.warn_names_duplicates(\"obs\")\n",
      "c:\\Users\\prath\\anaconda-new\\Lib\\site-packages\\anndata\\_core\\anndata.py:1793: UserWarning: Variable names are not unique. To make them unique, call `.var_names_make_unique`.\n",
      "  utils.warn_names_duplicates(\"var\")\n",
      "C:\\Users\\prath\\AppData\\Local\\Temp\\ipykernel_18364\\218868813.py:87: RuntimeWarning: Mean of empty slice\n",
      "  mean_corr = np.nanmean(corrs)\n"
     ]
    },
    {
     "name": "stdout",
     "output_type": "stream",
     "text": [
      "Mean - adata_mean_imputed_mf30_run6.h5ad: Mean Pearson corr = nan\n"
     ]
    },
    {
     "name": "stderr",
     "output_type": "stream",
     "text": [
      "c:\\Users\\prath\\anaconda-new\\Lib\\site-packages\\anndata\\_core\\anndata.py:1791: UserWarning: Observation names are not unique. To make them unique, call `.obs_names_make_unique`.\n",
      "  utils.warn_names_duplicates(\"obs\")\n",
      "c:\\Users\\prath\\anaconda-new\\Lib\\site-packages\\anndata\\_core\\anndata.py:1793: UserWarning: Variable names are not unique. To make them unique, call `.var_names_make_unique`.\n",
      "  utils.warn_names_duplicates(\"var\")\n",
      "C:\\Users\\prath\\AppData\\Local\\Temp\\ipykernel_18364\\218868813.py:87: RuntimeWarning: Mean of empty slice\n",
      "  mean_corr = np.nanmean(corrs)\n"
     ]
    },
    {
     "name": "stdout",
     "output_type": "stream",
     "text": [
      "Mean - adata_mean_imputed_mf30_run7.h5ad: Mean Pearson corr = nan\n"
     ]
    },
    {
     "name": "stderr",
     "output_type": "stream",
     "text": [
      "c:\\Users\\prath\\anaconda-new\\Lib\\site-packages\\anndata\\_core\\anndata.py:1791: UserWarning: Observation names are not unique. To make them unique, call `.obs_names_make_unique`.\n",
      "  utils.warn_names_duplicates(\"obs\")\n",
      "c:\\Users\\prath\\anaconda-new\\Lib\\site-packages\\anndata\\_core\\anndata.py:1793: UserWarning: Variable names are not unique. To make them unique, call `.var_names_make_unique`.\n",
      "  utils.warn_names_duplicates(\"var\")\n",
      "C:\\Users\\prath\\AppData\\Local\\Temp\\ipykernel_18364\\218868813.py:87: RuntimeWarning: Mean of empty slice\n",
      "  mean_corr = np.nanmean(corrs)\n"
     ]
    },
    {
     "name": "stdout",
     "output_type": "stream",
     "text": [
      "Mean - adata_mean_imputed_mf30_run8.h5ad: Mean Pearson corr = nan\n"
     ]
    },
    {
     "name": "stderr",
     "output_type": "stream",
     "text": [
      "c:\\Users\\prath\\anaconda-new\\Lib\\site-packages\\anndata\\_core\\anndata.py:1791: UserWarning: Observation names are not unique. To make them unique, call `.obs_names_make_unique`.\n",
      "  utils.warn_names_duplicates(\"obs\")\n",
      "c:\\Users\\prath\\anaconda-new\\Lib\\site-packages\\anndata\\_core\\anndata.py:1793: UserWarning: Variable names are not unique. To make them unique, call `.var_names_make_unique`.\n",
      "  utils.warn_names_duplicates(\"var\")\n",
      "C:\\Users\\prath\\AppData\\Local\\Temp\\ipykernel_18364\\218868813.py:87: RuntimeWarning: Mean of empty slice\n",
      "  mean_corr = np.nanmean(corrs)\n"
     ]
    },
    {
     "name": "stdout",
     "output_type": "stream",
     "text": [
      "Mean - adata_mean_imputed_mf30_run9.h5ad: Mean Pearson corr = nan\n"
     ]
    },
    {
     "name": "stderr",
     "output_type": "stream",
     "text": [
      "c:\\Users\\prath\\anaconda-new\\Lib\\site-packages\\anndata\\_core\\anndata.py:1791: UserWarning: Observation names are not unique. To make them unique, call `.obs_names_make_unique`.\n",
      "  utils.warn_names_duplicates(\"obs\")\n",
      "c:\\Users\\prath\\anaconda-new\\Lib\\site-packages\\anndata\\_core\\anndata.py:1793: UserWarning: Variable names are not unique. To make them unique, call `.var_names_make_unique`.\n",
      "  utils.warn_names_duplicates(\"var\")\n",
      "C:\\Users\\prath\\AppData\\Local\\Temp\\ipykernel_18364\\218868813.py:87: RuntimeWarning: Mean of empty slice\n",
      "  mean_corr = np.nanmean(corrs)\n"
     ]
    },
    {
     "name": "stdout",
     "output_type": "stream",
     "text": [
      "GAN - adata_adata_gan_imputed_mf10_run1.h5ad: Mean Pearson corr = nan\n"
     ]
    },
    {
     "name": "stderr",
     "output_type": "stream",
     "text": [
      "c:\\Users\\prath\\anaconda-new\\Lib\\site-packages\\anndata\\_core\\anndata.py:1791: UserWarning: Observation names are not unique. To make them unique, call `.obs_names_make_unique`.\n",
      "  utils.warn_names_duplicates(\"obs\")\n",
      "c:\\Users\\prath\\anaconda-new\\Lib\\site-packages\\anndata\\_core\\anndata.py:1793: UserWarning: Variable names are not unique. To make them unique, call `.var_names_make_unique`.\n",
      "  utils.warn_names_duplicates(\"var\")\n",
      "C:\\Users\\prath\\AppData\\Local\\Temp\\ipykernel_18364\\218868813.py:87: RuntimeWarning: Mean of empty slice\n",
      "  mean_corr = np.nanmean(corrs)\n"
     ]
    },
    {
     "name": "stdout",
     "output_type": "stream",
     "text": [
      "GAN - adata_adata_gan_imputed_mf10_run10.h5ad: Mean Pearson corr = nan\n"
     ]
    },
    {
     "name": "stderr",
     "output_type": "stream",
     "text": [
      "c:\\Users\\prath\\anaconda-new\\Lib\\site-packages\\anndata\\_core\\anndata.py:1791: UserWarning: Observation names are not unique. To make them unique, call `.obs_names_make_unique`.\n",
      "  utils.warn_names_duplicates(\"obs\")\n",
      "c:\\Users\\prath\\anaconda-new\\Lib\\site-packages\\anndata\\_core\\anndata.py:1793: UserWarning: Variable names are not unique. To make them unique, call `.var_names_make_unique`.\n",
      "  utils.warn_names_duplicates(\"var\")\n",
      "C:\\Users\\prath\\AppData\\Local\\Temp\\ipykernel_18364\\218868813.py:87: RuntimeWarning: Mean of empty slice\n",
      "  mean_corr = np.nanmean(corrs)\n"
     ]
    },
    {
     "name": "stdout",
     "output_type": "stream",
     "text": [
      "GAN - adata_adata_gan_imputed_mf10_run2.h5ad: Mean Pearson corr = nan\n"
     ]
    },
    {
     "name": "stderr",
     "output_type": "stream",
     "text": [
      "c:\\Users\\prath\\anaconda-new\\Lib\\site-packages\\anndata\\_core\\anndata.py:1791: UserWarning: Observation names are not unique. To make them unique, call `.obs_names_make_unique`.\n",
      "  utils.warn_names_duplicates(\"obs\")\n",
      "c:\\Users\\prath\\anaconda-new\\Lib\\site-packages\\anndata\\_core\\anndata.py:1793: UserWarning: Variable names are not unique. To make them unique, call `.var_names_make_unique`.\n",
      "  utils.warn_names_duplicates(\"var\")\n",
      "C:\\Users\\prath\\AppData\\Local\\Temp\\ipykernel_18364\\218868813.py:87: RuntimeWarning: Mean of empty slice\n",
      "  mean_corr = np.nanmean(corrs)\n"
     ]
    },
    {
     "name": "stdout",
     "output_type": "stream",
     "text": [
      "GAN - adata_adata_gan_imputed_mf10_run3.h5ad: Mean Pearson corr = nan\n"
     ]
    },
    {
     "name": "stderr",
     "output_type": "stream",
     "text": [
      "c:\\Users\\prath\\anaconda-new\\Lib\\site-packages\\anndata\\_core\\anndata.py:1791: UserWarning: Observation names are not unique. To make them unique, call `.obs_names_make_unique`.\n",
      "  utils.warn_names_duplicates(\"obs\")\n",
      "c:\\Users\\prath\\anaconda-new\\Lib\\site-packages\\anndata\\_core\\anndata.py:1793: UserWarning: Variable names are not unique. To make them unique, call `.var_names_make_unique`.\n",
      "  utils.warn_names_duplicates(\"var\")\n",
      "C:\\Users\\prath\\AppData\\Local\\Temp\\ipykernel_18364\\218868813.py:87: RuntimeWarning: Mean of empty slice\n",
      "  mean_corr = np.nanmean(corrs)\n"
     ]
    },
    {
     "name": "stdout",
     "output_type": "stream",
     "text": [
      "GAN - adata_adata_gan_imputed_mf10_run4.h5ad: Mean Pearson corr = nan\n"
     ]
    },
    {
     "name": "stderr",
     "output_type": "stream",
     "text": [
      "c:\\Users\\prath\\anaconda-new\\Lib\\site-packages\\anndata\\_core\\anndata.py:1791: UserWarning: Observation names are not unique. To make them unique, call `.obs_names_make_unique`.\n",
      "  utils.warn_names_duplicates(\"obs\")\n",
      "c:\\Users\\prath\\anaconda-new\\Lib\\site-packages\\anndata\\_core\\anndata.py:1793: UserWarning: Variable names are not unique. To make them unique, call `.var_names_make_unique`.\n",
      "  utils.warn_names_duplicates(\"var\")\n",
      "C:\\Users\\prath\\AppData\\Local\\Temp\\ipykernel_18364\\218868813.py:87: RuntimeWarning: Mean of empty slice\n",
      "  mean_corr = np.nanmean(corrs)\n"
     ]
    },
    {
     "name": "stdout",
     "output_type": "stream",
     "text": [
      "GAN - adata_adata_gan_imputed_mf10_run5.h5ad: Mean Pearson corr = nan\n"
     ]
    },
    {
     "name": "stderr",
     "output_type": "stream",
     "text": [
      "c:\\Users\\prath\\anaconda-new\\Lib\\site-packages\\anndata\\_core\\anndata.py:1791: UserWarning: Observation names are not unique. To make them unique, call `.obs_names_make_unique`.\n",
      "  utils.warn_names_duplicates(\"obs\")\n",
      "c:\\Users\\prath\\anaconda-new\\Lib\\site-packages\\anndata\\_core\\anndata.py:1793: UserWarning: Variable names are not unique. To make them unique, call `.var_names_make_unique`.\n",
      "  utils.warn_names_duplicates(\"var\")\n",
      "C:\\Users\\prath\\AppData\\Local\\Temp\\ipykernel_18364\\218868813.py:87: RuntimeWarning: Mean of empty slice\n",
      "  mean_corr = np.nanmean(corrs)\n"
     ]
    },
    {
     "name": "stdout",
     "output_type": "stream",
     "text": [
      "GAN - adata_adata_gan_imputed_mf10_run6.h5ad: Mean Pearson corr = nan\n"
     ]
    },
    {
     "name": "stderr",
     "output_type": "stream",
     "text": [
      "c:\\Users\\prath\\anaconda-new\\Lib\\site-packages\\anndata\\_core\\anndata.py:1791: UserWarning: Observation names are not unique. To make them unique, call `.obs_names_make_unique`.\n",
      "  utils.warn_names_duplicates(\"obs\")\n",
      "c:\\Users\\prath\\anaconda-new\\Lib\\site-packages\\anndata\\_core\\anndata.py:1793: UserWarning: Variable names are not unique. To make them unique, call `.var_names_make_unique`.\n",
      "  utils.warn_names_duplicates(\"var\")\n",
      "C:\\Users\\prath\\AppData\\Local\\Temp\\ipykernel_18364\\218868813.py:87: RuntimeWarning: Mean of empty slice\n",
      "  mean_corr = np.nanmean(corrs)\n"
     ]
    },
    {
     "name": "stdout",
     "output_type": "stream",
     "text": [
      "GAN - adata_adata_gan_imputed_mf10_run7.h5ad: Mean Pearson corr = nan\n"
     ]
    },
    {
     "name": "stderr",
     "output_type": "stream",
     "text": [
      "c:\\Users\\prath\\anaconda-new\\Lib\\site-packages\\anndata\\_core\\anndata.py:1791: UserWarning: Observation names are not unique. To make them unique, call `.obs_names_make_unique`.\n",
      "  utils.warn_names_duplicates(\"obs\")\n",
      "c:\\Users\\prath\\anaconda-new\\Lib\\site-packages\\anndata\\_core\\anndata.py:1793: UserWarning: Variable names are not unique. To make them unique, call `.var_names_make_unique`.\n",
      "  utils.warn_names_duplicates(\"var\")\n",
      "C:\\Users\\prath\\AppData\\Local\\Temp\\ipykernel_18364\\218868813.py:87: RuntimeWarning: Mean of empty slice\n",
      "  mean_corr = np.nanmean(corrs)\n"
     ]
    },
    {
     "name": "stdout",
     "output_type": "stream",
     "text": [
      "GAN - adata_adata_gan_imputed_mf10_run8.h5ad: Mean Pearson corr = nan\n"
     ]
    },
    {
     "name": "stderr",
     "output_type": "stream",
     "text": [
      "c:\\Users\\prath\\anaconda-new\\Lib\\site-packages\\anndata\\_core\\anndata.py:1791: UserWarning: Observation names are not unique. To make them unique, call `.obs_names_make_unique`.\n",
      "  utils.warn_names_duplicates(\"obs\")\n",
      "c:\\Users\\prath\\anaconda-new\\Lib\\site-packages\\anndata\\_core\\anndata.py:1793: UserWarning: Variable names are not unique. To make them unique, call `.var_names_make_unique`.\n",
      "  utils.warn_names_duplicates(\"var\")\n",
      "C:\\Users\\prath\\AppData\\Local\\Temp\\ipykernel_18364\\218868813.py:87: RuntimeWarning: Mean of empty slice\n",
      "  mean_corr = np.nanmean(corrs)\n"
     ]
    },
    {
     "name": "stdout",
     "output_type": "stream",
     "text": [
      "GAN - adata_adata_gan_imputed_mf10_run9.h5ad: Mean Pearson corr = nan\n"
     ]
    },
    {
     "name": "stderr",
     "output_type": "stream",
     "text": [
      "c:\\Users\\prath\\anaconda-new\\Lib\\site-packages\\anndata\\_core\\anndata.py:1791: UserWarning: Observation names are not unique. To make them unique, call `.obs_names_make_unique`.\n",
      "  utils.warn_names_duplicates(\"obs\")\n",
      "c:\\Users\\prath\\anaconda-new\\Lib\\site-packages\\anndata\\_core\\anndata.py:1793: UserWarning: Variable names are not unique. To make them unique, call `.var_names_make_unique`.\n",
      "  utils.warn_names_duplicates(\"var\")\n",
      "C:\\Users\\prath\\AppData\\Local\\Temp\\ipykernel_18364\\218868813.py:87: RuntimeWarning: Mean of empty slice\n",
      "  mean_corr = np.nanmean(corrs)\n"
     ]
    },
    {
     "name": "stdout",
     "output_type": "stream",
     "text": [
      "GAN - adata_adata_gan_imputed_mf20_run1.h5ad: Mean Pearson corr = nan\n"
     ]
    },
    {
     "name": "stderr",
     "output_type": "stream",
     "text": [
      "c:\\Users\\prath\\anaconda-new\\Lib\\site-packages\\anndata\\_core\\anndata.py:1791: UserWarning: Observation names are not unique. To make them unique, call `.obs_names_make_unique`.\n",
      "  utils.warn_names_duplicates(\"obs\")\n",
      "c:\\Users\\prath\\anaconda-new\\Lib\\site-packages\\anndata\\_core\\anndata.py:1793: UserWarning: Variable names are not unique. To make them unique, call `.var_names_make_unique`.\n",
      "  utils.warn_names_duplicates(\"var\")\n",
      "C:\\Users\\prath\\AppData\\Local\\Temp\\ipykernel_18364\\218868813.py:87: RuntimeWarning: Mean of empty slice\n",
      "  mean_corr = np.nanmean(corrs)\n"
     ]
    },
    {
     "name": "stdout",
     "output_type": "stream",
     "text": [
      "GAN - adata_adata_gan_imputed_mf20_run10.h5ad: Mean Pearson corr = nan\n"
     ]
    },
    {
     "name": "stderr",
     "output_type": "stream",
     "text": [
      "c:\\Users\\prath\\anaconda-new\\Lib\\site-packages\\anndata\\_core\\anndata.py:1791: UserWarning: Observation names are not unique. To make them unique, call `.obs_names_make_unique`.\n",
      "  utils.warn_names_duplicates(\"obs\")\n",
      "c:\\Users\\prath\\anaconda-new\\Lib\\site-packages\\anndata\\_core\\anndata.py:1793: UserWarning: Variable names are not unique. To make them unique, call `.var_names_make_unique`.\n",
      "  utils.warn_names_duplicates(\"var\")\n",
      "C:\\Users\\prath\\AppData\\Local\\Temp\\ipykernel_18364\\218868813.py:87: RuntimeWarning: Mean of empty slice\n",
      "  mean_corr = np.nanmean(corrs)\n"
     ]
    },
    {
     "name": "stdout",
     "output_type": "stream",
     "text": [
      "GAN - adata_adata_gan_imputed_mf20_run2.h5ad: Mean Pearson corr = nan\n"
     ]
    },
    {
     "name": "stderr",
     "output_type": "stream",
     "text": [
      "c:\\Users\\prath\\anaconda-new\\Lib\\site-packages\\anndata\\_core\\anndata.py:1791: UserWarning: Observation names are not unique. To make them unique, call `.obs_names_make_unique`.\n",
      "  utils.warn_names_duplicates(\"obs\")\n",
      "c:\\Users\\prath\\anaconda-new\\Lib\\site-packages\\anndata\\_core\\anndata.py:1793: UserWarning: Variable names are not unique. To make them unique, call `.var_names_make_unique`.\n",
      "  utils.warn_names_duplicates(\"var\")\n",
      "C:\\Users\\prath\\AppData\\Local\\Temp\\ipykernel_18364\\218868813.py:87: RuntimeWarning: Mean of empty slice\n",
      "  mean_corr = np.nanmean(corrs)\n"
     ]
    },
    {
     "name": "stdout",
     "output_type": "stream",
     "text": [
      "GAN - adata_adata_gan_imputed_mf20_run3.h5ad: Mean Pearson corr = nan\n"
     ]
    },
    {
     "name": "stderr",
     "output_type": "stream",
     "text": [
      "c:\\Users\\prath\\anaconda-new\\Lib\\site-packages\\anndata\\_core\\anndata.py:1791: UserWarning: Observation names are not unique. To make them unique, call `.obs_names_make_unique`.\n",
      "  utils.warn_names_duplicates(\"obs\")\n",
      "c:\\Users\\prath\\anaconda-new\\Lib\\site-packages\\anndata\\_core\\anndata.py:1793: UserWarning: Variable names are not unique. To make them unique, call `.var_names_make_unique`.\n",
      "  utils.warn_names_duplicates(\"var\")\n",
      "C:\\Users\\prath\\AppData\\Local\\Temp\\ipykernel_18364\\218868813.py:87: RuntimeWarning: Mean of empty slice\n",
      "  mean_corr = np.nanmean(corrs)\n"
     ]
    },
    {
     "name": "stdout",
     "output_type": "stream",
     "text": [
      "GAN - adata_adata_gan_imputed_mf20_run4.h5ad: Mean Pearson corr = nan\n"
     ]
    },
    {
     "name": "stderr",
     "output_type": "stream",
     "text": [
      "c:\\Users\\prath\\anaconda-new\\Lib\\site-packages\\anndata\\_core\\anndata.py:1791: UserWarning: Observation names are not unique. To make them unique, call `.obs_names_make_unique`.\n",
      "  utils.warn_names_duplicates(\"obs\")\n",
      "c:\\Users\\prath\\anaconda-new\\Lib\\site-packages\\anndata\\_core\\anndata.py:1793: UserWarning: Variable names are not unique. To make them unique, call `.var_names_make_unique`.\n",
      "  utils.warn_names_duplicates(\"var\")\n",
      "C:\\Users\\prath\\AppData\\Local\\Temp\\ipykernel_18364\\218868813.py:87: RuntimeWarning: Mean of empty slice\n",
      "  mean_corr = np.nanmean(corrs)\n"
     ]
    },
    {
     "name": "stdout",
     "output_type": "stream",
     "text": [
      "GAN - adata_adata_gan_imputed_mf20_run5.h5ad: Mean Pearson corr = nan\n"
     ]
    },
    {
     "name": "stderr",
     "output_type": "stream",
     "text": [
      "c:\\Users\\prath\\anaconda-new\\Lib\\site-packages\\anndata\\_core\\anndata.py:1791: UserWarning: Observation names are not unique. To make them unique, call `.obs_names_make_unique`.\n",
      "  utils.warn_names_duplicates(\"obs\")\n",
      "c:\\Users\\prath\\anaconda-new\\Lib\\site-packages\\anndata\\_core\\anndata.py:1793: UserWarning: Variable names are not unique. To make them unique, call `.var_names_make_unique`.\n",
      "  utils.warn_names_duplicates(\"var\")\n",
      "C:\\Users\\prath\\AppData\\Local\\Temp\\ipykernel_18364\\218868813.py:87: RuntimeWarning: Mean of empty slice\n",
      "  mean_corr = np.nanmean(corrs)\n"
     ]
    },
    {
     "name": "stdout",
     "output_type": "stream",
     "text": [
      "GAN - adata_adata_gan_imputed_mf20_run6.h5ad: Mean Pearson corr = nan\n"
     ]
    },
    {
     "name": "stderr",
     "output_type": "stream",
     "text": [
      "c:\\Users\\prath\\anaconda-new\\Lib\\site-packages\\anndata\\_core\\anndata.py:1791: UserWarning: Observation names are not unique. To make them unique, call `.obs_names_make_unique`.\n",
      "  utils.warn_names_duplicates(\"obs\")\n",
      "c:\\Users\\prath\\anaconda-new\\Lib\\site-packages\\anndata\\_core\\anndata.py:1793: UserWarning: Variable names are not unique. To make them unique, call `.var_names_make_unique`.\n",
      "  utils.warn_names_duplicates(\"var\")\n",
      "C:\\Users\\prath\\AppData\\Local\\Temp\\ipykernel_18364\\218868813.py:87: RuntimeWarning: Mean of empty slice\n",
      "  mean_corr = np.nanmean(corrs)\n"
     ]
    },
    {
     "name": "stdout",
     "output_type": "stream",
     "text": [
      "GAN - adata_adata_gan_imputed_mf20_run7.h5ad: Mean Pearson corr = nan\n"
     ]
    },
    {
     "name": "stderr",
     "output_type": "stream",
     "text": [
      "c:\\Users\\prath\\anaconda-new\\Lib\\site-packages\\anndata\\_core\\anndata.py:1791: UserWarning: Observation names are not unique. To make them unique, call `.obs_names_make_unique`.\n",
      "  utils.warn_names_duplicates(\"obs\")\n",
      "c:\\Users\\prath\\anaconda-new\\Lib\\site-packages\\anndata\\_core\\anndata.py:1793: UserWarning: Variable names are not unique. To make them unique, call `.var_names_make_unique`.\n",
      "  utils.warn_names_duplicates(\"var\")\n",
      "C:\\Users\\prath\\AppData\\Local\\Temp\\ipykernel_18364\\218868813.py:87: RuntimeWarning: Mean of empty slice\n",
      "  mean_corr = np.nanmean(corrs)\n"
     ]
    },
    {
     "name": "stdout",
     "output_type": "stream",
     "text": [
      "GAN - adata_adata_gan_imputed_mf20_run8.h5ad: Mean Pearson corr = nan\n"
     ]
    },
    {
     "name": "stderr",
     "output_type": "stream",
     "text": [
      "c:\\Users\\prath\\anaconda-new\\Lib\\site-packages\\anndata\\_core\\anndata.py:1791: UserWarning: Observation names are not unique. To make them unique, call `.obs_names_make_unique`.\n",
      "  utils.warn_names_duplicates(\"obs\")\n",
      "c:\\Users\\prath\\anaconda-new\\Lib\\site-packages\\anndata\\_core\\anndata.py:1793: UserWarning: Variable names are not unique. To make them unique, call `.var_names_make_unique`.\n",
      "  utils.warn_names_duplicates(\"var\")\n",
      "C:\\Users\\prath\\AppData\\Local\\Temp\\ipykernel_18364\\218868813.py:87: RuntimeWarning: Mean of empty slice\n",
      "  mean_corr = np.nanmean(corrs)\n"
     ]
    },
    {
     "name": "stdout",
     "output_type": "stream",
     "text": [
      "GAN - adata_adata_gan_imputed_mf20_run9.h5ad: Mean Pearson corr = nan\n"
     ]
    },
    {
     "name": "stderr",
     "output_type": "stream",
     "text": [
      "c:\\Users\\prath\\anaconda-new\\Lib\\site-packages\\anndata\\_core\\anndata.py:1791: UserWarning: Observation names are not unique. To make them unique, call `.obs_names_make_unique`.\n",
      "  utils.warn_names_duplicates(\"obs\")\n",
      "c:\\Users\\prath\\anaconda-new\\Lib\\site-packages\\anndata\\_core\\anndata.py:1793: UserWarning: Variable names are not unique. To make them unique, call `.var_names_make_unique`.\n",
      "  utils.warn_names_duplicates(\"var\")\n",
      "C:\\Users\\prath\\AppData\\Local\\Temp\\ipykernel_18364\\218868813.py:87: RuntimeWarning: Mean of empty slice\n",
      "  mean_corr = np.nanmean(corrs)\n"
     ]
    },
    {
     "name": "stdout",
     "output_type": "stream",
     "text": [
      "GAN - adata_adata_gan_imputed_mf30_run1.h5ad: Mean Pearson corr = nan\n"
     ]
    },
    {
     "name": "stderr",
     "output_type": "stream",
     "text": [
      "c:\\Users\\prath\\anaconda-new\\Lib\\site-packages\\anndata\\_core\\anndata.py:1791: UserWarning: Observation names are not unique. To make them unique, call `.obs_names_make_unique`.\n",
      "  utils.warn_names_duplicates(\"obs\")\n",
      "c:\\Users\\prath\\anaconda-new\\Lib\\site-packages\\anndata\\_core\\anndata.py:1793: UserWarning: Variable names are not unique. To make them unique, call `.var_names_make_unique`.\n",
      "  utils.warn_names_duplicates(\"var\")\n",
      "C:\\Users\\prath\\AppData\\Local\\Temp\\ipykernel_18364\\218868813.py:87: RuntimeWarning: Mean of empty slice\n",
      "  mean_corr = np.nanmean(corrs)\n"
     ]
    },
    {
     "name": "stdout",
     "output_type": "stream",
     "text": [
      "GAN - adata_adata_gan_imputed_mf30_run10.h5ad: Mean Pearson corr = nan\n"
     ]
    },
    {
     "name": "stderr",
     "output_type": "stream",
     "text": [
      "c:\\Users\\prath\\anaconda-new\\Lib\\site-packages\\anndata\\_core\\anndata.py:1791: UserWarning: Observation names are not unique. To make them unique, call `.obs_names_make_unique`.\n",
      "  utils.warn_names_duplicates(\"obs\")\n",
      "c:\\Users\\prath\\anaconda-new\\Lib\\site-packages\\anndata\\_core\\anndata.py:1793: UserWarning: Variable names are not unique. To make them unique, call `.var_names_make_unique`.\n",
      "  utils.warn_names_duplicates(\"var\")\n",
      "C:\\Users\\prath\\AppData\\Local\\Temp\\ipykernel_18364\\218868813.py:87: RuntimeWarning: Mean of empty slice\n",
      "  mean_corr = np.nanmean(corrs)\n"
     ]
    },
    {
     "name": "stdout",
     "output_type": "stream",
     "text": [
      "GAN - adata_adata_gan_imputed_mf30_run2.h5ad: Mean Pearson corr = nan\n"
     ]
    },
    {
     "name": "stderr",
     "output_type": "stream",
     "text": [
      "c:\\Users\\prath\\anaconda-new\\Lib\\site-packages\\anndata\\_core\\anndata.py:1791: UserWarning: Observation names are not unique. To make them unique, call `.obs_names_make_unique`.\n",
      "  utils.warn_names_duplicates(\"obs\")\n",
      "c:\\Users\\prath\\anaconda-new\\Lib\\site-packages\\anndata\\_core\\anndata.py:1793: UserWarning: Variable names are not unique. To make them unique, call `.var_names_make_unique`.\n",
      "  utils.warn_names_duplicates(\"var\")\n",
      "C:\\Users\\prath\\AppData\\Local\\Temp\\ipykernel_18364\\218868813.py:87: RuntimeWarning: Mean of empty slice\n",
      "  mean_corr = np.nanmean(corrs)\n"
     ]
    },
    {
     "name": "stdout",
     "output_type": "stream",
     "text": [
      "GAN - adata_adata_gan_imputed_mf30_run3.h5ad: Mean Pearson corr = nan\n"
     ]
    },
    {
     "name": "stderr",
     "output_type": "stream",
     "text": [
      "c:\\Users\\prath\\anaconda-new\\Lib\\site-packages\\anndata\\_core\\anndata.py:1791: UserWarning: Observation names are not unique. To make them unique, call `.obs_names_make_unique`.\n",
      "  utils.warn_names_duplicates(\"obs\")\n",
      "c:\\Users\\prath\\anaconda-new\\Lib\\site-packages\\anndata\\_core\\anndata.py:1793: UserWarning: Variable names are not unique. To make them unique, call `.var_names_make_unique`.\n",
      "  utils.warn_names_duplicates(\"var\")\n",
      "C:\\Users\\prath\\AppData\\Local\\Temp\\ipykernel_18364\\218868813.py:87: RuntimeWarning: Mean of empty slice\n",
      "  mean_corr = np.nanmean(corrs)\n"
     ]
    },
    {
     "name": "stdout",
     "output_type": "stream",
     "text": [
      "GAN - adata_adata_gan_imputed_mf30_run4.h5ad: Mean Pearson corr = nan\n"
     ]
    },
    {
     "name": "stderr",
     "output_type": "stream",
     "text": [
      "c:\\Users\\prath\\anaconda-new\\Lib\\site-packages\\anndata\\_core\\anndata.py:1791: UserWarning: Observation names are not unique. To make them unique, call `.obs_names_make_unique`.\n",
      "  utils.warn_names_duplicates(\"obs\")\n",
      "c:\\Users\\prath\\anaconda-new\\Lib\\site-packages\\anndata\\_core\\anndata.py:1793: UserWarning: Variable names are not unique. To make them unique, call `.var_names_make_unique`.\n",
      "  utils.warn_names_duplicates(\"var\")\n",
      "C:\\Users\\prath\\AppData\\Local\\Temp\\ipykernel_18364\\218868813.py:87: RuntimeWarning: Mean of empty slice\n",
      "  mean_corr = np.nanmean(corrs)\n"
     ]
    },
    {
     "name": "stdout",
     "output_type": "stream",
     "text": [
      "GAN - adata_adata_gan_imputed_mf30_run5.h5ad: Mean Pearson corr = nan\n"
     ]
    },
    {
     "name": "stderr",
     "output_type": "stream",
     "text": [
      "c:\\Users\\prath\\anaconda-new\\Lib\\site-packages\\anndata\\_core\\anndata.py:1791: UserWarning: Observation names are not unique. To make them unique, call `.obs_names_make_unique`.\n",
      "  utils.warn_names_duplicates(\"obs\")\n",
      "c:\\Users\\prath\\anaconda-new\\Lib\\site-packages\\anndata\\_core\\anndata.py:1793: UserWarning: Variable names are not unique. To make them unique, call `.var_names_make_unique`.\n",
      "  utils.warn_names_duplicates(\"var\")\n",
      "C:\\Users\\prath\\AppData\\Local\\Temp\\ipykernel_18364\\218868813.py:87: RuntimeWarning: Mean of empty slice\n",
      "  mean_corr = np.nanmean(corrs)\n"
     ]
    },
    {
     "name": "stdout",
     "output_type": "stream",
     "text": [
      "GAN - adata_adata_gan_imputed_mf30_run6.h5ad: Mean Pearson corr = nan\n"
     ]
    },
    {
     "name": "stderr",
     "output_type": "stream",
     "text": [
      "c:\\Users\\prath\\anaconda-new\\Lib\\site-packages\\anndata\\_core\\anndata.py:1791: UserWarning: Observation names are not unique. To make them unique, call `.obs_names_make_unique`.\n",
      "  utils.warn_names_duplicates(\"obs\")\n",
      "c:\\Users\\prath\\anaconda-new\\Lib\\site-packages\\anndata\\_core\\anndata.py:1793: UserWarning: Variable names are not unique. To make them unique, call `.var_names_make_unique`.\n",
      "  utils.warn_names_duplicates(\"var\")\n",
      "C:\\Users\\prath\\AppData\\Local\\Temp\\ipykernel_18364\\218868813.py:87: RuntimeWarning: Mean of empty slice\n",
      "  mean_corr = np.nanmean(corrs)\n"
     ]
    },
    {
     "name": "stdout",
     "output_type": "stream",
     "text": [
      "GAN - adata_adata_gan_imputed_mf30_run7.h5ad: Mean Pearson corr = nan\n"
     ]
    },
    {
     "name": "stderr",
     "output_type": "stream",
     "text": [
      "c:\\Users\\prath\\anaconda-new\\Lib\\site-packages\\anndata\\_core\\anndata.py:1791: UserWarning: Observation names are not unique. To make them unique, call `.obs_names_make_unique`.\n",
      "  utils.warn_names_duplicates(\"obs\")\n",
      "c:\\Users\\prath\\anaconda-new\\Lib\\site-packages\\anndata\\_core\\anndata.py:1793: UserWarning: Variable names are not unique. To make them unique, call `.var_names_make_unique`.\n",
      "  utils.warn_names_duplicates(\"var\")\n",
      "C:\\Users\\prath\\AppData\\Local\\Temp\\ipykernel_18364\\218868813.py:87: RuntimeWarning: Mean of empty slice\n",
      "  mean_corr = np.nanmean(corrs)\n"
     ]
    },
    {
     "name": "stdout",
     "output_type": "stream",
     "text": [
      "GAN - adata_adata_gan_imputed_mf30_run8.h5ad: Mean Pearson corr = nan\n"
     ]
    },
    {
     "name": "stderr",
     "output_type": "stream",
     "text": [
      "c:\\Users\\prath\\anaconda-new\\Lib\\site-packages\\anndata\\_core\\anndata.py:1791: UserWarning: Observation names are not unique. To make them unique, call `.obs_names_make_unique`.\n",
      "  utils.warn_names_duplicates(\"obs\")\n",
      "c:\\Users\\prath\\anaconda-new\\Lib\\site-packages\\anndata\\_core\\anndata.py:1793: UserWarning: Variable names are not unique. To make them unique, call `.var_names_make_unique`.\n",
      "  utils.warn_names_duplicates(\"var\")\n",
      "C:\\Users\\prath\\AppData\\Local\\Temp\\ipykernel_18364\\218868813.py:87: RuntimeWarning: Mean of empty slice\n",
      "  mean_corr = np.nanmean(corrs)\n"
     ]
    },
    {
     "name": "stdout",
     "output_type": "stream",
     "text": [
      "GAN - adata_adata_gan_imputed_mf30_run9.h5ad: Mean Pearson corr = nan\n"
     ]
    },
    {
     "name": "stderr",
     "output_type": "stream",
     "text": [
      "C:\\Users\\prath\\AppData\\Local\\Temp\\ipykernel_18364\\218868813.py:87: RuntimeWarning: Mean of empty slice\n",
      "  mean_corr = np.nanmean(corrs)\n"
     ]
    },
    {
     "name": "stdout",
     "output_type": "stream",
     "text": [
      "Iterative - adata_iterative_imputed_mf10_run1.h5ad: Mean Pearson corr = nan\n"
     ]
    },
    {
     "name": "stderr",
     "output_type": "stream",
     "text": [
      "C:\\Users\\prath\\AppData\\Local\\Temp\\ipykernel_18364\\218868813.py:87: RuntimeWarning: Mean of empty slice\n",
      "  mean_corr = np.nanmean(corrs)\n"
     ]
    },
    {
     "name": "stdout",
     "output_type": "stream",
     "text": [
      "Iterative - adata_iterative_imputed_mf10_run10.h5ad: Mean Pearson corr = nan\n"
     ]
    },
    {
     "name": "stderr",
     "output_type": "stream",
     "text": [
      "C:\\Users\\prath\\AppData\\Local\\Temp\\ipykernel_18364\\218868813.py:87: RuntimeWarning: Mean of empty slice\n",
      "  mean_corr = np.nanmean(corrs)\n"
     ]
    },
    {
     "name": "stdout",
     "output_type": "stream",
     "text": [
      "Iterative - adata_iterative_imputed_mf10_run2.h5ad: Mean Pearson corr = nan\n"
     ]
    },
    {
     "name": "stderr",
     "output_type": "stream",
     "text": [
      "C:\\Users\\prath\\AppData\\Local\\Temp\\ipykernel_18364\\218868813.py:87: RuntimeWarning: Mean of empty slice\n",
      "  mean_corr = np.nanmean(corrs)\n"
     ]
    },
    {
     "name": "stdout",
     "output_type": "stream",
     "text": [
      "Iterative - adata_iterative_imputed_mf10_run3.h5ad: Mean Pearson corr = nan\n"
     ]
    },
    {
     "name": "stderr",
     "output_type": "stream",
     "text": [
      "C:\\Users\\prath\\AppData\\Local\\Temp\\ipykernel_18364\\218868813.py:87: RuntimeWarning: Mean of empty slice\n",
      "  mean_corr = np.nanmean(corrs)\n"
     ]
    },
    {
     "name": "stdout",
     "output_type": "stream",
     "text": [
      "Iterative - adata_iterative_imputed_mf10_run4.h5ad: Mean Pearson corr = nan\n"
     ]
    },
    {
     "name": "stderr",
     "output_type": "stream",
     "text": [
      "C:\\Users\\prath\\AppData\\Local\\Temp\\ipykernel_18364\\218868813.py:87: RuntimeWarning: Mean of empty slice\n",
      "  mean_corr = np.nanmean(corrs)\n"
     ]
    },
    {
     "name": "stdout",
     "output_type": "stream",
     "text": [
      "Iterative - adata_iterative_imputed_mf10_run5.h5ad: Mean Pearson corr = nan\n"
     ]
    },
    {
     "name": "stderr",
     "output_type": "stream",
     "text": [
      "C:\\Users\\prath\\AppData\\Local\\Temp\\ipykernel_18364\\218868813.py:87: RuntimeWarning: Mean of empty slice\n",
      "  mean_corr = np.nanmean(corrs)\n"
     ]
    },
    {
     "name": "stdout",
     "output_type": "stream",
     "text": [
      "Iterative - adata_iterative_imputed_mf10_run6.h5ad: Mean Pearson corr = nan\n"
     ]
    },
    {
     "name": "stderr",
     "output_type": "stream",
     "text": [
      "C:\\Users\\prath\\AppData\\Local\\Temp\\ipykernel_18364\\218868813.py:87: RuntimeWarning: Mean of empty slice\n",
      "  mean_corr = np.nanmean(corrs)\n"
     ]
    },
    {
     "name": "stdout",
     "output_type": "stream",
     "text": [
      "Iterative - adata_iterative_imputed_mf10_run7.h5ad: Mean Pearson corr = nan\n"
     ]
    },
    {
     "name": "stderr",
     "output_type": "stream",
     "text": [
      "C:\\Users\\prath\\AppData\\Local\\Temp\\ipykernel_18364\\218868813.py:87: RuntimeWarning: Mean of empty slice\n",
      "  mean_corr = np.nanmean(corrs)\n"
     ]
    },
    {
     "name": "stdout",
     "output_type": "stream",
     "text": [
      "Iterative - adata_iterative_imputed_mf10_run8.h5ad: Mean Pearson corr = nan\n"
     ]
    },
    {
     "name": "stderr",
     "output_type": "stream",
     "text": [
      "C:\\Users\\prath\\AppData\\Local\\Temp\\ipykernel_18364\\218868813.py:87: RuntimeWarning: Mean of empty slice\n",
      "  mean_corr = np.nanmean(corrs)\n"
     ]
    },
    {
     "name": "stdout",
     "output_type": "stream",
     "text": [
      "Iterative - adata_iterative_imputed_mf10_run9.h5ad: Mean Pearson corr = nan\n"
     ]
    },
    {
     "name": "stderr",
     "output_type": "stream",
     "text": [
      "C:\\Users\\prath\\AppData\\Local\\Temp\\ipykernel_18364\\218868813.py:87: RuntimeWarning: Mean of empty slice\n",
      "  mean_corr = np.nanmean(corrs)\n"
     ]
    },
    {
     "name": "stdout",
     "output_type": "stream",
     "text": [
      "Iterative - adata_iterative_imputed_mf20_run1.h5ad: Mean Pearson corr = nan\n"
     ]
    },
    {
     "name": "stderr",
     "output_type": "stream",
     "text": [
      "C:\\Users\\prath\\AppData\\Local\\Temp\\ipykernel_18364\\218868813.py:87: RuntimeWarning: Mean of empty slice\n",
      "  mean_corr = np.nanmean(corrs)\n"
     ]
    },
    {
     "name": "stdout",
     "output_type": "stream",
     "text": [
      "Iterative - adata_iterative_imputed_mf20_run10.h5ad: Mean Pearson corr = nan\n"
     ]
    },
    {
     "name": "stderr",
     "output_type": "stream",
     "text": [
      "C:\\Users\\prath\\AppData\\Local\\Temp\\ipykernel_18364\\218868813.py:87: RuntimeWarning: Mean of empty slice\n",
      "  mean_corr = np.nanmean(corrs)\n"
     ]
    },
    {
     "name": "stdout",
     "output_type": "stream",
     "text": [
      "Iterative - adata_iterative_imputed_mf20_run2.h5ad: Mean Pearson corr = nan\n"
     ]
    },
    {
     "name": "stderr",
     "output_type": "stream",
     "text": [
      "C:\\Users\\prath\\AppData\\Local\\Temp\\ipykernel_18364\\218868813.py:87: RuntimeWarning: Mean of empty slice\n",
      "  mean_corr = np.nanmean(corrs)\n"
     ]
    },
    {
     "name": "stdout",
     "output_type": "stream",
     "text": [
      "Iterative - adata_iterative_imputed_mf20_run3.h5ad: Mean Pearson corr = nan\n"
     ]
    },
    {
     "name": "stderr",
     "output_type": "stream",
     "text": [
      "C:\\Users\\prath\\AppData\\Local\\Temp\\ipykernel_18364\\218868813.py:87: RuntimeWarning: Mean of empty slice\n",
      "  mean_corr = np.nanmean(corrs)\n"
     ]
    },
    {
     "name": "stdout",
     "output_type": "stream",
     "text": [
      "Iterative - adata_iterative_imputed_mf20_run4.h5ad: Mean Pearson corr = nan\n"
     ]
    },
    {
     "name": "stderr",
     "output_type": "stream",
     "text": [
      "C:\\Users\\prath\\AppData\\Local\\Temp\\ipykernel_18364\\218868813.py:87: RuntimeWarning: Mean of empty slice\n",
      "  mean_corr = np.nanmean(corrs)\n"
     ]
    },
    {
     "name": "stdout",
     "output_type": "stream",
     "text": [
      "Iterative - adata_iterative_imputed_mf20_run5.h5ad: Mean Pearson corr = nan\n"
     ]
    },
    {
     "name": "stderr",
     "output_type": "stream",
     "text": [
      "C:\\Users\\prath\\AppData\\Local\\Temp\\ipykernel_18364\\218868813.py:87: RuntimeWarning: Mean of empty slice\n",
      "  mean_corr = np.nanmean(corrs)\n"
     ]
    },
    {
     "name": "stdout",
     "output_type": "stream",
     "text": [
      "Iterative - adata_iterative_imputed_mf20_run6.h5ad: Mean Pearson corr = nan\n"
     ]
    },
    {
     "name": "stderr",
     "output_type": "stream",
     "text": [
      "C:\\Users\\prath\\AppData\\Local\\Temp\\ipykernel_18364\\218868813.py:87: RuntimeWarning: Mean of empty slice\n",
      "  mean_corr = np.nanmean(corrs)\n"
     ]
    },
    {
     "name": "stdout",
     "output_type": "stream",
     "text": [
      "Iterative - adata_iterative_imputed_mf20_run7.h5ad: Mean Pearson corr = nan\n"
     ]
    },
    {
     "name": "stderr",
     "output_type": "stream",
     "text": [
      "C:\\Users\\prath\\AppData\\Local\\Temp\\ipykernel_18364\\218868813.py:87: RuntimeWarning: Mean of empty slice\n",
      "  mean_corr = np.nanmean(corrs)\n"
     ]
    },
    {
     "name": "stdout",
     "output_type": "stream",
     "text": [
      "Iterative - adata_iterative_imputed_mf20_run8.h5ad: Mean Pearson corr = nan\n"
     ]
    },
    {
     "name": "stderr",
     "output_type": "stream",
     "text": [
      "C:\\Users\\prath\\AppData\\Local\\Temp\\ipykernel_18364\\218868813.py:87: RuntimeWarning: Mean of empty slice\n",
      "  mean_corr = np.nanmean(corrs)\n"
     ]
    },
    {
     "name": "stdout",
     "output_type": "stream",
     "text": [
      "Iterative - adata_iterative_imputed_mf20_run9.h5ad: Mean Pearson corr = nan\n"
     ]
    },
    {
     "name": "stderr",
     "output_type": "stream",
     "text": [
      "C:\\Users\\prath\\AppData\\Local\\Temp\\ipykernel_18364\\218868813.py:87: RuntimeWarning: Mean of empty slice\n",
      "  mean_corr = np.nanmean(corrs)\n"
     ]
    },
    {
     "name": "stdout",
     "output_type": "stream",
     "text": [
      "Iterative - adata_iterative_imputed_mf30_run1.h5ad: Mean Pearson corr = nan\n"
     ]
    },
    {
     "name": "stderr",
     "output_type": "stream",
     "text": [
      "C:\\Users\\prath\\AppData\\Local\\Temp\\ipykernel_18364\\218868813.py:87: RuntimeWarning: Mean of empty slice\n",
      "  mean_corr = np.nanmean(corrs)\n"
     ]
    },
    {
     "name": "stdout",
     "output_type": "stream",
     "text": [
      "Iterative - adata_iterative_imputed_mf30_run10.h5ad: Mean Pearson corr = nan\n"
     ]
    },
    {
     "name": "stderr",
     "output_type": "stream",
     "text": [
      "C:\\Users\\prath\\AppData\\Local\\Temp\\ipykernel_18364\\218868813.py:87: RuntimeWarning: Mean of empty slice\n",
      "  mean_corr = np.nanmean(corrs)\n"
     ]
    },
    {
     "name": "stdout",
     "output_type": "stream",
     "text": [
      "Iterative - adata_iterative_imputed_mf30_run2.h5ad: Mean Pearson corr = nan\n"
     ]
    },
    {
     "name": "stderr",
     "output_type": "stream",
     "text": [
      "C:\\Users\\prath\\AppData\\Local\\Temp\\ipykernel_18364\\218868813.py:87: RuntimeWarning: Mean of empty slice\n",
      "  mean_corr = np.nanmean(corrs)\n"
     ]
    },
    {
     "name": "stdout",
     "output_type": "stream",
     "text": [
      "Iterative - adata_iterative_imputed_mf30_run3.h5ad: Mean Pearson corr = nan\n"
     ]
    },
    {
     "name": "stderr",
     "output_type": "stream",
     "text": [
      "C:\\Users\\prath\\AppData\\Local\\Temp\\ipykernel_18364\\218868813.py:87: RuntimeWarning: Mean of empty slice\n",
      "  mean_corr = np.nanmean(corrs)\n"
     ]
    },
    {
     "name": "stdout",
     "output_type": "stream",
     "text": [
      "Iterative - adata_iterative_imputed_mf30_run4.h5ad: Mean Pearson corr = nan\n"
     ]
    },
    {
     "name": "stderr",
     "output_type": "stream",
     "text": [
      "C:\\Users\\prath\\AppData\\Local\\Temp\\ipykernel_18364\\218868813.py:87: RuntimeWarning: Mean of empty slice\n",
      "  mean_corr = np.nanmean(corrs)\n"
     ]
    },
    {
     "name": "stdout",
     "output_type": "stream",
     "text": [
      "Iterative - adata_iterative_imputed_mf30_run5.h5ad: Mean Pearson corr = nan\n"
     ]
    },
    {
     "name": "stderr",
     "output_type": "stream",
     "text": [
      "C:\\Users\\prath\\AppData\\Local\\Temp\\ipykernel_18364\\218868813.py:87: RuntimeWarning: Mean of empty slice\n",
      "  mean_corr = np.nanmean(corrs)\n"
     ]
    },
    {
     "name": "stdout",
     "output_type": "stream",
     "text": [
      "Iterative - adata_iterative_imputed_mf30_run6.h5ad: Mean Pearson corr = nan\n"
     ]
    },
    {
     "name": "stderr",
     "output_type": "stream",
     "text": [
      "C:\\Users\\prath\\AppData\\Local\\Temp\\ipykernel_18364\\218868813.py:87: RuntimeWarning: Mean of empty slice\n",
      "  mean_corr = np.nanmean(corrs)\n"
     ]
    },
    {
     "name": "stdout",
     "output_type": "stream",
     "text": [
      "Iterative - adata_iterative_imputed_mf30_run7.h5ad: Mean Pearson corr = nan\n"
     ]
    },
    {
     "name": "stderr",
     "output_type": "stream",
     "text": [
      "C:\\Users\\prath\\AppData\\Local\\Temp\\ipykernel_18364\\218868813.py:87: RuntimeWarning: Mean of empty slice\n",
      "  mean_corr = np.nanmean(corrs)\n"
     ]
    },
    {
     "name": "stdout",
     "output_type": "stream",
     "text": [
      "Iterative - adata_iterative_imputed_mf30_run8.h5ad: Mean Pearson corr = nan\n"
     ]
    },
    {
     "name": "stderr",
     "output_type": "stream",
     "text": [
      "C:\\Users\\prath\\AppData\\Local\\Temp\\ipykernel_18364\\218868813.py:87: RuntimeWarning: Mean of empty slice\n",
      "  mean_corr = np.nanmean(corrs)\n"
     ]
    },
    {
     "name": "stdout",
     "output_type": "stream",
     "text": [
      "Iterative - adata_iterative_imputed_mf30_run9.h5ad: Mean Pearson corr = nan\n"
     ]
    },
    {
     "name": "stderr",
     "output_type": "stream",
     "text": [
      "No artists with labels found to put in legend.  Note that artists whose label start with an underscore are ignored when legend() is called with no argument.\n"
     ]
    },
    {
     "data": {
      "image/png": "[encoded data removed]",
      "text/plain": [
       "<Figure size 1000x600 with 1 Axes>"
      ]
     },
     "metadata": {},
     "output_type": "display_data"
    }
   ],
   "source": [
    "# Notebook 04: Performance Evaluation & Figures (All Methods - Gene-wise Correlation)\n",
    "\n",
    "import scanpy as sc\n",
    "import pandas as pd\n",
    "import numpy as np\n",
    "import os\n",
    "import seaborn as sns \n",
    "import matplotlib.pyplot as plt\n",
    "from scipy.stats import pearsonr, spearmanr\n",
    "\n",
    "# -----------------------------\n",
    "# Settings\n",
    "# -----------------------------\n",
    "sc.settings.verbosity = 0\n",
    "sns.set(style=\"whitegrid\")\n",
    "\n",
    "ground_truth_path = \"Data/adata_raw_qc.h5ad\"\n",
    "\n",
    "imputed_dirs = {\n",
    "    \"SoftImpute\": \"imputed_softimpute\",\n",
    "    \"MAGIC\": \"imputed_h5ad\",\n",
    "    \"KNN\": \"imputed_knn\",\n",
    "    \"Mean\": \"imputed_mean\",\n",
    "    \"GAN\": \"imputed_gan\",\n",
    "    \"Iterative\": \"imputed_iterative\"\n",
    "}\n",
    "\n",
    "# consistent color palette\n",
    "palette = {\n",
    "    \"SoftImpute\": \"#1f77b4\",   # blue\n",
    "    \"MAGIC\": \"#ff7f0e\",        # orange\n",
    "    \"KNN\": \"#2ca02c\",          # green\n",
    "    \"Mean\": \"#d62728\",         # red\n",
    "    \"GAN\": \"#9467bd\",          # purple\n",
    "    \"Iterative\": \"#8c564b\"     # brown\n",
    "}\n",
    "\n",
    "# -----------------------------\n",
    "# Load ground truth\n",
    "# -----------------------------\n",
    "print(\"Loading ground truth...\")\n",
    "adata_gt = sc.read_h5ad(ground_truth_path)\n",
    "adata_gt.obs_names_make_unique()\n",
    "adata_gt.var_names_make_unique()\n",
    "\n",
    "X_gt = adata_gt.X.A if hasattr(adata_gt.X, \"A\") else adata_gt.X\n",
    "X_gt = np.nan_to_num(X_gt, nan=0.0, posinf=0.0, neginf=0.0)\n",
    "\n",
    "# -----------------------------\n",
    "# Evaluate gene-wise correlations\n",
    "# -----------------------------\n",
    "results = []\n",
    "\n",
    "for method, imputed_dir in imputed_dirs.items():\n",
    "    if not os.path.exists(imputed_dir):\n",
    "        print(f\"Skipping {method}, folder not found: {imputed_dir}\")\n",
    "        continue\n",
    "\n",
    "    for fname in os.listdir(imputed_dir):\n",
    "        if not fname.endswith(\".h5ad\"):\n",
    "            continue\n",
    "\n",
    "        fpath = os.path.join(imputed_dir, fname)\n",
    "        try:\n",
    "            adata_imp = sc.read_h5ad(fpath)\n",
    "            adata_imp.obs_names_make_unique()\n",
    "            adata_imp.var_names_make_unique()\n",
    "\n",
    "            X_imp = adata_imp.X.A if hasattr(adata_imp.X, \"A\") else adata_imp.X\n",
    "            X_imp = np.nan_to_num(X_imp, nan=0.0, posinf=0.0, neginf=0.0)\n",
    "\n",
    "            # Align genes\n",
    "            common_genes = adata_gt.var_names.intersection(adata_imp.var_names)\n",
    "            X_gt_sub = X_gt[:, [g in common_genes for g in adata_gt.var_names]]\n",
    "            X_imp_sub = X_imp[:, [g in common_genes for g in adata_imp.var_names]]\n",
    "\n",
    "            # Gene-wise Pearson correlations\n",
    "            corrs = []\n",
    "            for i in range(X_gt_sub.shape[1]):\n",
    "                try:\n",
    "                    corr, _ = pearsonr(X_gt_sub[:, i], X_imp_sub[:, i])\n",
    "                except Exception:\n",
    "                    corr = np.nan\n",
    "                corrs.append(corr)\n",
    "\n",
    "            corrs = np.array(corrs)\n",
    "            mean_corr = np.nanmean(corrs)\n",
    "\n",
    "            # Parse metadata (mfXX, runX)\n",
    "            mf, run = None, None\n",
    "            for part in fname.split(\"_\"):\n",
    "                if part.startswith(\"mf\"):\n",
    "                    mf = float(part.replace(\"mf\", \"\").replace(\".h5ad\", \"\")) / 100\n",
    "                if part.startswith(\"run\"):\n",
    "                    run = int(part.replace(\"run\", \"\").replace(\".h5ad\", \"\"))\n",
    "\n",
    "            results.append({\n",
    "                \"file\": fname,\n",
    "                \"method\": method,\n",
    "                \"Correlation\": mean_corr,\n",
    "                \"missing_fraction\": mf,\n",
    "                \"run\": run\n",
    "            })\n",
    "\n",
    "            print(f\"{method} - {fname}: Mean Pearson corr = {mean_corr:.3f}\")\n",
    "\n",
    "        except Exception as e:\n",
    "            print(f\"Error with {method} - {fname}: {e}\")\n",
    "\n",
    "# -----------------------------\n",
    "# Results → DataFrame\n",
    "# -----------------------------\n",
    "results_df = pd.DataFrame(results)\n",
    "\n",
    "if results_df.empty:\n",
    "    raise ValueError(\"No results computed. Check your imputed files and pipeline.\")\n",
    "\n",
    "results_df = results_df.dropna(subset=[\"Correlation\", \"missing_fraction\"])\n",
    "results_df[\"missing_fraction\"] = results_df[\"missing_fraction\"].astype(float)\n",
    "\n",
    "# -----------------------------\n",
    "# Plot correlations\n",
    "# -----------------------------\n",
    "plt.figure(figsize=(10, 6))\n",
    "sns.barplot(\n",
    "    data=results_df,\n",
    "    x=\"missing_fraction\",\n",
    "    y=\"Correlation\",\n",
    "    hue=\"method\",\n",
    "    errorbar=\"sd\",\n",
    "    capsize=0.1,\n",
    "    palette=palette\n",
    ")\n",
    "plt.title(\"Gene-wise Pearson Correlation across Missing Fractions (All Methods)\")\n",
    "plt.ylabel(\"Mean Pearson Correlation\")\n",
    "plt.xlabel(\"Missing Fraction\")\n",
    "plt.legend(title=\"Method\")\n",
    "plt.show()\n"
   ]
  },
  {
   "cell_type": "code",
   "execution_count": 4,
   "id": "ae34ae66",
   "metadata": {},
   "outputs": [
    {
     "name": "stdout",
     "output_type": "stream",
     "text": [
      " Preprocessing ground truth...\n"
     ]
    },
    {
     "name": "stderr",
     "output_type": "stream",
     "text": [
      "c:\\Users\\prath\\anaconda-new\\Lib\\site-packages\\anndata\\_core\\anndata.py:1791: UserWarning: Observation names are not unique. To make them unique, call `.obs_names_make_unique`.\n",
      "  utils.warn_names_duplicates(\"obs\")\n",
      "c:\\Users\\prath\\anaconda-new\\Lib\\site-packages\\anndata\\_core\\anndata.py:1793: UserWarning: Variable names are not unique. To make them unique, call `.var_names_make_unique`.\n",
      "  utils.warn_names_duplicates(\"var\")\n"
     ]
    },
    {
     "name": "stdout",
     "output_type": "stream",
     "text": [
      "Error with SoftImpute - adata_softimpute_imputed_mf10_run1.h5ad: setting an array element with a sequence.\n",
      "Error with SoftImpute - adata_softimpute_imputed_mf10_run10.h5ad: setting an array element with a sequence.\n",
      "Error with SoftImpute - adata_softimpute_imputed_mf10_run2.h5ad: setting an array element with a sequence.\n",
      "Error with SoftImpute - adata_softimpute_imputed_mf10_run3.h5ad: setting an array element with a sequence.\n",
      "Error with SoftImpute - adata_softimpute_imputed_mf10_run4.h5ad: setting an array element with a sequence.\n",
      "Error with SoftImpute - adata_softimpute_imputed_mf10_run5.h5ad: setting an array element with a sequence.\n",
      "Error with SoftImpute - adata_softimpute_imputed_mf10_run6.h5ad: setting an array element with a sequence.\n",
      "Error with SoftImpute - adata_softimpute_imputed_mf10_run7.h5ad: setting an array element with a sequence.\n",
      "Error with SoftImpute - adata_softimpute_imputed_mf10_run8.h5ad: setting an array element with a sequence.\n",
      "Error with SoftImpute - adata_softimpute_imputed_mf10_run9.h5ad: setting an array element with a sequence.\n",
      "Error with SoftImpute - adata_softimpute_imputed_mf20_run1.h5ad: setting an array element with a sequence.\n",
      "Error with SoftImpute - adata_softimpute_imputed_mf20_run10.h5ad: setting an array element with a sequence.\n",
      "Error with SoftImpute - adata_softimpute_imputed_mf20_run2.h5ad: setting an array element with a sequence.\n",
      "Error with SoftImpute - adata_softimpute_imputed_mf20_run3.h5ad: setting an array element with a sequence.\n",
      "Error with SoftImpute - adata_softimpute_imputed_mf20_run4.h5ad: setting an array element with a sequence.\n",
      "Error with SoftImpute - adata_softimpute_imputed_mf20_run5.h5ad: setting an array element with a sequence.\n",
      "Error with SoftImpute - adata_softimpute_imputed_mf20_run6.h5ad: setting an array element with a sequence.\n",
      "Error with SoftImpute - adata_softimpute_imputed_mf20_run7.h5ad: setting an array element with a sequence.\n",
      "Error with SoftImpute - adata_softimpute_imputed_mf20_run8.h5ad: setting an array element with a sequence.\n",
      "Error with SoftImpute - adata_softimpute_imputed_mf20_run9.h5ad: setting an array element with a sequence.\n",
      "Error with SoftImpute - adata_softimpute_imputed_mf30_run1.h5ad: setting an array element with a sequence.\n",
      "Error with SoftImpute - adata_softimpute_imputed_mf30_run10.h5ad: setting an array element with a sequence.\n",
      "Error with SoftImpute - adata_softimpute_imputed_mf30_run2.h5ad: setting an array element with a sequence.\n",
      "Error with SoftImpute - adata_softimpute_imputed_mf30_run3.h5ad: setting an array element with a sequence.\n",
      "Error with SoftImpute - adata_softimpute_imputed_mf30_run4.h5ad: setting an array element with a sequence.\n",
      "Error with SoftImpute - adata_softimpute_imputed_mf30_run5.h5ad: setting an array element with a sequence.\n",
      "Error with SoftImpute - adata_softimpute_imputed_mf30_run6.h5ad: setting an array element with a sequence.\n",
      "Error with SoftImpute - adata_softimpute_imputed_mf30_run7.h5ad: setting an array element with a sequence.\n",
      "Error with SoftImpute - adata_softimpute_imputed_mf30_run8.h5ad: setting an array element with a sequence.\n",
      "Error with SoftImpute - adata_softimpute_imputed_mf30_run9.h5ad: setting an array element with a sequence.\n"
     ]
    },
    {
     "name": "stderr",
     "output_type": "stream",
     "text": [
      "c:\\Users\\prath\\anaconda-new\\Lib\\site-packages\\anndata\\_core\\anndata.py:1791: UserWarning: Observation names are not unique. To make them unique, call `.obs_names_make_unique`.\n",
      "  utils.warn_names_duplicates(\"obs\")\n",
      "c:\\Users\\prath\\anaconda-new\\Lib\\site-packages\\anndata\\_core\\anndata.py:1793: UserWarning: Variable names are not unique. To make them unique, call `.var_names_make_unique`.\n",
      "  utils.warn_names_duplicates(\"var\")\n"
     ]
    },
    {
     "name": "stdout",
     "output_type": "stream",
     "text": [
      "Error with MAGIC - adata_magic_imputed_mf10_run1.h5ad: setting an array element with a sequence.\n"
     ]
    },
    {
     "name": "stderr",
     "output_type": "stream",
     "text": [
      "c:\\Users\\prath\\anaconda-new\\Lib\\site-packages\\anndata\\_core\\anndata.py:1791: UserWarning: Observation names are not unique. To make them unique, call `.obs_names_make_unique`.\n",
      "  utils.warn_names_duplicates(\"obs\")\n",
      "c:\\Users\\prath\\anaconda-new\\Lib\\site-packages\\anndata\\_core\\anndata.py:1793: UserWarning: Variable names are not unique. To make them unique, call `.var_names_make_unique`.\n",
      "  utils.warn_names_duplicates(\"var\")\n"
     ]
    },
    {
     "name": "stdout",
     "output_type": "stream",
     "text": [
      "Error with MAGIC - adata_magic_imputed_mf10_run10.h5ad: setting an array element with a sequence.\n"
     ]
    },
    {
     "name": "stderr",
     "output_type": "stream",
     "text": [
      "c:\\Users\\prath\\anaconda-new\\Lib\\site-packages\\anndata\\_core\\anndata.py:1791: UserWarning: Observation names are not unique. To make them unique, call `.obs_names_make_unique`.\n",
      "  utils.warn_names_duplicates(\"obs\")\n",
      "c:\\Users\\prath\\anaconda-new\\Lib\\site-packages\\anndata\\_core\\anndata.py:1793: UserWarning: Variable names are not unique. To make them unique, call `.var_names_make_unique`.\n",
      "  utils.warn_names_duplicates(\"var\")\n"
     ]
    },
    {
     "name": "stdout",
     "output_type": "stream",
     "text": [
      "Error with MAGIC - adata_magic_imputed_mf10_run2.h5ad: setting an array element with a sequence.\n"
     ]
    },
    {
     "name": "stderr",
     "output_type": "stream",
     "text": [
      "c:\\Users\\prath\\anaconda-new\\Lib\\site-packages\\anndata\\_core\\anndata.py:1791: UserWarning: Observation names are not unique. To make them unique, call `.obs_names_make_unique`.\n",
      "  utils.warn_names_duplicates(\"obs\")\n",
      "c:\\Users\\prath\\anaconda-new\\Lib\\site-packages\\anndata\\_core\\anndata.py:1793: UserWarning: Variable names are not unique. To make them unique, call `.var_names_make_unique`.\n",
      "  utils.warn_names_duplicates(\"var\")\n"
     ]
    },
    {
     "name": "stdout",
     "output_type": "stream",
     "text": [
      "Error with MAGIC - adata_magic_imputed_mf10_run3.h5ad: setting an array element with a sequence.\n"
     ]
    },
    {
     "name": "stderr",
     "output_type": "stream",
     "text": [
      "c:\\Users\\prath\\anaconda-new\\Lib\\site-packages\\anndata\\_core\\anndata.py:1791: UserWarning: Observation names are not unique. To make them unique, call `.obs_names_make_unique`.\n",
      "  utils.warn_names_duplicates(\"obs\")\n",
      "c:\\Users\\prath\\anaconda-new\\Lib\\site-packages\\anndata\\_core\\anndata.py:1793: UserWarning: Variable names are not unique. To make them unique, call `.var_names_make_unique`.\n",
      "  utils.warn_names_duplicates(\"var\")\n"
     ]
    },
    {
     "name": "stdout",
     "output_type": "stream",
     "text": [
      "Error with MAGIC - adata_magic_imputed_mf10_run4.h5ad: setting an array element with a sequence.\n"
     ]
    },
    {
     "name": "stderr",
     "output_type": "stream",
     "text": [
      "c:\\Users\\prath\\anaconda-new\\Lib\\site-packages\\anndata\\_core\\anndata.py:1791: UserWarning: Observation names are not unique. To make them unique, call `.obs_names_make_unique`.\n",
      "  utils.warn_names_duplicates(\"obs\")\n",
      "c:\\Users\\prath\\anaconda-new\\Lib\\site-packages\\anndata\\_core\\anndata.py:1793: UserWarning: Variable names are not unique. To make them unique, call `.var_names_make_unique`.\n",
      "  utils.warn_names_duplicates(\"var\")\n"
     ]
    },
    {
     "name": "stdout",
     "output_type": "stream",
     "text": [
      "Error with MAGIC - adata_magic_imputed_mf10_run5.h5ad: setting an array element with a sequence.\n"
     ]
    },
    {
     "name": "stderr",
     "output_type": "stream",
     "text": [
      "c:\\Users\\prath\\anaconda-new\\Lib\\site-packages\\anndata\\_core\\anndata.py:1791: UserWarning: Observation names are not unique. To make them unique, call `.obs_names_make_unique`.\n",
      "  utils.warn_names_duplicates(\"obs\")\n",
      "c:\\Users\\prath\\anaconda-new\\Lib\\site-packages\\anndata\\_core\\anndata.py:1793: UserWarning: Variable names are not unique. To make them unique, call `.var_names_make_unique`.\n",
      "  utils.warn_names_duplicates(\"var\")\n"
     ]
    },
    {
     "name": "stdout",
     "output_type": "stream",
     "text": [
      "Error with MAGIC - adata_magic_imputed_mf10_run6.h5ad: setting an array element with a sequence.\n"
     ]
    },
    {
     "name": "stderr",
     "output_type": "stream",
     "text": [
      "c:\\Users\\prath\\anaconda-new\\Lib\\site-packages\\anndata\\_core\\anndata.py:1791: UserWarning: Observation names are not unique. To make them unique, call `.obs_names_make_unique`.\n",
      "  utils.warn_names_duplicates(\"obs\")\n",
      "c:\\Users\\prath\\anaconda-new\\Lib\\site-packages\\anndata\\_core\\anndata.py:1793: UserWarning: Variable names are not unique. To make them unique, call `.var_names_make_unique`.\n",
      "  utils.warn_names_duplicates(\"var\")\n"
     ]
    },
    {
     "name": "stdout",
     "output_type": "stream",
     "text": [
      "Error with MAGIC - adata_magic_imputed_mf10_run7.h5ad: setting an array element with a sequence.\n"
     ]
    },
    {
     "name": "stderr",
     "output_type": "stream",
     "text": [
      "c:\\Users\\prath\\anaconda-new\\Lib\\site-packages\\anndata\\_core\\anndata.py:1791: UserWarning: Observation names are not unique. To make them unique, call `.obs_names_make_unique`.\n",
      "  utils.warn_names_duplicates(\"obs\")\n",
      "c:\\Users\\prath\\anaconda-new\\Lib\\site-packages\\anndata\\_core\\anndata.py:1793: UserWarning: Variable names are not unique. To make them unique, call `.var_names_make_unique`.\n",
      "  utils.warn_names_duplicates(\"var\")\n"
     ]
    },
    {
     "name": "stdout",
     "output_type": "stream",
     "text": [
      "Error with MAGIC - adata_magic_imputed_mf10_run8.h5ad: setting an array element with a sequence.\n"
     ]
    },
    {
     "name": "stderr",
     "output_type": "stream",
     "text": [
      "c:\\Users\\prath\\anaconda-new\\Lib\\site-packages\\anndata\\_core\\anndata.py:1791: UserWarning: Observation names are not unique. To make them unique, call `.obs_names_make_unique`.\n",
      "  utils.warn_names_duplicates(\"obs\")\n",
      "c:\\Users\\prath\\anaconda-new\\Lib\\site-packages\\anndata\\_core\\anndata.py:1793: UserWarning: Variable names are not unique. To make them unique, call `.var_names_make_unique`.\n",
      "  utils.warn_names_duplicates(\"var\")\n"
     ]
    },
    {
     "name": "stdout",
     "output_type": "stream",
     "text": [
      "Error with MAGIC - adata_magic_imputed_mf10_run9.h5ad: setting an array element with a sequence.\n"
     ]
    },
    {
     "name": "stderr",
     "output_type": "stream",
     "text": [
      "c:\\Users\\prath\\anaconda-new\\Lib\\site-packages\\anndata\\_core\\anndata.py:1791: UserWarning: Observation names are not unique. To make them unique, call `.obs_names_make_unique`.\n",
      "  utils.warn_names_duplicates(\"obs\")\n",
      "c:\\Users\\prath\\anaconda-new\\Lib\\site-packages\\anndata\\_core\\anndata.py:1793: UserWarning: Variable names are not unique. To make them unique, call `.var_names_make_unique`.\n",
      "  utils.warn_names_duplicates(\"var\")\n"
     ]
    },
    {
     "name": "stdout",
     "output_type": "stream",
     "text": [
      "Error with MAGIC - adata_magic_imputed_mf20_run1.h5ad: setting an array element with a sequence.\n"
     ]
    },
    {
     "name": "stderr",
     "output_type": "stream",
     "text": [
      "c:\\Users\\prath\\anaconda-new\\Lib\\site-packages\\anndata\\_core\\anndata.py:1791: UserWarning: Observation names are not unique. To make them unique, call `.obs_names_make_unique`.\n",
      "  utils.warn_names_duplicates(\"obs\")\n",
      "c:\\Users\\prath\\anaconda-new\\Lib\\site-packages\\anndata\\_core\\anndata.py:1793: UserWarning: Variable names are not unique. To make them unique, call `.var_names_make_unique`.\n",
      "  utils.warn_names_duplicates(\"var\")\n"
     ]
    },
    {
     "name": "stdout",
     "output_type": "stream",
     "text": [
      "Error with MAGIC - adata_magic_imputed_mf20_run10.h5ad: setting an array element with a sequence.\n"
     ]
    },
    {
     "name": "stderr",
     "output_type": "stream",
     "text": [
      "c:\\Users\\prath\\anaconda-new\\Lib\\site-packages\\anndata\\_core\\anndata.py:1791: UserWarning: Observation names are not unique. To make them unique, call `.obs_names_make_unique`.\n",
      "  utils.warn_names_duplicates(\"obs\")\n",
      "c:\\Users\\prath\\anaconda-new\\Lib\\site-packages\\anndata\\_core\\anndata.py:1793: UserWarning: Variable names are not unique. To make them unique, call `.var_names_make_unique`.\n",
      "  utils.warn_names_duplicates(\"var\")\n"
     ]
    },
    {
     "name": "stdout",
     "output_type": "stream",
     "text": [
      "Error with MAGIC - adata_magic_imputed_mf20_run2.h5ad: setting an array element with a sequence.\n"
     ]
    },
    {
     "name": "stderr",
     "output_type": "stream",
     "text": [
      "c:\\Users\\prath\\anaconda-new\\Lib\\site-packages\\anndata\\_core\\anndata.py:1791: UserWarning: Observation names are not unique. To make them unique, call `.obs_names_make_unique`.\n",
      "  utils.warn_names_duplicates(\"obs\")\n",
      "c:\\Users\\prath\\anaconda-new\\Lib\\site-packages\\anndata\\_core\\anndata.py:1793: UserWarning: Variable names are not unique. To make them unique, call `.var_names_make_unique`.\n",
      "  utils.warn_names_duplicates(\"var\")\n"
     ]
    },
    {
     "name": "stdout",
     "output_type": "stream",
     "text": [
      "Error with MAGIC - adata_magic_imputed_mf20_run3.h5ad: setting an array element with a sequence.\n"
     ]
    },
    {
     "name": "stderr",
     "output_type": "stream",
     "text": [
      "c:\\Users\\prath\\anaconda-new\\Lib\\site-packages\\anndata\\_core\\anndata.py:1791: UserWarning: Observation names are not unique. To make them unique, call `.obs_names_make_unique`.\n",
      "  utils.warn_names_duplicates(\"obs\")\n",
      "c:\\Users\\prath\\anaconda-new\\Lib\\site-packages\\anndata\\_core\\anndata.py:1793: UserWarning: Variable names are not unique. To make them unique, call `.var_names_make_unique`.\n",
      "  utils.warn_names_duplicates(\"var\")\n"
     ]
    },
    {
     "name": "stdout",
     "output_type": "stream",
     "text": [
      "Error with MAGIC - adata_magic_imputed_mf20_run4.h5ad: setting an array element with a sequence.\n"
     ]
    },
    {
     "name": "stderr",
     "output_type": "stream",
     "text": [
      "c:\\Users\\prath\\anaconda-new\\Lib\\site-packages\\anndata\\_core\\anndata.py:1791: UserWarning: Observation names are not unique. To make them unique, call `.obs_names_make_unique`.\n",
      "  utils.warn_names_duplicates(\"obs\")\n",
      "c:\\Users\\prath\\anaconda-new\\Lib\\site-packages\\anndata\\_core\\anndata.py:1793: UserWarning: Variable names are not unique. To make them unique, call `.var_names_make_unique`.\n",
      "  utils.warn_names_duplicates(\"var\")\n"
     ]
    },
    {
     "name": "stdout",
     "output_type": "stream",
     "text": [
      "Error with MAGIC - adata_magic_imputed_mf20_run5.h5ad: setting an array element with a sequence.\n"
     ]
    },
    {
     "name": "stderr",
     "output_type": "stream",
     "text": [
      "c:\\Users\\prath\\anaconda-new\\Lib\\site-packages\\anndata\\_core\\anndata.py:1791: UserWarning: Observation names are not unique. To make them unique, call `.obs_names_make_unique`.\n",
      "  utils.warn_names_duplicates(\"obs\")\n",
      "c:\\Users\\prath\\anaconda-new\\Lib\\site-packages\\anndata\\_core\\anndata.py:1793: UserWarning: Variable names are not unique. To make them unique, call `.var_names_make_unique`.\n",
      "  utils.warn_names_duplicates(\"var\")\n"
     ]
    },
    {
     "name": "stdout",
     "output_type": "stream",
     "text": [
      "Error with MAGIC - adata_magic_imputed_mf20_run6.h5ad: setting an array element with a sequence.\n"
     ]
    },
    {
     "name": "stderr",
     "output_type": "stream",
     "text": [
      "c:\\Users\\prath\\anaconda-new\\Lib\\site-packages\\anndata\\_core\\anndata.py:1791: UserWarning: Observation names are not unique. To make them unique, call `.obs_names_make_unique`.\n",
      "  utils.warn_names_duplicates(\"obs\")\n",
      "c:\\Users\\prath\\anaconda-new\\Lib\\site-packages\\anndata\\_core\\anndata.py:1793: UserWarning: Variable names are not unique. To make them unique, call `.var_names_make_unique`.\n",
      "  utils.warn_names_duplicates(\"var\")\n"
     ]
    },
    {
     "name": "stdout",
     "output_type": "stream",
     "text": [
      "Error with MAGIC - adata_magic_imputed_mf20_run7.h5ad: setting an array element with a sequence.\n"
     ]
    },
    {
     "name": "stderr",
     "output_type": "stream",
     "text": [
      "c:\\Users\\prath\\anaconda-new\\Lib\\site-packages\\anndata\\_core\\anndata.py:1791: UserWarning: Observation names are not unique. To make them unique, call `.obs_names_make_unique`.\n",
      "  utils.warn_names_duplicates(\"obs\")\n",
      "c:\\Users\\prath\\anaconda-new\\Lib\\site-packages\\anndata\\_core\\anndata.py:1793: UserWarning: Variable names are not unique. To make them unique, call `.var_names_make_unique`.\n",
      "  utils.warn_names_duplicates(\"var\")\n"
     ]
    },
    {
     "name": "stdout",
     "output_type": "stream",
     "text": [
      "Error with MAGIC - adata_magic_imputed_mf20_run8.h5ad: setting an array element with a sequence.\n"
     ]
    },
    {
     "name": "stderr",
     "output_type": "stream",
     "text": [
      "c:\\Users\\prath\\anaconda-new\\Lib\\site-packages\\anndata\\_core\\anndata.py:1791: UserWarning: Observation names are not unique. To make them unique, call `.obs_names_make_unique`.\n",
      "  utils.warn_names_duplicates(\"obs\")\n",
      "c:\\Users\\prath\\anaconda-new\\Lib\\site-packages\\anndata\\_core\\anndata.py:1793: UserWarning: Variable names are not unique. To make them unique, call `.var_names_make_unique`.\n",
      "  utils.warn_names_duplicates(\"var\")\n"
     ]
    },
    {
     "name": "stdout",
     "output_type": "stream",
     "text": [
      "Error with MAGIC - adata_magic_imputed_mf20_run9.h5ad: setting an array element with a sequence.\n"
     ]
    },
    {
     "name": "stderr",
     "output_type": "stream",
     "text": [
      "c:\\Users\\prath\\anaconda-new\\Lib\\site-packages\\anndata\\_core\\anndata.py:1791: UserWarning: Observation names are not unique. To make them unique, call `.obs_names_make_unique`.\n",
      "  utils.warn_names_duplicates(\"obs\")\n",
      "c:\\Users\\prath\\anaconda-new\\Lib\\site-packages\\anndata\\_core\\anndata.py:1793: UserWarning: Variable names are not unique. To make them unique, call `.var_names_make_unique`.\n",
      "  utils.warn_names_duplicates(\"var\")\n"
     ]
    },
    {
     "name": "stdout",
     "output_type": "stream",
     "text": [
      "Error with MAGIC - adata_magic_imputed_mf30_run1.h5ad: setting an array element with a sequence.\n"
     ]
    },
    {
     "name": "stderr",
     "output_type": "stream",
     "text": [
      "c:\\Users\\prath\\anaconda-new\\Lib\\site-packages\\anndata\\_core\\anndata.py:1791: UserWarning: Observation names are not unique. To make them unique, call `.obs_names_make_unique`.\n",
      "  utils.warn_names_duplicates(\"obs\")\n",
      "c:\\Users\\prath\\anaconda-new\\Lib\\site-packages\\anndata\\_core\\anndata.py:1793: UserWarning: Variable names are not unique. To make them unique, call `.var_names_make_unique`.\n",
      "  utils.warn_names_duplicates(\"var\")\n"
     ]
    },
    {
     "name": "stdout",
     "output_type": "stream",
     "text": [
      "Error with MAGIC - adata_magic_imputed_mf30_run10.h5ad: setting an array element with a sequence.\n"
     ]
    },
    {
     "name": "stderr",
     "output_type": "stream",
     "text": [
      "c:\\Users\\prath\\anaconda-new\\Lib\\site-packages\\anndata\\_core\\anndata.py:1791: UserWarning: Observation names are not unique. To make them unique, call `.obs_names_make_unique`.\n",
      "  utils.warn_names_duplicates(\"obs\")\n",
      "c:\\Users\\prath\\anaconda-new\\Lib\\site-packages\\anndata\\_core\\anndata.py:1793: UserWarning: Variable names are not unique. To make them unique, call `.var_names_make_unique`.\n",
      "  utils.warn_names_duplicates(\"var\")\n"
     ]
    },
    {
     "name": "stdout",
     "output_type": "stream",
     "text": [
      "Error with MAGIC - adata_magic_imputed_mf30_run2.h5ad: setting an array element with a sequence.\n"
     ]
    },
    {
     "name": "stderr",
     "output_type": "stream",
     "text": [
      "c:\\Users\\prath\\anaconda-new\\Lib\\site-packages\\anndata\\_core\\anndata.py:1791: UserWarning: Observation names are not unique. To make them unique, call `.obs_names_make_unique`.\n",
      "  utils.warn_names_duplicates(\"obs\")\n",
      "c:\\Users\\prath\\anaconda-new\\Lib\\site-packages\\anndata\\_core\\anndata.py:1793: UserWarning: Variable names are not unique. To make them unique, call `.var_names_make_unique`.\n",
      "  utils.warn_names_duplicates(\"var\")\n"
     ]
    },
    {
     "name": "stdout",
     "output_type": "stream",
     "text": [
      "Error with MAGIC - adata_magic_imputed_mf30_run3.h5ad: setting an array element with a sequence.\n"
     ]
    },
    {
     "name": "stderr",
     "output_type": "stream",
     "text": [
      "c:\\Users\\prath\\anaconda-new\\Lib\\site-packages\\anndata\\_core\\anndata.py:1791: UserWarning: Observation names are not unique. To make them unique, call `.obs_names_make_unique`.\n",
      "  utils.warn_names_duplicates(\"obs\")\n",
      "c:\\Users\\prath\\anaconda-new\\Lib\\site-packages\\anndata\\_core\\anndata.py:1793: UserWarning: Variable names are not unique. To make them unique, call `.var_names_make_unique`.\n",
      "  utils.warn_names_duplicates(\"var\")\n"
     ]
    },
    {
     "name": "stdout",
     "output_type": "stream",
     "text": [
      "Error with MAGIC - adata_magic_imputed_mf30_run4.h5ad: setting an array element with a sequence.\n"
     ]
    },
    {
     "name": "stderr",
     "output_type": "stream",
     "text": [
      "c:\\Users\\prath\\anaconda-new\\Lib\\site-packages\\anndata\\_core\\anndata.py:1791: UserWarning: Observation names are not unique. To make them unique, call `.obs_names_make_unique`.\n",
      "  utils.warn_names_duplicates(\"obs\")\n",
      "c:\\Users\\prath\\anaconda-new\\Lib\\site-packages\\anndata\\_core\\anndata.py:1793: UserWarning: Variable names are not unique. To make them unique, call `.var_names_make_unique`.\n",
      "  utils.warn_names_duplicates(\"var\")\n"
     ]
    },
    {
     "name": "stdout",
     "output_type": "stream",
     "text": [
      "Error with MAGIC - adata_magic_imputed_mf30_run5.h5ad: setting an array element with a sequence.\n"
     ]
    },
    {
     "name": "stderr",
     "output_type": "stream",
     "text": [
      "c:\\Users\\prath\\anaconda-new\\Lib\\site-packages\\anndata\\_core\\anndata.py:1791: UserWarning: Observation names are not unique. To make them unique, call `.obs_names_make_unique`.\n",
      "  utils.warn_names_duplicates(\"obs\")\n",
      "c:\\Users\\prath\\anaconda-new\\Lib\\site-packages\\anndata\\_core\\anndata.py:1793: UserWarning: Variable names are not unique. To make them unique, call `.var_names_make_unique`.\n",
      "  utils.warn_names_duplicates(\"var\")\n"
     ]
    },
    {
     "name": "stdout",
     "output_type": "stream",
     "text": [
      "Error with MAGIC - adata_magic_imputed_mf30_run6.h5ad: setting an array element with a sequence.\n"
     ]
    },
    {
     "name": "stderr",
     "output_type": "stream",
     "text": [
      "c:\\Users\\prath\\anaconda-new\\Lib\\site-packages\\anndata\\_core\\anndata.py:1791: UserWarning: Observation names are not unique. To make them unique, call `.obs_names_make_unique`.\n",
      "  utils.warn_names_duplicates(\"obs\")\n",
      "c:\\Users\\prath\\anaconda-new\\Lib\\site-packages\\anndata\\_core\\anndata.py:1793: UserWarning: Variable names are not unique. To make them unique, call `.var_names_make_unique`.\n",
      "  utils.warn_names_duplicates(\"var\")\n"
     ]
    },
    {
     "name": "stdout",
     "output_type": "stream",
     "text": [
      "Error with MAGIC - adata_magic_imputed_mf30_run7.h5ad: setting an array element with a sequence.\n"
     ]
    },
    {
     "name": "stderr",
     "output_type": "stream",
     "text": [
      "c:\\Users\\prath\\anaconda-new\\Lib\\site-packages\\anndata\\_core\\anndata.py:1791: UserWarning: Observation names are not unique. To make them unique, call `.obs_names_make_unique`.\n",
      "  utils.warn_names_duplicates(\"obs\")\n",
      "c:\\Users\\prath\\anaconda-new\\Lib\\site-packages\\anndata\\_core\\anndata.py:1793: UserWarning: Variable names are not unique. To make them unique, call `.var_names_make_unique`.\n",
      "  utils.warn_names_duplicates(\"var\")\n"
     ]
    },
    {
     "name": "stdout",
     "output_type": "stream",
     "text": [
      "Error with MAGIC - adata_magic_imputed_mf30_run8.h5ad: setting an array element with a sequence.\n"
     ]
    },
    {
     "name": "stderr",
     "output_type": "stream",
     "text": [
      "c:\\Users\\prath\\anaconda-new\\Lib\\site-packages\\anndata\\_core\\anndata.py:1791: UserWarning: Observation names are not unique. To make them unique, call `.obs_names_make_unique`.\n",
      "  utils.warn_names_duplicates(\"obs\")\n",
      "c:\\Users\\prath\\anaconda-new\\Lib\\site-packages\\anndata\\_core\\anndata.py:1793: UserWarning: Variable names are not unique. To make them unique, call `.var_names_make_unique`.\n",
      "  utils.warn_names_duplicates(\"var\")\n"
     ]
    },
    {
     "name": "stdout",
     "output_type": "stream",
     "text": [
      "Error with MAGIC - adata_magic_imputed_mf30_run9.h5ad: setting an array element with a sequence.\n",
      "Error with KNN - adata_knn_imputed_mf10_run1.h5ad: setting an array element with a sequence.\n",
      "Error with KNN - adata_knn_imputed_mf10_run10.h5ad: setting an array element with a sequence.\n",
      "Error with KNN - adata_knn_imputed_mf10_run2.h5ad: setting an array element with a sequence.\n",
      "Error with KNN - adata_knn_imputed_mf10_run3.h5ad: setting an array element with a sequence.\n",
      "Error with KNN - adata_knn_imputed_mf10_run4.h5ad: setting an array element with a sequence.\n",
      "Error with KNN - adata_knn_imputed_mf10_run5.h5ad: setting an array element with a sequence.\n",
      "Error with KNN - adata_knn_imputed_mf10_run6.h5ad: setting an array element with a sequence.\n",
      "Error with KNN - adata_knn_imputed_mf10_run7.h5ad: setting an array element with a sequence.\n",
      "Error with KNN - adata_knn_imputed_mf10_run8.h5ad: setting an array element with a sequence.\n",
      "Error with KNN - adata_knn_imputed_mf10_run9.h5ad: setting an array element with a sequence.\n",
      "Error with KNN - adata_knn_imputed_mf20_run1.h5ad: setting an array element with a sequence.\n",
      "Error with KNN - adata_knn_imputed_mf20_run10.h5ad: setting an array element with a sequence.\n",
      "Error with KNN - adata_knn_imputed_mf20_run2.h5ad: setting an array element with a sequence.\n",
      "Error with KNN - adata_knn_imputed_mf20_run3.h5ad: setting an array element with a sequence.\n",
      "Error with KNN - adata_knn_imputed_mf20_run4.h5ad: setting an array element with a sequence.\n",
      "Error with KNN - adata_knn_imputed_mf20_run5.h5ad: setting an array element with a sequence.\n",
      "Error with KNN - adata_knn_imputed_mf20_run6.h5ad: setting an array element with a sequence.\n",
      "Error with KNN - adata_knn_imputed_mf20_run7.h5ad: setting an array element with a sequence.\n",
      "Error with KNN - adata_knn_imputed_mf20_run8.h5ad: setting an array element with a sequence.\n",
      "Error with KNN - adata_knn_imputed_mf20_run9.h5ad: setting an array element with a sequence.\n",
      "Error with KNN - adata_knn_imputed_mf30_run1.h5ad: setting an array element with a sequence.\n",
      "Error with KNN - adata_knn_imputed_mf30_run10.h5ad: setting an array element with a sequence.\n",
      "Error with KNN - adata_knn_imputed_mf30_run2.h5ad: setting an array element with a sequence.\n",
      "Error with KNN - adata_knn_imputed_mf30_run3.h5ad: setting an array element with a sequence.\n",
      "Error with KNN - adata_knn_imputed_mf30_run4.h5ad: setting an array element with a sequence.\n",
      "Error with KNN - adata_knn_imputed_mf30_run5.h5ad: setting an array element with a sequence.\n",
      "Error with KNN - adata_knn_imputed_mf30_run6.h5ad: setting an array element with a sequence.\n",
      "Error with KNN - adata_knn_imputed_mf30_run7.h5ad: setting an array element with a sequence.\n",
      "Error with KNN - adata_knn_imputed_mf30_run8.h5ad: setting an array element with a sequence.\n",
      "Error with KNN - adata_knn_imputed_mf30_run9.h5ad: setting an array element with a sequence.\n"
     ]
    },
    {
     "name": "stderr",
     "output_type": "stream",
     "text": [
      "c:\\Users\\prath\\anaconda-new\\Lib\\site-packages\\anndata\\_core\\anndata.py:1791: UserWarning: Observation names are not unique. To make them unique, call `.obs_names_make_unique`.\n",
      "  utils.warn_names_duplicates(\"obs\")\n",
      "c:\\Users\\prath\\anaconda-new\\Lib\\site-packages\\anndata\\_core\\anndata.py:1793: UserWarning: Variable names are not unique. To make them unique, call `.var_names_make_unique`.\n",
      "  utils.warn_names_duplicates(\"var\")\n"
     ]
    },
    {
     "name": "stdout",
     "output_type": "stream",
     "text": [
      "Error with Mean - adata_mean_imputed_mf10_run1.h5ad: setting an array element with a sequence.\n"
     ]
    },
    {
     "name": "stderr",
     "output_type": "stream",
     "text": [
      "c:\\Users\\prath\\anaconda-new\\Lib\\site-packages\\anndata\\_core\\anndata.py:1791: UserWarning: Observation names are not unique. To make them unique, call `.obs_names_make_unique`.\n",
      "  utils.warn_names_duplicates(\"obs\")\n",
      "c:\\Users\\prath\\anaconda-new\\Lib\\site-packages\\anndata\\_core\\anndata.py:1793: UserWarning: Variable names are not unique. To make them unique, call `.var_names_make_unique`.\n",
      "  utils.warn_names_duplicates(\"var\")\n"
     ]
    },
    {
     "name": "stdout",
     "output_type": "stream",
     "text": [
      "Error with Mean - adata_mean_imputed_mf10_run10.h5ad: setting an array element with a sequence.\n"
     ]
    },
    {
     "name": "stderr",
     "output_type": "stream",
     "text": [
      "c:\\Users\\prath\\anaconda-new\\Lib\\site-packages\\anndata\\_core\\anndata.py:1791: UserWarning: Observation names are not unique. To make them unique, call `.obs_names_make_unique`.\n",
      "  utils.warn_names_duplicates(\"obs\")\n",
      "c:\\Users\\prath\\anaconda-new\\Lib\\site-packages\\anndata\\_core\\anndata.py:1793: UserWarning: Variable names are not unique. To make them unique, call `.var_names_make_unique`.\n",
      "  utils.warn_names_duplicates(\"var\")\n"
     ]
    },
    {
     "name": "stdout",
     "output_type": "stream",
     "text": [
      "Error with Mean - adata_mean_imputed_mf10_run2.h5ad: setting an array element with a sequence.\n"
     ]
    },
    {
     "name": "stderr",
     "output_type": "stream",
     "text": [
      "c:\\Users\\prath\\anaconda-new\\Lib\\site-packages\\anndata\\_core\\anndata.py:1791: UserWarning: Observation names are not unique. To make them unique, call `.obs_names_make_unique`.\n",
      "  utils.warn_names_duplicates(\"obs\")\n",
      "c:\\Users\\prath\\anaconda-new\\Lib\\site-packages\\anndata\\_core\\anndata.py:1793: UserWarning: Variable names are not unique. To make them unique, call `.var_names_make_unique`.\n",
      "  utils.warn_names_duplicates(\"var\")\n"
     ]
    },
    {
     "name": "stdout",
     "output_type": "stream",
     "text": [
      "Error with Mean - adata_mean_imputed_mf10_run3.h5ad: setting an array element with a sequence.\n"
     ]
    },
    {
     "name": "stderr",
     "output_type": "stream",
     "text": [
      "c:\\Users\\prath\\anaconda-new\\Lib\\site-packages\\anndata\\_core\\anndata.py:1791: UserWarning: Observation names are not unique. To make them unique, call `.obs_names_make_unique`.\n",
      "  utils.warn_names_duplicates(\"obs\")\n",
      "c:\\Users\\prath\\anaconda-new\\Lib\\site-packages\\anndata\\_core\\anndata.py:1793: UserWarning: Variable names are not unique. To make them unique, call `.var_names_make_unique`.\n",
      "  utils.warn_names_duplicates(\"var\")\n"
     ]
    },
    {
     "name": "stdout",
     "output_type": "stream",
     "text": [
      "Error with Mean - adata_mean_imputed_mf10_run4.h5ad: setting an array element with a sequence.\n"
     ]
    },
    {
     "name": "stderr",
     "output_type": "stream",
     "text": [
      "c:\\Users\\prath\\anaconda-new\\Lib\\site-packages\\anndata\\_core\\anndata.py:1791: UserWarning: Observation names are not unique. To make them unique, call `.obs_names_make_unique`.\n",
      "  utils.warn_names_duplicates(\"obs\")\n",
      "c:\\Users\\prath\\anaconda-new\\Lib\\site-packages\\anndata\\_core\\anndata.py:1793: UserWarning: Variable names are not unique. To make them unique, call `.var_names_make_unique`.\n",
      "  utils.warn_names_duplicates(\"var\")\n"
     ]
    },
    {
     "name": "stdout",
     "output_type": "stream",
     "text": [
      "Error with Mean - adata_mean_imputed_mf10_run5.h5ad: setting an array element with a sequence.\n"
     ]
    },
    {
     "name": "stderr",
     "output_type": "stream",
     "text": [
      "c:\\Users\\prath\\anaconda-new\\Lib\\site-packages\\anndata\\_core\\anndata.py:1791: UserWarning: Observation names are not unique. To make them unique, call `.obs_names_make_unique`.\n",
      "  utils.warn_names_duplicates(\"obs\")\n",
      "c:\\Users\\prath\\anaconda-new\\Lib\\site-packages\\anndata\\_core\\anndata.py:1793: UserWarning: Variable names are not unique. To make them unique, call `.var_names_make_unique`.\n",
      "  utils.warn_names_duplicates(\"var\")\n"
     ]
    },
    {
     "name": "stdout",
     "output_type": "stream",
     "text": [
      "Error with Mean - adata_mean_imputed_mf10_run6.h5ad: setting an array element with a sequence.\n"
     ]
    },
    {
     "name": "stderr",
     "output_type": "stream",
     "text": [
      "c:\\Users\\prath\\anaconda-new\\Lib\\site-packages\\anndata\\_core\\anndata.py:1791: UserWarning: Observation names are not unique. To make them unique, call `.obs_names_make_unique`.\n",
      "  utils.warn_names_duplicates(\"obs\")\n",
      "c:\\Users\\prath\\anaconda-new\\Lib\\site-packages\\anndata\\_core\\anndata.py:1793: UserWarning: Variable names are not unique. To make them unique, call `.var_names_make_unique`.\n",
      "  utils.warn_names_duplicates(\"var\")\n"
     ]
    },
    {
     "name": "stdout",
     "output_type": "stream",
     "text": [
      "Error with Mean - adata_mean_imputed_mf10_run7.h5ad: setting an array element with a sequence.\n"
     ]
    },
    {
     "name": "stderr",
     "output_type": "stream",
     "text": [
      "c:\\Users\\prath\\anaconda-new\\Lib\\site-packages\\anndata\\_core\\anndata.py:1791: UserWarning: Observation names are not unique. To make them unique, call `.obs_names_make_unique`.\n",
      "  utils.warn_names_duplicates(\"obs\")\n",
      "c:\\Users\\prath\\anaconda-new\\Lib\\site-packages\\anndata\\_core\\anndata.py:1793: UserWarning: Variable names are not unique. To make them unique, call `.var_names_make_unique`.\n",
      "  utils.warn_names_duplicates(\"var\")\n"
     ]
    },
    {
     "name": "stdout",
     "output_type": "stream",
     "text": [
      "Error with Mean - adata_mean_imputed_mf10_run8.h5ad: setting an array element with a sequence.\n"
     ]
    },
    {
     "name": "stderr",
     "output_type": "stream",
     "text": [
      "c:\\Users\\prath\\anaconda-new\\Lib\\site-packages\\anndata\\_core\\anndata.py:1791: UserWarning: Observation names are not unique. To make them unique, call `.obs_names_make_unique`.\n",
      "  utils.warn_names_duplicates(\"obs\")\n",
      "c:\\Users\\prath\\anaconda-new\\Lib\\site-packages\\anndata\\_core\\anndata.py:1793: UserWarning: Variable names are not unique. To make them unique, call `.var_names_make_unique`.\n",
      "  utils.warn_names_duplicates(\"var\")\n"
     ]
    },
    {
     "name": "stdout",
     "output_type": "stream",
     "text": [
      "Error with Mean - adata_mean_imputed_mf10_run9.h5ad: setting an array element with a sequence.\n"
     ]
    },
    {
     "name": "stderr",
     "output_type": "stream",
     "text": [
      "c:\\Users\\prath\\anaconda-new\\Lib\\site-packages\\anndata\\_core\\anndata.py:1791: UserWarning: Observation names are not unique. To make them unique, call `.obs_names_make_unique`.\n",
      "  utils.warn_names_duplicates(\"obs\")\n",
      "c:\\Users\\prath\\anaconda-new\\Lib\\site-packages\\anndata\\_core\\anndata.py:1793: UserWarning: Variable names are not unique. To make them unique, call `.var_names_make_unique`.\n",
      "  utils.warn_names_duplicates(\"var\")\n"
     ]
    },
    {
     "name": "stdout",
     "output_type": "stream",
     "text": [
      "Error with Mean - adata_mean_imputed_mf20_run1.h5ad: setting an array element with a sequence.\n"
     ]
    },
    {
     "name": "stderr",
     "output_type": "stream",
     "text": [
      "c:\\Users\\prath\\anaconda-new\\Lib\\site-packages\\anndata\\_core\\anndata.py:1791: UserWarning: Observation names are not unique. To make them unique, call `.obs_names_make_unique`.\n",
      "  utils.warn_names_duplicates(\"obs\")\n",
      "c:\\Users\\prath\\anaconda-new\\Lib\\site-packages\\anndata\\_core\\anndata.py:1793: UserWarning: Variable names are not unique. To make them unique, call `.var_names_make_unique`.\n",
      "  utils.warn_names_duplicates(\"var\")\n"
     ]
    },
    {
     "name": "stdout",
     "output_type": "stream",
     "text": [
      "Error with Mean - adata_mean_imputed_mf20_run10.h5ad: setting an array element with a sequence.\n"
     ]
    },
    {
     "name": "stderr",
     "output_type": "stream",
     "text": [
      "c:\\Users\\prath\\anaconda-new\\Lib\\site-packages\\anndata\\_core\\anndata.py:1791: UserWarning: Observation names are not unique. To make them unique, call `.obs_names_make_unique`.\n",
      "  utils.warn_names_duplicates(\"obs\")\n",
      "c:\\Users\\prath\\anaconda-new\\Lib\\site-packages\\anndata\\_core\\anndata.py:1793: UserWarning: Variable names are not unique. To make them unique, call `.var_names_make_unique`.\n",
      "  utils.warn_names_duplicates(\"var\")\n"
     ]
    },
    {
     "name": "stdout",
     "output_type": "stream",
     "text": [
      "Error with Mean - adata_mean_imputed_mf20_run2.h5ad: setting an array element with a sequence.\n"
     ]
    },
    {
     "name": "stderr",
     "output_type": "stream",
     "text": [
      "c:\\Users\\prath\\anaconda-new\\Lib\\site-packages\\anndata\\_core\\anndata.py:1791: UserWarning: Observation names are not unique. To make them unique, call `.obs_names_make_unique`.\n",
      "  utils.warn_names_duplicates(\"obs\")\n",
      "c:\\Users\\prath\\anaconda-new\\Lib\\site-packages\\anndata\\_core\\anndata.py:1793: UserWarning: Variable names are not unique. To make them unique, call `.var_names_make_unique`.\n",
      "  utils.warn_names_duplicates(\"var\")\n"
     ]
    },
    {
     "name": "stdout",
     "output_type": "stream",
     "text": [
      "Error with Mean - adata_mean_imputed_mf20_run3.h5ad: setting an array element with a sequence.\n"
     ]
    },
    {
     "name": "stderr",
     "output_type": "stream",
     "text": [
      "c:\\Users\\prath\\anaconda-new\\Lib\\site-packages\\anndata\\_core\\anndata.py:1791: UserWarning: Observation names are not unique. To make them unique, call `.obs_names_make_unique`.\n",
      "  utils.warn_names_duplicates(\"obs\")\n",
      "c:\\Users\\prath\\anaconda-new\\Lib\\site-packages\\anndata\\_core\\anndata.py:1793: UserWarning: Variable names are not unique. To make them unique, call `.var_names_make_unique`.\n",
      "  utils.warn_names_duplicates(\"var\")\n"
     ]
    },
    {
     "name": "stdout",
     "output_type": "stream",
     "text": [
      "Error with Mean - adata_mean_imputed_mf20_run4.h5ad: setting an array element with a sequence.\n"
     ]
    },
    {
     "name": "stderr",
     "output_type": "stream",
     "text": [
      "c:\\Users\\prath\\anaconda-new\\Lib\\site-packages\\anndata\\_core\\anndata.py:1791: UserWarning: Observation names are not unique. To make them unique, call `.obs_names_make_unique`.\n",
      "  utils.warn_names_duplicates(\"obs\")\n",
      "c:\\Users\\prath\\anaconda-new\\Lib\\site-packages\\anndata\\_core\\anndata.py:1793: UserWarning: Variable names are not unique. To make them unique, call `.var_names_make_unique`.\n",
      "  utils.warn_names_duplicates(\"var\")\n"
     ]
    },
    {
     "name": "stdout",
     "output_type": "stream",
     "text": [
      "Error with Mean - adata_mean_imputed_mf20_run5.h5ad: setting an array element with a sequence.\n"
     ]
    },
    {
     "name": "stderr",
     "output_type": "stream",
     "text": [
      "c:\\Users\\prath\\anaconda-new\\Lib\\site-packages\\anndata\\_core\\anndata.py:1791: UserWarning: Observation names are not unique. To make them unique, call `.obs_names_make_unique`.\n",
      "  utils.warn_names_duplicates(\"obs\")\n",
      "c:\\Users\\prath\\anaconda-new\\Lib\\site-packages\\anndata\\_core\\anndata.py:1793: UserWarning: Variable names are not unique. To make them unique, call `.var_names_make_unique`.\n",
      "  utils.warn_names_duplicates(\"var\")\n"
     ]
    },
    {
     "name": "stdout",
     "output_type": "stream",
     "text": [
      "Error with Mean - adata_mean_imputed_mf20_run6.h5ad: setting an array element with a sequence.\n"
     ]
    },
    {
     "name": "stderr",
     "output_type": "stream",
     "text": [
      "c:\\Users\\prath\\anaconda-new\\Lib\\site-packages\\anndata\\_core\\anndata.py:1791: UserWarning: Observation names are not unique. To make them unique, call `.obs_names_make_unique`.\n",
      "  utils.warn_names_duplicates(\"obs\")\n",
      "c:\\Users\\prath\\anaconda-new\\Lib\\site-packages\\anndata\\_core\\anndata.py:1793: UserWarning: Variable names are not unique. To make them unique, call `.var_names_make_unique`.\n",
      "  utils.warn_names_duplicates(\"var\")\n"
     ]
    },
    {
     "name": "stdout",
     "output_type": "stream",
     "text": [
      "Error with Mean - adata_mean_imputed_mf20_run7.h5ad: setting an array element with a sequence.\n"
     ]
    },
    {
     "name": "stderr",
     "output_type": "stream",
     "text": [
      "c:\\Users\\prath\\anaconda-new\\Lib\\site-packages\\anndata\\_core\\anndata.py:1791: UserWarning: Observation names are not unique. To make them unique, call `.obs_names_make_unique`.\n",
      "  utils.warn_names_duplicates(\"obs\")\n",
      "c:\\Users\\prath\\anaconda-new\\Lib\\site-packages\\anndata\\_core\\anndata.py:1793: UserWarning: Variable names are not unique. To make them unique, call `.var_names_make_unique`.\n",
      "  utils.warn_names_duplicates(\"var\")\n"
     ]
    },
    {
     "name": "stdout",
     "output_type": "stream",
     "text": [
      "Error with Mean - adata_mean_imputed_mf20_run8.h5ad: setting an array element with a sequence.\n"
     ]
    },
    {
     "name": "stderr",
     "output_type": "stream",
     "text": [
      "c:\\Users\\prath\\anaconda-new\\Lib\\site-packages\\anndata\\_core\\anndata.py:1791: UserWarning: Observation names are not unique. To make them unique, call `.obs_names_make_unique`.\n",
      "  utils.warn_names_duplicates(\"obs\")\n",
      "c:\\Users\\prath\\anaconda-new\\Lib\\site-packages\\anndata\\_core\\anndata.py:1793: UserWarning: Variable names are not unique. To make them unique, call `.var_names_make_unique`.\n",
      "  utils.warn_names_duplicates(\"var\")\n"
     ]
    },
    {
     "name": "stdout",
     "output_type": "stream",
     "text": [
      "Error with Mean - adata_mean_imputed_mf20_run9.h5ad: setting an array element with a sequence.\n"
     ]
    },
    {
     "name": "stderr",
     "output_type": "stream",
     "text": [
      "c:\\Users\\prath\\anaconda-new\\Lib\\site-packages\\anndata\\_core\\anndata.py:1791: UserWarning: Observation names are not unique. To make them unique, call `.obs_names_make_unique`.\n",
      "  utils.warn_names_duplicates(\"obs\")\n",
      "c:\\Users\\prath\\anaconda-new\\Lib\\site-packages\\anndata\\_core\\anndata.py:1793: UserWarning: Variable names are not unique. To make them unique, call `.var_names_make_unique`.\n",
      "  utils.warn_names_duplicates(\"var\")\n"
     ]
    },
    {
     "name": "stdout",
     "output_type": "stream",
     "text": [
      "Error with Mean - adata_mean_imputed_mf30_run1.h5ad: setting an array element with a sequence.\n"
     ]
    },
    {
     "name": "stderr",
     "output_type": "stream",
     "text": [
      "c:\\Users\\prath\\anaconda-new\\Lib\\site-packages\\anndata\\_core\\anndata.py:1791: UserWarning: Observation names are not unique. To make them unique, call `.obs_names_make_unique`.\n",
      "  utils.warn_names_duplicates(\"obs\")\n",
      "c:\\Users\\prath\\anaconda-new\\Lib\\site-packages\\anndata\\_core\\anndata.py:1793: UserWarning: Variable names are not unique. To make them unique, call `.var_names_make_unique`.\n",
      "  utils.warn_names_duplicates(\"var\")\n"
     ]
    },
    {
     "name": "stdout",
     "output_type": "stream",
     "text": [
      "Error with Mean - adata_mean_imputed_mf30_run10.h5ad: setting an array element with a sequence.\n"
     ]
    },
    {
     "name": "stderr",
     "output_type": "stream",
     "text": [
      "c:\\Users\\prath\\anaconda-new\\Lib\\site-packages\\anndata\\_core\\anndata.py:1791: UserWarning: Observation names are not unique. To make them unique, call `.obs_names_make_unique`.\n",
      "  utils.warn_names_duplicates(\"obs\")\n",
      "c:\\Users\\prath\\anaconda-new\\Lib\\site-packages\\anndata\\_core\\anndata.py:1793: UserWarning: Variable names are not unique. To make them unique, call `.var_names_make_unique`.\n",
      "  utils.warn_names_duplicates(\"var\")\n"
     ]
    },
    {
     "name": "stdout",
     "output_type": "stream",
     "text": [
      "Error with Mean - adata_mean_imputed_mf30_run2.h5ad: setting an array element with a sequence.\n"
     ]
    },
    {
     "name": "stderr",
     "output_type": "stream",
     "text": [
      "c:\\Users\\prath\\anaconda-new\\Lib\\site-packages\\anndata\\_core\\anndata.py:1791: UserWarning: Observation names are not unique. To make them unique, call `.obs_names_make_unique`.\n",
      "  utils.warn_names_duplicates(\"obs\")\n",
      "c:\\Users\\prath\\anaconda-new\\Lib\\site-packages\\anndata\\_core\\anndata.py:1793: UserWarning: Variable names are not unique. To make them unique, call `.var_names_make_unique`.\n",
      "  utils.warn_names_duplicates(\"var\")\n"
     ]
    },
    {
     "name": "stdout",
     "output_type": "stream",
     "text": [
      "Error with Mean - adata_mean_imputed_mf30_run3.h5ad: setting an array element with a sequence.\n"
     ]
    },
    {
     "name": "stderr",
     "output_type": "stream",
     "text": [
      "c:\\Users\\prath\\anaconda-new\\Lib\\site-packages\\anndata\\_core\\anndata.py:1791: UserWarning: Observation names are not unique. To make them unique, call `.obs_names_make_unique`.\n",
      "  utils.warn_names_duplicates(\"obs\")\n",
      "c:\\Users\\prath\\anaconda-new\\Lib\\site-packages\\anndata\\_core\\anndata.py:1793: UserWarning: Variable names are not unique. To make them unique, call `.var_names_make_unique`.\n",
      "  utils.warn_names_duplicates(\"var\")\n"
     ]
    },
    {
     "name": "stdout",
     "output_type": "stream",
     "text": [
      "Error with Mean - adata_mean_imputed_mf30_run4.h5ad: setting an array element with a sequence.\n"
     ]
    },
    {
     "name": "stderr",
     "output_type": "stream",
     "text": [
      "c:\\Users\\prath\\anaconda-new\\Lib\\site-packages\\anndata\\_core\\anndata.py:1791: UserWarning: Observation names are not unique. To make them unique, call `.obs_names_make_unique`.\n",
      "  utils.warn_names_duplicates(\"obs\")\n",
      "c:\\Users\\prath\\anaconda-new\\Lib\\site-packages\\anndata\\_core\\anndata.py:1793: UserWarning: Variable names are not unique. To make them unique, call `.var_names_make_unique`.\n",
      "  utils.warn_names_duplicates(\"var\")\n"
     ]
    },
    {
     "name": "stdout",
     "output_type": "stream",
     "text": [
      "Error with Mean - adata_mean_imputed_mf30_run5.h5ad: setting an array element with a sequence.\n"
     ]
    },
    {
     "name": "stderr",
     "output_type": "stream",
     "text": [
      "c:\\Users\\prath\\anaconda-new\\Lib\\site-packages\\anndata\\_core\\anndata.py:1791: UserWarning: Observation names are not unique. To make them unique, call `.obs_names_make_unique`.\n",
      "  utils.warn_names_duplicates(\"obs\")\n",
      "c:\\Users\\prath\\anaconda-new\\Lib\\site-packages\\anndata\\_core\\anndata.py:1793: UserWarning: Variable names are not unique. To make them unique, call `.var_names_make_unique`.\n",
      "  utils.warn_names_duplicates(\"var\")\n"
     ]
    },
    {
     "name": "stdout",
     "output_type": "stream",
     "text": [
      "Error with Mean - adata_mean_imputed_mf30_run6.h5ad: setting an array element with a sequence.\n"
     ]
    },
    {
     "name": "stderr",
     "output_type": "stream",
     "text": [
      "c:\\Users\\prath\\anaconda-new\\Lib\\site-packages\\anndata\\_core\\anndata.py:1791: UserWarning: Observation names are not unique. To make them unique, call `.obs_names_make_unique`.\n",
      "  utils.warn_names_duplicates(\"obs\")\n",
      "c:\\Users\\prath\\anaconda-new\\Lib\\site-packages\\anndata\\_core\\anndata.py:1793: UserWarning: Variable names are not unique. To make them unique, call `.var_names_make_unique`.\n",
      "  utils.warn_names_duplicates(\"var\")\n"
     ]
    },
    {
     "name": "stdout",
     "output_type": "stream",
     "text": [
      "Error with Mean - adata_mean_imputed_mf30_run7.h5ad: setting an array element with a sequence.\n"
     ]
    },
    {
     "name": "stderr",
     "output_type": "stream",
     "text": [
      "c:\\Users\\prath\\anaconda-new\\Lib\\site-packages\\anndata\\_core\\anndata.py:1791: UserWarning: Observation names are not unique. To make them unique, call `.obs_names_make_unique`.\n",
      "  utils.warn_names_duplicates(\"obs\")\n",
      "c:\\Users\\prath\\anaconda-new\\Lib\\site-packages\\anndata\\_core\\anndata.py:1793: UserWarning: Variable names are not unique. To make them unique, call `.var_names_make_unique`.\n",
      "  utils.warn_names_duplicates(\"var\")\n"
     ]
    },
    {
     "name": "stdout",
     "output_type": "stream",
     "text": [
      "Error with Mean - adata_mean_imputed_mf30_run8.h5ad: setting an array element with a sequence.\n"
     ]
    },
    {
     "name": "stderr",
     "output_type": "stream",
     "text": [
      "c:\\Users\\prath\\anaconda-new\\Lib\\site-packages\\anndata\\_core\\anndata.py:1791: UserWarning: Observation names are not unique. To make them unique, call `.obs_names_make_unique`.\n",
      "  utils.warn_names_duplicates(\"obs\")\n",
      "c:\\Users\\prath\\anaconda-new\\Lib\\site-packages\\anndata\\_core\\anndata.py:1793: UserWarning: Variable names are not unique. To make them unique, call `.var_names_make_unique`.\n",
      "  utils.warn_names_duplicates(\"var\")\n"
     ]
    },
    {
     "name": "stdout",
     "output_type": "stream",
     "text": [
      "Error with Mean - adata_mean_imputed_mf30_run9.h5ad: setting an array element with a sequence.\n"
     ]
    },
    {
     "name": "stderr",
     "output_type": "stream",
     "text": [
      "c:\\Users\\prath\\anaconda-new\\Lib\\site-packages\\anndata\\_core\\anndata.py:1791: UserWarning: Observation names are not unique. To make them unique, call `.obs_names_make_unique`.\n",
      "  utils.warn_names_duplicates(\"obs\")\n",
      "c:\\Users\\prath\\anaconda-new\\Lib\\site-packages\\anndata\\_core\\anndata.py:1793: UserWarning: Variable names are not unique. To make them unique, call `.var_names_make_unique`.\n",
      "  utils.warn_names_duplicates(\"var\")\n"
     ]
    },
    {
     "name": "stdout",
     "output_type": "stream",
     "text": [
      "Error with GAN - adata_adata_gan_imputed_mf10_run1.h5ad: setting an array element with a sequence.\n"
     ]
    },
    {
     "name": "stderr",
     "output_type": "stream",
     "text": [
      "c:\\Users\\prath\\anaconda-new\\Lib\\site-packages\\anndata\\_core\\anndata.py:1791: UserWarning: Observation names are not unique. To make them unique, call `.obs_names_make_unique`.\n",
      "  utils.warn_names_duplicates(\"obs\")\n",
      "c:\\Users\\prath\\anaconda-new\\Lib\\site-packages\\anndata\\_core\\anndata.py:1793: UserWarning: Variable names are not unique. To make them unique, call `.var_names_make_unique`.\n",
      "  utils.warn_names_duplicates(\"var\")\n"
     ]
    },
    {
     "name": "stdout",
     "output_type": "stream",
     "text": [
      "Error with GAN - adata_adata_gan_imputed_mf10_run10.h5ad: setting an array element with a sequence.\n"
     ]
    },
    {
     "name": "stderr",
     "output_type": "stream",
     "text": [
      "c:\\Users\\prath\\anaconda-new\\Lib\\site-packages\\anndata\\_core\\anndata.py:1791: UserWarning: Observation names are not unique. To make them unique, call `.obs_names_make_unique`.\n",
      "  utils.warn_names_duplicates(\"obs\")\n",
      "c:\\Users\\prath\\anaconda-new\\Lib\\site-packages\\anndata\\_core\\anndata.py:1793: UserWarning: Variable names are not unique. To make them unique, call `.var_names_make_unique`.\n",
      "  utils.warn_names_duplicates(\"var\")\n"
     ]
    },
    {
     "name": "stdout",
     "output_type": "stream",
     "text": [
      "Error with GAN - adata_adata_gan_imputed_mf10_run2.h5ad: setting an array element with a sequence.\n"
     ]
    },
    {
     "name": "stderr",
     "output_type": "stream",
     "text": [
      "c:\\Users\\prath\\anaconda-new\\Lib\\site-packages\\anndata\\_core\\anndata.py:1791: UserWarning: Observation names are not unique. To make them unique, call `.obs_names_make_unique`.\n",
      "  utils.warn_names_duplicates(\"obs\")\n",
      "c:\\Users\\prath\\anaconda-new\\Lib\\site-packages\\anndata\\_core\\anndata.py:1793: UserWarning: Variable names are not unique. To make them unique, call `.var_names_make_unique`.\n",
      "  utils.warn_names_duplicates(\"var\")\n"
     ]
    },
    {
     "name": "stdout",
     "output_type": "stream",
     "text": [
      "Error with GAN - adata_adata_gan_imputed_mf10_run3.h5ad: setting an array element with a sequence.\n"
     ]
    },
    {
     "name": "stderr",
     "output_type": "stream",
     "text": [
      "c:\\Users\\prath\\anaconda-new\\Lib\\site-packages\\anndata\\_core\\anndata.py:1791: UserWarning: Observation names are not unique. To make them unique, call `.obs_names_make_unique`.\n",
      "  utils.warn_names_duplicates(\"obs\")\n",
      "c:\\Users\\prath\\anaconda-new\\Lib\\site-packages\\anndata\\_core\\anndata.py:1793: UserWarning: Variable names are not unique. To make them unique, call `.var_names_make_unique`.\n",
      "  utils.warn_names_duplicates(\"var\")\n"
     ]
    },
    {
     "name": "stdout",
     "output_type": "stream",
     "text": [
      "Error with GAN - adata_adata_gan_imputed_mf10_run4.h5ad: setting an array element with a sequence.\n"
     ]
    },
    {
     "name": "stderr",
     "output_type": "stream",
     "text": [
      "c:\\Users\\prath\\anaconda-new\\Lib\\site-packages\\anndata\\_core\\anndata.py:1791: UserWarning: Observation names are not unique. To make them unique, call `.obs_names_make_unique`.\n",
      "  utils.warn_names_duplicates(\"obs\")\n",
      "c:\\Users\\prath\\anaconda-new\\Lib\\site-packages\\anndata\\_core\\anndata.py:1793: UserWarning: Variable names are not unique. To make them unique, call `.var_names_make_unique`.\n",
      "  utils.warn_names_duplicates(\"var\")\n"
     ]
    },
    {
     "name": "stdout",
     "output_type": "stream",
     "text": [
      "Error with GAN - adata_adata_gan_imputed_mf10_run5.h5ad: setting an array element with a sequence.\n"
     ]
    },
    {
     "name": "stderr",
     "output_type": "stream",
     "text": [
      "c:\\Users\\prath\\anaconda-new\\Lib\\site-packages\\anndata\\_core\\anndata.py:1791: UserWarning: Observation names are not unique. To make them unique, call `.obs_names_make_unique`.\n",
      "  utils.warn_names_duplicates(\"obs\")\n",
      "c:\\Users\\prath\\anaconda-new\\Lib\\site-packages\\anndata\\_core\\anndata.py:1793: UserWarning: Variable names are not unique. To make them unique, call `.var_names_make_unique`.\n",
      "  utils.warn_names_duplicates(\"var\")\n"
     ]
    },
    {
     "name": "stdout",
     "output_type": "stream",
     "text": [
      "Error with GAN - adata_adata_gan_imputed_mf10_run6.h5ad: setting an array element with a sequence.\n"
     ]
    },
    {
     "name": "stderr",
     "output_type": "stream",
     "text": [
      "c:\\Users\\prath\\anaconda-new\\Lib\\site-packages\\anndata\\_core\\anndata.py:1791: UserWarning: Observation names are not unique. To make them unique, call `.obs_names_make_unique`.\n",
      "  utils.warn_names_duplicates(\"obs\")\n",
      "c:\\Users\\prath\\anaconda-new\\Lib\\site-packages\\anndata\\_core\\anndata.py:1793: UserWarning: Variable names are not unique. To make them unique, call `.var_names_make_unique`.\n",
      "  utils.warn_names_duplicates(\"var\")\n"
     ]
    },
    {
     "name": "stdout",
     "output_type": "stream",
     "text": [
      "Error with GAN - adata_adata_gan_imputed_mf10_run7.h5ad: setting an array element with a sequence.\n"
     ]
    },
    {
     "name": "stderr",
     "output_type": "stream",
     "text": [
      "c:\\Users\\prath\\anaconda-new\\Lib\\site-packages\\anndata\\_core\\anndata.py:1791: UserWarning: Observation names are not unique. To make them unique, call `.obs_names_make_unique`.\n",
      "  utils.warn_names_duplicates(\"obs\")\n",
      "c:\\Users\\prath\\anaconda-new\\Lib\\site-packages\\anndata\\_core\\anndata.py:1793: UserWarning: Variable names are not unique. To make them unique, call `.var_names_make_unique`.\n",
      "  utils.warn_names_duplicates(\"var\")\n"
     ]
    },
    {
     "name": "stdout",
     "output_type": "stream",
     "text": [
      "Error with GAN - adata_adata_gan_imputed_mf10_run8.h5ad: setting an array element with a sequence.\n"
     ]
    },
    {
     "name": "stderr",
     "output_type": "stream",
     "text": [
      "c:\\Users\\prath\\anaconda-new\\Lib\\site-packages\\anndata\\_core\\anndata.py:1791: UserWarning: Observation names are not unique. To make them unique, call `.obs_names_make_unique`.\n",
      "  utils.warn_names_duplicates(\"obs\")\n",
      "c:\\Users\\prath\\anaconda-new\\Lib\\site-packages\\anndata\\_core\\anndata.py:1793: UserWarning: Variable names are not unique. To make them unique, call `.var_names_make_unique`.\n",
      "  utils.warn_names_duplicates(\"var\")\n"
     ]
    },
    {
     "name": "stdout",
     "output_type": "stream",
     "text": [
      "Error with GAN - adata_adata_gan_imputed_mf10_run9.h5ad: setting an array element with a sequence.\n"
     ]
    },
    {
     "name": "stderr",
     "output_type": "stream",
     "text": [
      "c:\\Users\\prath\\anaconda-new\\Lib\\site-packages\\anndata\\_core\\anndata.py:1791: UserWarning: Observation names are not unique. To make them unique, call `.obs_names_make_unique`.\n",
      "  utils.warn_names_duplicates(\"obs\")\n",
      "c:\\Users\\prath\\anaconda-new\\Lib\\site-packages\\anndata\\_core\\anndata.py:1793: UserWarning: Variable names are not unique. To make them unique, call `.var_names_make_unique`.\n",
      "  utils.warn_names_duplicates(\"var\")\n"
     ]
    },
    {
     "name": "stdout",
     "output_type": "stream",
     "text": [
      "Error with GAN - adata_adata_gan_imputed_mf20_run1.h5ad: setting an array element with a sequence.\n"
     ]
    },
    {
     "name": "stderr",
     "output_type": "stream",
     "text": [
      "c:\\Users\\prath\\anaconda-new\\Lib\\site-packages\\anndata\\_core\\anndata.py:1791: UserWarning: Observation names are not unique. To make them unique, call `.obs_names_make_unique`.\n",
      "  utils.warn_names_duplicates(\"obs\")\n",
      "c:\\Users\\prath\\anaconda-new\\Lib\\site-packages\\anndata\\_core\\anndata.py:1793: UserWarning: Variable names are not unique. To make them unique, call `.var_names_make_unique`.\n",
      "  utils.warn_names_duplicates(\"var\")\n"
     ]
    },
    {
     "name": "stdout",
     "output_type": "stream",
     "text": [
      "Error with GAN - adata_adata_gan_imputed_mf20_run10.h5ad: setting an array element with a sequence.\n"
     ]
    },
    {
     "name": "stderr",
     "output_type": "stream",
     "text": [
      "c:\\Users\\prath\\anaconda-new\\Lib\\site-packages\\anndata\\_core\\anndata.py:1791: UserWarning: Observation names are not unique. To make them unique, call `.obs_names_make_unique`.\n",
      "  utils.warn_names_duplicates(\"obs\")\n",
      "c:\\Users\\prath\\anaconda-new\\Lib\\site-packages\\anndata\\_core\\anndata.py:1793: UserWarning: Variable names are not unique. To make them unique, call `.var_names_make_unique`.\n",
      "  utils.warn_names_duplicates(\"var\")\n"
     ]
    },
    {
     "name": "stdout",
     "output_type": "stream",
     "text": [
      "Error with GAN - adata_adata_gan_imputed_mf20_run2.h5ad: setting an array element with a sequence.\n"
     ]
    },
    {
     "name": "stderr",
     "output_type": "stream",
     "text": [
      "c:\\Users\\prath\\anaconda-new\\Lib\\site-packages\\anndata\\_core\\anndata.py:1791: UserWarning: Observation names are not unique. To make them unique, call `.obs_names_make_unique`.\n",
      "  utils.warn_names_duplicates(\"obs\")\n",
      "c:\\Users\\prath\\anaconda-new\\Lib\\site-packages\\anndata\\_core\\anndata.py:1793: UserWarning: Variable names are not unique. To make them unique, call `.var_names_make_unique`.\n",
      "  utils.warn_names_duplicates(\"var\")\n"
     ]
    },
    {
     "name": "stdout",
     "output_type": "stream",
     "text": [
      "Error with GAN - adata_adata_gan_imputed_mf20_run3.h5ad: setting an array element with a sequence.\n"
     ]
    },
    {
     "name": "stderr",
     "output_type": "stream",
     "text": [
      "c:\\Users\\prath\\anaconda-new\\Lib\\site-packages\\anndata\\_core\\anndata.py:1791: UserWarning: Observation names are not unique. To make them unique, call `.obs_names_make_unique`.\n",
      "  utils.warn_names_duplicates(\"obs\")\n",
      "c:\\Users\\prath\\anaconda-new\\Lib\\site-packages\\anndata\\_core\\anndata.py:1793: UserWarning: Variable names are not unique. To make them unique, call `.var_names_make_unique`.\n",
      "  utils.warn_names_duplicates(\"var\")\n"
     ]
    },
    {
     "name": "stdout",
     "output_type": "stream",
     "text": [
      "Error with GAN - adata_adata_gan_imputed_mf20_run4.h5ad: setting an array element with a sequence.\n"
     ]
    },
    {
     "name": "stderr",
     "output_type": "stream",
     "text": [
      "c:\\Users\\prath\\anaconda-new\\Lib\\site-packages\\anndata\\_core\\anndata.py:1791: UserWarning: Observation names are not unique. To make them unique, call `.obs_names_make_unique`.\n",
      "  utils.warn_names_duplicates(\"obs\")\n",
      "c:\\Users\\prath\\anaconda-new\\Lib\\site-packages\\anndata\\_core\\anndata.py:1793: UserWarning: Variable names are not unique. To make them unique, call `.var_names_make_unique`.\n",
      "  utils.warn_names_duplicates(\"var\")\n"
     ]
    },
    {
     "name": "stdout",
     "output_type": "stream",
     "text": [
      "Error with GAN - adata_adata_gan_imputed_mf20_run5.h5ad: setting an array element with a sequence.\n"
     ]
    },
    {
     "name": "stderr",
     "output_type": "stream",
     "text": [
      "c:\\Users\\prath\\anaconda-new\\Lib\\site-packages\\anndata\\_core\\anndata.py:1791: UserWarning: Observation names are not unique. To make them unique, call `.obs_names_make_unique`.\n",
      "  utils.warn_names_duplicates(\"obs\")\n",
      "c:\\Users\\prath\\anaconda-new\\Lib\\site-packages\\anndata\\_core\\anndata.py:1793: UserWarning: Variable names are not unique. To make them unique, call `.var_names_make_unique`.\n",
      "  utils.warn_names_duplicates(\"var\")\n"
     ]
    },
    {
     "name": "stdout",
     "output_type": "stream",
     "text": [
      "Error with GAN - adata_adata_gan_imputed_mf20_run6.h5ad: setting an array element with a sequence.\n"
     ]
    },
    {
     "name": "stderr",
     "output_type": "stream",
     "text": [
      "c:\\Users\\prath\\anaconda-new\\Lib\\site-packages\\anndata\\_core\\anndata.py:1791: UserWarning: Observation names are not unique. To make them unique, call `.obs_names_make_unique`.\n",
      "  utils.warn_names_duplicates(\"obs\")\n",
      "c:\\Users\\prath\\anaconda-new\\Lib\\site-packages\\anndata\\_core\\anndata.py:1793: UserWarning: Variable names are not unique. To make them unique, call `.var_names_make_unique`.\n",
      "  utils.warn_names_duplicates(\"var\")\n"
     ]
    },
    {
     "name": "stdout",
     "output_type": "stream",
     "text": [
      "Error with GAN - adata_adata_gan_imputed_mf20_run7.h5ad: setting an array element with a sequence.\n"
     ]
    },
    {
     "name": "stderr",
     "output_type": "stream",
     "text": [
      "c:\\Users\\prath\\anaconda-new\\Lib\\site-packages\\anndata\\_core\\anndata.py:1791: UserWarning: Observation names are not unique. To make them unique, call `.obs_names_make_unique`.\n",
      "  utils.warn_names_duplicates(\"obs\")\n",
      "c:\\Users\\prath\\anaconda-new\\Lib\\site-packages\\anndata\\_core\\anndata.py:1793: UserWarning: Variable names are not unique. To make them unique, call `.var_names_make_unique`.\n",
      "  utils.warn_names_duplicates(\"var\")\n"
     ]
    },
    {
     "name": "stdout",
     "output_type": "stream",
     "text": [
      "Error with GAN - adata_adata_gan_imputed_mf20_run8.h5ad: setting an array element with a sequence.\n"
     ]
    },
    {
     "name": "stderr",
     "output_type": "stream",
     "text": [
      "c:\\Users\\prath\\anaconda-new\\Lib\\site-packages\\anndata\\_core\\anndata.py:1791: UserWarning: Observation names are not unique. To make them unique, call `.obs_names_make_unique`.\n",
      "  utils.warn_names_duplicates(\"obs\")\n",
      "c:\\Users\\prath\\anaconda-new\\Lib\\site-packages\\anndata\\_core\\anndata.py:1793: UserWarning: Variable names are not unique. To make them unique, call `.var_names_make_unique`.\n",
      "  utils.warn_names_duplicates(\"var\")\n"
     ]
    },
    {
     "name": "stdout",
     "output_type": "stream",
     "text": [
      "Error with GAN - adata_adata_gan_imputed_mf20_run9.h5ad: setting an array element with a sequence.\n"
     ]
    },
    {
     "name": "stderr",
     "output_type": "stream",
     "text": [
      "c:\\Users\\prath\\anaconda-new\\Lib\\site-packages\\anndata\\_core\\anndata.py:1791: UserWarning: Observation names are not unique. To make them unique, call `.obs_names_make_unique`.\n",
      "  utils.warn_names_duplicates(\"obs\")\n",
      "c:\\Users\\prath\\anaconda-new\\Lib\\site-packages\\anndata\\_core\\anndata.py:1793: UserWarning: Variable names are not unique. To make them unique, call `.var_names_make_unique`.\n",
      "  utils.warn_names_duplicates(\"var\")\n"
     ]
    },
    {
     "name": "stdout",
     "output_type": "stream",
     "text": [
      "Error with GAN - adata_adata_gan_imputed_mf30_run1.h5ad: setting an array element with a sequence.\n"
     ]
    },
    {
     "name": "stderr",
     "output_type": "stream",
     "text": [
      "c:\\Users\\prath\\anaconda-new\\Lib\\site-packages\\anndata\\_core\\anndata.py:1791: UserWarning: Observation names are not unique. To make them unique, call `.obs_names_make_unique`.\n",
      "  utils.warn_names_duplicates(\"obs\")\n",
      "c:\\Users\\prath\\anaconda-new\\Lib\\site-packages\\anndata\\_core\\anndata.py:1793: UserWarning: Variable names are not unique. To make them unique, call `.var_names_make_unique`.\n",
      "  utils.warn_names_duplicates(\"var\")\n"
     ]
    },
    {
     "name": "stdout",
     "output_type": "stream",
     "text": [
      "Error with GAN - adata_adata_gan_imputed_mf30_run10.h5ad: setting an array element with a sequence.\n"
     ]
    },
    {
     "name": "stderr",
     "output_type": "stream",
     "text": [
      "c:\\Users\\prath\\anaconda-new\\Lib\\site-packages\\anndata\\_core\\anndata.py:1791: UserWarning: Observation names are not unique. To make them unique, call `.obs_names_make_unique`.\n",
      "  utils.warn_names_duplicates(\"obs\")\n",
      "c:\\Users\\prath\\anaconda-new\\Lib\\site-packages\\anndata\\_core\\anndata.py:1793: UserWarning: Variable names are not unique. To make them unique, call `.var_names_make_unique`.\n",
      "  utils.warn_names_duplicates(\"var\")\n"
     ]
    },
    {
     "name": "stdout",
     "output_type": "stream",
     "text": [
      "Error with GAN - adata_adata_gan_imputed_mf30_run2.h5ad: setting an array element with a sequence.\n"
     ]
    },
    {
     "name": "stderr",
     "output_type": "stream",
     "text": [
      "c:\\Users\\prath\\anaconda-new\\Lib\\site-packages\\anndata\\_core\\anndata.py:1791: UserWarning: Observation names are not unique. To make them unique, call `.obs_names_make_unique`.\n",
      "  utils.warn_names_duplicates(\"obs\")\n",
      "c:\\Users\\prath\\anaconda-new\\Lib\\site-packages\\anndata\\_core\\anndata.py:1793: UserWarning: Variable names are not unique. To make them unique, call `.var_names_make_unique`.\n",
      "  utils.warn_names_duplicates(\"var\")\n"
     ]
    },
    {
     "name": "stdout",
     "output_type": "stream",
     "text": [
      "Error with GAN - adata_adata_gan_imputed_mf30_run3.h5ad: setting an array element with a sequence.\n"
     ]
    },
    {
     "name": "stderr",
     "output_type": "stream",
     "text": [
      "c:\\Users\\prath\\anaconda-new\\Lib\\site-packages\\anndata\\_core\\anndata.py:1791: UserWarning: Observation names are not unique. To make them unique, call `.obs_names_make_unique`.\n",
      "  utils.warn_names_duplicates(\"obs\")\n",
      "c:\\Users\\prath\\anaconda-new\\Lib\\site-packages\\anndata\\_core\\anndata.py:1793: UserWarning: Variable names are not unique. To make them unique, call `.var_names_make_unique`.\n",
      "  utils.warn_names_duplicates(\"var\")\n"
     ]
    },
    {
     "name": "stdout",
     "output_type": "stream",
     "text": [
      "Error with GAN - adata_adata_gan_imputed_mf30_run4.h5ad: setting an array element with a sequence.\n"
     ]
    },
    {
     "name": "stderr",
     "output_type": "stream",
     "text": [
      "c:\\Users\\prath\\anaconda-new\\Lib\\site-packages\\anndata\\_core\\anndata.py:1791: UserWarning: Observation names are not unique. To make them unique, call `.obs_names_make_unique`.\n",
      "  utils.warn_names_duplicates(\"obs\")\n",
      "c:\\Users\\prath\\anaconda-new\\Lib\\site-packages\\anndata\\_core\\anndata.py:1793: UserWarning: Variable names are not unique. To make them unique, call `.var_names_make_unique`.\n",
      "  utils.warn_names_duplicates(\"var\")\n"
     ]
    },
    {
     "name": "stdout",
     "output_type": "stream",
     "text": [
      "Error with GAN - adata_adata_gan_imputed_mf30_run5.h5ad: setting an array element with a sequence.\n"
     ]
    },
    {
     "name": "stderr",
     "output_type": "stream",
     "text": [
      "c:\\Users\\prath\\anaconda-new\\Lib\\site-packages\\anndata\\_core\\anndata.py:1791: UserWarning: Observation names are not unique. To make them unique, call `.obs_names_make_unique`.\n",
      "  utils.warn_names_duplicates(\"obs\")\n",
      "c:\\Users\\prath\\anaconda-new\\Lib\\site-packages\\anndata\\_core\\anndata.py:1793: UserWarning: Variable names are not unique. To make them unique, call `.var_names_make_unique`.\n",
      "  utils.warn_names_duplicates(\"var\")\n"
     ]
    },
    {
     "name": "stdout",
     "output_type": "stream",
     "text": [
      "Error with GAN - adata_adata_gan_imputed_mf30_run6.h5ad: setting an array element with a sequence.\n"
     ]
    },
    {
     "name": "stderr",
     "output_type": "stream",
     "text": [
      "c:\\Users\\prath\\anaconda-new\\Lib\\site-packages\\anndata\\_core\\anndata.py:1791: UserWarning: Observation names are not unique. To make them unique, call `.obs_names_make_unique`.\n",
      "  utils.warn_names_duplicates(\"obs\")\n",
      "c:\\Users\\prath\\anaconda-new\\Lib\\site-packages\\anndata\\_core\\anndata.py:1793: UserWarning: Variable names are not unique. To make them unique, call `.var_names_make_unique`.\n",
      "  utils.warn_names_duplicates(\"var\")\n"
     ]
    },
    {
     "name": "stdout",
     "output_type": "stream",
     "text": [
      "Error with GAN - adata_adata_gan_imputed_mf30_run7.h5ad: setting an array element with a sequence.\n"
     ]
    },
    {
     "name": "stderr",
     "output_type": "stream",
     "text": [
      "c:\\Users\\prath\\anaconda-new\\Lib\\site-packages\\anndata\\_core\\anndata.py:1791: UserWarning: Observation names are not unique. To make them unique, call `.obs_names_make_unique`.\n",
      "  utils.warn_names_duplicates(\"obs\")\n",
      "c:\\Users\\prath\\anaconda-new\\Lib\\site-packages\\anndata\\_core\\anndata.py:1793: UserWarning: Variable names are not unique. To make them unique, call `.var_names_make_unique`.\n",
      "  utils.warn_names_duplicates(\"var\")\n"
     ]
    },
    {
     "name": "stdout",
     "output_type": "stream",
     "text": [
      "Error with GAN - adata_adata_gan_imputed_mf30_run8.h5ad: setting an array element with a sequence.\n"
     ]
    },
    {
     "name": "stderr",
     "output_type": "stream",
     "text": [
      "c:\\Users\\prath\\anaconda-new\\Lib\\site-packages\\anndata\\_core\\anndata.py:1791: UserWarning: Observation names are not unique. To make them unique, call `.obs_names_make_unique`.\n",
      "  utils.warn_names_duplicates(\"obs\")\n",
      "c:\\Users\\prath\\anaconda-new\\Lib\\site-packages\\anndata\\_core\\anndata.py:1793: UserWarning: Variable names are not unique. To make them unique, call `.var_names_make_unique`.\n",
      "  utils.warn_names_duplicates(\"var\")\n"
     ]
    },
    {
     "name": "stdout",
     "output_type": "stream",
     "text": [
      "Error with GAN - adata_adata_gan_imputed_mf30_run9.h5ad: setting an array element with a sequence.\n",
      "Error with Iterative - adata_iterative_imputed_mf10_run1.h5ad: setting an array element with a sequence.\n",
      "Error with Iterative - adata_iterative_imputed_mf10_run10.h5ad: setting an array element with a sequence.\n",
      "Error with Iterative - adata_iterative_imputed_mf10_run2.h5ad: setting an array element with a sequence.\n",
      "Error with Iterative - adata_iterative_imputed_mf10_run3.h5ad: setting an array element with a sequence.\n",
      "Error with Iterative - adata_iterative_imputed_mf10_run4.h5ad: setting an array element with a sequence.\n",
      "Error with Iterative - adata_iterative_imputed_mf10_run5.h5ad: setting an array element with a sequence.\n",
      "Error with Iterative - adata_iterative_imputed_mf10_run6.h5ad: setting an array element with a sequence.\n",
      "Error with Iterative - adata_iterative_imputed_mf10_run7.h5ad: setting an array element with a sequence.\n",
      "Error with Iterative - adata_iterative_imputed_mf10_run8.h5ad: setting an array element with a sequence.\n",
      "Error with Iterative - adata_iterative_imputed_mf10_run9.h5ad: setting an array element with a sequence.\n",
      "Error with Iterative - adata_iterative_imputed_mf20_run1.h5ad: setting an array element with a sequence.\n",
      "Error with Iterative - adata_iterative_imputed_mf20_run10.h5ad: setting an array element with a sequence.\n",
      "Error with Iterative - adata_iterative_imputed_mf20_run2.h5ad: setting an array element with a sequence.\n",
      "Error with Iterative - adata_iterative_imputed_mf20_run3.h5ad: setting an array element with a sequence.\n",
      "Error with Iterative - adata_iterative_imputed_mf20_run4.h5ad: setting an array element with a sequence.\n",
      "Error with Iterative - adata_iterative_imputed_mf20_run5.h5ad: setting an array element with a sequence.\n",
      "Error with Iterative - adata_iterative_imputed_mf20_run6.h5ad: setting an array element with a sequence.\n",
      "Error with Iterative - adata_iterative_imputed_mf20_run7.h5ad: setting an array element with a sequence.\n",
      "Error with Iterative - adata_iterative_imputed_mf20_run8.h5ad: setting an array element with a sequence.\n",
      "Error with Iterative - adata_iterative_imputed_mf20_run9.h5ad: setting an array element with a sequence.\n",
      "Error with Iterative - adata_iterative_imputed_mf30_run1.h5ad: setting an array element with a sequence.\n",
      "Error with Iterative - adata_iterative_imputed_mf30_run10.h5ad: setting an array element with a sequence.\n",
      "Error with Iterative - adata_iterative_imputed_mf30_run2.h5ad: setting an array element with a sequence.\n",
      "Error with Iterative - adata_iterative_imputed_mf30_run3.h5ad: setting an array element with a sequence.\n",
      "Error with Iterative - adata_iterative_imputed_mf30_run4.h5ad: setting an array element with a sequence.\n",
      "Error with Iterative - adata_iterative_imputed_mf30_run5.h5ad: setting an array element with a sequence.\n",
      "Error with Iterative - adata_iterative_imputed_mf30_run6.h5ad: setting an array element with a sequence.\n",
      "Error with Iterative - adata_iterative_imputed_mf30_run7.h5ad: setting an array element with a sequence.\n",
      "Error with Iterative - adata_iterative_imputed_mf30_run8.h5ad: setting an array element with a sequence.\n",
      "Error with Iterative - adata_iterative_imputed_mf30_run9.h5ad: setting an array element with a sequence.\n"
     ]
    },
    {
     "ename": "ValueError",
     "evalue": "No correlations computed. Check your imputed files and pipeline.",
     "output_type": "error",
     "traceback": [
      "\u001b[1;31m---------------------------------------------------------------------------\u001b[0m",
      "\u001b[1;31mValueError\u001b[0m                                Traceback (most recent call last)",
      "Cell \u001b[1;32mIn[4], line 129\u001b[0m\n\u001b[0;32m    126\u001b[0m results_df \u001b[38;5;241m=\u001b[39m pd\u001b[38;5;241m.\u001b[39mDataFrame(results)\n\u001b[0;32m    128\u001b[0m \u001b[38;5;28;01mif\u001b[39;00m results_df\u001b[38;5;241m.\u001b[39mempty:\n\u001b[1;32m--> 129\u001b[0m     \u001b[38;5;28;01mraise\u001b[39;00m \u001b[38;5;167;01mValueError\u001b[39;00m(\u001b[38;5;124m\"\u001b[39m\u001b[38;5;124mNo correlations computed. Check your imputed files and pipeline.\u001b[39m\u001b[38;5;124m\"\u001b[39m)\n\u001b[0;32m    131\u001b[0m results_df \u001b[38;5;241m=\u001b[39m results_df\u001b[38;5;241m.\u001b[39mdropna(subset\u001b[38;5;241m=\u001b[39m[\u001b[38;5;124m\"\u001b[39m\u001b[38;5;124mMeanGeneCorr\u001b[39m\u001b[38;5;124m\"\u001b[39m, \u001b[38;5;124m\"\u001b[39m\u001b[38;5;124mmissing_fraction\u001b[39m\u001b[38;5;124m\"\u001b[39m])\n\u001b[0;32m    132\u001b[0m results_df[\u001b[38;5;124m\"\u001b[39m\u001b[38;5;124mmissing_fraction\u001b[39m\u001b[38;5;124m\"\u001b[39m] \u001b[38;5;241m=\u001b[39m results_df[\u001b[38;5;124m\"\u001b[39m\u001b[38;5;124mmissing_fraction\u001b[39m\u001b[38;5;124m\"\u001b[39m]\u001b[38;5;241m.\u001b[39mastype(\u001b[38;5;28mfloat\u001b[39m)\n",
      "\u001b[1;31mValueError\u001b[0m: No correlations computed. Check your imputed files and pipeline."
     ]
    }
   ],
   "source": [
    "# Notebook 04: Performance Evaluation & Figures (All Methods - Gene-wise Correlation)\n",
    "\n",
    "import scanpy as sc\n",
    "import pandas as pd\n",
    "import numpy as np\n",
    "import os\n",
    "import seaborn as sns\n",
    "import matplotlib.pyplot as plt\n",
    "from scipy.stats import pearsonr, spearmanr\n",
    "\n",
    "# -----------------------------\n",
    "# Settings\n",
    "# -----------------------------\n",
    "sc.settings.verbosity = 0\n",
    "sns.set(style=\"whitegrid\")\n",
    "\n",
    "ground_truth_path = \"Data/adata_raw_qc.h5ad\"\n",
    "\n",
    "# Folders for each method\n",
    "imputed_dirs = {\n",
    "    \"SoftImpute\": \"imputed_softimpute\",\n",
    "    \"MAGIC\": \"imputed_h5ad\",\n",
    "    \"KNN\": \"imputed_knn\",\n",
    "    \"Mean\": \"imputed_mean\",\n",
    "    \"GAN\": \"imputed_gan\",\n",
    "    \"Iterative\": \"imputed_iterative\"\n",
    "}\n",
    "\n",
    "# -----------------------------\n",
    "# Load ground truth\n",
    "# -----------------------------\n",
    "print(\" Preprocessing ground truth...\")\n",
    "adata_gt = sc.read_h5ad(ground_truth_path)\n",
    "\n",
    "# Replace NaNs/Infs in ground truth\n",
    "adata_gt.X = np.nan_to_num(adata_gt.X, nan=0.0, posinf=0.0, neginf=0.0)\n",
    "\n",
    "# -----------------------------\n",
    "# Helper: Gene-wise correlation\n",
    "# -----------------------------\n",
    "def compute_gene_corr(X_gt, X_imp, gene_names):\n",
    "    corrs = []\n",
    "    for i, g in enumerate(gene_names):\n",
    "        x = X_gt[:, i]\n",
    "        y = X_imp[:, i]\n",
    "\n",
    "        # Skip constant genes\n",
    "        if np.std(x) == 0 or np.std(y) == 0:\n",
    "            continue\n",
    "\n",
    "        try:\n",
    "            r, _ = pearsonr(x, y)\n",
    "        except Exception:\n",
    "            # Fallback to Spearman if Pearson fails\n",
    "            r, _ = spearmanr(x, y)\n",
    "\n",
    "        if np.isfinite(r):\n",
    "            corrs.append(r)\n",
    "\n",
    "    if len(corrs) == 0:\n",
    "        return np.nan\n",
    "    return np.nanmean(corrs)\n",
    "\n",
    "# -----------------------------\n",
    "# Evaluate all methods\n",
    "# -----------------------------\n",
    "results = []\n",
    "\n",
    "for method, imputed_dir in imputed_dirs.items():\n",
    "    if not os.path.exists(imputed_dir):\n",
    "        print(f\"⚠️ Skipping {method}, folder not found: {imputed_dir}\")\n",
    "        continue\n",
    "\n",
    "    for fname in os.listdir(imputed_dir):\n",
    "        if not fname.endswith(\".h5ad\"):\n",
    "            continue\n",
    "\n",
    "        fpath = os.path.join(imputed_dir, fname)\n",
    "        try:\n",
    "            adata_imp = sc.read_h5ad(fpath)\n",
    "            adata_imp.X = np.nan_to_num(adata_imp.X, nan=0.0, posinf=0.0, neginf=0.0)\n",
    "\n",
    "            # Align genes (case-insensitive)\n",
    "            genes_gt = adata_gt.var_names.str.upper()\n",
    "            genes_imp = adata_imp.var_names.str.upper()\n",
    "            common_genes = list(set(genes_gt) & set(genes_imp))\n",
    "\n",
    "            if len(common_genes) == 0:\n",
    "                print(f\"⚠️ No common genes for {method} - {fname}. Skipping.\")\n",
    "                continue\n",
    "\n",
    "            # Subset to common genes\n",
    "            adata_gt_sub = adata_gt[:, adata_gt.var_names.str.upper().isin(common_genes)]\n",
    "            adata_imp_sub = adata_imp[:, adata_imp.var_names.str.upper().isin(common_genes)]\n",
    "\n",
    "            X_gt_sub = adata_gt_sub.X.A if hasattr(adata_gt_sub.X, \"A\") else adata_gt_sub.X\n",
    "            X_imp_sub = adata_imp_sub.X.A if hasattr(adata_imp_sub.X, \"A\") else adata_imp_sub.X\n",
    "\n",
    "            # Compute correlation\n",
    "            mean_corr = compute_gene_corr(X_gt_sub, X_imp_sub, adata_gt_sub.var_names)\n",
    "\n",
    "            # Parse metadata (mfXX, runX)\n",
    "            mf, run = None, None\n",
    "            for part in fname.split(\"_\"):\n",
    "                if part.startswith(\"mf\"):\n",
    "                    mf = float(part.replace(\"mf\", \"\").replace(\".h5ad\", \"\")) / 100\n",
    "                if part.startswith(\"run\"):\n",
    "                    run = int(part.replace(\"run\", \"\").replace(\".h5ad\", \"\"))\n",
    "\n",
    "            results.append({\n",
    "                \"file\": fname,\n",
    "                \"method\": method,\n",
    "                \"MeanGeneCorr\": mean_corr,\n",
    "                \"missing_fraction\": mf,\n",
    "                \"run\": run\n",
    "            })\n",
    "\n",
    "            print(f\"{method} - {fname}: Mean Pearson corr = {mean_corr:.3f} (n_genes={len(common_genes)})\")\n",
    "\n",
    "        except Exception as e:\n",
    "            print(f\"Error with {method} - {fname}: {e}\")\n",
    "\n",
    "# -----------------------------\n",
    "# Results → DataFrame\n",
    "# -----------------------------\n",
    "results_df = pd.DataFrame(results)\n",
    "\n",
    "if results_df.empty:\n",
    "    raise ValueError(\"No correlations computed. Check your imputed files and pipeline.\")\n",
    "\n",
    "results_df = results_df.dropna(subset=[\"MeanGeneCorr\", \"missing_fraction\"])\n",
    "results_df[\"missing_fraction\"] = results_df[\"missing_fraction\"].astype(float)\n",
    "\n",
    "# -----------------------------\n",
    "# Plot\n",
    "# -----------------------------\n",
    "plt.figure(figsize=(10, 6))\n",
    "sns.barplot(\n",
    "    data=results_df,\n",
    "    x=\"missing_fraction\",\n",
    "    y=\"MeanGeneCorr\",\n",
    "    hue=\"method\",\n",
    "    errorbar=\"sd\",\n",
    "    capsize=0.1,\n",
    "    palette=\"Set2\"\n",
    ")\n",
    "plt.title(\"Gene-wise Correlation across Missing Fractions (All Methods)\")\n",
    "plt.ylabel(\"Mean Gene-wise Correlation\")\n",
    "plt.xlabel(\"Missing Fraction\")\n",
    "plt.legend(title=\"Method\")\n",
    "plt.show()\n"
   ]
  },
  {
   "cell_type": "code",
   "execution_count": 5,
   "id": "bde93e75",
   "metadata": {},
   "outputs": [
    {
     "name": "stdout",
     "output_type": "stream",
     "text": [
      " Preprocessing ground truth...\n"
     ]
    },
    {
     "name": "stderr",
     "output_type": "stream",
     "text": [
      "c:\\Users\\prath\\anaconda-new\\Lib\\site-packages\\anndata\\_core\\anndata.py:1791: UserWarning: Observation names are not unique. To make them unique, call `.obs_names_make_unique`.\n",
      "  utils.warn_names_duplicates(\"obs\")\n",
      "c:\\Users\\prath\\anaconda-new\\Lib\\site-packages\\anndata\\_core\\anndata.py:1793: UserWarning: Variable names are not unique. To make them unique, call `.var_names_make_unique`.\n",
      "  utils.warn_names_duplicates(\"var\")\n"
     ]
    },
    {
     "name": "stdout",
     "output_type": "stream",
     "text": [
      "Error with SoftImpute - adata_softimpute_imputed_mf10_run1.h5ad: index 1960 is out of bounds for axis 1 with size 1960\n",
      "Error with SoftImpute - adata_softimpute_imputed_mf10_run10.h5ad: index 1960 is out of bounds for axis 1 with size 1960\n",
      "Error with SoftImpute - adata_softimpute_imputed_mf10_run2.h5ad: index 1960 is out of bounds for axis 1 with size 1960\n",
      "Error with SoftImpute - adata_softimpute_imputed_mf10_run3.h5ad: index 1960 is out of bounds for axis 1 with size 1960\n",
      "Error with SoftImpute - adata_softimpute_imputed_mf10_run4.h5ad: index 1960 is out of bounds for axis 1 with size 1960\n",
      "Error with SoftImpute - adata_softimpute_imputed_mf10_run5.h5ad: index 1960 is out of bounds for axis 1 with size 1960\n",
      "Error with SoftImpute - adata_softimpute_imputed_mf10_run6.h5ad: index 1960 is out of bounds for axis 1 with size 1960\n",
      "Error with SoftImpute - adata_softimpute_imputed_mf10_run7.h5ad: index 1960 is out of bounds for axis 1 with size 1960\n",
      "Error with SoftImpute - adata_softimpute_imputed_mf10_run8.h5ad: index 1960 is out of bounds for axis 1 with size 1960\n",
      "Error with SoftImpute - adata_softimpute_imputed_mf10_run9.h5ad: index 1960 is out of bounds for axis 1 with size 1960\n",
      "Error with SoftImpute - adata_softimpute_imputed_mf20_run1.h5ad: index 1960 is out of bounds for axis 1 with size 1960\n",
      "Error with SoftImpute - adata_softimpute_imputed_mf20_run10.h5ad: index 1960 is out of bounds for axis 1 with size 1960\n",
      "Error with SoftImpute - adata_softimpute_imputed_mf20_run2.h5ad: index 1960 is out of bounds for axis 1 with size 1960\n",
      "Error with SoftImpute - adata_softimpute_imputed_mf20_run3.h5ad: index 1960 is out of bounds for axis 1 with size 1960\n",
      "Error with SoftImpute - adata_softimpute_imputed_mf20_run4.h5ad: index 1960 is out of bounds for axis 1 with size 1960\n",
      "Error with SoftImpute - adata_softimpute_imputed_mf20_run5.h5ad: index 1960 is out of bounds for axis 1 with size 1960\n",
      "Error with SoftImpute - adata_softimpute_imputed_mf20_run6.h5ad: index 1960 is out of bounds for axis 1 with size 1960\n",
      "Error with SoftImpute - adata_softimpute_imputed_mf20_run7.h5ad: index 1960 is out of bounds for axis 1 with size 1960\n",
      "Error with SoftImpute - adata_softimpute_imputed_mf20_run8.h5ad: index 1960 is out of bounds for axis 1 with size 1960\n",
      "Error with SoftImpute - adata_softimpute_imputed_mf20_run9.h5ad: index 1960 is out of bounds for axis 1 with size 1960\n",
      "Error with SoftImpute - adata_softimpute_imputed_mf30_run1.h5ad: index 1960 is out of bounds for axis 1 with size 1960\n",
      "Error with SoftImpute - adata_softimpute_imputed_mf30_run10.h5ad: index 1960 is out of bounds for axis 1 with size 1960\n",
      "Error with SoftImpute - adata_softimpute_imputed_mf30_run2.h5ad: index 1960 is out of bounds for axis 1 with size 1960\n",
      "Error with SoftImpute - adata_softimpute_imputed_mf30_run3.h5ad: index 1960 is out of bounds for axis 1 with size 1960\n",
      "Error with SoftImpute - adata_softimpute_imputed_mf30_run4.h5ad: index 1960 is out of bounds for axis 1 with size 1960\n",
      "Error with SoftImpute - adata_softimpute_imputed_mf30_run5.h5ad: index 1960 is out of bounds for axis 1 with size 1960\n",
      "Error with SoftImpute - adata_softimpute_imputed_mf30_run6.h5ad: index 1960 is out of bounds for axis 1 with size 1960\n",
      "Error with SoftImpute - adata_softimpute_imputed_mf30_run7.h5ad: index 1960 is out of bounds for axis 1 with size 1960\n",
      "Error with SoftImpute - adata_softimpute_imputed_mf30_run8.h5ad: index 1960 is out of bounds for axis 1 with size 1960\n",
      "Error with SoftImpute - adata_softimpute_imputed_mf30_run9.h5ad: index 1960 is out of bounds for axis 1 with size 1960\n"
     ]
    },
    {
     "name": "stderr",
     "output_type": "stream",
     "text": [
      "c:\\Users\\prath\\anaconda-new\\Lib\\site-packages\\anndata\\_core\\anndata.py:1791: UserWarning: Observation names are not unique. To make them unique, call `.obs_names_make_unique`.\n",
      "  utils.warn_names_duplicates(\"obs\")\n",
      "c:\\Users\\prath\\anaconda-new\\Lib\\site-packages\\anndata\\_core\\anndata.py:1793: UserWarning: Variable names are not unique. To make them unique, call `.var_names_make_unique`.\n",
      "  utils.warn_names_duplicates(\"var\")\n"
     ]
    },
    {
     "name": "stdout",
     "output_type": "stream",
     "text": [
      "MAGIC - adata_magic_imputed_mf10_run1.h5ad: Mean Pearson corr = 0.430 (n_genes=1960)\n"
     ]
    },
    {
     "name": "stderr",
     "output_type": "stream",
     "text": [
      "c:\\Users\\prath\\anaconda-new\\Lib\\site-packages\\anndata\\_core\\anndata.py:1791: UserWarning: Observation names are not unique. To make them unique, call `.obs_names_make_unique`.\n",
      "  utils.warn_names_duplicates(\"obs\")\n",
      "c:\\Users\\prath\\anaconda-new\\Lib\\site-packages\\anndata\\_core\\anndata.py:1793: UserWarning: Variable names are not unique. To make them unique, call `.var_names_make_unique`.\n",
      "  utils.warn_names_duplicates(\"var\")\n"
     ]
    },
    {
     "name": "stdout",
     "output_type": "stream",
     "text": [
      "MAGIC - adata_magic_imputed_mf10_run10.h5ad: Mean Pearson corr = 0.432 (n_genes=1960)\n"
     ]
    },
    {
     "name": "stderr",
     "output_type": "stream",
     "text": [
      "c:\\Users\\prath\\anaconda-new\\Lib\\site-packages\\anndata\\_core\\anndata.py:1791: UserWarning: Observation names are not unique. To make them unique, call `.obs_names_make_unique`.\n",
      "  utils.warn_names_duplicates(\"obs\")\n",
      "c:\\Users\\prath\\anaconda-new\\Lib\\site-packages\\anndata\\_core\\anndata.py:1793: UserWarning: Variable names are not unique. To make them unique, call `.var_names_make_unique`.\n",
      "  utils.warn_names_duplicates(\"var\")\n"
     ]
    },
    {
     "name": "stdout",
     "output_type": "stream",
     "text": [
      "MAGIC - adata_magic_imputed_mf10_run2.h5ad: Mean Pearson corr = 0.432 (n_genes=1960)\n"
     ]
    },
    {
     "name": "stderr",
     "output_type": "stream",
     "text": [
      "c:\\Users\\prath\\anaconda-new\\Lib\\site-packages\\anndata\\_core\\anndata.py:1791: UserWarning: Observation names are not unique. To make them unique, call `.obs_names_make_unique`.\n",
      "  utils.warn_names_duplicates(\"obs\")\n",
      "c:\\Users\\prath\\anaconda-new\\Lib\\site-packages\\anndata\\_core\\anndata.py:1793: UserWarning: Variable names are not unique. To make them unique, call `.var_names_make_unique`.\n",
      "  utils.warn_names_duplicates(\"var\")\n"
     ]
    },
    {
     "name": "stdout",
     "output_type": "stream",
     "text": [
      "MAGIC - adata_magic_imputed_mf10_run3.h5ad: Mean Pearson corr = 0.433 (n_genes=1960)\n"
     ]
    },
    {
     "name": "stderr",
     "output_type": "stream",
     "text": [
      "c:\\Users\\prath\\anaconda-new\\Lib\\site-packages\\anndata\\_core\\anndata.py:1791: UserWarning: Observation names are not unique. To make them unique, call `.obs_names_make_unique`.\n",
      "  utils.warn_names_duplicates(\"obs\")\n",
      "c:\\Users\\prath\\anaconda-new\\Lib\\site-packages\\anndata\\_core\\anndata.py:1793: UserWarning: Variable names are not unique. To make them unique, call `.var_names_make_unique`.\n",
      "  utils.warn_names_duplicates(\"var\")\n"
     ]
    },
    {
     "name": "stdout",
     "output_type": "stream",
     "text": [
      "MAGIC - adata_magic_imputed_mf10_run4.h5ad: Mean Pearson corr = 0.429 (n_genes=1960)\n"
     ]
    },
    {
     "name": "stderr",
     "output_type": "stream",
     "text": [
      "c:\\Users\\prath\\anaconda-new\\Lib\\site-packages\\anndata\\_core\\anndata.py:1791: UserWarning: Observation names are not unique. To make them unique, call `.obs_names_make_unique`.\n",
      "  utils.warn_names_duplicates(\"obs\")\n",
      "c:\\Users\\prath\\anaconda-new\\Lib\\site-packages\\anndata\\_core\\anndata.py:1793: UserWarning: Variable names are not unique. To make them unique, call `.var_names_make_unique`.\n",
      "  utils.warn_names_duplicates(\"var\")\n"
     ]
    },
    {
     "name": "stdout",
     "output_type": "stream",
     "text": [
      "MAGIC - adata_magic_imputed_mf10_run5.h5ad: Mean Pearson corr = 0.431 (n_genes=1960)\n"
     ]
    },
    {
     "name": "stderr",
     "output_type": "stream",
     "text": [
      "c:\\Users\\prath\\anaconda-new\\Lib\\site-packages\\anndata\\_core\\anndata.py:1791: UserWarning: Observation names are not unique. To make them unique, call `.obs_names_make_unique`.\n",
      "  utils.warn_names_duplicates(\"obs\")\n",
      "c:\\Users\\prath\\anaconda-new\\Lib\\site-packages\\anndata\\_core\\anndata.py:1793: UserWarning: Variable names are not unique. To make them unique, call `.var_names_make_unique`.\n",
      "  utils.warn_names_duplicates(\"var\")\n"
     ]
    },
    {
     "name": "stdout",
     "output_type": "stream",
     "text": [
      "MAGIC - adata_magic_imputed_mf10_run6.h5ad: Mean Pearson corr = 0.430 (n_genes=1960)\n"
     ]
    },
    {
     "name": "stderr",
     "output_type": "stream",
     "text": [
      "c:\\Users\\prath\\anaconda-new\\Lib\\site-packages\\anndata\\_core\\anndata.py:1791: UserWarning: Observation names are not unique. To make them unique, call `.obs_names_make_unique`.\n",
      "  utils.warn_names_duplicates(\"obs\")\n",
      "c:\\Users\\prath\\anaconda-new\\Lib\\site-packages\\anndata\\_core\\anndata.py:1793: UserWarning: Variable names are not unique. To make them unique, call `.var_names_make_unique`.\n",
      "  utils.warn_names_duplicates(\"var\")\n"
     ]
    },
    {
     "name": "stdout",
     "output_type": "stream",
     "text": [
      "MAGIC - adata_magic_imputed_mf10_run7.h5ad: Mean Pearson corr = 0.433 (n_genes=1960)\n"
     ]
    },
    {
     "name": "stderr",
     "output_type": "stream",
     "text": [
      "c:\\Users\\prath\\anaconda-new\\Lib\\site-packages\\anndata\\_core\\anndata.py:1791: UserWarning: Observation names are not unique. To make them unique, call `.obs_names_make_unique`.\n",
      "  utils.warn_names_duplicates(\"obs\")\n",
      "c:\\Users\\prath\\anaconda-new\\Lib\\site-packages\\anndata\\_core\\anndata.py:1793: UserWarning: Variable names are not unique. To make them unique, call `.var_names_make_unique`.\n",
      "  utils.warn_names_duplicates(\"var\")\n"
     ]
    },
    {
     "name": "stdout",
     "output_type": "stream",
     "text": [
      "MAGIC - adata_magic_imputed_mf10_run8.h5ad: Mean Pearson corr = 0.431 (n_genes=1960)\n"
     ]
    },
    {
     "name": "stderr",
     "output_type": "stream",
     "text": [
      "c:\\Users\\prath\\anaconda-new\\Lib\\site-packages\\anndata\\_core\\anndata.py:1791: UserWarning: Observation names are not unique. To make them unique, call `.obs_names_make_unique`.\n",
      "  utils.warn_names_duplicates(\"obs\")\n",
      "c:\\Users\\prath\\anaconda-new\\Lib\\site-packages\\anndata\\_core\\anndata.py:1793: UserWarning: Variable names are not unique. To make them unique, call `.var_names_make_unique`.\n",
      "  utils.warn_names_duplicates(\"var\")\n"
     ]
    },
    {
     "name": "stdout",
     "output_type": "stream",
     "text": [
      "MAGIC - adata_magic_imputed_mf10_run9.h5ad: Mean Pearson corr = 0.431 (n_genes=1960)\n"
     ]
    },
    {
     "name": "stderr",
     "output_type": "stream",
     "text": [
      "c:\\Users\\prath\\anaconda-new\\Lib\\site-packages\\anndata\\_core\\anndata.py:1791: UserWarning: Observation names are not unique. To make them unique, call `.obs_names_make_unique`.\n",
      "  utils.warn_names_duplicates(\"obs\")\n",
      "c:\\Users\\prath\\anaconda-new\\Lib\\site-packages\\anndata\\_core\\anndata.py:1793: UserWarning: Variable names are not unique. To make them unique, call `.var_names_make_unique`.\n",
      "  utils.warn_names_duplicates(\"var\")\n"
     ]
    },
    {
     "name": "stdout",
     "output_type": "stream",
     "text": [
      "MAGIC - adata_magic_imputed_mf20_run1.h5ad: Mean Pearson corr = 0.420 (n_genes=1960)\n"
     ]
    },
    {
     "name": "stderr",
     "output_type": "stream",
     "text": [
      "c:\\Users\\prath\\anaconda-new\\Lib\\site-packages\\anndata\\_core\\anndata.py:1791: UserWarning: Observation names are not unique. To make them unique, call `.obs_names_make_unique`.\n",
      "  utils.warn_names_duplicates(\"obs\")\n",
      "c:\\Users\\prath\\anaconda-new\\Lib\\site-packages\\anndata\\_core\\anndata.py:1793: UserWarning: Variable names are not unique. To make them unique, call `.var_names_make_unique`.\n",
      "  utils.warn_names_duplicates(\"var\")\n"
     ]
    },
    {
     "name": "stdout",
     "output_type": "stream",
     "text": [
      "MAGIC - adata_magic_imputed_mf20_run10.h5ad: Mean Pearson corr = 0.419 (n_genes=1960)\n"
     ]
    },
    {
     "name": "stderr",
     "output_type": "stream",
     "text": [
      "c:\\Users\\prath\\anaconda-new\\Lib\\site-packages\\anndata\\_core\\anndata.py:1791: UserWarning: Observation names are not unique. To make them unique, call `.obs_names_make_unique`.\n",
      "  utils.warn_names_duplicates(\"obs\")\n",
      "c:\\Users\\prath\\anaconda-new\\Lib\\site-packages\\anndata\\_core\\anndata.py:1793: UserWarning: Variable names are not unique. To make them unique, call `.var_names_make_unique`.\n",
      "  utils.warn_names_duplicates(\"var\")\n"
     ]
    },
    {
     "name": "stdout",
     "output_type": "stream",
     "text": [
      "MAGIC - adata_magic_imputed_mf20_run2.h5ad: Mean Pearson corr = 0.419 (n_genes=1960)\n"
     ]
    },
    {
     "name": "stderr",
     "output_type": "stream",
     "text": [
      "c:\\Users\\prath\\anaconda-new\\Lib\\site-packages\\anndata\\_core\\anndata.py:1791: UserWarning: Observation names are not unique. To make them unique, call `.obs_names_make_unique`.\n",
      "  utils.warn_names_duplicates(\"obs\")\n",
      "c:\\Users\\prath\\anaconda-new\\Lib\\site-packages\\anndata\\_core\\anndata.py:1793: UserWarning: Variable names are not unique. To make them unique, call `.var_names_make_unique`.\n",
      "  utils.warn_names_duplicates(\"var\")\n"
     ]
    },
    {
     "name": "stdout",
     "output_type": "stream",
     "text": [
      "MAGIC - adata_magic_imputed_mf20_run3.h5ad: Mean Pearson corr = 0.419 (n_genes=1960)\n"
     ]
    },
    {
     "name": "stderr",
     "output_type": "stream",
     "text": [
      "c:\\Users\\prath\\anaconda-new\\Lib\\site-packages\\anndata\\_core\\anndata.py:1791: UserWarning: Observation names are not unique. To make them unique, call `.obs_names_make_unique`.\n",
      "  utils.warn_names_duplicates(\"obs\")\n",
      "c:\\Users\\prath\\anaconda-new\\Lib\\site-packages\\anndata\\_core\\anndata.py:1793: UserWarning: Variable names are not unique. To make them unique, call `.var_names_make_unique`.\n",
      "  utils.warn_names_duplicates(\"var\")\n"
     ]
    },
    {
     "name": "stdout",
     "output_type": "stream",
     "text": [
      "MAGIC - adata_magic_imputed_mf20_run4.h5ad: Mean Pearson corr = 0.419 (n_genes=1960)\n"
     ]
    },
    {
     "name": "stderr",
     "output_type": "stream",
     "text": [
      "c:\\Users\\prath\\anaconda-new\\Lib\\site-packages\\anndata\\_core\\anndata.py:1791: UserWarning: Observation names are not unique. To make them unique, call `.obs_names_make_unique`.\n",
      "  utils.warn_names_duplicates(\"obs\")\n",
      "c:\\Users\\prath\\anaconda-new\\Lib\\site-packages\\anndata\\_core\\anndata.py:1793: UserWarning: Variable names are not unique. To make them unique, call `.var_names_make_unique`.\n",
      "  utils.warn_names_duplicates(\"var\")\n"
     ]
    },
    {
     "name": "stdout",
     "output_type": "stream",
     "text": [
      "MAGIC - adata_magic_imputed_mf20_run5.h5ad: Mean Pearson corr = 0.420 (n_genes=1960)\n"
     ]
    },
    {
     "name": "stderr",
     "output_type": "stream",
     "text": [
      "c:\\Users\\prath\\anaconda-new\\Lib\\site-packages\\anndata\\_core\\anndata.py:1791: UserWarning: Observation names are not unique. To make them unique, call `.obs_names_make_unique`.\n",
      "  utils.warn_names_duplicates(\"obs\")\n",
      "c:\\Users\\prath\\anaconda-new\\Lib\\site-packages\\anndata\\_core\\anndata.py:1793: UserWarning: Variable names are not unique. To make them unique, call `.var_names_make_unique`.\n",
      "  utils.warn_names_duplicates(\"var\")\n"
     ]
    },
    {
     "name": "stdout",
     "output_type": "stream",
     "text": [
      "MAGIC - adata_magic_imputed_mf20_run6.h5ad: Mean Pearson corr = 0.418 (n_genes=1960)\n"
     ]
    },
    {
     "name": "stderr",
     "output_type": "stream",
     "text": [
      "c:\\Users\\prath\\anaconda-new\\Lib\\site-packages\\anndata\\_core\\anndata.py:1791: UserWarning: Observation names are not unique. To make them unique, call `.obs_names_make_unique`.\n",
      "  utils.warn_names_duplicates(\"obs\")\n",
      "c:\\Users\\prath\\anaconda-new\\Lib\\site-packages\\anndata\\_core\\anndata.py:1793: UserWarning: Variable names are not unique. To make them unique, call `.var_names_make_unique`.\n",
      "  utils.warn_names_duplicates(\"var\")\n"
     ]
    },
    {
     "name": "stdout",
     "output_type": "stream",
     "text": [
      "MAGIC - adata_magic_imputed_mf20_run7.h5ad: Mean Pearson corr = 0.420 (n_genes=1960)\n"
     ]
    },
    {
     "name": "stderr",
     "output_type": "stream",
     "text": [
      "c:\\Users\\prath\\anaconda-new\\Lib\\site-packages\\anndata\\_core\\anndata.py:1791: UserWarning: Observation names are not unique. To make them unique, call `.obs_names_make_unique`.\n",
      "  utils.warn_names_duplicates(\"obs\")\n",
      "c:\\Users\\prath\\anaconda-new\\Lib\\site-packages\\anndata\\_core\\anndata.py:1793: UserWarning: Variable names are not unique. To make them unique, call `.var_names_make_unique`.\n",
      "  utils.warn_names_duplicates(\"var\")\n"
     ]
    },
    {
     "name": "stdout",
     "output_type": "stream",
     "text": [
      "MAGIC - adata_magic_imputed_mf20_run8.h5ad: Mean Pearson corr = 0.418 (n_genes=1960)\n"
     ]
    },
    {
     "name": "stderr",
     "output_type": "stream",
     "text": [
      "c:\\Users\\prath\\anaconda-new\\Lib\\site-packages\\anndata\\_core\\anndata.py:1791: UserWarning: Observation names are not unique. To make them unique, call `.obs_names_make_unique`.\n",
      "  utils.warn_names_duplicates(\"obs\")\n",
      "c:\\Users\\prath\\anaconda-new\\Lib\\site-packages\\anndata\\_core\\anndata.py:1793: UserWarning: Variable names are not unique. To make them unique, call `.var_names_make_unique`.\n",
      "  utils.warn_names_duplicates(\"var\")\n"
     ]
    },
    {
     "name": "stdout",
     "output_type": "stream",
     "text": [
      "MAGIC - adata_magic_imputed_mf20_run9.h5ad: Mean Pearson corr = 0.417 (n_genes=1960)\n"
     ]
    },
    {
     "name": "stderr",
     "output_type": "stream",
     "text": [
      "c:\\Users\\prath\\anaconda-new\\Lib\\site-packages\\anndata\\_core\\anndata.py:1791: UserWarning: Observation names are not unique. To make them unique, call `.obs_names_make_unique`.\n",
      "  utils.warn_names_duplicates(\"obs\")\n",
      "c:\\Users\\prath\\anaconda-new\\Lib\\site-packages\\anndata\\_core\\anndata.py:1793: UserWarning: Variable names are not unique. To make them unique, call `.var_names_make_unique`.\n",
      "  utils.warn_names_duplicates(\"var\")\n"
     ]
    },
    {
     "name": "stdout",
     "output_type": "stream",
     "text": [
      "MAGIC - adata_magic_imputed_mf30_run1.h5ad: Mean Pearson corr = 0.401 (n_genes=1960)\n"
     ]
    },
    {
     "name": "stderr",
     "output_type": "stream",
     "text": [
      "c:\\Users\\prath\\anaconda-new\\Lib\\site-packages\\anndata\\_core\\anndata.py:1791: UserWarning: Observation names are not unique. To make them unique, call `.obs_names_make_unique`.\n",
      "  utils.warn_names_duplicates(\"obs\")\n",
      "c:\\Users\\prath\\anaconda-new\\Lib\\site-packages\\anndata\\_core\\anndata.py:1793: UserWarning: Variable names are not unique. To make them unique, call `.var_names_make_unique`.\n",
      "  utils.warn_names_duplicates(\"var\")\n"
     ]
    },
    {
     "name": "stdout",
     "output_type": "stream",
     "text": [
      "MAGIC - adata_magic_imputed_mf30_run10.h5ad: Mean Pearson corr = 0.398 (n_genes=1960)\n"
     ]
    },
    {
     "name": "stderr",
     "output_type": "stream",
     "text": [
      "c:\\Users\\prath\\anaconda-new\\Lib\\site-packages\\anndata\\_core\\anndata.py:1791: UserWarning: Observation names are not unique. To make them unique, call `.obs_names_make_unique`.\n",
      "  utils.warn_names_duplicates(\"obs\")\n",
      "c:\\Users\\prath\\anaconda-new\\Lib\\site-packages\\anndata\\_core\\anndata.py:1793: UserWarning: Variable names are not unique. To make them unique, call `.var_names_make_unique`.\n",
      "  utils.warn_names_duplicates(\"var\")\n"
     ]
    },
    {
     "name": "stdout",
     "output_type": "stream",
     "text": [
      "MAGIC - adata_magic_imputed_mf30_run2.h5ad: Mean Pearson corr = 0.403 (n_genes=1960)\n"
     ]
    },
    {
     "name": "stderr",
     "output_type": "stream",
     "text": [
      "c:\\Users\\prath\\anaconda-new\\Lib\\site-packages\\anndata\\_core\\anndata.py:1791: UserWarning: Observation names are not unique. To make them unique, call `.obs_names_make_unique`.\n",
      "  utils.warn_names_duplicates(\"obs\")\n",
      "c:\\Users\\prath\\anaconda-new\\Lib\\site-packages\\anndata\\_core\\anndata.py:1793: UserWarning: Variable names are not unique. To make them unique, call `.var_names_make_unique`.\n",
      "  utils.warn_names_duplicates(\"var\")\n"
     ]
    },
    {
     "name": "stdout",
     "output_type": "stream",
     "text": [
      "MAGIC - adata_magic_imputed_mf30_run3.h5ad: Mean Pearson corr = 0.404 (n_genes=1960)\n"
     ]
    },
    {
     "name": "stderr",
     "output_type": "stream",
     "text": [
      "c:\\Users\\prath\\anaconda-new\\Lib\\site-packages\\anndata\\_core\\anndata.py:1791: UserWarning: Observation names are not unique. To make them unique, call `.obs_names_make_unique`.\n",
      "  utils.warn_names_duplicates(\"obs\")\n",
      "c:\\Users\\prath\\anaconda-new\\Lib\\site-packages\\anndata\\_core\\anndata.py:1793: UserWarning: Variable names are not unique. To make them unique, call `.var_names_make_unique`.\n",
      "  utils.warn_names_duplicates(\"var\")\n"
     ]
    },
    {
     "name": "stdout",
     "output_type": "stream",
     "text": [
      "MAGIC - adata_magic_imputed_mf30_run4.h5ad: Mean Pearson corr = 0.405 (n_genes=1960)\n"
     ]
    },
    {
     "name": "stderr",
     "output_type": "stream",
     "text": [
      "c:\\Users\\prath\\anaconda-new\\Lib\\site-packages\\anndata\\_core\\anndata.py:1791: UserWarning: Observation names are not unique. To make them unique, call `.obs_names_make_unique`.\n",
      "  utils.warn_names_duplicates(\"obs\")\n",
      "c:\\Users\\prath\\anaconda-new\\Lib\\site-packages\\anndata\\_core\\anndata.py:1793: UserWarning: Variable names are not unique. To make them unique, call `.var_names_make_unique`.\n",
      "  utils.warn_names_duplicates(\"var\")\n"
     ]
    },
    {
     "name": "stdout",
     "output_type": "stream",
     "text": [
      "MAGIC - adata_magic_imputed_mf30_run5.h5ad: Mean Pearson corr = 0.401 (n_genes=1960)\n"
     ]
    },
    {
     "name": "stderr",
     "output_type": "stream",
     "text": [
      "c:\\Users\\prath\\anaconda-new\\Lib\\site-packages\\anndata\\_core\\anndata.py:1791: UserWarning: Observation names are not unique. To make them unique, call `.obs_names_make_unique`.\n",
      "  utils.warn_names_duplicates(\"obs\")\n",
      "c:\\Users\\prath\\anaconda-new\\Lib\\site-packages\\anndata\\_core\\anndata.py:1793: UserWarning: Variable names are not unique. To make them unique, call `.var_names_make_unique`.\n",
      "  utils.warn_names_duplicates(\"var\")\n"
     ]
    },
    {
     "name": "stdout",
     "output_type": "stream",
     "text": [
      "MAGIC - adata_magic_imputed_mf30_run6.h5ad: Mean Pearson corr = 0.404 (n_genes=1960)\n"
     ]
    },
    {
     "name": "stderr",
     "output_type": "stream",
     "text": [
      "c:\\Users\\prath\\anaconda-new\\Lib\\site-packages\\anndata\\_core\\anndata.py:1791: UserWarning: Observation names are not unique. To make them unique, call `.obs_names_make_unique`.\n",
      "  utils.warn_names_duplicates(\"obs\")\n",
      "c:\\Users\\prath\\anaconda-new\\Lib\\site-packages\\anndata\\_core\\anndata.py:1793: UserWarning: Variable names are not unique. To make them unique, call `.var_names_make_unique`.\n",
      "  utils.warn_names_duplicates(\"var\")\n"
     ]
    },
    {
     "name": "stdout",
     "output_type": "stream",
     "text": [
      "MAGIC - adata_magic_imputed_mf30_run7.h5ad: Mean Pearson corr = 0.402 (n_genes=1960)\n"
     ]
    },
    {
     "name": "stderr",
     "output_type": "stream",
     "text": [
      "c:\\Users\\prath\\anaconda-new\\Lib\\site-packages\\anndata\\_core\\anndata.py:1791: UserWarning: Observation names are not unique. To make them unique, call `.obs_names_make_unique`.\n",
      "  utils.warn_names_duplicates(\"obs\")\n",
      "c:\\Users\\prath\\anaconda-new\\Lib\\site-packages\\anndata\\_core\\anndata.py:1793: UserWarning: Variable names are not unique. To make them unique, call `.var_names_make_unique`.\n",
      "  utils.warn_names_duplicates(\"var\")\n"
     ]
    },
    {
     "name": "stdout",
     "output_type": "stream",
     "text": [
      "MAGIC - adata_magic_imputed_mf30_run8.h5ad: Mean Pearson corr = 0.403 (n_genes=1960)\n"
     ]
    },
    {
     "name": "stderr",
     "output_type": "stream",
     "text": [
      "c:\\Users\\prath\\anaconda-new\\Lib\\site-packages\\anndata\\_core\\anndata.py:1791: UserWarning: Observation names are not unique. To make them unique, call `.obs_names_make_unique`.\n",
      "  utils.warn_names_duplicates(\"obs\")\n",
      "c:\\Users\\prath\\anaconda-new\\Lib\\site-packages\\anndata\\_core\\anndata.py:1793: UserWarning: Variable names are not unique. To make them unique, call `.var_names_make_unique`.\n",
      "  utils.warn_names_duplicates(\"var\")\n"
     ]
    },
    {
     "name": "stdout",
     "output_type": "stream",
     "text": [
      "MAGIC - adata_magic_imputed_mf30_run9.h5ad: Mean Pearson corr = 0.402 (n_genes=1960)\n"
     ]
    },
    {
     "name": "stderr",
     "output_type": "stream",
     "text": [
      "C:\\Users\\prath\\AppData\\Local\\Temp\\ipykernel_18364\\208667423.py:67: ConstantInputWarning: An input array is constant; the correlation coefficient is not defined.\n",
      "  r, _ = pearsonr(x, y)\n"
     ]
    },
    {
     "name": "stdout",
     "output_type": "stream",
     "text": [
      "Error with KNN - adata_knn_imputed_mf10_run1.h5ad: index 1960 is out of bounds for axis 1 with size 1960\n"
     ]
    },
    {
     "name": "stderr",
     "output_type": "stream",
     "text": [
      "C:\\Users\\prath\\AppData\\Local\\Temp\\ipykernel_18364\\208667423.py:67: ConstantInputWarning: An input array is constant; the correlation coefficient is not defined.\n",
      "  r, _ = pearsonr(x, y)\n"
     ]
    },
    {
     "name": "stdout",
     "output_type": "stream",
     "text": [
      "Error with KNN - adata_knn_imputed_mf10_run10.h5ad: index 1960 is out of bounds for axis 1 with size 1960\n"
     ]
    },
    {
     "name": "stderr",
     "output_type": "stream",
     "text": [
      "C:\\Users\\prath\\AppData\\Local\\Temp\\ipykernel_18364\\208667423.py:67: ConstantInputWarning: An input array is constant; the correlation coefficient is not defined.\n",
      "  r, _ = pearsonr(x, y)\n"
     ]
    },
    {
     "name": "stdout",
     "output_type": "stream",
     "text": [
      "Error with KNN - adata_knn_imputed_mf10_run2.h5ad: index 1960 is out of bounds for axis 1 with size 1960\n"
     ]
    },
    {
     "name": "stderr",
     "output_type": "stream",
     "text": [
      "C:\\Users\\prath\\AppData\\Local\\Temp\\ipykernel_18364\\208667423.py:67: ConstantInputWarning: An input array is constant; the correlation coefficient is not defined.\n",
      "  r, _ = pearsonr(x, y)\n"
     ]
    },
    {
     "name": "stdout",
     "output_type": "stream",
     "text": [
      "Error with KNN - adata_knn_imputed_mf10_run3.h5ad: index 1960 is out of bounds for axis 1 with size 1960\n"
     ]
    },
    {
     "name": "stderr",
     "output_type": "stream",
     "text": [
      "C:\\Users\\prath\\AppData\\Local\\Temp\\ipykernel_18364\\208667423.py:67: ConstantInputWarning: An input array is constant; the correlation coefficient is not defined.\n",
      "  r, _ = pearsonr(x, y)\n"
     ]
    },
    {
     "name": "stdout",
     "output_type": "stream",
     "text": [
      "Error with KNN - adata_knn_imputed_mf10_run4.h5ad: index 1960 is out of bounds for axis 1 with size 1960\n"
     ]
    },
    {
     "name": "stderr",
     "output_type": "stream",
     "text": [
      "C:\\Users\\prath\\AppData\\Local\\Temp\\ipykernel_18364\\208667423.py:67: ConstantInputWarning: An input array is constant; the correlation coefficient is not defined.\n",
      "  r, _ = pearsonr(x, y)\n"
     ]
    },
    {
     "name": "stdout",
     "output_type": "stream",
     "text": [
      "Error with KNN - adata_knn_imputed_mf10_run5.h5ad: index 1960 is out of bounds for axis 1 with size 1960\n"
     ]
    },
    {
     "name": "stderr",
     "output_type": "stream",
     "text": [
      "C:\\Users\\prath\\AppData\\Local\\Temp\\ipykernel_18364\\208667423.py:67: ConstantInputWarning: An input array is constant; the correlation coefficient is not defined.\n",
      "  r, _ = pearsonr(x, y)\n"
     ]
    },
    {
     "name": "stdout",
     "output_type": "stream",
     "text": [
      "Error with KNN - adata_knn_imputed_mf10_run6.h5ad: index 1960 is out of bounds for axis 1 with size 1960\n"
     ]
    },
    {
     "name": "stderr",
     "output_type": "stream",
     "text": [
      "C:\\Users\\prath\\AppData\\Local\\Temp\\ipykernel_18364\\208667423.py:67: ConstantInputWarning: An input array is constant; the correlation coefficient is not defined.\n",
      "  r, _ = pearsonr(x, y)\n"
     ]
    },
    {
     "name": "stdout",
     "output_type": "stream",
     "text": [
      "Error with KNN - adata_knn_imputed_mf10_run7.h5ad: index 1960 is out of bounds for axis 1 with size 1960\n"
     ]
    },
    {
     "name": "stderr",
     "output_type": "stream",
     "text": [
      "C:\\Users\\prath\\AppData\\Local\\Temp\\ipykernel_18364\\208667423.py:67: ConstantInputWarning: An input array is constant; the correlation coefficient is not defined.\n",
      "  r, _ = pearsonr(x, y)\n"
     ]
    },
    {
     "name": "stdout",
     "output_type": "stream",
     "text": [
      "Error with KNN - adata_knn_imputed_mf10_run8.h5ad: index 1960 is out of bounds for axis 1 with size 1960\n"
     ]
    },
    {
     "name": "stderr",
     "output_type": "stream",
     "text": [
      "C:\\Users\\prath\\AppData\\Local\\Temp\\ipykernel_18364\\208667423.py:67: ConstantInputWarning: An input array is constant; the correlation coefficient is not defined.\n",
      "  r, _ = pearsonr(x, y)\n"
     ]
    },
    {
     "name": "stdout",
     "output_type": "stream",
     "text": [
      "Error with KNN - adata_knn_imputed_mf10_run9.h5ad: index 1960 is out of bounds for axis 1 with size 1960\n"
     ]
    },
    {
     "name": "stderr",
     "output_type": "stream",
     "text": [
      "C:\\Users\\prath\\AppData\\Local\\Temp\\ipykernel_18364\\208667423.py:67: ConstantInputWarning: An input array is constant; the correlation coefficient is not defined.\n",
      "  r, _ = pearsonr(x, y)\n"
     ]
    },
    {
     "name": "stdout",
     "output_type": "stream",
     "text": [
      "Error with KNN - adata_knn_imputed_mf20_run1.h5ad: index 1960 is out of bounds for axis 1 with size 1960\n"
     ]
    },
    {
     "name": "stderr",
     "output_type": "stream",
     "text": [
      "C:\\Users\\prath\\AppData\\Local\\Temp\\ipykernel_18364\\208667423.py:67: ConstantInputWarning: An input array is constant; the correlation coefficient is not defined.\n",
      "  r, _ = pearsonr(x, y)\n"
     ]
    },
    {
     "name": "stdout",
     "output_type": "stream",
     "text": [
      "Error with KNN - adata_knn_imputed_mf20_run10.h5ad: index 1960 is out of bounds for axis 1 with size 1960\n"
     ]
    },
    {
     "name": "stderr",
     "output_type": "stream",
     "text": [
      "C:\\Users\\prath\\AppData\\Local\\Temp\\ipykernel_18364\\208667423.py:67: ConstantInputWarning: An input array is constant; the correlation coefficient is not defined.\n",
      "  r, _ = pearsonr(x, y)\n"
     ]
    },
    {
     "name": "stdout",
     "output_type": "stream",
     "text": [
      "Error with KNN - adata_knn_imputed_mf20_run2.h5ad: index 1960 is out of bounds for axis 1 with size 1960\n"
     ]
    },
    {
     "name": "stderr",
     "output_type": "stream",
     "text": [
      "C:\\Users\\prath\\AppData\\Local\\Temp\\ipykernel_18364\\208667423.py:67: ConstantInputWarning: An input array is constant; the correlation coefficient is not defined.\n",
      "  r, _ = pearsonr(x, y)\n"
     ]
    },
    {
     "name": "stdout",
     "output_type": "stream",
     "text": [
      "Error with KNN - adata_knn_imputed_mf20_run3.h5ad: index 1960 is out of bounds for axis 1 with size 1960\n"
     ]
    },
    {
     "name": "stderr",
     "output_type": "stream",
     "text": [
      "C:\\Users\\prath\\AppData\\Local\\Temp\\ipykernel_18364\\208667423.py:67: ConstantInputWarning: An input array is constant; the correlation coefficient is not defined.\n",
      "  r, _ = pearsonr(x, y)\n"
     ]
    },
    {
     "name": "stdout",
     "output_type": "stream",
     "text": [
      "Error with KNN - adata_knn_imputed_mf20_run4.h5ad: index 1960 is out of bounds for axis 1 with size 1960\n"
     ]
    },
    {
     "name": "stderr",
     "output_type": "stream",
     "text": [
      "C:\\Users\\prath\\AppData\\Local\\Temp\\ipykernel_18364\\208667423.py:67: ConstantInputWarning: An input array is constant; the correlation coefficient is not defined.\n",
      "  r, _ = pearsonr(x, y)\n"
     ]
    },
    {
     "name": "stdout",
     "output_type": "stream",
     "text": [
      "Error with KNN - adata_knn_imputed_mf20_run5.h5ad: index 1960 is out of bounds for axis 1 with size 1960\n"
     ]
    },
    {
     "name": "stderr",
     "output_type": "stream",
     "text": [
      "C:\\Users\\prath\\AppData\\Local\\Temp\\ipykernel_18364\\208667423.py:67: ConstantInputWarning: An input array is constant; the correlation coefficient is not defined.\n",
      "  r, _ = pearsonr(x, y)\n"
     ]
    },
    {
     "name": "stdout",
     "output_type": "stream",
     "text": [
      "Error with KNN - adata_knn_imputed_mf20_run6.h5ad: index 1960 is out of bounds for axis 1 with size 1960\n"
     ]
    },
    {
     "name": "stderr",
     "output_type": "stream",
     "text": [
      "C:\\Users\\prath\\AppData\\Local\\Temp\\ipykernel_18364\\208667423.py:67: ConstantInputWarning: An input array is constant; the correlation coefficient is not defined.\n",
      "  r, _ = pearsonr(x, y)\n"
     ]
    },
    {
     "name": "stdout",
     "output_type": "stream",
     "text": [
      "Error with KNN - adata_knn_imputed_mf20_run7.h5ad: index 1960 is out of bounds for axis 1 with size 1960\n"
     ]
    },
    {
     "name": "stderr",
     "output_type": "stream",
     "text": [
      "C:\\Users\\prath\\AppData\\Local\\Temp\\ipykernel_18364\\208667423.py:67: ConstantInputWarning: An input array is constant; the correlation coefficient is not defined.\n",
      "  r, _ = pearsonr(x, y)\n"
     ]
    },
    {
     "name": "stdout",
     "output_type": "stream",
     "text": [
      "Error with KNN - adata_knn_imputed_mf20_run8.h5ad: index 1960 is out of bounds for axis 1 with size 1960\n"
     ]
    },
    {
     "name": "stderr",
     "output_type": "stream",
     "text": [
      "C:\\Users\\prath\\AppData\\Local\\Temp\\ipykernel_18364\\208667423.py:67: ConstantInputWarning: An input array is constant; the correlation coefficient is not defined.\n",
      "  r, _ = pearsonr(x, y)\n"
     ]
    },
    {
     "name": "stdout",
     "output_type": "stream",
     "text": [
      "Error with KNN - adata_knn_imputed_mf20_run9.h5ad: index 1960 is out of bounds for axis 1 with size 1960\n",
      "Error with KNN - adata_knn_imputed_mf30_run1.h5ad: index 1960 is out of bounds for axis 1 with size 1960\n",
      "Error with KNN - adata_knn_imputed_mf30_run10.h5ad: index 1960 is out of bounds for axis 1 with size 1960\n",
      "Error with KNN - adata_knn_imputed_mf30_run2.h5ad: index 1960 is out of bounds for axis 1 with size 1960\n"
     ]
    },
    {
     "name": "stderr",
     "output_type": "stream",
     "text": [
      "C:\\Users\\prath\\AppData\\Local\\Temp\\ipykernel_18364\\208667423.py:67: ConstantInputWarning: An input array is constant; the correlation coefficient is not defined.\n",
      "  r, _ = pearsonr(x, y)\n"
     ]
    },
    {
     "name": "stdout",
     "output_type": "stream",
     "text": [
      "Error with KNN - adata_knn_imputed_mf30_run3.h5ad: index 1960 is out of bounds for axis 1 with size 1960\n"
     ]
    },
    {
     "name": "stderr",
     "output_type": "stream",
     "text": [
      "C:\\Users\\prath\\AppData\\Local\\Temp\\ipykernel_18364\\208667423.py:67: ConstantInputWarning: An input array is constant; the correlation coefficient is not defined.\n",
      "  r, _ = pearsonr(x, y)\n"
     ]
    },
    {
     "name": "stdout",
     "output_type": "stream",
     "text": [
      "Error with KNN - adata_knn_imputed_mf30_run4.h5ad: index 1960 is out of bounds for axis 1 with size 1960\n",
      "Error with KNN - adata_knn_imputed_mf30_run5.h5ad: index 1960 is out of bounds for axis 1 with size 1960\n",
      "Error with KNN - adata_knn_imputed_mf30_run6.h5ad: index 1960 is out of bounds for axis 1 with size 1960\n",
      "Error with KNN - adata_knn_imputed_mf30_run7.h5ad: index 1960 is out of bounds for axis 1 with size 1960\n",
      "Error with KNN - adata_knn_imputed_mf30_run8.h5ad: index 1960 is out of bounds for axis 1 with size 1960\n",
      "Error with KNN - adata_knn_imputed_mf30_run9.h5ad: index 1960 is out of bounds for axis 1 with size 1960\n"
     ]
    },
    {
     "name": "stderr",
     "output_type": "stream",
     "text": [
      "c:\\Users\\prath\\anaconda-new\\Lib\\site-packages\\anndata\\_core\\anndata.py:1791: UserWarning: Observation names are not unique. To make them unique, call `.obs_names_make_unique`.\n",
      "  utils.warn_names_duplicates(\"obs\")\n",
      "c:\\Users\\prath\\anaconda-new\\Lib\\site-packages\\anndata\\_core\\anndata.py:1793: UserWarning: Variable names are not unique. To make them unique, call `.var_names_make_unique`.\n",
      "  utils.warn_names_duplicates(\"var\")\n",
      "C:\\Users\\prath\\AppData\\Local\\Temp\\ipykernel_18364\\208667423.py:67: ConstantInputWarning: An input array is constant; the correlation coefficient is not defined.\n",
      "  r, _ = pearsonr(x, y)\n"
     ]
    },
    {
     "name": "stdout",
     "output_type": "stream",
     "text": [
      "Mean - adata_mean_imputed_mf10_run1.h5ad: Mean Pearson corr = 0.440 (n_genes=1960)\n"
     ]
    },
    {
     "name": "stderr",
     "output_type": "stream",
     "text": [
      "c:\\Users\\prath\\anaconda-new\\Lib\\site-packages\\anndata\\_core\\anndata.py:1791: UserWarning: Observation names are not unique. To make them unique, call `.obs_names_make_unique`.\n",
      "  utils.warn_names_duplicates(\"obs\")\n",
      "c:\\Users\\prath\\anaconda-new\\Lib\\site-packages\\anndata\\_core\\anndata.py:1793: UserWarning: Variable names are not unique. To make them unique, call `.var_names_make_unique`.\n",
      "  utils.warn_names_duplicates(\"var\")\n",
      "C:\\Users\\prath\\AppData\\Local\\Temp\\ipykernel_18364\\208667423.py:67: ConstantInputWarning: An input array is constant; the correlation coefficient is not defined.\n",
      "  r, _ = pearsonr(x, y)\n",
      "c:\\Users\\prath\\anaconda-new\\Lib\\site-packages\\numpy\\core\\_methods.py:176: RuntimeWarning: overflow encountered in multiply\n",
      "  x = um.multiply(x, x, out=x)\n"
     ]
    },
    {
     "name": "stdout",
     "output_type": "stream",
     "text": [
      "Mean - adata_mean_imputed_mf10_run10.h5ad: Mean Pearson corr = 0.442 (n_genes=1960)\n"
     ]
    },
    {
     "name": "stderr",
     "output_type": "stream",
     "text": [
      "c:\\Users\\prath\\anaconda-new\\Lib\\site-packages\\anndata\\_core\\anndata.py:1791: UserWarning: Observation names are not unique. To make them unique, call `.obs_names_make_unique`.\n",
      "  utils.warn_names_duplicates(\"obs\")\n",
      "c:\\Users\\prath\\anaconda-new\\Lib\\site-packages\\anndata\\_core\\anndata.py:1793: UserWarning: Variable names are not unique. To make them unique, call `.var_names_make_unique`.\n",
      "  utils.warn_names_duplicates(\"var\")\n",
      "C:\\Users\\prath\\AppData\\Local\\Temp\\ipykernel_18364\\208667423.py:67: ConstantInputWarning: An input array is constant; the correlation coefficient is not defined.\n",
      "  r, _ = pearsonr(x, y)\n"
     ]
    },
    {
     "name": "stdout",
     "output_type": "stream",
     "text": [
      "Mean - adata_mean_imputed_mf10_run2.h5ad: Mean Pearson corr = 0.442 (n_genes=1960)\n"
     ]
    },
    {
     "name": "stderr",
     "output_type": "stream",
     "text": [
      "c:\\Users\\prath\\anaconda-new\\Lib\\site-packages\\anndata\\_core\\anndata.py:1791: UserWarning: Observation names are not unique. To make them unique, call `.obs_names_make_unique`.\n",
      "  utils.warn_names_duplicates(\"obs\")\n",
      "c:\\Users\\prath\\anaconda-new\\Lib\\site-packages\\anndata\\_core\\anndata.py:1793: UserWarning: Variable names are not unique. To make them unique, call `.var_names_make_unique`.\n",
      "  utils.warn_names_duplicates(\"var\")\n",
      "C:\\Users\\prath\\AppData\\Local\\Temp\\ipykernel_18364\\208667423.py:67: ConstantInputWarning: An input array is constant; the correlation coefficient is not defined.\n",
      "  r, _ = pearsonr(x, y)\n"
     ]
    },
    {
     "name": "stdout",
     "output_type": "stream",
     "text": [
      "Mean - adata_mean_imputed_mf10_run3.h5ad: Mean Pearson corr = 0.443 (n_genes=1960)\n"
     ]
    },
    {
     "name": "stderr",
     "output_type": "stream",
     "text": [
      "c:\\Users\\prath\\anaconda-new\\Lib\\site-packages\\anndata\\_core\\anndata.py:1791: UserWarning: Observation names are not unique. To make them unique, call `.obs_names_make_unique`.\n",
      "  utils.warn_names_duplicates(\"obs\")\n",
      "c:\\Users\\prath\\anaconda-new\\Lib\\site-packages\\anndata\\_core\\anndata.py:1793: UserWarning: Variable names are not unique. To make them unique, call `.var_names_make_unique`.\n",
      "  utils.warn_names_duplicates(\"var\")\n",
      "C:\\Users\\prath\\AppData\\Local\\Temp\\ipykernel_18364\\208667423.py:67: ConstantInputWarning: An input array is constant; the correlation coefficient is not defined.\n",
      "  r, _ = pearsonr(x, y)\n"
     ]
    },
    {
     "name": "stdout",
     "output_type": "stream",
     "text": [
      "Mean - adata_mean_imputed_mf10_run4.h5ad: Mean Pearson corr = 0.441 (n_genes=1960)\n"
     ]
    },
    {
     "name": "stderr",
     "output_type": "stream",
     "text": [
      "c:\\Users\\prath\\anaconda-new\\Lib\\site-packages\\anndata\\_core\\anndata.py:1791: UserWarning: Observation names are not unique. To make them unique, call `.obs_names_make_unique`.\n",
      "  utils.warn_names_duplicates(\"obs\")\n",
      "c:\\Users\\prath\\anaconda-new\\Lib\\site-packages\\anndata\\_core\\anndata.py:1793: UserWarning: Variable names are not unique. To make them unique, call `.var_names_make_unique`.\n",
      "  utils.warn_names_duplicates(\"var\")\n",
      "C:\\Users\\prath\\AppData\\Local\\Temp\\ipykernel_18364\\208667423.py:67: ConstantInputWarning: An input array is constant; the correlation coefficient is not defined.\n",
      "  r, _ = pearsonr(x, y)\n"
     ]
    },
    {
     "name": "stdout",
     "output_type": "stream",
     "text": [
      "Mean - adata_mean_imputed_mf10_run5.h5ad: Mean Pearson corr = 0.442 (n_genes=1960)\n"
     ]
    },
    {
     "name": "stderr",
     "output_type": "stream",
     "text": [
      "c:\\Users\\prath\\anaconda-new\\Lib\\site-packages\\anndata\\_core\\anndata.py:1791: UserWarning: Observation names are not unique. To make them unique, call `.obs_names_make_unique`.\n",
      "  utils.warn_names_duplicates(\"obs\")\n",
      "c:\\Users\\prath\\anaconda-new\\Lib\\site-packages\\anndata\\_core\\anndata.py:1793: UserWarning: Variable names are not unique. To make them unique, call `.var_names_make_unique`.\n",
      "  utils.warn_names_duplicates(\"var\")\n",
      "C:\\Users\\prath\\AppData\\Local\\Temp\\ipykernel_18364\\208667423.py:67: ConstantInputWarning: An input array is constant; the correlation coefficient is not defined.\n",
      "  r, _ = pearsonr(x, y)\n"
     ]
    },
    {
     "name": "stdout",
     "output_type": "stream",
     "text": [
      "Mean - adata_mean_imputed_mf10_run6.h5ad: Mean Pearson corr = 0.442 (n_genes=1960)\n"
     ]
    },
    {
     "name": "stderr",
     "output_type": "stream",
     "text": [
      "c:\\Users\\prath\\anaconda-new\\Lib\\site-packages\\anndata\\_core\\anndata.py:1791: UserWarning: Observation names are not unique. To make them unique, call `.obs_names_make_unique`.\n",
      "  utils.warn_names_duplicates(\"obs\")\n",
      "c:\\Users\\prath\\anaconda-new\\Lib\\site-packages\\anndata\\_core\\anndata.py:1793: UserWarning: Variable names are not unique. To make them unique, call `.var_names_make_unique`.\n",
      "  utils.warn_names_duplicates(\"var\")\n",
      "C:\\Users\\prath\\AppData\\Local\\Temp\\ipykernel_18364\\208667423.py:67: ConstantInputWarning: An input array is constant; the correlation coefficient is not defined.\n",
      "  r, _ = pearsonr(x, y)\n"
     ]
    },
    {
     "name": "stdout",
     "output_type": "stream",
     "text": [
      "Mean - adata_mean_imputed_mf10_run7.h5ad: Mean Pearson corr = 0.444 (n_genes=1960)\n"
     ]
    },
    {
     "name": "stderr",
     "output_type": "stream",
     "text": [
      "c:\\Users\\prath\\anaconda-new\\Lib\\site-packages\\anndata\\_core\\anndata.py:1791: UserWarning: Observation names are not unique. To make them unique, call `.obs_names_make_unique`.\n",
      "  utils.warn_names_duplicates(\"obs\")\n",
      "c:\\Users\\prath\\anaconda-new\\Lib\\site-packages\\anndata\\_core\\anndata.py:1793: UserWarning: Variable names are not unique. To make them unique, call `.var_names_make_unique`.\n",
      "  utils.warn_names_duplicates(\"var\")\n",
      "C:\\Users\\prath\\AppData\\Local\\Temp\\ipykernel_18364\\208667423.py:67: ConstantInputWarning: An input array is constant; the correlation coefficient is not defined.\n",
      "  r, _ = pearsonr(x, y)\n"
     ]
    },
    {
     "name": "stdout",
     "output_type": "stream",
     "text": [
      "Mean - adata_mean_imputed_mf10_run8.h5ad: Mean Pearson corr = 0.443 (n_genes=1960)\n"
     ]
    },
    {
     "name": "stderr",
     "output_type": "stream",
     "text": [
      "c:\\Users\\prath\\anaconda-new\\Lib\\site-packages\\anndata\\_core\\anndata.py:1791: UserWarning: Observation names are not unique. To make them unique, call `.obs_names_make_unique`.\n",
      "  utils.warn_names_duplicates(\"obs\")\n",
      "c:\\Users\\prath\\anaconda-new\\Lib\\site-packages\\anndata\\_core\\anndata.py:1793: UserWarning: Variable names are not unique. To make them unique, call `.var_names_make_unique`.\n",
      "  utils.warn_names_duplicates(\"var\")\n",
      "C:\\Users\\prath\\AppData\\Local\\Temp\\ipykernel_18364\\208667423.py:67: ConstantInputWarning: An input array is constant; the correlation coefficient is not defined.\n",
      "  r, _ = pearsonr(x, y)\n",
      "c:\\Users\\prath\\anaconda-new\\Lib\\site-packages\\numpy\\core\\_methods.py:187: RuntimeWarning: overflow encountered in reduce\n",
      "  ret = umr_sum(x, axis, dtype, out, keepdims=keepdims, where=where)\n"
     ]
    },
    {
     "name": "stdout",
     "output_type": "stream",
     "text": [
      "Mean - adata_mean_imputed_mf10_run9.h5ad: Mean Pearson corr = 0.443 (n_genes=1960)\n"
     ]
    },
    {
     "name": "stderr",
     "output_type": "stream",
     "text": [
      "c:\\Users\\prath\\anaconda-new\\Lib\\site-packages\\anndata\\_core\\anndata.py:1791: UserWarning: Observation names are not unique. To make them unique, call `.obs_names_make_unique`.\n",
      "  utils.warn_names_duplicates(\"obs\")\n",
      "c:\\Users\\prath\\anaconda-new\\Lib\\site-packages\\anndata\\_core\\anndata.py:1793: UserWarning: Variable names are not unique. To make them unique, call `.var_names_make_unique`.\n",
      "  utils.warn_names_duplicates(\"var\")\n",
      "C:\\Users\\prath\\AppData\\Local\\Temp\\ipykernel_18364\\208667423.py:67: ConstantInputWarning: An input array is constant; the correlation coefficient is not defined.\n",
      "  r, _ = pearsonr(x, y)\n"
     ]
    },
    {
     "name": "stdout",
     "output_type": "stream",
     "text": [
      "Mean - adata_mean_imputed_mf20_run1.h5ad: Mean Pearson corr = 0.417 (n_genes=1960)\n"
     ]
    },
    {
     "name": "stderr",
     "output_type": "stream",
     "text": [
      "c:\\Users\\prath\\anaconda-new\\Lib\\site-packages\\anndata\\_core\\anndata.py:1791: UserWarning: Observation names are not unique. To make them unique, call `.obs_names_make_unique`.\n",
      "  utils.warn_names_duplicates(\"obs\")\n",
      "c:\\Users\\prath\\anaconda-new\\Lib\\site-packages\\anndata\\_core\\anndata.py:1793: UserWarning: Variable names are not unique. To make them unique, call `.var_names_make_unique`.\n",
      "  utils.warn_names_duplicates(\"var\")\n",
      "C:\\Users\\prath\\AppData\\Local\\Temp\\ipykernel_18364\\208667423.py:67: ConstantInputWarning: An input array is constant; the correlation coefficient is not defined.\n",
      "  r, _ = pearsonr(x, y)\n"
     ]
    },
    {
     "name": "stdout",
     "output_type": "stream",
     "text": [
      "Mean - adata_mean_imputed_mf20_run10.h5ad: Mean Pearson corr = 0.417 (n_genes=1960)\n"
     ]
    },
    {
     "name": "stderr",
     "output_type": "stream",
     "text": [
      "c:\\Users\\prath\\anaconda-new\\Lib\\site-packages\\anndata\\_core\\anndata.py:1791: UserWarning: Observation names are not unique. To make them unique, call `.obs_names_make_unique`.\n",
      "  utils.warn_names_duplicates(\"obs\")\n",
      "c:\\Users\\prath\\anaconda-new\\Lib\\site-packages\\anndata\\_core\\anndata.py:1793: UserWarning: Variable names are not unique. To make them unique, call `.var_names_make_unique`.\n",
      "  utils.warn_names_duplicates(\"var\")\n",
      "C:\\Users\\prath\\AppData\\Local\\Temp\\ipykernel_18364\\208667423.py:67: ConstantInputWarning: An input array is constant; the correlation coefficient is not defined.\n",
      "  r, _ = pearsonr(x, y)\n"
     ]
    },
    {
     "name": "stdout",
     "output_type": "stream",
     "text": [
      "Mean - adata_mean_imputed_mf20_run2.h5ad: Mean Pearson corr = 0.414 (n_genes=1960)\n"
     ]
    },
    {
     "name": "stderr",
     "output_type": "stream",
     "text": [
      "c:\\Users\\prath\\anaconda-new\\Lib\\site-packages\\anndata\\_core\\anndata.py:1791: UserWarning: Observation names are not unique. To make them unique, call `.obs_names_make_unique`.\n",
      "  utils.warn_names_duplicates(\"obs\")\n",
      "c:\\Users\\prath\\anaconda-new\\Lib\\site-packages\\anndata\\_core\\anndata.py:1793: UserWarning: Variable names are not unique. To make them unique, call `.var_names_make_unique`.\n",
      "  utils.warn_names_duplicates(\"var\")\n",
      "C:\\Users\\prath\\AppData\\Local\\Temp\\ipykernel_18364\\208667423.py:67: ConstantInputWarning: An input array is constant; the correlation coefficient is not defined.\n",
      "  r, _ = pearsonr(x, y)\n",
      "c:\\Users\\prath\\anaconda-new\\Lib\\site-packages\\numpy\\core\\_methods.py:176: RuntimeWarning: overflow encountered in multiply\n",
      "  x = um.multiply(x, x, out=x)\n"
     ]
    },
    {
     "name": "stdout",
     "output_type": "stream",
     "text": [
      "Mean - adata_mean_imputed_mf20_run3.h5ad: Mean Pearson corr = 0.414 (n_genes=1960)\n"
     ]
    },
    {
     "name": "stderr",
     "output_type": "stream",
     "text": [
      "c:\\Users\\prath\\anaconda-new\\Lib\\site-packages\\anndata\\_core\\anndata.py:1791: UserWarning: Observation names are not unique. To make them unique, call `.obs_names_make_unique`.\n",
      "  utils.warn_names_duplicates(\"obs\")\n",
      "c:\\Users\\prath\\anaconda-new\\Lib\\site-packages\\anndata\\_core\\anndata.py:1793: UserWarning: Variable names are not unique. To make them unique, call `.var_names_make_unique`.\n",
      "  utils.warn_names_duplicates(\"var\")\n",
      "C:\\Users\\prath\\AppData\\Local\\Temp\\ipykernel_18364\\208667423.py:67: ConstantInputWarning: An input array is constant; the correlation coefficient is not defined.\n",
      "  r, _ = pearsonr(x, y)\n",
      "c:\\Users\\prath\\anaconda-new\\Lib\\site-packages\\numpy\\core\\_methods.py:176: RuntimeWarning: overflow encountered in multiply\n",
      "  x = um.multiply(x, x, out=x)\n"
     ]
    },
    {
     "name": "stdout",
     "output_type": "stream",
     "text": [
      "Mean - adata_mean_imputed_mf20_run4.h5ad: Mean Pearson corr = 0.416 (n_genes=1960)\n"
     ]
    },
    {
     "name": "stderr",
     "output_type": "stream",
     "text": [
      "c:\\Users\\prath\\anaconda-new\\Lib\\site-packages\\anndata\\_core\\anndata.py:1791: UserWarning: Observation names are not unique. To make them unique, call `.obs_names_make_unique`.\n",
      "  utils.warn_names_duplicates(\"obs\")\n",
      "c:\\Users\\prath\\anaconda-new\\Lib\\site-packages\\anndata\\_core\\anndata.py:1793: UserWarning: Variable names are not unique. To make them unique, call `.var_names_make_unique`.\n",
      "  utils.warn_names_duplicates(\"var\")\n",
      "C:\\Users\\prath\\AppData\\Local\\Temp\\ipykernel_18364\\208667423.py:67: ConstantInputWarning: An input array is constant; the correlation coefficient is not defined.\n",
      "  r, _ = pearsonr(x, y)\n"
     ]
    },
    {
     "name": "stdout",
     "output_type": "stream",
     "text": [
      "Mean - adata_mean_imputed_mf20_run5.h5ad: Mean Pearson corr = 0.415 (n_genes=1960)\n"
     ]
    },
    {
     "name": "stderr",
     "output_type": "stream",
     "text": [
      "c:\\Users\\prath\\anaconda-new\\Lib\\site-packages\\anndata\\_core\\anndata.py:1791: UserWarning: Observation names are not unique. To make them unique, call `.obs_names_make_unique`.\n",
      "  utils.warn_names_duplicates(\"obs\")\n",
      "c:\\Users\\prath\\anaconda-new\\Lib\\site-packages\\anndata\\_core\\anndata.py:1793: UserWarning: Variable names are not unique. To make them unique, call `.var_names_make_unique`.\n",
      "  utils.warn_names_duplicates(\"var\")\n",
      "C:\\Users\\prath\\AppData\\Local\\Temp\\ipykernel_18364\\208667423.py:67: ConstantInputWarning: An input array is constant; the correlation coefficient is not defined.\n",
      "  r, _ = pearsonr(x, y)\n"
     ]
    },
    {
     "name": "stdout",
     "output_type": "stream",
     "text": [
      "Mean - adata_mean_imputed_mf20_run6.h5ad: Mean Pearson corr = 0.415 (n_genes=1960)\n"
     ]
    },
    {
     "name": "stderr",
     "output_type": "stream",
     "text": [
      "c:\\Users\\prath\\anaconda-new\\Lib\\site-packages\\anndata\\_core\\anndata.py:1791: UserWarning: Observation names are not unique. To make them unique, call `.obs_names_make_unique`.\n",
      "  utils.warn_names_duplicates(\"obs\")\n",
      "c:\\Users\\prath\\anaconda-new\\Lib\\site-packages\\anndata\\_core\\anndata.py:1793: UserWarning: Variable names are not unique. To make them unique, call `.var_names_make_unique`.\n",
      "  utils.warn_names_duplicates(\"var\")\n",
      "C:\\Users\\prath\\AppData\\Local\\Temp\\ipykernel_18364\\208667423.py:67: ConstantInputWarning: An input array is constant; the correlation coefficient is not defined.\n",
      "  r, _ = pearsonr(x, y)\n",
      "c:\\Users\\prath\\anaconda-new\\Lib\\site-packages\\numpy\\core\\_methods.py:176: RuntimeWarning: overflow encountered in multiply\n",
      "  x = um.multiply(x, x, out=x)\n"
     ]
    },
    {
     "name": "stdout",
     "output_type": "stream",
     "text": [
      "Mean - adata_mean_imputed_mf20_run7.h5ad: Mean Pearson corr = 0.414 (n_genes=1960)\n"
     ]
    },
    {
     "name": "stderr",
     "output_type": "stream",
     "text": [
      "c:\\Users\\prath\\anaconda-new\\Lib\\site-packages\\anndata\\_core\\anndata.py:1791: UserWarning: Observation names are not unique. To make them unique, call `.obs_names_make_unique`.\n",
      "  utils.warn_names_duplicates(\"obs\")\n",
      "c:\\Users\\prath\\anaconda-new\\Lib\\site-packages\\anndata\\_core\\anndata.py:1793: UserWarning: Variable names are not unique. To make them unique, call `.var_names_make_unique`.\n",
      "  utils.warn_names_duplicates(\"var\")\n",
      "C:\\Users\\prath\\AppData\\Local\\Temp\\ipykernel_18364\\208667423.py:67: ConstantInputWarning: An input array is constant; the correlation coefficient is not defined.\n",
      "  r, _ = pearsonr(x, y)\n",
      "c:\\Users\\prath\\anaconda-new\\Lib\\site-packages\\numpy\\core\\_methods.py:187: RuntimeWarning: overflow encountered in reduce\n",
      "  ret = umr_sum(x, axis, dtype, out, keepdims=keepdims, where=where)\n",
      "c:\\Users\\prath\\anaconda-new\\Lib\\site-packages\\numpy\\core\\_methods.py:176: RuntimeWarning: overflow encountered in multiply\n",
      "  x = um.multiply(x, x, out=x)\n"
     ]
    },
    {
     "name": "stdout",
     "output_type": "stream",
     "text": [
      "Mean - adata_mean_imputed_mf20_run8.h5ad: Mean Pearson corr = 0.414 (n_genes=1960)\n"
     ]
    },
    {
     "name": "stderr",
     "output_type": "stream",
     "text": [
      "c:\\Users\\prath\\anaconda-new\\Lib\\site-packages\\anndata\\_core\\anndata.py:1791: UserWarning: Observation names are not unique. To make them unique, call `.obs_names_make_unique`.\n",
      "  utils.warn_names_duplicates(\"obs\")\n",
      "c:\\Users\\prath\\anaconda-new\\Lib\\site-packages\\anndata\\_core\\anndata.py:1793: UserWarning: Variable names are not unique. To make them unique, call `.var_names_make_unique`.\n",
      "  utils.warn_names_duplicates(\"var\")\n",
      "C:\\Users\\prath\\AppData\\Local\\Temp\\ipykernel_18364\\208667423.py:67: ConstantInputWarning: An input array is constant; the correlation coefficient is not defined.\n",
      "  r, _ = pearsonr(x, y)\n"
     ]
    },
    {
     "name": "stdout",
     "output_type": "stream",
     "text": [
      "Mean - adata_mean_imputed_mf20_run9.h5ad: Mean Pearson corr = 0.413 (n_genes=1960)\n"
     ]
    },
    {
     "name": "stderr",
     "output_type": "stream",
     "text": [
      "c:\\Users\\prath\\anaconda-new\\Lib\\site-packages\\anndata\\_core\\anndata.py:1791: UserWarning: Observation names are not unique. To make them unique, call `.obs_names_make_unique`.\n",
      "  utils.warn_names_duplicates(\"obs\")\n",
      "c:\\Users\\prath\\anaconda-new\\Lib\\site-packages\\anndata\\_core\\anndata.py:1793: UserWarning: Variable names are not unique. To make them unique, call `.var_names_make_unique`.\n",
      "  utils.warn_names_duplicates(\"var\")\n",
      "C:\\Users\\prath\\AppData\\Local\\Temp\\ipykernel_18364\\208667423.py:67: ConstantInputWarning: An input array is constant; the correlation coefficient is not defined.\n",
      "  r, _ = pearsonr(x, y)\n"
     ]
    },
    {
     "name": "stdout",
     "output_type": "stream",
     "text": [
      "Mean - adata_mean_imputed_mf30_run1.h5ad: Mean Pearson corr = 0.383 (n_genes=1960)\n"
     ]
    },
    {
     "name": "stderr",
     "output_type": "stream",
     "text": [
      "c:\\Users\\prath\\anaconda-new\\Lib\\site-packages\\anndata\\_core\\anndata.py:1791: UserWarning: Observation names are not unique. To make them unique, call `.obs_names_make_unique`.\n",
      "  utils.warn_names_duplicates(\"obs\")\n",
      "c:\\Users\\prath\\anaconda-new\\Lib\\site-packages\\anndata\\_core\\anndata.py:1793: UserWarning: Variable names are not unique. To make them unique, call `.var_names_make_unique`.\n",
      "  utils.warn_names_duplicates(\"var\")\n",
      "C:\\Users\\prath\\AppData\\Local\\Temp\\ipykernel_18364\\208667423.py:67: ConstantInputWarning: An input array is constant; the correlation coefficient is not defined.\n",
      "  r, _ = pearsonr(x, y)\n"
     ]
    },
    {
     "name": "stdout",
     "output_type": "stream",
     "text": [
      "Mean - adata_mean_imputed_mf30_run10.h5ad: Mean Pearson corr = 0.384 (n_genes=1960)\n"
     ]
    },
    {
     "name": "stderr",
     "output_type": "stream",
     "text": [
      "c:\\Users\\prath\\anaconda-new\\Lib\\site-packages\\anndata\\_core\\anndata.py:1791: UserWarning: Observation names are not unique. To make them unique, call `.obs_names_make_unique`.\n",
      "  utils.warn_names_duplicates(\"obs\")\n",
      "c:\\Users\\prath\\anaconda-new\\Lib\\site-packages\\anndata\\_core\\anndata.py:1793: UserWarning: Variable names are not unique. To make them unique, call `.var_names_make_unique`.\n",
      "  utils.warn_names_duplicates(\"var\")\n",
      "C:\\Users\\prath\\AppData\\Local\\Temp\\ipykernel_18364\\208667423.py:67: ConstantInputWarning: An input array is constant; the correlation coefficient is not defined.\n",
      "  r, _ = pearsonr(x, y)\n",
      "c:\\Users\\prath\\anaconda-new\\Lib\\site-packages\\numpy\\core\\_methods.py:176: RuntimeWarning: overflow encountered in multiply\n",
      "  x = um.multiply(x, x, out=x)\n",
      "c:\\Users\\prath\\anaconda-new\\Lib\\site-packages\\numpy\\core\\_methods.py:152: RuntimeWarning: overflow encountered in reduce\n",
      "  arrmean = umr_sum(arr, axis, dtype, keepdims=True, where=where)\n",
      "c:\\Users\\prath\\anaconda-new\\Lib\\site-packages\\numpy\\core\\_methods.py:187: RuntimeWarning: overflow encountered in reduce\n",
      "  ret = umr_sum(x, axis, dtype, out, keepdims=keepdims, where=where)\n"
     ]
    },
    {
     "name": "stdout",
     "output_type": "stream",
     "text": [
      "Mean - adata_mean_imputed_mf30_run2.h5ad: Mean Pearson corr = 0.386 (n_genes=1960)\n"
     ]
    },
    {
     "name": "stderr",
     "output_type": "stream",
     "text": [
      "c:\\Users\\prath\\anaconda-new\\Lib\\site-packages\\anndata\\_core\\anndata.py:1791: UserWarning: Observation names are not unique. To make them unique, call `.obs_names_make_unique`.\n",
      "  utils.warn_names_duplicates(\"obs\")\n",
      "c:\\Users\\prath\\anaconda-new\\Lib\\site-packages\\anndata\\_core\\anndata.py:1793: UserWarning: Variable names are not unique. To make them unique, call `.var_names_make_unique`.\n",
      "  utils.warn_names_duplicates(\"var\")\n",
      "C:\\Users\\prath\\AppData\\Local\\Temp\\ipykernel_18364\\208667423.py:67: ConstantInputWarning: An input array is constant; the correlation coefficient is not defined.\n",
      "  r, _ = pearsonr(x, y)\n"
     ]
    },
    {
     "name": "stdout",
     "output_type": "stream",
     "text": [
      "Mean - adata_mean_imputed_mf30_run3.h5ad: Mean Pearson corr = 0.387 (n_genes=1960)\n"
     ]
    },
    {
     "name": "stderr",
     "output_type": "stream",
     "text": [
      "c:\\Users\\prath\\anaconda-new\\Lib\\site-packages\\anndata\\_core\\anndata.py:1791: UserWarning: Observation names are not unique. To make them unique, call `.obs_names_make_unique`.\n",
      "  utils.warn_names_duplicates(\"obs\")\n",
      "c:\\Users\\prath\\anaconda-new\\Lib\\site-packages\\anndata\\_core\\anndata.py:1793: UserWarning: Variable names are not unique. To make them unique, call `.var_names_make_unique`.\n",
      "  utils.warn_names_duplicates(\"var\")\n",
      "C:\\Users\\prath\\AppData\\Local\\Temp\\ipykernel_18364\\208667423.py:67: ConstantInputWarning: An input array is constant; the correlation coefficient is not defined.\n",
      "  r, _ = pearsonr(x, y)\n"
     ]
    },
    {
     "name": "stdout",
     "output_type": "stream",
     "text": [
      "Mean - adata_mean_imputed_mf30_run4.h5ad: Mean Pearson corr = 0.386 (n_genes=1960)\n"
     ]
    },
    {
     "name": "stderr",
     "output_type": "stream",
     "text": [
      "c:\\Users\\prath\\anaconda-new\\Lib\\site-packages\\anndata\\_core\\anndata.py:1791: UserWarning: Observation names are not unique. To make them unique, call `.obs_names_make_unique`.\n",
      "  utils.warn_names_duplicates(\"obs\")\n",
      "c:\\Users\\prath\\anaconda-new\\Lib\\site-packages\\anndata\\_core\\anndata.py:1793: UserWarning: Variable names are not unique. To make them unique, call `.var_names_make_unique`.\n",
      "  utils.warn_names_duplicates(\"var\")\n",
      "C:\\Users\\prath\\AppData\\Local\\Temp\\ipykernel_18364\\208667423.py:67: ConstantInputWarning: An input array is constant; the correlation coefficient is not defined.\n",
      "  r, _ = pearsonr(x, y)\n",
      "c:\\Users\\prath\\anaconda-new\\Lib\\site-packages\\numpy\\core\\_methods.py:176: RuntimeWarning: overflow encountered in multiply\n",
      "  x = um.multiply(x, x, out=x)\n"
     ]
    },
    {
     "name": "stdout",
     "output_type": "stream",
     "text": [
      "Mean - adata_mean_imputed_mf30_run5.h5ad: Mean Pearson corr = 0.384 (n_genes=1960)\n"
     ]
    },
    {
     "name": "stderr",
     "output_type": "stream",
     "text": [
      "c:\\Users\\prath\\anaconda-new\\Lib\\site-packages\\anndata\\_core\\anndata.py:1791: UserWarning: Observation names are not unique. To make them unique, call `.obs_names_make_unique`.\n",
      "  utils.warn_names_duplicates(\"obs\")\n",
      "c:\\Users\\prath\\anaconda-new\\Lib\\site-packages\\anndata\\_core\\anndata.py:1793: UserWarning: Variable names are not unique. To make them unique, call `.var_names_make_unique`.\n",
      "  utils.warn_names_duplicates(\"var\")\n",
      "C:\\Users\\prath\\AppData\\Local\\Temp\\ipykernel_18364\\208667423.py:67: ConstantInputWarning: An input array is constant; the correlation coefficient is not defined.\n",
      "  r, _ = pearsonr(x, y)\n"
     ]
    },
    {
     "name": "stdout",
     "output_type": "stream",
     "text": [
      "Mean - adata_mean_imputed_mf30_run6.h5ad: Mean Pearson corr = 0.385 (n_genes=1960)\n"
     ]
    },
    {
     "name": "stderr",
     "output_type": "stream",
     "text": [
      "c:\\Users\\prath\\anaconda-new\\Lib\\site-packages\\anndata\\_core\\anndata.py:1791: UserWarning: Observation names are not unique. To make them unique, call `.obs_names_make_unique`.\n",
      "  utils.warn_names_duplicates(\"obs\")\n",
      "c:\\Users\\prath\\anaconda-new\\Lib\\site-packages\\anndata\\_core\\anndata.py:1793: UserWarning: Variable names are not unique. To make them unique, call `.var_names_make_unique`.\n",
      "  utils.warn_names_duplicates(\"var\")\n",
      "C:\\Users\\prath\\AppData\\Local\\Temp\\ipykernel_18364\\208667423.py:67: ConstantInputWarning: An input array is constant; the correlation coefficient is not defined.\n",
      "  r, _ = pearsonr(x, y)\n"
     ]
    },
    {
     "name": "stdout",
     "output_type": "stream",
     "text": [
      "Mean - adata_mean_imputed_mf30_run7.h5ad: Mean Pearson corr = 0.385 (n_genes=1960)\n"
     ]
    },
    {
     "name": "stderr",
     "output_type": "stream",
     "text": [
      "c:\\Users\\prath\\anaconda-new\\Lib\\site-packages\\anndata\\_core\\anndata.py:1791: UserWarning: Observation names are not unique. To make them unique, call `.obs_names_make_unique`.\n",
      "  utils.warn_names_duplicates(\"obs\")\n",
      "c:\\Users\\prath\\anaconda-new\\Lib\\site-packages\\anndata\\_core\\anndata.py:1793: UserWarning: Variable names are not unique. To make them unique, call `.var_names_make_unique`.\n",
      "  utils.warn_names_duplicates(\"var\")\n",
      "C:\\Users\\prath\\AppData\\Local\\Temp\\ipykernel_18364\\208667423.py:67: ConstantInputWarning: An input array is constant; the correlation coefficient is not defined.\n",
      "  r, _ = pearsonr(x, y)\n",
      "c:\\Users\\prath\\anaconda-new\\Lib\\site-packages\\numpy\\core\\_methods.py:176: RuntimeWarning: overflow encountered in multiply\n",
      "  x = um.multiply(x, x, out=x)\n"
     ]
    },
    {
     "name": "stdout",
     "output_type": "stream",
     "text": [
      "Mean - adata_mean_imputed_mf30_run8.h5ad: Mean Pearson corr = 0.385 (n_genes=1960)\n"
     ]
    },
    {
     "name": "stderr",
     "output_type": "stream",
     "text": [
      "c:\\Users\\prath\\anaconda-new\\Lib\\site-packages\\anndata\\_core\\anndata.py:1791: UserWarning: Observation names are not unique. To make them unique, call `.obs_names_make_unique`.\n",
      "  utils.warn_names_duplicates(\"obs\")\n",
      "c:\\Users\\prath\\anaconda-new\\Lib\\site-packages\\anndata\\_core\\anndata.py:1793: UserWarning: Variable names are not unique. To make them unique, call `.var_names_make_unique`.\n",
      "  utils.warn_names_duplicates(\"var\")\n",
      "C:\\Users\\prath\\AppData\\Local\\Temp\\ipykernel_18364\\208667423.py:67: ConstantInputWarning: An input array is constant; the correlation coefficient is not defined.\n",
      "  r, _ = pearsonr(x, y)\n",
      "c:\\Users\\prath\\anaconda-new\\Lib\\site-packages\\numpy\\core\\_methods.py:176: RuntimeWarning: overflow encountered in multiply\n",
      "  x = um.multiply(x, x, out=x)\n",
      "c:\\Users\\prath\\anaconda-new\\Lib\\site-packages\\numpy\\core\\_methods.py:187: RuntimeWarning: overflow encountered in reduce\n",
      "  ret = umr_sum(x, axis, dtype, out, keepdims=keepdims, where=where)\n",
      "c:\\Users\\prath\\anaconda-new\\Lib\\site-packages\\numpy\\core\\_methods.py:152: RuntimeWarning: overflow encountered in reduce\n",
      "  arrmean = umr_sum(arr, axis, dtype, keepdims=True, where=where)\n"
     ]
    },
    {
     "name": "stdout",
     "output_type": "stream",
     "text": [
      "Mean - adata_mean_imputed_mf30_run9.h5ad: Mean Pearson corr = 0.387 (n_genes=1960)\n"
     ]
    },
    {
     "name": "stderr",
     "output_type": "stream",
     "text": [
      "c:\\Users\\prath\\anaconda-new\\Lib\\site-packages\\anndata\\_core\\anndata.py:1791: UserWarning: Observation names are not unique. To make them unique, call `.obs_names_make_unique`.\n",
      "  utils.warn_names_duplicates(\"obs\")\n",
      "c:\\Users\\prath\\anaconda-new\\Lib\\site-packages\\anndata\\_core\\anndata.py:1793: UserWarning: Variable names are not unique. To make them unique, call `.var_names_make_unique`.\n",
      "  utils.warn_names_duplicates(\"var\")\n"
     ]
    },
    {
     "name": "stdout",
     "output_type": "stream",
     "text": [
      "GAN - adata_adata_gan_imputed_mf10_run1.h5ad: Mean Pearson corr = 0.942 (n_genes=1960)\n"
     ]
    },
    {
     "name": "stderr",
     "output_type": "stream",
     "text": [
      "c:\\Users\\prath\\anaconda-new\\Lib\\site-packages\\anndata\\_core\\anndata.py:1791: UserWarning: Observation names are not unique. To make them unique, call `.obs_names_make_unique`.\n",
      "  utils.warn_names_duplicates(\"obs\")\n",
      "c:\\Users\\prath\\anaconda-new\\Lib\\site-packages\\anndata\\_core\\anndata.py:1793: UserWarning: Variable names are not unique. To make them unique, call `.var_names_make_unique`.\n",
      "  utils.warn_names_duplicates(\"var\")\n"
     ]
    },
    {
     "name": "stdout",
     "output_type": "stream",
     "text": [
      "GAN - adata_adata_gan_imputed_mf10_run10.h5ad: Mean Pearson corr = 0.947 (n_genes=1960)\n"
     ]
    },
    {
     "name": "stderr",
     "output_type": "stream",
     "text": [
      "c:\\Users\\prath\\anaconda-new\\Lib\\site-packages\\anndata\\_core\\anndata.py:1791: UserWarning: Observation names are not unique. To make them unique, call `.obs_names_make_unique`.\n",
      "  utils.warn_names_duplicates(\"obs\")\n",
      "c:\\Users\\prath\\anaconda-new\\Lib\\site-packages\\anndata\\_core\\anndata.py:1793: UserWarning: Variable names are not unique. To make them unique, call `.var_names_make_unique`.\n",
      "  utils.warn_names_duplicates(\"var\")\n"
     ]
    },
    {
     "name": "stdout",
     "output_type": "stream",
     "text": [
      "GAN - adata_adata_gan_imputed_mf10_run2.h5ad: Mean Pearson corr = 0.949 (n_genes=1960)\n"
     ]
    },
    {
     "name": "stderr",
     "output_type": "stream",
     "text": [
      "c:\\Users\\prath\\anaconda-new\\Lib\\site-packages\\anndata\\_core\\anndata.py:1791: UserWarning: Observation names are not unique. To make them unique, call `.obs_names_make_unique`.\n",
      "  utils.warn_names_duplicates(\"obs\")\n",
      "c:\\Users\\prath\\anaconda-new\\Lib\\site-packages\\anndata\\_core\\anndata.py:1793: UserWarning: Variable names are not unique. To make them unique, call `.var_names_make_unique`.\n",
      "  utils.warn_names_duplicates(\"var\")\n"
     ]
    },
    {
     "name": "stdout",
     "output_type": "stream",
     "text": [
      "GAN - adata_adata_gan_imputed_mf10_run3.h5ad: Mean Pearson corr = 0.948 (n_genes=1960)\n"
     ]
    },
    {
     "name": "stderr",
     "output_type": "stream",
     "text": [
      "c:\\Users\\prath\\anaconda-new\\Lib\\site-packages\\anndata\\_core\\anndata.py:1791: UserWarning: Observation names are not unique. To make them unique, call `.obs_names_make_unique`.\n",
      "  utils.warn_names_duplicates(\"obs\")\n",
      "c:\\Users\\prath\\anaconda-new\\Lib\\site-packages\\anndata\\_core\\anndata.py:1793: UserWarning: Variable names are not unique. To make them unique, call `.var_names_make_unique`.\n",
      "  utils.warn_names_duplicates(\"var\")\n"
     ]
    },
    {
     "name": "stdout",
     "output_type": "stream",
     "text": [
      "GAN - adata_adata_gan_imputed_mf10_run4.h5ad: Mean Pearson corr = 0.945 (n_genes=1960)\n"
     ]
    },
    {
     "name": "stderr",
     "output_type": "stream",
     "text": [
      "c:\\Users\\prath\\anaconda-new\\Lib\\site-packages\\anndata\\_core\\anndata.py:1791: UserWarning: Observation names are not unique. To make them unique, call `.obs_names_make_unique`.\n",
      "  utils.warn_names_duplicates(\"obs\")\n",
      "c:\\Users\\prath\\anaconda-new\\Lib\\site-packages\\anndata\\_core\\anndata.py:1793: UserWarning: Variable names are not unique. To make them unique, call `.var_names_make_unique`.\n",
      "  utils.warn_names_duplicates(\"var\")\n"
     ]
    },
    {
     "name": "stdout",
     "output_type": "stream",
     "text": [
      "GAN - adata_adata_gan_imputed_mf10_run5.h5ad: Mean Pearson corr = 0.946 (n_genes=1960)\n"
     ]
    },
    {
     "name": "stderr",
     "output_type": "stream",
     "text": [
      "c:\\Users\\prath\\anaconda-new\\Lib\\site-packages\\anndata\\_core\\anndata.py:1791: UserWarning: Observation names are not unique. To make them unique, call `.obs_names_make_unique`.\n",
      "  utils.warn_names_duplicates(\"obs\")\n",
      "c:\\Users\\prath\\anaconda-new\\Lib\\site-packages\\anndata\\_core\\anndata.py:1793: UserWarning: Variable names are not unique. To make them unique, call `.var_names_make_unique`.\n",
      "  utils.warn_names_duplicates(\"var\")\n"
     ]
    },
    {
     "name": "stdout",
     "output_type": "stream",
     "text": [
      "GAN - adata_adata_gan_imputed_mf10_run6.h5ad: Mean Pearson corr = 0.948 (n_genes=1960)\n"
     ]
    },
    {
     "name": "stderr",
     "output_type": "stream",
     "text": [
      "c:\\Users\\prath\\anaconda-new\\Lib\\site-packages\\anndata\\_core\\anndata.py:1791: UserWarning: Observation names are not unique. To make them unique, call `.obs_names_make_unique`.\n",
      "  utils.warn_names_duplicates(\"obs\")\n",
      "c:\\Users\\prath\\anaconda-new\\Lib\\site-packages\\anndata\\_core\\anndata.py:1793: UserWarning: Variable names are not unique. To make them unique, call `.var_names_make_unique`.\n",
      "  utils.warn_names_duplicates(\"var\")\n"
     ]
    },
    {
     "name": "stdout",
     "output_type": "stream",
     "text": [
      "GAN - adata_adata_gan_imputed_mf10_run7.h5ad: Mean Pearson corr = 0.949 (n_genes=1960)\n"
     ]
    },
    {
     "name": "stderr",
     "output_type": "stream",
     "text": [
      "c:\\Users\\prath\\anaconda-new\\Lib\\site-packages\\anndata\\_core\\anndata.py:1791: UserWarning: Observation names are not unique. To make them unique, call `.obs_names_make_unique`.\n",
      "  utils.warn_names_duplicates(\"obs\")\n",
      "c:\\Users\\prath\\anaconda-new\\Lib\\site-packages\\anndata\\_core\\anndata.py:1793: UserWarning: Variable names are not unique. To make them unique, call `.var_names_make_unique`.\n",
      "  utils.warn_names_duplicates(\"var\")\n"
     ]
    },
    {
     "name": "stdout",
     "output_type": "stream",
     "text": [
      "GAN - adata_adata_gan_imputed_mf10_run8.h5ad: Mean Pearson corr = 0.949 (n_genes=1960)\n"
     ]
    },
    {
     "name": "stderr",
     "output_type": "stream",
     "text": [
      "c:\\Users\\prath\\anaconda-new\\Lib\\site-packages\\anndata\\_core\\anndata.py:1791: UserWarning: Observation names are not unique. To make them unique, call `.obs_names_make_unique`.\n",
      "  utils.warn_names_duplicates(\"obs\")\n",
      "c:\\Users\\prath\\anaconda-new\\Lib\\site-packages\\anndata\\_core\\anndata.py:1793: UserWarning: Variable names are not unique. To make them unique, call `.var_names_make_unique`.\n",
      "  utils.warn_names_duplicates(\"var\")\n"
     ]
    },
    {
     "name": "stdout",
     "output_type": "stream",
     "text": [
      "GAN - adata_adata_gan_imputed_mf10_run9.h5ad: Mean Pearson corr = 0.950 (n_genes=1960)\n"
     ]
    },
    {
     "name": "stderr",
     "output_type": "stream",
     "text": [
      "c:\\Users\\prath\\anaconda-new\\Lib\\site-packages\\anndata\\_core\\anndata.py:1791: UserWarning: Observation names are not unique. To make them unique, call `.obs_names_make_unique`.\n",
      "  utils.warn_names_duplicates(\"obs\")\n",
      "c:\\Users\\prath\\anaconda-new\\Lib\\site-packages\\anndata\\_core\\anndata.py:1793: UserWarning: Variable names are not unique. To make them unique, call `.var_names_make_unique`.\n",
      "  utils.warn_names_duplicates(\"var\")\n"
     ]
    },
    {
     "name": "stdout",
     "output_type": "stream",
     "text": [
      "GAN - adata_adata_gan_imputed_mf20_run1.h5ad: Mean Pearson corr = 0.893 (n_genes=1960)\n"
     ]
    },
    {
     "name": "stderr",
     "output_type": "stream",
     "text": [
      "c:\\Users\\prath\\anaconda-new\\Lib\\site-packages\\anndata\\_core\\anndata.py:1791: UserWarning: Observation names are not unique. To make them unique, call `.obs_names_make_unique`.\n",
      "  utils.warn_names_duplicates(\"obs\")\n",
      "c:\\Users\\prath\\anaconda-new\\Lib\\site-packages\\anndata\\_core\\anndata.py:1793: UserWarning: Variable names are not unique. To make them unique, call `.var_names_make_unique`.\n",
      "  utils.warn_names_duplicates(\"var\")\n"
     ]
    },
    {
     "name": "stdout",
     "output_type": "stream",
     "text": [
      "GAN - adata_adata_gan_imputed_mf20_run10.h5ad: Mean Pearson corr = 0.895 (n_genes=1960)\n"
     ]
    },
    {
     "name": "stderr",
     "output_type": "stream",
     "text": [
      "c:\\Users\\prath\\anaconda-new\\Lib\\site-packages\\anndata\\_core\\anndata.py:1791: UserWarning: Observation names are not unique. To make them unique, call `.obs_names_make_unique`.\n",
      "  utils.warn_names_duplicates(\"obs\")\n",
      "c:\\Users\\prath\\anaconda-new\\Lib\\site-packages\\anndata\\_core\\anndata.py:1793: UserWarning: Variable names are not unique. To make them unique, call `.var_names_make_unique`.\n",
      "  utils.warn_names_duplicates(\"var\")\n"
     ]
    },
    {
     "name": "stdout",
     "output_type": "stream",
     "text": [
      "GAN - adata_adata_gan_imputed_mf20_run2.h5ad: Mean Pearson corr = 0.891 (n_genes=1960)\n"
     ]
    },
    {
     "name": "stderr",
     "output_type": "stream",
     "text": [
      "c:\\Users\\prath\\anaconda-new\\Lib\\site-packages\\anndata\\_core\\anndata.py:1791: UserWarning: Observation names are not unique. To make them unique, call `.obs_names_make_unique`.\n",
      "  utils.warn_names_duplicates(\"obs\")\n",
      "c:\\Users\\prath\\anaconda-new\\Lib\\site-packages\\anndata\\_core\\anndata.py:1793: UserWarning: Variable names are not unique. To make them unique, call `.var_names_make_unique`.\n",
      "  utils.warn_names_duplicates(\"var\")\n"
     ]
    },
    {
     "name": "stdout",
     "output_type": "stream",
     "text": [
      "GAN - adata_adata_gan_imputed_mf20_run3.h5ad: Mean Pearson corr = 0.894 (n_genes=1960)\n"
     ]
    },
    {
     "name": "stderr",
     "output_type": "stream",
     "text": [
      "c:\\Users\\prath\\anaconda-new\\Lib\\site-packages\\anndata\\_core\\anndata.py:1791: UserWarning: Observation names are not unique. To make them unique, call `.obs_names_make_unique`.\n",
      "  utils.warn_names_duplicates(\"obs\")\n",
      "c:\\Users\\prath\\anaconda-new\\Lib\\site-packages\\anndata\\_core\\anndata.py:1793: UserWarning: Variable names are not unique. To make them unique, call `.var_names_make_unique`.\n",
      "  utils.warn_names_duplicates(\"var\")\n"
     ]
    },
    {
     "name": "stdout",
     "output_type": "stream",
     "text": [
      "GAN - adata_adata_gan_imputed_mf20_run4.h5ad: Mean Pearson corr = 0.892 (n_genes=1960)\n"
     ]
    },
    {
     "name": "stderr",
     "output_type": "stream",
     "text": [
      "c:\\Users\\prath\\anaconda-new\\Lib\\site-packages\\anndata\\_core\\anndata.py:1791: UserWarning: Observation names are not unique. To make them unique, call `.obs_names_make_unique`.\n",
      "  utils.warn_names_duplicates(\"obs\")\n",
      "c:\\Users\\prath\\anaconda-new\\Lib\\site-packages\\anndata\\_core\\anndata.py:1793: UserWarning: Variable names are not unique. To make them unique, call `.var_names_make_unique`.\n",
      "  utils.warn_names_duplicates(\"var\")\n"
     ]
    },
    {
     "name": "stdout",
     "output_type": "stream",
     "text": [
      "GAN - adata_adata_gan_imputed_mf20_run5.h5ad: Mean Pearson corr = 0.893 (n_genes=1960)\n"
     ]
    },
    {
     "name": "stderr",
     "output_type": "stream",
     "text": [
      "c:\\Users\\prath\\anaconda-new\\Lib\\site-packages\\anndata\\_core\\anndata.py:1791: UserWarning: Observation names are not unique. To make them unique, call `.obs_names_make_unique`.\n",
      "  utils.warn_names_duplicates(\"obs\")\n",
      "c:\\Users\\prath\\anaconda-new\\Lib\\site-packages\\anndata\\_core\\anndata.py:1793: UserWarning: Variable names are not unique. To make them unique, call `.var_names_make_unique`.\n",
      "  utils.warn_names_duplicates(\"var\")\n"
     ]
    },
    {
     "name": "stdout",
     "output_type": "stream",
     "text": [
      "GAN - adata_adata_gan_imputed_mf20_run6.h5ad: Mean Pearson corr = 0.891 (n_genes=1960)\n"
     ]
    },
    {
     "name": "stderr",
     "output_type": "stream",
     "text": [
      "c:\\Users\\prath\\anaconda-new\\Lib\\site-packages\\anndata\\_core\\anndata.py:1791: UserWarning: Observation names are not unique. To make them unique, call `.obs_names_make_unique`.\n",
      "  utils.warn_names_duplicates(\"obs\")\n",
      "c:\\Users\\prath\\anaconda-new\\Lib\\site-packages\\anndata\\_core\\anndata.py:1793: UserWarning: Variable names are not unique. To make them unique, call `.var_names_make_unique`.\n",
      "  utils.warn_names_duplicates(\"var\")\n"
     ]
    },
    {
     "name": "stdout",
     "output_type": "stream",
     "text": [
      "GAN - adata_adata_gan_imputed_mf20_run7.h5ad: Mean Pearson corr = 0.892 (n_genes=1960)\n"
     ]
    },
    {
     "name": "stderr",
     "output_type": "stream",
     "text": [
      "c:\\Users\\prath\\anaconda-new\\Lib\\site-packages\\anndata\\_core\\anndata.py:1791: UserWarning: Observation names are not unique. To make them unique, call `.obs_names_make_unique`.\n",
      "  utils.warn_names_duplicates(\"obs\")\n",
      "c:\\Users\\prath\\anaconda-new\\Lib\\site-packages\\anndata\\_core\\anndata.py:1793: UserWarning: Variable names are not unique. To make them unique, call `.var_names_make_unique`.\n",
      "  utils.warn_names_duplicates(\"var\")\n"
     ]
    },
    {
     "name": "stdout",
     "output_type": "stream",
     "text": [
      "GAN - adata_adata_gan_imputed_mf20_run8.h5ad: Mean Pearson corr = 0.890 (n_genes=1960)\n"
     ]
    },
    {
     "name": "stderr",
     "output_type": "stream",
     "text": [
      "c:\\Users\\prath\\anaconda-new\\Lib\\site-packages\\anndata\\_core\\anndata.py:1791: UserWarning: Observation names are not unique. To make them unique, call `.obs_names_make_unique`.\n",
      "  utils.warn_names_duplicates(\"obs\")\n",
      "c:\\Users\\prath\\anaconda-new\\Lib\\site-packages\\anndata\\_core\\anndata.py:1793: UserWarning: Variable names are not unique. To make them unique, call `.var_names_make_unique`.\n",
      "  utils.warn_names_duplicates(\"var\")\n"
     ]
    },
    {
     "name": "stdout",
     "output_type": "stream",
     "text": [
      "GAN - adata_adata_gan_imputed_mf20_run9.h5ad: Mean Pearson corr = 0.889 (n_genes=1960)\n"
     ]
    },
    {
     "name": "stderr",
     "output_type": "stream",
     "text": [
      "c:\\Users\\prath\\anaconda-new\\Lib\\site-packages\\anndata\\_core\\anndata.py:1791: UserWarning: Observation names are not unique. To make them unique, call `.obs_names_make_unique`.\n",
      "  utils.warn_names_duplicates(\"obs\")\n",
      "c:\\Users\\prath\\anaconda-new\\Lib\\site-packages\\anndata\\_core\\anndata.py:1793: UserWarning: Variable names are not unique. To make them unique, call `.var_names_make_unique`.\n",
      "  utils.warn_names_duplicates(\"var\")\n"
     ]
    },
    {
     "name": "stdout",
     "output_type": "stream",
     "text": [
      "GAN - adata_adata_gan_imputed_mf30_run1.h5ad: Mean Pearson corr = 0.829 (n_genes=1960)\n"
     ]
    },
    {
     "name": "stderr",
     "output_type": "stream",
     "text": [
      "c:\\Users\\prath\\anaconda-new\\Lib\\site-packages\\anndata\\_core\\anndata.py:1791: UserWarning: Observation names are not unique. To make them unique, call `.obs_names_make_unique`.\n",
      "  utils.warn_names_duplicates(\"obs\")\n",
      "c:\\Users\\prath\\anaconda-new\\Lib\\site-packages\\anndata\\_core\\anndata.py:1793: UserWarning: Variable names are not unique. To make them unique, call `.var_names_make_unique`.\n",
      "  utils.warn_names_duplicates(\"var\")\n"
     ]
    },
    {
     "name": "stdout",
     "output_type": "stream",
     "text": [
      "GAN - adata_adata_gan_imputed_mf30_run10.h5ad: Mean Pearson corr = 0.826 (n_genes=1960)\n"
     ]
    },
    {
     "name": "stderr",
     "output_type": "stream",
     "text": [
      "c:\\Users\\prath\\anaconda-new\\Lib\\site-packages\\anndata\\_core\\anndata.py:1791: UserWarning: Observation names are not unique. To make them unique, call `.obs_names_make_unique`.\n",
      "  utils.warn_names_duplicates(\"obs\")\n",
      "c:\\Users\\prath\\anaconda-new\\Lib\\site-packages\\anndata\\_core\\anndata.py:1793: UserWarning: Variable names are not unique. To make them unique, call `.var_names_make_unique`.\n",
      "  utils.warn_names_duplicates(\"var\")\n"
     ]
    },
    {
     "name": "stdout",
     "output_type": "stream",
     "text": [
      "GAN - adata_adata_gan_imputed_mf30_run2.h5ad: Mean Pearson corr = 0.830 (n_genes=1960)\n"
     ]
    },
    {
     "name": "stderr",
     "output_type": "stream",
     "text": [
      "c:\\Users\\prath\\anaconda-new\\Lib\\site-packages\\anndata\\_core\\anndata.py:1791: UserWarning: Observation names are not unique. To make them unique, call `.obs_names_make_unique`.\n",
      "  utils.warn_names_duplicates(\"obs\")\n",
      "c:\\Users\\prath\\anaconda-new\\Lib\\site-packages\\anndata\\_core\\anndata.py:1793: UserWarning: Variable names are not unique. To make them unique, call `.var_names_make_unique`.\n",
      "  utils.warn_names_duplicates(\"var\")\n"
     ]
    },
    {
     "name": "stdout",
     "output_type": "stream",
     "text": [
      "GAN - adata_adata_gan_imputed_mf30_run3.h5ad: Mean Pearson corr = 0.835 (n_genes=1960)\n"
     ]
    },
    {
     "name": "stderr",
     "output_type": "stream",
     "text": [
      "c:\\Users\\prath\\anaconda-new\\Lib\\site-packages\\anndata\\_core\\anndata.py:1791: UserWarning: Observation names are not unique. To make them unique, call `.obs_names_make_unique`.\n",
      "  utils.warn_names_duplicates(\"obs\")\n",
      "c:\\Users\\prath\\anaconda-new\\Lib\\site-packages\\anndata\\_core\\anndata.py:1793: UserWarning: Variable names are not unique. To make them unique, call `.var_names_make_unique`.\n",
      "  utils.warn_names_duplicates(\"var\")\n"
     ]
    },
    {
     "name": "stdout",
     "output_type": "stream",
     "text": [
      "GAN - adata_adata_gan_imputed_mf30_run4.h5ad: Mean Pearson corr = 0.834 (n_genes=1960)\n"
     ]
    },
    {
     "name": "stderr",
     "output_type": "stream",
     "text": [
      "c:\\Users\\prath\\anaconda-new\\Lib\\site-packages\\anndata\\_core\\anndata.py:1791: UserWarning: Observation names are not unique. To make them unique, call `.obs_names_make_unique`.\n",
      "  utils.warn_names_duplicates(\"obs\")\n",
      "c:\\Users\\prath\\anaconda-new\\Lib\\site-packages\\anndata\\_core\\anndata.py:1793: UserWarning: Variable names are not unique. To make them unique, call `.var_names_make_unique`.\n",
      "  utils.warn_names_duplicates(\"var\")\n"
     ]
    },
    {
     "name": "stdout",
     "output_type": "stream",
     "text": [
      "GAN - adata_adata_gan_imputed_mf30_run5.h5ad: Mean Pearson corr = 0.825 (n_genes=1960)\n"
     ]
    },
    {
     "name": "stderr",
     "output_type": "stream",
     "text": [
      "c:\\Users\\prath\\anaconda-new\\Lib\\site-packages\\anndata\\_core\\anndata.py:1791: UserWarning: Observation names are not unique. To make them unique, call `.obs_names_make_unique`.\n",
      "  utils.warn_names_duplicates(\"obs\")\n",
      "c:\\Users\\prath\\anaconda-new\\Lib\\site-packages\\anndata\\_core\\anndata.py:1793: UserWarning: Variable names are not unique. To make them unique, call `.var_names_make_unique`.\n",
      "  utils.warn_names_duplicates(\"var\")\n"
     ]
    },
    {
     "name": "stdout",
     "output_type": "stream",
     "text": [
      "GAN - adata_adata_gan_imputed_mf30_run6.h5ad: Mean Pearson corr = 0.833 (n_genes=1960)\n"
     ]
    },
    {
     "name": "stderr",
     "output_type": "stream",
     "text": [
      "c:\\Users\\prath\\anaconda-new\\Lib\\site-packages\\anndata\\_core\\anndata.py:1791: UserWarning: Observation names are not unique. To make them unique, call `.obs_names_make_unique`.\n",
      "  utils.warn_names_duplicates(\"obs\")\n",
      "c:\\Users\\prath\\anaconda-new\\Lib\\site-packages\\anndata\\_core\\anndata.py:1793: UserWarning: Variable names are not unique. To make them unique, call `.var_names_make_unique`.\n",
      "  utils.warn_names_duplicates(\"var\")\n"
     ]
    },
    {
     "name": "stdout",
     "output_type": "stream",
     "text": [
      "GAN - adata_adata_gan_imputed_mf30_run7.h5ad: Mean Pearson corr = 0.832 (n_genes=1960)\n"
     ]
    },
    {
     "name": "stderr",
     "output_type": "stream",
     "text": [
      "c:\\Users\\prath\\anaconda-new\\Lib\\site-packages\\anndata\\_core\\anndata.py:1791: UserWarning: Observation names are not unique. To make them unique, call `.obs_names_make_unique`.\n",
      "  utils.warn_names_duplicates(\"obs\")\n",
      "c:\\Users\\prath\\anaconda-new\\Lib\\site-packages\\anndata\\_core\\anndata.py:1793: UserWarning: Variable names are not unique. To make them unique, call `.var_names_make_unique`.\n",
      "  utils.warn_names_duplicates(\"var\")\n"
     ]
    },
    {
     "name": "stdout",
     "output_type": "stream",
     "text": [
      "GAN - adata_adata_gan_imputed_mf30_run8.h5ad: Mean Pearson corr = 0.830 (n_genes=1960)\n"
     ]
    },
    {
     "name": "stderr",
     "output_type": "stream",
     "text": [
      "c:\\Users\\prath\\anaconda-new\\Lib\\site-packages\\anndata\\_core\\anndata.py:1791: UserWarning: Observation names are not unique. To make them unique, call `.obs_names_make_unique`.\n",
      "  utils.warn_names_duplicates(\"obs\")\n",
      "c:\\Users\\prath\\anaconda-new\\Lib\\site-packages\\anndata\\_core\\anndata.py:1793: UserWarning: Variable names are not unique. To make them unique, call `.var_names_make_unique`.\n",
      "  utils.warn_names_duplicates(\"var\")\n"
     ]
    },
    {
     "name": "stdout",
     "output_type": "stream",
     "text": [
      "GAN - adata_adata_gan_imputed_mf30_run9.h5ad: Mean Pearson corr = 0.835 (n_genes=1960)\n"
     ]
    },
    {
     "name": "stderr",
     "output_type": "stream",
     "text": [
      "C:\\Users\\prath\\AppData\\Local\\Temp\\ipykernel_18364\\208667423.py:67: ConstantInputWarning: An input array is constant; the correlation coefficient is not defined.\n",
      "  r, _ = pearsonr(x, y)\n"
     ]
    },
    {
     "name": "stdout",
     "output_type": "stream",
     "text": [
      "Error with Iterative - adata_iterative_imputed_mf10_run1.h5ad: index 1960 is out of bounds for axis 1 with size 1960\n"
     ]
    },
    {
     "name": "stderr",
     "output_type": "stream",
     "text": [
      "C:\\Users\\prath\\AppData\\Local\\Temp\\ipykernel_18364\\208667423.py:67: ConstantInputWarning: An input array is constant; the correlation coefficient is not defined.\n",
      "  r, _ = pearsonr(x, y)\n"
     ]
    },
    {
     "name": "stdout",
     "output_type": "stream",
     "text": [
      "Error with Iterative - adata_iterative_imputed_mf10_run10.h5ad: index 1960 is out of bounds for axis 1 with size 1960\n"
     ]
    },
    {
     "name": "stderr",
     "output_type": "stream",
     "text": [
      "C:\\Users\\prath\\AppData\\Local\\Temp\\ipykernel_18364\\208667423.py:67: ConstantInputWarning: An input array is constant; the correlation coefficient is not defined.\n",
      "  r, _ = pearsonr(x, y)\n"
     ]
    },
    {
     "name": "stdout",
     "output_type": "stream",
     "text": [
      "Error with Iterative - adata_iterative_imputed_mf10_run2.h5ad: index 1960 is out of bounds for axis 1 with size 1960\n"
     ]
    },
    {
     "name": "stderr",
     "output_type": "stream",
     "text": [
      "C:\\Users\\prath\\AppData\\Local\\Temp\\ipykernel_18364\\208667423.py:67: ConstantInputWarning: An input array is constant; the correlation coefficient is not defined.\n",
      "  r, _ = pearsonr(x, y)\n"
     ]
    },
    {
     "name": "stdout",
     "output_type": "stream",
     "text": [
      "Error with Iterative - adata_iterative_imputed_mf10_run3.h5ad: index 1960 is out of bounds for axis 1 with size 1960\n"
     ]
    },
    {
     "name": "stderr",
     "output_type": "stream",
     "text": [
      "C:\\Users\\prath\\AppData\\Local\\Temp\\ipykernel_18364\\208667423.py:67: ConstantInputWarning: An input array is constant; the correlation coefficient is not defined.\n",
      "  r, _ = pearsonr(x, y)\n"
     ]
    },
    {
     "name": "stdout",
     "output_type": "stream",
     "text": [
      "Error with Iterative - adata_iterative_imputed_mf10_run4.h5ad: index 1960 is out of bounds for axis 1 with size 1960\n"
     ]
    },
    {
     "name": "stderr",
     "output_type": "stream",
     "text": [
      "C:\\Users\\prath\\AppData\\Local\\Temp\\ipykernel_18364\\208667423.py:67: ConstantInputWarning: An input array is constant; the correlation coefficient is not defined.\n",
      "  r, _ = pearsonr(x, y)\n"
     ]
    },
    {
     "name": "stdout",
     "output_type": "stream",
     "text": [
      "Error with Iterative - adata_iterative_imputed_mf10_run5.h5ad: index 1960 is out of bounds for axis 1 with size 1960\n"
     ]
    },
    {
     "name": "stderr",
     "output_type": "stream",
     "text": [
      "C:\\Users\\prath\\AppData\\Local\\Temp\\ipykernel_18364\\208667423.py:67: ConstantInputWarning: An input array is constant; the correlation coefficient is not defined.\n",
      "  r, _ = pearsonr(x, y)\n"
     ]
    },
    {
     "name": "stdout",
     "output_type": "stream",
     "text": [
      "Error with Iterative - adata_iterative_imputed_mf10_run6.h5ad: index 1960 is out of bounds for axis 1 with size 1960\n"
     ]
    },
    {
     "name": "stderr",
     "output_type": "stream",
     "text": [
      "C:\\Users\\prath\\AppData\\Local\\Temp\\ipykernel_18364\\208667423.py:67: ConstantInputWarning: An input array is constant; the correlation coefficient is not defined.\n",
      "  r, _ = pearsonr(x, y)\n"
     ]
    },
    {
     "name": "stdout",
     "output_type": "stream",
     "text": [
      "Error with Iterative - adata_iterative_imputed_mf10_run7.h5ad: index 1960 is out of bounds for axis 1 with size 1960\n"
     ]
    },
    {
     "name": "stderr",
     "output_type": "stream",
     "text": [
      "C:\\Users\\prath\\AppData\\Local\\Temp\\ipykernel_18364\\208667423.py:67: ConstantInputWarning: An input array is constant; the correlation coefficient is not defined.\n",
      "  r, _ = pearsonr(x, y)\n"
     ]
    },
    {
     "name": "stdout",
     "output_type": "stream",
     "text": [
      "Error with Iterative - adata_iterative_imputed_mf10_run8.h5ad: index 1960 is out of bounds for axis 1 with size 1960\n"
     ]
    },
    {
     "name": "stderr",
     "output_type": "stream",
     "text": [
      "C:\\Users\\prath\\AppData\\Local\\Temp\\ipykernel_18364\\208667423.py:67: ConstantInputWarning: An input array is constant; the correlation coefficient is not defined.\n",
      "  r, _ = pearsonr(x, y)\n"
     ]
    },
    {
     "name": "stdout",
     "output_type": "stream",
     "text": [
      "Error with Iterative - adata_iterative_imputed_mf10_run9.h5ad: index 1960 is out of bounds for axis 1 with size 1960\n"
     ]
    },
    {
     "name": "stderr",
     "output_type": "stream",
     "text": [
      "C:\\Users\\prath\\AppData\\Local\\Temp\\ipykernel_18364\\208667423.py:67: ConstantInputWarning: An input array is constant; the correlation coefficient is not defined.\n",
      "  r, _ = pearsonr(x, y)\n"
     ]
    },
    {
     "name": "stdout",
     "output_type": "stream",
     "text": [
      "Error with Iterative - adata_iterative_imputed_mf20_run1.h5ad: index 1960 is out of bounds for axis 1 with size 1960\n"
     ]
    },
    {
     "name": "stderr",
     "output_type": "stream",
     "text": [
      "C:\\Users\\prath\\AppData\\Local\\Temp\\ipykernel_18364\\208667423.py:67: ConstantInputWarning: An input array is constant; the correlation coefficient is not defined.\n",
      "  r, _ = pearsonr(x, y)\n"
     ]
    },
    {
     "name": "stdout",
     "output_type": "stream",
     "text": [
      "Error with Iterative - adata_iterative_imputed_mf20_run10.h5ad: index 1960 is out of bounds for axis 1 with size 1960\n"
     ]
    },
    {
     "name": "stderr",
     "output_type": "stream",
     "text": [
      "C:\\Users\\prath\\AppData\\Local\\Temp\\ipykernel_18364\\208667423.py:67: ConstantInputWarning: An input array is constant; the correlation coefficient is not defined.\n",
      "  r, _ = pearsonr(x, y)\n"
     ]
    },
    {
     "name": "stdout",
     "output_type": "stream",
     "text": [
      "Error with Iterative - adata_iterative_imputed_mf20_run2.h5ad: index 1960 is out of bounds for axis 1 with size 1960\n"
     ]
    },
    {
     "name": "stderr",
     "output_type": "stream",
     "text": [
      "C:\\Users\\prath\\AppData\\Local\\Temp\\ipykernel_18364\\208667423.py:67: ConstantInputWarning: An input array is constant; the correlation coefficient is not defined.\n",
      "  r, _ = pearsonr(x, y)\n"
     ]
    },
    {
     "name": "stdout",
     "output_type": "stream",
     "text": [
      "Error with Iterative - adata_iterative_imputed_mf20_run3.h5ad: index 1960 is out of bounds for axis 1 with size 1960\n"
     ]
    },
    {
     "name": "stderr",
     "output_type": "stream",
     "text": [
      "C:\\Users\\prath\\AppData\\Local\\Temp\\ipykernel_18364\\208667423.py:67: ConstantInputWarning: An input array is constant; the correlation coefficient is not defined.\n",
      "  r, _ = pearsonr(x, y)\n"
     ]
    },
    {
     "name": "stdout",
     "output_type": "stream",
     "text": [
      "Error with Iterative - adata_iterative_imputed_mf20_run4.h5ad: index 1960 is out of bounds for axis 1 with size 1960\n"
     ]
    },
    {
     "name": "stderr",
     "output_type": "stream",
     "text": [
      "C:\\Users\\prath\\AppData\\Local\\Temp\\ipykernel_18364\\208667423.py:67: ConstantInputWarning: An input array is constant; the correlation coefficient is not defined.\n",
      "  r, _ = pearsonr(x, y)\n"
     ]
    },
    {
     "name": "stdout",
     "output_type": "stream",
     "text": [
      "Error with Iterative - adata_iterative_imputed_mf20_run5.h5ad: index 1960 is out of bounds for axis 1 with size 1960\n"
     ]
    },
    {
     "name": "stderr",
     "output_type": "stream",
     "text": [
      "C:\\Users\\prath\\AppData\\Local\\Temp\\ipykernel_18364\\208667423.py:67: ConstantInputWarning: An input array is constant; the correlation coefficient is not defined.\n",
      "  r, _ = pearsonr(x, y)\n"
     ]
    },
    {
     "name": "stdout",
     "output_type": "stream",
     "text": [
      "Error with Iterative - adata_iterative_imputed_mf20_run6.h5ad: index 1960 is out of bounds for axis 1 with size 1960\n"
     ]
    },
    {
     "name": "stderr",
     "output_type": "stream",
     "text": [
      "C:\\Users\\prath\\AppData\\Local\\Temp\\ipykernel_18364\\208667423.py:67: ConstantInputWarning: An input array is constant; the correlation coefficient is not defined.\n",
      "  r, _ = pearsonr(x, y)\n"
     ]
    },
    {
     "name": "stdout",
     "output_type": "stream",
     "text": [
      "Error with Iterative - adata_iterative_imputed_mf20_run7.h5ad: index 1960 is out of bounds for axis 1 with size 1960\n"
     ]
    },
    {
     "name": "stderr",
     "output_type": "stream",
     "text": [
      "C:\\Users\\prath\\AppData\\Local\\Temp\\ipykernel_18364\\208667423.py:67: ConstantInputWarning: An input array is constant; the correlation coefficient is not defined.\n",
      "  r, _ = pearsonr(x, y)\n"
     ]
    },
    {
     "name": "stdout",
     "output_type": "stream",
     "text": [
      "Error with Iterative - adata_iterative_imputed_mf20_run8.h5ad: index 1960 is out of bounds for axis 1 with size 1960\n"
     ]
    },
    {
     "name": "stderr",
     "output_type": "stream",
     "text": [
      "C:\\Users\\prath\\AppData\\Local\\Temp\\ipykernel_18364\\208667423.py:67: ConstantInputWarning: An input array is constant; the correlation coefficient is not defined.\n",
      "  r, _ = pearsonr(x, y)\n"
     ]
    },
    {
     "name": "stdout",
     "output_type": "stream",
     "text": [
      "Error with Iterative - adata_iterative_imputed_mf20_run9.h5ad: index 1960 is out of bounds for axis 1 with size 1960\n",
      "Error with Iterative - adata_iterative_imputed_mf30_run1.h5ad: index 1960 is out of bounds for axis 1 with size 1960\n",
      "Error with Iterative - adata_iterative_imputed_mf30_run10.h5ad: index 1960 is out of bounds for axis 1 with size 1960\n",
      "Error with Iterative - adata_iterative_imputed_mf30_run2.h5ad: index 1960 is out of bounds for axis 1 with size 1960\n"
     ]
    },
    {
     "name": "stderr",
     "output_type": "stream",
     "text": [
      "C:\\Users\\prath\\AppData\\Local\\Temp\\ipykernel_18364\\208667423.py:67: ConstantInputWarning: An input array is constant; the correlation coefficient is not defined.\n",
      "  r, _ = pearsonr(x, y)\n"
     ]
    },
    {
     "name": "stdout",
     "output_type": "stream",
     "text": [
      "Error with Iterative - adata_iterative_imputed_mf30_run3.h5ad: index 1960 is out of bounds for axis 1 with size 1960\n"
     ]
    },
    {
     "name": "stderr",
     "output_type": "stream",
     "text": [
      "C:\\Users\\prath\\AppData\\Local\\Temp\\ipykernel_18364\\208667423.py:67: ConstantInputWarning: An input array is constant; the correlation coefficient is not defined.\n",
      "  r, _ = pearsonr(x, y)\n"
     ]
    },
    {
     "name": "stdout",
     "output_type": "stream",
     "text": [
      "Error with Iterative - adata_iterative_imputed_mf30_run4.h5ad: index 1960 is out of bounds for axis 1 with size 1960\n",
      "Error with Iterative - adata_iterative_imputed_mf30_run5.h5ad: index 1960 is out of bounds for axis 1 with size 1960\n",
      "Error with Iterative - adata_iterative_imputed_mf30_run6.h5ad: index 1960 is out of bounds for axis 1 with size 1960\n",
      "Error with Iterative - adata_iterative_imputed_mf30_run7.h5ad: index 1960 is out of bounds for axis 1 with size 1960\n",
      "Error with Iterative - adata_iterative_imputed_mf30_run8.h5ad: index 1960 is out of bounds for axis 1 with size 1960\n",
      "Error with Iterative - adata_iterative_imputed_mf30_run9.h5ad: index 1960 is out of bounds for axis 1 with size 1960\n"
     ]
    },
    {
     "data": {
      "image/png": "[encoded data removed]",
      "text/plain": [
       "<Figure size 1000x600 with 1 Axes>"
      ]
     },
     "metadata": {},
     "output_type": "display_data"
    }
   ],
   "source": [
    "import scanpy as sc\n",
    "import pandas as pd\n",
    "import numpy as np\n",
    "import os\n",
    "import seaborn as sns\n",
    "import matplotlib.pyplot as plt\n",
    "from scipy.stats import pearsonr, spearmanr\n",
    "\n",
    "# -----------------------------\n",
    "# Settings\n",
    "# -----------------------------\n",
    "sc.settings.verbosity = 0\n",
    "sns.set(style=\"whitegrid\")\n",
    "\n",
    "ground_truth_path = \"Data/adata_raw_qc.h5ad\"\n",
    "\n",
    "# Folders for each method\n",
    "imputed_dirs = {\n",
    "    \"SoftImpute\": \"imputed_softimpute\",\n",
    "    \"MAGIC\": \"imputed_h5ad\",\n",
    "    \"KNN\": \"imputed_knn\",\n",
    "    \"Mean\": \"imputed_mean\",\n",
    "    \"GAN\": \"imputed_gan\",\n",
    "    \"Iterative\": \"imputed_iterative\"\n",
    "}\n",
    "\n",
    "# -----------------------------\n",
    "# Helper: sanitize X\n",
    "# -----------------------------\n",
    "def sanitize_X(X):\n",
    "    \"\"\"Ensure .X is a clean 2D float32 NumPy array.\"\"\"\n",
    "    if hasattr(X, \"toarray\"):  # sparse\n",
    "        X = X.toarray()\n",
    "    elif hasattr(X, \"A\"):  # matrix\n",
    "        X = X.A\n",
    "    else:\n",
    "        X = np.array(X)\n",
    "\n",
    "    # Ensure numeric type\n",
    "    X = X.astype(np.float32, copy=False)\n",
    "\n",
    "    # Replace NaNs/Infs\n",
    "    X = np.nan_to_num(X, nan=0.0, posinf=0.0, neginf=0.0)\n",
    "    return X\n",
    "\n",
    "# -----------------------------\n",
    "# Load ground truth\n",
    "# -----------------------------\n",
    "print(\" Preprocessing ground truth...\")\n",
    "adata_gt = sc.read_h5ad(ground_truth_path)\n",
    "adata_gt.X = sanitize_X(adata_gt.X)\n",
    "\n",
    "# -----------------------------\n",
    "# Helper: Gene-wise correlation\n",
    "# -----------------------------\n",
    "def compute_gene_corr(X_gt, X_imp, gene_names):\n",
    "    corrs = []\n",
    "    for i, g in enumerate(gene_names):\n",
    "        x = X_gt[:, i]\n",
    "        y = X_imp[:, i]\n",
    "\n",
    "        # Skip constant genes\n",
    "        if np.std(x) == 0 or np.std(y) == 0:\n",
    "            continue\n",
    "\n",
    "        try:\n",
    "            r, _ = pearsonr(x, y)\n",
    "        except Exception:\n",
    "            r, _ = spearmanr(x, y)\n",
    "\n",
    "        if np.isfinite(r):\n",
    "            corrs.append(r)\n",
    "\n",
    "    if len(corrs) == 0:\n",
    "        return np.nan\n",
    "    return np.nanmean(corrs)\n",
    "\n",
    "# -----------------------------\n",
    "# Evaluate all methods\n",
    "# -----------------------------\n",
    "results = []\n",
    "\n",
    "for method, imputed_dir in imputed_dirs.items():\n",
    "    if not os.path.exists(imputed_dir):\n",
    "        print(f\"⚠️ Skipping {method}, folder not found: {imputed_dir}\")\n",
    "        continue\n",
    "\n",
    "    for fname in os.listdir(imputed_dir):\n",
    "        if not fname.endswith(\".h5ad\"):\n",
    "            continue\n",
    "\n",
    "        fpath = os.path.join(imputed_dir, fname)\n",
    "        try:\n",
    "            adata_imp = sc.read_h5ad(fpath)\n",
    "            adata_imp.X = sanitize_X(adata_imp.X)\n",
    "\n",
    "            # Align genes (case-insensitive)\n",
    "            genes_gt = adata_gt.var_names.str.upper()\n",
    "            genes_imp = adata_imp.var_names.str.upper()\n",
    "            common_genes = list(set(genes_gt) & set(genes_imp))\n",
    "\n",
    "            if len(common_genes) == 0:\n",
    "                print(f\"⚠️ No common genes for {method} - {fname}. Skipping.\")\n",
    "                continue\n",
    "\n",
    "            # Subset to common genes\n",
    "            adata_gt_sub = adata_gt[:, adata_gt.var_names.str.upper().isin(common_genes)]\n",
    "            adata_imp_sub = adata_imp[:, adata_imp.var_names.str.upper().isin(common_genes)]\n",
    "\n",
    "            X_gt_sub = sanitize_X(adata_gt_sub.X)\n",
    "            X_imp_sub = sanitize_X(adata_imp_sub.X)\n",
    "\n",
    "            # Compute correlation\n",
    "            mean_corr = compute_gene_corr(X_gt_sub, X_imp_sub, adata_gt_sub.var_names)\n",
    "\n",
    "            # Parse metadata (mfXX, runX)\n",
    "            mf, run = None, None\n",
    "            for part in fname.split(\"_\"):\n",
    "                if part.startswith(\"mf\"):\n",
    "                    mf = float(part.replace(\"mf\", \"\").replace(\".h5ad\", \"\")) / 100\n",
    "                if part.startswith(\"run\"):\n",
    "                    run = int(part.replace(\"run\", \"\").replace(\".h5ad\", \"\"))\n",
    "\n",
    "            results.append({\n",
    "                \"file\": fname,\n",
    "                \"method\": method,\n",
    "                \"MeanGeneCorr\": mean_corr,\n",
    "                \"missing_fraction\": mf,\n",
    "                \"run\": run\n",
    "            })\n",
    "\n",
    "            print(f\"{method} - {fname}: Mean Pearson corr = {mean_corr:.3f} (n_genes={len(common_genes)})\")\n",
    "\n",
    "        except Exception as e:\n",
    "            print(f\"Error with {method} - {fname}: {e}\")\n",
    "\n",
    "# -----------------------------\n",
    "# Results → DataFrame\n",
    "# -----------------------------\n",
    "results_df = pd.DataFrame(results)\n",
    "\n",
    "if results_df.empty:\n",
    "    raise ValueError(\"No correlations computed. Check your imputed files and pipeline.\")\n",
    "\n",
    "results_df = results_df.dropna(subset=[\"MeanGeneCorr\", \"missing_fraction\"])\n",
    "results_df[\"missing_fraction\"] = results_df[\"missing_fraction\"].astype(float)\n",
    "\n",
    "# -----------------------------\n",
    "# Plot\n",
    "# -----------------------------\n",
    "plt.figure(figsize=(10, 6))\n",
    "sns.barplot(\n",
    "    data=results_df,\n",
    "    x=\"missing_fraction\",\n",
    "    y=\"MeanGeneCorr\",\n",
    "    hue=\"method\",\n",
    "    errorbar=\"sd\",\n",
    "    capsize=0.1,\n",
    "    palette=\"Set2\"\n",
    ")\n",
    "plt.title(\"Gene-wise Correlation across Missing Fractions (All Methods)\")\n",
    "plt.ylabel(\"Mean Gene-wise Correlation\")\n",
    "plt.xlabel(\"Missing Fraction\")\n",
    "plt.legend(title=\"Method\")\n",
    "plt.show()\n"
   ]
  },
  {
   "cell_type": "code",
   "execution_count": 7,
   "id": "ca334d17",
   "metadata": {},
   "outputs": [
    {
     "ename": "SyntaxError",
     "evalue": "expected 'except' or 'finally' block (3253697340.py, line 57)",
     "output_type": "error",
     "traceback": [
      "\u001b[1;36m  Cell \u001b[1;32mIn[7], line 57\u001b[1;36m\u001b[0m\n\u001b[1;33m    results = []\u001b[0m\n\u001b[1;37m                ^\u001b[0m\n\u001b[1;31mSyntaxError\u001b[0m\u001b[1;31m:\u001b[0m expected 'except' or 'finally' block\n"
     ]
    }
   ],
   "source": [
    "import scanpy as sc\n",
    "import pandas as pd\n",
    "import numpy as np\n",
    "import os\n",
    "import seaborn as sns\n",
    "import matplotlib.pyplot as plt\n",
    "from scipy.stats import pearsonr, spearmanr\n",
    "\n",
    "# -----------------------------\n",
    "# Settings\n",
    "# -----------------------------\n",
    "sc.settings.verbosity = 0\n",
    "sns.set(style=\"whitegrid\")\n",
    "\n",
    "ground_truth_path = \"Data/adata_raw_qc.h5ad\"\n",
    "\n",
    "# Folders for each method\n",
    "imputed_dirs = {\n",
    "    \"SoftImpute\": \"imputed_softimpute\",\n",
    "    \"MAGIC\": \"imputed_h5ad\",\n",
    "    \"KNN\": \"imputed_knn\",\n",
    "    \"Mean\": \"imputed_mean\",\n",
    "    \"GAN\": \"imputed_gan\",\n",
    "    \"Iterative\": \"imputed_iterative\"\n",
    "}\n",
    "\n",
    "# -----------------------------\n",
    "# Load ground truth\n",
    "# -----------------------------\n",
    "# -----------------------------\n",
    "# Load ground truth\n",
    "# -----------------------------\n",
    "print(\" Preprocessing ground truth...\")\n",
    "adata_gt = sc.read_h5ad(ground_truth_path)\n",
    "adata_gt.var_names_make_unique()   # ensure unique gene names\n",
    "adata_gt.X = np.nan_to_num(adata_gt.X, nan=0.0, posinf=0.0, neginf=0.0)\n",
    "\n",
    "...\n",
    "\n",
    "for fname in os.listdir(imputed_dir):\n",
    "    if not fname.endswith(\".h5ad\"):\n",
    "        continue\n",
    "\n",
    "    fpath = os.path.join(imputed_dir, fname)\n",
    "    try:\n",
    "        adata_imp = sc.read_h5ad(fpath)\n",
    "        adata_imp.var_names_make_unique()   # ensure unique names in imputed data\n",
    "        adata_imp.X = np.nan_to_num(adata_imp.X, nan=0.0, posinf=0.0, neginf=0.0)\n",
    "\n",
    "        # Align genes properly\n",
    "        common_genes = adata_gt.var_names.intersection(adata_imp.var_names)\n",
    "\n",
    "\n",
    "# -----------------------------\n",
    "# Evaluate all methods\n",
    "# -----------------------------\n",
    "results = []\n",
    "\n",
    "for method, imputed_dir in imputed_dirs.items():\n",
    "    if not os.path.exists(imputed_dir):\n",
    "        print(f\"Skipping {method}, folder not found: {imputed_dir}\")\n",
    "        continue\n",
    "\n",
    "    for fname in os.listdir(imputed_dir):\n",
    "        if not fname.endswith(\".h5ad\"):\n",
    "            continue\n",
    "\n",
    "        fpath = os.path.join(imputed_dir, fname)\n",
    "        try:\n",
    "            adata_imp = sc.read_h5ad(fpath)\n",
    "            adata_imp.X = np.nan_to_num(adata_imp.X, nan=0.0, posinf=0.0, neginf=0.0)\n",
    "\n",
    "            # -----------------------------\n",
    "            # Align genes properly\n",
    "            # -----------------------------\n",
    "            common_genes = adata_gt.var_names.intersection(adata_imp.var_names)\n",
    "\n",
    "            if len(common_genes) == 0:\n",
    "                print(f\"No common genes for {method} - {fname}. Skipping.\")\n",
    "                continue\n",
    "\n",
    "            # Force same order of genes\n",
    "            adata_gt_sub = adata_gt[:, common_genes].copy()\n",
    "            adata_imp_sub = adata_imp[:, common_genes].copy()\n",
    "\n",
    "            X_gt_sub = adata_gt_sub.X.A if hasattr(adata_gt_sub.X, \"A\") else adata_gt_sub.X\n",
    "            X_imp_sub = adata_imp_sub.X.A if hasattr(adata_imp_sub.X, \"A\") else adata_imp_sub.X\n",
    "\n",
    "            # Debugging: check shape match\n",
    "            if X_gt_sub.shape != X_imp_sub.shape:\n",
    "                print(f\"Shape mismatch for {method} - {fname}: {X_gt_sub.shape} vs {X_imp_sub.shape}\")\n",
    "                continue\n",
    "\n",
    "            # Compute correlation\n",
    "            mean_corr = compute_gene_corr(X_gt_sub, X_imp_sub, adata_gt_sub.var_names)\n",
    "\n",
    "            # Parse metadata (mfXX, runX)\n",
    "            mf, run = None, None\n",
    "            for part in fname.split(\"_\"):\n",
    "                if part.startswith(\"mf\"):\n",
    "                    mf = float(part.replace(\"mf\", \"\").replace(\".h5ad\", \"\")) / 100\n",
    "                if part.startswith(\"run\"):\n",
    "                    run = int(part.replace(\"run\", \"\").replace(\".h5ad\", \"\"))\n",
    "\n",
    "            results.append({\n",
    "                \"file\": fname,\n",
    "                \"method\": method,\n",
    "                \"MeanGeneCorr\": mean_corr,\n",
    "                \"missing_fraction\": mf,\n",
    "                \"run\": run\n",
    "            })\n",
    "\n",
    "            print(f\"{method} - {fname}: Mean corr = {mean_corr:.3f} \"\n",
    "                  f\"(n_genes={len(common_genes)})\")\n",
    "\n",
    "        except Exception as e:\n",
    "            print(f\"Error with {method} - {fname}: {e}\")\n",
    "\n",
    "# -----------------------------\n",
    "# Results → DataFrame\n",
    "# -----------------------------\n",
    "results_df = pd.DataFrame(results)\n",
    "\n",
    "if results_df.empty:\n",
    "    raise ValueError(\"No correlations computed. Check your imputed files and pipeline.\")\n",
    "\n",
    "results_df = results_df.dropna(subset=[\"MeanGeneCorr\", \"missing_fraction\"])\n",
    "results_df[\"missing_fraction\"] = results_df[\"missing_fraction\"].astype(float)\n",
    "\n",
    "# -----------------------------\n",
    "# Plot\n",
    "# -----------------------------\n",
    "plt.figure(figsize=(10, 6))\n",
    "sns.barplot(\n",
    "    data=results_df,\n",
    "    x=\"missing_fraction\",\n",
    "    y=\"MeanGeneCorr\",\n",
    "    hue=\"method\",\n",
    "    errorbar=\"sd\",\n",
    "    capsize=0.1,\n",
    "    palette=\"Set2\"\n",
    ")\n",
    "plt.title(\"Gene-wise Correlation across Missing Fractions (All Methods)\")\n",
    "plt.ylabel(\"Mean Gene-wise Correlation\")\n",
    "plt.xlabel(\"Missing Fraction\")\n",
    "plt.legend(title=\"Method\")\n",
    "plt.show()\n"
   ]
  },
  {
   "cell_type": "code",
   "execution_count": 9,
   "id": "2b43bfc7",
   "metadata": {},
   "outputs": [
    {
     "name": "stdout",
     "output_type": "stream",
     "text": [
      " Preprocessing ground truth...\n"
     ]
    },
    {
     "name": "stderr",
     "output_type": "stream",
     "text": [
      "c:\\Users\\prath\\anaconda-new\\Lib\\site-packages\\anndata\\_core\\anndata.py:1791: UserWarning: Observation names are not unique. To make them unique, call `.obs_names_make_unique`.\n",
      "  utils.warn_names_duplicates(\"obs\")\n",
      "c:\\Users\\prath\\anaconda-new\\Lib\\site-packages\\anndata\\_core\\anndata.py:1793: UserWarning: Variable names are not unique. To make them unique, call `.var_names_make_unique`.\n",
      "  utils.warn_names_duplicates(\"var\")\n"
     ]
    },
    {
     "ename": "ValueError",
     "evalue": "setting an array element with a sequence.",
     "output_type": "error",
     "traceback": [
      "\u001b[1;31m---------------------------------------------------------------------------\u001b[0m",
      "\u001b[1;31mTypeError\u001b[0m                                 Traceback (most recent call last)",
      "\u001b[1;31mTypeError\u001b[0m: float() argument must be a string or a real number, not 'csr_matrix'",
      "\nThe above exception was the direct cause of the following exception:\n",
      "\u001b[1;31mValueError\u001b[0m                                Traceback (most recent call last)",
      "Cell \u001b[1;32mIn[9], line 34\u001b[0m\n\u001b[0;32m     32\u001b[0m adata_gt\u001b[38;5;241m.\u001b[39mvar_names_make_unique()\n\u001b[0;32m     33\u001b[0m adata_gt\u001b[38;5;241m.\u001b[39mobs_names_make_unique()\n\u001b[1;32m---> 34\u001b[0m adata_gt\u001b[38;5;241m.\u001b[39mX \u001b[38;5;241m=\u001b[39m np\u001b[38;5;241m.\u001b[39mnan_to_num(\u001b[43mnp\u001b[49m\u001b[38;5;241;43m.\u001b[39;49m\u001b[43marray\u001b[49m\u001b[43m(\u001b[49m\u001b[43madata_gt\u001b[49m\u001b[38;5;241;43m.\u001b[39;49m\u001b[43mX\u001b[49m\u001b[43m,\u001b[49m\u001b[43m \u001b[49m\u001b[43mdtype\u001b[49m\u001b[38;5;241;43m=\u001b[39;49m\u001b[43mnp\u001b[49m\u001b[38;5;241;43m.\u001b[39;49m\u001b[43mfloat32\u001b[49m\u001b[43m)\u001b[49m,\n\u001b[0;32m     35\u001b[0m                            nan\u001b[38;5;241m=\u001b[39m\u001b[38;5;241m0.0\u001b[39m, posinf\u001b[38;5;241m=\u001b[39m\u001b[38;5;241m0.0\u001b[39m, neginf\u001b[38;5;241m=\u001b[39m\u001b[38;5;241m0.0\u001b[39m)\n\u001b[0;32m     37\u001b[0m \u001b[38;5;66;03m# -----------------------------\u001b[39;00m\n\u001b[0;32m     38\u001b[0m \u001b[38;5;66;03m# Helper: Gene-wise correlation\u001b[39;00m\n\u001b[0;32m     39\u001b[0m \u001b[38;5;66;03m# -----------------------------\u001b[39;00m\n\u001b[0;32m     40\u001b[0m \u001b[38;5;28;01mdef\u001b[39;00m \u001b[38;5;21mcompute_gene_corr\u001b[39m(X_gt, X_imp, gene_names):\n",
      "\u001b[1;31mValueError\u001b[0m: setting an array element with a sequence."
     ]
    }
   ],
   "source": [
    "import scanpy as sc\n",
    "import pandas as pd\n",
    "import numpy as np\n",
    "import os\n",
    "import seaborn as sns\n",
    "import matplotlib.pyplot as plt\n",
    "from scipy.stats import pearsonr, spearmanr\n",
    "\n",
    "# -----------------------------\n",
    "# Settings\n",
    "# -----------------------------\n",
    "sc.settings.verbosity = 0\n",
    "sns.set(style=\"whitegrid\")\n",
    "\n",
    "ground_truth_path = \"Data/adata_raw_qc.h5ad\"\n",
    "\n",
    "# Folders for each method\n",
    "imputed_dirs = {\n",
    "    \"SoftImpute\": \"imputed_softimpute\",\n",
    "    \"MAGIC\": \"imputed_h5ad\",\n",
    "    \"KNN\": \"imputed_knn\",\n",
    "    \"Mean\": \"imputed_mean\",\n",
    "    \"GAN\": \"imputed_gan\",\n",
    "    \"Iterative\": \"imputed_iterative\"\n",
    "}\n",
    "\n",
    "# -----------------------------\n",
    "# Load ground truth\n",
    "# -----------------------------\n",
    "print(\" Preprocessing ground truth...\")\n",
    "adata_gt = sc.read_h5ad(ground_truth_path)\n",
    "adata_gt.var_names_make_unique()\n",
    "adata_gt.obs_names_make_unique()\n",
    "adata_gt.X = np.nan_to_num(np.array(adata_gt.X, dtype=np.float32),\n",
    "                           nan=0.0, posinf=0.0, neginf=0.0)\n",
    "\n",
    "# -----------------------------\n",
    "# Helper: Gene-wise correlation\n",
    "# -----------------------------\n",
    "def compute_gene_corr(X_gt, X_imp, gene_names):\n",
    "    corrs = []\n",
    "    for i, g in enumerate(gene_names):\n",
    "        x = X_gt[:, i]\n",
    "        y = X_imp[:, i]\n",
    "\n",
    "        # Skip constant genes\n",
    "        if np.std(x) < 1e-8 or np.std(y) < 1e-8:\n",
    "            continue\n",
    "\n",
    "        try:\n",
    "            r, _ = pearsonr(x, y)\n",
    "        except Exception:\n",
    "            r, _ = spearmanr(x, y)\n",
    "\n",
    "        if np.isfinite(r):\n",
    "            corrs.append(r)\n",
    "\n",
    "    if len(corrs) == 0:\n",
    "        return np.nan\n",
    "    return np.nanmean(corrs)\n",
    "\n",
    "# -----------------------------\n",
    "# Evaluate all methods\n",
    "# -----------------------------\n",
    "results = []\n",
    "\n",
    "for method, imputed_dir in imputed_dirs.items():\n",
    "    if not os.path.exists(imputed_dir):\n",
    "        print(f\"⚠️ Skipping {method}, folder not found: {imputed_dir}\")\n",
    "        continue\n",
    "\n",
    "    for fname in os.listdir(imputed_dir):\n",
    "        if not fname.endswith(\".h5ad\"):\n",
    "            continue\n",
    "\n",
    "        fpath = os.path.join(imputed_dir, fname)\n",
    "        try:\n",
    "            adata_imp = sc.read_h5ad(fpath)\n",
    "            adata_imp.var_names_make_unique()\n",
    "            adata_imp.obs_names_make_unique()\n",
    "            adata_imp.X = np.nan_to_num(np.array(adata_imp.X, dtype=np.float32),\n",
    "                                        nan=0.0, posinf=0.0, neginf=0.0)\n",
    "\n",
    "            # -----------------------------\n",
    "            # Align genes properly\n",
    "            # -----------------------------\n",
    "            common_genes = adata_gt.var_names.intersection(adata_imp.var_names)\n",
    "\n",
    "            if len(common_genes) == 0:\n",
    "                print(f\"⚠️ No common genes for {method} - {fname}. Skipping.\")\n",
    "                continue\n",
    "\n",
    "            # Force same order of genes\n",
    "            adata_gt_sub = adata_gt[:, common_genes].copy()\n",
    "            adata_imp_sub = adata_imp[:, common_genes].copy()\n",
    "\n",
    "            X_gt_sub = adata_gt_sub.X.A if hasattr(adata_gt_sub.X, \"A\") else adata_gt_sub.X\n",
    "            X_imp_sub = adata_imp_sub.X.A if hasattr(adata_imp_sub.X, \"A\") else adata_imp_sub.X\n",
    "\n",
    "            # Debugging: check shape match\n",
    "            if X_gt_sub.shape != X_imp_sub.shape:\n",
    "                print(f\"⚠️ Shape mismatch for {method} - {fname}: {X_gt_sub.shape} vs {X_imp_sub.shape}\")\n",
    "                continue\n",
    "\n",
    "            # Compute correlation\n",
    "            mean_corr = compute_gene_corr(X_gt_sub, X_imp_sub, adata_gt_sub.var_names)\n",
    "\n",
    "            # Parse metadata (mfXX, runX)\n",
    "            mf, run = None, None\n",
    "            for part in fname.split(\"_\"):\n",
    "                if part.startswith(\"mf\"):\n",
    "                    mf = float(part.replace(\"mf\", \"\").replace(\".h5ad\", \"\")) / 100\n",
    "                if part.startswith(\"run\"):\n",
    "                    run = int(part.replace(\"run\", \"\").replace(\".h5ad\", \"\"))\n",
    "\n",
    "            results.append({\n",
    "                \"file\": fname,\n",
    "                \"method\": method,\n",
    "                \"MeanGeneCorr\": mean_corr,\n",
    "                \"missing_fraction\": mf,\n",
    "                \"run\": run\n",
    "            })\n",
    "\n",
    "            print(f\"{method} - {fname}: Mean corr = {mean_corr:.3f} \"\n",
    "                  f\"(n_genes={len(common_genes)})\")\n",
    "\n",
    "        except Exception as e:\n",
    "            print(f\"❌ Error with {method} - {fname}: {e}\")\n",
    "\n",
    "# -----------------------------\n",
    "# Results → DataFrame\n",
    "# -----------------------------\n",
    "results_df = pd.DataFrame(results)\n",
    "\n",
    "if results_df.empty:\n",
    "    raise ValueError(\"No correlations computed. Check your imputed files and pipeline.\")\n",
    "\n",
    "results_df = results_df.dropna(subset=[\"MeanGeneCorr\", \"missing_fraction\"])\n",
    "results_df[\"missing_fraction\"] = results_df[\"missing_fraction\"].astype(float)\n",
    "\n",
    "# -----------------------------\n",
    "# Plot\n",
    "# -----------------------------\n",
    "plt.figure(figsize=(10, 6))\n",
    "sns.barplot(\n",
    "    data=results_df,\n",
    "    x=\"missing_fraction\",\n",
    "    y=\"MeanGeneCorr\",\n",
    "    hue=\"method\",\n",
    "    errorbar=\"sd\",\n",
    "    capsize=0.1,\n",
    "    palette=\"Set2\"\n",
    ")\n",
    "plt.title(\"Gene-wise Correlation across Missing Fractions (All Methods)\")\n",
    "plt.ylabel(\"Mean Gene-wise Correlation\")\n",
    "plt.xlabel(\"Missing Fraction\")\n",
    "plt.legend(title=\"Method\")\n",
    "plt.show()\n"
   ]
  },
  {
   "cell_type": "code",
   "execution_count": 10,
   "id": "62617d17",
   "metadata": {},
   "outputs": [
    {
     "name": "stdout",
     "output_type": "stream",
     "text": [
      " Preprocessing ground truth...\n"
     ]
    },
    {
     "name": "stderr",
     "output_type": "stream",
     "text": [
      "c:\\Users\\prath\\anaconda-new\\Lib\\site-packages\\anndata\\_core\\anndata.py:1791: UserWarning: Observation names are not unique. To make them unique, call `.obs_names_make_unique`.\n",
      "  utils.warn_names_duplicates(\"obs\")\n",
      "c:\\Users\\prath\\anaconda-new\\Lib\\site-packages\\anndata\\_core\\anndata.py:1793: UserWarning: Variable names are not unique. To make them unique, call `.var_names_make_unique`.\n",
      "  utils.warn_names_duplicates(\"var\")\n"
     ]
    },
    {
     "name": "stdout",
     "output_type": "stream",
     "text": [
      "SoftImpute - adata_softimpute_imputed_mf10_run1.h5ad: Mean corr = 0.905 (n_genes=2000)\n",
      "SoftImpute - adata_softimpute_imputed_mf10_run10.h5ad: Mean corr = 0.910 (n_genes=2000)\n",
      "SoftImpute - adata_softimpute_imputed_mf10_run2.h5ad: Mean corr = 0.911 (n_genes=2000)\n",
      "SoftImpute - adata_softimpute_imputed_mf10_run3.h5ad: Mean corr = 0.911 (n_genes=2000)\n",
      "SoftImpute - adata_softimpute_imputed_mf10_run4.h5ad: Mean corr = 0.908 (n_genes=2000)\n",
      "SoftImpute - adata_softimpute_imputed_mf10_run5.h5ad: Mean corr = 0.909 (n_genes=2000)\n",
      "SoftImpute - adata_softimpute_imputed_mf10_run6.h5ad: Mean corr = 0.910 (n_genes=2000)\n",
      "SoftImpute - adata_softimpute_imputed_mf10_run7.h5ad: Mean corr = 0.914 (n_genes=2000)\n",
      "SoftImpute - adata_softimpute_imputed_mf10_run8.h5ad: Mean corr = 0.913 (n_genes=2000)\n",
      "SoftImpute - adata_softimpute_imputed_mf10_run9.h5ad: Mean corr = 0.913 (n_genes=2000)\n",
      "SoftImpute - adata_softimpute_imputed_mf20_run1.h5ad: Mean corr = 0.858 (n_genes=2000)\n",
      "SoftImpute - adata_softimpute_imputed_mf20_run10.h5ad: Mean corr = 0.861 (n_genes=2000)\n",
      "SoftImpute - adata_softimpute_imputed_mf20_run2.h5ad: Mean corr = 0.858 (n_genes=2000)\n",
      "SoftImpute - adata_softimpute_imputed_mf20_run3.h5ad: Mean corr = 0.861 (n_genes=2000)\n",
      "SoftImpute - adata_softimpute_imputed_mf20_run4.h5ad: Mean corr = 0.860 (n_genes=2000)\n",
      "SoftImpute - adata_softimpute_imputed_mf20_run5.h5ad: Mean corr = 0.860 (n_genes=2000)\n",
      "SoftImpute - adata_softimpute_imputed_mf20_run6.h5ad: Mean corr = 0.858 (n_genes=2000)\n",
      "SoftImpute - adata_softimpute_imputed_mf20_run7.h5ad: Mean corr = 0.859 (n_genes=2000)\n",
      "SoftImpute - adata_softimpute_imputed_mf20_run8.h5ad: Mean corr = 0.857 (n_genes=2000)\n",
      "SoftImpute - adata_softimpute_imputed_mf20_run9.h5ad: Mean corr = 0.856 (n_genes=2000)\n",
      "SoftImpute - adata_softimpute_imputed_mf30_run1.h5ad: Mean corr = 0.799 (n_genes=2000)\n",
      "SoftImpute - adata_softimpute_imputed_mf30_run10.h5ad: Mean corr = 0.798 (n_genes=2000)\n",
      "SoftImpute - adata_softimpute_imputed_mf30_run2.h5ad: Mean corr = 0.802 (n_genes=2000)\n",
      "SoftImpute - adata_softimpute_imputed_mf30_run3.h5ad: Mean corr = 0.807 (n_genes=2000)\n",
      "SoftImpute - adata_softimpute_imputed_mf30_run4.h5ad: Mean corr = 0.805 (n_genes=2000)\n",
      "SoftImpute - adata_softimpute_imputed_mf30_run5.h5ad: Mean corr = 0.796 (n_genes=2000)\n",
      "SoftImpute - adata_softimpute_imputed_mf30_run6.h5ad: Mean corr = 0.805 (n_genes=2000)\n",
      "SoftImpute - adata_softimpute_imputed_mf30_run7.h5ad: Mean corr = 0.804 (n_genes=2000)\n",
      "SoftImpute - adata_softimpute_imputed_mf30_run8.h5ad: Mean corr = 0.802 (n_genes=2000)\n",
      "SoftImpute - adata_softimpute_imputed_mf30_run9.h5ad: Mean corr = 0.806 (n_genes=2000)\n"
     ]
    },
    {
     "name": "stderr",
     "output_type": "stream",
     "text": [
      "c:\\Users\\prath\\anaconda-new\\Lib\\site-packages\\anndata\\_core\\anndata.py:1791: UserWarning: Observation names are not unique. To make them unique, call `.obs_names_make_unique`.\n",
      "  utils.warn_names_duplicates(\"obs\")\n",
      "c:\\Users\\prath\\anaconda-new\\Lib\\site-packages\\anndata\\_core\\anndata.py:1793: UserWarning: Variable names are not unique. To make them unique, call `.var_names_make_unique`.\n",
      "  utils.warn_names_duplicates(\"var\")\n"
     ]
    },
    {
     "name": "stdout",
     "output_type": "stream",
     "text": [
      "MAGIC - adata_magic_imputed_mf10_run1.h5ad: Mean corr = 0.430 (n_genes=2000)\n"
     ]
    },
    {
     "name": "stderr",
     "output_type": "stream",
     "text": [
      "c:\\Users\\prath\\anaconda-new\\Lib\\site-packages\\anndata\\_core\\anndata.py:1791: UserWarning: Observation names are not unique. To make them unique, call `.obs_names_make_unique`.\n",
      "  utils.warn_names_duplicates(\"obs\")\n",
      "c:\\Users\\prath\\anaconda-new\\Lib\\site-packages\\anndata\\_core\\anndata.py:1793: UserWarning: Variable names are not unique. To make them unique, call `.var_names_make_unique`.\n",
      "  utils.warn_names_duplicates(\"var\")\n"
     ]
    },
    {
     "name": "stdout",
     "output_type": "stream",
     "text": [
      "MAGIC - adata_magic_imputed_mf10_run10.h5ad: Mean corr = 0.432 (n_genes=2000)\n"
     ]
    },
    {
     "name": "stderr",
     "output_type": "stream",
     "text": [
      "c:\\Users\\prath\\anaconda-new\\Lib\\site-packages\\anndata\\_core\\anndata.py:1791: UserWarning: Observation names are not unique. To make them unique, call `.obs_names_make_unique`.\n",
      "  utils.warn_names_duplicates(\"obs\")\n",
      "c:\\Users\\prath\\anaconda-new\\Lib\\site-packages\\anndata\\_core\\anndata.py:1793: UserWarning: Variable names are not unique. To make them unique, call `.var_names_make_unique`.\n",
      "  utils.warn_names_duplicates(\"var\")\n"
     ]
    },
    {
     "name": "stdout",
     "output_type": "stream",
     "text": [
      "MAGIC - adata_magic_imputed_mf10_run2.h5ad: Mean corr = 0.432 (n_genes=2000)\n"
     ]
    },
    {
     "name": "stderr",
     "output_type": "stream",
     "text": [
      "c:\\Users\\prath\\anaconda-new\\Lib\\site-packages\\anndata\\_core\\anndata.py:1791: UserWarning: Observation names are not unique. To make them unique, call `.obs_names_make_unique`.\n",
      "  utils.warn_names_duplicates(\"obs\")\n",
      "c:\\Users\\prath\\anaconda-new\\Lib\\site-packages\\anndata\\_core\\anndata.py:1793: UserWarning: Variable names are not unique. To make them unique, call `.var_names_make_unique`.\n",
      "  utils.warn_names_duplicates(\"var\")\n"
     ]
    },
    {
     "name": "stdout",
     "output_type": "stream",
     "text": [
      "MAGIC - adata_magic_imputed_mf10_run3.h5ad: Mean corr = 0.433 (n_genes=2000)\n"
     ]
    },
    {
     "name": "stderr",
     "output_type": "stream",
     "text": [
      "c:\\Users\\prath\\anaconda-new\\Lib\\site-packages\\anndata\\_core\\anndata.py:1791: UserWarning: Observation names are not unique. To make them unique, call `.obs_names_make_unique`.\n",
      "  utils.warn_names_duplicates(\"obs\")\n",
      "c:\\Users\\prath\\anaconda-new\\Lib\\site-packages\\anndata\\_core\\anndata.py:1793: UserWarning: Variable names are not unique. To make them unique, call `.var_names_make_unique`.\n",
      "  utils.warn_names_duplicates(\"var\")\n"
     ]
    },
    {
     "name": "stdout",
     "output_type": "stream",
     "text": [
      "MAGIC - adata_magic_imputed_mf10_run4.h5ad: Mean corr = 0.429 (n_genes=2000)\n"
     ]
    },
    {
     "name": "stderr",
     "output_type": "stream",
     "text": [
      "c:\\Users\\prath\\anaconda-new\\Lib\\site-packages\\anndata\\_core\\anndata.py:1791: UserWarning: Observation names are not unique. To make them unique, call `.obs_names_make_unique`.\n",
      "  utils.warn_names_duplicates(\"obs\")\n",
      "c:\\Users\\prath\\anaconda-new\\Lib\\site-packages\\anndata\\_core\\anndata.py:1793: UserWarning: Variable names are not unique. To make them unique, call `.var_names_make_unique`.\n",
      "  utils.warn_names_duplicates(\"var\")\n"
     ]
    },
    {
     "name": "stdout",
     "output_type": "stream",
     "text": [
      "MAGIC - adata_magic_imputed_mf10_run5.h5ad: Mean corr = 0.431 (n_genes=2000)\n"
     ]
    },
    {
     "name": "stderr",
     "output_type": "stream",
     "text": [
      "c:\\Users\\prath\\anaconda-new\\Lib\\site-packages\\anndata\\_core\\anndata.py:1791: UserWarning: Observation names are not unique. To make them unique, call `.obs_names_make_unique`.\n",
      "  utils.warn_names_duplicates(\"obs\")\n",
      "c:\\Users\\prath\\anaconda-new\\Lib\\site-packages\\anndata\\_core\\anndata.py:1793: UserWarning: Variable names are not unique. To make them unique, call `.var_names_make_unique`.\n",
      "  utils.warn_names_duplicates(\"var\")\n"
     ]
    },
    {
     "name": "stdout",
     "output_type": "stream",
     "text": [
      "MAGIC - adata_magic_imputed_mf10_run6.h5ad: Mean corr = 0.430 (n_genes=2000)\n"
     ]
    },
    {
     "name": "stderr",
     "output_type": "stream",
     "text": [
      "c:\\Users\\prath\\anaconda-new\\Lib\\site-packages\\anndata\\_core\\anndata.py:1791: UserWarning: Observation names are not unique. To make them unique, call `.obs_names_make_unique`.\n",
      "  utils.warn_names_duplicates(\"obs\")\n",
      "c:\\Users\\prath\\anaconda-new\\Lib\\site-packages\\anndata\\_core\\anndata.py:1793: UserWarning: Variable names are not unique. To make them unique, call `.var_names_make_unique`.\n",
      "  utils.warn_names_duplicates(\"var\")\n"
     ]
    },
    {
     "name": "stdout",
     "output_type": "stream",
     "text": [
      "MAGIC - adata_magic_imputed_mf10_run7.h5ad: Mean corr = 0.433 (n_genes=2000)\n"
     ]
    },
    {
     "name": "stderr",
     "output_type": "stream",
     "text": [
      "c:\\Users\\prath\\anaconda-new\\Lib\\site-packages\\anndata\\_core\\anndata.py:1791: UserWarning: Observation names are not unique. To make them unique, call `.obs_names_make_unique`.\n",
      "  utils.warn_names_duplicates(\"obs\")\n",
      "c:\\Users\\prath\\anaconda-new\\Lib\\site-packages\\anndata\\_core\\anndata.py:1793: UserWarning: Variable names are not unique. To make them unique, call `.var_names_make_unique`.\n",
      "  utils.warn_names_duplicates(\"var\")\n"
     ]
    },
    {
     "name": "stdout",
     "output_type": "stream",
     "text": [
      "MAGIC - adata_magic_imputed_mf10_run8.h5ad: Mean corr = 0.431 (n_genes=2000)\n"
     ]
    },
    {
     "name": "stderr",
     "output_type": "stream",
     "text": [
      "c:\\Users\\prath\\anaconda-new\\Lib\\site-packages\\anndata\\_core\\anndata.py:1791: UserWarning: Observation names are not unique. To make them unique, call `.obs_names_make_unique`.\n",
      "  utils.warn_names_duplicates(\"obs\")\n",
      "c:\\Users\\prath\\anaconda-new\\Lib\\site-packages\\anndata\\_core\\anndata.py:1793: UserWarning: Variable names are not unique. To make them unique, call `.var_names_make_unique`.\n",
      "  utils.warn_names_duplicates(\"var\")\n"
     ]
    },
    {
     "name": "stdout",
     "output_type": "stream",
     "text": [
      "MAGIC - adata_magic_imputed_mf10_run9.h5ad: Mean corr = 0.431 (n_genes=2000)\n"
     ]
    },
    {
     "name": "stderr",
     "output_type": "stream",
     "text": [
      "c:\\Users\\prath\\anaconda-new\\Lib\\site-packages\\anndata\\_core\\anndata.py:1791: UserWarning: Observation names are not unique. To make them unique, call `.obs_names_make_unique`.\n",
      "  utils.warn_names_duplicates(\"obs\")\n",
      "c:\\Users\\prath\\anaconda-new\\Lib\\site-packages\\anndata\\_core\\anndata.py:1793: UserWarning: Variable names are not unique. To make them unique, call `.var_names_make_unique`.\n",
      "  utils.warn_names_duplicates(\"var\")\n"
     ]
    },
    {
     "name": "stdout",
     "output_type": "stream",
     "text": [
      "MAGIC - adata_magic_imputed_mf20_run1.h5ad: Mean corr = 0.420 (n_genes=2000)\n"
     ]
    },
    {
     "name": "stderr",
     "output_type": "stream",
     "text": [
      "c:\\Users\\prath\\anaconda-new\\Lib\\site-packages\\anndata\\_core\\anndata.py:1791: UserWarning: Observation names are not unique. To make them unique, call `.obs_names_make_unique`.\n",
      "  utils.warn_names_duplicates(\"obs\")\n",
      "c:\\Users\\prath\\anaconda-new\\Lib\\site-packages\\anndata\\_core\\anndata.py:1793: UserWarning: Variable names are not unique. To make them unique, call `.var_names_make_unique`.\n",
      "  utils.warn_names_duplicates(\"var\")\n"
     ]
    },
    {
     "name": "stdout",
     "output_type": "stream",
     "text": [
      "MAGIC - adata_magic_imputed_mf20_run10.h5ad: Mean corr = 0.419 (n_genes=2000)\n"
     ]
    },
    {
     "name": "stderr",
     "output_type": "stream",
     "text": [
      "c:\\Users\\prath\\anaconda-new\\Lib\\site-packages\\anndata\\_core\\anndata.py:1791: UserWarning: Observation names are not unique. To make them unique, call `.obs_names_make_unique`.\n",
      "  utils.warn_names_duplicates(\"obs\")\n",
      "c:\\Users\\prath\\anaconda-new\\Lib\\site-packages\\anndata\\_core\\anndata.py:1793: UserWarning: Variable names are not unique. To make them unique, call `.var_names_make_unique`.\n",
      "  utils.warn_names_duplicates(\"var\")\n"
     ]
    },
    {
     "name": "stdout",
     "output_type": "stream",
     "text": [
      "MAGIC - adata_magic_imputed_mf20_run2.h5ad: Mean corr = 0.419 (n_genes=2000)\n"
     ]
    },
    {
     "name": "stderr",
     "output_type": "stream",
     "text": [
      "c:\\Users\\prath\\anaconda-new\\Lib\\site-packages\\anndata\\_core\\anndata.py:1791: UserWarning: Observation names are not unique. To make them unique, call `.obs_names_make_unique`.\n",
      "  utils.warn_names_duplicates(\"obs\")\n",
      "c:\\Users\\prath\\anaconda-new\\Lib\\site-packages\\anndata\\_core\\anndata.py:1793: UserWarning: Variable names are not unique. To make them unique, call `.var_names_make_unique`.\n",
      "  utils.warn_names_duplicates(\"var\")\n"
     ]
    },
    {
     "name": "stdout",
     "output_type": "stream",
     "text": [
      "MAGIC - adata_magic_imputed_mf20_run3.h5ad: Mean corr = 0.419 (n_genes=2000)\n"
     ]
    },
    {
     "name": "stderr",
     "output_type": "stream",
     "text": [
      "c:\\Users\\prath\\anaconda-new\\Lib\\site-packages\\anndata\\_core\\anndata.py:1791: UserWarning: Observation names are not unique. To make them unique, call `.obs_names_make_unique`.\n",
      "  utils.warn_names_duplicates(\"obs\")\n",
      "c:\\Users\\prath\\anaconda-new\\Lib\\site-packages\\anndata\\_core\\anndata.py:1793: UserWarning: Variable names are not unique. To make them unique, call `.var_names_make_unique`.\n",
      "  utils.warn_names_duplicates(\"var\")\n"
     ]
    },
    {
     "name": "stdout",
     "output_type": "stream",
     "text": [
      "MAGIC - adata_magic_imputed_mf20_run4.h5ad: Mean corr = 0.419 (n_genes=2000)\n"
     ]
    },
    {
     "name": "stderr",
     "output_type": "stream",
     "text": [
      "c:\\Users\\prath\\anaconda-new\\Lib\\site-packages\\anndata\\_core\\anndata.py:1791: UserWarning: Observation names are not unique. To make them unique, call `.obs_names_make_unique`.\n",
      "  utils.warn_names_duplicates(\"obs\")\n",
      "c:\\Users\\prath\\anaconda-new\\Lib\\site-packages\\anndata\\_core\\anndata.py:1793: UserWarning: Variable names are not unique. To make them unique, call `.var_names_make_unique`.\n",
      "  utils.warn_names_duplicates(\"var\")\n"
     ]
    },
    {
     "name": "stdout",
     "output_type": "stream",
     "text": [
      "MAGIC - adata_magic_imputed_mf20_run5.h5ad: Mean corr = 0.420 (n_genes=2000)\n"
     ]
    },
    {
     "name": "stderr",
     "output_type": "stream",
     "text": [
      "c:\\Users\\prath\\anaconda-new\\Lib\\site-packages\\anndata\\_core\\anndata.py:1791: UserWarning: Observation names are not unique. To make them unique, call `.obs_names_make_unique`.\n",
      "  utils.warn_names_duplicates(\"obs\")\n",
      "c:\\Users\\prath\\anaconda-new\\Lib\\site-packages\\anndata\\_core\\anndata.py:1793: UserWarning: Variable names are not unique. To make them unique, call `.var_names_make_unique`.\n",
      "  utils.warn_names_duplicates(\"var\")\n"
     ]
    },
    {
     "name": "stdout",
     "output_type": "stream",
     "text": [
      "MAGIC - adata_magic_imputed_mf20_run6.h5ad: Mean corr = 0.418 (n_genes=2000)\n"
     ]
    },
    {
     "name": "stderr",
     "output_type": "stream",
     "text": [
      "c:\\Users\\prath\\anaconda-new\\Lib\\site-packages\\anndata\\_core\\anndata.py:1791: UserWarning: Observation names are not unique. To make them unique, call `.obs_names_make_unique`.\n",
      "  utils.warn_names_duplicates(\"obs\")\n",
      "c:\\Users\\prath\\anaconda-new\\Lib\\site-packages\\anndata\\_core\\anndata.py:1793: UserWarning: Variable names are not unique. To make them unique, call `.var_names_make_unique`.\n",
      "  utils.warn_names_duplicates(\"var\")\n"
     ]
    },
    {
     "name": "stdout",
     "output_type": "stream",
     "text": [
      "MAGIC - adata_magic_imputed_mf20_run7.h5ad: Mean corr = 0.420 (n_genes=2000)\n"
     ]
    },
    {
     "name": "stderr",
     "output_type": "stream",
     "text": [
      "c:\\Users\\prath\\anaconda-new\\Lib\\site-packages\\anndata\\_core\\anndata.py:1791: UserWarning: Observation names are not unique. To make them unique, call `.obs_names_make_unique`.\n",
      "  utils.warn_names_duplicates(\"obs\")\n",
      "c:\\Users\\prath\\anaconda-new\\Lib\\site-packages\\anndata\\_core\\anndata.py:1793: UserWarning: Variable names are not unique. To make them unique, call `.var_names_make_unique`.\n",
      "  utils.warn_names_duplicates(\"var\")\n"
     ]
    },
    {
     "name": "stdout",
     "output_type": "stream",
     "text": [
      "MAGIC - adata_magic_imputed_mf20_run8.h5ad: Mean corr = 0.418 (n_genes=2000)\n"
     ]
    },
    {
     "name": "stderr",
     "output_type": "stream",
     "text": [
      "c:\\Users\\prath\\anaconda-new\\Lib\\site-packages\\anndata\\_core\\anndata.py:1791: UserWarning: Observation names are not unique. To make them unique, call `.obs_names_make_unique`.\n",
      "  utils.warn_names_duplicates(\"obs\")\n",
      "c:\\Users\\prath\\anaconda-new\\Lib\\site-packages\\anndata\\_core\\anndata.py:1793: UserWarning: Variable names are not unique. To make them unique, call `.var_names_make_unique`.\n",
      "  utils.warn_names_duplicates(\"var\")\n"
     ]
    },
    {
     "name": "stdout",
     "output_type": "stream",
     "text": [
      "MAGIC - adata_magic_imputed_mf20_run9.h5ad: Mean corr = 0.417 (n_genes=2000)\n"
     ]
    },
    {
     "name": "stderr",
     "output_type": "stream",
     "text": [
      "c:\\Users\\prath\\anaconda-new\\Lib\\site-packages\\anndata\\_core\\anndata.py:1791: UserWarning: Observation names are not unique. To make them unique, call `.obs_names_make_unique`.\n",
      "  utils.warn_names_duplicates(\"obs\")\n",
      "c:\\Users\\prath\\anaconda-new\\Lib\\site-packages\\anndata\\_core\\anndata.py:1793: UserWarning: Variable names are not unique. To make them unique, call `.var_names_make_unique`.\n",
      "  utils.warn_names_duplicates(\"var\")\n"
     ]
    },
    {
     "name": "stdout",
     "output_type": "stream",
     "text": [
      "MAGIC - adata_magic_imputed_mf30_run1.h5ad: Mean corr = 0.401 (n_genes=2000)\n"
     ]
    },
    {
     "name": "stderr",
     "output_type": "stream",
     "text": [
      "c:\\Users\\prath\\anaconda-new\\Lib\\site-packages\\anndata\\_core\\anndata.py:1791: UserWarning: Observation names are not unique. To make them unique, call `.obs_names_make_unique`.\n",
      "  utils.warn_names_duplicates(\"obs\")\n",
      "c:\\Users\\prath\\anaconda-new\\Lib\\site-packages\\anndata\\_core\\anndata.py:1793: UserWarning: Variable names are not unique. To make them unique, call `.var_names_make_unique`.\n",
      "  utils.warn_names_duplicates(\"var\")\n"
     ]
    },
    {
     "name": "stdout",
     "output_type": "stream",
     "text": [
      "MAGIC - adata_magic_imputed_mf30_run10.h5ad: Mean corr = 0.398 (n_genes=2000)\n"
     ]
    },
    {
     "name": "stderr",
     "output_type": "stream",
     "text": [
      "c:\\Users\\prath\\anaconda-new\\Lib\\site-packages\\anndata\\_core\\anndata.py:1791: UserWarning: Observation names are not unique. To make them unique, call `.obs_names_make_unique`.\n",
      "  utils.warn_names_duplicates(\"obs\")\n",
      "c:\\Users\\prath\\anaconda-new\\Lib\\site-packages\\anndata\\_core\\anndata.py:1793: UserWarning: Variable names are not unique. To make them unique, call `.var_names_make_unique`.\n",
      "  utils.warn_names_duplicates(\"var\")\n"
     ]
    },
    {
     "name": "stdout",
     "output_type": "stream",
     "text": [
      "MAGIC - adata_magic_imputed_mf30_run2.h5ad: Mean corr = 0.403 (n_genes=2000)\n"
     ]
    },
    {
     "name": "stderr",
     "output_type": "stream",
     "text": [
      "c:\\Users\\prath\\anaconda-new\\Lib\\site-packages\\anndata\\_core\\anndata.py:1791: UserWarning: Observation names are not unique. To make them unique, call `.obs_names_make_unique`.\n",
      "  utils.warn_names_duplicates(\"obs\")\n",
      "c:\\Users\\prath\\anaconda-new\\Lib\\site-packages\\anndata\\_core\\anndata.py:1793: UserWarning: Variable names are not unique. To make them unique, call `.var_names_make_unique`.\n",
      "  utils.warn_names_duplicates(\"var\")\n"
     ]
    },
    {
     "name": "stdout",
     "output_type": "stream",
     "text": [
      "MAGIC - adata_magic_imputed_mf30_run3.h5ad: Mean corr = 0.404 (n_genes=2000)\n"
     ]
    },
    {
     "name": "stderr",
     "output_type": "stream",
     "text": [
      "c:\\Users\\prath\\anaconda-new\\Lib\\site-packages\\anndata\\_core\\anndata.py:1791: UserWarning: Observation names are not unique. To make them unique, call `.obs_names_make_unique`.\n",
      "  utils.warn_names_duplicates(\"obs\")\n",
      "c:\\Users\\prath\\anaconda-new\\Lib\\site-packages\\anndata\\_core\\anndata.py:1793: UserWarning: Variable names are not unique. To make them unique, call `.var_names_make_unique`.\n",
      "  utils.warn_names_duplicates(\"var\")\n"
     ]
    },
    {
     "name": "stdout",
     "output_type": "stream",
     "text": [
      "MAGIC - adata_magic_imputed_mf30_run4.h5ad: Mean corr = 0.405 (n_genes=2000)\n"
     ]
    },
    {
     "name": "stderr",
     "output_type": "stream",
     "text": [
      "c:\\Users\\prath\\anaconda-new\\Lib\\site-packages\\anndata\\_core\\anndata.py:1791: UserWarning: Observation names are not unique. To make them unique, call `.obs_names_make_unique`.\n",
      "  utils.warn_names_duplicates(\"obs\")\n",
      "c:\\Users\\prath\\anaconda-new\\Lib\\site-packages\\anndata\\_core\\anndata.py:1793: UserWarning: Variable names are not unique. To make them unique, call `.var_names_make_unique`.\n",
      "  utils.warn_names_duplicates(\"var\")\n"
     ]
    },
    {
     "name": "stdout",
     "output_type": "stream",
     "text": [
      "MAGIC - adata_magic_imputed_mf30_run5.h5ad: Mean corr = 0.401 (n_genes=2000)\n"
     ]
    },
    {
     "name": "stderr",
     "output_type": "stream",
     "text": [
      "c:\\Users\\prath\\anaconda-new\\Lib\\site-packages\\anndata\\_core\\anndata.py:1791: UserWarning: Observation names are not unique. To make them unique, call `.obs_names_make_unique`.\n",
      "  utils.warn_names_duplicates(\"obs\")\n",
      "c:\\Users\\prath\\anaconda-new\\Lib\\site-packages\\anndata\\_core\\anndata.py:1793: UserWarning: Variable names are not unique. To make them unique, call `.var_names_make_unique`.\n",
      "  utils.warn_names_duplicates(\"var\")\n"
     ]
    },
    {
     "name": "stdout",
     "output_type": "stream",
     "text": [
      "MAGIC - adata_magic_imputed_mf30_run6.h5ad: Mean corr = 0.404 (n_genes=2000)\n"
     ]
    },
    {
     "name": "stderr",
     "output_type": "stream",
     "text": [
      "c:\\Users\\prath\\anaconda-new\\Lib\\site-packages\\anndata\\_core\\anndata.py:1791: UserWarning: Observation names are not unique. To make them unique, call `.obs_names_make_unique`.\n",
      "  utils.warn_names_duplicates(\"obs\")\n",
      "c:\\Users\\prath\\anaconda-new\\Lib\\site-packages\\anndata\\_core\\anndata.py:1793: UserWarning: Variable names are not unique. To make them unique, call `.var_names_make_unique`.\n",
      "  utils.warn_names_duplicates(\"var\")\n"
     ]
    },
    {
     "name": "stdout",
     "output_type": "stream",
     "text": [
      "MAGIC - adata_magic_imputed_mf30_run7.h5ad: Mean corr = 0.402 (n_genes=2000)\n"
     ]
    },
    {
     "name": "stderr",
     "output_type": "stream",
     "text": [
      "c:\\Users\\prath\\anaconda-new\\Lib\\site-packages\\anndata\\_core\\anndata.py:1791: UserWarning: Observation names are not unique. To make them unique, call `.obs_names_make_unique`.\n",
      "  utils.warn_names_duplicates(\"obs\")\n",
      "c:\\Users\\prath\\anaconda-new\\Lib\\site-packages\\anndata\\_core\\anndata.py:1793: UserWarning: Variable names are not unique. To make them unique, call `.var_names_make_unique`.\n",
      "  utils.warn_names_duplicates(\"var\")\n"
     ]
    },
    {
     "name": "stdout",
     "output_type": "stream",
     "text": [
      "MAGIC - adata_magic_imputed_mf30_run8.h5ad: Mean corr = 0.403 (n_genes=2000)\n"
     ]
    },
    {
     "name": "stderr",
     "output_type": "stream",
     "text": [
      "c:\\Users\\prath\\anaconda-new\\Lib\\site-packages\\anndata\\_core\\anndata.py:1791: UserWarning: Observation names are not unique. To make them unique, call `.obs_names_make_unique`.\n",
      "  utils.warn_names_duplicates(\"obs\")\n",
      "c:\\Users\\prath\\anaconda-new\\Lib\\site-packages\\anndata\\_core\\anndata.py:1793: UserWarning: Variable names are not unique. To make them unique, call `.var_names_make_unique`.\n",
      "  utils.warn_names_duplicates(\"var\")\n"
     ]
    },
    {
     "name": "stdout",
     "output_type": "stream",
     "text": [
      "MAGIC - adata_magic_imputed_mf30_run9.h5ad: Mean corr = 0.402 (n_genes=2000)\n"
     ]
    },
    {
     "name": "stderr",
     "output_type": "stream",
     "text": [
      "C:\\Users\\prath\\AppData\\Local\\Temp\\ipykernel_18364\\3413768475.py:62: ConstantInputWarning: An input array is constant; the correlation coefficient is not defined.\n",
      "  r, _ = pearsonr(x, y)\n"
     ]
    },
    {
     "name": "stdout",
     "output_type": "stream",
     "text": [
      "KNN - adata_knn_imputed_mf10_run1.h5ad: Mean corr = 0.861 (n_genes=2000)\n"
     ]
    },
    {
     "name": "stderr",
     "output_type": "stream",
     "text": [
      "C:\\Users\\prath\\AppData\\Local\\Temp\\ipykernel_18364\\3413768475.py:62: ConstantInputWarning: An input array is constant; the correlation coefficient is not defined.\n",
      "  r, _ = pearsonr(x, y)\n"
     ]
    },
    {
     "name": "stdout",
     "output_type": "stream",
     "text": [
      "KNN - adata_knn_imputed_mf10_run10.h5ad: Mean corr = 0.867 (n_genes=2000)\n"
     ]
    },
    {
     "name": "stderr",
     "output_type": "stream",
     "text": [
      "C:\\Users\\prath\\AppData\\Local\\Temp\\ipykernel_18364\\3413768475.py:62: ConstantInputWarning: An input array is constant; the correlation coefficient is not defined.\n",
      "  r, _ = pearsonr(x, y)\n"
     ]
    },
    {
     "name": "stdout",
     "output_type": "stream",
     "text": [
      "KNN - adata_knn_imputed_mf10_run2.h5ad: Mean corr = 0.865 (n_genes=2000)\n"
     ]
    },
    {
     "name": "stderr",
     "output_type": "stream",
     "text": [
      "C:\\Users\\prath\\AppData\\Local\\Temp\\ipykernel_18364\\3413768475.py:62: ConstantInputWarning: An input array is constant; the correlation coefficient is not defined.\n",
      "  r, _ = pearsonr(x, y)\n"
     ]
    },
    {
     "name": "stdout",
     "output_type": "stream",
     "text": [
      "KNN - adata_knn_imputed_mf10_run3.h5ad: Mean corr = 0.864 (n_genes=2000)\n"
     ]
    },
    {
     "name": "stderr",
     "output_type": "stream",
     "text": [
      "C:\\Users\\prath\\AppData\\Local\\Temp\\ipykernel_18364\\3413768475.py:62: ConstantInputWarning: An input array is constant; the correlation coefficient is not defined.\n",
      "  r, _ = pearsonr(x, y)\n"
     ]
    },
    {
     "name": "stdout",
     "output_type": "stream",
     "text": [
      "KNN - adata_knn_imputed_mf10_run4.h5ad: Mean corr = 0.862 (n_genes=2000)\n"
     ]
    },
    {
     "name": "stderr",
     "output_type": "stream",
     "text": [
      "C:\\Users\\prath\\AppData\\Local\\Temp\\ipykernel_18364\\3413768475.py:62: ConstantInputWarning: An input array is constant; the correlation coefficient is not defined.\n",
      "  r, _ = pearsonr(x, y)\n"
     ]
    },
    {
     "name": "stdout",
     "output_type": "stream",
     "text": [
      "KNN - adata_knn_imputed_mf10_run5.h5ad: Mean corr = 0.863 (n_genes=2000)\n"
     ]
    },
    {
     "name": "stderr",
     "output_type": "stream",
     "text": [
      "C:\\Users\\prath\\AppData\\Local\\Temp\\ipykernel_18364\\3413768475.py:62: ConstantInputWarning: An input array is constant; the correlation coefficient is not defined.\n",
      "  r, _ = pearsonr(x, y)\n"
     ]
    },
    {
     "name": "stdout",
     "output_type": "stream",
     "text": [
      "KNN - adata_knn_imputed_mf10_run6.h5ad: Mean corr = 0.865 (n_genes=2000)\n"
     ]
    },
    {
     "name": "stderr",
     "output_type": "stream",
     "text": [
      "C:\\Users\\prath\\AppData\\Local\\Temp\\ipykernel_18364\\3413768475.py:62: ConstantInputWarning: An input array is constant; the correlation coefficient is not defined.\n",
      "  r, _ = pearsonr(x, y)\n"
     ]
    },
    {
     "name": "stdout",
     "output_type": "stream",
     "text": [
      "KNN - adata_knn_imputed_mf10_run7.h5ad: Mean corr = 0.868 (n_genes=2000)\n"
     ]
    },
    {
     "name": "stderr",
     "output_type": "stream",
     "text": [
      "C:\\Users\\prath\\AppData\\Local\\Temp\\ipykernel_18364\\3413768475.py:62: ConstantInputWarning: An input array is constant; the correlation coefficient is not defined.\n",
      "  r, _ = pearsonr(x, y)\n"
     ]
    },
    {
     "name": "stdout",
     "output_type": "stream",
     "text": [
      "KNN - adata_knn_imputed_mf10_run8.h5ad: Mean corr = 0.870 (n_genes=2000)\n"
     ]
    },
    {
     "name": "stderr",
     "output_type": "stream",
     "text": [
      "C:\\Users\\prath\\AppData\\Local\\Temp\\ipykernel_18364\\3413768475.py:62: ConstantInputWarning: An input array is constant; the correlation coefficient is not defined.\n",
      "  r, _ = pearsonr(x, y)\n"
     ]
    },
    {
     "name": "stdout",
     "output_type": "stream",
     "text": [
      "KNN - adata_knn_imputed_mf10_run9.h5ad: Mean corr = 0.869 (n_genes=2000)\n"
     ]
    },
    {
     "name": "stderr",
     "output_type": "stream",
     "text": [
      "C:\\Users\\prath\\AppData\\Local\\Temp\\ipykernel_18364\\3413768475.py:62: ConstantInputWarning: An input array is constant; the correlation coefficient is not defined.\n",
      "  r, _ = pearsonr(x, y)\n"
     ]
    },
    {
     "name": "stdout",
     "output_type": "stream",
     "text": [
      "KNN - adata_knn_imputed_mf20_run1.h5ad: Mean corr = 0.814 (n_genes=2000)\n"
     ]
    },
    {
     "name": "stderr",
     "output_type": "stream",
     "text": [
      "C:\\Users\\prath\\AppData\\Local\\Temp\\ipykernel_18364\\3413768475.py:62: ConstantInputWarning: An input array is constant; the correlation coefficient is not defined.\n",
      "  r, _ = pearsonr(x, y)\n"
     ]
    },
    {
     "name": "stdout",
     "output_type": "stream",
     "text": [
      "KNN - adata_knn_imputed_mf20_run10.h5ad: Mean corr = 0.816 (n_genes=2000)\n"
     ]
    },
    {
     "name": "stderr",
     "output_type": "stream",
     "text": [
      "C:\\Users\\prath\\AppData\\Local\\Temp\\ipykernel_18364\\3413768475.py:62: ConstantInputWarning: An input array is constant; the correlation coefficient is not defined.\n",
      "  r, _ = pearsonr(x, y)\n"
     ]
    },
    {
     "name": "stdout",
     "output_type": "stream",
     "text": [
      "KNN - adata_knn_imputed_mf20_run2.h5ad: Mean corr = 0.812 (n_genes=2000)\n"
     ]
    },
    {
     "name": "stderr",
     "output_type": "stream",
     "text": [
      "C:\\Users\\prath\\AppData\\Local\\Temp\\ipykernel_18364\\3413768475.py:62: ConstantInputWarning: An input array is constant; the correlation coefficient is not defined.\n",
      "  r, _ = pearsonr(x, y)\n"
     ]
    },
    {
     "name": "stdout",
     "output_type": "stream",
     "text": [
      "KNN - adata_knn_imputed_mf20_run3.h5ad: Mean corr = 0.815 (n_genes=2000)\n"
     ]
    },
    {
     "name": "stderr",
     "output_type": "stream",
     "text": [
      "C:\\Users\\prath\\AppData\\Local\\Temp\\ipykernel_18364\\3413768475.py:62: ConstantInputWarning: An input array is constant; the correlation coefficient is not defined.\n",
      "  r, _ = pearsonr(x, y)\n"
     ]
    },
    {
     "name": "stdout",
     "output_type": "stream",
     "text": [
      "KNN - adata_knn_imputed_mf20_run4.h5ad: Mean corr = 0.812 (n_genes=2000)\n"
     ]
    },
    {
     "name": "stderr",
     "output_type": "stream",
     "text": [
      "C:\\Users\\prath\\AppData\\Local\\Temp\\ipykernel_18364\\3413768475.py:62: ConstantInputWarning: An input array is constant; the correlation coefficient is not defined.\n",
      "  r, _ = pearsonr(x, y)\n"
     ]
    },
    {
     "name": "stdout",
     "output_type": "stream",
     "text": [
      "KNN - adata_knn_imputed_mf20_run5.h5ad: Mean corr = 0.814 (n_genes=2000)\n"
     ]
    },
    {
     "name": "stderr",
     "output_type": "stream",
     "text": [
      "C:\\Users\\prath\\AppData\\Local\\Temp\\ipykernel_18364\\3413768475.py:62: ConstantInputWarning: An input array is constant; the correlation coefficient is not defined.\n",
      "  r, _ = pearsonr(x, y)\n"
     ]
    },
    {
     "name": "stdout",
     "output_type": "stream",
     "text": [
      "KNN - adata_knn_imputed_mf20_run6.h5ad: Mean corr = 0.812 (n_genes=2000)\n"
     ]
    },
    {
     "name": "stderr",
     "output_type": "stream",
     "text": [
      "C:\\Users\\prath\\AppData\\Local\\Temp\\ipykernel_18364\\3413768475.py:62: ConstantInputWarning: An input array is constant; the correlation coefficient is not defined.\n",
      "  r, _ = pearsonr(x, y)\n"
     ]
    },
    {
     "name": "stdout",
     "output_type": "stream",
     "text": [
      "KNN - adata_knn_imputed_mf20_run7.h5ad: Mean corr = 0.813 (n_genes=2000)\n"
     ]
    },
    {
     "name": "stderr",
     "output_type": "stream",
     "text": [
      "C:\\Users\\prath\\AppData\\Local\\Temp\\ipykernel_18364\\3413768475.py:62: ConstantInputWarning: An input array is constant; the correlation coefficient is not defined.\n",
      "  r, _ = pearsonr(x, y)\n"
     ]
    },
    {
     "name": "stdout",
     "output_type": "stream",
     "text": [
      "KNN - adata_knn_imputed_mf20_run8.h5ad: Mean corr = 0.811 (n_genes=2000)\n"
     ]
    },
    {
     "name": "stderr",
     "output_type": "stream",
     "text": [
      "C:\\Users\\prath\\AppData\\Local\\Temp\\ipykernel_18364\\3413768475.py:62: ConstantInputWarning: An input array is constant; the correlation coefficient is not defined.\n",
      "  r, _ = pearsonr(x, y)\n"
     ]
    },
    {
     "name": "stdout",
     "output_type": "stream",
     "text": [
      "KNN - adata_knn_imputed_mf20_run9.h5ad: Mean corr = 0.810 (n_genes=2000)\n",
      "KNN - adata_knn_imputed_mf30_run1.h5ad: Mean corr = 0.754 (n_genes=2000)\n",
      "KNN - adata_knn_imputed_mf30_run10.h5ad: Mean corr = 0.753 (n_genes=2000)\n",
      "KNN - adata_knn_imputed_mf30_run2.h5ad: Mean corr = 0.755 (n_genes=2000)\n"
     ]
    },
    {
     "name": "stderr",
     "output_type": "stream",
     "text": [
      "C:\\Users\\prath\\AppData\\Local\\Temp\\ipykernel_18364\\3413768475.py:62: ConstantInputWarning: An input array is constant; the correlation coefficient is not defined.\n",
      "  r, _ = pearsonr(x, y)\n"
     ]
    },
    {
     "name": "stdout",
     "output_type": "stream",
     "text": [
      "KNN - adata_knn_imputed_mf30_run3.h5ad: Mean corr = 0.761 (n_genes=2000)\n"
     ]
    },
    {
     "name": "stderr",
     "output_type": "stream",
     "text": [
      "C:\\Users\\prath\\AppData\\Local\\Temp\\ipykernel_18364\\3413768475.py:62: ConstantInputWarning: An input array is constant; the correlation coefficient is not defined.\n",
      "  r, _ = pearsonr(x, y)\n"
     ]
    },
    {
     "name": "stdout",
     "output_type": "stream",
     "text": [
      "KNN - adata_knn_imputed_mf30_run4.h5ad: Mean corr = 0.759 (n_genes=2000)\n",
      "KNN - adata_knn_imputed_mf30_run5.h5ad: Mean corr = 0.750 (n_genes=2000)\n",
      "KNN - adata_knn_imputed_mf30_run6.h5ad: Mean corr = 0.758 (n_genes=2000)\n",
      "KNN - adata_knn_imputed_mf30_run7.h5ad: Mean corr = 0.758 (n_genes=2000)\n",
      "KNN - adata_knn_imputed_mf30_run8.h5ad: Mean corr = 0.756 (n_genes=2000)\n",
      "KNN - adata_knn_imputed_mf30_run9.h5ad: Mean corr = 0.760 (n_genes=2000)\n"
     ]
    },
    {
     "name": "stderr",
     "output_type": "stream",
     "text": [
      "c:\\Users\\prath\\anaconda-new\\Lib\\site-packages\\anndata\\_core\\anndata.py:1791: UserWarning: Observation names are not unique. To make them unique, call `.obs_names_make_unique`.\n",
      "  utils.warn_names_duplicates(\"obs\")\n",
      "c:\\Users\\prath\\anaconda-new\\Lib\\site-packages\\anndata\\_core\\anndata.py:1793: UserWarning: Variable names are not unique. To make them unique, call `.var_names_make_unique`.\n",
      "  utils.warn_names_duplicates(\"var\")\n",
      "C:\\Users\\prath\\AppData\\Local\\Temp\\ipykernel_18364\\3413768475.py:62: ConstantInputWarning: An input array is constant; the correlation coefficient is not defined.\n",
      "  r, _ = pearsonr(x, y)\n"
     ]
    },
    {
     "name": "stdout",
     "output_type": "stream",
     "text": [
      "Mean - adata_mean_imputed_mf10_run1.h5ad: Mean corr = 0.440 (n_genes=2000)\n"
     ]
    },
    {
     "name": "stderr",
     "output_type": "stream",
     "text": [
      "c:\\Users\\prath\\anaconda-new\\Lib\\site-packages\\anndata\\_core\\anndata.py:1791: UserWarning: Observation names are not unique. To make them unique, call `.obs_names_make_unique`.\n",
      "  utils.warn_names_duplicates(\"obs\")\n",
      "c:\\Users\\prath\\anaconda-new\\Lib\\site-packages\\anndata\\_core\\anndata.py:1793: UserWarning: Variable names are not unique. To make them unique, call `.var_names_make_unique`.\n",
      "  utils.warn_names_duplicates(\"var\")\n",
      "C:\\Users\\prath\\AppData\\Local\\Temp\\ipykernel_18364\\3413768475.py:62: ConstantInputWarning: An input array is constant; the correlation coefficient is not defined.\n",
      "  r, _ = pearsonr(x, y)\n",
      "c:\\Users\\prath\\anaconda-new\\Lib\\site-packages\\numpy\\core\\_methods.py:176: RuntimeWarning: overflow encountered in multiply\n",
      "  x = um.multiply(x, x, out=x)\n"
     ]
    },
    {
     "name": "stdout",
     "output_type": "stream",
     "text": [
      "Mean - adata_mean_imputed_mf10_run10.h5ad: Mean corr = 0.442 (n_genes=2000)\n"
     ]
    },
    {
     "name": "stderr",
     "output_type": "stream",
     "text": [
      "c:\\Users\\prath\\anaconda-new\\Lib\\site-packages\\anndata\\_core\\anndata.py:1791: UserWarning: Observation names are not unique. To make them unique, call `.obs_names_make_unique`.\n",
      "  utils.warn_names_duplicates(\"obs\")\n",
      "c:\\Users\\prath\\anaconda-new\\Lib\\site-packages\\anndata\\_core\\anndata.py:1793: UserWarning: Variable names are not unique. To make them unique, call `.var_names_make_unique`.\n",
      "  utils.warn_names_duplicates(\"var\")\n",
      "C:\\Users\\prath\\AppData\\Local\\Temp\\ipykernel_18364\\3413768475.py:62: ConstantInputWarning: An input array is constant; the correlation coefficient is not defined.\n",
      "  r, _ = pearsonr(x, y)\n"
     ]
    },
    {
     "name": "stdout",
     "output_type": "stream",
     "text": [
      "Mean - adata_mean_imputed_mf10_run2.h5ad: Mean corr = 0.442 (n_genes=2000)\n"
     ]
    },
    {
     "name": "stderr",
     "output_type": "stream",
     "text": [
      "c:\\Users\\prath\\anaconda-new\\Lib\\site-packages\\anndata\\_core\\anndata.py:1791: UserWarning: Observation names are not unique. To make them unique, call `.obs_names_make_unique`.\n",
      "  utils.warn_names_duplicates(\"obs\")\n",
      "c:\\Users\\prath\\anaconda-new\\Lib\\site-packages\\anndata\\_core\\anndata.py:1793: UserWarning: Variable names are not unique. To make them unique, call `.var_names_make_unique`.\n",
      "  utils.warn_names_duplicates(\"var\")\n",
      "C:\\Users\\prath\\AppData\\Local\\Temp\\ipykernel_18364\\3413768475.py:62: ConstantInputWarning: An input array is constant; the correlation coefficient is not defined.\n",
      "  r, _ = pearsonr(x, y)\n"
     ]
    },
    {
     "name": "stdout",
     "output_type": "stream",
     "text": [
      "Mean - adata_mean_imputed_mf10_run3.h5ad: Mean corr = 0.443 (n_genes=2000)\n"
     ]
    },
    {
     "name": "stderr",
     "output_type": "stream",
     "text": [
      "c:\\Users\\prath\\anaconda-new\\Lib\\site-packages\\anndata\\_core\\anndata.py:1791: UserWarning: Observation names are not unique. To make them unique, call `.obs_names_make_unique`.\n",
      "  utils.warn_names_duplicates(\"obs\")\n",
      "c:\\Users\\prath\\anaconda-new\\Lib\\site-packages\\anndata\\_core\\anndata.py:1793: UserWarning: Variable names are not unique. To make them unique, call `.var_names_make_unique`.\n",
      "  utils.warn_names_duplicates(\"var\")\n",
      "C:\\Users\\prath\\AppData\\Local\\Temp\\ipykernel_18364\\3413768475.py:62: ConstantInputWarning: An input array is constant; the correlation coefficient is not defined.\n",
      "  r, _ = pearsonr(x, y)\n"
     ]
    },
    {
     "name": "stdout",
     "output_type": "stream",
     "text": [
      "Mean - adata_mean_imputed_mf10_run4.h5ad: Mean corr = 0.441 (n_genes=2000)\n"
     ]
    },
    {
     "name": "stderr",
     "output_type": "stream",
     "text": [
      "c:\\Users\\prath\\anaconda-new\\Lib\\site-packages\\anndata\\_core\\anndata.py:1791: UserWarning: Observation names are not unique. To make them unique, call `.obs_names_make_unique`.\n",
      "  utils.warn_names_duplicates(\"obs\")\n",
      "c:\\Users\\prath\\anaconda-new\\Lib\\site-packages\\anndata\\_core\\anndata.py:1793: UserWarning: Variable names are not unique. To make them unique, call `.var_names_make_unique`.\n",
      "  utils.warn_names_duplicates(\"var\")\n",
      "C:\\Users\\prath\\AppData\\Local\\Temp\\ipykernel_18364\\3413768475.py:62: ConstantInputWarning: An input array is constant; the correlation coefficient is not defined.\n",
      "  r, _ = pearsonr(x, y)\n"
     ]
    },
    {
     "name": "stdout",
     "output_type": "stream",
     "text": [
      "Mean - adata_mean_imputed_mf10_run5.h5ad: Mean corr = 0.442 (n_genes=2000)\n"
     ]
    },
    {
     "name": "stderr",
     "output_type": "stream",
     "text": [
      "c:\\Users\\prath\\anaconda-new\\Lib\\site-packages\\anndata\\_core\\anndata.py:1791: UserWarning: Observation names are not unique. To make them unique, call `.obs_names_make_unique`.\n",
      "  utils.warn_names_duplicates(\"obs\")\n",
      "c:\\Users\\prath\\anaconda-new\\Lib\\site-packages\\anndata\\_core\\anndata.py:1793: UserWarning: Variable names are not unique. To make them unique, call `.var_names_make_unique`.\n",
      "  utils.warn_names_duplicates(\"var\")\n",
      "C:\\Users\\prath\\AppData\\Local\\Temp\\ipykernel_18364\\3413768475.py:62: ConstantInputWarning: An input array is constant; the correlation coefficient is not defined.\n",
      "  r, _ = pearsonr(x, y)\n"
     ]
    },
    {
     "name": "stdout",
     "output_type": "stream",
     "text": [
      "Mean - adata_mean_imputed_mf10_run6.h5ad: Mean corr = 0.442 (n_genes=2000)\n"
     ]
    },
    {
     "name": "stderr",
     "output_type": "stream",
     "text": [
      "c:\\Users\\prath\\anaconda-new\\Lib\\site-packages\\anndata\\_core\\anndata.py:1791: UserWarning: Observation names are not unique. To make them unique, call `.obs_names_make_unique`.\n",
      "  utils.warn_names_duplicates(\"obs\")\n",
      "c:\\Users\\prath\\anaconda-new\\Lib\\site-packages\\anndata\\_core\\anndata.py:1793: UserWarning: Variable names are not unique. To make them unique, call `.var_names_make_unique`.\n",
      "  utils.warn_names_duplicates(\"var\")\n",
      "C:\\Users\\prath\\AppData\\Local\\Temp\\ipykernel_18364\\3413768475.py:62: ConstantInputWarning: An input array is constant; the correlation coefficient is not defined.\n",
      "  r, _ = pearsonr(x, y)\n"
     ]
    },
    {
     "name": "stdout",
     "output_type": "stream",
     "text": [
      "Mean - adata_mean_imputed_mf10_run7.h5ad: Mean corr = 0.444 (n_genes=2000)\n"
     ]
    },
    {
     "name": "stderr",
     "output_type": "stream",
     "text": [
      "c:\\Users\\prath\\anaconda-new\\Lib\\site-packages\\anndata\\_core\\anndata.py:1791: UserWarning: Observation names are not unique. To make them unique, call `.obs_names_make_unique`.\n",
      "  utils.warn_names_duplicates(\"obs\")\n",
      "c:\\Users\\prath\\anaconda-new\\Lib\\site-packages\\anndata\\_core\\anndata.py:1793: UserWarning: Variable names are not unique. To make them unique, call `.var_names_make_unique`.\n",
      "  utils.warn_names_duplicates(\"var\")\n",
      "C:\\Users\\prath\\AppData\\Local\\Temp\\ipykernel_18364\\3413768475.py:62: ConstantInputWarning: An input array is constant; the correlation coefficient is not defined.\n",
      "  r, _ = pearsonr(x, y)\n"
     ]
    },
    {
     "name": "stdout",
     "output_type": "stream",
     "text": [
      "Mean - adata_mean_imputed_mf10_run8.h5ad: Mean corr = 0.443 (n_genes=2000)\n"
     ]
    },
    {
     "name": "stderr",
     "output_type": "stream",
     "text": [
      "c:\\Users\\prath\\anaconda-new\\Lib\\site-packages\\anndata\\_core\\anndata.py:1791: UserWarning: Observation names are not unique. To make them unique, call `.obs_names_make_unique`.\n",
      "  utils.warn_names_duplicates(\"obs\")\n",
      "c:\\Users\\prath\\anaconda-new\\Lib\\site-packages\\anndata\\_core\\anndata.py:1793: UserWarning: Variable names are not unique. To make them unique, call `.var_names_make_unique`.\n",
      "  utils.warn_names_duplicates(\"var\")\n",
      "C:\\Users\\prath\\AppData\\Local\\Temp\\ipykernel_18364\\3413768475.py:62: ConstantInputWarning: An input array is constant; the correlation coefficient is not defined.\n",
      "  r, _ = pearsonr(x, y)\n",
      "c:\\Users\\prath\\anaconda-new\\Lib\\site-packages\\numpy\\core\\_methods.py:187: RuntimeWarning: overflow encountered in reduce\n",
      "  ret = umr_sum(x, axis, dtype, out, keepdims=keepdims, where=where)\n"
     ]
    },
    {
     "name": "stdout",
     "output_type": "stream",
     "text": [
      "Mean - adata_mean_imputed_mf10_run9.h5ad: Mean corr = 0.443 (n_genes=2000)\n"
     ]
    },
    {
     "name": "stderr",
     "output_type": "stream",
     "text": [
      "c:\\Users\\prath\\anaconda-new\\Lib\\site-packages\\anndata\\_core\\anndata.py:1791: UserWarning: Observation names are not unique. To make them unique, call `.obs_names_make_unique`.\n",
      "  utils.warn_names_duplicates(\"obs\")\n",
      "c:\\Users\\prath\\anaconda-new\\Lib\\site-packages\\anndata\\_core\\anndata.py:1793: UserWarning: Variable names are not unique. To make them unique, call `.var_names_make_unique`.\n",
      "  utils.warn_names_duplicates(\"var\")\n",
      "C:\\Users\\prath\\AppData\\Local\\Temp\\ipykernel_18364\\3413768475.py:62: ConstantInputWarning: An input array is constant; the correlation coefficient is not defined.\n",
      "  r, _ = pearsonr(x, y)\n"
     ]
    },
    {
     "name": "stdout",
     "output_type": "stream",
     "text": [
      "Mean - adata_mean_imputed_mf20_run1.h5ad: Mean corr = 0.417 (n_genes=2000)\n"
     ]
    },
    {
     "name": "stderr",
     "output_type": "stream",
     "text": [
      "c:\\Users\\prath\\anaconda-new\\Lib\\site-packages\\anndata\\_core\\anndata.py:1791: UserWarning: Observation names are not unique. To make them unique, call `.obs_names_make_unique`.\n",
      "  utils.warn_names_duplicates(\"obs\")\n",
      "c:\\Users\\prath\\anaconda-new\\Lib\\site-packages\\anndata\\_core\\anndata.py:1793: UserWarning: Variable names are not unique. To make them unique, call `.var_names_make_unique`.\n",
      "  utils.warn_names_duplicates(\"var\")\n",
      "C:\\Users\\prath\\AppData\\Local\\Temp\\ipykernel_18364\\3413768475.py:62: ConstantInputWarning: An input array is constant; the correlation coefficient is not defined.\n",
      "  r, _ = pearsonr(x, y)\n"
     ]
    },
    {
     "name": "stdout",
     "output_type": "stream",
     "text": [
      "Mean - adata_mean_imputed_mf20_run10.h5ad: Mean corr = 0.417 (n_genes=2000)\n"
     ]
    },
    {
     "name": "stderr",
     "output_type": "stream",
     "text": [
      "c:\\Users\\prath\\anaconda-new\\Lib\\site-packages\\anndata\\_core\\anndata.py:1791: UserWarning: Observation names are not unique. To make them unique, call `.obs_names_make_unique`.\n",
      "  utils.warn_names_duplicates(\"obs\")\n",
      "c:\\Users\\prath\\anaconda-new\\Lib\\site-packages\\anndata\\_core\\anndata.py:1793: UserWarning: Variable names are not unique. To make them unique, call `.var_names_make_unique`.\n",
      "  utils.warn_names_duplicates(\"var\")\n",
      "C:\\Users\\prath\\AppData\\Local\\Temp\\ipykernel_18364\\3413768475.py:62: ConstantInputWarning: An input array is constant; the correlation coefficient is not defined.\n",
      "  r, _ = pearsonr(x, y)\n"
     ]
    },
    {
     "name": "stdout",
     "output_type": "stream",
     "text": [
      "Mean - adata_mean_imputed_mf20_run2.h5ad: Mean corr = 0.414 (n_genes=2000)\n"
     ]
    },
    {
     "name": "stderr",
     "output_type": "stream",
     "text": [
      "c:\\Users\\prath\\anaconda-new\\Lib\\site-packages\\anndata\\_core\\anndata.py:1791: UserWarning: Observation names are not unique. To make them unique, call `.obs_names_make_unique`.\n",
      "  utils.warn_names_duplicates(\"obs\")\n",
      "c:\\Users\\prath\\anaconda-new\\Lib\\site-packages\\anndata\\_core\\anndata.py:1793: UserWarning: Variable names are not unique. To make them unique, call `.var_names_make_unique`.\n",
      "  utils.warn_names_duplicates(\"var\")\n",
      "C:\\Users\\prath\\AppData\\Local\\Temp\\ipykernel_18364\\3413768475.py:62: ConstantInputWarning: An input array is constant; the correlation coefficient is not defined.\n",
      "  r, _ = pearsonr(x, y)\n",
      "c:\\Users\\prath\\anaconda-new\\Lib\\site-packages\\numpy\\core\\_methods.py:176: RuntimeWarning: overflow encountered in multiply\n",
      "  x = um.multiply(x, x, out=x)\n"
     ]
    },
    {
     "name": "stdout",
     "output_type": "stream",
     "text": [
      "Mean - adata_mean_imputed_mf20_run3.h5ad: Mean corr = 0.414 (n_genes=2000)\n"
     ]
    },
    {
     "name": "stderr",
     "output_type": "stream",
     "text": [
      "c:\\Users\\prath\\anaconda-new\\Lib\\site-packages\\anndata\\_core\\anndata.py:1791: UserWarning: Observation names are not unique. To make them unique, call `.obs_names_make_unique`.\n",
      "  utils.warn_names_duplicates(\"obs\")\n",
      "c:\\Users\\prath\\anaconda-new\\Lib\\site-packages\\anndata\\_core\\anndata.py:1793: UserWarning: Variable names are not unique. To make them unique, call `.var_names_make_unique`.\n",
      "  utils.warn_names_duplicates(\"var\")\n",
      "C:\\Users\\prath\\AppData\\Local\\Temp\\ipykernel_18364\\3413768475.py:62: ConstantInputWarning: An input array is constant; the correlation coefficient is not defined.\n",
      "  r, _ = pearsonr(x, y)\n",
      "c:\\Users\\prath\\anaconda-new\\Lib\\site-packages\\numpy\\core\\_methods.py:176: RuntimeWarning: overflow encountered in multiply\n",
      "  x = um.multiply(x, x, out=x)\n"
     ]
    },
    {
     "name": "stdout",
     "output_type": "stream",
     "text": [
      "Mean - adata_mean_imputed_mf20_run4.h5ad: Mean corr = 0.416 (n_genes=2000)\n"
     ]
    },
    {
     "name": "stderr",
     "output_type": "stream",
     "text": [
      "c:\\Users\\prath\\anaconda-new\\Lib\\site-packages\\anndata\\_core\\anndata.py:1791: UserWarning: Observation names are not unique. To make them unique, call `.obs_names_make_unique`.\n",
      "  utils.warn_names_duplicates(\"obs\")\n",
      "c:\\Users\\prath\\anaconda-new\\Lib\\site-packages\\anndata\\_core\\anndata.py:1793: UserWarning: Variable names are not unique. To make them unique, call `.var_names_make_unique`.\n",
      "  utils.warn_names_duplicates(\"var\")\n",
      "C:\\Users\\prath\\AppData\\Local\\Temp\\ipykernel_18364\\3413768475.py:62: ConstantInputWarning: An input array is constant; the correlation coefficient is not defined.\n",
      "  r, _ = pearsonr(x, y)\n"
     ]
    },
    {
     "name": "stdout",
     "output_type": "stream",
     "text": [
      "Mean - adata_mean_imputed_mf20_run5.h5ad: Mean corr = 0.415 (n_genes=2000)\n"
     ]
    },
    {
     "name": "stderr",
     "output_type": "stream",
     "text": [
      "c:\\Users\\prath\\anaconda-new\\Lib\\site-packages\\anndata\\_core\\anndata.py:1791: UserWarning: Observation names are not unique. To make them unique, call `.obs_names_make_unique`.\n",
      "  utils.warn_names_duplicates(\"obs\")\n",
      "c:\\Users\\prath\\anaconda-new\\Lib\\site-packages\\anndata\\_core\\anndata.py:1793: UserWarning: Variable names are not unique. To make them unique, call `.var_names_make_unique`.\n",
      "  utils.warn_names_duplicates(\"var\")\n",
      "C:\\Users\\prath\\AppData\\Local\\Temp\\ipykernel_18364\\3413768475.py:62: ConstantInputWarning: An input array is constant; the correlation coefficient is not defined.\n",
      "  r, _ = pearsonr(x, y)\n"
     ]
    },
    {
     "name": "stdout",
     "output_type": "stream",
     "text": [
      "Mean - adata_mean_imputed_mf20_run6.h5ad: Mean corr = 0.415 (n_genes=2000)\n"
     ]
    },
    {
     "name": "stderr",
     "output_type": "stream",
     "text": [
      "c:\\Users\\prath\\anaconda-new\\Lib\\site-packages\\anndata\\_core\\anndata.py:1791: UserWarning: Observation names are not unique. To make them unique, call `.obs_names_make_unique`.\n",
      "  utils.warn_names_duplicates(\"obs\")\n",
      "c:\\Users\\prath\\anaconda-new\\Lib\\site-packages\\anndata\\_core\\anndata.py:1793: UserWarning: Variable names are not unique. To make them unique, call `.var_names_make_unique`.\n",
      "  utils.warn_names_duplicates(\"var\")\n",
      "C:\\Users\\prath\\AppData\\Local\\Temp\\ipykernel_18364\\3413768475.py:62: ConstantInputWarning: An input array is constant; the correlation coefficient is not defined.\n",
      "  r, _ = pearsonr(x, y)\n",
      "c:\\Users\\prath\\anaconda-new\\Lib\\site-packages\\numpy\\core\\_methods.py:176: RuntimeWarning: overflow encountered in multiply\n",
      "  x = um.multiply(x, x, out=x)\n"
     ]
    },
    {
     "name": "stdout",
     "output_type": "stream",
     "text": [
      "Mean - adata_mean_imputed_mf20_run7.h5ad: Mean corr = 0.414 (n_genes=2000)\n"
     ]
    },
    {
     "name": "stderr",
     "output_type": "stream",
     "text": [
      "c:\\Users\\prath\\anaconda-new\\Lib\\site-packages\\anndata\\_core\\anndata.py:1791: UserWarning: Observation names are not unique. To make them unique, call `.obs_names_make_unique`.\n",
      "  utils.warn_names_duplicates(\"obs\")\n",
      "c:\\Users\\prath\\anaconda-new\\Lib\\site-packages\\anndata\\_core\\anndata.py:1793: UserWarning: Variable names are not unique. To make them unique, call `.var_names_make_unique`.\n",
      "  utils.warn_names_duplicates(\"var\")\n",
      "C:\\Users\\prath\\AppData\\Local\\Temp\\ipykernel_18364\\3413768475.py:62: ConstantInputWarning: An input array is constant; the correlation coefficient is not defined.\n",
      "  r, _ = pearsonr(x, y)\n",
      "c:\\Users\\prath\\anaconda-new\\Lib\\site-packages\\numpy\\core\\_methods.py:187: RuntimeWarning: overflow encountered in reduce\n",
      "  ret = umr_sum(x, axis, dtype, out, keepdims=keepdims, where=where)\n",
      "c:\\Users\\prath\\anaconda-new\\Lib\\site-packages\\numpy\\core\\_methods.py:176: RuntimeWarning: overflow encountered in multiply\n",
      "  x = um.multiply(x, x, out=x)\n"
     ]
    },
    {
     "name": "stdout",
     "output_type": "stream",
     "text": [
      "Mean - adata_mean_imputed_mf20_run8.h5ad: Mean corr = 0.414 (n_genes=2000)\n"
     ]
    },
    {
     "name": "stderr",
     "output_type": "stream",
     "text": [
      "c:\\Users\\prath\\anaconda-new\\Lib\\site-packages\\anndata\\_core\\anndata.py:1791: UserWarning: Observation names are not unique. To make them unique, call `.obs_names_make_unique`.\n",
      "  utils.warn_names_duplicates(\"obs\")\n",
      "c:\\Users\\prath\\anaconda-new\\Lib\\site-packages\\anndata\\_core\\anndata.py:1793: UserWarning: Variable names are not unique. To make them unique, call `.var_names_make_unique`.\n",
      "  utils.warn_names_duplicates(\"var\")\n",
      "C:\\Users\\prath\\AppData\\Local\\Temp\\ipykernel_18364\\3413768475.py:62: ConstantInputWarning: An input array is constant; the correlation coefficient is not defined.\n",
      "  r, _ = pearsonr(x, y)\n"
     ]
    },
    {
     "name": "stdout",
     "output_type": "stream",
     "text": [
      "Mean - adata_mean_imputed_mf20_run9.h5ad: Mean corr = 0.413 (n_genes=2000)\n"
     ]
    },
    {
     "name": "stderr",
     "output_type": "stream",
     "text": [
      "c:\\Users\\prath\\anaconda-new\\Lib\\site-packages\\anndata\\_core\\anndata.py:1791: UserWarning: Observation names are not unique. To make them unique, call `.obs_names_make_unique`.\n",
      "  utils.warn_names_duplicates(\"obs\")\n",
      "c:\\Users\\prath\\anaconda-new\\Lib\\site-packages\\anndata\\_core\\anndata.py:1793: UserWarning: Variable names are not unique. To make them unique, call `.var_names_make_unique`.\n",
      "  utils.warn_names_duplicates(\"var\")\n",
      "C:\\Users\\prath\\AppData\\Local\\Temp\\ipykernel_18364\\3413768475.py:62: ConstantInputWarning: An input array is constant; the correlation coefficient is not defined.\n",
      "  r, _ = pearsonr(x, y)\n"
     ]
    },
    {
     "name": "stdout",
     "output_type": "stream",
     "text": [
      "Mean - adata_mean_imputed_mf30_run1.h5ad: Mean corr = 0.383 (n_genes=2000)\n"
     ]
    },
    {
     "name": "stderr",
     "output_type": "stream",
     "text": [
      "c:\\Users\\prath\\anaconda-new\\Lib\\site-packages\\anndata\\_core\\anndata.py:1791: UserWarning: Observation names are not unique. To make them unique, call `.obs_names_make_unique`.\n",
      "  utils.warn_names_duplicates(\"obs\")\n",
      "c:\\Users\\prath\\anaconda-new\\Lib\\site-packages\\anndata\\_core\\anndata.py:1793: UserWarning: Variable names are not unique. To make them unique, call `.var_names_make_unique`.\n",
      "  utils.warn_names_duplicates(\"var\")\n",
      "C:\\Users\\prath\\AppData\\Local\\Temp\\ipykernel_18364\\3413768475.py:62: ConstantInputWarning: An input array is constant; the correlation coefficient is not defined.\n",
      "  r, _ = pearsonr(x, y)\n"
     ]
    },
    {
     "name": "stdout",
     "output_type": "stream",
     "text": [
      "Mean - adata_mean_imputed_mf30_run10.h5ad: Mean corr = 0.384 (n_genes=2000)\n"
     ]
    },
    {
     "name": "stderr",
     "output_type": "stream",
     "text": [
      "c:\\Users\\prath\\anaconda-new\\Lib\\site-packages\\anndata\\_core\\anndata.py:1791: UserWarning: Observation names are not unique. To make them unique, call `.obs_names_make_unique`.\n",
      "  utils.warn_names_duplicates(\"obs\")\n",
      "c:\\Users\\prath\\anaconda-new\\Lib\\site-packages\\anndata\\_core\\anndata.py:1793: UserWarning: Variable names are not unique. To make them unique, call `.var_names_make_unique`.\n",
      "  utils.warn_names_duplicates(\"var\")\n",
      "C:\\Users\\prath\\AppData\\Local\\Temp\\ipykernel_18364\\3413768475.py:62: ConstantInputWarning: An input array is constant; the correlation coefficient is not defined.\n",
      "  r, _ = pearsonr(x, y)\n",
      "c:\\Users\\prath\\anaconda-new\\Lib\\site-packages\\numpy\\core\\_methods.py:176: RuntimeWarning: overflow encountered in multiply\n",
      "  x = um.multiply(x, x, out=x)\n",
      "c:\\Users\\prath\\anaconda-new\\Lib\\site-packages\\numpy\\core\\_methods.py:152: RuntimeWarning: overflow encountered in reduce\n",
      "  arrmean = umr_sum(arr, axis, dtype, keepdims=True, where=where)\n",
      "c:\\Users\\prath\\anaconda-new\\Lib\\site-packages\\numpy\\core\\_methods.py:187: RuntimeWarning: overflow encountered in reduce\n",
      "  ret = umr_sum(x, axis, dtype, out, keepdims=keepdims, where=where)\n"
     ]
    },
    {
     "name": "stdout",
     "output_type": "stream",
     "text": [
      "Mean - adata_mean_imputed_mf30_run2.h5ad: Mean corr = 0.386 (n_genes=2000)\n"
     ]
    },
    {
     "name": "stderr",
     "output_type": "stream",
     "text": [
      "c:\\Users\\prath\\anaconda-new\\Lib\\site-packages\\anndata\\_core\\anndata.py:1791: UserWarning: Observation names are not unique. To make them unique, call `.obs_names_make_unique`.\n",
      "  utils.warn_names_duplicates(\"obs\")\n",
      "c:\\Users\\prath\\anaconda-new\\Lib\\site-packages\\anndata\\_core\\anndata.py:1793: UserWarning: Variable names are not unique. To make them unique, call `.var_names_make_unique`.\n",
      "  utils.warn_names_duplicates(\"var\")\n",
      "C:\\Users\\prath\\AppData\\Local\\Temp\\ipykernel_18364\\3413768475.py:62: ConstantInputWarning: An input array is constant; the correlation coefficient is not defined.\n",
      "  r, _ = pearsonr(x, y)\n"
     ]
    },
    {
     "name": "stdout",
     "output_type": "stream",
     "text": [
      "Mean - adata_mean_imputed_mf30_run3.h5ad: Mean corr = 0.387 (n_genes=2000)\n"
     ]
    },
    {
     "name": "stderr",
     "output_type": "stream",
     "text": [
      "c:\\Users\\prath\\anaconda-new\\Lib\\site-packages\\anndata\\_core\\anndata.py:1791: UserWarning: Observation names are not unique. To make them unique, call `.obs_names_make_unique`.\n",
      "  utils.warn_names_duplicates(\"obs\")\n",
      "c:\\Users\\prath\\anaconda-new\\Lib\\site-packages\\anndata\\_core\\anndata.py:1793: UserWarning: Variable names are not unique. To make them unique, call `.var_names_make_unique`.\n",
      "  utils.warn_names_duplicates(\"var\")\n",
      "C:\\Users\\prath\\AppData\\Local\\Temp\\ipykernel_18364\\3413768475.py:62: ConstantInputWarning: An input array is constant; the correlation coefficient is not defined.\n",
      "  r, _ = pearsonr(x, y)\n"
     ]
    },
    {
     "name": "stdout",
     "output_type": "stream",
     "text": [
      "Mean - adata_mean_imputed_mf30_run4.h5ad: Mean corr = 0.386 (n_genes=2000)\n"
     ]
    },
    {
     "name": "stderr",
     "output_type": "stream",
     "text": [
      "c:\\Users\\prath\\anaconda-new\\Lib\\site-packages\\anndata\\_core\\anndata.py:1791: UserWarning: Observation names are not unique. To make them unique, call `.obs_names_make_unique`.\n",
      "  utils.warn_names_duplicates(\"obs\")\n",
      "c:\\Users\\prath\\anaconda-new\\Lib\\site-packages\\anndata\\_core\\anndata.py:1793: UserWarning: Variable names are not unique. To make them unique, call `.var_names_make_unique`.\n",
      "  utils.warn_names_duplicates(\"var\")\n",
      "C:\\Users\\prath\\AppData\\Local\\Temp\\ipykernel_18364\\3413768475.py:62: ConstantInputWarning: An input array is constant; the correlation coefficient is not defined.\n",
      "  r, _ = pearsonr(x, y)\n",
      "c:\\Users\\prath\\anaconda-new\\Lib\\site-packages\\numpy\\core\\_methods.py:176: RuntimeWarning: overflow encountered in multiply\n",
      "  x = um.multiply(x, x, out=x)\n"
     ]
    },
    {
     "name": "stdout",
     "output_type": "stream",
     "text": [
      "Mean - adata_mean_imputed_mf30_run5.h5ad: Mean corr = 0.384 (n_genes=2000)\n"
     ]
    },
    {
     "name": "stderr",
     "output_type": "stream",
     "text": [
      "c:\\Users\\prath\\anaconda-new\\Lib\\site-packages\\anndata\\_core\\anndata.py:1791: UserWarning: Observation names are not unique. To make them unique, call `.obs_names_make_unique`.\n",
      "  utils.warn_names_duplicates(\"obs\")\n",
      "c:\\Users\\prath\\anaconda-new\\Lib\\site-packages\\anndata\\_core\\anndata.py:1793: UserWarning: Variable names are not unique. To make them unique, call `.var_names_make_unique`.\n",
      "  utils.warn_names_duplicates(\"var\")\n",
      "C:\\Users\\prath\\AppData\\Local\\Temp\\ipykernel_18364\\3413768475.py:62: ConstantInputWarning: An input array is constant; the correlation coefficient is not defined.\n",
      "  r, _ = pearsonr(x, y)\n"
     ]
    },
    {
     "name": "stdout",
     "output_type": "stream",
     "text": [
      "Mean - adata_mean_imputed_mf30_run6.h5ad: Mean corr = 0.385 (n_genes=2000)\n"
     ]
    },
    {
     "name": "stderr",
     "output_type": "stream",
     "text": [
      "c:\\Users\\prath\\anaconda-new\\Lib\\site-packages\\anndata\\_core\\anndata.py:1791: UserWarning: Observation names are not unique. To make them unique, call `.obs_names_make_unique`.\n",
      "  utils.warn_names_duplicates(\"obs\")\n",
      "c:\\Users\\prath\\anaconda-new\\Lib\\site-packages\\anndata\\_core\\anndata.py:1793: UserWarning: Variable names are not unique. To make them unique, call `.var_names_make_unique`.\n",
      "  utils.warn_names_duplicates(\"var\")\n",
      "C:\\Users\\prath\\AppData\\Local\\Temp\\ipykernel_18364\\3413768475.py:62: ConstantInputWarning: An input array is constant; the correlation coefficient is not defined.\n",
      "  r, _ = pearsonr(x, y)\n"
     ]
    },
    {
     "name": "stdout",
     "output_type": "stream",
     "text": [
      "Mean - adata_mean_imputed_mf30_run7.h5ad: Mean corr = 0.385 (n_genes=2000)\n"
     ]
    },
    {
     "name": "stderr",
     "output_type": "stream",
     "text": [
      "c:\\Users\\prath\\anaconda-new\\Lib\\site-packages\\anndata\\_core\\anndata.py:1791: UserWarning: Observation names are not unique. To make them unique, call `.obs_names_make_unique`.\n",
      "  utils.warn_names_duplicates(\"obs\")\n",
      "c:\\Users\\prath\\anaconda-new\\Lib\\site-packages\\anndata\\_core\\anndata.py:1793: UserWarning: Variable names are not unique. To make them unique, call `.var_names_make_unique`.\n",
      "  utils.warn_names_duplicates(\"var\")\n",
      "C:\\Users\\prath\\AppData\\Local\\Temp\\ipykernel_18364\\3413768475.py:62: ConstantInputWarning: An input array is constant; the correlation coefficient is not defined.\n",
      "  r, _ = pearsonr(x, y)\n",
      "c:\\Users\\prath\\anaconda-new\\Lib\\site-packages\\numpy\\core\\_methods.py:176: RuntimeWarning: overflow encountered in multiply\n",
      "  x = um.multiply(x, x, out=x)\n"
     ]
    },
    {
     "name": "stdout",
     "output_type": "stream",
     "text": [
      "Mean - adata_mean_imputed_mf30_run8.h5ad: Mean corr = 0.385 (n_genes=2000)\n"
     ]
    },
    {
     "name": "stderr",
     "output_type": "stream",
     "text": [
      "c:\\Users\\prath\\anaconda-new\\Lib\\site-packages\\anndata\\_core\\anndata.py:1791: UserWarning: Observation names are not unique. To make them unique, call `.obs_names_make_unique`.\n",
      "  utils.warn_names_duplicates(\"obs\")\n",
      "c:\\Users\\prath\\anaconda-new\\Lib\\site-packages\\anndata\\_core\\anndata.py:1793: UserWarning: Variable names are not unique. To make them unique, call `.var_names_make_unique`.\n",
      "  utils.warn_names_duplicates(\"var\")\n",
      "C:\\Users\\prath\\AppData\\Local\\Temp\\ipykernel_18364\\3413768475.py:62: ConstantInputWarning: An input array is constant; the correlation coefficient is not defined.\n",
      "  r, _ = pearsonr(x, y)\n",
      "c:\\Users\\prath\\anaconda-new\\Lib\\site-packages\\numpy\\core\\_methods.py:176: RuntimeWarning: overflow encountered in multiply\n",
      "  x = um.multiply(x, x, out=x)\n",
      "c:\\Users\\prath\\anaconda-new\\Lib\\site-packages\\numpy\\core\\_methods.py:187: RuntimeWarning: overflow encountered in reduce\n",
      "  ret = umr_sum(x, axis, dtype, out, keepdims=keepdims, where=where)\n",
      "c:\\Users\\prath\\anaconda-new\\Lib\\site-packages\\numpy\\core\\_methods.py:152: RuntimeWarning: overflow encountered in reduce\n",
      "  arrmean = umr_sum(arr, axis, dtype, keepdims=True, where=where)\n"
     ]
    },
    {
     "name": "stdout",
     "output_type": "stream",
     "text": [
      "Mean - adata_mean_imputed_mf30_run9.h5ad: Mean corr = 0.387 (n_genes=2000)\n"
     ]
    },
    {
     "name": "stderr",
     "output_type": "stream",
     "text": [
      "c:\\Users\\prath\\anaconda-new\\Lib\\site-packages\\anndata\\_core\\anndata.py:1791: UserWarning: Observation names are not unique. To make them unique, call `.obs_names_make_unique`.\n",
      "  utils.warn_names_duplicates(\"obs\")\n",
      "c:\\Users\\prath\\anaconda-new\\Lib\\site-packages\\anndata\\_core\\anndata.py:1793: UserWarning: Variable names are not unique. To make them unique, call `.var_names_make_unique`.\n",
      "  utils.warn_names_duplicates(\"var\")\n"
     ]
    },
    {
     "name": "stdout",
     "output_type": "stream",
     "text": [
      "GAN - adata_adata_gan_imputed_mf10_run1.h5ad: Mean corr = 0.942 (n_genes=2000)\n"
     ]
    },
    {
     "name": "stderr",
     "output_type": "stream",
     "text": [
      "c:\\Users\\prath\\anaconda-new\\Lib\\site-packages\\anndata\\_core\\anndata.py:1791: UserWarning: Observation names are not unique. To make them unique, call `.obs_names_make_unique`.\n",
      "  utils.warn_names_duplicates(\"obs\")\n",
      "c:\\Users\\prath\\anaconda-new\\Lib\\site-packages\\anndata\\_core\\anndata.py:1793: UserWarning: Variable names are not unique. To make them unique, call `.var_names_make_unique`.\n",
      "  utils.warn_names_duplicates(\"var\")\n"
     ]
    },
    {
     "name": "stdout",
     "output_type": "stream",
     "text": [
      "GAN - adata_adata_gan_imputed_mf10_run10.h5ad: Mean corr = 0.947 (n_genes=2000)\n"
     ]
    },
    {
     "name": "stderr",
     "output_type": "stream",
     "text": [
      "c:\\Users\\prath\\anaconda-new\\Lib\\site-packages\\anndata\\_core\\anndata.py:1791: UserWarning: Observation names are not unique. To make them unique, call `.obs_names_make_unique`.\n",
      "  utils.warn_names_duplicates(\"obs\")\n",
      "c:\\Users\\prath\\anaconda-new\\Lib\\site-packages\\anndata\\_core\\anndata.py:1793: UserWarning: Variable names are not unique. To make them unique, call `.var_names_make_unique`.\n",
      "  utils.warn_names_duplicates(\"var\")\n"
     ]
    },
    {
     "name": "stdout",
     "output_type": "stream",
     "text": [
      "GAN - adata_adata_gan_imputed_mf10_run2.h5ad: Mean corr = 0.949 (n_genes=2000)\n"
     ]
    },
    {
     "name": "stderr",
     "output_type": "stream",
     "text": [
      "c:\\Users\\prath\\anaconda-new\\Lib\\site-packages\\anndata\\_core\\anndata.py:1791: UserWarning: Observation names are not unique. To make them unique, call `.obs_names_make_unique`.\n",
      "  utils.warn_names_duplicates(\"obs\")\n",
      "c:\\Users\\prath\\anaconda-new\\Lib\\site-packages\\anndata\\_core\\anndata.py:1793: UserWarning: Variable names are not unique. To make them unique, call `.var_names_make_unique`.\n",
      "  utils.warn_names_duplicates(\"var\")\n"
     ]
    },
    {
     "name": "stdout",
     "output_type": "stream",
     "text": [
      "GAN - adata_adata_gan_imputed_mf10_run3.h5ad: Mean corr = 0.948 (n_genes=2000)\n"
     ]
    },
    {
     "name": "stderr",
     "output_type": "stream",
     "text": [
      "c:\\Users\\prath\\anaconda-new\\Lib\\site-packages\\anndata\\_core\\anndata.py:1791: UserWarning: Observation names are not unique. To make them unique, call `.obs_names_make_unique`.\n",
      "  utils.warn_names_duplicates(\"obs\")\n",
      "c:\\Users\\prath\\anaconda-new\\Lib\\site-packages\\anndata\\_core\\anndata.py:1793: UserWarning: Variable names are not unique. To make them unique, call `.var_names_make_unique`.\n",
      "  utils.warn_names_duplicates(\"var\")\n"
     ]
    },
    {
     "name": "stdout",
     "output_type": "stream",
     "text": [
      "GAN - adata_adata_gan_imputed_mf10_run4.h5ad: Mean corr = 0.945 (n_genes=2000)\n"
     ]
    },
    {
     "name": "stderr",
     "output_type": "stream",
     "text": [
      "c:\\Users\\prath\\anaconda-new\\Lib\\site-packages\\anndata\\_core\\anndata.py:1791: UserWarning: Observation names are not unique. To make them unique, call `.obs_names_make_unique`.\n",
      "  utils.warn_names_duplicates(\"obs\")\n",
      "c:\\Users\\prath\\anaconda-new\\Lib\\site-packages\\anndata\\_core\\anndata.py:1793: UserWarning: Variable names are not unique. To make them unique, call `.var_names_make_unique`.\n",
      "  utils.warn_names_duplicates(\"var\")\n"
     ]
    },
    {
     "name": "stdout",
     "output_type": "stream",
     "text": [
      "GAN - adata_adata_gan_imputed_mf10_run5.h5ad: Mean corr = 0.946 (n_genes=2000)\n"
     ]
    },
    {
     "name": "stderr",
     "output_type": "stream",
     "text": [
      "c:\\Users\\prath\\anaconda-new\\Lib\\site-packages\\anndata\\_core\\anndata.py:1791: UserWarning: Observation names are not unique. To make them unique, call `.obs_names_make_unique`.\n",
      "  utils.warn_names_duplicates(\"obs\")\n",
      "c:\\Users\\prath\\anaconda-new\\Lib\\site-packages\\anndata\\_core\\anndata.py:1793: UserWarning: Variable names are not unique. To make them unique, call `.var_names_make_unique`.\n",
      "  utils.warn_names_duplicates(\"var\")\n"
     ]
    },
    {
     "name": "stdout",
     "output_type": "stream",
     "text": [
      "GAN - adata_adata_gan_imputed_mf10_run6.h5ad: Mean corr = 0.948 (n_genes=2000)\n"
     ]
    },
    {
     "name": "stderr",
     "output_type": "stream",
     "text": [
      "c:\\Users\\prath\\anaconda-new\\Lib\\site-packages\\anndata\\_core\\anndata.py:1791: UserWarning: Observation names are not unique. To make them unique, call `.obs_names_make_unique`.\n",
      "  utils.warn_names_duplicates(\"obs\")\n",
      "c:\\Users\\prath\\anaconda-new\\Lib\\site-packages\\anndata\\_core\\anndata.py:1793: UserWarning: Variable names are not unique. To make them unique, call `.var_names_make_unique`.\n",
      "  utils.warn_names_duplicates(\"var\")\n"
     ]
    },
    {
     "name": "stdout",
     "output_type": "stream",
     "text": [
      "GAN - adata_adata_gan_imputed_mf10_run7.h5ad: Mean corr = 0.949 (n_genes=2000)\n"
     ]
    },
    {
     "name": "stderr",
     "output_type": "stream",
     "text": [
      "c:\\Users\\prath\\anaconda-new\\Lib\\site-packages\\anndata\\_core\\anndata.py:1791: UserWarning: Observation names are not unique. To make them unique, call `.obs_names_make_unique`.\n",
      "  utils.warn_names_duplicates(\"obs\")\n",
      "c:\\Users\\prath\\anaconda-new\\Lib\\site-packages\\anndata\\_core\\anndata.py:1793: UserWarning: Variable names are not unique. To make them unique, call `.var_names_make_unique`.\n",
      "  utils.warn_names_duplicates(\"var\")\n"
     ]
    },
    {
     "name": "stdout",
     "output_type": "stream",
     "text": [
      "GAN - adata_adata_gan_imputed_mf10_run8.h5ad: Mean corr = 0.949 (n_genes=2000)\n"
     ]
    },
    {
     "name": "stderr",
     "output_type": "stream",
     "text": [
      "c:\\Users\\prath\\anaconda-new\\Lib\\site-packages\\anndata\\_core\\anndata.py:1791: UserWarning: Observation names are not unique. To make them unique, call `.obs_names_make_unique`.\n",
      "  utils.warn_names_duplicates(\"obs\")\n",
      "c:\\Users\\prath\\anaconda-new\\Lib\\site-packages\\anndata\\_core\\anndata.py:1793: UserWarning: Variable names are not unique. To make them unique, call `.var_names_make_unique`.\n",
      "  utils.warn_names_duplicates(\"var\")\n"
     ]
    },
    {
     "name": "stdout",
     "output_type": "stream",
     "text": [
      "GAN - adata_adata_gan_imputed_mf10_run9.h5ad: Mean corr = 0.950 (n_genes=2000)\n"
     ]
    },
    {
     "name": "stderr",
     "output_type": "stream",
     "text": [
      "c:\\Users\\prath\\anaconda-new\\Lib\\site-packages\\anndata\\_core\\anndata.py:1791: UserWarning: Observation names are not unique. To make them unique, call `.obs_names_make_unique`.\n",
      "  utils.warn_names_duplicates(\"obs\")\n",
      "c:\\Users\\prath\\anaconda-new\\Lib\\site-packages\\anndata\\_core\\anndata.py:1793: UserWarning: Variable names are not unique. To make them unique, call `.var_names_make_unique`.\n",
      "  utils.warn_names_duplicates(\"var\")\n"
     ]
    },
    {
     "name": "stdout",
     "output_type": "stream",
     "text": [
      "GAN - adata_adata_gan_imputed_mf20_run1.h5ad: Mean corr = 0.893 (n_genes=2000)\n"
     ]
    },
    {
     "name": "stderr",
     "output_type": "stream",
     "text": [
      "c:\\Users\\prath\\anaconda-new\\Lib\\site-packages\\anndata\\_core\\anndata.py:1791: UserWarning: Observation names are not unique. To make them unique, call `.obs_names_make_unique`.\n",
      "  utils.warn_names_duplicates(\"obs\")\n",
      "c:\\Users\\prath\\anaconda-new\\Lib\\site-packages\\anndata\\_core\\anndata.py:1793: UserWarning: Variable names are not unique. To make them unique, call `.var_names_make_unique`.\n",
      "  utils.warn_names_duplicates(\"var\")\n"
     ]
    },
    {
     "name": "stdout",
     "output_type": "stream",
     "text": [
      "GAN - adata_adata_gan_imputed_mf20_run10.h5ad: Mean corr = 0.895 (n_genes=2000)\n"
     ]
    },
    {
     "name": "stderr",
     "output_type": "stream",
     "text": [
      "c:\\Users\\prath\\anaconda-new\\Lib\\site-packages\\anndata\\_core\\anndata.py:1791: UserWarning: Observation names are not unique. To make them unique, call `.obs_names_make_unique`.\n",
      "  utils.warn_names_duplicates(\"obs\")\n",
      "c:\\Users\\prath\\anaconda-new\\Lib\\site-packages\\anndata\\_core\\anndata.py:1793: UserWarning: Variable names are not unique. To make them unique, call `.var_names_make_unique`.\n",
      "  utils.warn_names_duplicates(\"var\")\n"
     ]
    },
    {
     "name": "stdout",
     "output_type": "stream",
     "text": [
      "GAN - adata_adata_gan_imputed_mf20_run2.h5ad: Mean corr = 0.891 (n_genes=2000)\n"
     ]
    },
    {
     "name": "stderr",
     "output_type": "stream",
     "text": [
      "c:\\Users\\prath\\anaconda-new\\Lib\\site-packages\\anndata\\_core\\anndata.py:1791: UserWarning: Observation names are not unique. To make them unique, call `.obs_names_make_unique`.\n",
      "  utils.warn_names_duplicates(\"obs\")\n",
      "c:\\Users\\prath\\anaconda-new\\Lib\\site-packages\\anndata\\_core\\anndata.py:1793: UserWarning: Variable names are not unique. To make them unique, call `.var_names_make_unique`.\n",
      "  utils.warn_names_duplicates(\"var\")\n"
     ]
    },
    {
     "name": "stdout",
     "output_type": "stream",
     "text": [
      "GAN - adata_adata_gan_imputed_mf20_run3.h5ad: Mean corr = 0.894 (n_genes=2000)\n"
     ]
    },
    {
     "name": "stderr",
     "output_type": "stream",
     "text": [
      "c:\\Users\\prath\\anaconda-new\\Lib\\site-packages\\anndata\\_core\\anndata.py:1791: UserWarning: Observation names are not unique. To make them unique, call `.obs_names_make_unique`.\n",
      "  utils.warn_names_duplicates(\"obs\")\n",
      "c:\\Users\\prath\\anaconda-new\\Lib\\site-packages\\anndata\\_core\\anndata.py:1793: UserWarning: Variable names are not unique. To make them unique, call `.var_names_make_unique`.\n",
      "  utils.warn_names_duplicates(\"var\")\n"
     ]
    },
    {
     "name": "stdout",
     "output_type": "stream",
     "text": [
      "GAN - adata_adata_gan_imputed_mf20_run4.h5ad: Mean corr = 0.892 (n_genes=2000)\n"
     ]
    },
    {
     "name": "stderr",
     "output_type": "stream",
     "text": [
      "c:\\Users\\prath\\anaconda-new\\Lib\\site-packages\\anndata\\_core\\anndata.py:1791: UserWarning: Observation names are not unique. To make them unique, call `.obs_names_make_unique`.\n",
      "  utils.warn_names_duplicates(\"obs\")\n",
      "c:\\Users\\prath\\anaconda-new\\Lib\\site-packages\\anndata\\_core\\anndata.py:1793: UserWarning: Variable names are not unique. To make them unique, call `.var_names_make_unique`.\n",
      "  utils.warn_names_duplicates(\"var\")\n"
     ]
    },
    {
     "name": "stdout",
     "output_type": "stream",
     "text": [
      "GAN - adata_adata_gan_imputed_mf20_run5.h5ad: Mean corr = 0.893 (n_genes=2000)\n"
     ]
    },
    {
     "name": "stderr",
     "output_type": "stream",
     "text": [
      "c:\\Users\\prath\\anaconda-new\\Lib\\site-packages\\anndata\\_core\\anndata.py:1791: UserWarning: Observation names are not unique. To make them unique, call `.obs_names_make_unique`.\n",
      "  utils.warn_names_duplicates(\"obs\")\n",
      "c:\\Users\\prath\\anaconda-new\\Lib\\site-packages\\anndata\\_core\\anndata.py:1793: UserWarning: Variable names are not unique. To make them unique, call `.var_names_make_unique`.\n",
      "  utils.warn_names_duplicates(\"var\")\n"
     ]
    },
    {
     "name": "stdout",
     "output_type": "stream",
     "text": [
      "GAN - adata_adata_gan_imputed_mf20_run6.h5ad: Mean corr = 0.891 (n_genes=2000)\n"
     ]
    },
    {
     "name": "stderr",
     "output_type": "stream",
     "text": [
      "c:\\Users\\prath\\anaconda-new\\Lib\\site-packages\\anndata\\_core\\anndata.py:1791: UserWarning: Observation names are not unique. To make them unique, call `.obs_names_make_unique`.\n",
      "  utils.warn_names_duplicates(\"obs\")\n",
      "c:\\Users\\prath\\anaconda-new\\Lib\\site-packages\\anndata\\_core\\anndata.py:1793: UserWarning: Variable names are not unique. To make them unique, call `.var_names_make_unique`.\n",
      "  utils.warn_names_duplicates(\"var\")\n"
     ]
    },
    {
     "name": "stdout",
     "output_type": "stream",
     "text": [
      "GAN - adata_adata_gan_imputed_mf20_run7.h5ad: Mean corr = 0.892 (n_genes=2000)\n"
     ]
    },
    {
     "name": "stderr",
     "output_type": "stream",
     "text": [
      "c:\\Users\\prath\\anaconda-new\\Lib\\site-packages\\anndata\\_core\\anndata.py:1791: UserWarning: Observation names are not unique. To make them unique, call `.obs_names_make_unique`.\n",
      "  utils.warn_names_duplicates(\"obs\")\n",
      "c:\\Users\\prath\\anaconda-new\\Lib\\site-packages\\anndata\\_core\\anndata.py:1793: UserWarning: Variable names are not unique. To make them unique, call `.var_names_make_unique`.\n",
      "  utils.warn_names_duplicates(\"var\")\n"
     ]
    },
    {
     "name": "stdout",
     "output_type": "stream",
     "text": [
      "GAN - adata_adata_gan_imputed_mf20_run8.h5ad: Mean corr = 0.890 (n_genes=2000)\n"
     ]
    },
    {
     "name": "stderr",
     "output_type": "stream",
     "text": [
      "c:\\Users\\prath\\anaconda-new\\Lib\\site-packages\\anndata\\_core\\anndata.py:1791: UserWarning: Observation names are not unique. To make them unique, call `.obs_names_make_unique`.\n",
      "  utils.warn_names_duplicates(\"obs\")\n",
      "c:\\Users\\prath\\anaconda-new\\Lib\\site-packages\\anndata\\_core\\anndata.py:1793: UserWarning: Variable names are not unique. To make them unique, call `.var_names_make_unique`.\n",
      "  utils.warn_names_duplicates(\"var\")\n"
     ]
    },
    {
     "name": "stdout",
     "output_type": "stream",
     "text": [
      "GAN - adata_adata_gan_imputed_mf20_run9.h5ad: Mean corr = 0.889 (n_genes=2000)\n"
     ]
    },
    {
     "name": "stderr",
     "output_type": "stream",
     "text": [
      "c:\\Users\\prath\\anaconda-new\\Lib\\site-packages\\anndata\\_core\\anndata.py:1791: UserWarning: Observation names are not unique. To make them unique, call `.obs_names_make_unique`.\n",
      "  utils.warn_names_duplicates(\"obs\")\n",
      "c:\\Users\\prath\\anaconda-new\\Lib\\site-packages\\anndata\\_core\\anndata.py:1793: UserWarning: Variable names are not unique. To make them unique, call `.var_names_make_unique`.\n",
      "  utils.warn_names_duplicates(\"var\")\n"
     ]
    },
    {
     "name": "stdout",
     "output_type": "stream",
     "text": [
      "GAN - adata_adata_gan_imputed_mf30_run1.h5ad: Mean corr = 0.829 (n_genes=2000)\n"
     ]
    },
    {
     "name": "stderr",
     "output_type": "stream",
     "text": [
      "c:\\Users\\prath\\anaconda-new\\Lib\\site-packages\\anndata\\_core\\anndata.py:1791: UserWarning: Observation names are not unique. To make them unique, call `.obs_names_make_unique`.\n",
      "  utils.warn_names_duplicates(\"obs\")\n",
      "c:\\Users\\prath\\anaconda-new\\Lib\\site-packages\\anndata\\_core\\anndata.py:1793: UserWarning: Variable names are not unique. To make them unique, call `.var_names_make_unique`.\n",
      "  utils.warn_names_duplicates(\"var\")\n"
     ]
    },
    {
     "name": "stdout",
     "output_type": "stream",
     "text": [
      "GAN - adata_adata_gan_imputed_mf30_run10.h5ad: Mean corr = 0.826 (n_genes=2000)\n"
     ]
    },
    {
     "name": "stderr",
     "output_type": "stream",
     "text": [
      "c:\\Users\\prath\\anaconda-new\\Lib\\site-packages\\anndata\\_core\\anndata.py:1791: UserWarning: Observation names are not unique. To make them unique, call `.obs_names_make_unique`.\n",
      "  utils.warn_names_duplicates(\"obs\")\n",
      "c:\\Users\\prath\\anaconda-new\\Lib\\site-packages\\anndata\\_core\\anndata.py:1793: UserWarning: Variable names are not unique. To make them unique, call `.var_names_make_unique`.\n",
      "  utils.warn_names_duplicates(\"var\")\n"
     ]
    },
    {
     "name": "stdout",
     "output_type": "stream",
     "text": [
      "GAN - adata_adata_gan_imputed_mf30_run2.h5ad: Mean corr = 0.830 (n_genes=2000)\n"
     ]
    },
    {
     "name": "stderr",
     "output_type": "stream",
     "text": [
      "c:\\Users\\prath\\anaconda-new\\Lib\\site-packages\\anndata\\_core\\anndata.py:1791: UserWarning: Observation names are not unique. To make them unique, call `.obs_names_make_unique`.\n",
      "  utils.warn_names_duplicates(\"obs\")\n",
      "c:\\Users\\prath\\anaconda-new\\Lib\\site-packages\\anndata\\_core\\anndata.py:1793: UserWarning: Variable names are not unique. To make them unique, call `.var_names_make_unique`.\n",
      "  utils.warn_names_duplicates(\"var\")\n"
     ]
    },
    {
     "name": "stdout",
     "output_type": "stream",
     "text": [
      "GAN - adata_adata_gan_imputed_mf30_run3.h5ad: Mean corr = 0.835 (n_genes=2000)\n"
     ]
    },
    {
     "name": "stderr",
     "output_type": "stream",
     "text": [
      "c:\\Users\\prath\\anaconda-new\\Lib\\site-packages\\anndata\\_core\\anndata.py:1791: UserWarning: Observation names are not unique. To make them unique, call `.obs_names_make_unique`.\n",
      "  utils.warn_names_duplicates(\"obs\")\n",
      "c:\\Users\\prath\\anaconda-new\\Lib\\site-packages\\anndata\\_core\\anndata.py:1793: UserWarning: Variable names are not unique. To make them unique, call `.var_names_make_unique`.\n",
      "  utils.warn_names_duplicates(\"var\")\n"
     ]
    },
    {
     "name": "stdout",
     "output_type": "stream",
     "text": [
      "GAN - adata_adata_gan_imputed_mf30_run4.h5ad: Mean corr = 0.834 (n_genes=2000)\n"
     ]
    },
    {
     "name": "stderr",
     "output_type": "stream",
     "text": [
      "c:\\Users\\prath\\anaconda-new\\Lib\\site-packages\\anndata\\_core\\anndata.py:1791: UserWarning: Observation names are not unique. To make them unique, call `.obs_names_make_unique`.\n",
      "  utils.warn_names_duplicates(\"obs\")\n",
      "c:\\Users\\prath\\anaconda-new\\Lib\\site-packages\\anndata\\_core\\anndata.py:1793: UserWarning: Variable names are not unique. To make them unique, call `.var_names_make_unique`.\n",
      "  utils.warn_names_duplicates(\"var\")\n"
     ]
    },
    {
     "name": "stdout",
     "output_type": "stream",
     "text": [
      "GAN - adata_adata_gan_imputed_mf30_run5.h5ad: Mean corr = 0.825 (n_genes=2000)\n"
     ]
    },
    {
     "name": "stderr",
     "output_type": "stream",
     "text": [
      "c:\\Users\\prath\\anaconda-new\\Lib\\site-packages\\anndata\\_core\\anndata.py:1791: UserWarning: Observation names are not unique. To make them unique, call `.obs_names_make_unique`.\n",
      "  utils.warn_names_duplicates(\"obs\")\n",
      "c:\\Users\\prath\\anaconda-new\\Lib\\site-packages\\anndata\\_core\\anndata.py:1793: UserWarning: Variable names are not unique. To make them unique, call `.var_names_make_unique`.\n",
      "  utils.warn_names_duplicates(\"var\")\n"
     ]
    },
    {
     "name": "stdout",
     "output_type": "stream",
     "text": [
      "GAN - adata_adata_gan_imputed_mf30_run6.h5ad: Mean corr = 0.833 (n_genes=2000)\n"
     ]
    },
    {
     "name": "stderr",
     "output_type": "stream",
     "text": [
      "c:\\Users\\prath\\anaconda-new\\Lib\\site-packages\\anndata\\_core\\anndata.py:1791: UserWarning: Observation names are not unique. To make them unique, call `.obs_names_make_unique`.\n",
      "  utils.warn_names_duplicates(\"obs\")\n",
      "c:\\Users\\prath\\anaconda-new\\Lib\\site-packages\\anndata\\_core\\anndata.py:1793: UserWarning: Variable names are not unique. To make them unique, call `.var_names_make_unique`.\n",
      "  utils.warn_names_duplicates(\"var\")\n"
     ]
    },
    {
     "name": "stdout",
     "output_type": "stream",
     "text": [
      "GAN - adata_adata_gan_imputed_mf30_run7.h5ad: Mean corr = 0.832 (n_genes=2000)\n"
     ]
    },
    {
     "name": "stderr",
     "output_type": "stream",
     "text": [
      "c:\\Users\\prath\\anaconda-new\\Lib\\site-packages\\anndata\\_core\\anndata.py:1791: UserWarning: Observation names are not unique. To make them unique, call `.obs_names_make_unique`.\n",
      "  utils.warn_names_duplicates(\"obs\")\n",
      "c:\\Users\\prath\\anaconda-new\\Lib\\site-packages\\anndata\\_core\\anndata.py:1793: UserWarning: Variable names are not unique. To make them unique, call `.var_names_make_unique`.\n",
      "  utils.warn_names_duplicates(\"var\")\n"
     ]
    },
    {
     "name": "stdout",
     "output_type": "stream",
     "text": [
      "GAN - adata_adata_gan_imputed_mf30_run8.h5ad: Mean corr = 0.830 (n_genes=2000)\n"
     ]
    },
    {
     "name": "stderr",
     "output_type": "stream",
     "text": [
      "c:\\Users\\prath\\anaconda-new\\Lib\\site-packages\\anndata\\_core\\anndata.py:1791: UserWarning: Observation names are not unique. To make them unique, call `.obs_names_make_unique`.\n",
      "  utils.warn_names_duplicates(\"obs\")\n",
      "c:\\Users\\prath\\anaconda-new\\Lib\\site-packages\\anndata\\_core\\anndata.py:1793: UserWarning: Variable names are not unique. To make them unique, call `.var_names_make_unique`.\n",
      "  utils.warn_names_duplicates(\"var\")\n"
     ]
    },
    {
     "name": "stdout",
     "output_type": "stream",
     "text": [
      "GAN - adata_adata_gan_imputed_mf30_run9.h5ad: Mean corr = 0.835 (n_genes=2000)\n"
     ]
    },
    {
     "name": "stderr",
     "output_type": "stream",
     "text": [
      "C:\\Users\\prath\\AppData\\Local\\Temp\\ipykernel_18364\\3413768475.py:62: ConstantInputWarning: An input array is constant; the correlation coefficient is not defined.\n",
      "  r, _ = pearsonr(x, y)\n"
     ]
    },
    {
     "name": "stdout",
     "output_type": "stream",
     "text": [
      "Iterative - adata_iterative_imputed_mf10_run1.h5ad: Mean corr = 0.862 (n_genes=2000)\n"
     ]
    },
    {
     "name": "stderr",
     "output_type": "stream",
     "text": [
      "C:\\Users\\prath\\AppData\\Local\\Temp\\ipykernel_18364\\3413768475.py:62: ConstantInputWarning: An input array is constant; the correlation coefficient is not defined.\n",
      "  r, _ = pearsonr(x, y)\n"
     ]
    },
    {
     "name": "stdout",
     "output_type": "stream",
     "text": [
      "Iterative - adata_iterative_imputed_mf10_run10.h5ad: Mean corr = 0.869 (n_genes=2000)\n"
     ]
    },
    {
     "name": "stderr",
     "output_type": "stream",
     "text": [
      "C:\\Users\\prath\\AppData\\Local\\Temp\\ipykernel_18364\\3413768475.py:62: ConstantInputWarning: An input array is constant; the correlation coefficient is not defined.\n",
      "  r, _ = pearsonr(x, y)\n"
     ]
    },
    {
     "name": "stdout",
     "output_type": "stream",
     "text": [
      "Iterative - adata_iterative_imputed_mf10_run2.h5ad: Mean corr = 0.867 (n_genes=2000)\n"
     ]
    },
    {
     "name": "stderr",
     "output_type": "stream",
     "text": [
      "C:\\Users\\prath\\AppData\\Local\\Temp\\ipykernel_18364\\3413768475.py:62: ConstantInputWarning: An input array is constant; the correlation coefficient is not defined.\n",
      "  r, _ = pearsonr(x, y)\n"
     ]
    },
    {
     "name": "stdout",
     "output_type": "stream",
     "text": [
      "Iterative - adata_iterative_imputed_mf10_run3.h5ad: Mean corr = 0.866 (n_genes=2000)\n"
     ]
    },
    {
     "name": "stderr",
     "output_type": "stream",
     "text": [
      "C:\\Users\\prath\\AppData\\Local\\Temp\\ipykernel_18364\\3413768475.py:62: ConstantInputWarning: An input array is constant; the correlation coefficient is not defined.\n",
      "  r, _ = pearsonr(x, y)\n"
     ]
    },
    {
     "name": "stdout",
     "output_type": "stream",
     "text": [
      "Iterative - adata_iterative_imputed_mf10_run4.h5ad: Mean corr = 0.864 (n_genes=2000)\n"
     ]
    },
    {
     "name": "stderr",
     "output_type": "stream",
     "text": [
      "C:\\Users\\prath\\AppData\\Local\\Temp\\ipykernel_18364\\3413768475.py:62: ConstantInputWarning: An input array is constant; the correlation coefficient is not defined.\n",
      "  r, _ = pearsonr(x, y)\n"
     ]
    },
    {
     "name": "stdout",
     "output_type": "stream",
     "text": [
      "Iterative - adata_iterative_imputed_mf10_run5.h5ad: Mean corr = 0.865 (n_genes=2000)\n"
     ]
    },
    {
     "name": "stderr",
     "output_type": "stream",
     "text": [
      "C:\\Users\\prath\\AppData\\Local\\Temp\\ipykernel_18364\\3413768475.py:62: ConstantInputWarning: An input array is constant; the correlation coefficient is not defined.\n",
      "  r, _ = pearsonr(x, y)\n"
     ]
    },
    {
     "name": "stdout",
     "output_type": "stream",
     "text": [
      "Iterative - adata_iterative_imputed_mf10_run6.h5ad: Mean corr = 0.868 (n_genes=2000)\n"
     ]
    },
    {
     "name": "stderr",
     "output_type": "stream",
     "text": [
      "C:\\Users\\prath\\AppData\\Local\\Temp\\ipykernel_18364\\3413768475.py:62: ConstantInputWarning: An input array is constant; the correlation coefficient is not defined.\n",
      "  r, _ = pearsonr(x, y)\n"
     ]
    },
    {
     "name": "stdout",
     "output_type": "stream",
     "text": [
      "Iterative - adata_iterative_imputed_mf10_run7.h5ad: Mean corr = 0.869 (n_genes=2000)\n"
     ]
    },
    {
     "name": "stderr",
     "output_type": "stream",
     "text": [
      "C:\\Users\\prath\\AppData\\Local\\Temp\\ipykernel_18364\\3413768475.py:62: ConstantInputWarning: An input array is constant; the correlation coefficient is not defined.\n",
      "  r, _ = pearsonr(x, y)\n"
     ]
    },
    {
     "name": "stdout",
     "output_type": "stream",
     "text": [
      "Iterative - adata_iterative_imputed_mf10_run8.h5ad: Mean corr = 0.871 (n_genes=2000)\n"
     ]
    },
    {
     "name": "stderr",
     "output_type": "stream",
     "text": [
      "C:\\Users\\prath\\AppData\\Local\\Temp\\ipykernel_18364\\3413768475.py:62: ConstantInputWarning: An input array is constant; the correlation coefficient is not defined.\n",
      "  r, _ = pearsonr(x, y)\n"
     ]
    },
    {
     "name": "stdout",
     "output_type": "stream",
     "text": [
      "Iterative - adata_iterative_imputed_mf10_run9.h5ad: Mean corr = 0.871 (n_genes=2000)\n"
     ]
    },
    {
     "name": "stderr",
     "output_type": "stream",
     "text": [
      "C:\\Users\\prath\\AppData\\Local\\Temp\\ipykernel_18364\\3413768475.py:62: ConstantInputWarning: An input array is constant; the correlation coefficient is not defined.\n",
      "  r, _ = pearsonr(x, y)\n"
     ]
    },
    {
     "name": "stdout",
     "output_type": "stream",
     "text": [
      "Iterative - adata_iterative_imputed_mf20_run1.h5ad: Mean corr = 0.817 (n_genes=2000)\n"
     ]
    },
    {
     "name": "stderr",
     "output_type": "stream",
     "text": [
      "C:\\Users\\prath\\AppData\\Local\\Temp\\ipykernel_18364\\3413768475.py:62: ConstantInputWarning: An input array is constant; the correlation coefficient is not defined.\n",
      "  r, _ = pearsonr(x, y)\n"
     ]
    },
    {
     "name": "stdout",
     "output_type": "stream",
     "text": [
      "Iterative - adata_iterative_imputed_mf20_run10.h5ad: Mean corr = 0.819 (n_genes=2000)\n"
     ]
    },
    {
     "name": "stderr",
     "output_type": "stream",
     "text": [
      "C:\\Users\\prath\\AppData\\Local\\Temp\\ipykernel_18364\\3413768475.py:62: ConstantInputWarning: An input array is constant; the correlation coefficient is not defined.\n",
      "  r, _ = pearsonr(x, y)\n"
     ]
    },
    {
     "name": "stdout",
     "output_type": "stream",
     "text": [
      "Iterative - adata_iterative_imputed_mf20_run2.h5ad: Mean corr = 0.814 (n_genes=2000)\n"
     ]
    },
    {
     "name": "stderr",
     "output_type": "stream",
     "text": [
      "C:\\Users\\prath\\AppData\\Local\\Temp\\ipykernel_18364\\3413768475.py:62: ConstantInputWarning: An input array is constant; the correlation coefficient is not defined.\n",
      "  r, _ = pearsonr(x, y)\n"
     ]
    },
    {
     "name": "stdout",
     "output_type": "stream",
     "text": [
      "Iterative - adata_iterative_imputed_mf20_run3.h5ad: Mean corr = 0.818 (n_genes=2000)\n"
     ]
    },
    {
     "name": "stderr",
     "output_type": "stream",
     "text": [
      "C:\\Users\\prath\\AppData\\Local\\Temp\\ipykernel_18364\\3413768475.py:62: ConstantInputWarning: An input array is constant; the correlation coefficient is not defined.\n",
      "  r, _ = pearsonr(x, y)\n"
     ]
    },
    {
     "name": "stdout",
     "output_type": "stream",
     "text": [
      "Iterative - adata_iterative_imputed_mf20_run4.h5ad: Mean corr = 0.814 (n_genes=2000)\n"
     ]
    },
    {
     "name": "stderr",
     "output_type": "stream",
     "text": [
      "C:\\Users\\prath\\AppData\\Local\\Temp\\ipykernel_18364\\3413768475.py:62: ConstantInputWarning: An input array is constant; the correlation coefficient is not defined.\n",
      "  r, _ = pearsonr(x, y)\n"
     ]
    },
    {
     "name": "stdout",
     "output_type": "stream",
     "text": [
      "Iterative - adata_iterative_imputed_mf20_run5.h5ad: Mean corr = 0.816 (n_genes=2000)\n"
     ]
    },
    {
     "name": "stderr",
     "output_type": "stream",
     "text": [
      "C:\\Users\\prath\\AppData\\Local\\Temp\\ipykernel_18364\\3413768475.py:62: ConstantInputWarning: An input array is constant; the correlation coefficient is not defined.\n",
      "  r, _ = pearsonr(x, y)\n"
     ]
    },
    {
     "name": "stdout",
     "output_type": "stream",
     "text": [
      "Iterative - adata_iterative_imputed_mf20_run6.h5ad: Mean corr = 0.814 (n_genes=2000)\n"
     ]
    },
    {
     "name": "stderr",
     "output_type": "stream",
     "text": [
      "C:\\Users\\prath\\AppData\\Local\\Temp\\ipykernel_18364\\3413768475.py:62: ConstantInputWarning: An input array is constant; the correlation coefficient is not defined.\n",
      "  r, _ = pearsonr(x, y)\n"
     ]
    },
    {
     "name": "stdout",
     "output_type": "stream",
     "text": [
      "Iterative - adata_iterative_imputed_mf20_run7.h5ad: Mean corr = 0.815 (n_genes=2000)\n"
     ]
    },
    {
     "name": "stderr",
     "output_type": "stream",
     "text": [
      "C:\\Users\\prath\\AppData\\Local\\Temp\\ipykernel_18364\\3413768475.py:62: ConstantInputWarning: An input array is constant; the correlation coefficient is not defined.\n",
      "  r, _ = pearsonr(x, y)\n"
     ]
    },
    {
     "name": "stdout",
     "output_type": "stream",
     "text": [
      "Iterative - adata_iterative_imputed_mf20_run8.h5ad: Mean corr = 0.813 (n_genes=2000)\n"
     ]
    },
    {
     "name": "stderr",
     "output_type": "stream",
     "text": [
      "C:\\Users\\prath\\AppData\\Local\\Temp\\ipykernel_18364\\3413768475.py:62: ConstantInputWarning: An input array is constant; the correlation coefficient is not defined.\n",
      "  r, _ = pearsonr(x, y)\n"
     ]
    },
    {
     "name": "stdout",
     "output_type": "stream",
     "text": [
      "Iterative - adata_iterative_imputed_mf20_run9.h5ad: Mean corr = 0.813 (n_genes=2000)\n",
      "Iterative - adata_iterative_imputed_mf30_run1.h5ad: Mean corr = 0.757 (n_genes=2000)\n",
      "Iterative - adata_iterative_imputed_mf30_run10.h5ad: Mean corr = 0.756 (n_genes=2000)\n",
      "Iterative - adata_iterative_imputed_mf30_run2.h5ad: Mean corr = 0.757 (n_genes=2000)\n"
     ]
    },
    {
     "name": "stderr",
     "output_type": "stream",
     "text": [
      "C:\\Users\\prath\\AppData\\Local\\Temp\\ipykernel_18364\\3413768475.py:62: ConstantInputWarning: An input array is constant; the correlation coefficient is not defined.\n",
      "  r, _ = pearsonr(x, y)\n"
     ]
    },
    {
     "name": "stdout",
     "output_type": "stream",
     "text": [
      "Iterative - adata_iterative_imputed_mf30_run3.h5ad: Mean corr = 0.764 (n_genes=2000)\n"
     ]
    },
    {
     "name": "stderr",
     "output_type": "stream",
     "text": [
      "C:\\Users\\prath\\AppData\\Local\\Temp\\ipykernel_18364\\3413768475.py:62: ConstantInputWarning: An input array is constant; the correlation coefficient is not defined.\n",
      "  r, _ = pearsonr(x, y)\n"
     ]
    },
    {
     "name": "stdout",
     "output_type": "stream",
     "text": [
      "Iterative - adata_iterative_imputed_mf30_run4.h5ad: Mean corr = 0.763 (n_genes=2000)\n",
      "Iterative - adata_iterative_imputed_mf30_run5.h5ad: Mean corr = 0.752 (n_genes=2000)\n",
      "Iterative - adata_iterative_imputed_mf30_run6.h5ad: Mean corr = 0.759 (n_genes=2000)\n",
      "Iterative - adata_iterative_imputed_mf30_run7.h5ad: Mean corr = 0.760 (n_genes=2000)\n",
      "Iterative - adata_iterative_imputed_mf30_run8.h5ad: Mean corr = 0.758 (n_genes=2000)\n",
      "Iterative - adata_iterative_imputed_mf30_run9.h5ad: Mean corr = 0.762 (n_genes=2000)\n"
     ]
    },
    {
     "data": {
      "image/png": "[encoded data removed]",
      "text/plain": [
       "<Figure size 1000x600 with 1 Axes>"
      ]
     },
     "metadata": {},
     "output_type": "display_data"
    }
   ],
   "source": [
    "import scanpy as sc\n",
    "import pandas as pd\n",
    "import numpy as np\n",
    "import os\n",
    "import seaborn as sns\n",
    "import matplotlib.pyplot as plt\n",
    "from scipy.stats import pearsonr, spearmanr\n",
    "\n",
    "# -----------------------------\n",
    "# Settings\n",
    "# -----------------------------\n",
    "sc.settings.verbosity = 0\n",
    "sns.set(style=\"whitegrid\")\n",
    "\n",
    "ground_truth_path = \"Data/adata_raw_qc.h5ad\"\n",
    "\n",
    "# Folders for each method\n",
    "imputed_dirs = {\n",
    "    \"SoftImpute\": \"imputed_softimpute\",\n",
    "    \"MAGIC\": \"imputed_h5ad\",\n",
    "    \"KNN\": \"imputed_knn\",\n",
    "    \"Mean\": \"imputed_mean\",\n",
    "    \"GAN\": \"imputed_gan\",\n",
    "    \"Iterative\": \"imputed_iterative\"\n",
    "}\n",
    "\n",
    "# -----------------------------\n",
    "# Helper: Ensure dense float32 arrays\n",
    "# -----------------------------\n",
    "def to_dense_array(X):\n",
    "    \"\"\"Convert sparse or matrix-like to a dense float32 numpy array.\"\"\"\n",
    "    if hasattr(X, \"toarray\"):  # for csr_matrix, csc_matrix\n",
    "        X = X.toarray()\n",
    "    elif hasattr(X, \"A\"):      # for np.matrix\n",
    "        X = X.A\n",
    "    return np.array(X, dtype=np.float32)\n",
    "\n",
    "# -----------------------------\n",
    "# Load ground truth\n",
    "# -----------------------------\n",
    "print(\" Preprocessing ground truth...\")\n",
    "adata_gt = sc.read_h5ad(ground_truth_path)\n",
    "adata_gt.var_names_make_unique()\n",
    "adata_gt.obs_names_make_unique()\n",
    "adata_gt.X = np.nan_to_num(to_dense_array(adata_gt.X),\n",
    "                           nan=0.0, posinf=0.0, neginf=0.0)\n",
    "\n",
    "# -----------------------------\n",
    "# Helper: Gene-wise correlation\n",
    "# -----------------------------\n",
    "def compute_gene_corr(X_gt, X_imp, gene_names):\n",
    "    corrs = []\n",
    "    for i, g in enumerate(gene_names):\n",
    "        x = X_gt[:, i]\n",
    "        y = X_imp[:, i]\n",
    "\n",
    "        # Skip constant genes\n",
    "        if np.std(x) < 1e-8 or np.std(y) < 1e-8:\n",
    "            continue\n",
    "\n",
    "        try:\n",
    "            r, _ = pearsonr(x, y)\n",
    "        except Exception:\n",
    "            r, _ = spearmanr(x, y)\n",
    "\n",
    "        if np.isfinite(r):\n",
    "            corrs.append(r)\n",
    "\n",
    "    if len(corrs) == 0:\n",
    "        return np.nan\n",
    "    return np.nanmean(corrs)\n",
    "\n",
    "# -----------------------------\n",
    "# Evaluate all methods\n",
    "# -----------------------------\n",
    "results = []\n",
    "\n",
    "for method, imputed_dir in imputed_dirs.items():\n",
    "    if not os.path.exists(imputed_dir):\n",
    "        print(f\"⚠️ Skipping {method}, folder not found: {imputed_dir}\")\n",
    "        continue\n",
    "\n",
    "    for fname in os.listdir(imputed_dir):\n",
    "        if not fname.endswith(\".h5ad\"):\n",
    "            continue\n",
    "\n",
    "        fpath = os.path.join(imputed_dir, fname)\n",
    "        try:\n",
    "            adata_imp = sc.read_h5ad(fpath)\n",
    "            adata_imp.var_names_make_unique()\n",
    "            adata_imp.obs_names_make_unique()\n",
    "            adata_imp.X = np.nan_to_num(to_dense_array(adata_imp.X),\n",
    "                                        nan=0.0, posinf=0.0, neginf=0.0)\n",
    "\n",
    "            # Align genes properly\n",
    "            common_genes = adata_gt.var_names.intersection(adata_imp.var_names)\n",
    "\n",
    "            if len(common_genes) == 0:\n",
    "                print(f\"⚠️ No common genes for {method} - {fname}. Skipping.\")\n",
    "                continue\n",
    "\n",
    "            # Force same order of genes\n",
    "            adata_gt_sub = adata_gt[:, common_genes].copy()\n",
    "            adata_imp_sub = adata_imp[:, common_genes].copy()\n",
    "\n",
    "            X_gt_sub = to_dense_array(adata_gt_sub.X)\n",
    "            X_imp_sub = to_dense_array(adata_imp_sub.X)\n",
    "\n",
    "            # Debugging: check shape match\n",
    "            if X_gt_sub.shape != X_imp_sub.shape:\n",
    "                print(f\"⚠️ Shape mismatch for {method} - {fname}: {X_gt_sub.shape} vs {X_imp_sub.shape}\")\n",
    "                continue\n",
    "\n",
    "            # Compute correlation\n",
    "            mean_corr = compute_gene_corr(X_gt_sub, X_imp_sub, adata_gt_sub.var_names)\n",
    "\n",
    "            # Parse metadata (mfXX, runX)\n",
    "            mf, run = None, None\n",
    "            for part in fname.split(\"_\"):\n",
    "                if part.startswith(\"mf\"):\n",
    "                    mf = float(part.replace(\"mf\", \"\").replace(\".h5ad\", \"\")) / 100\n",
    "                if part.startswith(\"run\"):\n",
    "                    run = int(part.replace(\"run\", \"\").replace(\".h5ad\", \"\"))\n",
    "\n",
    "            results.append({\n",
    "                \"file\": fname,\n",
    "                \"method\": method,\n",
    "                \"MeanGeneCorr\": mean_corr,\n",
    "                \"missing_fraction\": mf,\n",
    "                \"run\": run\n",
    "            })\n",
    "\n",
    "            print(f\"{method} - {fname}: Mean corr = {mean_corr:.3f} \"\n",
    "                  f\"(n_genes={len(common_genes)})\")\n",
    "\n",
    "        except Exception as e:\n",
    "            print(f\"❌ Error with {method} - {fname}: {e}\")\n",
    "\n",
    "# -----------------------------\n",
    "# Results → DataFrame\n",
    "# -----------------------------\n",
    "results_df = pd.DataFrame(results)\n",
    "\n",
    "if results_df.empty:\n",
    "    raise ValueError(\"No correlations computed. Check your imputed files and pipeline.\")\n",
    "\n",
    "results_df = results_df.dropna(subset=[\"MeanGeneCorr\", \"missing_fraction\"])\n",
    "results_df[\"missing_fraction\"] = results_df[\"missing_fraction\"].astype(float)\n",
    "\n",
    "# -----------------------------\n",
    "# Plot\n",
    "# -----------------------------\n",
    "plt.figure(figsize=(10, 6))\n",
    "sns.barplot(\n",
    "    data=results_df,\n",
    "    x=\"missing_fraction\",\n",
    "    y=\"MeanGeneCorr\",\n",
    "    hue=\"method\",\n",
    "    errorbar=\"sd\",\n",
    "    capsize=0.1,\n",
    "    palette=\"Set2\"\n",
    ")\n",
    "plt.title(\"Gene-wise Correlation across Missing Fractions (All Methods)\")\n",
    "plt.ylabel(\"Mean Gene-wise Correlation\")\n",
    "plt.xlabel(\"Missing Fraction\")\n",
    "plt.legend(title=\"Method\")\n",
    "plt.show()\n"
   ]
  },
  {
   "cell_type": "code",
   "execution_count": null,
   "id": "85fcdc2e",
   "metadata": {},
   "outputs": [],
   "source": []
  }
 ],
 "metadata": {
  "kernelspec": {
   "display_name": "base",
   "language": "python",
   "name": "python3"
  },
  "language_info": {
   "codemirror_mode": {
    "name": "ipython",
    "version": 3
   },
   "file_extension": ".py",
   "mimetype": "text/x-python",
   "name": "python",
   "nbconvert_exporter": "python",
   "pygments_lexer": "ipython3",
   "version": "3.12.4"
  }
 },
 "nbformat": 4,
 "nbformat_minor": 5
}
